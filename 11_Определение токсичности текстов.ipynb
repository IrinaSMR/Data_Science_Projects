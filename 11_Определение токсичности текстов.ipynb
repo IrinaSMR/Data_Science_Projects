{
 "cells": [
  {
   "cell_type": "markdown",
   "metadata": {
    "toc": true
   },
   "source": [
    "<h1>Содержание<span class=\"tocSkip\"></span></h1>\n",
    "<div class=\"toc\"><ul class=\"toc-item\"><li><span><a href=\"#Знакомство-с-данными\" data-toc-modified-id=\"Знакомство-с-данными-1\"><span class=\"toc-item-num\">1&nbsp;&nbsp;</span>Знакомство с данными</a></span></li><li><span><a href=\"#Подготовка\" data-toc-modified-id=\"Подготовка-2\"><span class=\"toc-item-num\">2&nbsp;&nbsp;</span>Подготовка</a></span></li><li><span><a href=\"#Обучение\" data-toc-modified-id=\"Обучение-3\"><span class=\"toc-item-num\">3&nbsp;&nbsp;</span>Обучение</a></span><ul class=\"toc-item\"><li><span><a href=\"#LogisticRegression()\" data-toc-modified-id=\"LogisticRegression()-3.1\"><span class=\"toc-item-num\">3.1&nbsp;&nbsp;</span>LogisticRegression()</a></span></li><li><span><a href=\"#DecisionTreeClassifier()\" data-toc-modified-id=\"DecisionTreeClassifier()-3.2\"><span class=\"toc-item-num\">3.2&nbsp;&nbsp;</span>DecisionTreeClassifier()</a></span></li><li><span><a href=\"#LGBMClassifier()\" data-toc-modified-id=\"LGBMClassifier()-3.3\"><span class=\"toc-item-num\">3.3&nbsp;&nbsp;</span>LGBMClassifier()</a></span></li></ul></li><li><span><a href=\"#Выводы\" data-toc-modified-id=\"Выводы-4\"><span class=\"toc-item-num\">4&nbsp;&nbsp;</span>Выводы</a></span></li><li><span><a href=\"#Чек-лист-проверки\" data-toc-modified-id=\"Чек-лист-проверки-5\"><span class=\"toc-item-num\">5&nbsp;&nbsp;</span>Чек-лист проверки</a></span></li></ul></div>"
   ]
  },
  {
   "cell_type": "markdown",
   "metadata": {},
   "source": [
    "# Проект для «Викишоп»"
   ]
  },
  {
   "cell_type": "markdown",
   "metadata": {},
   "source": [
    "Интернет-магазин «Викишоп» запускает новый сервис. Теперь пользователи могут редактировать и дополнять описания товаров, как в вики-сообществах. То есть клиенты предлагают свои правки и комментируют изменения других. Магазину нужен инструмент, который будет искать токсичные комментарии и отправлять их на модерацию. \n",
    "\n",
    "Требуется обучить модель классифицировать комментарии на позитивные и негативные. В нашем распоряжении набор данных с разметкой о токсичности правок.\n",
    "\n",
    "Построенная модель должна иметь значение метрики качества *F1* не меньше 0.75. \n",
    "\n",
    "**Инструкция по выполнению проекта**\n",
    "\n",
    "1. Загрузить и подготовить данные.\n",
    "2. Обучить разные модели. \n",
    "3. Сделать выводы.\n",
    "\n",
    "Для выполнения проекта применять *BERT* необязательно.\n",
    "\n",
    "**Описание данных**\n",
    "\n",
    "Данные находятся в файле `toxic_comments.csv`. Столбец *text* в нём содержит текст комментария, а *toxic* — целевой признак."
   ]
  },
  {
   "cell_type": "markdown",
   "metadata": {},
   "source": [
    "## Знакомство с данными"
   ]
  },
  {
   "cell_type": "markdown",
   "metadata": {},
   "source": [
    "Импортируем необходимые для работы библиотеки."
   ]
  },
  {
   "cell_type": "code",
   "execution_count": 1,
   "metadata": {},
   "outputs": [
    {
     "name": "stderr",
     "output_type": "stream",
     "text": [
      "/opt/conda/lib/python3.9/site-packages/scipy/__init__.py:155: UserWarning: A NumPy version >=1.18.5 and <1.25.0 is required for this version of SciPy (detected version 1.26.4\n",
      "  warnings.warn(f\"A NumPy version >={np_minversion} and <{np_maxversion}\"\n",
      "/opt/conda/lib/python3.9/site-packages/dask/dataframe/_pyarrow_compat.py:23: UserWarning: You are using pyarrow version 5.0.0 which is known to be insecure. See https://www.cve.org/CVERecord?id=CVE-2023-47248 for further details. Please upgrade to pyarrow>=14.0.1 or install pyarrow-hotfix to patch your current version.\n",
      "  warnings.warn(\n",
      "[nltk_data] Downloading package averaged_perceptron_tagger to\n",
      "[nltk_data]     /home/jovyan/nltk_data...\n",
      "[nltk_data]   Package averaged_perceptron_tagger is already up-to-\n",
      "[nltk_data]       date!\n"
     ]
    }
   ],
   "source": [
    "import numpy as np\n",
    "import pandas as pd\n",
    "import seaborn as sns\n",
    "import matplotlib.pyplot as plt\n",
    "import re\n",
    "\n",
    "import nltk\n",
    "from nltk.tokenize import RegexpTokenizer\n",
    "from nltk.corpus import stopwords as nltk_stopwords\n",
    "from nltk.corpus import wordnet\n",
    "from nltk.stem import WordNetLemmatizer\n",
    "\n",
    "from sklearn.model_selection import train_test_split, cross_val_score, GridSearchCV\n",
    "from sklearn.feature_extraction.text import TfidfVectorizer\n",
    "from sklearn.metrics import f1_score\n",
    "from sklearn.utils import resample, shuffle\n",
    "from sklearn.linear_model import LogisticRegression\n",
    "from sklearn.tree import DecisionTreeClassifier\n",
    "\n",
    "from lightgbm import LGBMClassifier\n",
    "\n",
    "nltk.download('averaged_perceptron_tagger')\n",
    "\n",
    "RANDOM_STATE=42\n",
    "\n",
    "import warnings\n",
    "warnings.filterwarnings('ignore')"
   ]
  },
  {
   "cell_type": "markdown",
   "metadata": {},
   "source": [
    "Загрузим датафрейм и сохраним его в переменную. Познакомимся с данными."
   ]
  },
  {
   "cell_type": "code",
   "execution_count": 2,
   "metadata": {},
   "outputs": [],
   "source": [
    "data = pd.read_csv('/datasets/toxic_comments.csv')"
   ]
  },
  {
   "cell_type": "code",
   "execution_count": 3,
   "metadata": {},
   "outputs": [
    {
     "data": {
      "text/html": [
       "<div>\n",
       "<style scoped>\n",
       "    .dataframe tbody tr th:only-of-type {\n",
       "        vertical-align: middle;\n",
       "    }\n",
       "\n",
       "    .dataframe tbody tr th {\n",
       "        vertical-align: top;\n",
       "    }\n",
       "\n",
       "    .dataframe thead th {\n",
       "        text-align: right;\n",
       "    }\n",
       "</style>\n",
       "<table border=\"1\" class=\"dataframe\">\n",
       "  <thead>\n",
       "    <tr style=\"text-align: right;\">\n",
       "      <th></th>\n",
       "      <th>Unnamed: 0</th>\n",
       "      <th>text</th>\n",
       "      <th>toxic</th>\n",
       "    </tr>\n",
       "  </thead>\n",
       "  <tbody>\n",
       "    <tr>\n",
       "      <th>0</th>\n",
       "      <td>0</td>\n",
       "      <td>Explanation\\nWhy the edits made under my usern...</td>\n",
       "      <td>0</td>\n",
       "    </tr>\n",
       "    <tr>\n",
       "      <th>1</th>\n",
       "      <td>1</td>\n",
       "      <td>D'aww! He matches this background colour I'm s...</td>\n",
       "      <td>0</td>\n",
       "    </tr>\n",
       "    <tr>\n",
       "      <th>2</th>\n",
       "      <td>2</td>\n",
       "      <td>Hey man, I'm really not trying to edit war. It...</td>\n",
       "      <td>0</td>\n",
       "    </tr>\n",
       "    <tr>\n",
       "      <th>3</th>\n",
       "      <td>3</td>\n",
       "      <td>\"\\nMore\\nI can't make any real suggestions on ...</td>\n",
       "      <td>0</td>\n",
       "    </tr>\n",
       "    <tr>\n",
       "      <th>4</th>\n",
       "      <td>4</td>\n",
       "      <td>You, sir, are my hero. Any chance you remember...</td>\n",
       "      <td>0</td>\n",
       "    </tr>\n",
       "    <tr>\n",
       "      <th>5</th>\n",
       "      <td>5</td>\n",
       "      <td>\"\\n\\nCongratulations from me as well, use the ...</td>\n",
       "      <td>0</td>\n",
       "    </tr>\n",
       "    <tr>\n",
       "      <th>6</th>\n",
       "      <td>6</td>\n",
       "      <td>COCKSUCKER BEFORE YOU PISS AROUND ON MY WORK</td>\n",
       "      <td>1</td>\n",
       "    </tr>\n",
       "    <tr>\n",
       "      <th>7</th>\n",
       "      <td>7</td>\n",
       "      <td>Your vandalism to the Matt Shirvington article...</td>\n",
       "      <td>0</td>\n",
       "    </tr>\n",
       "    <tr>\n",
       "      <th>8</th>\n",
       "      <td>8</td>\n",
       "      <td>Sorry if the word 'nonsense' was offensive to ...</td>\n",
       "      <td>0</td>\n",
       "    </tr>\n",
       "    <tr>\n",
       "      <th>9</th>\n",
       "      <td>9</td>\n",
       "      <td>alignment on this subject and which are contra...</td>\n",
       "      <td>0</td>\n",
       "    </tr>\n",
       "  </tbody>\n",
       "</table>\n",
       "</div>"
      ],
      "text/plain": [
       "   Unnamed: 0                                               text  toxic\n",
       "0           0  Explanation\\nWhy the edits made under my usern...      0\n",
       "1           1  D'aww! He matches this background colour I'm s...      0\n",
       "2           2  Hey man, I'm really not trying to edit war. It...      0\n",
       "3           3  \"\\nMore\\nI can't make any real suggestions on ...      0\n",
       "4           4  You, sir, are my hero. Any chance you remember...      0\n",
       "5           5  \"\\n\\nCongratulations from me as well, use the ...      0\n",
       "6           6       COCKSUCKER BEFORE YOU PISS AROUND ON MY WORK      1\n",
       "7           7  Your vandalism to the Matt Shirvington article...      0\n",
       "8           8  Sorry if the word 'nonsense' was offensive to ...      0\n",
       "9           9  alignment on this subject and which are contra...      0"
      ]
     },
     "execution_count": 3,
     "metadata": {},
     "output_type": "execute_result"
    }
   ],
   "source": [
    "# просмотрим первые строки датафрейма\n",
    "data.head(10)"
   ]
  },
  {
   "cell_type": "code",
   "execution_count": 4,
   "metadata": {},
   "outputs": [
    {
     "name": "stdout",
     "output_type": "stream",
     "text": [
      "<class 'pandas.core.frame.DataFrame'>\n",
      "RangeIndex: 159292 entries, 0 to 159291\n",
      "Data columns (total 3 columns):\n",
      " #   Column      Non-Null Count   Dtype \n",
      "---  ------      --------------   ----- \n",
      " 0   Unnamed: 0  159292 non-null  int64 \n",
      " 1   text        159292 non-null  object\n",
      " 2   toxic       159292 non-null  int64 \n",
      "dtypes: int64(2), object(1)\n",
      "memory usage: 3.6+ MB\n"
     ]
    }
   ],
   "source": [
    "# посмотрим общую информацию о датафрейме\n",
    "data.info()"
   ]
  },
  {
   "cell_type": "markdown",
   "metadata": {},
   "source": [
    "Пропусков в предоставленном датафрейме нет, а тип данных столбцов соответствует содержимому."
   ]
  },
  {
   "cell_type": "code",
   "execution_count": 5,
   "metadata": {},
   "outputs": [
    {
     "data": {
      "text/plain": [
       "0"
      ]
     },
     "execution_count": 5,
     "metadata": {},
     "output_type": "execute_result"
    }
   ],
   "source": [
    "# проверим наличие явных дубликатов\n",
    "data.duplicated().sum()"
   ]
  },
  {
   "cell_type": "markdown",
   "metadata": {},
   "source": [
    "Явные дубликаты отсутствуют."
   ]
  },
  {
   "cell_type": "code",
   "execution_count": 6,
   "metadata": {},
   "outputs": [
    {
     "data": {
      "text/plain": [
       "toxic\n",
       "0    0.898388\n",
       "1    0.101612\n",
       "Name: proportion, dtype: float64"
      ]
     },
     "execution_count": 6,
     "metadata": {},
     "output_type": "execute_result"
    }
   ],
   "source": [
    "# проверим соотношение позитивных и негативных комментариев в целевом признаке\n",
    "data.toxic.value_counts(normalize=True)"
   ]
  },
  {
   "cell_type": "markdown",
   "metadata": {},
   "source": [
    "В столбце целевого признака прослеживается существенный дисбаланс классов."
   ]
  },
  {
   "cell_type": "markdown",
   "metadata": {},
   "source": [
    "**Вывод**\n",
    "\n",
    "В предоставленном датафрейме `159292` объекта. Пропусков нет, явных дубликатов также нет. Следует удалить неинформативный столбец `Unnamed: 0`, поскольку в нем просто дублируются индексы. Тексты комментариев на английском языке, судя по первым строкам, есть лишние символы (например, `\"\\nMore\\n`, `\"\\n\\nCongratulations`), некторые комментарии написаны в верхнем регистре. Мы обнаружили дисбаланс классов: в столбце целевого признака практически `90 %` объектов класса `0` и только `10 %` класса `1`. С этим нужно будет поработать при подготовке данных."
   ]
  },
  {
   "cell_type": "markdown",
   "metadata": {},
   "source": [
    "## Подготовка"
   ]
  },
  {
   "cell_type": "markdown",
   "metadata": {},
   "source": [
    "Для начала удалим неинформативный столбец `Unnamed: 0`."
   ]
  },
  {
   "cell_type": "code",
   "execution_count": 7,
   "metadata": {},
   "outputs": [],
   "source": [
    "data = data.drop(['Unnamed: 0'], axis=1)"
   ]
  },
  {
   "cell_type": "code",
   "execution_count": 8,
   "metadata": {},
   "outputs": [
    {
     "data": {
      "text/html": [
       "<div>\n",
       "<style scoped>\n",
       "    .dataframe tbody tr th:only-of-type {\n",
       "        vertical-align: middle;\n",
       "    }\n",
       "\n",
       "    .dataframe tbody tr th {\n",
       "        vertical-align: top;\n",
       "    }\n",
       "\n",
       "    .dataframe thead th {\n",
       "        text-align: right;\n",
       "    }\n",
       "</style>\n",
       "<table border=\"1\" class=\"dataframe\">\n",
       "  <thead>\n",
       "    <tr style=\"text-align: right;\">\n",
       "      <th></th>\n",
       "      <th>text</th>\n",
       "      <th>toxic</th>\n",
       "    </tr>\n",
       "  </thead>\n",
       "  <tbody>\n",
       "    <tr>\n",
       "      <th>0</th>\n",
       "      <td>Explanation\\nWhy the edits made under my usern...</td>\n",
       "      <td>0</td>\n",
       "    </tr>\n",
       "    <tr>\n",
       "      <th>1</th>\n",
       "      <td>D'aww! He matches this background colour I'm s...</td>\n",
       "      <td>0</td>\n",
       "    </tr>\n",
       "    <tr>\n",
       "      <th>2</th>\n",
       "      <td>Hey man, I'm really not trying to edit war. It...</td>\n",
       "      <td>0</td>\n",
       "    </tr>\n",
       "    <tr>\n",
       "      <th>3</th>\n",
       "      <td>\"\\nMore\\nI can't make any real suggestions on ...</td>\n",
       "      <td>0</td>\n",
       "    </tr>\n",
       "    <tr>\n",
       "      <th>4</th>\n",
       "      <td>You, sir, are my hero. Any chance you remember...</td>\n",
       "      <td>0</td>\n",
       "    </tr>\n",
       "  </tbody>\n",
       "</table>\n",
       "</div>"
      ],
      "text/plain": [
       "                                                text  toxic\n",
       "0  Explanation\\nWhy the edits made under my usern...      0\n",
       "1  D'aww! He matches this background colour I'm s...      0\n",
       "2  Hey man, I'm really not trying to edit war. It...      0\n",
       "3  \"\\nMore\\nI can't make any real suggestions on ...      0\n",
       "4  You, sir, are my hero. Any chance you remember...      0"
      ]
     },
     "execution_count": 8,
     "metadata": {},
     "output_type": "execute_result"
    }
   ],
   "source": [
    "# проверим, что получилось\n",
    "data.head()"
   ]
  },
  {
   "cell_type": "markdown",
   "metadata": {},
   "source": [
    "Столбец успешно удален."
   ]
  },
  {
   "cell_type": "markdown",
   "metadata": {},
   "source": [
    "Теперь выполним очистку текстов комментариев. Для этого напишем функцию."
   ]
  },
  {
   "cell_type": "code",
   "execution_count": 9,
   "metadata": {},
   "outputs": [],
   "source": [
    "def clear_text(text):\n",
    "    text = text.lower()\n",
    "    text = re.sub(r'[^a-zA-Z]', ' ', text)   \n",
    "    text = ' '.join(text.split())\n",
    "    return text"
   ]
  },
  {
   "cell_type": "markdown",
   "metadata": {},
   "source": [
    "Применим функцию и очистим комментарии."
   ]
  },
  {
   "cell_type": "code",
   "execution_count": 10,
   "metadata": {},
   "outputs": [],
   "source": [
    "data['text'] = data['text'].apply(clear_text)"
   ]
  },
  {
   "cell_type": "code",
   "execution_count": 11,
   "metadata": {},
   "outputs": [
    {
     "data": {
      "text/html": [
       "<div>\n",
       "<style scoped>\n",
       "    .dataframe tbody tr th:only-of-type {\n",
       "        vertical-align: middle;\n",
       "    }\n",
       "\n",
       "    .dataframe tbody tr th {\n",
       "        vertical-align: top;\n",
       "    }\n",
       "\n",
       "    .dataframe thead th {\n",
       "        text-align: right;\n",
       "    }\n",
       "</style>\n",
       "<table border=\"1\" class=\"dataframe\">\n",
       "  <thead>\n",
       "    <tr style=\"text-align: right;\">\n",
       "      <th></th>\n",
       "      <th>text</th>\n",
       "      <th>toxic</th>\n",
       "    </tr>\n",
       "  </thead>\n",
       "  <tbody>\n",
       "    <tr>\n",
       "      <th>0</th>\n",
       "      <td>explanation why the edits made under my userna...</td>\n",
       "      <td>0</td>\n",
       "    </tr>\n",
       "    <tr>\n",
       "      <th>1</th>\n",
       "      <td>d aww he matches this background colour i m se...</td>\n",
       "      <td>0</td>\n",
       "    </tr>\n",
       "    <tr>\n",
       "      <th>2</th>\n",
       "      <td>hey man i m really not trying to edit war it s...</td>\n",
       "      <td>0</td>\n",
       "    </tr>\n",
       "    <tr>\n",
       "      <th>3</th>\n",
       "      <td>more i can t make any real suggestions on impr...</td>\n",
       "      <td>0</td>\n",
       "    </tr>\n",
       "    <tr>\n",
       "      <th>4</th>\n",
       "      <td>you sir are my hero any chance you remember wh...</td>\n",
       "      <td>0</td>\n",
       "    </tr>\n",
       "    <tr>\n",
       "      <th>5</th>\n",
       "      <td>congratulations from me as well use the tools ...</td>\n",
       "      <td>0</td>\n",
       "    </tr>\n",
       "    <tr>\n",
       "      <th>6</th>\n",
       "      <td>cocksucker before you piss around on my work</td>\n",
       "      <td>1</td>\n",
       "    </tr>\n",
       "    <tr>\n",
       "      <th>7</th>\n",
       "      <td>your vandalism to the matt shirvington article...</td>\n",
       "      <td>0</td>\n",
       "    </tr>\n",
       "    <tr>\n",
       "      <th>8</th>\n",
       "      <td>sorry if the word nonsense was offensive to yo...</td>\n",
       "      <td>0</td>\n",
       "    </tr>\n",
       "    <tr>\n",
       "      <th>9</th>\n",
       "      <td>alignment on this subject and which are contra...</td>\n",
       "      <td>0</td>\n",
       "    </tr>\n",
       "  </tbody>\n",
       "</table>\n",
       "</div>"
      ],
      "text/plain": [
       "                                                text  toxic\n",
       "0  explanation why the edits made under my userna...      0\n",
       "1  d aww he matches this background colour i m se...      0\n",
       "2  hey man i m really not trying to edit war it s...      0\n",
       "3  more i can t make any real suggestions on impr...      0\n",
       "4  you sir are my hero any chance you remember wh...      0\n",
       "5  congratulations from me as well use the tools ...      0\n",
       "6       cocksucker before you piss around on my work      1\n",
       "7  your vandalism to the matt shirvington article...      0\n",
       "8  sorry if the word nonsense was offensive to yo...      0\n",
       "9  alignment on this subject and which are contra...      0"
      ]
     },
     "execution_count": 11,
     "metadata": {},
     "output_type": "execute_result"
    }
   ],
   "source": [
    "# посмотрим, что получилось\n",
    "data.head(10)"
   ]
  },
  {
   "cell_type": "markdown",
   "metadata": {},
   "source": [
    "Судя по первым строкам датафрейма, очистка прошла успешно."
   ]
  },
  {
   "cell_type": "markdown",
   "metadata": {},
   "source": [
    "Теперь выполним токенизацию, удалим стоп-слова и лемматизируем комментарии."
   ]
  },
  {
   "cell_type": "code",
   "execution_count": 12,
   "metadata": {},
   "outputs": [],
   "source": [
    "# извлечем столбец комментариев из данных\n",
    "corpus = data['text']"
   ]
  },
  {
   "cell_type": "code",
   "execution_count": 13,
   "metadata": {},
   "outputs": [],
   "source": [
    "# напишем функцию для токенизации текста с использованием регулярных выражений\n",
    "def tokenize(comment):\n",
    "    tokenizer = RegexpTokenizer(r\"\\w+\")\n",
    "    tokens = tokenizer.tokenize(comment)\n",
    "    return tokens"
   ]
  },
  {
   "cell_type": "code",
   "execution_count": 14,
   "metadata": {},
   "outputs": [],
   "source": [
    "# применим функцию токенизации к каждому комментарию в корпусе данных\n",
    "data['text'] = corpus.apply(lambda x: tokenize(x))"
   ]
  },
  {
   "cell_type": "code",
   "execution_count": 15,
   "metadata": {},
   "outputs": [
    {
     "data": {
      "text/html": [
       "<div>\n",
       "<style scoped>\n",
       "    .dataframe tbody tr th:only-of-type {\n",
       "        vertical-align: middle;\n",
       "    }\n",
       "\n",
       "    .dataframe tbody tr th {\n",
       "        vertical-align: top;\n",
       "    }\n",
       "\n",
       "    .dataframe thead th {\n",
       "        text-align: right;\n",
       "    }\n",
       "</style>\n",
       "<table border=\"1\" class=\"dataframe\">\n",
       "  <thead>\n",
       "    <tr style=\"text-align: right;\">\n",
       "      <th></th>\n",
       "      <th>text</th>\n",
       "      <th>toxic</th>\n",
       "    </tr>\n",
       "  </thead>\n",
       "  <tbody>\n",
       "    <tr>\n",
       "      <th>0</th>\n",
       "      <td>[explanation, why, the, edits, made, under, my...</td>\n",
       "      <td>0</td>\n",
       "    </tr>\n",
       "    <tr>\n",
       "      <th>1</th>\n",
       "      <td>[d, aww, he, matches, this, background, colour...</td>\n",
       "      <td>0</td>\n",
       "    </tr>\n",
       "    <tr>\n",
       "      <th>2</th>\n",
       "      <td>[hey, man, i, m, really, not, trying, to, edit...</td>\n",
       "      <td>0</td>\n",
       "    </tr>\n",
       "    <tr>\n",
       "      <th>3</th>\n",
       "      <td>[more, i, can, t, make, any, real, suggestions...</td>\n",
       "      <td>0</td>\n",
       "    </tr>\n",
       "    <tr>\n",
       "      <th>4</th>\n",
       "      <td>[you, sir, are, my, hero, any, chance, you, re...</td>\n",
       "      <td>0</td>\n",
       "    </tr>\n",
       "    <tr>\n",
       "      <th>5</th>\n",
       "      <td>[congratulations, from, me, as, well, use, the...</td>\n",
       "      <td>0</td>\n",
       "    </tr>\n",
       "    <tr>\n",
       "      <th>6</th>\n",
       "      <td>[cocksucker, before, you, piss, around, on, my...</td>\n",
       "      <td>1</td>\n",
       "    </tr>\n",
       "    <tr>\n",
       "      <th>7</th>\n",
       "      <td>[your, vandalism, to, the, matt, shirvington, ...</td>\n",
       "      <td>0</td>\n",
       "    </tr>\n",
       "    <tr>\n",
       "      <th>8</th>\n",
       "      <td>[sorry, if, the, word, nonsense, was, offensiv...</td>\n",
       "      <td>0</td>\n",
       "    </tr>\n",
       "    <tr>\n",
       "      <th>9</th>\n",
       "      <td>[alignment, on, this, subject, and, which, are...</td>\n",
       "      <td>0</td>\n",
       "    </tr>\n",
       "  </tbody>\n",
       "</table>\n",
       "</div>"
      ],
      "text/plain": [
       "                                                text  toxic\n",
       "0  [explanation, why, the, edits, made, under, my...      0\n",
       "1  [d, aww, he, matches, this, background, colour...      0\n",
       "2  [hey, man, i, m, really, not, trying, to, edit...      0\n",
       "3  [more, i, can, t, make, any, real, suggestions...      0\n",
       "4  [you, sir, are, my, hero, any, chance, you, re...      0\n",
       "5  [congratulations, from, me, as, well, use, the...      0\n",
       "6  [cocksucker, before, you, piss, around, on, my...      1\n",
       "7  [your, vandalism, to, the, matt, shirvington, ...      0\n",
       "8  [sorry, if, the, word, nonsense, was, offensiv...      0\n",
       "9  [alignment, on, this, subject, and, which, are...      0"
      ]
     },
     "execution_count": 15,
     "metadata": {},
     "output_type": "execute_result"
    }
   ],
   "source": [
    "# посмотрим, что получилось\n",
    "data.head(10)"
   ]
  },
  {
   "cell_type": "code",
   "execution_count": 16,
   "metadata": {},
   "outputs": [],
   "source": [
    "# создадим множество стоп-слов на английском языке\n",
    "stop_words = set(nltk_stopwords.words('english'))"
   ]
  },
  {
   "cell_type": "code",
   "execution_count": 17,
   "metadata": {},
   "outputs": [],
   "source": [
    "# напишем функцию для удаления стоп-слов из токенов\n",
    "def remove_stop_words(tokens):\n",
    "    filtered_text = [word for word in tokens if word not in stop_words]\n",
    "    return filtered_text"
   ]
  },
  {
   "cell_type": "code",
   "execution_count": 18,
   "metadata": {},
   "outputs": [],
   "source": [
    "# применим функцию удаления стоп-слов к каждому комментарию в корпусе данных\n",
    "data['text'] = data['text'].apply(lambda x: remove_stop_words(x))"
   ]
  },
  {
   "cell_type": "code",
   "execution_count": 19,
   "metadata": {},
   "outputs": [
    {
     "data": {
      "text/html": [
       "<div>\n",
       "<style scoped>\n",
       "    .dataframe tbody tr th:only-of-type {\n",
       "        vertical-align: middle;\n",
       "    }\n",
       "\n",
       "    .dataframe tbody tr th {\n",
       "        vertical-align: top;\n",
       "    }\n",
       "\n",
       "    .dataframe thead th {\n",
       "        text-align: right;\n",
       "    }\n",
       "</style>\n",
       "<table border=\"1\" class=\"dataframe\">\n",
       "  <thead>\n",
       "    <tr style=\"text-align: right;\">\n",
       "      <th></th>\n",
       "      <th>text</th>\n",
       "      <th>toxic</th>\n",
       "    </tr>\n",
       "  </thead>\n",
       "  <tbody>\n",
       "    <tr>\n",
       "      <th>0</th>\n",
       "      <td>[explanation, edits, made, username, hardcore,...</td>\n",
       "      <td>0</td>\n",
       "    </tr>\n",
       "    <tr>\n",
       "      <th>1</th>\n",
       "      <td>[aww, matches, background, colour, seemingly, ...</td>\n",
       "      <td>0</td>\n",
       "    </tr>\n",
       "    <tr>\n",
       "      <th>2</th>\n",
       "      <td>[hey, man, really, trying, edit, war, guy, con...</td>\n",
       "      <td>0</td>\n",
       "    </tr>\n",
       "    <tr>\n",
       "      <th>3</th>\n",
       "      <td>[make, real, suggestions, improvement, wondere...</td>\n",
       "      <td>0</td>\n",
       "    </tr>\n",
       "    <tr>\n",
       "      <th>4</th>\n",
       "      <td>[sir, hero, chance, remember, page]</td>\n",
       "      <td>0</td>\n",
       "    </tr>\n",
       "    <tr>\n",
       "      <th>5</th>\n",
       "      <td>[congratulations, well, use, tools, well, talk]</td>\n",
       "      <td>0</td>\n",
       "    </tr>\n",
       "    <tr>\n",
       "      <th>6</th>\n",
       "      <td>[cocksucker, piss, around, work]</td>\n",
       "      <td>1</td>\n",
       "    </tr>\n",
       "    <tr>\n",
       "      <th>7</th>\n",
       "      <td>[vandalism, matt, shirvington, article, revert...</td>\n",
       "      <td>0</td>\n",
       "    </tr>\n",
       "    <tr>\n",
       "      <th>8</th>\n",
       "      <td>[sorry, word, nonsense, offensive, anyway, int...</td>\n",
       "      <td>0</td>\n",
       "    </tr>\n",
       "    <tr>\n",
       "      <th>9</th>\n",
       "      <td>[alignment, subject, contrary, dulithgow]</td>\n",
       "      <td>0</td>\n",
       "    </tr>\n",
       "  </tbody>\n",
       "</table>\n",
       "</div>"
      ],
      "text/plain": [
       "                                                text  toxic\n",
       "0  [explanation, edits, made, username, hardcore,...      0\n",
       "1  [aww, matches, background, colour, seemingly, ...      0\n",
       "2  [hey, man, really, trying, edit, war, guy, con...      0\n",
       "3  [make, real, suggestions, improvement, wondere...      0\n",
       "4                [sir, hero, chance, remember, page]      0\n",
       "5    [congratulations, well, use, tools, well, talk]      0\n",
       "6                   [cocksucker, piss, around, work]      1\n",
       "7  [vandalism, matt, shirvington, article, revert...      0\n",
       "8  [sorry, word, nonsense, offensive, anyway, int...      0\n",
       "9          [alignment, subject, contrary, dulithgow]      0"
      ]
     },
     "execution_count": 19,
     "metadata": {},
     "output_type": "execute_result"
    }
   ],
   "source": [
    "# посмотрим, что получилось\n",
    "data.head(10)"
   ]
  },
  {
   "cell_type": "code",
   "execution_count": 21,
   "metadata": {},
   "outputs": [],
   "source": [
    "# напишем функцию РОS-тэгирования слов\n",
    "def get_wordnet_pos(word):\n",
    "    tag = nltk.pos_tag([word])[0][1][0].upper()\n",
    "    tag_dict = {'J': wordnet.ADJ,    # прилагательное\n",
    "                'N': wordnet.NOUN,   #существительное\n",
    "                'V': wordnet.VERB,   #глагол\n",
    "                'R': wordnet.ADV}    #наречие\n",
    "    return tag_dict.get(tag, wordnet.NOUN)\n",
    "\n",
    "wnl = WordNetLemmatizer()\n",
    "\n",
    "# напишем функцию для выполнения лемматизации\n",
    "def lemmatize(tokens):\n",
    "    lemmas = [wnl.lemmatize(word, get_wordnet_pos(word)) for word in tokens]\n",
    "    return lemmas"
   ]
  },
  {
   "cell_type": "code",
   "execution_count": 22,
   "metadata": {},
   "outputs": [],
   "source": [
    "# применим функцию лемматизации к каждому комментарию в корпусе данных\n",
    "data['text'] = data['text'].apply(lambda x: lemmatize(x))"
   ]
  },
  {
   "cell_type": "code",
   "execution_count": 23,
   "metadata": {},
   "outputs": [],
   "source": [
    "# объединим списки обратно в строки\n",
    "data['text'] = data['text'].apply(lambda x: ' '.join(x))"
   ]
  },
  {
   "cell_type": "code",
   "execution_count": 24,
   "metadata": {},
   "outputs": [
    {
     "data": {
      "text/html": [
       "<div>\n",
       "<style scoped>\n",
       "    .dataframe tbody tr th:only-of-type {\n",
       "        vertical-align: middle;\n",
       "    }\n",
       "\n",
       "    .dataframe tbody tr th {\n",
       "        vertical-align: top;\n",
       "    }\n",
       "\n",
       "    .dataframe thead th {\n",
       "        text-align: right;\n",
       "    }\n",
       "</style>\n",
       "<table border=\"1\" class=\"dataframe\">\n",
       "  <thead>\n",
       "    <tr style=\"text-align: right;\">\n",
       "      <th></th>\n",
       "      <th>text</th>\n",
       "      <th>toxic</th>\n",
       "    </tr>\n",
       "  </thead>\n",
       "  <tbody>\n",
       "    <tr>\n",
       "      <th>0</th>\n",
       "      <td>explanation edits make username hardcore metal...</td>\n",
       "      <td>0</td>\n",
       "    </tr>\n",
       "    <tr>\n",
       "      <th>1</th>\n",
       "      <td>aww match background colour seemingly stuck th...</td>\n",
       "      <td>0</td>\n",
       "    </tr>\n",
       "    <tr>\n",
       "      <th>2</th>\n",
       "      <td>hey man really try edit war guy constantly rem...</td>\n",
       "      <td>0</td>\n",
       "    </tr>\n",
       "    <tr>\n",
       "      <th>3</th>\n",
       "      <td>make real suggestion improvement wonder sectio...</td>\n",
       "      <td>0</td>\n",
       "    </tr>\n",
       "    <tr>\n",
       "      <th>4</th>\n",
       "      <td>sir hero chance remember page</td>\n",
       "      <td>0</td>\n",
       "    </tr>\n",
       "    <tr>\n",
       "      <th>5</th>\n",
       "      <td>congratulation well use tool well talk</td>\n",
       "      <td>0</td>\n",
       "    </tr>\n",
       "    <tr>\n",
       "      <th>6</th>\n",
       "      <td>cocksucker piss around work</td>\n",
       "      <td>1</td>\n",
       "    </tr>\n",
       "    <tr>\n",
       "      <th>7</th>\n",
       "      <td>vandalism matt shirvington article revert plea...</td>\n",
       "      <td>0</td>\n",
       "    </tr>\n",
       "    <tr>\n",
       "      <th>8</th>\n",
       "      <td>sorry word nonsense offensive anyway intend wr...</td>\n",
       "      <td>0</td>\n",
       "    </tr>\n",
       "    <tr>\n",
       "      <th>9</th>\n",
       "      <td>alignment subject contrary dulithgow</td>\n",
       "      <td>0</td>\n",
       "    </tr>\n",
       "  </tbody>\n",
       "</table>\n",
       "</div>"
      ],
      "text/plain": [
       "                                                text  toxic\n",
       "0  explanation edits make username hardcore metal...      0\n",
       "1  aww match background colour seemingly stuck th...      0\n",
       "2  hey man really try edit war guy constantly rem...      0\n",
       "3  make real suggestion improvement wonder sectio...      0\n",
       "4                      sir hero chance remember page      0\n",
       "5             congratulation well use tool well talk      0\n",
       "6                        cocksucker piss around work      1\n",
       "7  vandalism matt shirvington article revert plea...      0\n",
       "8  sorry word nonsense offensive anyway intend wr...      0\n",
       "9               alignment subject contrary dulithgow      0"
      ]
     },
     "execution_count": 24,
     "metadata": {},
     "output_type": "execute_result"
    }
   ],
   "source": [
    "# посмотрим, что получилось\n",
    "data.head(10)"
   ]
  },
  {
   "cell_type": "markdown",
   "metadata": {},
   "source": [
    "Теперь нам нужно разобраться с дисбалансом классов."
   ]
  },
  {
   "cell_type": "code",
   "execution_count": 25,
   "metadata": {},
   "outputs": [
    {
     "data": {
      "image/png": "[encoded data removed]",
      "text/plain": [
       "<Figure size 432x288 with 1 Axes>"
      ]
     },
     "metadata": {
      "needs_background": "light"
     },
     "output_type": "display_data"
    }
   ],
   "source": [
    "# сбор данных о количестве объектов каждого класса\n",
    "toxic_counts = data['toxic'].value_counts()\n",
    "\n",
    "# построение графика с учетом количества объектов каждого класса\n",
    "fig, ax = plt.subplots()\n",
    "bar_plot = toxic_counts.plot(kind='bar', color='skyblue', grid=True)\n",
    "for i, v in enumerate(toxic_counts):\n",
    "    ax.text(i, v + 10, str(v), color='black', ha='center')\n",
    "plt.show();"
   ]
  },
  {
   "cell_type": "markdown",
   "metadata": {},
   "source": [
    "Дисбаланс на графике очевиден (класс `0` — `143106` объектов, класс `1` — `16186` объектов). Существует мнение, что отрицательные комментарии люди пишут намного охотнее, а когда впечатления положительные, вроде бы и писать нечего. Однако такой дисбаланс может отразиться на качестве определения позитивных и негативных комментариев моделью. "
   ]
  },
  {
   "cell_type": "markdown",
   "metadata": {},
   "source": [
    "Балансировать будем только тренировочные данные, валидационные и тестовые оставим в исходном состоянии, чтобы избежать смещения оценки."
   ]
  },
  {
   "cell_type": "code",
   "execution_count": 26,
   "metadata": {},
   "outputs": [],
   "source": [
    "# выделим целевую переменную\n",
    "features = data.drop('toxic', axis=1)\n",
    "target = data['toxic']"
   ]
  },
  {
   "cell_type": "code",
   "execution_count": 27,
   "metadata": {},
   "outputs": [],
   "source": [
    "# разделим данные на тренировочную (80%), валидационную (10%) и тестовую (10%) выборки\n",
    "features_train, features_temp, target_train, target_temp = train_test_split(features, target, \n",
    "                                                                            test_size=0.2, random_state=RANDOM_STATE)\n",
    "features_valid, features_test, target_valid, target_test = train_test_split(features_temp, target_temp, test_size=0.5,\n",
    "                                                                            random_state=RANDOM_STATE)"
   ]
  },
  {
   "cell_type": "code",
   "execution_count": 28,
   "metadata": {},
   "outputs": [
    {
     "name": "stdout",
     "output_type": "stream",
     "text": [
      "Размер обучающей выборки: (127433, 1)\n",
      "Размер валидационной выборки: (15929, 1)\n",
      "Размер тестовой выборки: (15930, 1)\n",
      "\n",
      "Размер целевой переменной обучающей выборки: (127433,)\n",
      "Размер целевой переменной валидационной выборки: (15929,)\n",
      "Размер целевой переменной тестовой выборки: (15930,)\n"
     ]
    }
   ],
   "source": [
    "# проверим разделение\n",
    "print('Размер обучающей выборки:', features_train.shape)\n",
    "print('Размер валидационной выборки:', features_valid.shape)\n",
    "print('Размер тестовой выборки:', features_test.shape)\n",
    "print()\n",
    "print('Размер целевой переменной обучающей выборки:', target_train.shape)\n",
    "print('Размер целевой переменной валидационной выборки:', target_valid.shape)\n",
    "print('Размер целевой переменной тестовой выборки:', target_test.shape)"
   ]
  },
  {
   "cell_type": "code",
   "execution_count": 29,
   "metadata": {},
   "outputs": [
    {
     "name": "stdout",
     "output_type": "stream",
     "text": [
      "Доля объектов класса 1 в обучающей выборке: 0.10189668296281183\n",
      "Доля объектов класса 0 в обучающей выборке: 0.8981033170371882\n"
     ]
    }
   ],
   "source": [
    "# проверим соотношение классов 0/1 в target_train:\n",
    "class_0 = [i for i, x in enumerate(target_train) if x == 0]\n",
    "count_0 = len(class_0)\n",
    "\n",
    "class_1 = [i for i, x in enumerate(target_train) if x == 1]\n",
    "count_1 = len(class_1)\n",
    "\n",
    "print('Доля объектов класса 1 в обучающей выборке:', len(class_1) / (len(class_1) + len(class_0)))\n",
    "print('Доля объектов класса 0 в обучающей выборке:', len(class_0) / (len(class_0) + len(class_1)))"
   ]
  },
  {
   "cell_type": "code",
   "execution_count": 30,
   "metadata": {},
   "outputs": [
    {
     "name": "stdout",
     "output_type": "stream",
     "text": [
      "Соотношение объектов классов 0 и 1 в обучающей выборке:\n",
      "toxic\n",
      "0    0.8\n",
      "1    0.2\n",
      "Name: proportion, dtype: float64\n",
      "-----\n",
      "(64925,)\n",
      "(64925,)\n"
     ]
    }
   ],
   "source": [
    "# уменьшим кол-во объектов класса 0 в обучающей выборке\n",
    "data_train = data.iloc[target_train.index]\n",
    "\n",
    "target_train_0 = data_train[data_train['toxic'] == 0]['toxic']\n",
    "target_train_1 = data_train[data_train['toxic'] == 1]['toxic']\n",
    "\n",
    "# выберем соотношение классов 4 к 1\n",
    "target_train_0_resample = target_train_0.sample(n=target_train_1.shape[0] * 4,\n",
    "                                                replace=False, random_state=RANDOM_STATE)\n",
    "target_train_resample = pd.concat([target_train_0_resample, target_train_1])\n",
    "\n",
    "features_train_resample = data.iloc[target_train_resample.index]\n",
    "\n",
    "# перемешаем данные\n",
    "features_train_resample, target_train_resample = shuffle(features_train_resample,\n",
    "                                                         target_train_resample,\n",
    "                                                         random_state=RANDOM_STATE)\n",
    "\n",
    "features_train_resample = features_train_resample['text']\n",
    "\n",
    "print('Соотношение объектов классов 0 и 1 в обучающей выборке:')\n",
    "print(target_train_resample.value_counts(normalize=True))\n",
    "print('-----')\n",
    "print(features_train_resample.shape)\n",
    "print(target_train_resample.shape)"
   ]
  },
  {
   "cell_type": "code",
   "execution_count": 31,
   "metadata": {},
   "outputs": [],
   "source": [
    "# изменю переменные, чтобы не переписывать дальнейший код\n",
    "features_train = features_train_resample\n",
    "target_train = target_train_resample"
   ]
  },
  {
   "cell_type": "markdown",
   "metadata": {},
   "source": [
    "**Вывод**\n",
    "\n",
    "При подготовке данных был удален неинформативный столбец `Unnamed: 0`, выполнена очистка комментариев, их токенизация и лемматизация, удалены стоп-слова, обработан дисбаланс классов в целевой переменной обучающей выборки."
   ]
  },
  {
   "cell_type": "markdown",
   "metadata": {},
   "source": [
    "## Обучение"
   ]
  },
  {
   "cell_type": "markdown",
   "metadata": {},
   "source": [
    "Инициализируем TfidfVectorizer для преобразования текстовых данных в векторы TF-IDF. И преобразуем текстовые данные в векторы TF-IDF для обучающей, валидационной и тестовой выборки."
   ]
  },
  {
   "cell_type": "code",
   "execution_count": 37,
   "metadata": {},
   "outputs": [],
   "source": [
    "count_tf_idf = TfidfVectorizer()"
   ]
  },
  {
   "cell_type": "code",
   "execution_count": 39,
   "metadata": {},
   "outputs": [],
   "source": [
    "tf_idf_train = count_tf_idf.fit_transform(features_train.squeeze())\n",
    "tf_idf_valid = count_tf_idf.transform(features_valid.squeeze())\n",
    "tf_idf_test = count_tf_idf.transform(features_test.squeeze())"
   ]
  },
  {
   "cell_type": "markdown",
   "metadata": {},
   "source": [
    "Обучим модели `LogisticRegression()`, `DecisionTreeClassifier()` и `LGBMClassifier()`."
   ]
  },
  {
   "cell_type": "markdown",
   "metadata": {},
   "source": [
    "### LogisticRegression()"
   ]
  },
  {
   "cell_type": "code",
   "execution_count": 40,
   "metadata": {},
   "outputs": [
    {
     "name": "stdout",
     "output_type": "stream",
     "text": [
      "CPU times: user 3 µs, sys: 0 ns, total: 3 µs\n",
      "Wall time: 6.68 µs\n",
      "F1 метрика LogisticRegression на обучающей выборке: 0.9779930259589307\n"
     ]
    }
   ],
   "source": [
    "%time\n",
    "# обучим модель LogisticRegression\n",
    "lr = LogisticRegression(random_state=RANDOM_STATE)\n",
    "parameters = {'penalty': ['l1', 'l2'],\n",
    "              'C': [10, 100],\n",
    "              'solver': ['liblinear'],\n",
    "              'max_iter': [100, 200],\n",
    "              'class_weight': [None]}\n",
    "\n",
    "clf = GridSearchCV(lr, param_grid=parameters, scoring='f1', cv=None)\n",
    "\n",
    "clf.fit(tf_idf_train, target_train)\n",
    "predictions_train = clf.predict(tf_idf_train)\n",
    "\n",
    "f1_lr_tr = f1_score(target_train, predictions_train)\n",
    "print('F1 метрика LogisticRegression на обучающей выборке:', f1_lr_tr)"
   ]
  },
  {
   "cell_type": "code",
   "execution_count": 41,
   "metadata": {},
   "outputs": [
    {
     "data": {
      "text/plain": [
       "{'C': 10,\n",
       " 'class_weight': None,\n",
       " 'max_iter': 100,\n",
       " 'penalty': 'l1',\n",
       " 'solver': 'liblinear'}"
      ]
     },
     "execution_count": 41,
     "metadata": {},
     "output_type": "execute_result"
    }
   ],
   "source": [
    "# лучшие параметры\n",
    "clf.best_params_ "
   ]
  },
  {
   "cell_type": "code",
   "execution_count": 42,
   "metadata": {},
   "outputs": [
    {
     "name": "stdout",
     "output_type": "stream",
     "text": [
      "F1 метрика LogisticRegression на валидационной выборке: 0.7683789603199016\n"
     ]
    }
   ],
   "source": [
    "# предсказание на валидационной выборке\n",
    "predictions_valid = clf.predict(tf_idf_valid)\n",
    "\n",
    "# оценка модели на валидационной выборке\n",
    "f1_lr_val = f1_score(target_valid, predictions_valid)\n",
    "print('F1 метрика LogisticRegression на валидационной выборке:', f1_lr_val)"
   ]
  },
  {
   "cell_type": "markdown",
   "metadata": {},
   "source": [
    "### DecisionTreeClassifier()"
   ]
  },
  {
   "cell_type": "code",
   "execution_count": 43,
   "metadata": {},
   "outputs": [
    {
     "name": "stdout",
     "output_type": "stream",
     "text": [
      "CPU times: user 2 µs, sys: 0 ns, total: 2 µs\n",
      "Wall time: 5.25 µs\n",
      "F1 метрика DecisionTreeClassifier на обучающей выборке: 0.9771256931608133\n"
     ]
    }
   ],
   "source": [
    "%time\n",
    "# обучим модель DecisionTreeClassifier\n",
    "dt = DecisionTreeClassifier(random_state=RANDOM_STATE)\n",
    "\n",
    "parameters = {'criterion': ['gini', 'entropy'],\n",
    "              'max_depth': [None, 10, 20],\n",
    "              'min_samples_split': [2, 5, 10]}\n",
    "\n",
    "clf = GridSearchCV(dt, param_grid=parameters, scoring='f1', cv=None)\n",
    "\n",
    "clf.fit(tf_idf_train, target_train)\n",
    "\n",
    "predictions_train = clf.predict(tf_idf_train)\n",
    "\n",
    "f1_dt_tr = f1_score(target_train, predictions_train)\n",
    "print('F1 метрика DecisionTreeClassifier на обучающей выборке:', f1_dt_tr)"
   ]
  },
  {
   "cell_type": "code",
   "execution_count": 44,
   "metadata": {},
   "outputs": [
    {
     "name": "stdout",
     "output_type": "stream",
     "text": [
      "F1 метрика DecisionTreeClassifier на валидационной выборке: 0.6819708846584547\n"
     ]
    }
   ],
   "source": [
    "# предсказание на валидационной выборке\n",
    "predictions_valid = clf.predict(tf_idf_valid)\n",
    "\n",
    "# оценка модели на валидационной выборке\n",
    "f1_dt_val = f1_score(target_valid, predictions_valid)\n",
    "print('F1 метрика DecisionTreeClassifier на валидационной выборке:', f1_dt_val)"
   ]
  },
  {
   "cell_type": "markdown",
   "metadata": {},
   "source": [
    "### LGBMClassifier()"
   ]
  },
  {
   "cell_type": "code",
   "execution_count": 45,
   "metadata": {},
   "outputs": [
    {
     "name": "stdout",
     "output_type": "stream",
     "text": [
      "CPU times: user 3 µs, sys: 0 ns, total: 3 µs\n",
      "Wall time: 6.44 µs\n",
      "F1 метрика LGBMClassifier на обучающей выборке: 0.8356718602048722\n"
     ]
    }
   ],
   "source": [
    "%time\n",
    "# обучим модель LGBMClassifier\n",
    "lgbm = LGBMClassifier(random_state=RANDOM_STATE)\n",
    "\n",
    "lgbm.fit(tf_idf_train, target_train)\n",
    "predictions_train = lgbm.predict(tf_idf_train)\n",
    "\n",
    "f1_lgbm_tr = f1_score(target_train, predictions_train)\n",
    "print('F1 метрика LGBMClassifier на обучающей выборке:', f1_lgbm_tr)"
   ]
  },
  {
   "cell_type": "code",
   "execution_count": 46,
   "metadata": {},
   "outputs": [
    {
     "name": "stdout",
     "output_type": "stream",
     "text": [
      "F1 метрика LightGBM на валидационной выборке: 0.7744565217391305\n"
     ]
    }
   ],
   "source": [
    "# предсказание на валидационной выборке\n",
    "predictions_valid = lgbm.predict(tf_idf_valid)\n",
    "f1_lgbm_val = f1_score(target_valid, predictions_valid)\n",
    "\n",
    "# оценка модели на валидационной выборке\n",
    "print('F1 метрика LightGBM на валидационной выборке:', f1_lgbm_val)"
   ]
  },
  {
   "cell_type": "markdown",
   "metadata": {},
   "source": [
    "Создадим сводную таблицу, чтобы определить лучшую модель на основе *F1* метрики, полученной на валидационной выборке."
   ]
  },
  {
   "cell_type": "code",
   "execution_count": 47,
   "metadata": {},
   "outputs": [
    {
     "name": "stdout",
     "output_type": "stream",
     "text": [
      "                Модель  F1 на обучающей выборке  F1 на валидационной выборке\n",
      "0  Logistic Regression                 0.977993                     0.768379\n",
      "1        Decision Tree                 0.977126                     0.681971\n",
      "2      LGBM Classifier                 0.835672                     0.774457\n"
     ]
    }
   ],
   "source": [
    "# создание таблицы с метриками F1\n",
    "data = {\n",
    "    'Модель': ['Logistic Regression', 'Decision Tree', 'LGBM Classifier'],\n",
    "    'F1 на обучающей выборке': [f1_lr_tr, f1_dt_tr, f1_lgbm_tr],\n",
    "    'F1 на валидационной выборке': [f1_lr_val, f1_dt_val, f1_lgbm_val]\n",
    "}\n",
    "\n",
    "df = pd.DataFrame(data)\n",
    "print(df)"
   ]
  },
  {
   "cell_type": "markdown",
   "metadata": {},
   "source": [
    "-------------------------"
   ]
  },
  {
   "cell_type": "markdown",
   "metadata": {},
   "source": [
    "<u>**Тестирование лучшей модели**</u> (выбрана по *F1* метрике на валидационной выборке)"
   ]
  },
  {
   "cell_type": "markdown",
   "metadata": {},
   "source": [
    "Модель `LGBMClassifier()` получила на валидационной выборке значение *F1* метрики `0.77`, поэтому среди всех моделей она выбрана лучшей. Немного отстает модель `LogisticRegression()` со значением *F1* метрики `0.76` на валидационной выборке.\n",
    "\n",
    "Протестируем модель `LGBMClassifier()` на тестовой выборке."
   ]
  },
  {
   "cell_type": "code",
   "execution_count": 49,
   "metadata": {},
   "outputs": [
    {
     "name": "stdout",
     "output_type": "stream",
     "text": [
      "CPU times: user 3 µs, sys: 0 ns, total: 3 µs\n",
      "Wall time: 6.68 µs\n",
      "F1 метрика LightGBM на тестовой выборке: 0.7724510465901419\n"
     ]
    }
   ],
   "source": [
    "%time\n",
    "# предсказание на тестовой выборке\n",
    "predictions_test = lgbm.predict(tf_idf_test)\n",
    "\n",
    "# вычисление F1 метрики на тестовой выборке\n",
    "f1_lgbm_test = f1_score(target_test, predictions_test)\n",
    "print('F1 метрика LightGBM на тестовой выборке:', f1_lgbm_test)"
   ]
  },
  {
   "cell_type": "markdown",
   "metadata": {},
   "source": [
    "**Вывод**\n",
    "\n",
    "Модель `LGBMClassifier()` на валидационной выборке получила значение метрики *F1* — `0.77`, на тестовой выборке имеем аналогичное значение. Полученное значение удовлетворяет условию задачи (значение метрики качества *F1* должно быть не меньше `0.75`)."
   ]
  },
  {
   "cell_type": "markdown",
   "metadata": {},
   "source": [
    "## Выводы"
   ]
  },
  {
   "cell_type": "markdown",
   "metadata": {},
   "source": [
    "В наше распоряжение поступил набор данных с разметкой о токсичности правок. В соответствии с задачей требовалось обучить модель классифицировать комментарии на позитивные и негативные. Построенная модель должна иметь значение метрики качества *F1* не меньше `0.75`.\n",
    "\n",
    "Данные были изучены и обработаны: был удален неинформативный столбец `Unnamed: 0`, выполнена очистка комментариев, их токенизация и лемматизация, удалены стоп-слова, обработан дисбаланс классов в целевой переменной. Пропуски и явные дубликаты не обнаружены.\n",
    "\n",
    "Было обучено три модели: `LogisticRegression()`, `DecisionTreeClassifier()` и `LGBMClassifier()`. За кулисами пробовала и другие модели, но то ядро умирало, то просто выпонение ноутбука падало по неясным причинам после нескольких часов обучения модели.\n",
    "\n",
    "На валидационной выборке модели получили следующие значения метрики *F1*:\n",
    "\n",
    "*  Logistic Regression — 0.768379\n",
    "*  Decision Tree — 0.681971\n",
    "*  LGBM Classifier — 0.774457\n",
    "\n",
    "Исходя из полученных значений, лучшей была выбрана модель `LGBMClassifier()` с самым высоким значением, равным `0.77`. Поэтому на тестовых данных проверялась только эта модель, здесь она получила значение метрики *F1*, равное также `0.77`, данное значение удовлетворяет поставленной задаче, чтобы значение метрики качества *F1* было не меньше `0.75`. Кроме того, ее преимуществом в данном случае является и то, что она довольно-таки быстро обучается (по сравнению с представленными моделями и моделями, которые были проверены, но не попали в данный проект).\n",
    "\n",
    "Таким образом, можно рекомендовать данную модель для реализации данного проекта."
   ]
  }
 ],
 "metadata": {
  "ExecuteTimeLog": [
   {
    "duration": 1632,
    "start_time": "2024-02-28T08:48:17.758Z"
   },
   {
    "duration": 2560,
    "start_time": "2024-02-28T08:50:26.791Z"
   },
   {
    "duration": 33,
    "start_time": "2024-02-28T08:50:45.175Z"
   },
   {
    "duration": 14,
    "start_time": "2024-02-28T08:50:57.999Z"
   },
   {
    "duration": 11,
    "start_time": "2024-02-28T08:56:21.933Z"
   },
   {
    "duration": 8,
    "start_time": "2024-02-28T08:56:42.195Z"
   },
   {
    "duration": 7,
    "start_time": "2024-02-28T08:57:13.498Z"
   },
   {
    "duration": 266,
    "start_time": "2024-02-28T08:58:36.462Z"
   },
   {
    "duration": 58,
    "start_time": "2024-02-28T09:05:52.536Z"
   },
   {
    "duration": 1578,
    "start_time": "2024-02-28T09:06:04.051Z"
   },
   {
    "duration": 1011,
    "start_time": "2024-02-28T09:06:05.631Z"
   },
   {
    "duration": 15,
    "start_time": "2024-02-28T09:06:06.645Z"
   },
   {
    "duration": 54,
    "start_time": "2024-02-28T09:06:06.661Z"
   },
   {
    "duration": 272,
    "start_time": "2024-02-28T09:06:06.717Z"
   },
   {
    "duration": 8,
    "start_time": "2024-02-28T09:06:06.991Z"
   },
   {
    "duration": 105,
    "start_time": "2024-02-28T09:06:07.001Z"
   },
   {
    "duration": 0,
    "start_time": "2024-02-28T09:06:07.108Z"
   },
   {
    "duration": 14,
    "start_time": "2024-02-28T09:09:11.539Z"
   },
   {
    "duration": 15,
    "start_time": "2024-02-28T09:17:11.145Z"
   },
   {
    "duration": 8,
    "start_time": "2024-02-28T09:17:33.964Z"
   },
   {
    "duration": 3,
    "start_time": "2024-02-28T09:21:16.871Z"
   },
   {
    "duration": 4548,
    "start_time": "2024-02-28T09:21:56.202Z"
   },
   {
    "duration": 10,
    "start_time": "2024-02-28T09:22:25.140Z"
   },
   {
    "duration": 3,
    "start_time": "2024-02-28T09:26:25.990Z"
   },
   {
    "duration": 3,
    "start_time": "2024-02-28T09:26:59.065Z"
   },
   {
    "duration": 4088,
    "start_time": "2024-02-28T09:27:16.092Z"
   },
   {
    "duration": 127,
    "start_time": "2024-02-28T09:27:30.519Z"
   },
   {
    "duration": 5,
    "start_time": "2024-02-28T09:27:59.319Z"
   },
   {
    "duration": 4,
    "start_time": "2024-02-28T09:28:06.405Z"
   },
   {
    "duration": 3,
    "start_time": "2024-02-28T09:29:02.550Z"
   },
   {
    "duration": 5,
    "start_time": "2024-02-28T09:37:02.038Z"
   },
   {
    "duration": 11,
    "start_time": "2024-02-28T09:39:19.971Z"
   },
   {
    "duration": 1849,
    "start_time": "2024-02-28T09:40:00.059Z"
   },
   {
    "duration": 3,
    "start_time": "2024-02-28T09:40:29.018Z"
   },
   {
    "duration": 24566,
    "start_time": "2024-02-28T09:40:44.148Z"
   },
   {
    "duration": 15,
    "start_time": "2024-02-28T09:41:23.144Z"
   },
   {
    "duration": 1579,
    "start_time": "2024-02-28T09:48:50.016Z"
   },
   {
    "duration": 1100,
    "start_time": "2024-02-28T09:48:51.597Z"
   },
   {
    "duration": 14,
    "start_time": "2024-02-28T09:48:52.699Z"
   },
   {
    "duration": 42,
    "start_time": "2024-02-28T09:48:52.722Z"
   },
   {
    "duration": 292,
    "start_time": "2024-02-28T09:48:52.766Z"
   },
   {
    "duration": 8,
    "start_time": "2024-02-28T09:48:53.059Z"
   },
   {
    "duration": 16,
    "start_time": "2024-02-28T09:48:53.068Z"
   },
   {
    "duration": 11,
    "start_time": "2024-02-28T09:48:53.086Z"
   },
   {
    "duration": 8,
    "start_time": "2024-02-28T09:48:53.098Z"
   },
   {
    "duration": 5169,
    "start_time": "2024-02-28T09:48:53.108Z"
   },
   {
    "duration": 7,
    "start_time": "2024-02-28T09:48:58.279Z"
   },
   {
    "duration": 8,
    "start_time": "2024-02-28T09:48:58.287Z"
   },
   {
    "duration": 7,
    "start_time": "2024-02-28T09:48:58.296Z"
   },
   {
    "duration": 4303,
    "start_time": "2024-02-28T09:48:58.305Z"
   },
   {
    "duration": 7,
    "start_time": "2024-02-28T09:49:02.610Z"
   },
   {
    "duration": 65,
    "start_time": "2024-02-28T09:49:02.619Z"
   },
   {
    "duration": 2013,
    "start_time": "2024-02-28T09:49:02.686Z"
   },
   {
    "duration": 3,
    "start_time": "2024-02-28T09:49:04.701Z"
   },
   {
    "duration": 23572,
    "start_time": "2024-02-28T09:49:04.705Z"
   },
   {
    "duration": 9,
    "start_time": "2024-02-28T09:49:28.278Z"
   },
   {
    "duration": 3,
    "start_time": "2024-02-28T09:54:57.997Z"
   },
   {
    "duration": 1485,
    "start_time": "2024-02-28T09:55:50.534Z"
   },
   {
    "duration": 1001,
    "start_time": "2024-02-28T09:55:52.022Z"
   },
   {
    "duration": 16,
    "start_time": "2024-02-28T09:55:53.025Z"
   },
   {
    "duration": 33,
    "start_time": "2024-02-28T09:55:53.044Z"
   },
   {
    "duration": 271,
    "start_time": "2024-02-28T09:55:53.079Z"
   },
   {
    "duration": 8,
    "start_time": "2024-02-28T09:55:53.351Z"
   },
   {
    "duration": 11,
    "start_time": "2024-02-28T09:55:53.360Z"
   },
   {
    "duration": 17,
    "start_time": "2024-02-28T09:55:53.372Z"
   },
   {
    "duration": 8,
    "start_time": "2024-02-28T09:55:53.391Z"
   },
   {
    "duration": 4709,
    "start_time": "2024-02-28T09:55:53.401Z"
   },
   {
    "duration": 8,
    "start_time": "2024-02-28T09:55:58.111Z"
   },
   {
    "duration": 4,
    "start_time": "2024-02-28T09:55:58.123Z"
   },
   {
    "duration": 5,
    "start_time": "2024-02-28T09:55:58.129Z"
   },
   {
    "duration": 4155,
    "start_time": "2024-02-28T09:55:58.136Z"
   },
   {
    "duration": 4,
    "start_time": "2024-02-28T09:56:02.293Z"
   },
   {
    "duration": 74,
    "start_time": "2024-02-28T09:56:02.299Z"
   },
   {
    "duration": 2068,
    "start_time": "2024-02-28T09:56:02.375Z"
   },
   {
    "duration": 3,
    "start_time": "2024-02-28T09:56:04.445Z"
   },
   {
    "duration": 22490,
    "start_time": "2024-02-28T09:56:04.450Z"
   },
   {
    "duration": 9,
    "start_time": "2024-02-28T09:56:26.942Z"
   },
   {
    "duration": 817,
    "start_time": "2024-02-28T11:52:38.407Z"
   },
   {
    "duration": 1469,
    "start_time": "2024-02-28T11:52:47.445Z"
   },
   {
    "duration": 1075,
    "start_time": "2024-02-28T11:52:48.916Z"
   },
   {
    "duration": 15,
    "start_time": "2024-02-28T11:52:49.992Z"
   },
   {
    "duration": 55,
    "start_time": "2024-02-28T11:52:50.010Z"
   },
   {
    "duration": 274,
    "start_time": "2024-02-28T11:52:50.067Z"
   },
   {
    "duration": 8,
    "start_time": "2024-02-28T11:52:50.343Z"
   },
   {
    "duration": 19,
    "start_time": "2024-02-28T11:52:50.352Z"
   },
   {
    "duration": 28,
    "start_time": "2024-02-28T11:52:50.373Z"
   },
   {
    "duration": 15,
    "start_time": "2024-02-28T11:52:50.403Z"
   },
   {
    "duration": 4988,
    "start_time": "2024-02-28T11:52:50.420Z"
   },
   {
    "duration": 8,
    "start_time": "2024-02-28T11:52:55.410Z"
   },
   {
    "duration": 16,
    "start_time": "2024-02-28T11:52:55.423Z"
   },
   {
    "duration": 14,
    "start_time": "2024-02-28T11:52:55.440Z"
   },
   {
    "duration": 4319,
    "start_time": "2024-02-28T11:52:55.456Z"
   },
   {
    "duration": 5,
    "start_time": "2024-02-28T11:52:59.777Z"
   },
   {
    "duration": 40,
    "start_time": "2024-02-28T11:52:59.784Z"
   },
   {
    "duration": 2042,
    "start_time": "2024-02-28T11:52:59.826Z"
   },
   {
    "duration": 4,
    "start_time": "2024-02-28T11:53:01.870Z"
   },
   {
    "duration": 23147,
    "start_time": "2024-02-28T11:53:01.876Z"
   },
   {
    "duration": 15,
    "start_time": "2024-02-28T11:53:25.026Z"
   },
   {
    "duration": 519,
    "start_time": "2024-02-28T11:53:25.043Z"
   },
   {
    "duration": 6,
    "start_time": "2024-02-28T11:54:05.010Z"
   },
   {
    "duration": 110,
    "start_time": "2024-02-28T11:54:11.046Z"
   },
   {
    "duration": 5,
    "start_time": "2024-02-28T12:00:33.797Z"
   },
   {
    "duration": 29,
    "start_time": "2024-02-28T12:00:48.065Z"
   },
   {
    "duration": 9,
    "start_time": "2024-02-28T12:01:05.656Z"
   },
   {
    "duration": 18,
    "start_time": "2024-02-28T12:01:14.876Z"
   },
   {
    "duration": 105,
    "start_time": "2024-02-28T12:01:42.406Z"
   },
   {
    "duration": 84,
    "start_time": "2024-02-28T12:03:07.232Z"
   },
   {
    "duration": 16,
    "start_time": "2024-02-28T12:12:19.236Z"
   },
   {
    "duration": 11,
    "start_time": "2024-02-28T12:13:58.478Z"
   },
   {
    "duration": 5,
    "start_time": "2024-02-28T12:14:06.426Z"
   },
   {
    "duration": 5,
    "start_time": "2024-02-28T12:15:04.306Z"
   },
   {
    "duration": 1928,
    "start_time": "2024-02-28T14:53:18.498Z"
   },
   {
    "duration": 2402,
    "start_time": "2024-02-28T14:53:20.427Z"
   },
   {
    "duration": 12,
    "start_time": "2024-02-28T14:53:22.830Z"
   },
   {
    "duration": 32,
    "start_time": "2024-02-28T14:53:22.844Z"
   },
   {
    "duration": 251,
    "start_time": "2024-02-28T14:53:22.877Z"
   },
   {
    "duration": 7,
    "start_time": "2024-02-28T14:53:23.130Z"
   },
   {
    "duration": 13,
    "start_time": "2024-02-28T14:53:23.139Z"
   },
   {
    "duration": 31,
    "start_time": "2024-02-28T14:53:23.153Z"
   },
   {
    "duration": 11,
    "start_time": "2024-02-28T14:53:23.186Z"
   },
   {
    "duration": 4748,
    "start_time": "2024-02-28T14:53:23.200Z"
   },
   {
    "duration": 7,
    "start_time": "2024-02-28T14:53:27.950Z"
   },
   {
    "duration": 4,
    "start_time": "2024-02-28T14:53:27.959Z"
   },
   {
    "duration": 6,
    "start_time": "2024-02-28T14:53:27.964Z"
   },
   {
    "duration": 3770,
    "start_time": "2024-02-28T14:53:27.982Z"
   },
   {
    "duration": 4,
    "start_time": "2024-02-28T14:53:31.754Z"
   },
   {
    "duration": 33,
    "start_time": "2024-02-28T14:53:31.760Z"
   },
   {
    "duration": 2368,
    "start_time": "2024-02-28T14:53:31.796Z"
   },
   {
    "duration": 4,
    "start_time": "2024-02-28T14:53:34.165Z"
   },
   {
    "duration": 21412,
    "start_time": "2024-02-28T14:53:34.171Z"
   },
   {
    "duration": 9,
    "start_time": "2024-02-28T14:53:55.584Z"
   },
   {
    "duration": 129,
    "start_time": "2024-02-28T14:53:55.595Z"
   },
   {
    "duration": 26,
    "start_time": "2024-02-28T14:53:55.725Z"
   },
   {
    "duration": 30,
    "start_time": "2024-02-28T14:53:55.753Z"
   },
   {
    "duration": 109,
    "start_time": "2024-02-28T14:53:55.785Z"
   },
   {
    "duration": 14,
    "start_time": "2024-02-28T14:53:55.895Z"
   },
   {
    "duration": 17,
    "start_time": "2024-02-28T14:53:55.911Z"
   },
   {
    "duration": 6,
    "start_time": "2024-02-28T14:54:16.044Z"
   },
   {
    "duration": 3,
    "start_time": "2024-02-28T14:57:01.533Z"
   },
   {
    "duration": 3,
    "start_time": "2024-02-28T14:57:46.172Z"
   },
   {
    "duration": 163,
    "start_time": "2024-02-28T14:59:29.706Z"
   },
   {
    "duration": 1257,
    "start_time": "2024-02-28T15:08:17.057Z"
   },
   {
    "duration": 129,
    "start_time": "2024-02-28T15:08:45.737Z"
   },
   {
    "duration": 1829,
    "start_time": "2024-02-28T15:08:59.545Z"
   },
   {
    "duration": 948,
    "start_time": "2024-02-28T15:09:01.376Z"
   },
   {
    "duration": 12,
    "start_time": "2024-02-28T15:09:02.326Z"
   },
   {
    "duration": 127,
    "start_time": "2024-02-28T15:09:02.340Z"
   },
   {
    "duration": 300,
    "start_time": "2024-02-28T15:09:02.469Z"
   },
   {
    "duration": 11,
    "start_time": "2024-02-28T15:09:02.771Z"
   },
   {
    "duration": 23,
    "start_time": "2024-02-28T15:09:02.784Z"
   },
   {
    "duration": 31,
    "start_time": "2024-02-28T15:09:02.808Z"
   },
   {
    "duration": 24,
    "start_time": "2024-02-28T15:09:02.841Z"
   },
   {
    "duration": 4824,
    "start_time": "2024-02-28T15:09:02.868Z"
   },
   {
    "duration": 11,
    "start_time": "2024-02-28T15:09:07.694Z"
   },
   {
    "duration": 15,
    "start_time": "2024-02-28T15:09:07.707Z"
   },
   {
    "duration": 8,
    "start_time": "2024-02-28T15:09:07.724Z"
   },
   {
    "duration": 3787,
    "start_time": "2024-02-28T15:09:07.734Z"
   },
   {
    "duration": 5,
    "start_time": "2024-02-28T15:09:11.523Z"
   },
   {
    "duration": 23,
    "start_time": "2024-02-28T15:09:11.530Z"
   },
   {
    "duration": 2383,
    "start_time": "2024-02-28T15:09:11.554Z"
   },
   {
    "duration": 4,
    "start_time": "2024-02-28T15:09:13.939Z"
   },
   {
    "duration": 21456,
    "start_time": "2024-02-28T15:09:13.945Z"
   },
   {
    "duration": 11,
    "start_time": "2024-02-28T15:09:35.402Z"
   },
   {
    "duration": 126,
    "start_time": "2024-02-28T15:09:35.415Z"
   },
   {
    "duration": 27,
    "start_time": "2024-02-28T15:09:35.543Z"
   },
   {
    "duration": 15,
    "start_time": "2024-02-28T15:09:35.582Z"
   },
   {
    "duration": 127,
    "start_time": "2024-02-28T15:09:35.599Z"
   },
   {
    "duration": 15,
    "start_time": "2024-02-28T15:09:35.727Z"
   },
   {
    "duration": 13,
    "start_time": "2024-02-28T15:09:35.743Z"
   },
   {
    "duration": 241,
    "start_time": "2024-02-28T15:09:35.758Z"
   },
   {
    "duration": 0,
    "start_time": "2024-02-28T15:09:36.001Z"
   },
   {
    "duration": 0,
    "start_time": "2024-02-28T15:09:36.002Z"
   },
   {
    "duration": 1683,
    "start_time": "2024-02-28T15:16:17.633Z"
   },
   {
    "duration": 932,
    "start_time": "2024-02-28T15:16:19.319Z"
   },
   {
    "duration": 12,
    "start_time": "2024-02-28T15:16:20.874Z"
   },
   {
    "duration": 33,
    "start_time": "2024-02-28T15:16:21.657Z"
   },
   {
    "duration": 255,
    "start_time": "2024-02-28T15:16:23.018Z"
   },
   {
    "duration": 8,
    "start_time": "2024-02-28T15:16:24.084Z"
   },
   {
    "duration": 15,
    "start_time": "2024-02-28T15:16:26.356Z"
   },
   {
    "duration": 9,
    "start_time": "2024-02-28T15:16:26.776Z"
   },
   {
    "duration": 5,
    "start_time": "2024-02-28T15:16:28.047Z"
   },
   {
    "duration": 5097,
    "start_time": "2024-02-28T15:16:28.858Z"
   },
   {
    "duration": 7,
    "start_time": "2024-02-28T15:16:33.959Z"
   },
   {
    "duration": 6,
    "start_time": "2024-02-28T15:16:33.968Z"
   },
   {
    "duration": 5,
    "start_time": "2024-02-28T15:16:33.975Z"
   },
   {
    "duration": 4383,
    "start_time": "2024-02-28T15:16:33.981Z"
   },
   {
    "duration": 5,
    "start_time": "2024-02-28T15:16:38.366Z"
   },
   {
    "duration": 3,
    "start_time": "2024-02-28T15:16:40.501Z"
   },
   {
    "duration": 2589,
    "start_time": "2024-02-28T15:16:41.373Z"
   },
   {
    "duration": 3,
    "start_time": "2024-02-28T15:16:43.964Z"
   },
   {
    "duration": 24555,
    "start_time": "2024-02-28T15:16:45.086Z"
   },
   {
    "duration": 9,
    "start_time": "2024-02-28T15:17:09.643Z"
   },
   {
    "duration": 136,
    "start_time": "2024-02-28T15:17:12.194Z"
   },
   {
    "duration": 232,
    "start_time": "2024-02-28T15:17:13.510Z"
   },
   {
    "duration": 101,
    "start_time": "2024-02-28T15:20:18.372Z"
   },
   {
    "duration": 29,
    "start_time": "2024-02-28T15:21:58.222Z"
   },
   {
    "duration": 122,
    "start_time": "2024-02-28T15:22:15.331Z"
   },
   {
    "duration": 1817,
    "start_time": "2024-02-28T15:32:28.347Z"
   },
   {
    "duration": 927,
    "start_time": "2024-02-28T15:32:30.167Z"
   },
   {
    "duration": 12,
    "start_time": "2024-02-28T15:32:31.095Z"
   },
   {
    "duration": 135,
    "start_time": "2024-02-28T15:32:31.109Z"
   },
   {
    "duration": 321,
    "start_time": "2024-02-28T15:32:31.246Z"
   },
   {
    "duration": 15,
    "start_time": "2024-02-28T15:32:31.568Z"
   },
   {
    "duration": 81,
    "start_time": "2024-02-28T15:32:31.584Z"
   },
   {
    "duration": 104,
    "start_time": "2024-02-28T15:32:31.666Z"
   },
   {
    "duration": 113,
    "start_time": "2024-02-28T15:32:31.771Z"
   },
   {
    "duration": 4690,
    "start_time": "2024-02-28T15:32:31.886Z"
   },
   {
    "duration": 7,
    "start_time": "2024-02-28T15:32:36.578Z"
   },
   {
    "duration": 3,
    "start_time": "2024-02-28T15:32:36.587Z"
   },
   {
    "duration": 4,
    "start_time": "2024-02-28T15:32:36.592Z"
   },
   {
    "duration": 3761,
    "start_time": "2024-02-28T15:32:36.599Z"
   },
   {
    "duration": 4,
    "start_time": "2024-02-28T15:32:40.362Z"
   },
   {
    "duration": 15,
    "start_time": "2024-02-28T15:32:40.367Z"
   },
   {
    "duration": 2316,
    "start_time": "2024-02-28T15:32:40.384Z"
   },
   {
    "duration": 3,
    "start_time": "2024-02-28T15:32:42.701Z"
   },
   {
    "duration": 21825,
    "start_time": "2024-02-28T15:32:42.706Z"
   },
   {
    "duration": 9,
    "start_time": "2024-02-28T15:33:04.532Z"
   },
   {
    "duration": 127,
    "start_time": "2024-02-28T15:33:04.542Z"
   },
   {
    "duration": 86,
    "start_time": "2024-02-28T15:33:04.671Z"
   },
   {
    "duration": 5,
    "start_time": "2024-02-28T15:33:04.758Z"
   },
   {
    "duration": 171,
    "start_time": "2024-02-28T15:33:04.764Z"
   },
   {
    "duration": 0,
    "start_time": "2024-02-28T15:33:04.936Z"
   },
   {
    "duration": 5,
    "start_time": "2024-02-28T15:34:10.849Z"
   },
   {
    "duration": 7,
    "start_time": "2024-02-28T15:34:21.576Z"
   },
   {
    "duration": 26,
    "start_time": "2024-02-28T15:34:22.941Z"
   },
   {
    "duration": 1768,
    "start_time": "2024-02-28T15:34:53.218Z"
   },
   {
    "duration": 949,
    "start_time": "2024-02-28T15:34:54.988Z"
   },
   {
    "duration": 18,
    "start_time": "2024-02-28T15:34:55.939Z"
   },
   {
    "duration": 58,
    "start_time": "2024-02-28T15:34:55.959Z"
   },
   {
    "duration": 253,
    "start_time": "2024-02-28T15:34:56.020Z"
   },
   {
    "duration": 12,
    "start_time": "2024-02-28T15:34:56.275Z"
   },
   {
    "duration": 23,
    "start_time": "2024-02-28T15:34:56.289Z"
   },
   {
    "duration": 20,
    "start_time": "2024-02-28T15:34:56.314Z"
   },
   {
    "duration": 18,
    "start_time": "2024-02-28T15:34:56.336Z"
   },
   {
    "duration": 4703,
    "start_time": "2024-02-28T15:34:56.357Z"
   },
   {
    "duration": 7,
    "start_time": "2024-02-28T15:35:01.062Z"
   },
   {
    "duration": 67,
    "start_time": "2024-02-28T15:35:01.071Z"
   },
   {
    "duration": 64,
    "start_time": "2024-02-28T15:35:01.140Z"
   },
   {
    "duration": 3950,
    "start_time": "2024-02-28T15:35:01.208Z"
   },
   {
    "duration": 4,
    "start_time": "2024-02-28T15:35:05.160Z"
   },
   {
    "duration": 24,
    "start_time": "2024-02-28T15:35:05.166Z"
   },
   {
    "duration": 2283,
    "start_time": "2024-02-28T15:35:05.192Z"
   },
   {
    "duration": 6,
    "start_time": "2024-02-28T15:35:07.477Z"
   },
   {
    "duration": 21774,
    "start_time": "2024-02-28T15:35:07.484Z"
   },
   {
    "duration": 9,
    "start_time": "2024-02-28T15:35:29.259Z"
   },
   {
    "duration": 125,
    "start_time": "2024-02-28T15:35:29.269Z"
   },
   {
    "duration": 98,
    "start_time": "2024-02-28T15:35:29.395Z"
   },
   {
    "duration": 6,
    "start_time": "2024-02-28T15:35:29.494Z"
   },
   {
    "duration": 41,
    "start_time": "2024-02-28T15:35:29.502Z"
   },
   {
    "duration": 103,
    "start_time": "2024-02-28T15:35:29.545Z"
   },
   {
    "duration": 1785,
    "start_time": "2024-02-28T15:39:33.544Z"
   },
   {
    "duration": 957,
    "start_time": "2024-02-28T15:39:35.331Z"
   },
   {
    "duration": 14,
    "start_time": "2024-02-28T15:39:36.290Z"
   },
   {
    "duration": 58,
    "start_time": "2024-02-28T15:39:36.307Z"
   },
   {
    "duration": 257,
    "start_time": "2024-02-28T15:39:36.367Z"
   },
   {
    "duration": 9,
    "start_time": "2024-02-28T15:39:36.626Z"
   },
   {
    "duration": 10,
    "start_time": "2024-02-28T15:39:36.636Z"
   },
   {
    "duration": 25,
    "start_time": "2024-02-28T15:39:36.648Z"
   },
   {
    "duration": 18,
    "start_time": "2024-02-28T15:39:36.675Z"
   },
   {
    "duration": 4644,
    "start_time": "2024-02-28T15:39:36.696Z"
   },
   {
    "duration": 8,
    "start_time": "2024-02-28T15:39:41.342Z"
   },
   {
    "duration": 22,
    "start_time": "2024-02-28T15:39:41.351Z"
   },
   {
    "duration": 34,
    "start_time": "2024-02-28T15:39:41.375Z"
   },
   {
    "duration": 3819,
    "start_time": "2024-02-28T15:39:41.411Z"
   },
   {
    "duration": 4,
    "start_time": "2024-02-28T15:39:45.232Z"
   },
   {
    "duration": 47,
    "start_time": "2024-02-28T15:39:45.237Z"
   },
   {
    "duration": 2331,
    "start_time": "2024-02-28T15:39:45.286Z"
   },
   {
    "duration": 3,
    "start_time": "2024-02-28T15:39:47.619Z"
   },
   {
    "duration": 22094,
    "start_time": "2024-02-28T15:39:47.623Z"
   },
   {
    "duration": 9,
    "start_time": "2024-02-28T15:40:09.718Z"
   },
   {
    "duration": 132,
    "start_time": "2024-02-28T15:40:09.728Z"
   },
   {
    "duration": 86,
    "start_time": "2024-02-28T15:40:09.868Z"
   },
   {
    "duration": 4,
    "start_time": "2024-02-28T15:40:09.956Z"
   },
   {
    "duration": 166,
    "start_time": "2024-02-28T15:40:09.962Z"
   },
   {
    "duration": 0,
    "start_time": "2024-02-28T15:40:10.130Z"
   },
   {
    "duration": 4,
    "start_time": "2024-02-28T15:42:52.486Z"
   },
   {
    "duration": 26,
    "start_time": "2024-02-28T15:42:54.082Z"
   },
   {
    "duration": 127,
    "start_time": "2024-02-28T15:42:56.950Z"
   },
   {
    "duration": 1691,
    "start_time": "2024-02-28T15:44:27.011Z"
   },
   {
    "duration": 916,
    "start_time": "2024-02-28T15:44:28.704Z"
   },
   {
    "duration": 12,
    "start_time": "2024-02-28T15:44:29.622Z"
   },
   {
    "duration": 46,
    "start_time": "2024-02-28T15:44:29.636Z"
   },
   {
    "duration": 249,
    "start_time": "2024-02-28T15:44:29.684Z"
   },
   {
    "duration": 7,
    "start_time": "2024-02-28T15:44:29.935Z"
   },
   {
    "duration": 10,
    "start_time": "2024-02-28T15:44:29.944Z"
   },
   {
    "duration": 40,
    "start_time": "2024-02-28T15:44:29.955Z"
   },
   {
    "duration": 4,
    "start_time": "2024-02-28T15:44:29.997Z"
   },
   {
    "duration": 4719,
    "start_time": "2024-02-28T15:44:30.005Z"
   },
   {
    "duration": 7,
    "start_time": "2024-02-28T15:44:34.726Z"
   },
   {
    "duration": 19,
    "start_time": "2024-02-28T15:44:34.735Z"
   },
   {
    "duration": 22,
    "start_time": "2024-02-28T15:44:34.755Z"
   },
   {
    "duration": 3995,
    "start_time": "2024-02-28T15:44:34.778Z"
   },
   {
    "duration": 8,
    "start_time": "2024-02-28T15:44:38.775Z"
   },
   {
    "duration": 4,
    "start_time": "2024-02-28T15:44:38.784Z"
   },
   {
    "duration": 2303,
    "start_time": "2024-02-28T15:44:38.790Z"
   },
   {
    "duration": 4,
    "start_time": "2024-02-28T15:44:41.095Z"
   },
   {
    "duration": 21576,
    "start_time": "2024-02-28T15:44:41.100Z"
   },
   {
    "duration": 11,
    "start_time": "2024-02-28T15:45:02.677Z"
   },
   {
    "duration": 144,
    "start_time": "2024-02-28T15:45:02.690Z"
   },
   {
    "duration": 110,
    "start_time": "2024-02-28T15:45:02.836Z"
   },
   {
    "duration": 6,
    "start_time": "2024-02-28T15:45:02.948Z"
   },
   {
    "duration": 37,
    "start_time": "2024-02-28T15:45:02.955Z"
   },
   {
    "duration": 109,
    "start_time": "2024-02-28T15:45:02.994Z"
   },
   {
    "duration": 1300,
    "start_time": "2024-02-28T16:08:05.550Z"
   },
   {
    "duration": 585,
    "start_time": "2024-02-28T16:08:30.903Z"
   },
   {
    "duration": 2041,
    "start_time": "2024-02-28T17:27:49.907Z"
   },
   {
    "duration": 2537,
    "start_time": "2024-02-28T17:27:51.950Z"
   },
   {
    "duration": 12,
    "start_time": "2024-02-28T17:27:54.489Z"
   },
   {
    "duration": 34,
    "start_time": "2024-02-28T17:27:54.504Z"
   },
   {
    "duration": 260,
    "start_time": "2024-02-28T17:27:54.540Z"
   },
   {
    "duration": 9,
    "start_time": "2024-02-28T17:27:54.803Z"
   },
   {
    "duration": 17,
    "start_time": "2024-02-28T17:27:54.815Z"
   },
   {
    "duration": 11,
    "start_time": "2024-02-28T17:27:54.834Z"
   },
   {
    "duration": 5,
    "start_time": "2024-02-28T17:27:54.847Z"
   },
   {
    "duration": 4874,
    "start_time": "2024-02-28T17:27:54.883Z"
   },
   {
    "duration": 7,
    "start_time": "2024-02-28T17:27:59.759Z"
   },
   {
    "duration": 18,
    "start_time": "2024-02-28T17:27:59.768Z"
   },
   {
    "duration": 3,
    "start_time": "2024-02-28T17:27:59.789Z"
   },
   {
    "duration": 4057,
    "start_time": "2024-02-28T17:27:59.794Z"
   },
   {
    "duration": 4,
    "start_time": "2024-02-28T17:28:03.853Z"
   },
   {
    "duration": 11,
    "start_time": "2024-02-28T17:28:03.859Z"
   },
   {
    "duration": 2428,
    "start_time": "2024-02-28T17:28:03.873Z"
   },
   {
    "duration": 3,
    "start_time": "2024-02-28T17:28:06.303Z"
   },
   {
    "duration": 21981,
    "start_time": "2024-02-28T17:28:06.307Z"
   },
   {
    "duration": 10,
    "start_time": "2024-02-28T17:28:28.289Z"
   },
   {
    "duration": 131,
    "start_time": "2024-02-28T17:28:28.301Z"
   },
   {
    "duration": 93,
    "start_time": "2024-02-28T17:28:28.433Z"
   },
   {
    "duration": 5,
    "start_time": "2024-02-28T17:28:28.529Z"
   },
   {
    "duration": 34,
    "start_time": "2024-02-28T17:28:28.535Z"
   },
   {
    "duration": 116,
    "start_time": "2024-02-28T17:28:28.570Z"
   },
   {
    "duration": 1745,
    "start_time": "2024-02-28T17:32:55.960Z"
   },
   {
    "duration": 950,
    "start_time": "2024-02-28T17:32:57.707Z"
   },
   {
    "duration": 15,
    "start_time": "2024-02-28T17:32:58.658Z"
   },
   {
    "duration": 41,
    "start_time": "2024-02-28T17:32:58.682Z"
   },
   {
    "duration": 262,
    "start_time": "2024-02-28T17:32:58.725Z"
   },
   {
    "duration": 11,
    "start_time": "2024-02-28T17:32:58.989Z"
   },
   {
    "duration": 17,
    "start_time": "2024-02-28T17:32:59.002Z"
   },
   {
    "duration": 19,
    "start_time": "2024-02-28T17:32:59.021Z"
   },
   {
    "duration": 5,
    "start_time": "2024-02-28T17:32:59.042Z"
   },
   {
    "duration": 4846,
    "start_time": "2024-02-28T17:32:59.050Z"
   },
   {
    "duration": 7,
    "start_time": "2024-02-28T17:33:03.898Z"
   },
   {
    "duration": 9,
    "start_time": "2024-02-28T17:33:03.907Z"
   },
   {
    "duration": 5,
    "start_time": "2024-02-28T17:33:03.918Z"
   },
   {
    "duration": 3891,
    "start_time": "2024-02-28T17:33:03.925Z"
   },
   {
    "duration": 4,
    "start_time": "2024-02-28T17:33:07.818Z"
   },
   {
    "duration": 11,
    "start_time": "2024-02-28T17:33:07.823Z"
   },
   {
    "duration": 2341,
    "start_time": "2024-02-28T17:33:07.835Z"
   },
   {
    "duration": 4,
    "start_time": "2024-02-28T17:33:10.178Z"
   },
   {
    "duration": 22229,
    "start_time": "2024-02-28T17:33:10.183Z"
   },
   {
    "duration": 432,
    "start_time": "2024-02-28T17:33:32.414Z"
   },
   {
    "duration": 7,
    "start_time": "2024-02-28T17:33:32.848Z"
   },
   {
    "duration": 118,
    "start_time": "2024-02-28T17:33:32.856Z"
   },
   {
    "duration": 117,
    "start_time": "2024-02-28T17:33:32.976Z"
   },
   {
    "duration": 5,
    "start_time": "2024-02-28T17:33:33.095Z"
   },
   {
    "duration": 44,
    "start_time": "2024-02-28T17:33:33.101Z"
   },
   {
    "duration": 166,
    "start_time": "2024-02-28T17:33:33.147Z"
   },
   {
    "duration": 1749,
    "start_time": "2024-02-28T17:36:13.193Z"
   },
   {
    "duration": 2451,
    "start_time": "2024-02-28T17:36:14.944Z"
   },
   {
    "duration": 11,
    "start_time": "2024-02-28T17:36:17.397Z"
   },
   {
    "duration": 37,
    "start_time": "2024-02-28T17:36:17.410Z"
   },
   {
    "duration": 253,
    "start_time": "2024-02-28T17:36:17.448Z"
   },
   {
    "duration": 8,
    "start_time": "2024-02-28T17:36:17.702Z"
   },
   {
    "duration": 11,
    "start_time": "2024-02-28T17:36:17.712Z"
   },
   {
    "duration": 13,
    "start_time": "2024-02-28T17:36:17.725Z"
   },
   {
    "duration": 11,
    "start_time": "2024-02-28T17:36:17.740Z"
   },
   {
    "duration": 4933,
    "start_time": "2024-02-28T17:36:17.753Z"
   },
   {
    "duration": 8,
    "start_time": "2024-02-28T17:36:22.687Z"
   },
   {
    "duration": 4,
    "start_time": "2024-02-28T17:36:22.697Z"
   },
   {
    "duration": 4,
    "start_time": "2024-02-28T17:36:22.703Z"
   },
   {
    "duration": 4004,
    "start_time": "2024-02-28T17:36:22.709Z"
   },
   {
    "duration": 5,
    "start_time": "2024-02-28T17:36:26.714Z"
   },
   {
    "duration": 4,
    "start_time": "2024-02-28T17:36:26.721Z"
   },
   {
    "duration": 2360,
    "start_time": "2024-02-28T17:36:26.727Z"
   },
   {
    "duration": 4,
    "start_time": "2024-02-28T17:36:29.089Z"
   },
   {
    "duration": 22068,
    "start_time": "2024-02-28T17:36:29.096Z"
   },
   {
    "duration": 435,
    "start_time": "2024-02-28T17:36:51.165Z"
   },
   {
    "duration": 9,
    "start_time": "2024-02-28T17:36:51.602Z"
   },
   {
    "duration": 120,
    "start_time": "2024-02-28T17:36:51.613Z"
   },
   {
    "duration": 97,
    "start_time": "2024-02-28T17:36:51.735Z"
   },
   {
    "duration": 5,
    "start_time": "2024-02-28T17:36:51.834Z"
   },
   {
    "duration": 55,
    "start_time": "2024-02-28T17:36:51.840Z"
   },
   {
    "duration": 114,
    "start_time": "2024-02-28T17:36:51.901Z"
   },
   {
    "duration": 51,
    "start_time": "2024-02-28T17:37:48.860Z"
   },
   {
    "duration": 1820,
    "start_time": "2024-02-28T17:37:58.253Z"
   },
   {
    "duration": 2453,
    "start_time": "2024-02-28T17:38:00.075Z"
   },
   {
    "duration": 20,
    "start_time": "2024-02-28T17:38:02.530Z"
   },
   {
    "duration": 85,
    "start_time": "2024-02-28T17:38:02.553Z"
   },
   {
    "duration": 304,
    "start_time": "2024-02-28T17:38:02.640Z"
   },
   {
    "duration": 8,
    "start_time": "2024-02-28T17:38:02.946Z"
   },
   {
    "duration": 26,
    "start_time": "2024-02-28T17:38:02.956Z"
   },
   {
    "duration": 15,
    "start_time": "2024-02-28T17:38:02.984Z"
   },
   {
    "duration": 8,
    "start_time": "2024-02-28T17:38:03.000Z"
   },
   {
    "duration": 4812,
    "start_time": "2024-02-28T17:38:03.010Z"
   },
   {
    "duration": 21,
    "start_time": "2024-02-28T17:38:07.823Z"
   },
   {
    "duration": 5,
    "start_time": "2024-02-28T17:38:07.847Z"
   },
   {
    "duration": 4,
    "start_time": "2024-02-28T17:38:07.855Z"
   },
   {
    "duration": 3865,
    "start_time": "2024-02-28T17:38:07.862Z"
   },
   {
    "duration": 5,
    "start_time": "2024-02-28T17:38:11.730Z"
   },
   {
    "duration": 4,
    "start_time": "2024-02-28T17:38:11.737Z"
   },
   {
    "duration": 2451,
    "start_time": "2024-02-28T17:38:11.742Z"
   },
   {
    "duration": 3,
    "start_time": "2024-02-28T17:38:14.194Z"
   },
   {
    "duration": 22293,
    "start_time": "2024-02-28T17:38:14.198Z"
   },
   {
    "duration": 381,
    "start_time": "2024-02-28T17:38:36.493Z"
   },
   {
    "duration": 10,
    "start_time": "2024-02-28T17:38:36.876Z"
   },
   {
    "duration": 131,
    "start_time": "2024-02-28T17:38:36.888Z"
   },
   {
    "duration": 91,
    "start_time": "2024-02-28T17:38:37.021Z"
   },
   {
    "duration": 5,
    "start_time": "2024-02-28T17:38:37.113Z"
   },
   {
    "duration": 45,
    "start_time": "2024-02-28T17:38:37.120Z"
   },
   {
    "duration": 99,
    "start_time": "2024-02-28T17:38:37.167Z"
   },
   {
    "duration": 1790,
    "start_time": "2024-02-28T17:39:26.306Z"
   },
   {
    "duration": 2410,
    "start_time": "2024-02-28T17:39:28.098Z"
   },
   {
    "duration": 12,
    "start_time": "2024-02-28T17:39:30.509Z"
   },
   {
    "duration": 122,
    "start_time": "2024-02-28T17:39:30.523Z"
   },
   {
    "duration": 316,
    "start_time": "2024-02-28T17:39:30.647Z"
   },
   {
    "duration": 18,
    "start_time": "2024-02-28T17:39:30.965Z"
   },
   {
    "duration": 69,
    "start_time": "2024-02-28T17:39:30.985Z"
   },
   {
    "duration": 124,
    "start_time": "2024-02-28T17:39:31.057Z"
   },
   {
    "duration": 211,
    "start_time": "2024-02-28T17:39:31.183Z"
   },
   {
    "duration": 4968,
    "start_time": "2024-02-28T17:39:31.397Z"
   },
   {
    "duration": 7,
    "start_time": "2024-02-28T17:39:36.367Z"
   },
   {
    "duration": 7,
    "start_time": "2024-02-28T17:39:36.382Z"
   },
   {
    "duration": 16,
    "start_time": "2024-02-28T17:39:36.390Z"
   },
   {
    "duration": 3883,
    "start_time": "2024-02-28T17:39:36.409Z"
   },
   {
    "duration": 5,
    "start_time": "2024-02-28T17:39:40.293Z"
   },
   {
    "duration": 5,
    "start_time": "2024-02-28T17:39:40.300Z"
   },
   {
    "duration": 2406,
    "start_time": "2024-02-28T17:39:40.307Z"
   },
   {
    "duration": 4,
    "start_time": "2024-02-28T17:39:42.714Z"
   },
   {
    "duration": 22110,
    "start_time": "2024-02-28T17:39:42.720Z"
   },
   {
    "duration": 422,
    "start_time": "2024-02-28T17:40:04.833Z"
   },
   {
    "duration": 8,
    "start_time": "2024-02-28T17:40:05.257Z"
   },
   {
    "duration": 126,
    "start_time": "2024-02-28T17:40:05.267Z"
   },
   {
    "duration": 95,
    "start_time": "2024-02-28T17:40:05.394Z"
   },
   {
    "duration": 5,
    "start_time": "2024-02-28T17:40:05.491Z"
   },
   {
    "duration": 58,
    "start_time": "2024-02-28T17:40:05.497Z"
   },
   {
    "duration": 102,
    "start_time": "2024-02-28T17:40:05.557Z"
   },
   {
    "duration": 1715,
    "start_time": "2024-02-28T17:42:37.632Z"
   },
   {
    "duration": 2457,
    "start_time": "2024-02-28T17:42:39.490Z"
   },
   {
    "duration": 16,
    "start_time": "2024-02-28T17:42:42.749Z"
   },
   {
    "duration": 40,
    "start_time": "2024-02-28T17:42:43.665Z"
   },
   {
    "duration": 256,
    "start_time": "2024-02-28T17:42:45.030Z"
   },
   {
    "duration": 9,
    "start_time": "2024-02-28T17:42:46.206Z"
   },
   {
    "duration": 10,
    "start_time": "2024-02-28T17:42:48.644Z"
   },
   {
    "duration": 7,
    "start_time": "2024-02-28T17:42:49.062Z"
   },
   {
    "duration": 4,
    "start_time": "2024-02-28T17:42:50.335Z"
   },
   {
    "duration": 4836,
    "start_time": "2024-02-28T17:42:51.169Z"
   },
   {
    "duration": 7,
    "start_time": "2024-02-28T17:42:56.008Z"
   },
   {
    "duration": 35,
    "start_time": "2024-02-28T17:42:56.017Z"
   },
   {
    "duration": 21,
    "start_time": "2024-02-28T17:42:56.054Z"
   },
   {
    "duration": 3819,
    "start_time": "2024-02-28T17:42:56.077Z"
   },
   {
    "duration": 5,
    "start_time": "2024-02-28T17:42:59.898Z"
   },
   {
    "duration": 5,
    "start_time": "2024-02-28T17:42:59.905Z"
   },
   {
    "duration": 2400,
    "start_time": "2024-02-28T17:42:59.912Z"
   },
   {
    "duration": 3,
    "start_time": "2024-02-28T17:43:02.314Z"
   },
   {
    "duration": 22378,
    "start_time": "2024-02-28T17:43:02.320Z"
   },
   {
    "duration": 378,
    "start_time": "2024-02-28T17:43:24.700Z"
   },
   {
    "duration": 6,
    "start_time": "2024-02-28T17:43:25.080Z"
   },
   {
    "duration": 110,
    "start_time": "2024-02-28T17:43:26.194Z"
   },
   {
    "duration": 84,
    "start_time": "2024-02-28T17:43:28.296Z"
   },
   {
    "duration": 4,
    "start_time": "2024-02-28T17:43:29.736Z"
   },
   {
    "duration": 35,
    "start_time": "2024-02-28T17:43:30.697Z"
   },
   {
    "duration": 122,
    "start_time": "2024-02-28T17:43:31.878Z"
   },
   {
    "duration": 1417,
    "start_time": "2024-02-28T17:43:32.943Z"
   },
   {
    "duration": 465,
    "start_time": "2024-02-28T17:43:35.800Z"
   },
   {
    "duration": 1733,
    "start_time": "2024-02-28T17:52:14.231Z"
   },
   {
    "duration": 2478,
    "start_time": "2024-02-28T17:52:15.966Z"
   },
   {
    "duration": 12,
    "start_time": "2024-02-28T17:52:18.446Z"
   },
   {
    "duration": 53,
    "start_time": "2024-02-28T17:52:18.461Z"
   },
   {
    "duration": 292,
    "start_time": "2024-02-28T17:52:18.516Z"
   },
   {
    "duration": 9,
    "start_time": "2024-02-28T17:52:18.809Z"
   },
   {
    "duration": 10,
    "start_time": "2024-02-28T17:52:18.819Z"
   },
   {
    "duration": 13,
    "start_time": "2024-02-28T17:52:18.830Z"
   },
   {
    "duration": 6,
    "start_time": "2024-02-28T17:52:18.845Z"
   },
   {
    "duration": 5038,
    "start_time": "2024-02-28T17:52:18.854Z"
   },
   {
    "duration": 8,
    "start_time": "2024-02-28T17:52:23.894Z"
   },
   {
    "duration": 27,
    "start_time": "2024-02-28T17:52:23.904Z"
   },
   {
    "duration": 4,
    "start_time": "2024-02-28T17:52:23.933Z"
   },
   {
    "duration": 4018,
    "start_time": "2024-02-28T17:52:23.938Z"
   },
   {
    "duration": 4,
    "start_time": "2024-02-28T17:52:27.958Z"
   },
   {
    "duration": 19,
    "start_time": "2024-02-28T17:52:27.964Z"
   },
   {
    "duration": 2373,
    "start_time": "2024-02-28T17:52:27.985Z"
   },
   {
    "duration": 3,
    "start_time": "2024-02-28T17:52:30.360Z"
   },
   {
    "duration": 22273,
    "start_time": "2024-02-28T17:52:30.364Z"
   },
   {
    "duration": 386,
    "start_time": "2024-02-28T17:52:52.639Z"
   },
   {
    "duration": 7,
    "start_time": "2024-02-28T17:52:53.026Z"
   },
   {
    "duration": 126,
    "start_time": "2024-02-28T17:52:53.035Z"
   },
   {
    "duration": 94,
    "start_time": "2024-02-28T17:52:53.164Z"
   },
   {
    "duration": 4,
    "start_time": "2024-02-28T17:52:53.260Z"
   },
   {
    "duration": 46,
    "start_time": "2024-02-28T17:52:53.267Z"
   },
   {
    "duration": 113,
    "start_time": "2024-02-28T17:52:53.315Z"
   },
   {
    "duration": 3,
    "start_time": "2024-02-28T17:52:53.430Z"
   },
   {
    "duration": 136,
    "start_time": "2024-02-28T17:53:17.718Z"
   },
   {
    "duration": 4,
    "start_time": "2024-02-28T17:53:55.893Z"
   },
   {
    "duration": 2450,
    "start_time": "2024-02-28T17:54:18.661Z"
   },
   {
    "duration": 4,
    "start_time": "2024-02-28T17:57:13.224Z"
   },
   {
    "duration": 1698,
    "start_time": "2024-02-28T17:59:10.225Z"
   },
   {
    "duration": 941,
    "start_time": "2024-02-28T17:59:11.925Z"
   },
   {
    "duration": 19,
    "start_time": "2024-02-28T17:59:12.868Z"
   },
   {
    "duration": 33,
    "start_time": "2024-02-28T17:59:12.889Z"
   },
   {
    "duration": 279,
    "start_time": "2024-02-28T17:59:12.923Z"
   },
   {
    "duration": 11,
    "start_time": "2024-02-28T17:59:13.205Z"
   },
   {
    "duration": 14,
    "start_time": "2024-02-28T17:59:13.218Z"
   },
   {
    "duration": 7,
    "start_time": "2024-02-28T17:59:13.234Z"
   },
   {
    "duration": 4,
    "start_time": "2024-02-28T17:59:13.243Z"
   },
   {
    "duration": 4904,
    "start_time": "2024-02-28T17:59:13.249Z"
   },
   {
    "duration": 7,
    "start_time": "2024-02-28T17:59:18.154Z"
   },
   {
    "duration": 5,
    "start_time": "2024-02-28T17:59:18.163Z"
   },
   {
    "duration": 15,
    "start_time": "2024-02-28T17:59:18.169Z"
   },
   {
    "duration": 4134,
    "start_time": "2024-02-28T17:59:18.185Z"
   },
   {
    "duration": 5,
    "start_time": "2024-02-28T17:59:22.320Z"
   },
   {
    "duration": 10,
    "start_time": "2024-02-28T17:59:22.327Z"
   },
   {
    "duration": 2371,
    "start_time": "2024-02-28T17:59:22.339Z"
   },
   {
    "duration": 3,
    "start_time": "2024-02-28T17:59:24.712Z"
   },
   {
    "duration": 22076,
    "start_time": "2024-02-28T17:59:24.717Z"
   },
   {
    "duration": 381,
    "start_time": "2024-02-28T17:59:46.795Z"
   },
   {
    "duration": 8,
    "start_time": "2024-02-28T17:59:47.177Z"
   },
   {
    "duration": 122,
    "start_time": "2024-02-28T17:59:47.186Z"
   },
   {
    "duration": 87,
    "start_time": "2024-02-28T17:59:47.310Z"
   },
   {
    "duration": 4,
    "start_time": "2024-02-28T17:59:47.399Z"
   },
   {
    "duration": 20,
    "start_time": "2024-02-28T17:59:47.405Z"
   },
   {
    "duration": 122,
    "start_time": "2024-02-28T17:59:47.426Z"
   },
   {
    "duration": 2,
    "start_time": "2024-02-28T17:59:47.550Z"
   },
   {
    "duration": 3142,
    "start_time": "2024-02-28T17:59:47.555Z"
   },
   {
    "duration": 3,
    "start_time": "2024-02-28T17:59:50.699Z"
   },
   {
    "duration": 1668,
    "start_time": "2024-02-28T18:02:51.236Z"
   },
   {
    "duration": 990,
    "start_time": "2024-02-28T18:02:52.906Z"
   },
   {
    "duration": 14,
    "start_time": "2024-02-28T18:02:53.899Z"
   },
   {
    "duration": 34,
    "start_time": "2024-02-28T18:02:53.915Z"
   },
   {
    "duration": 265,
    "start_time": "2024-02-28T18:02:53.950Z"
   },
   {
    "duration": 7,
    "start_time": "2024-02-28T18:02:54.217Z"
   },
   {
    "duration": 10,
    "start_time": "2024-02-28T18:02:54.226Z"
   },
   {
    "duration": 14,
    "start_time": "2024-02-28T18:02:54.237Z"
   },
   {
    "duration": 17,
    "start_time": "2024-02-28T18:02:54.252Z"
   },
   {
    "duration": 4771,
    "start_time": "2024-02-28T18:02:54.283Z"
   },
   {
    "duration": 8,
    "start_time": "2024-02-28T18:02:59.055Z"
   },
   {
    "duration": 17,
    "start_time": "2024-02-28T18:02:59.066Z"
   },
   {
    "duration": 7,
    "start_time": "2024-02-28T18:02:59.085Z"
   },
   {
    "duration": 3921,
    "start_time": "2024-02-28T18:02:59.094Z"
   },
   {
    "duration": 5,
    "start_time": "2024-02-28T18:03:03.017Z"
   },
   {
    "duration": 18,
    "start_time": "2024-02-28T18:03:03.023Z"
   },
   {
    "duration": 2366,
    "start_time": "2024-02-28T18:03:03.043Z"
   },
   {
    "duration": 2,
    "start_time": "2024-02-28T18:03:05.411Z"
   },
   {
    "duration": 21759,
    "start_time": "2024-02-28T18:03:05.415Z"
   },
   {
    "duration": 375,
    "start_time": "2024-02-28T18:03:27.176Z"
   },
   {
    "duration": 8,
    "start_time": "2024-02-28T18:03:27.552Z"
   },
   {
    "duration": 135,
    "start_time": "2024-02-28T18:03:27.562Z"
   },
   {
    "duration": 97,
    "start_time": "2024-02-28T18:03:27.699Z"
   },
   {
    "duration": 4,
    "start_time": "2024-02-28T18:03:27.798Z"
   },
   {
    "duration": 34,
    "start_time": "2024-02-28T18:03:27.804Z"
   },
   {
    "duration": 117,
    "start_time": "2024-02-28T18:03:27.840Z"
   },
   {
    "duration": 3,
    "start_time": "2024-02-28T18:03:27.959Z"
   },
   {
    "duration": 1656,
    "start_time": "2024-02-28T18:03:27.965Z"
   },
   {
    "duration": 4,
    "start_time": "2024-02-28T18:03:29.625Z"
   },
   {
    "duration": 1766,
    "start_time": "2024-02-28T18:05:34.752Z"
   },
   {
    "duration": 940,
    "start_time": "2024-02-28T18:05:36.522Z"
   },
   {
    "duration": 18,
    "start_time": "2024-02-28T18:05:37.464Z"
   },
   {
    "duration": 39,
    "start_time": "2024-02-28T18:05:37.484Z"
   },
   {
    "duration": 242,
    "start_time": "2024-02-28T18:05:37.525Z"
   },
   {
    "duration": 14,
    "start_time": "2024-02-28T18:05:37.769Z"
   },
   {
    "duration": 17,
    "start_time": "2024-02-28T18:05:37.786Z"
   },
   {
    "duration": 15,
    "start_time": "2024-02-28T18:05:37.805Z"
   },
   {
    "duration": 4,
    "start_time": "2024-02-28T18:05:37.822Z"
   },
   {
    "duration": 4824,
    "start_time": "2024-02-28T18:05:37.830Z"
   },
   {
    "duration": 8,
    "start_time": "2024-02-28T18:05:42.656Z"
   },
   {
    "duration": 16,
    "start_time": "2024-02-28T18:05:42.666Z"
   },
   {
    "duration": 11,
    "start_time": "2024-02-28T18:05:42.683Z"
   },
   {
    "duration": 3926,
    "start_time": "2024-02-28T18:05:42.696Z"
   },
   {
    "duration": 5,
    "start_time": "2024-02-28T18:05:46.624Z"
   },
   {
    "duration": 6,
    "start_time": "2024-02-28T18:05:46.631Z"
   },
   {
    "duration": 2390,
    "start_time": "2024-02-28T18:05:46.640Z"
   },
   {
    "duration": 3,
    "start_time": "2024-02-28T18:05:49.032Z"
   },
   {
    "duration": 22157,
    "start_time": "2024-02-28T18:05:49.037Z"
   },
   {
    "duration": 386,
    "start_time": "2024-02-28T18:06:11.196Z"
   },
   {
    "duration": 8,
    "start_time": "2024-02-28T18:06:11.583Z"
   },
   {
    "duration": 126,
    "start_time": "2024-02-28T18:06:11.593Z"
   },
   {
    "duration": 108,
    "start_time": "2024-02-28T18:06:11.721Z"
   },
   {
    "duration": 7,
    "start_time": "2024-02-28T18:06:11.831Z"
   },
   {
    "duration": 47,
    "start_time": "2024-02-28T18:06:11.840Z"
   },
   {
    "duration": 155,
    "start_time": "2024-02-28T18:06:11.889Z"
   },
   {
    "duration": 3,
    "start_time": "2024-02-28T18:06:12.046Z"
   },
   {
    "duration": 2349,
    "start_time": "2024-02-28T18:06:12.054Z"
   },
   {
    "duration": 4,
    "start_time": "2024-02-28T18:06:14.405Z"
   },
   {
    "duration": 1748,
    "start_time": "2024-02-28T18:07:53.658Z"
   },
   {
    "duration": 966,
    "start_time": "2024-02-28T18:07:55.408Z"
   },
   {
    "duration": 15,
    "start_time": "2024-02-28T18:07:56.376Z"
   },
   {
    "duration": 39,
    "start_time": "2024-02-28T18:07:56.393Z"
   },
   {
    "duration": 264,
    "start_time": "2024-02-28T18:07:56.434Z"
   },
   {
    "duration": 8,
    "start_time": "2024-02-28T18:07:56.700Z"
   },
   {
    "duration": 24,
    "start_time": "2024-02-28T18:07:56.709Z"
   },
   {
    "duration": 11,
    "start_time": "2024-02-28T18:07:56.736Z"
   },
   {
    "duration": 4,
    "start_time": "2024-02-28T18:07:56.749Z"
   },
   {
    "duration": 4820,
    "start_time": "2024-02-28T18:07:56.757Z"
   },
   {
    "duration": 10,
    "start_time": "2024-02-28T18:08:01.578Z"
   },
   {
    "duration": 60,
    "start_time": "2024-02-28T18:08:01.590Z"
   },
   {
    "duration": 96,
    "start_time": "2024-02-28T18:08:01.652Z"
   },
   {
    "duration": 3964,
    "start_time": "2024-02-28T18:08:01.750Z"
   },
   {
    "duration": 5,
    "start_time": "2024-02-28T18:08:05.716Z"
   },
   {
    "duration": 3,
    "start_time": "2024-02-28T18:08:05.723Z"
   },
   {
    "duration": 2366,
    "start_time": "2024-02-28T18:08:05.728Z"
   },
   {
    "duration": 4,
    "start_time": "2024-02-28T18:08:08.096Z"
   },
   {
    "duration": 22040,
    "start_time": "2024-02-28T18:08:08.102Z"
   },
   {
    "duration": 474,
    "start_time": "2024-02-28T18:08:30.144Z"
   },
   {
    "duration": 7,
    "start_time": "2024-02-28T18:08:30.620Z"
   },
   {
    "duration": 140,
    "start_time": "2024-02-28T18:08:30.628Z"
   },
   {
    "duration": 114,
    "start_time": "2024-02-28T18:08:30.770Z"
   },
   {
    "duration": 5,
    "start_time": "2024-02-28T18:08:30.886Z"
   },
   {
    "duration": 185,
    "start_time": "2024-02-28T18:08:30.893Z"
   },
   {
    "duration": 121,
    "start_time": "2024-02-28T18:08:31.080Z"
   },
   {
    "duration": 3,
    "start_time": "2024-02-28T18:08:31.203Z"
   },
   {
    "duration": 2434,
    "start_time": "2024-02-28T18:08:31.208Z"
   },
   {
    "duration": 4,
    "start_time": "2024-02-28T18:08:33.644Z"
   },
   {
    "duration": 5110,
    "start_time": "2024-02-28T18:10:22.511Z"
   },
   {
    "duration": 4,
    "start_time": "2024-02-28T18:10:28.581Z"
   },
   {
    "duration": 3,
    "start_time": "2024-02-28T18:11:26.092Z"
   },
   {
    "duration": 138,
    "start_time": "2024-02-28T18:12:42.146Z"
   },
   {
    "duration": 1714,
    "start_time": "2024-02-28T18:20:06.006Z"
   },
   {
    "duration": 978,
    "start_time": "2024-02-28T18:20:07.722Z"
   },
   {
    "duration": 13,
    "start_time": "2024-02-28T18:20:08.703Z"
   },
   {
    "duration": 41,
    "start_time": "2024-02-28T18:20:08.719Z"
   },
   {
    "duration": 265,
    "start_time": "2024-02-28T18:20:08.762Z"
   },
   {
    "duration": 7,
    "start_time": "2024-02-28T18:20:09.029Z"
   },
   {
    "duration": 13,
    "start_time": "2024-02-28T18:20:09.038Z"
   },
   {
    "duration": 31,
    "start_time": "2024-02-28T18:20:09.052Z"
   },
   {
    "duration": 4,
    "start_time": "2024-02-28T18:20:09.084Z"
   },
   {
    "duration": 4804,
    "start_time": "2024-02-28T18:20:09.091Z"
   },
   {
    "duration": 13,
    "start_time": "2024-02-28T18:20:13.897Z"
   },
   {
    "duration": 3,
    "start_time": "2024-02-28T18:20:13.913Z"
   },
   {
    "duration": 10,
    "start_time": "2024-02-28T18:20:13.918Z"
   },
   {
    "duration": 3813,
    "start_time": "2024-02-28T18:20:13.930Z"
   },
   {
    "duration": 4,
    "start_time": "2024-02-28T18:20:17.745Z"
   },
   {
    "duration": 5,
    "start_time": "2024-02-28T18:20:17.750Z"
   },
   {
    "duration": 2391,
    "start_time": "2024-02-28T18:20:17.756Z"
   },
   {
    "duration": 3,
    "start_time": "2024-02-28T18:20:20.149Z"
   },
   {
    "duration": 22247,
    "start_time": "2024-02-28T18:20:20.153Z"
   },
   {
    "duration": 402,
    "start_time": "2024-02-28T18:20:42.402Z"
   },
   {
    "duration": 7,
    "start_time": "2024-02-28T18:20:42.805Z"
   },
   {
    "duration": 133,
    "start_time": "2024-02-28T18:20:42.814Z"
   },
   {
    "duration": 92,
    "start_time": "2024-02-28T18:20:42.949Z"
   },
   {
    "duration": 5,
    "start_time": "2024-02-28T18:20:43.043Z"
   },
   {
    "duration": 41,
    "start_time": "2024-02-28T18:20:43.049Z"
   },
   {
    "duration": 130,
    "start_time": "2024-02-28T18:20:43.091Z"
   },
   {
    "duration": 40476,
    "start_time": "2024-02-28T18:20:43.224Z"
   },
   {
    "duration": 0,
    "start_time": "2024-02-28T18:21:23.702Z"
   },
   {
    "duration": 0,
    "start_time": "2024-02-28T18:21:23.703Z"
   },
   {
    "duration": 0,
    "start_time": "2024-02-28T18:21:23.704Z"
   },
   {
    "duration": 1851,
    "start_time": "2024-02-28T18:28:53.805Z"
   },
   {
    "duration": 971,
    "start_time": "2024-02-28T18:28:55.658Z"
   },
   {
    "duration": 11,
    "start_time": "2024-02-28T18:28:56.630Z"
   },
   {
    "duration": 43,
    "start_time": "2024-02-28T18:28:56.643Z"
   },
   {
    "duration": 272,
    "start_time": "2024-02-28T18:28:56.689Z"
   },
   {
    "duration": 8,
    "start_time": "2024-02-28T18:28:56.963Z"
   },
   {
    "duration": 20,
    "start_time": "2024-02-28T18:28:56.982Z"
   },
   {
    "duration": 12,
    "start_time": "2024-02-28T18:28:57.005Z"
   },
   {
    "duration": 4,
    "start_time": "2024-02-28T18:28:57.019Z"
   },
   {
    "duration": 5303,
    "start_time": "2024-02-28T18:28:57.024Z"
   },
   {
    "duration": 7,
    "start_time": "2024-02-28T18:29:02.328Z"
   },
   {
    "duration": 19,
    "start_time": "2024-02-28T18:29:02.336Z"
   },
   {
    "duration": 25,
    "start_time": "2024-02-28T18:29:02.356Z"
   },
   {
    "duration": 4018,
    "start_time": "2024-02-28T18:29:02.386Z"
   },
   {
    "duration": 4,
    "start_time": "2024-02-28T18:29:06.407Z"
   },
   {
    "duration": 5,
    "start_time": "2024-02-28T18:29:06.413Z"
   },
   {
    "duration": 2474,
    "start_time": "2024-02-28T18:29:06.420Z"
   },
   {
    "duration": 7,
    "start_time": "2024-02-28T18:29:08.897Z"
   },
   {
    "duration": 25021,
    "start_time": "2024-02-28T18:29:08.907Z"
   },
   {
    "duration": 386,
    "start_time": "2024-02-28T18:29:33.930Z"
   },
   {
    "duration": 7,
    "start_time": "2024-02-28T18:29:34.318Z"
   },
   {
    "duration": 128,
    "start_time": "2024-02-28T18:29:34.326Z"
   },
   {
    "duration": 3,
    "start_time": "2024-02-28T18:29:34.456Z"
   },
   {
    "duration": 9,
    "start_time": "2024-02-28T18:29:34.460Z"
   },
   {
    "duration": 11,
    "start_time": "2024-02-28T18:29:34.471Z"
   },
   {
    "duration": 34,
    "start_time": "2024-02-28T18:35:45.535Z"
   },
   {
    "duration": 5,
    "start_time": "2024-02-28T18:35:53.859Z"
   },
   {
    "duration": 52,
    "start_time": "2024-02-28T18:36:11.377Z"
   },
   {
    "duration": 162,
    "start_time": "2024-02-28T18:36:25.291Z"
   },
   {
    "duration": 48,
    "start_time": "2024-02-28T18:36:48.797Z"
   },
   {
    "duration": 1911,
    "start_time": "2024-02-28T18:37:52.717Z"
   },
   {
    "duration": 1076,
    "start_time": "2024-02-28T18:37:54.630Z"
   },
   {
    "duration": 12,
    "start_time": "2024-02-28T18:37:55.712Z"
   },
   {
    "duration": 31,
    "start_time": "2024-02-28T18:37:55.726Z"
   },
   {
    "duration": 292,
    "start_time": "2024-02-28T18:37:55.758Z"
   },
   {
    "duration": 10,
    "start_time": "2024-02-28T18:37:56.052Z"
   },
   {
    "duration": 33,
    "start_time": "2024-02-28T18:37:56.064Z"
   },
   {
    "duration": 15,
    "start_time": "2024-02-28T18:37:56.099Z"
   },
   {
    "duration": 14,
    "start_time": "2024-02-28T18:37:56.118Z"
   },
   {
    "duration": 5691,
    "start_time": "2024-02-28T18:37:56.136Z"
   },
   {
    "duration": 15,
    "start_time": "2024-02-28T18:38:01.829Z"
   },
   {
    "duration": 17,
    "start_time": "2024-02-28T18:38:01.845Z"
   },
   {
    "duration": 55,
    "start_time": "2024-02-28T18:38:01.865Z"
   },
   {
    "duration": 4519,
    "start_time": "2024-02-28T18:38:01.925Z"
   },
   {
    "duration": 4,
    "start_time": "2024-02-28T18:38:06.445Z"
   },
   {
    "duration": 16,
    "start_time": "2024-02-28T18:38:06.451Z"
   },
   {
    "duration": 2651,
    "start_time": "2024-02-28T18:38:06.469Z"
   },
   {
    "duration": 5,
    "start_time": "2024-02-28T18:38:09.122Z"
   },
   {
    "duration": 26651,
    "start_time": "2024-02-28T18:38:09.128Z"
   },
   {
    "duration": 469,
    "start_time": "2024-02-28T18:38:35.782Z"
   },
   {
    "duration": 7,
    "start_time": "2024-02-28T18:38:36.252Z"
   },
   {
    "duration": 155,
    "start_time": "2024-02-28T18:38:36.260Z"
   },
   {
    "duration": 35,
    "start_time": "2024-02-28T18:38:36.416Z"
   },
   {
    "duration": 4,
    "start_time": "2024-02-28T18:38:36.453Z"
   },
   {
    "duration": 68,
    "start_time": "2024-02-28T18:38:36.459Z"
   },
   {
    "duration": 43,
    "start_time": "2024-02-28T18:38:36.528Z"
   },
   {
    "duration": 24,
    "start_time": "2024-02-28T18:38:36.583Z"
   },
   {
    "duration": 18,
    "start_time": "2024-02-28T18:38:36.613Z"
   },
   {
    "duration": 33,
    "start_time": "2024-02-28T18:38:36.633Z"
   },
   {
    "duration": 3,
    "start_time": "2024-02-28T18:38:36.669Z"
   },
   {
    "duration": 1226,
    "start_time": "2024-02-28T18:39:00.335Z"
   },
   {
    "duration": 12,
    "start_time": "2024-02-28T18:39:17.470Z"
   },
   {
    "duration": 1792,
    "start_time": "2024-02-28T18:39:28.833Z"
   },
   {
    "duration": 972,
    "start_time": "2024-02-28T18:39:30.626Z"
   },
   {
    "duration": 14,
    "start_time": "2024-02-28T18:39:31.601Z"
   },
   {
    "duration": 73,
    "start_time": "2024-02-28T18:39:31.617Z"
   },
   {
    "duration": 300,
    "start_time": "2024-02-28T18:39:31.693Z"
   },
   {
    "duration": 11,
    "start_time": "2024-02-28T18:39:31.995Z"
   },
   {
    "duration": 37,
    "start_time": "2024-02-28T18:39:32.008Z"
   },
   {
    "duration": 27,
    "start_time": "2024-02-28T18:39:32.046Z"
   },
   {
    "duration": 24,
    "start_time": "2024-02-28T18:39:32.075Z"
   },
   {
    "duration": 5372,
    "start_time": "2024-02-28T18:39:32.103Z"
   },
   {
    "duration": 11,
    "start_time": "2024-02-28T18:39:37.477Z"
   },
   {
    "duration": 7,
    "start_time": "2024-02-28T18:39:37.490Z"
   },
   {
    "duration": 11,
    "start_time": "2024-02-28T18:39:37.499Z"
   },
   {
    "duration": 4336,
    "start_time": "2024-02-28T18:39:37.512Z"
   },
   {
    "duration": 5,
    "start_time": "2024-02-28T18:39:41.850Z"
   },
   {
    "duration": 17,
    "start_time": "2024-02-28T18:39:41.856Z"
   },
   {
    "duration": 2620,
    "start_time": "2024-02-28T18:39:41.875Z"
   },
   {
    "duration": 6,
    "start_time": "2024-02-28T18:39:44.497Z"
   },
   {
    "duration": 24645,
    "start_time": "2024-02-28T18:39:44.505Z"
   },
   {
    "duration": 415,
    "start_time": "2024-02-28T18:40:09.152Z"
   },
   {
    "duration": 7,
    "start_time": "2024-02-28T18:40:09.568Z"
   },
   {
    "duration": 117,
    "start_time": "2024-02-28T18:40:09.582Z"
   },
   {
    "duration": 33,
    "start_time": "2024-02-28T18:40:09.702Z"
   },
   {
    "duration": 17,
    "start_time": "2024-02-28T18:40:09.737Z"
   },
   {
    "duration": 60,
    "start_time": "2024-02-28T18:40:09.756Z"
   },
   {
    "duration": 55,
    "start_time": "2024-02-28T18:40:09.818Z"
   },
   {
    "duration": 5,
    "start_time": "2024-02-28T18:40:09.888Z"
   },
   {
    "duration": 10,
    "start_time": "2024-02-28T18:40:09.898Z"
   },
   {
    "duration": 9,
    "start_time": "2024-02-28T18:40:09.910Z"
   },
   {
    "duration": 6,
    "start_time": "2024-02-28T18:40:09.920Z"
   },
   {
    "duration": 1230378,
    "start_time": "2024-02-28T18:40:51.156Z"
   },
   {
    "duration": 2031,
    "start_time": "2024-03-01T14:59:01.643Z"
   },
   {
    "duration": 2411,
    "start_time": "2024-03-01T14:59:03.676Z"
   },
   {
    "duration": 12,
    "start_time": "2024-03-01T14:59:06.088Z"
   },
   {
    "duration": 31,
    "start_time": "2024-03-01T14:59:06.102Z"
   },
   {
    "duration": 294,
    "start_time": "2024-03-01T14:59:06.135Z"
   },
   {
    "duration": 8,
    "start_time": "2024-03-01T14:59:06.431Z"
   },
   {
    "duration": 10,
    "start_time": "2024-03-01T14:59:06.441Z"
   },
   {
    "duration": 9,
    "start_time": "2024-03-01T14:59:06.452Z"
   },
   {
    "duration": 3,
    "start_time": "2024-03-01T14:59:06.482Z"
   },
   {
    "duration": 4740,
    "start_time": "2024-03-01T14:59:06.488Z"
   },
   {
    "duration": 8,
    "start_time": "2024-03-01T14:59:11.230Z"
   },
   {
    "duration": 3,
    "start_time": "2024-03-01T14:59:11.240Z"
   },
   {
    "duration": 8,
    "start_time": "2024-03-01T14:59:11.244Z"
   },
   {
    "duration": 3841,
    "start_time": "2024-03-01T14:59:11.253Z"
   },
   {
    "duration": 5,
    "start_time": "2024-03-01T14:59:15.096Z"
   },
   {
    "duration": 19,
    "start_time": "2024-03-01T14:59:15.103Z"
   },
   {
    "duration": 2285,
    "start_time": "2024-03-01T14:59:15.123Z"
   },
   {
    "duration": 3,
    "start_time": "2024-03-01T14:59:17.410Z"
   },
   {
    "duration": 21680,
    "start_time": "2024-03-01T14:59:17.415Z"
   },
   {
    "duration": 367,
    "start_time": "2024-03-01T14:59:39.098Z"
   },
   {
    "duration": 7,
    "start_time": "2024-03-01T14:59:39.466Z"
   },
   {
    "duration": 122,
    "start_time": "2024-03-01T14:59:39.474Z"
   },
   {
    "duration": 28,
    "start_time": "2024-03-01T15:05:03.985Z"
   },
   {
    "duration": 104,
    "start_time": "2024-03-01T15:05:13.665Z"
   },
   {
    "duration": 1687,
    "start_time": "2024-03-01T15:50:13.838Z"
   },
   {
    "duration": 897,
    "start_time": "2024-03-01T15:50:15.527Z"
   },
   {
    "duration": 12,
    "start_time": "2024-03-01T15:50:16.425Z"
   },
   {
    "duration": 44,
    "start_time": "2024-03-01T15:50:16.439Z"
   },
   {
    "duration": 239,
    "start_time": "2024-03-01T15:50:16.485Z"
   },
   {
    "duration": 7,
    "start_time": "2024-03-01T15:50:16.726Z"
   },
   {
    "duration": 19,
    "start_time": "2024-03-01T15:50:16.735Z"
   },
   {
    "duration": 29,
    "start_time": "2024-03-01T15:50:16.756Z"
   },
   {
    "duration": 25,
    "start_time": "2024-03-01T15:50:16.786Z"
   },
   {
    "duration": 4533,
    "start_time": "2024-03-01T15:50:16.813Z"
   },
   {
    "duration": 7,
    "start_time": "2024-03-01T15:50:21.348Z"
   },
   {
    "duration": 5,
    "start_time": "2024-03-01T15:50:21.356Z"
   },
   {
    "duration": 5,
    "start_time": "2024-03-01T15:50:21.362Z"
   },
   {
    "duration": 4168,
    "start_time": "2024-03-01T15:50:21.381Z"
   },
   {
    "duration": 4,
    "start_time": "2024-03-01T15:50:25.552Z"
   },
   {
    "duration": 19,
    "start_time": "2024-03-01T15:50:25.558Z"
   },
   {
    "duration": 2213,
    "start_time": "2024-03-01T15:50:25.579Z"
   },
   {
    "duration": 3,
    "start_time": "2024-03-01T15:50:27.794Z"
   },
   {
    "duration": 20751,
    "start_time": "2024-03-01T15:50:27.799Z"
   },
   {
    "duration": 369,
    "start_time": "2024-03-01T15:50:48.552Z"
   },
   {
    "duration": 6,
    "start_time": "2024-03-01T15:50:48.923Z"
   },
   {
    "duration": 117,
    "start_time": "2024-03-01T15:50:48.931Z"
   },
   {
    "duration": 38,
    "start_time": "2024-03-01T15:50:49.050Z"
   },
   {
    "duration": 110,
    "start_time": "2024-03-01T15:50:49.089Z"
   },
   {
    "duration": 17,
    "start_time": "2024-03-01T15:51:50.701Z"
   },
   {
    "duration": 5,
    "start_time": "2024-03-01T15:55:00.398Z"
   },
   {
    "duration": 139,
    "start_time": "2024-03-01T15:57:35.470Z"
   },
   {
    "duration": 5,
    "start_time": "2024-03-01T15:57:39.648Z"
   },
   {
    "duration": 16,
    "start_time": "2024-03-01T15:57:40.184Z"
   },
   {
    "duration": 12,
    "start_time": "2024-03-01T15:57:57.189Z"
   },
   {
    "duration": 10,
    "start_time": "2024-03-01T15:59:27.114Z"
   },
   {
    "duration": 103,
    "start_time": "2024-03-01T15:59:44.044Z"
   },
   {
    "duration": 5,
    "start_time": "2024-03-01T15:59:53.044Z"
   },
   {
    "duration": 4,
    "start_time": "2024-03-01T16:00:29.820Z"
   },
   {
    "duration": 6,
    "start_time": "2024-03-01T16:02:40.756Z"
   },
   {
    "duration": 3,
    "start_time": "2024-03-01T16:03:30.326Z"
   },
   {
    "duration": 7,
    "start_time": "2024-03-01T16:04:07.202Z"
   },
   {
    "duration": 6,
    "start_time": "2024-03-01T16:04:28.504Z"
   },
   {
    "duration": 17,
    "start_time": "2024-03-01T16:05:06.328Z"
   },
   {
    "duration": 1770,
    "start_time": "2024-03-01T16:08:28.054Z"
   },
   {
    "duration": 886,
    "start_time": "2024-03-01T16:08:29.826Z"
   },
   {
    "duration": 13,
    "start_time": "2024-03-01T16:08:30.713Z"
   },
   {
    "duration": 55,
    "start_time": "2024-03-01T16:08:30.727Z"
   },
   {
    "duration": 287,
    "start_time": "2024-03-01T16:08:30.784Z"
   },
   {
    "duration": 172,
    "start_time": "2024-03-01T16:08:31.073Z"
   },
   {
    "duration": 32,
    "start_time": "2024-03-01T16:08:31.246Z"
   },
   {
    "duration": 33,
    "start_time": "2024-03-01T16:08:31.279Z"
   },
   {
    "duration": 59,
    "start_time": "2024-03-01T16:08:31.314Z"
   },
   {
    "duration": 4517,
    "start_time": "2024-03-01T16:08:31.375Z"
   },
   {
    "duration": 7,
    "start_time": "2024-03-01T16:08:35.893Z"
   },
   {
    "duration": 5,
    "start_time": "2024-03-01T16:08:35.902Z"
   },
   {
    "duration": 9,
    "start_time": "2024-03-01T16:08:35.908Z"
   },
   {
    "duration": 3612,
    "start_time": "2024-03-01T16:08:35.918Z"
   },
   {
    "duration": 4,
    "start_time": "2024-03-01T16:08:39.532Z"
   },
   {
    "duration": 14,
    "start_time": "2024-03-01T16:08:39.537Z"
   },
   {
    "duration": 2155,
    "start_time": "2024-03-01T16:08:39.553Z"
   },
   {
    "duration": 3,
    "start_time": "2024-03-01T16:08:41.710Z"
   },
   {
    "duration": 20542,
    "start_time": "2024-03-01T16:08:41.715Z"
   },
   {
    "duration": 367,
    "start_time": "2024-03-01T16:09:02.259Z"
   },
   {
    "duration": 7,
    "start_time": "2024-03-01T16:09:02.628Z"
   },
   {
    "duration": 144,
    "start_time": "2024-03-01T16:09:02.636Z"
   },
   {
    "duration": 24,
    "start_time": "2024-03-01T16:09:02.782Z"
   },
   {
    "duration": 124,
    "start_time": "2024-03-01T16:09:02.807Z"
   },
   {
    "duration": 17,
    "start_time": "2024-03-01T16:09:02.932Z"
   },
   {
    "duration": 66,
    "start_time": "2024-03-01T16:09:02.951Z"
   },
   {
    "duration": 13,
    "start_time": "2024-03-01T16:09:03.018Z"
   },
   {
    "duration": 8,
    "start_time": "2024-03-01T16:09:03.034Z"
   },
   {
    "duration": 9,
    "start_time": "2024-03-01T16:09:03.044Z"
   },
   {
    "duration": 985,
    "start_time": "2024-03-01T16:09:03.055Z"
   },
   {
    "duration": 110437,
    "start_time": "2024-03-01T16:09:04.042Z"
   },
   {
    "duration": 4,
    "start_time": "2024-03-01T16:12:00.558Z"
   },
   {
    "duration": 7,
    "start_time": "2024-03-01T16:13:48.139Z"
   },
   {
    "duration": 126,
    "start_time": "2024-03-01T16:14:28.389Z"
   },
   {
    "duration": 32,
    "start_time": "2024-03-01T16:14:51.910Z"
   },
   {
    "duration": 13,
    "start_time": "2024-03-01T16:14:59.805Z"
   },
   {
    "duration": 137200,
    "start_time": "2024-03-01T16:15:55.113Z"
   },
   {
    "duration": 74,
    "start_time": "2024-03-01T16:21:14.713Z"
   },
   {
    "duration": 8685151,
    "start_time": "2024-03-01T16:25:34.999Z"
   },
   {
    "duration": 69,
    "start_time": "2024-03-01T19:00:33.788Z"
   },
   {
    "duration": 1677,
    "start_time": "2024-03-01T19:05:25.439Z"
   },
   {
    "duration": 915,
    "start_time": "2024-03-01T19:05:27.118Z"
   },
   {
    "duration": 12,
    "start_time": "2024-03-01T19:05:28.035Z"
   },
   {
    "duration": 42,
    "start_time": "2024-03-01T19:05:28.050Z"
   },
   {
    "duration": 245,
    "start_time": "2024-03-01T19:05:28.094Z"
   },
   {
    "duration": 8,
    "start_time": "2024-03-01T19:05:28.340Z"
   },
   {
    "duration": 10,
    "start_time": "2024-03-01T19:05:28.350Z"
   },
   {
    "duration": 22,
    "start_time": "2024-03-01T19:05:28.361Z"
   },
   {
    "duration": 3,
    "start_time": "2024-03-01T19:05:28.384Z"
   },
   {
    "duration": 4466,
    "start_time": "2024-03-01T19:05:28.390Z"
   },
   {
    "duration": 7,
    "start_time": "2024-03-01T19:05:32.857Z"
   },
   {
    "duration": 7,
    "start_time": "2024-03-01T19:05:32.866Z"
   },
   {
    "duration": 3,
    "start_time": "2024-03-01T19:05:32.882Z"
   },
   {
    "duration": 3665,
    "start_time": "2024-03-01T19:05:32.886Z"
   },
   {
    "duration": 4,
    "start_time": "2024-03-01T19:05:36.553Z"
   },
   {
    "duration": 12,
    "start_time": "2024-03-01T19:05:36.559Z"
   },
   {
    "duration": 2243,
    "start_time": "2024-03-01T19:05:36.573Z"
   },
   {
    "duration": 3,
    "start_time": "2024-03-01T19:05:38.818Z"
   },
   {
    "duration": 21018,
    "start_time": "2024-03-01T19:05:38.823Z"
   },
   {
    "duration": 363,
    "start_time": "2024-03-01T19:05:59.843Z"
   },
   {
    "duration": 7,
    "start_time": "2024-03-01T19:06:00.207Z"
   },
   {
    "duration": 143,
    "start_time": "2024-03-01T19:06:00.216Z"
   },
   {
    "duration": 43,
    "start_time": "2024-03-01T19:06:00.360Z"
   },
   {
    "duration": 127,
    "start_time": "2024-03-01T19:06:00.405Z"
   },
   {
    "duration": 17,
    "start_time": "2024-03-01T19:06:00.533Z"
   },
   {
    "duration": 41,
    "start_time": "2024-03-01T19:06:00.552Z"
   },
   {
    "duration": 55,
    "start_time": "2024-03-01T19:06:00.594Z"
   },
   {
    "duration": 36,
    "start_time": "2024-03-01T19:06:00.653Z"
   },
   {
    "duration": 64,
    "start_time": "2024-03-01T19:06:00.690Z"
   },
   {
    "duration": 1013,
    "start_time": "2024-03-01T19:06:00.756Z"
   },
   {
    "duration": 114465,
    "start_time": "2024-03-01T19:06:01.771Z"
   },
   {
    "duration": 4,
    "start_time": "2024-03-01T19:07:56.238Z"
   },
   {
    "duration": 7,
    "start_time": "2024-03-01T19:07:56.246Z"
   },
   {
    "duration": 401904,
    "start_time": "2024-03-01T19:07:56.256Z"
   },
   {
    "duration": 10,
    "start_time": "2024-03-01T19:14:38.162Z"
   },
   {
    "duration": 50805,
    "start_time": "2024-03-01T19:14:38.182Z"
   },
   {
    "duration": 96,
    "start_time": "2024-03-01T19:15:28.989Z"
   },
   {
    "duration": 93,
    "start_time": "2024-03-01T19:22:05.148Z"
   },
   {
    "duration": 317,
    "start_time": "2024-03-01T19:31:01.974Z"
   },
   {
    "duration": 1736,
    "start_time": "2024-03-01T19:42:01.238Z"
   },
   {
    "duration": 952,
    "start_time": "2024-03-01T19:42:02.976Z"
   },
   {
    "duration": 13,
    "start_time": "2024-03-01T19:42:03.929Z"
   },
   {
    "duration": 44,
    "start_time": "2024-03-01T19:42:03.944Z"
   },
   {
    "duration": 251,
    "start_time": "2024-03-01T19:42:03.989Z"
   },
   {
    "duration": 8,
    "start_time": "2024-03-01T19:42:04.242Z"
   },
   {
    "duration": 10,
    "start_time": "2024-03-01T19:42:04.251Z"
   },
   {
    "duration": 22,
    "start_time": "2024-03-01T19:42:04.263Z"
   },
   {
    "duration": 3,
    "start_time": "2024-03-01T19:42:04.287Z"
   },
   {
    "duration": 4589,
    "start_time": "2024-03-01T19:42:04.293Z"
   },
   {
    "duration": 7,
    "start_time": "2024-03-01T19:42:08.884Z"
   },
   {
    "duration": 14,
    "start_time": "2024-03-01T19:42:08.893Z"
   },
   {
    "duration": 5,
    "start_time": "2024-03-01T19:42:08.908Z"
   },
   {
    "duration": 3718,
    "start_time": "2024-03-01T19:42:08.914Z"
   },
   {
    "duration": 5,
    "start_time": "2024-03-01T19:42:12.634Z"
   },
   {
    "duration": 4,
    "start_time": "2024-03-01T19:42:12.640Z"
   },
   {
    "duration": 2303,
    "start_time": "2024-03-01T19:42:12.646Z"
   },
   {
    "duration": 3,
    "start_time": "2024-03-01T19:42:14.951Z"
   },
   {
    "duration": 21142,
    "start_time": "2024-03-01T19:42:14.956Z"
   },
   {
    "duration": 399,
    "start_time": "2024-03-01T19:42:36.100Z"
   },
   {
    "duration": 6,
    "start_time": "2024-03-01T19:42:36.501Z"
   },
   {
    "duration": 144,
    "start_time": "2024-03-01T19:42:36.509Z"
   },
   {
    "duration": 28,
    "start_time": "2024-03-01T19:42:36.654Z"
   },
   {
    "duration": 105,
    "start_time": "2024-03-01T19:42:36.684Z"
   },
   {
    "duration": 16,
    "start_time": "2024-03-01T19:42:36.790Z"
   },
   {
    "duration": 15,
    "start_time": "2024-03-01T19:42:36.808Z"
   },
   {
    "duration": 12,
    "start_time": "2024-03-01T19:42:36.824Z"
   },
   {
    "duration": 6,
    "start_time": "2024-03-01T19:42:36.839Z"
   },
   {
    "duration": 5,
    "start_time": "2024-03-01T19:42:36.846Z"
   },
   {
    "duration": 1049,
    "start_time": "2024-03-01T19:42:36.852Z"
   },
   {
    "duration": 108894,
    "start_time": "2024-03-01T19:42:37.903Z"
   },
   {
    "duration": 4,
    "start_time": "2024-03-01T19:44:26.798Z"
   },
   {
    "duration": 9,
    "start_time": "2024-03-01T19:44:26.803Z"
   },
   {
    "duration": 402785,
    "start_time": "2024-03-01T19:44:26.813Z"
   },
   {
    "duration": 9,
    "start_time": "2024-03-01T19:51:09.600Z"
   },
   {
    "duration": 50593,
    "start_time": "2024-03-01T19:51:09.611Z"
   },
   {
    "duration": 88,
    "start_time": "2024-03-01T19:52:00.206Z"
   },
   {
    "duration": 89,
    "start_time": "2024-03-01T19:52:00.295Z"
   },
   {
    "duration": 346,
    "start_time": "2024-03-01T19:52:00.385Z"
   },
   {
    "duration": 1945,
    "start_time": "2024-03-02T10:54:57.865Z"
   },
   {
    "duration": 2359,
    "start_time": "2024-03-02T10:54:59.813Z"
   },
   {
    "duration": 12,
    "start_time": "2024-03-02T10:55:02.174Z"
   },
   {
    "duration": 63,
    "start_time": "2024-03-02T10:55:02.188Z"
   },
   {
    "duration": 267,
    "start_time": "2024-03-02T10:55:02.252Z"
   },
   {
    "duration": 8,
    "start_time": "2024-03-02T10:55:02.523Z"
   },
   {
    "duration": 78,
    "start_time": "2024-03-02T10:55:02.534Z"
   },
   {
    "duration": 84,
    "start_time": "2024-03-02T10:55:02.614Z"
   },
   {
    "duration": 53,
    "start_time": "2024-03-02T10:55:02.699Z"
   },
   {
    "duration": 4631,
    "start_time": "2024-03-02T10:55:02.755Z"
   },
   {
    "duration": 7,
    "start_time": "2024-03-02T10:55:07.388Z"
   },
   {
    "duration": 31,
    "start_time": "2024-03-02T10:55:07.397Z"
   },
   {
    "duration": 14,
    "start_time": "2024-03-02T10:55:07.430Z"
   },
   {
    "duration": 3972,
    "start_time": "2024-03-02T10:55:07.446Z"
   },
   {
    "duration": 5,
    "start_time": "2024-03-02T10:55:11.420Z"
   },
   {
    "duration": 15,
    "start_time": "2024-03-02T10:55:11.427Z"
   },
   {
    "duration": 2328,
    "start_time": "2024-03-02T10:55:11.444Z"
   },
   {
    "duration": 3,
    "start_time": "2024-03-02T10:55:13.774Z"
   },
   {
    "duration": 21394,
    "start_time": "2024-03-02T10:55:13.778Z"
   },
   {
    "duration": 383,
    "start_time": "2024-03-02T10:55:35.174Z"
   },
   {
    "duration": 7,
    "start_time": "2024-03-02T10:55:35.559Z"
   },
   {
    "duration": 130,
    "start_time": "2024-03-02T10:55:35.568Z"
   },
   {
    "duration": 3,
    "start_time": "2024-03-02T10:55:35.699Z"
   },
   {
    "duration": 67,
    "start_time": "2024-03-02T10:55:35.703Z"
   },
   {
    "duration": 112,
    "start_time": "2024-03-02T10:55:35.771Z"
   },
   {
    "duration": 26,
    "start_time": "2024-03-02T10:55:35.884Z"
   },
   {
    "duration": 9,
    "start_time": "2024-03-02T10:55:35.922Z"
   },
   {
    "duration": 24,
    "start_time": "2024-03-02T10:55:35.934Z"
   },
   {
    "duration": 5,
    "start_time": "2024-03-02T10:55:35.960Z"
   },
   {
    "duration": 5,
    "start_time": "2024-03-02T10:55:35.966Z"
   },
   {
    "duration": 3087,
    "start_time": "2024-03-02T10:55:35.973Z"
   },
   {
    "duration": 326621,
    "start_time": "2024-03-02T10:55:39.062Z"
   },
   {
    "duration": 4,
    "start_time": "2024-03-02T11:01:05.685Z"
   },
   {
    "duration": 22,
    "start_time": "2024-03-02T11:01:05.691Z"
   },
   {
    "duration": 116980,
    "start_time": "2024-03-02T11:01:05.714Z"
   },
   {
    "duration": 0,
    "start_time": "2024-03-02T11:03:02.696Z"
   },
   {
    "duration": 0,
    "start_time": "2024-03-02T11:03:02.698Z"
   },
   {
    "duration": 0,
    "start_time": "2024-03-02T11:03:02.699Z"
   },
   {
    "duration": 0,
    "start_time": "2024-03-02T11:03:02.700Z"
   },
   {
    "duration": 0,
    "start_time": "2024-03-02T11:03:02.702Z"
   },
   {
    "duration": 7,
    "start_time": "2024-03-02T11:03:45.818Z"
   },
   {
    "duration": 1227,
    "start_time": "2024-03-02T11:04:08.964Z"
   },
   {
    "duration": 1215,
    "start_time": "2024-03-02T11:04:21.101Z"
   },
   {
    "duration": 8,
    "start_time": "2024-03-02T11:05:14.074Z"
   },
   {
    "duration": 14,
    "start_time": "2024-03-02T11:05:27.400Z"
   },
   {
    "duration": 1928,
    "start_time": "2024-03-02T11:10:44.485Z"
   },
   {
    "duration": 1045,
    "start_time": "2024-03-02T11:10:46.415Z"
   },
   {
    "duration": 12,
    "start_time": "2024-03-02T11:10:48.460Z"
   },
   {
    "duration": 39,
    "start_time": "2024-03-02T11:10:49.327Z"
   },
   {
    "duration": 256,
    "start_time": "2024-03-02T11:10:50.765Z"
   },
   {
    "duration": 8,
    "start_time": "2024-03-02T11:10:52.714Z"
   },
   {
    "duration": 18,
    "start_time": "2024-03-02T11:10:57.233Z"
   },
   {
    "duration": 8,
    "start_time": "2024-03-02T11:10:57.766Z"
   },
   {
    "duration": 3,
    "start_time": "2024-03-02T11:10:59.355Z"
   },
   {
    "duration": 5220,
    "start_time": "2024-03-02T11:11:00.428Z"
   },
   {
    "duration": 8,
    "start_time": "2024-03-02T11:11:05.650Z"
   },
   {
    "duration": 21,
    "start_time": "2024-03-02T11:11:05.660Z"
   },
   {
    "duration": 21,
    "start_time": "2024-03-02T11:11:05.684Z"
   },
   {
    "duration": 3731,
    "start_time": "2024-03-02T11:11:05.707Z"
   },
   {
    "duration": 4,
    "start_time": "2024-03-02T11:11:09.440Z"
   },
   {
    "duration": 7,
    "start_time": "2024-03-02T11:11:09.445Z"
   },
   {
    "duration": 2317,
    "start_time": "2024-03-02T11:11:15.908Z"
   },
   {
    "duration": 3,
    "start_time": "2024-03-02T11:11:23.603Z"
   },
   {
    "duration": 24645,
    "start_time": "2024-03-02T11:11:24.782Z"
   },
   {
    "duration": 403,
    "start_time": "2024-03-02T11:11:50.082Z"
   },
   {
    "duration": 6,
    "start_time": "2024-03-02T11:11:51.168Z"
   },
   {
    "duration": 2,
    "start_time": "2024-03-02T11:11:53.799Z"
   },
   {
    "duration": 155,
    "start_time": "2024-03-02T11:11:54.609Z"
   },
   {
    "duration": 125,
    "start_time": "2024-03-02T11:12:52.134Z"
   },
   {
    "duration": 735,
    "start_time": "2024-03-02T11:18:41.441Z"
   },
   {
    "duration": 40,
    "start_time": "2024-03-02T11:19:09.209Z"
   },
   {
    "duration": 120,
    "start_time": "2024-03-02T11:19:23.114Z"
   },
   {
    "duration": 25,
    "start_time": "2024-03-02T11:20:50.637Z"
   },
   {
    "duration": 7,
    "start_time": "2024-03-02T11:21:12.771Z"
   },
   {
    "duration": 15,
    "start_time": "2024-03-02T11:21:13.693Z"
   },
   {
    "duration": 6,
    "start_time": "2024-03-02T11:21:14.912Z"
   },
   {
    "duration": 3,
    "start_time": "2024-03-02T11:22:08.807Z"
   },
   {
    "duration": 2575,
    "start_time": "2024-03-02T11:22:09.577Z"
   },
   {
    "duration": 271931,
    "start_time": "2024-03-02T11:22:14.296Z"
   },
   {
    "duration": 3,
    "start_time": "2024-03-02T11:26:46.229Z"
   },
   {
    "duration": 32,
    "start_time": "2024-03-02T11:26:46.234Z"
   },
   {
    "duration": 2204436,
    "start_time": "2024-03-02T11:26:46.268Z"
   },
   {
    "duration": 35,
    "start_time": "2024-03-02T12:03:30.706Z"
   },
   {
    "duration": 139824,
    "start_time": "2024-03-02T12:03:30.744Z"
   },
   {
    "duration": 116,
    "start_time": "2024-03-02T12:05:50.624Z"
   },
   {
    "duration": 11,
    "start_time": "2024-03-02T12:05:50.824Z"
   },
   {
    "duration": 1296,
    "start_time": "2024-03-02T12:10:58.864Z"
   },
   {
    "duration": 1614,
    "start_time": "2024-03-02T12:29:36.477Z"
   },
   {
    "duration": 1018,
    "start_time": "2024-03-02T12:29:38.093Z"
   },
   {
    "duration": 14,
    "start_time": "2024-03-02T12:29:39.113Z"
   },
   {
    "duration": 33,
    "start_time": "2024-03-02T12:29:39.129Z"
   },
   {
    "duration": 261,
    "start_time": "2024-03-02T12:29:39.164Z"
   },
   {
    "duration": 8,
    "start_time": "2024-03-02T12:29:39.427Z"
   },
   {
    "duration": 14,
    "start_time": "2024-03-02T12:29:39.437Z"
   },
   {
    "duration": 26,
    "start_time": "2024-03-02T12:29:39.453Z"
   },
   {
    "duration": 20,
    "start_time": "2024-03-02T12:29:39.481Z"
   },
   {
    "duration": 4687,
    "start_time": "2024-03-02T12:29:39.504Z"
   },
   {
    "duration": 7,
    "start_time": "2024-03-02T12:29:44.193Z"
   },
   {
    "duration": 28,
    "start_time": "2024-03-02T12:29:44.202Z"
   },
   {
    "duration": 26,
    "start_time": "2024-03-02T12:29:44.231Z"
   },
   {
    "duration": 4121,
    "start_time": "2024-03-02T12:29:44.258Z"
   },
   {
    "duration": 4,
    "start_time": "2024-03-02T12:29:48.381Z"
   },
   {
    "duration": 11,
    "start_time": "2024-03-02T12:29:48.387Z"
   },
   {
    "duration": 2358,
    "start_time": "2024-03-02T12:29:48.400Z"
   },
   {
    "duration": 3,
    "start_time": "2024-03-02T12:29:50.760Z"
   },
   {
    "duration": 21518,
    "start_time": "2024-03-02T12:29:50.765Z"
   },
   {
    "duration": 377,
    "start_time": "2024-03-02T12:30:12.285Z"
   },
   {
    "duration": 7,
    "start_time": "2024-03-02T12:30:12.663Z"
   },
   {
    "duration": 143,
    "start_time": "2024-03-02T12:30:12.671Z"
   },
   {
    "duration": 40,
    "start_time": "2024-03-02T12:30:12.815Z"
   },
   {
    "duration": 118,
    "start_time": "2024-03-02T12:30:12.856Z"
   },
   {
    "duration": 23,
    "start_time": "2024-03-02T12:30:12.976Z"
   },
   {
    "duration": 8,
    "start_time": "2024-03-02T12:30:13.000Z"
   },
   {
    "duration": 15,
    "start_time": "2024-03-02T12:30:13.023Z"
   },
   {
    "duration": 23,
    "start_time": "2024-03-02T12:30:13.042Z"
   },
   {
    "duration": 41,
    "start_time": "2024-03-02T12:30:13.067Z"
   },
   {
    "duration": 2549,
    "start_time": "2024-03-02T12:30:13.110Z"
   },
   {
    "duration": 277393,
    "start_time": "2024-03-02T12:30:15.661Z"
   },
   {
    "duration": 4,
    "start_time": "2024-03-02T12:34:53.057Z"
   },
   {
    "duration": 18,
    "start_time": "2024-03-02T12:34:53.062Z"
   },
   {
    "duration": 2211567,
    "start_time": "2024-03-02T12:34:53.082Z"
   },
   {
    "duration": 25,
    "start_time": "2024-03-02T13:11:44.651Z"
   },
   {
    "duration": 110,
    "start_time": "2024-03-04T09:25:43.008Z"
   },
   {
    "duration": 153,
    "start_time": "2024-03-04T09:26:02.308Z"
   },
   {
    "duration": 310,
    "start_time": "2024-03-04T09:26:22.503Z"
   },
   {
    "duration": 128,
    "start_time": "2024-03-04T09:26:34.375Z"
   },
   {
    "duration": 99,
    "start_time": "2024-03-04T09:26:47.627Z"
   },
   {
    "duration": 1892,
    "start_time": "2024-03-04T09:30:37.699Z"
   },
   {
    "duration": 3567,
    "start_time": "2024-03-04T09:30:44.145Z"
   },
   {
    "duration": 15,
    "start_time": "2024-03-04T09:30:48.458Z"
   },
   {
    "duration": 34,
    "start_time": "2024-03-04T09:30:49.504Z"
   },
   {
    "duration": 271,
    "start_time": "2024-03-04T09:30:51.088Z"
   },
   {
    "duration": 7,
    "start_time": "2024-03-04T09:30:52.632Z"
   },
   {
    "duration": 11,
    "start_time": "2024-03-04T09:30:56.844Z"
   },
   {
    "duration": 7,
    "start_time": "2024-03-04T09:30:58.412Z"
   },
   {
    "duration": 3,
    "start_time": "2024-03-04T09:31:04.858Z"
   },
   {
    "duration": 5017,
    "start_time": "2024-03-04T09:31:06.292Z"
   },
   {
    "duration": 8,
    "start_time": "2024-03-04T09:31:11.311Z"
   },
   {
    "duration": 3,
    "start_time": "2024-03-04T09:31:15.258Z"
   },
   {
    "duration": 4,
    "start_time": "2024-03-04T09:32:28.203Z"
   },
   {
    "duration": 4265,
    "start_time": "2024-03-04T09:32:31.708Z"
   },
   {
    "duration": 12,
    "start_time": "2024-03-04T09:32:47.250Z"
   },
   {
    "duration": 4,
    "start_time": "2024-03-04T09:32:54.015Z"
   },
   {
    "duration": 3,
    "start_time": "2024-03-04T09:33:01.539Z"
   },
   {
    "duration": 2480,
    "start_time": "2024-03-04T09:33:03.258Z"
   },
   {
    "duration": 9,
    "start_time": "2024-03-04T09:33:09.543Z"
   },
   {
    "duration": 5,
    "start_time": "2024-03-04T09:35:59.759Z"
   },
   {
    "duration": 560,
    "start_time": "2024-03-04T09:36:12.278Z"
   },
   {
    "duration": 3,
    "start_time": "2024-03-04T09:37:59.012Z"
   },
   {
    "duration": 586,
    "start_time": "2024-03-04T09:38:00.718Z"
   },
   {
    "duration": 1850,
    "start_time": "2024-03-04T09:38:24.579Z"
   },
   {
    "duration": 1069,
    "start_time": "2024-03-04T09:38:28.051Z"
   },
   {
    "duration": 12,
    "start_time": "2024-03-04T09:38:29.121Z"
   },
   {
    "duration": 35,
    "start_time": "2024-03-04T09:38:29.746Z"
   },
   {
    "duration": 259,
    "start_time": "2024-03-04T09:38:30.770Z"
   },
   {
    "duration": 9,
    "start_time": "2024-03-04T09:38:31.756Z"
   },
   {
    "duration": 12,
    "start_time": "2024-03-04T09:38:34.922Z"
   },
   {
    "duration": 7,
    "start_time": "2024-03-04T09:38:35.370Z"
   },
   {
    "duration": 3,
    "start_time": "2024-03-04T09:38:36.648Z"
   },
   {
    "duration": 5095,
    "start_time": "2024-03-04T09:38:37.505Z"
   },
   {
    "duration": 7,
    "start_time": "2024-03-04T09:38:42.604Z"
   },
   {
    "duration": 20,
    "start_time": "2024-03-04T09:38:42.613Z"
   },
   {
    "duration": 4,
    "start_time": "2024-03-04T09:38:42.635Z"
   },
   {
    "duration": 4480,
    "start_time": "2024-03-04T09:38:42.641Z"
   },
   {
    "duration": 12,
    "start_time": "2024-03-04T09:38:47.122Z"
   },
   {
    "duration": 15,
    "start_time": "2024-03-04T09:38:47.136Z"
   },
   {
    "duration": 16,
    "start_time": "2024-03-04T09:38:47.153Z"
   },
   {
    "duration": 2523,
    "start_time": "2024-03-04T09:38:48.484Z"
   },
   {
    "duration": 10,
    "start_time": "2024-03-04T09:38:57.433Z"
   },
   {
    "duration": 6,
    "start_time": "2024-03-04T09:38:58.901Z"
   },
   {
    "duration": 6,
    "start_time": "2024-03-04T09:39:00.105Z"
   },
   {
    "duration": 3,
    "start_time": "2024-03-04T09:39:03.167Z"
   },
   {
    "duration": 565,
    "start_time": "2024-03-04T09:39:04.230Z"
   },
   {
    "duration": 6,
    "start_time": "2024-03-04T09:44:54.542Z"
   },
   {
    "duration": 1803,
    "start_time": "2024-03-04T09:48:43.415Z"
   },
   {
    "duration": 1156,
    "start_time": "2024-03-04T09:48:45.223Z"
   },
   {
    "duration": 28,
    "start_time": "2024-03-04T09:48:46.381Z"
   },
   {
    "duration": 35,
    "start_time": "2024-03-04T09:48:46.412Z"
   },
   {
    "duration": 295,
    "start_time": "2024-03-04T09:48:46.448Z"
   },
   {
    "duration": 9,
    "start_time": "2024-03-04T09:48:46.745Z"
   },
   {
    "duration": 11,
    "start_time": "2024-03-04T09:48:46.756Z"
   },
   {
    "duration": 67,
    "start_time": "2024-03-04T09:48:46.769Z"
   },
   {
    "duration": 8,
    "start_time": "2024-03-04T09:48:46.838Z"
   },
   {
    "duration": 5430,
    "start_time": "2024-03-04T09:48:46.849Z"
   },
   {
    "duration": 27,
    "start_time": "2024-03-04T09:48:52.281Z"
   },
   {
    "duration": 7,
    "start_time": "2024-03-04T09:48:52.316Z"
   },
   {
    "duration": 12,
    "start_time": "2024-03-04T09:48:52.325Z"
   },
   {
    "duration": 4405,
    "start_time": "2024-03-04T09:48:52.339Z"
   },
   {
    "duration": 12,
    "start_time": "2024-03-04T09:48:56.745Z"
   },
   {
    "duration": 166,
    "start_time": "2024-03-04T09:48:56.758Z"
   },
   {
    "duration": 0,
    "start_time": "2024-03-04T09:48:56.927Z"
   },
   {
    "duration": 0,
    "start_time": "2024-03-04T09:48:56.928Z"
   },
   {
    "duration": 0,
    "start_time": "2024-03-04T09:48:56.930Z"
   },
   {
    "duration": 0,
    "start_time": "2024-03-04T09:48:56.931Z"
   },
   {
    "duration": 0,
    "start_time": "2024-03-04T09:48:56.931Z"
   },
   {
    "duration": 0,
    "start_time": "2024-03-04T09:48:56.933Z"
   },
   {
    "duration": 0,
    "start_time": "2024-03-04T09:48:56.934Z"
   },
   {
    "duration": 0,
    "start_time": "2024-03-04T09:48:56.935Z"
   },
   {
    "duration": 0,
    "start_time": "2024-03-04T09:48:56.936Z"
   },
   {
    "duration": 0,
    "start_time": "2024-03-04T09:48:56.938Z"
   },
   {
    "duration": 0,
    "start_time": "2024-03-04T09:48:56.939Z"
   },
   {
    "duration": 0,
    "start_time": "2024-03-04T09:48:56.940Z"
   },
   {
    "duration": 0,
    "start_time": "2024-03-04T09:48:56.941Z"
   },
   {
    "duration": 0,
    "start_time": "2024-03-04T09:48:56.943Z"
   },
   {
    "duration": 0,
    "start_time": "2024-03-04T09:48:56.944Z"
   },
   {
    "duration": 0,
    "start_time": "2024-03-04T09:48:56.944Z"
   },
   {
    "duration": 0,
    "start_time": "2024-03-04T09:48:56.946Z"
   },
   {
    "duration": 0,
    "start_time": "2024-03-04T09:48:56.947Z"
   },
   {
    "duration": 0,
    "start_time": "2024-03-04T09:48:56.948Z"
   },
   {
    "duration": 0,
    "start_time": "2024-03-04T09:48:56.949Z"
   },
   {
    "duration": 0,
    "start_time": "2024-03-04T09:48:56.950Z"
   },
   {
    "duration": 0,
    "start_time": "2024-03-04T09:48:56.951Z"
   },
   {
    "duration": 0,
    "start_time": "2024-03-04T09:48:56.996Z"
   },
   {
    "duration": 0,
    "start_time": "2024-03-04T09:48:56.997Z"
   },
   {
    "duration": 0,
    "start_time": "2024-03-04T09:48:56.998Z"
   },
   {
    "duration": 0,
    "start_time": "2024-03-04T09:48:56.999Z"
   },
   {
    "duration": 7,
    "start_time": "2024-03-04T09:49:21.311Z"
   },
   {
    "duration": 6,
    "start_time": "2024-03-04T09:49:22.911Z"
   },
   {
    "duration": 2580,
    "start_time": "2024-03-04T09:49:24.408Z"
   },
   {
    "duration": 14,
    "start_time": "2024-03-04T09:49:28.021Z"
   },
   {
    "duration": 6,
    "start_time": "2024-03-04T09:49:32.005Z"
   },
   {
    "duration": 5,
    "start_time": "2024-03-04T09:49:33.044Z"
   },
   {
    "duration": 564,
    "start_time": "2024-03-04T09:49:38.153Z"
   },
   {
    "duration": 610,
    "start_time": "2024-03-04T09:50:30.211Z"
   },
   {
    "duration": 380366,
    "start_time": "2024-03-04T09:50:44.482Z"
   },
   {
    "duration": 1730,
    "start_time": "2024-03-04T10:33:45.313Z"
   },
   {
    "duration": 0,
    "start_time": "2024-03-04T10:33:47.045Z"
   },
   {
    "duration": 6021,
    "start_time": "2024-03-04T10:34:00.331Z"
   },
   {
    "duration": 394,
    "start_time": "2024-03-04T10:34:08.858Z"
   },
   {
    "duration": 984,
    "start_time": "2024-03-04T10:34:12.649Z"
   },
   {
    "duration": 13,
    "start_time": "2024-03-04T10:34:13.635Z"
   },
   {
    "duration": 33,
    "start_time": "2024-03-04T10:34:14.262Z"
   },
   {
    "duration": 247,
    "start_time": "2024-03-04T10:34:15.501Z"
   },
   {
    "duration": 8,
    "start_time": "2024-03-04T10:34:16.592Z"
   },
   {
    "duration": 16,
    "start_time": "2024-03-04T10:34:20.044Z"
   },
   {
    "duration": 9,
    "start_time": "2024-03-04T10:34:20.618Z"
   },
   {
    "duration": 3,
    "start_time": "2024-03-04T10:34:22.480Z"
   },
   {
    "duration": 4848,
    "start_time": "2024-03-04T10:34:23.625Z"
   },
   {
    "duration": 8,
    "start_time": "2024-03-04T10:34:28.475Z"
   },
   {
    "duration": 3,
    "start_time": "2024-03-04T10:34:31.539Z"
   },
   {
    "duration": 3,
    "start_time": "2024-03-04T10:34:32.281Z"
   },
   {
    "duration": 3824,
    "start_time": "2024-03-04T10:34:33.203Z"
   },
   {
    "duration": 14,
    "start_time": "2024-03-04T10:34:37.373Z"
   },
   {
    "duration": 5,
    "start_time": "2024-03-04T10:34:38.789Z"
   },
   {
    "duration": 4,
    "start_time": "2024-03-04T10:34:39.934Z"
   },
   {
    "duration": 2366,
    "start_time": "2024-03-04T10:34:41.671Z"
   },
   {
    "duration": 12,
    "start_time": "2024-03-04T10:34:44.039Z"
   },
   {
    "duration": 8,
    "start_time": "2024-03-04T10:35:52.810Z"
   },
   {
    "duration": 926,
    "start_time": "2024-03-04T10:35:57.591Z"
   },
   {
    "duration": 8,
    "start_time": "2024-03-04T10:35:58.520Z"
   },
   {
    "duration": 2584,
    "start_time": "2024-03-04T10:36:13.665Z"
   },
   {
    "duration": 1901,
    "start_time": "2024-03-04T10:36:17.221Z"
   },
   {
    "duration": 962,
    "start_time": "2024-03-04T10:36:21.281Z"
   },
   {
    "duration": 12,
    "start_time": "2024-03-04T10:36:23.604Z"
   },
   {
    "duration": 34,
    "start_time": "2024-03-04T10:36:24.480Z"
   },
   {
    "duration": 248,
    "start_time": "2024-03-04T10:36:25.890Z"
   },
   {
    "duration": 9,
    "start_time": "2024-03-04T10:36:27.049Z"
   },
   {
    "duration": 11,
    "start_time": "2024-03-04T10:36:30.048Z"
   },
   {
    "duration": 7,
    "start_time": "2024-03-04T10:36:30.481Z"
   },
   {
    "duration": 4,
    "start_time": "2024-03-04T10:36:31.691Z"
   },
   {
    "duration": 4600,
    "start_time": "2024-03-04T10:36:32.518Z"
   },
   {
    "duration": 7,
    "start_time": "2024-03-04T10:36:37.120Z"
   },
   {
    "duration": 10,
    "start_time": "2024-03-04T10:36:37.129Z"
   },
   {
    "duration": 3,
    "start_time": "2024-03-04T10:36:38.248Z"
   },
   {
    "duration": 3755,
    "start_time": "2024-03-04T10:36:39.873Z"
   },
   {
    "duration": 12,
    "start_time": "2024-03-04T10:36:44.252Z"
   },
   {
    "duration": 5,
    "start_time": "2024-03-04T10:36:45.570Z"
   },
   {
    "duration": 3,
    "start_time": "2024-03-04T10:36:46.711Z"
   },
   {
    "duration": 2333,
    "start_time": "2024-03-04T10:36:47.827Z"
   },
   {
    "duration": 11,
    "start_time": "2024-03-04T10:36:51.092Z"
   },
   {
    "duration": 2,
    "start_time": "2024-03-04T10:36:52.411Z"
   },
   {
    "duration": 4,
    "start_time": "2024-03-04T10:36:53.704Z"
   },
   {
    "duration": 58589,
    "start_time": "2024-03-04T10:36:57.685Z"
   },
   {
    "duration": 2844,
    "start_time": "2024-03-04T10:39:47.347Z"
   },
   {
    "duration": 2739,
    "start_time": "2024-03-04T10:39:57.172Z"
   },
   {
    "duration": 2182,
    "start_time": "2024-03-04T10:40:00.504Z"
   },
   {
    "duration": 1015,
    "start_time": "2024-03-04T10:40:05.603Z"
   },
   {
    "duration": 12,
    "start_time": "2024-03-04T10:40:07.171Z"
   },
   {
    "duration": 33,
    "start_time": "2024-03-04T10:40:07.812Z"
   },
   {
    "duration": 251,
    "start_time": "2024-03-04T10:40:08.837Z"
   },
   {
    "duration": 10,
    "start_time": "2024-03-04T10:40:09.880Z"
   },
   {
    "duration": 10,
    "start_time": "2024-03-04T10:40:13.061Z"
   },
   {
    "duration": 7,
    "start_time": "2024-03-04T10:40:13.518Z"
   },
   {
    "duration": 3,
    "start_time": "2024-03-04T10:40:14.734Z"
   },
   {
    "duration": 4922,
    "start_time": "2024-03-04T10:40:15.531Z"
   },
   {
    "duration": 7,
    "start_time": "2024-03-04T10:40:20.455Z"
   },
   {
    "duration": 41,
    "start_time": "2024-03-04T10:40:20.463Z"
   },
   {
    "duration": 13,
    "start_time": "2024-03-04T10:40:20.507Z"
   },
   {
    "duration": 4279,
    "start_time": "2024-03-04T10:40:20.523Z"
   },
   {
    "duration": 12,
    "start_time": "2024-03-04T10:40:24.804Z"
   },
   {
    "duration": 14,
    "start_time": "2024-03-04T10:40:24.818Z"
   },
   {
    "duration": 5,
    "start_time": "2024-03-04T10:40:24.834Z"
   },
   {
    "duration": 2434,
    "start_time": "2024-03-04T10:40:24.840Z"
   },
   {
    "duration": 10,
    "start_time": "2024-03-04T10:40:27.277Z"
   },
   {
    "duration": 15,
    "start_time": "2024-03-04T10:40:27.294Z"
   },
   {
    "duration": 19,
    "start_time": "2024-03-04T10:40:27.311Z"
   },
   {
    "duration": 15,
    "start_time": "2024-03-04T10:40:27.332Z"
   },
   {
    "duration": 139,
    "start_time": "2024-03-04T10:40:28.118Z"
   },
   {
    "duration": 14,
    "start_time": "2024-03-04T10:40:49.971Z"
   },
   {
    "duration": 22130,
    "start_time": "2024-03-04T10:47:36.381Z"
   },
   {
    "duration": 3110,
    "start_time": "2024-03-04T10:48:01.553Z"
   },
   {
    "duration": 2689,
    "start_time": "2024-03-04T10:48:06.603Z"
   },
   {
    "duration": 985,
    "start_time": "2024-03-04T10:48:11.262Z"
   },
   {
    "duration": 12,
    "start_time": "2024-03-04T10:48:12.724Z"
   },
   {
    "duration": 34,
    "start_time": "2024-03-04T10:48:13.436Z"
   },
   {
    "duration": 236,
    "start_time": "2024-03-04T10:48:14.317Z"
   },
   {
    "duration": 9,
    "start_time": "2024-03-04T10:48:15.094Z"
   },
   {
    "duration": 11,
    "start_time": "2024-03-04T10:48:17.579Z"
   },
   {
    "duration": 7,
    "start_time": "2024-03-04T10:48:17.948Z"
   },
   {
    "duration": 3,
    "start_time": "2024-03-04T10:48:18.982Z"
   },
   {
    "duration": 4947,
    "start_time": "2024-03-04T10:48:19.703Z"
   },
   {
    "duration": 7,
    "start_time": "2024-03-04T10:48:24.652Z"
   },
   {
    "duration": 3,
    "start_time": "2024-03-04T10:48:25.359Z"
   },
   {
    "duration": 3,
    "start_time": "2024-03-04T10:48:26.028Z"
   },
   {
    "duration": 4226,
    "start_time": "2024-03-04T10:48:27.303Z"
   },
   {
    "duration": 11,
    "start_time": "2024-03-04T10:48:32.207Z"
   },
   {
    "duration": 5,
    "start_time": "2024-03-04T10:48:33.018Z"
   },
   {
    "duration": 3,
    "start_time": "2024-03-04T10:48:38.282Z"
   },
   {
    "duration": 1808,
    "start_time": "2024-03-04T10:48:39.122Z"
   },
   {
    "duration": 10,
    "start_time": "2024-03-04T10:48:41.673Z"
   },
   {
    "duration": 2,
    "start_time": "2024-03-04T10:48:42.625Z"
   },
   {
    "duration": 5,
    "start_time": "2024-03-04T10:48:43.487Z"
   },
   {
    "duration": 2,
    "start_time": "2024-03-04T10:48:45.760Z"
   },
   {
    "duration": 173,
    "start_time": "2024-03-04T10:48:46.546Z"
   },
   {
    "duration": 59772,
    "start_time": "2024-03-04T10:51:01.205Z"
   },
   {
    "duration": 2648,
    "start_time": "2024-03-04T10:52:15.167Z"
   },
   {
    "duration": 1061,
    "start_time": "2024-03-04T10:52:32.542Z"
   },
   {
    "duration": 17,
    "start_time": "2024-03-04T10:52:34.391Z"
   },
   {
    "duration": 33,
    "start_time": "2024-03-04T10:52:35.311Z"
   },
   {
    "duration": 256,
    "start_time": "2024-03-04T10:52:36.650Z"
   },
   {
    "duration": 7,
    "start_time": "2024-03-04T10:52:38.056Z"
   },
   {
    "duration": 18,
    "start_time": "2024-03-04T10:52:41.688Z"
   },
   {
    "duration": 6,
    "start_time": "2024-03-04T10:52:42.132Z"
   },
   {
    "duration": 12,
    "start_time": "2024-03-04T10:52:43.491Z"
   },
   {
    "duration": 4969,
    "start_time": "2024-03-04T10:52:44.403Z"
   },
   {
    "duration": 8,
    "start_time": "2024-03-04T10:52:49.373Z"
   },
   {
    "duration": 5,
    "start_time": "2024-03-04T10:52:49.398Z"
   },
   {
    "duration": 17,
    "start_time": "2024-03-04T10:52:49.405Z"
   },
   {
    "duration": 4536,
    "start_time": "2024-03-04T10:52:49.424Z"
   },
   {
    "duration": 10,
    "start_time": "2024-03-04T10:52:53.962Z"
   },
   {
    "duration": 9,
    "start_time": "2024-03-04T10:52:53.974Z"
   },
   {
    "duration": 23,
    "start_time": "2024-03-04T10:52:53.985Z"
   },
   {
    "duration": 1864,
    "start_time": "2024-03-04T10:52:54.010Z"
   },
   {
    "duration": 10,
    "start_time": "2024-03-04T10:52:55.877Z"
   },
   {
    "duration": 18,
    "start_time": "2024-03-04T10:52:55.895Z"
   },
   {
    "duration": 34,
    "start_time": "2024-03-04T10:52:55.915Z"
   },
   {
    "duration": 799679,
    "start_time": "2024-03-04T10:52:55.951Z"
   },
   {
    "duration": 32429,
    "start_time": "2024-03-04T11:07:59.379Z"
   },
   {
    "duration": 0,
    "start_time": "2024-03-04T11:08:31.810Z"
   },
   {
    "duration": 5,
    "start_time": "2024-03-04T11:08:40.331Z"
   },
   {
    "duration": 960,
    "start_time": "2024-03-04T11:08:42.907Z"
   },
   {
    "duration": 9,
    "start_time": "2024-03-04T11:08:43.869Z"
   },
   {
    "duration": 49,
    "start_time": "2024-03-04T11:08:43.879Z"
   },
   {
    "duration": 277,
    "start_time": "2024-03-04T11:08:45.128Z"
   },
   {
    "duration": 7,
    "start_time": "2024-03-04T11:08:45.927Z"
   },
   {
    "duration": 13,
    "start_time": "2024-03-04T11:08:48.295Z"
   },
   {
    "duration": 6,
    "start_time": "2024-03-04T11:08:48.627Z"
   },
   {
    "duration": 3,
    "start_time": "2024-03-04T11:08:49.649Z"
   },
   {
    "duration": 4955,
    "start_time": "2024-03-04T11:08:50.382Z"
   },
   {
    "duration": 2576,
    "start_time": "2024-03-04T11:09:08.772Z"
   },
   {
    "duration": 1009,
    "start_time": "2024-03-04T11:09:11.495Z"
   },
   {
    "duration": 13,
    "start_time": "2024-03-04T11:09:12.983Z"
   },
   {
    "duration": 34,
    "start_time": "2024-03-04T11:09:13.586Z"
   },
   {
    "duration": 247,
    "start_time": "2024-03-04T11:09:15.247Z"
   },
   {
    "duration": 8,
    "start_time": "2024-03-04T11:09:15.648Z"
   },
   {
    "duration": 12,
    "start_time": "2024-03-04T11:09:17.703Z"
   },
   {
    "duration": 7,
    "start_time": "2024-03-04T11:09:18.029Z"
   },
   {
    "duration": 3,
    "start_time": "2024-03-04T11:09:19.173Z"
   },
   {
    "duration": 4946,
    "start_time": "2024-03-04T11:09:19.928Z"
   },
   {
    "duration": 7,
    "start_time": "2024-03-04T11:09:24.876Z"
   },
   {
    "duration": 22,
    "start_time": "2024-03-04T11:09:24.885Z"
   },
   {
    "duration": 3,
    "start_time": "2024-03-04T11:09:24.909Z"
   },
   {
    "duration": 4215,
    "start_time": "2024-03-04T11:09:24.914Z"
   },
   {
    "duration": 12,
    "start_time": "2024-03-04T11:09:29.131Z"
   },
   {
    "duration": 20,
    "start_time": "2024-03-04T11:09:29.145Z"
   },
   {
    "duration": 6,
    "start_time": "2024-03-04T11:09:29.167Z"
   },
   {
    "duration": 1861,
    "start_time": "2024-03-04T11:09:29.175Z"
   },
   {
    "duration": 11,
    "start_time": "2024-03-04T11:09:31.039Z"
   },
   {
    "duration": 230,
    "start_time": "2024-03-04T11:09:31.051Z"
   },
   {
    "duration": 281,
    "start_time": "2024-03-04T11:09:31.283Z"
   },
   {
    "duration": 812661,
    "start_time": "2024-03-04T11:09:31.566Z"
   },
   {
    "duration": 10,
    "start_time": "2024-03-04T11:23:19.406Z"
   },
   {
    "duration": 240,
    "start_time": "2024-03-04T11:23:26.124Z"
   },
   {
    "duration": 7,
    "start_time": "2024-03-04T11:23:36.404Z"
   },
   {
    "duration": 164,
    "start_time": "2024-03-04T11:34:54.444Z"
   },
   {
    "duration": 3676,
    "start_time": "2024-03-04T11:35:16.329Z"
   },
   {
    "duration": 5012,
    "start_time": "2024-03-04T11:35:38.675Z"
   },
   {
    "duration": 28,
    "start_time": "2024-03-04T11:35:46.357Z"
   },
   {
    "duration": 18,
    "start_time": "2024-03-04T11:42:16.816Z"
   },
   {
    "duration": 4272,
    "start_time": "2024-03-04T11:43:32.737Z"
   },
   {
    "duration": 28,
    "start_time": "2024-03-04T11:43:55.321Z"
   },
   {
    "duration": 41,
    "start_time": "2024-03-04T11:45:53.229Z"
   },
   {
    "duration": 6,
    "start_time": "2024-03-04T11:46:33.084Z"
   },
   {
    "duration": 13,
    "start_time": "2024-03-04T11:46:43.462Z"
   },
   {
    "duration": 11,
    "start_time": "2024-03-04T11:47:00.153Z"
   },
   {
    "duration": 19,
    "start_time": "2024-03-04T11:47:30.733Z"
   },
   {
    "duration": 191,
    "start_time": "2024-03-04T11:47:32.303Z"
   },
   {
    "duration": 36,
    "start_time": "2024-03-04T11:49:00.190Z"
   },
   {
    "duration": 11,
    "start_time": "2024-03-04T11:50:05.459Z"
   },
   {
    "duration": 15,
    "start_time": "2024-03-04T11:50:26.610Z"
   },
   {
    "duration": 3205,
    "start_time": "2024-03-04T11:51:03.696Z"
   },
   {
    "duration": 16,
    "start_time": "2024-03-04T11:51:52.717Z"
   },
   {
    "duration": 578,
    "start_time": "2024-03-04T11:56:53.904Z"
   },
   {
    "duration": 247,
    "start_time": "2024-03-04T11:57:41.941Z"
   },
   {
    "duration": 1900,
    "start_time": "2024-03-04T11:57:48.649Z"
   },
   {
    "duration": 3,
    "start_time": "2024-03-04T11:59:50.876Z"
   },
   {
    "duration": 1885,
    "start_time": "2024-03-04T12:00:09.530Z"
   },
   {
    "duration": 2258,
    "start_time": "2024-03-04T12:03:22.052Z"
   },
   {
    "duration": 2234,
    "start_time": "2024-03-04T12:04:44.092Z"
   },
   {
    "duration": 18,
    "start_time": "2024-03-04T12:06:05.423Z"
   },
   {
    "duration": 31798,
    "start_time": "2024-03-04T12:08:03.024Z"
   },
   {
    "duration": 6321,
    "start_time": "2024-03-04T12:09:53.330Z"
   },
   {
    "duration": 16,
    "start_time": "2024-03-04T12:10:35.603Z"
   },
   {
    "duration": 4020,
    "start_time": "2024-03-04T12:11:20.964Z"
   },
   {
    "duration": 5435,
    "start_time": "2024-03-04T12:11:26.937Z"
   },
   {
    "duration": 2671,
    "start_time": "2024-03-04T12:15:22.467Z"
   },
   {
    "duration": 978,
    "start_time": "2024-03-04T12:15:28.633Z"
   },
   {
    "duration": 13,
    "start_time": "2024-03-04T12:15:30.325Z"
   },
   {
    "duration": 33,
    "start_time": "2024-03-04T12:15:31.637Z"
   },
   {
    "duration": 239,
    "start_time": "2024-03-04T12:15:32.827Z"
   },
   {
    "duration": 7,
    "start_time": "2024-03-04T12:15:33.653Z"
   },
   {
    "duration": 17,
    "start_time": "2024-03-04T12:15:35.887Z"
   },
   {
    "duration": 15,
    "start_time": "2024-03-04T12:15:36.187Z"
   },
   {
    "duration": 3,
    "start_time": "2024-03-04T12:15:37.033Z"
   },
   {
    "duration": 4983,
    "start_time": "2024-03-04T12:15:37.643Z"
   },
   {
    "duration": 7,
    "start_time": "2024-03-04T12:15:42.628Z"
   },
   {
    "duration": 3,
    "start_time": "2024-03-04T12:15:46.112Z"
   },
   {
    "duration": 3,
    "start_time": "2024-03-04T12:15:46.673Z"
   },
   {
    "duration": 4293,
    "start_time": "2024-03-04T12:15:47.251Z"
   },
   {
    "duration": 11,
    "start_time": "2024-03-04T12:15:51.546Z"
   },
   {
    "duration": 4,
    "start_time": "2024-03-04T12:15:52.817Z"
   },
   {
    "duration": 3,
    "start_time": "2024-03-04T12:15:53.551Z"
   },
   {
    "duration": 1859,
    "start_time": "2024-03-04T12:15:54.251Z"
   },
   {
    "duration": 9,
    "start_time": "2024-03-04T12:15:56.677Z"
   },
   {
    "duration": 3,
    "start_time": "2024-03-04T12:15:57.453Z"
   },
   {
    "duration": 5,
    "start_time": "2024-03-04T12:15:58.284Z"
   },
   {
    "duration": 784034,
    "start_time": "2024-03-04T12:16:03.173Z"
   },
   {
    "duration": 375,
    "start_time": "2024-03-04T12:30:23.798Z"
   },
   {
    "duration": 8,
    "start_time": "2024-03-04T12:30:24.854Z"
   },
   {
    "duration": 133,
    "start_time": "2024-03-04T12:30:43.308Z"
   },
   {
    "duration": 3,
    "start_time": "2024-03-04T12:41:37.209Z"
   },
   {
    "duration": 157,
    "start_time": "2024-03-04T15:13:54.072Z"
   },
   {
    "duration": 2637,
    "start_time": "2024-03-04T15:15:30.578Z"
   },
   {
    "duration": 984,
    "start_time": "2024-03-04T15:15:35.150Z"
   },
   {
    "duration": 12,
    "start_time": "2024-03-04T15:15:36.136Z"
   },
   {
    "duration": 32,
    "start_time": "2024-03-04T15:15:36.893Z"
   },
   {
    "duration": 238,
    "start_time": "2024-03-04T15:15:38.406Z"
   },
   {
    "duration": 8,
    "start_time": "2024-03-04T15:15:39.463Z"
   },
   {
    "duration": 11,
    "start_time": "2024-03-04T15:15:42.331Z"
   },
   {
    "duration": 10,
    "start_time": "2024-03-04T15:15:42.721Z"
   },
   {
    "duration": 4,
    "start_time": "2024-03-04T15:15:43.999Z"
   },
   {
    "duration": 4785,
    "start_time": "2024-03-04T15:15:44.848Z"
   },
   {
    "duration": 7,
    "start_time": "2024-03-04T15:15:49.635Z"
   },
   {
    "duration": 5,
    "start_time": "2024-03-04T15:15:49.644Z"
   },
   {
    "duration": 6,
    "start_time": "2024-03-04T15:15:49.651Z"
   },
   {
    "duration": 4131,
    "start_time": "2024-03-04T15:15:49.658Z"
   },
   {
    "duration": 11,
    "start_time": "2024-03-04T15:15:53.791Z"
   },
   {
    "duration": 24,
    "start_time": "2024-03-04T15:15:53.803Z"
   },
   {
    "duration": 28,
    "start_time": "2024-03-04T15:15:53.829Z"
   },
   {
    "duration": 1783,
    "start_time": "2024-03-04T15:15:53.858Z"
   },
   {
    "duration": 11,
    "start_time": "2024-03-04T15:15:55.644Z"
   },
   {
    "duration": 3,
    "start_time": "2024-03-04T15:15:57.822Z"
   },
   {
    "duration": 7,
    "start_time": "2024-03-04T15:15:58.817Z"
   },
   {
    "duration": 743728,
    "start_time": "2024-03-04T15:16:01.765Z"
   },
   {
    "duration": 337,
    "start_time": "2024-03-04T15:33:27.104Z"
   },
   {
    "duration": 7,
    "start_time": "2024-03-04T15:33:29.811Z"
   },
   {
    "duration": 121,
    "start_time": "2024-03-04T15:33:35.621Z"
   },
   {
    "duration": 3,
    "start_time": "2024-03-04T15:33:40.587Z"
   },
   {
    "duration": 13,
    "start_time": "2024-03-04T15:35:46.284Z"
   },
   {
    "duration": 34,
    "start_time": "2024-03-04T15:35:47.403Z"
   },
   {
    "duration": 5,
    "start_time": "2024-03-04T15:35:48.522Z"
   },
   {
    "duration": 52,
    "start_time": "2024-03-04T15:38:49.017Z"
   },
   {
    "duration": 40,
    "start_time": "2024-03-04T15:40:00.442Z"
   },
   {
    "duration": 227,
    "start_time": "2024-03-04T15:48:49.935Z"
   },
   {
    "duration": 5,
    "start_time": "2024-03-04T15:49:24.442Z"
   },
   {
    "duration": 55,
    "start_time": "2024-03-04T15:49:33.309Z"
   },
   {
    "duration": 74,
    "start_time": "2024-03-04T15:51:02.215Z"
   },
   {
    "duration": 72,
    "start_time": "2024-03-04T15:53:05.357Z"
   },
   {
    "duration": 62,
    "start_time": "2024-03-04T15:54:56.772Z"
   },
   {
    "duration": 3,
    "start_time": "2024-03-04T15:56:19.204Z"
   },
   {
    "duration": 3,
    "start_time": "2024-03-04T15:56:19.963Z"
   },
   {
    "duration": 5326,
    "start_time": "2024-03-04T15:56:20.929Z"
   },
   {
    "duration": 8,
    "start_time": "2024-03-04T16:00:57.268Z"
   },
   {
    "duration": 3,
    "start_time": "2024-03-04T16:01:00.102Z"
   },
   {
    "duration": 2563,
    "start_time": "2024-03-04T16:01:25.962Z"
   },
   {
    "duration": 967,
    "start_time": "2024-03-04T16:01:30.496Z"
   },
   {
    "duration": 13,
    "start_time": "2024-03-04T16:01:31.959Z"
   },
   {
    "duration": 32,
    "start_time": "2024-03-04T16:01:32.756Z"
   },
   {
    "duration": 237,
    "start_time": "2024-03-04T16:01:34.081Z"
   },
   {
    "duration": 9,
    "start_time": "2024-03-04T16:01:35.319Z"
   },
   {
    "duration": 10,
    "start_time": "2024-03-04T16:01:39.025Z"
   },
   {
    "duration": 7,
    "start_time": "2024-03-04T16:01:39.495Z"
   },
   {
    "duration": 4,
    "start_time": "2024-03-04T16:01:40.912Z"
   },
   {
    "duration": 4689,
    "start_time": "2024-03-04T16:01:41.804Z"
   },
   {
    "duration": 7,
    "start_time": "2024-03-04T16:01:46.495Z"
   },
   {
    "duration": 15,
    "start_time": "2024-03-04T16:01:46.504Z"
   },
   {
    "duration": 3,
    "start_time": "2024-03-04T16:01:47.325Z"
   },
   {
    "duration": 3975,
    "start_time": "2024-03-04T16:01:47.882Z"
   },
   {
    "duration": 13,
    "start_time": "2024-03-04T16:01:51.859Z"
   },
   {
    "duration": 17,
    "start_time": "2024-03-04T16:01:51.874Z"
   },
   {
    "duration": 21,
    "start_time": "2024-03-04T16:01:51.894Z"
   },
   {
    "duration": 1735,
    "start_time": "2024-03-04T16:01:51.917Z"
   },
   {
    "duration": 10,
    "start_time": "2024-03-04T16:01:53.654Z"
   },
   {
    "duration": 12,
    "start_time": "2024-03-04T16:01:53.666Z"
   },
   {
    "duration": 5,
    "start_time": "2024-03-04T16:01:57.047Z"
   },
   {
    "duration": 730409,
    "start_time": "2024-03-04T16:01:58.795Z"
   },
   {
    "duration": 393,
    "start_time": "2024-03-04T16:26:06.538Z"
   },
   {
    "duration": 7,
    "start_time": "2024-03-04T16:26:07.575Z"
   },
   {
    "duration": 142,
    "start_time": "2024-03-04T16:26:11.931Z"
   },
   {
    "duration": 16,
    "start_time": "2024-03-04T16:26:19.612Z"
   },
   {
    "duration": 35,
    "start_time": "2024-03-04T16:26:21.050Z"
   },
   {
    "duration": 6,
    "start_time": "2024-03-04T16:26:22.260Z"
   },
   {
    "duration": 36,
    "start_time": "2024-03-04T16:26:27.816Z"
   },
   {
    "duration": 58,
    "start_time": "2024-03-04T16:26:34.648Z"
   },
   {
    "duration": 6,
    "start_time": "2024-03-04T16:26:37.523Z"
   },
   {
    "duration": 3,
    "start_time": "2024-03-04T16:26:39.852Z"
   },
   {
    "duration": 4,
    "start_time": "2024-03-04T16:37:32.014Z"
   },
   {
    "duration": 3,
    "start_time": "2024-03-04T16:37:32.845Z"
   },
   {
    "duration": 3102,
    "start_time": "2024-03-04T16:37:33.424Z"
   },
   {
    "duration": 297675,
    "start_time": "2024-03-04T16:37:57.753Z"
   },
   {
    "duration": 129,
    "start_time": "2024-03-04T16:44:57.293Z"
   },
   {
    "duration": 5,
    "start_time": "2024-03-04T16:45:04.620Z"
   },
   {
    "duration": 15,
    "start_time": "2024-03-04T16:45:21.526Z"
   },
   {
    "duration": 2133992,
    "start_time": "2024-03-04T16:45:27.996Z"
   },
   {
    "duration": 47,
    "start_time": "2024-03-04T17:21:04.661Z"
   },
   {
    "duration": 117653,
    "start_time": "2024-03-04T17:21:10.471Z"
   },
   {
    "duration": 212,
    "start_time": "2024-03-04T17:24:16.700Z"
   },
   {
    "duration": 8,
    "start_time": "2024-03-04T17:24:21.885Z"
   },
   {
    "duration": 3,
    "start_time": "2024-03-04T17:25:49.112Z"
   },
   {
    "duration": 309,
    "start_time": "2024-03-04T17:33:11.598Z"
   },
   {
    "duration": 2647,
    "start_time": "2024-03-04T18:01:33.880Z"
   },
   {
    "duration": 948,
    "start_time": "2024-03-04T18:01:36.529Z"
   },
   {
    "duration": 17,
    "start_time": "2024-03-04T18:01:37.478Z"
   },
   {
    "duration": 32,
    "start_time": "2024-03-04T18:01:37.497Z"
   },
   {
    "duration": 256,
    "start_time": "2024-03-04T18:01:37.531Z"
   },
   {
    "duration": 9,
    "start_time": "2024-03-04T18:01:37.791Z"
   },
   {
    "duration": 14,
    "start_time": "2024-03-04T18:01:37.802Z"
   },
   {
    "duration": 14,
    "start_time": "2024-03-04T18:01:37.818Z"
   },
   {
    "duration": 12,
    "start_time": "2024-03-04T18:01:37.833Z"
   },
   {
    "duration": 4667,
    "start_time": "2024-03-04T18:01:37.847Z"
   },
   {
    "duration": 7,
    "start_time": "2024-03-04T18:01:42.516Z"
   },
   {
    "duration": 13,
    "start_time": "2024-03-04T18:01:42.525Z"
   },
   {
    "duration": 8,
    "start_time": "2024-03-04T18:01:42.540Z"
   },
   {
    "duration": 4107,
    "start_time": "2024-03-04T18:01:42.550Z"
   },
   {
    "duration": 13,
    "start_time": "2024-03-04T18:01:46.659Z"
   },
   {
    "duration": 25,
    "start_time": "2024-03-04T18:01:46.674Z"
   },
   {
    "duration": 14,
    "start_time": "2024-03-04T18:01:46.701Z"
   },
   {
    "duration": 1892,
    "start_time": "2024-03-04T18:01:46.718Z"
   },
   {
    "duration": 10,
    "start_time": "2024-03-04T18:01:48.611Z"
   },
   {
    "duration": 6,
    "start_time": "2024-03-04T18:01:48.623Z"
   },
   {
    "duration": 10,
    "start_time": "2024-03-04T18:01:48.630Z"
   },
   {
    "duration": 733068,
    "start_time": "2024-03-04T18:01:48.642Z"
   },
   {
    "duration": 376,
    "start_time": "2024-03-04T18:14:01.712Z"
   },
   {
    "duration": 8,
    "start_time": "2024-03-04T18:14:02.092Z"
   },
   {
    "duration": 285,
    "start_time": "2024-03-04T18:14:02.102Z"
   },
   {
    "duration": 11,
    "start_time": "2024-03-04T18:14:02.388Z"
   },
   {
    "duration": 50,
    "start_time": "2024-03-04T18:14:02.400Z"
   },
   {
    "duration": 6,
    "start_time": "2024-03-04T18:14:02.454Z"
   },
   {
    "duration": 48,
    "start_time": "2024-03-04T18:14:02.461Z"
   },
   {
    "duration": 84,
    "start_time": "2024-03-04T18:14:02.510Z"
   },
   {
    "duration": 7,
    "start_time": "2024-03-04T18:14:02.595Z"
   },
   {
    "duration": 5,
    "start_time": "2024-03-04T18:14:02.604Z"
   },
   {
    "duration": 14,
    "start_time": "2024-03-04T18:14:02.611Z"
   },
   {
    "duration": 12,
    "start_time": "2024-03-04T18:14:02.627Z"
   },
   {
    "duration": 26,
    "start_time": "2024-03-04T18:14:02.641Z"
   },
   {
    "duration": 4,
    "start_time": "2024-03-04T18:14:02.669Z"
   },
   {
    "duration": 4,
    "start_time": "2024-03-04T18:14:02.675Z"
   },
   {
    "duration": 4,
    "start_time": "2024-03-04T18:14:02.681Z"
   },
   {
    "duration": 2921,
    "start_time": "2024-03-04T18:14:02.687Z"
   },
   {
    "duration": 301815,
    "start_time": "2024-03-04T18:14:05.610Z"
   },
   {
    "duration": 4,
    "start_time": "2024-03-04T18:19:07.427Z"
   },
   {
    "duration": 17,
    "start_time": "2024-03-04T18:19:07.433Z"
   },
   {
    "duration": 2155052,
    "start_time": "2024-03-04T18:19:07.451Z"
   },
   {
    "duration": 50,
    "start_time": "2024-03-04T18:55:02.504Z"
   },
   {
    "duration": 221867,
    "start_time": "2024-03-04T18:55:02.556Z"
   },
   {
    "duration": 287,
    "start_time": "2024-03-04T18:58:44.425Z"
   },
   {
    "duration": 76,
    "start_time": "2024-03-04T18:58:44.716Z"
   },
   {
    "duration": 6,
    "start_time": "2024-03-04T18:58:44.794Z"
   },
   {
    "duration": 302,
    "start_time": "2024-03-04T18:58:44.802Z"
   },
   {
    "duration": 94,
    "start_time": "2024-03-04T18:58:45.106Z"
   },
   {
    "duration": 2,
    "start_time": "2024-03-04T18:59:38.834Z"
   },
   {
    "duration": 8421,
    "start_time": "2024-03-04T21:13:36.121Z"
   },
   {
    "duration": 305,
    "start_time": "2024-03-04T21:13:44.544Z"
   },
   {
    "duration": 9,
    "start_time": "2024-03-04T21:13:46.820Z"
   }
  ],
  "kernelspec": {
   "display_name": "Python 3 (ipykernel)",
   "language": "python",
   "name": "python3"
  },
  "language_info": {
   "codemirror_mode": {
    "name": "ipython",
    "version": 3
   },
   "file_extension": ".py",
   "mimetype": "text/x-python",
   "name": "python",
   "nbconvert_exporter": "python",
   "pygments_lexer": "ipython3",
   "version": "3.10.9"
  },
  "toc": {
   "base_numbering": 1,
   "nav_menu": {},
   "number_sections": true,
   "sideBar": true,
   "skip_h1_title": true,
   "title_cell": "Содержание",
   "title_sidebar": "Contents",
   "toc_cell": true,
   "toc_position": {
    "height": "calc(100% - 180px)",
    "left": "10px",
    "top": "150px",
    "width": "302.391px"
   },
   "toc_section_display": true,
   "toc_window_display": false
  }
 },
 "nbformat": 4,
 "nbformat_minor": 2
}
