{
 "cells": [
  {
   "cell_type": "markdown",
   "metadata": {},
   "source": [
    "# Определение стоимости автомобилей"
   ]
  },
  {
   "cell_type": "markdown",
   "metadata": {},
   "source": [
    "Сервис по продаже автомобилей с пробегом «Не бит, не крашен» разрабатывает приложение для привлечения новых клиентов. В нём можно быстро узнать рыночную стоимость своего автомобиля. В нашем распоряжении исторические данные: технические характеристики, комплектации и цены автомобилей. Вам нужно построить модель для определения стоимости. \n",
    "\n",
    "Заказчику важны:\n",
    "\n",
    "- качество предсказания;\n",
    "- скорость предсказания;\n",
    "- время обучения."
   ]
  },
  {
   "cell_type": "markdown",
   "metadata": {},
   "source": [
    "**<u>Описание данных</u>**\n",
    "\n",
    "Данные находятся в файле `/datasets/autos.csv`.\n",
    "\n",
    "**Признаки**\n",
    "\n",
    "* `DateCrawled` — дата скачивания анкеты из базы\n",
    "* `VehicleType` — тип автомобильного кузова\n",
    "* `RegistrationYear` — год регистрации автомобиля\n",
    "* `Gearbox` — тип коробки передач\n",
    "* `Power` — мощность (л. с.)\n",
    "* `Model` — модель автомобиля\n",
    "* `Kilometer` — пробег (км)\n",
    "* `RegistrationMonth` — месяц регистрации автомобиля\n",
    "* `FuelType` — тип топлива\n",
    "* `Brand` — марка автомобиля\n",
    "* `Repaired` — была машина в ремонте или нет\n",
    "* `DateCreated` — дата создания анкеты\n",
    "* `NumberOfPictures` — количество фотографий автомобиля\n",
    "* `PostalCode` — почтовый индекс владельца анкеты (пользователя)\n",
    "* `LastSeen` — дата последней активности пользователя\n",
    "\n",
    "**Целевой признак**\n",
    "\n",
    "* `Price` — цена (евро)"
   ]
  },
  {
   "cell_type": "markdown",
   "metadata": {},
   "source": [
    "**<u>План работы</u>**\n",
    "\n",
    "**1.** Загрузка данных из файла `/datasets/autos.csv` и их подготовка к дальнейшей работе.\n",
    "\n",
    "**2.** Изучение данных. Заполнение пропущенных значений и обработка аномалий в столбцах. Если среди признаков имеются неинформативные, их необходимо удалить.\n",
    "\n",
    "**3.** Подготовка выборки для обучения моделей.\n",
    "\n",
    "**4.** Обучение разных моделей, одна из которых — LightGBM, как минимум одна — не бустинг. Для каждой модели попробовать использовать разные гиперпараметры.\n",
    "\n",
    "**5.** Анализ времени обучения, времени предсказания и качества моделей.\n",
    "\n",
    "**6.** Выбор лучшей модели (на основе критериев заказчика), проверка её качества на тестовой выборке."
   ]
  },
  {
   "cell_type": "markdown",
   "metadata": {},
   "source": [
    "<u>Примечания</u>\n",
    "\n",
    "* Для оценки качества моделей рекомендуется применять метрику `RMSE`.\n",
    "* Значение метрики `RMSE` должно быть меньше `2500`.\n",
    "* Рекмендуется самостоятельно изучить библиотеку `LightGBM` и её средствами построить модели градиентного бустинга.\n",
    "* Время выполнения ячейки кода `Jupyter Notebook` нужно получить специальной командой.\n",
    "* Модель градиентного бустинга может долго обучаться, поэтому нужно изменить у неё только два-три параметра.\n",
    "* Если перестанет работать `Jupyter Notebook`, рекомендуется удалить лишние переменные оператором `del` (`del features_train`)."
   ]
  },
  {
   "cell_type": "markdown",
   "metadata": {},
   "source": [
    "---------------------------"
   ]
  },
  {
   "cell_type": "markdown",
   "metadata": {},
   "source": [
    "**Импорт необходимых для работы библиотек**"
   ]
  },
  {
   "cell_type": "code",
   "execution_count": 1,
   "metadata": {},
   "outputs": [],
   "source": [
    "import pandas as pd\n",
    "import numpy as np\n",
    "import matplotlib.pyplot as plt\n",
    "import time\n",
    "\n",
    "from sklearn.metrics import mean_squared_error\n",
    "from sklearn.model_selection import train_test_split, GridSearchCV\n",
    "from sklearn.preprocessing import StandardScaler, OneHotEncoder, OrdinalEncoder\n",
    "from sklearn.linear_model import LinearRegression\n",
    "from sklearn.tree import DecisionTreeRegressor \n",
    "\n",
    "from lightgbm import LGBMRegressor\n",
    "from catboost import CatBoostRegressor\n",
    "from sklearn.dummy import DummyRegressor\n",
    "\n",
    "pd.set_option('display.max_columns', None)\n",
    "\n",
    "%matplotlib inline\n",
    "\n",
    "plt.rcParams['figure.figsize'] = (8, 4)\n",
    "\n",
    "RANDOM_STATE = 42"
   ]
  },
  {
   "cell_type": "markdown",
   "metadata": {},
   "source": [
    "## Загрузка и подготовка данных"
   ]
  },
  {
   "cell_type": "code",
   "execution_count": 2,
   "metadata": {},
   "outputs": [],
   "source": [
    "# сохраним датафрейм в переменную\n",
    "data = pd.read_csv('datasets/autos.csv')"
   ]
  },
  {
   "cell_type": "code",
   "execution_count": 3,
   "metadata": {},
   "outputs": [
    {
     "name": "stdout",
     "output_type": "stream",
     "text": [
      "<class 'pandas.core.frame.DataFrame'>\n",
      "RangeIndex: 354369 entries, 0 to 354368\n",
      "Data columns (total 16 columns):\n",
      " #   Column             Non-Null Count   Dtype \n",
      "---  ------             --------------   ----- \n",
      " 0   DateCrawled        354369 non-null  object\n",
      " 1   Price              354369 non-null  int64 \n",
      " 2   VehicleType        316879 non-null  object\n",
      " 3   RegistrationYear   354369 non-null  int64 \n",
      " 4   Gearbox            334536 non-null  object\n",
      " 5   Power              354369 non-null  int64 \n",
      " 6   Model              334664 non-null  object\n",
      " 7   Kilometer          354369 non-null  int64 \n",
      " 8   RegistrationMonth  354369 non-null  int64 \n",
      " 9   FuelType           321474 non-null  object\n",
      " 10  Brand              354369 non-null  object\n",
      " 11  Repaired           283215 non-null  object\n",
      " 12  DateCreated        354369 non-null  object\n",
      " 13  NumberOfPictures   354369 non-null  int64 \n",
      " 14  PostalCode         354369 non-null  int64 \n",
      " 15  LastSeen           354369 non-null  object\n",
      "dtypes: int64(7), object(9)\n",
      "memory usage: 43.3+ MB\n"
     ]
    }
   ],
   "source": [
    "# посмотрим общую информацию о датафрейме\n",
    "data.info()"
   ]
  },
  {
   "cell_type": "code",
   "execution_count": 4,
   "metadata": {},
   "outputs": [
    {
     "data": {
      "text/html": [
       "<div>\n",
       "<style scoped>\n",
       "    .dataframe tbody tr th:only-of-type {\n",
       "        vertical-align: middle;\n",
       "    }\n",
       "\n",
       "    .dataframe tbody tr th {\n",
       "        vertical-align: top;\n",
       "    }\n",
       "\n",
       "    .dataframe thead th {\n",
       "        text-align: right;\n",
       "    }\n",
       "</style>\n",
       "<table border=\"1\" class=\"dataframe\">\n",
       "  <thead>\n",
       "    <tr style=\"text-align: right;\">\n",
       "      <th></th>\n",
       "      <th>DateCrawled</th>\n",
       "      <th>Price</th>\n",
       "      <th>VehicleType</th>\n",
       "      <th>RegistrationYear</th>\n",
       "      <th>Gearbox</th>\n",
       "      <th>Power</th>\n",
       "      <th>Model</th>\n",
       "      <th>Kilometer</th>\n",
       "      <th>RegistrationMonth</th>\n",
       "      <th>FuelType</th>\n",
       "      <th>Brand</th>\n",
       "      <th>Repaired</th>\n",
       "      <th>DateCreated</th>\n",
       "      <th>NumberOfPictures</th>\n",
       "      <th>PostalCode</th>\n",
       "      <th>LastSeen</th>\n",
       "    </tr>\n",
       "  </thead>\n",
       "  <tbody>\n",
       "    <tr>\n",
       "      <th>0</th>\n",
       "      <td>2016-03-24 11:52:17</td>\n",
       "      <td>480</td>\n",
       "      <td>NaN</td>\n",
       "      <td>1993</td>\n",
       "      <td>manual</td>\n",
       "      <td>0</td>\n",
       "      <td>golf</td>\n",
       "      <td>150000</td>\n",
       "      <td>0</td>\n",
       "      <td>petrol</td>\n",
       "      <td>volkswagen</td>\n",
       "      <td>NaN</td>\n",
       "      <td>2016-03-24 00:00:00</td>\n",
       "      <td>0</td>\n",
       "      <td>70435</td>\n",
       "      <td>2016-04-07 03:16:57</td>\n",
       "    </tr>\n",
       "    <tr>\n",
       "      <th>1</th>\n",
       "      <td>2016-03-24 10:58:45</td>\n",
       "      <td>18300</td>\n",
       "      <td>coupe</td>\n",
       "      <td>2011</td>\n",
       "      <td>manual</td>\n",
       "      <td>190</td>\n",
       "      <td>NaN</td>\n",
       "      <td>125000</td>\n",
       "      <td>5</td>\n",
       "      <td>gasoline</td>\n",
       "      <td>audi</td>\n",
       "      <td>yes</td>\n",
       "      <td>2016-03-24 00:00:00</td>\n",
       "      <td>0</td>\n",
       "      <td>66954</td>\n",
       "      <td>2016-04-07 01:46:50</td>\n",
       "    </tr>\n",
       "    <tr>\n",
       "      <th>2</th>\n",
       "      <td>2016-03-14 12:52:21</td>\n",
       "      <td>9800</td>\n",
       "      <td>suv</td>\n",
       "      <td>2004</td>\n",
       "      <td>auto</td>\n",
       "      <td>163</td>\n",
       "      <td>grand</td>\n",
       "      <td>125000</td>\n",
       "      <td>8</td>\n",
       "      <td>gasoline</td>\n",
       "      <td>jeep</td>\n",
       "      <td>NaN</td>\n",
       "      <td>2016-03-14 00:00:00</td>\n",
       "      <td>0</td>\n",
       "      <td>90480</td>\n",
       "      <td>2016-04-05 12:47:46</td>\n",
       "    </tr>\n",
       "    <tr>\n",
       "      <th>3</th>\n",
       "      <td>2016-03-17 16:54:04</td>\n",
       "      <td>1500</td>\n",
       "      <td>small</td>\n",
       "      <td>2001</td>\n",
       "      <td>manual</td>\n",
       "      <td>75</td>\n",
       "      <td>golf</td>\n",
       "      <td>150000</td>\n",
       "      <td>6</td>\n",
       "      <td>petrol</td>\n",
       "      <td>volkswagen</td>\n",
       "      <td>no</td>\n",
       "      <td>2016-03-17 00:00:00</td>\n",
       "      <td>0</td>\n",
       "      <td>91074</td>\n",
       "      <td>2016-03-17 17:40:17</td>\n",
       "    </tr>\n",
       "    <tr>\n",
       "      <th>4</th>\n",
       "      <td>2016-03-31 17:25:20</td>\n",
       "      <td>3600</td>\n",
       "      <td>small</td>\n",
       "      <td>2008</td>\n",
       "      <td>manual</td>\n",
       "      <td>69</td>\n",
       "      <td>fabia</td>\n",
       "      <td>90000</td>\n",
       "      <td>7</td>\n",
       "      <td>gasoline</td>\n",
       "      <td>skoda</td>\n",
       "      <td>no</td>\n",
       "      <td>2016-03-31 00:00:00</td>\n",
       "      <td>0</td>\n",
       "      <td>60437</td>\n",
       "      <td>2016-04-06 10:17:21</td>\n",
       "    </tr>\n",
       "  </tbody>\n",
       "</table>\n",
       "</div>"
      ],
      "text/plain": [
       "           DateCrawled  Price VehicleType  RegistrationYear Gearbox  Power  \\\n",
       "0  2016-03-24 11:52:17    480         NaN              1993  manual      0   \n",
       "1  2016-03-24 10:58:45  18300       coupe              2011  manual    190   \n",
       "2  2016-03-14 12:52:21   9800         suv              2004    auto    163   \n",
       "3  2016-03-17 16:54:04   1500       small              2001  manual     75   \n",
       "4  2016-03-31 17:25:20   3600       small              2008  manual     69   \n",
       "\n",
       "   Model  Kilometer  RegistrationMonth  FuelType       Brand Repaired  \\\n",
       "0   golf     150000                  0    petrol  volkswagen      NaN   \n",
       "1    NaN     125000                  5  gasoline        audi      yes   \n",
       "2  grand     125000                  8  gasoline        jeep      NaN   \n",
       "3   golf     150000                  6    petrol  volkswagen       no   \n",
       "4  fabia      90000                  7  gasoline       skoda       no   \n",
       "\n",
       "           DateCreated  NumberOfPictures  PostalCode             LastSeen  \n",
       "0  2016-03-24 00:00:00                 0       70435  2016-04-07 03:16:57  \n",
       "1  2016-03-24 00:00:00                 0       66954  2016-04-07 01:46:50  \n",
       "2  2016-03-14 00:00:00                 0       90480  2016-04-05 12:47:46  \n",
       "3  2016-03-17 00:00:00                 0       91074  2016-03-17 17:40:17  \n",
       "4  2016-03-31 00:00:00                 0       60437  2016-04-06 10:17:21  "
      ]
     },
     "execution_count": 4,
     "metadata": {},
     "output_type": "execute_result"
    }
   ],
   "source": [
    "# просмотрим первые строки датафрейма\n",
    "data.head()"
   ]
  },
  {
   "cell_type": "markdown",
   "metadata": {},
   "source": [
    "Итак, мы видим, что в данных есть пропуски (столбцы `VehicleType`, `Gearbox`, `Model`, `FuelType`, `Repaired`), названия колонок не соответствуют стандарту `snake_case`, тип данных в столбцах с датами необходимо изменить с `object` на `datetime`."
   ]
  },
  {
   "cell_type": "markdown",
   "metadata": {},
   "source": [
    "Для начала изменим названия столбцов в соответствии с общепринятым стандартом. Поскольку некоторые названия столбцов состоят из одного слова, переведем их в нижний регистр для удобства.\n"
   ]
  },
  {
   "cell_type": "code",
   "execution_count": 5,
   "metadata": {},
   "outputs": [],
   "source": [
    "data.columns = data.columns.str.lower()"
   ]
  },
  {
   "cell_type": "markdown",
   "metadata": {},
   "source": [
    "Теперь исправим названия столбцов, состоящие из нескольких слов, используя `snake_case`."
   ]
  },
  {
   "cell_type": "code",
   "execution_count": 6,
   "metadata": {},
   "outputs": [],
   "source": [
    "data = data.rename(\n",
    "    columns={\n",
    "        'datecrawled': 'date_crawled',\n",
    "        'vehicletype': 'vehicle_type',\n",
    "        'registrationyear': 'registration_year',\n",
    "        'registrationmonth': 'registration_month',\n",
    "        'fueltype': 'fuel_type',\n",
    "        'notrepaired': 'not_repaired',\n",
    "        'datecreated': 'date_created',\n",
    "        'numberofpictures': 'number_of_pictures',\n",
    "        'postalcode': 'postal_code',\n",
    "        'lastseen': 'last_seen'\n",
    "    }\n",
    ")"
   ]
  },
  {
   "cell_type": "markdown",
   "metadata": {},
   "source": [
    "Посмотрим, что получилось."
   ]
  },
  {
   "cell_type": "code",
   "execution_count": 7,
   "metadata": {},
   "outputs": [
    {
     "data": {
      "text/html": [
       "<div>\n",
       "<style scoped>\n",
       "    .dataframe tbody tr th:only-of-type {\n",
       "        vertical-align: middle;\n",
       "    }\n",
       "\n",
       "    .dataframe tbody tr th {\n",
       "        vertical-align: top;\n",
       "    }\n",
       "\n",
       "    .dataframe thead th {\n",
       "        text-align: right;\n",
       "    }\n",
       "</style>\n",
       "<table border=\"1\" class=\"dataframe\">\n",
       "  <thead>\n",
       "    <tr style=\"text-align: right;\">\n",
       "      <th></th>\n",
       "      <th>date_crawled</th>\n",
       "      <th>price</th>\n",
       "      <th>vehicle_type</th>\n",
       "      <th>registration_year</th>\n",
       "      <th>gearbox</th>\n",
       "      <th>power</th>\n",
       "      <th>model</th>\n",
       "      <th>kilometer</th>\n",
       "      <th>registration_month</th>\n",
       "      <th>fuel_type</th>\n",
       "      <th>brand</th>\n",
       "      <th>repaired</th>\n",
       "      <th>date_created</th>\n",
       "      <th>number_of_pictures</th>\n",
       "      <th>postal_code</th>\n",
       "      <th>last_seen</th>\n",
       "    </tr>\n",
       "  </thead>\n",
       "  <tbody>\n",
       "    <tr>\n",
       "      <th>244997</th>\n",
       "      <td>2016-03-10 11:46:56</td>\n",
       "      <td>2550</td>\n",
       "      <td>convertible</td>\n",
       "      <td>2003</td>\n",
       "      <td>auto</td>\n",
       "      <td>41</td>\n",
       "      <td>fortwo</td>\n",
       "      <td>150000</td>\n",
       "      <td>8</td>\n",
       "      <td>gasoline</td>\n",
       "      <td>smart</td>\n",
       "      <td>no</td>\n",
       "      <td>2016-03-10 00:00:00</td>\n",
       "      <td>0</td>\n",
       "      <td>44809</td>\n",
       "      <td>2016-03-20 18:47:38</td>\n",
       "    </tr>\n",
       "  </tbody>\n",
       "</table>\n",
       "</div>"
      ],
      "text/plain": [
       "               date_crawled  price vehicle_type  registration_year gearbox  \\\n",
       "244997  2016-03-10 11:46:56   2550  convertible               2003    auto   \n",
       "\n",
       "        power   model  kilometer  registration_month fuel_type  brand  \\\n",
       "244997     41  fortwo     150000                   8  gasoline  smart   \n",
       "\n",
       "       repaired         date_created  number_of_pictures  postal_code  \\\n",
       "244997       no  2016-03-10 00:00:00                   0        44809   \n",
       "\n",
       "                  last_seen  \n",
       "244997  2016-03-20 18:47:38  "
      ]
     },
     "execution_count": 7,
     "metadata": {},
     "output_type": "execute_result"
    }
   ],
   "source": [
    "data.sample()"
   ]
  },
  {
   "cell_type": "markdown",
   "metadata": {},
   "source": [
    "Названия столбцов успешно исправлены."
   ]
  },
  {
   "cell_type": "markdown",
   "metadata": {},
   "source": [
    "Теперь изменим тип данных в столбцах с датами на с `object` на `datetime`."
   ]
  },
  {
   "cell_type": "code",
   "execution_count": 8,
   "metadata": {},
   "outputs": [],
   "source": [
    "data['date_crawled'] = pd.to_datetime(data['date_crawled'], format='%Y-%m-%d %H:%M:%S')\n",
    "data['date_created'] = pd.to_datetime(data['date_created'], format='%Y-%m-%d %H:%M:%S')\n",
    "data['last_seen'] = pd.to_datetime(data['last_seen'], format='%Y-%m-%d %H:%M:%S')"
   ]
  },
  {
   "cell_type": "markdown",
   "metadata": {},
   "source": [
    "Посмотрим, что получилось."
   ]
  },
  {
   "cell_type": "code",
   "execution_count": 9,
   "metadata": {},
   "outputs": [
    {
     "name": "stdout",
     "output_type": "stream",
     "text": [
      "<class 'pandas.core.frame.DataFrame'>\n",
      "RangeIndex: 354369 entries, 0 to 354368\n",
      "Data columns (total 16 columns):\n",
      " #   Column              Non-Null Count   Dtype         \n",
      "---  ------              --------------   -----         \n",
      " 0   date_crawled        354369 non-null  datetime64[ns]\n",
      " 1   price               354369 non-null  int64         \n",
      " 2   vehicle_type        316879 non-null  object        \n",
      " 3   registration_year   354369 non-null  int64         \n",
      " 4   gearbox             334536 non-null  object        \n",
      " 5   power               354369 non-null  int64         \n",
      " 6   model               334664 non-null  object        \n",
      " 7   kilometer           354369 non-null  int64         \n",
      " 8   registration_month  354369 non-null  int64         \n",
      " 9   fuel_type           321474 non-null  object        \n",
      " 10  brand               354369 non-null  object        \n",
      " 11  repaired            283215 non-null  object        \n",
      " 12  date_created        354369 non-null  datetime64[ns]\n",
      " 13  number_of_pictures  354369 non-null  int64         \n",
      " 14  postal_code         354369 non-null  int64         \n",
      " 15  last_seen           354369 non-null  datetime64[ns]\n",
      "dtypes: datetime64[ns](3), int64(7), object(6)\n",
      "memory usage: 43.3+ MB\n"
     ]
    }
   ],
   "source": [
    "data.info()"
   ]
  },
  {
   "cell_type": "markdown",
   "metadata": {},
   "source": [
    "Итак, тип данных успешно изменен."
   ]
  },
  {
   "cell_type": "markdown",
   "metadata": {},
   "source": [
    "**Вывод:**\n",
    "\n",
    "Датафрейм загружен, названия столбцов датафрейма приведены в соответствие с принятым стандартом, тип данных в столбцах с датами был изменен на соответствующий."
   ]
  },
  {
   "cell_type": "markdown",
   "metadata": {},
   "source": [
    "## Изучение данных"
   ]
  },
  {
   "cell_type": "markdown",
   "metadata": {},
   "source": [
    "Теперь приступим к изучению данных. Для начала проверим наличие явных дубликатов, и, если они есть, удалим их."
   ]
  },
  {
   "cell_type": "code",
   "execution_count": 10,
   "metadata": {},
   "outputs": [
    {
     "name": "stdout",
     "output_type": "stream",
     "text": [
      "Количество явных дубликатов: 4\n"
     ]
    }
   ],
   "source": [
    "print('Количество явных дубликатов:', data.duplicated().sum())"
   ]
  },
  {
   "cell_type": "code",
   "execution_count": 11,
   "metadata": {},
   "outputs": [],
   "source": [
    "data = data.drop_duplicates().reset_index(drop=True)"
   ]
  },
  {
   "cell_type": "code",
   "execution_count": 12,
   "metadata": {},
   "outputs": [
    {
     "name": "stdout",
     "output_type": "stream",
     "text": [
      "Количество явных дубликатов после удаления: 0\n"
     ]
    }
   ],
   "source": [
    "print('Количество явных дубликатов после удаления:', data.duplicated().sum())"
   ]
  },
  {
   "cell_type": "markdown",
   "metadata": {},
   "source": [
    "Явные дубликаты успешно удалены."
   ]
  },
  {
   "cell_type": "markdown",
   "metadata": {},
   "source": [
    "Теперь проверим наличие аномальных значений в количественных признаках, начнем с года регистрации автомобиля."
   ]
  },
  {
   "cell_type": "code",
   "execution_count": 13,
   "metadata": {},
   "outputs": [
    {
     "data": {
      "text/plain": [
       "count    354365.000000\n",
       "mean       2004.234481\n",
       "std          90.228466\n",
       "min        1000.000000\n",
       "25%        1999.000000\n",
       "50%        2003.000000\n",
       "75%        2008.000000\n",
       "max        9999.000000\n",
       "Name: registration_year, dtype: float64"
      ]
     },
     "execution_count": 13,
     "metadata": {},
     "output_type": "execute_result"
    }
   ],
   "source": [
    "data['registration_year'].describe()"
   ]
  },
  {
   "cell_type": "markdown",
   "metadata": {},
   "source": [
    "В результате видим, что в этом столбце присутствуют аномалии: минимальное значение года — `1000`, максимальное — `9999`.\n",
    "\n",
    "Поскольку год регистрации автомобиля не может быть позже последней даты скачивания анкеты из базы, узнаем ее."
   ]
  },
  {
   "cell_type": "code",
   "execution_count": 14,
   "metadata": {},
   "outputs": [
    {
     "data": {
      "text/plain": [
       "Timestamp('2016-04-07 14:36:58')"
      ]
     },
     "execution_count": 14,
     "metadata": {},
     "output_type": "execute_result"
    }
   ],
   "source": [
    "data['date_crawled'].max()"
   ]
  },
  {
   "cell_type": "markdown",
   "metadata": {},
   "source": [
    "Отберем автомобили с реалистичными годами регистрации."
   ]
  },
  {
   "cell_type": "code",
   "execution_count": 15,
   "metadata": {},
   "outputs": [],
   "source": [
    "data = data.query('1910 < registration_year <= 2016')"
   ]
  },
  {
   "cell_type": "markdown",
   "metadata": {},
   "source": [
    "Построим гистограмму, чтобы посмотреть распределение годов регистрации и выбрать нижнюю границу."
   ]
  },
  {
   "cell_type": "code",
   "execution_count": 17,
   "metadata": {},
   "outputs": [
    {
     "data": {
      "image/png": "[encoded data removed]",
      "text/plain": [
       "<Figure size 576x288 with 1 Axes>"
      ]
     },
     "metadata": {
      "needs_background": "light"
     },
     "output_type": "display_data"
    }
   ],
   "source": [
    "plt.hist(data['registration_year'], bins=50, color='skyblue', edgecolor='black')\n",
    "plt.xlabel('Годы регистрации автомобилей')\n",
    "plt.ylabel('Кол-во автомобилей')\n",
    "plt.title('Гистограмма годов регистрации автомобилей')\n",
    "plt.grid(axis='y', linestyle='--', linewidth=0.5, color='gray')\n",
    "plt.show();"
   ]
  },
  {
   "cell_type": "markdown",
   "metadata": {},
   "source": [
    "Исходя из полученной гистограммы и учитывая последнюю дату скачивания анкеты из базы, сохраним в датафрейме значения года регистрации автомобиля, начиная `с 1960 по 2016`."
   ]
  },
  {
   "cell_type": "code",
   "execution_count": 18,
   "metadata": {},
   "outputs": [],
   "source": [
    "data = data.query('1960 <= registration_year <= 2016')"
   ]
  },
  {
   "cell_type": "markdown",
   "metadata": {},
   "source": [
    "Проверим, что получилось."
   ]
  },
  {
   "cell_type": "code",
   "execution_count": 19,
   "metadata": {},
   "outputs": [
    {
     "data": {
      "text/html": [
       "<div>\n",
       "<style scoped>\n",
       "    .dataframe tbody tr th:only-of-type {\n",
       "        vertical-align: middle;\n",
       "    }\n",
       "\n",
       "    .dataframe tbody tr th {\n",
       "        vertical-align: top;\n",
       "    }\n",
       "\n",
       "    .dataframe thead th {\n",
       "        text-align: right;\n",
       "    }\n",
       "</style>\n",
       "<table border=\"1\" class=\"dataframe\">\n",
       "  <thead>\n",
       "    <tr style=\"text-align: right;\">\n",
       "      <th></th>\n",
       "      <th>price</th>\n",
       "      <th>registration_year</th>\n",
       "      <th>power</th>\n",
       "      <th>kilometer</th>\n",
       "      <th>registration_month</th>\n",
       "      <th>number_of_pictures</th>\n",
       "      <th>postal_code</th>\n",
       "    </tr>\n",
       "  </thead>\n",
       "  <tbody>\n",
       "    <tr>\n",
       "      <th>count</th>\n",
       "      <td>339413.000000</td>\n",
       "      <td>339413.000000</td>\n",
       "      <td>339413.000000</td>\n",
       "      <td>339413.000000</td>\n",
       "      <td>339413.000000</td>\n",
       "      <td>339413.0</td>\n",
       "      <td>339413.000000</td>\n",
       "    </tr>\n",
       "    <tr>\n",
       "      <th>mean</th>\n",
       "      <td>4469.917885</td>\n",
       "      <td>2002.549684</td>\n",
       "      <td>111.074809</td>\n",
       "      <td>128152.840345</td>\n",
       "      <td>5.758934</td>\n",
       "      <td>0.0</td>\n",
       "      <td>50608.649159</td>\n",
       "    </tr>\n",
       "    <tr>\n",
       "      <th>std</th>\n",
       "      <td>4543.710777</td>\n",
       "      <td>6.752072</td>\n",
       "      <td>186.926210</td>\n",
       "      <td>37813.335030</td>\n",
       "      <td>3.707695</td>\n",
       "      <td>0.0</td>\n",
       "      <td>25803.576219</td>\n",
       "    </tr>\n",
       "    <tr>\n",
       "      <th>min</th>\n",
       "      <td>0.000000</td>\n",
       "      <td>1960.000000</td>\n",
       "      <td>0.000000</td>\n",
       "      <td>5000.000000</td>\n",
       "      <td>0.000000</td>\n",
       "      <td>0.0</td>\n",
       "      <td>1067.000000</td>\n",
       "    </tr>\n",
       "    <tr>\n",
       "      <th>25%</th>\n",
       "      <td>1100.000000</td>\n",
       "      <td>1999.000000</td>\n",
       "      <td>69.000000</td>\n",
       "      <td>125000.000000</td>\n",
       "      <td>3.000000</td>\n",
       "      <td>0.0</td>\n",
       "      <td>30169.000000</td>\n",
       "    </tr>\n",
       "    <tr>\n",
       "      <th>50%</th>\n",
       "      <td>2799.000000</td>\n",
       "      <td>2003.000000</td>\n",
       "      <td>105.000000</td>\n",
       "      <td>150000.000000</td>\n",
       "      <td>6.000000</td>\n",
       "      <td>0.0</td>\n",
       "      <td>49492.000000</td>\n",
       "    </tr>\n",
       "    <tr>\n",
       "      <th>75%</th>\n",
       "      <td>6500.000000</td>\n",
       "      <td>2007.000000</td>\n",
       "      <td>143.000000</td>\n",
       "      <td>150000.000000</td>\n",
       "      <td>9.000000</td>\n",
       "      <td>0.0</td>\n",
       "      <td>71229.000000</td>\n",
       "    </tr>\n",
       "    <tr>\n",
       "      <th>max</th>\n",
       "      <td>20000.000000</td>\n",
       "      <td>2016.000000</td>\n",
       "      <td>20000.000000</td>\n",
       "      <td>150000.000000</td>\n",
       "      <td>12.000000</td>\n",
       "      <td>0.0</td>\n",
       "      <td>99998.000000</td>\n",
       "    </tr>\n",
       "  </tbody>\n",
       "</table>\n",
       "</div>"
      ],
      "text/plain": [
       "               price  registration_year          power      kilometer  \\\n",
       "count  339413.000000      339413.000000  339413.000000  339413.000000   \n",
       "mean     4469.917885        2002.549684     111.074809  128152.840345   \n",
       "std      4543.710777           6.752072     186.926210   37813.335030   \n",
       "min         0.000000        1960.000000       0.000000    5000.000000   \n",
       "25%      1100.000000        1999.000000      69.000000  125000.000000   \n",
       "50%      2799.000000        2003.000000     105.000000  150000.000000   \n",
       "75%      6500.000000        2007.000000     143.000000  150000.000000   \n",
       "max     20000.000000        2016.000000   20000.000000  150000.000000   \n",
       "\n",
       "       registration_month  number_of_pictures    postal_code  \n",
       "count       339413.000000            339413.0  339413.000000  \n",
       "mean             5.758934                 0.0   50608.649159  \n",
       "std              3.707695                 0.0   25803.576219  \n",
       "min              0.000000                 0.0    1067.000000  \n",
       "25%              3.000000                 0.0   30169.000000  \n",
       "50%              6.000000                 0.0   49492.000000  \n",
       "75%              9.000000                 0.0   71229.000000  \n",
       "max             12.000000                 0.0   99998.000000  "
      ]
     },
     "execution_count": 19,
     "metadata": {},
     "output_type": "execute_result"
    }
   ],
   "source": [
    "data.describe()"
   ]
  },
  {
   "cell_type": "markdown",
   "metadata": {},
   "source": [
    "Количество объектов в датафрейме сократилось до `339413`. Минимальное значение года регистрации автомобиля — `1960`, максимальное — `2016`."
   ]
  },
  {
   "cell_type": "markdown",
   "metadata": {},
   "source": [
    "Теперь рассмотрим столбец, содержащий данные о мощности автомобилей (л.с.)."
   ]
  },
  {
   "cell_type": "code",
   "execution_count": 20,
   "metadata": {},
   "outputs": [
    {
     "data": {
      "text/plain": [
       "count    339413.000000\n",
       "mean        111.074809\n",
       "std         186.926210\n",
       "min           0.000000\n",
       "25%          69.000000\n",
       "50%         105.000000\n",
       "75%         143.000000\n",
       "max       20000.000000\n",
       "Name: power, dtype: float64"
      ]
     },
     "execution_count": 20,
     "metadata": {},
     "output_type": "execute_result"
    }
   ],
   "source": [
    "data['power'].describe()"
   ]
  },
  {
   "cell_type": "markdown",
   "metadata": {},
   "source": [
    "Опять видим аномальные значения: минимальное количество лошадиных сил — `0`, максимальное — `20000`."
   ]
  },
  {
   "cell_type": "markdown",
   "metadata": {},
   "source": [
    "<u>Справка из Интернета</u>\n",
    "\n",
    "Nissan GT-R AMS Alpha 12 возглавляет список самых мощных машин в мире. Автомобиль был разработан японской компанией AMS Performance, которой удалось создать настоящего зверя дорог. Nissan GT-R AMS Alpha 12 с мощным турбодвигателем имеет 1500 лошадиных сил. Данный рекорд не удалось побить пока еще ни одной модели.\n",
    "\n",
    "Исходя из этого, возьмем значение 1500 л.с. как максимальное и проверим распределение данных на гистограмме."
   ]
  },
  {
   "cell_type": "code",
   "execution_count": 21,
   "metadata": {},
   "outputs": [],
   "source": [
    "data = data.query('power < 1500')"
   ]
  },
  {
   "cell_type": "code",
   "execution_count": 23,
   "metadata": {},
   "outputs": [
    {
     "data": {
      "image/png": "[encoded data removed]",
      "text/plain": [
       "<Figure size 576x288 with 1 Axes>"
      ]
     },
     "metadata": {
      "needs_background": "light"
     },
     "output_type": "display_data"
    }
   ],
   "source": [
    "plt.hist(data['power'], bins=30, color='skyblue', edgecolor='black')\n",
    "plt.xlabel('Мощность автомобилей (л.с.)')\n",
    "plt.ylabel('Кол-во автомобилей')\n",
    "plt.title('Гистограмма мощности автомобилей (л.с.)')\n",
    "plt.grid(axis='y', linestyle='--', linewidth=0.5, color='gray')\n",
    "plt.show();"
   ]
  },
  {
   "cell_type": "markdown",
   "metadata": {},
   "source": [
    "Исходя из полученной гистограммы, установим верхнюю границу в `500` л.с., а нулевые и околонулевые значения удалим. На просторах Интернета обнаружила автомобиль Peugeot VLV (1941 г) с мощностью 3 л.с., будем считать это значение минимальным."
   ]
  },
  {
   "cell_type": "code",
   "execution_count": 24,
   "metadata": {},
   "outputs": [],
   "source": [
    "data = data.query('3 <= power <= 500')"
   ]
  },
  {
   "cell_type": "markdown",
   "metadata": {},
   "source": [
    "Посмотрим, что получилось."
   ]
  },
  {
   "cell_type": "code",
   "execution_count": 25,
   "metadata": {},
   "outputs": [
    {
     "data": {
      "text/html": [
       "<div>\n",
       "<style scoped>\n",
       "    .dataframe tbody tr th:only-of-type {\n",
       "        vertical-align: middle;\n",
       "    }\n",
       "\n",
       "    .dataframe tbody tr th {\n",
       "        vertical-align: top;\n",
       "    }\n",
       "\n",
       "    .dataframe thead th {\n",
       "        text-align: right;\n",
       "    }\n",
       "</style>\n",
       "<table border=\"1\" class=\"dataframe\">\n",
       "  <thead>\n",
       "    <tr style=\"text-align: right;\">\n",
       "      <th></th>\n",
       "      <th>price</th>\n",
       "      <th>registration_year</th>\n",
       "      <th>power</th>\n",
       "      <th>kilometer</th>\n",
       "      <th>registration_month</th>\n",
       "      <th>number_of_pictures</th>\n",
       "      <th>postal_code</th>\n",
       "    </tr>\n",
       "  </thead>\n",
       "  <tbody>\n",
       "    <tr>\n",
       "      <th>count</th>\n",
       "      <td>302698.000000</td>\n",
       "      <td>302698.000000</td>\n",
       "      <td>302698.000000</td>\n",
       "      <td>302698.000000</td>\n",
       "      <td>302698.000000</td>\n",
       "      <td>302698.0</td>\n",
       "      <td>302698.000000</td>\n",
       "    </tr>\n",
       "    <tr>\n",
       "      <th>mean</th>\n",
       "      <td>4748.840247</td>\n",
       "      <td>2002.778086</td>\n",
       "      <td>120.432956</td>\n",
       "      <td>128387.237445</td>\n",
       "      <td>5.965252</td>\n",
       "      <td>0.0</td>\n",
       "      <td>51117.731538</td>\n",
       "    </tr>\n",
       "    <tr>\n",
       "      <th>std</th>\n",
       "      <td>4612.476391</td>\n",
       "      <td>6.473396</td>\n",
       "      <td>53.561403</td>\n",
       "      <td>36815.551904</td>\n",
       "      <td>3.599388</td>\n",
       "      <td>0.0</td>\n",
       "      <td>25809.291409</td>\n",
       "    </tr>\n",
       "    <tr>\n",
       "      <th>min</th>\n",
       "      <td>0.000000</td>\n",
       "      <td>1960.000000</td>\n",
       "      <td>3.000000</td>\n",
       "      <td>5000.000000</td>\n",
       "      <td>0.000000</td>\n",
       "      <td>0.0</td>\n",
       "      <td>1067.000000</td>\n",
       "    </tr>\n",
       "    <tr>\n",
       "      <th>25%</th>\n",
       "      <td>1250.000000</td>\n",
       "      <td>1999.000000</td>\n",
       "      <td>75.000000</td>\n",
       "      <td>125000.000000</td>\n",
       "      <td>3.000000</td>\n",
       "      <td>0.0</td>\n",
       "      <td>30880.000000</td>\n",
       "    </tr>\n",
       "    <tr>\n",
       "      <th>50%</th>\n",
       "      <td>3000.000000</td>\n",
       "      <td>2003.000000</td>\n",
       "      <td>110.000000</td>\n",
       "      <td>150000.000000</td>\n",
       "      <td>6.000000</td>\n",
       "      <td>0.0</td>\n",
       "      <td>50169.000000</td>\n",
       "    </tr>\n",
       "    <tr>\n",
       "      <th>75%</th>\n",
       "      <td>6900.000000</td>\n",
       "      <td>2007.000000</td>\n",
       "      <td>150.000000</td>\n",
       "      <td>150000.000000</td>\n",
       "      <td>9.000000</td>\n",
       "      <td>0.0</td>\n",
       "      <td>71711.000000</td>\n",
       "    </tr>\n",
       "    <tr>\n",
       "      <th>max</th>\n",
       "      <td>20000.000000</td>\n",
       "      <td>2016.000000</td>\n",
       "      <td>500.000000</td>\n",
       "      <td>150000.000000</td>\n",
       "      <td>12.000000</td>\n",
       "      <td>0.0</td>\n",
       "      <td>99998.000000</td>\n",
       "    </tr>\n",
       "  </tbody>\n",
       "</table>\n",
       "</div>"
      ],
      "text/plain": [
       "               price  registration_year          power      kilometer  \\\n",
       "count  302698.000000      302698.000000  302698.000000  302698.000000   \n",
       "mean     4748.840247        2002.778086     120.432956  128387.237445   \n",
       "std      4612.476391           6.473396      53.561403   36815.551904   \n",
       "min         0.000000        1960.000000       3.000000    5000.000000   \n",
       "25%      1250.000000        1999.000000      75.000000  125000.000000   \n",
       "50%      3000.000000        2003.000000     110.000000  150000.000000   \n",
       "75%      6900.000000        2007.000000     150.000000  150000.000000   \n",
       "max     20000.000000        2016.000000     500.000000  150000.000000   \n",
       "\n",
       "       registration_month  number_of_pictures    postal_code  \n",
       "count       302698.000000            302698.0  302698.000000  \n",
       "mean             5.965252                 0.0   51117.731538  \n",
       "std              3.599388                 0.0   25809.291409  \n",
       "min              0.000000                 0.0    1067.000000  \n",
       "25%              3.000000                 0.0   30880.000000  \n",
       "50%              6.000000                 0.0   50169.000000  \n",
       "75%              9.000000                 0.0   71711.000000  \n",
       "max             12.000000                 0.0   99998.000000  "
      ]
     },
     "execution_count": 25,
     "metadata": {},
     "output_type": "execute_result"
    }
   ],
   "source": [
    "data.describe()"
   ]
  },
  {
   "cell_type": "markdown",
   "metadata": {},
   "source": [
    "Количество объектов в датафрейме сократилось до `302698`. Минимальное значение количества лошадиных сил — `3`, максимальное — `500`."
   ]
  },
  {
   "cell_type": "markdown",
   "metadata": {},
   "source": [
    "Теперь рассмотрим столбец цены."
   ]
  },
  {
   "cell_type": "code",
   "execution_count": 26,
   "metadata": {},
   "outputs": [
    {
     "data": {
      "text/plain": [
       "count    302698.000000\n",
       "mean       4748.840247\n",
       "std        4612.476391\n",
       "min           0.000000\n",
       "25%        1250.000000\n",
       "50%        3000.000000\n",
       "75%        6900.000000\n",
       "max       20000.000000\n",
       "Name: price, dtype: float64"
      ]
     },
     "execution_count": 26,
     "metadata": {},
     "output_type": "execute_result"
    }
   ],
   "source": [
    "data['price'].describe()"
   ]
  },
  {
   "cell_type": "markdown",
   "metadata": {},
   "source": [
    "Цена автомобиля может быть любой, но не равной нулю, поэтому удалим эти значения, поскольку признак целевой."
   ]
  },
  {
   "cell_type": "code",
   "execution_count": 27,
   "metadata": {},
   "outputs": [],
   "source": [
    "data = data.query('0 < price')"
   ]
  },
  {
   "cell_type": "code",
   "execution_count": 29,
   "metadata": {},
   "outputs": [
    {
     "data": {
      "image/png": "[encoded data removed]",
      "text/plain": [
       "<Figure size 576x288 with 1 Axes>"
      ]
     },
     "metadata": {
      "needs_background": "light"
     },
     "output_type": "display_data"
    }
   ],
   "source": [
    "plt.hist(data['price'], bins=30, color='skyblue', edgecolor='black')\n",
    "plt.xlabel('Цена автомобилей')\n",
    "plt.ylabel('Кол-во автомобилей')\n",
    "plt.title('Гистограмма стоимости автомобилей')\n",
    "plt.grid(axis='y', linestyle='--', linewidth=0.5, color='gray')\n",
    "plt.show();"
   ]
  },
  {
   "cell_type": "markdown",
   "metadata": {},
   "source": [
    "Посмотрим, что получилось."
   ]
  },
  {
   "cell_type": "code",
   "execution_count": 30,
   "metadata": {},
   "outputs": [
    {
     "data": {
      "text/html": [
       "<div>\n",
       "<style scoped>\n",
       "    .dataframe tbody tr th:only-of-type {\n",
       "        vertical-align: middle;\n",
       "    }\n",
       "\n",
       "    .dataframe tbody tr th {\n",
       "        vertical-align: top;\n",
       "    }\n",
       "\n",
       "    .dataframe thead th {\n",
       "        text-align: right;\n",
       "    }\n",
       "</style>\n",
       "<table border=\"1\" class=\"dataframe\">\n",
       "  <thead>\n",
       "    <tr style=\"text-align: right;\">\n",
       "      <th></th>\n",
       "      <th>price</th>\n",
       "      <th>registration_year</th>\n",
       "      <th>power</th>\n",
       "      <th>kilometer</th>\n",
       "      <th>registration_month</th>\n",
       "      <th>number_of_pictures</th>\n",
       "      <th>postal_code</th>\n",
       "    </tr>\n",
       "  </thead>\n",
       "  <tbody>\n",
       "    <tr>\n",
       "      <th>count</th>\n",
       "      <td>296318.000000</td>\n",
       "      <td>296318.000000</td>\n",
       "      <td>296318.000000</td>\n",
       "      <td>296318.000000</td>\n",
       "      <td>296318.000000</td>\n",
       "      <td>296318.0</td>\n",
       "      <td>296318.000000</td>\n",
       "    </tr>\n",
       "    <tr>\n",
       "      <th>mean</th>\n",
       "      <td>4851.087160</td>\n",
       "      <td>2002.842737</td>\n",
       "      <td>120.527433</td>\n",
       "      <td>128300.980703</td>\n",
       "      <td>5.993922</td>\n",
       "      <td>0.0</td>\n",
       "      <td>51239.354329</td>\n",
       "    </tr>\n",
       "    <tr>\n",
       "      <th>std</th>\n",
       "      <td>4608.361824</td>\n",
       "      <td>6.438069</td>\n",
       "      <td>53.533103</td>\n",
       "      <td>36757.543106</td>\n",
       "      <td>3.583865</td>\n",
       "      <td>0.0</td>\n",
       "      <td>25781.281731</td>\n",
       "    </tr>\n",
       "    <tr>\n",
       "      <th>min</th>\n",
       "      <td>1.000000</td>\n",
       "      <td>1960.000000</td>\n",
       "      <td>3.000000</td>\n",
       "      <td>5000.000000</td>\n",
       "      <td>0.000000</td>\n",
       "      <td>0.0</td>\n",
       "      <td>1067.000000</td>\n",
       "    </tr>\n",
       "    <tr>\n",
       "      <th>25%</th>\n",
       "      <td>1349.000000</td>\n",
       "      <td>1999.000000</td>\n",
       "      <td>75.000000</td>\n",
       "      <td>125000.000000</td>\n",
       "      <td>3.000000</td>\n",
       "      <td>0.0</td>\n",
       "      <td>30926.000000</td>\n",
       "    </tr>\n",
       "    <tr>\n",
       "      <th>50%</th>\n",
       "      <td>3200.000000</td>\n",
       "      <td>2003.000000</td>\n",
       "      <td>111.000000</td>\n",
       "      <td>150000.000000</td>\n",
       "      <td>6.000000</td>\n",
       "      <td>0.0</td>\n",
       "      <td>50259.000000</td>\n",
       "    </tr>\n",
       "    <tr>\n",
       "      <th>75%</th>\n",
       "      <td>6999.000000</td>\n",
       "      <td>2007.000000</td>\n",
       "      <td>150.000000</td>\n",
       "      <td>150000.000000</td>\n",
       "      <td>9.000000</td>\n",
       "      <td>0.0</td>\n",
       "      <td>72108.000000</td>\n",
       "    </tr>\n",
       "    <tr>\n",
       "      <th>max</th>\n",
       "      <td>20000.000000</td>\n",
       "      <td>2016.000000</td>\n",
       "      <td>500.000000</td>\n",
       "      <td>150000.000000</td>\n",
       "      <td>12.000000</td>\n",
       "      <td>0.0</td>\n",
       "      <td>99998.000000</td>\n",
       "    </tr>\n",
       "  </tbody>\n",
       "</table>\n",
       "</div>"
      ],
      "text/plain": [
       "               price  registration_year          power      kilometer  \\\n",
       "count  296318.000000      296318.000000  296318.000000  296318.000000   \n",
       "mean     4851.087160        2002.842737     120.527433  128300.980703   \n",
       "std      4608.361824           6.438069      53.533103   36757.543106   \n",
       "min         1.000000        1960.000000       3.000000    5000.000000   \n",
       "25%      1349.000000        1999.000000      75.000000  125000.000000   \n",
       "50%      3200.000000        2003.000000     111.000000  150000.000000   \n",
       "75%      6999.000000        2007.000000     150.000000  150000.000000   \n",
       "max     20000.000000        2016.000000     500.000000  150000.000000   \n",
       "\n",
       "       registration_month  number_of_pictures    postal_code  \n",
       "count       296318.000000            296318.0  296318.000000  \n",
       "mean             5.993922                 0.0   51239.354329  \n",
       "std              3.583865                 0.0   25781.281731  \n",
       "min              0.000000                 0.0    1067.000000  \n",
       "25%              3.000000                 0.0   30926.000000  \n",
       "50%              6.000000                 0.0   50259.000000  \n",
       "75%              9.000000                 0.0   72108.000000  \n",
       "max             12.000000                 0.0   99998.000000  "
      ]
     },
     "execution_count": 30,
     "metadata": {},
     "output_type": "execute_result"
    }
   ],
   "source": [
    "data.describe()"
   ]
  },
  {
   "cell_type": "markdown",
   "metadata": {},
   "source": [
    "Количество объектов в датафрейме сократилось до `296318`. Минимальное значение цены — `1`, максимальное — `20000`."
   ]
  },
  {
   "cell_type": "markdown",
   "metadata": {},
   "source": [
    "В датафрейме присутствуют признаки, которые не содержат данные об автомобилях, поэтому не являются важными и не нужны для обучения моделей. Таким образом, удалим из датафрейма дату скачивания анкеты из базы, месяц регистрации автомобиля, дату создания анкеты, количество фотографий автомобиля, почтовый индекс владельца анкеты и дату последней активности пользователя."
   ]
  },
  {
   "cell_type": "code",
   "execution_count": 31,
   "metadata": {},
   "outputs": [],
   "source": [
    "data = data.drop(\n",
    "    columns=[\n",
    "        'date_crawled',\n",
    "        'registration_month',\n",
    "        'date_created',\n",
    "        'number_of_pictures',\n",
    "        'postal_code',\n",
    "        'last_seen'\n",
    "    ]\n",
    ")"
   ]
  },
  {
   "cell_type": "markdown",
   "metadata": {},
   "source": [
    "Проверим, какие столбцы остались."
   ]
  },
  {
   "cell_type": "code",
   "execution_count": 32,
   "metadata": {},
   "outputs": [
    {
     "data": {
      "text/plain": [
       "Index(['price', 'vehicle_type', 'registration_year', 'gearbox', 'power',\n",
       "       'model', 'kilometer', 'fuel_type', 'brand', 'repaired'],\n",
       "      dtype='object')"
      ]
     },
     "execution_count": 32,
     "metadata": {},
     "output_type": "execute_result"
    }
   ],
   "source": [
    "data.columns"
   ]
  },
  {
   "cell_type": "markdown",
   "metadata": {},
   "source": [
    "Поскольку была удалена часть лишних признаков, в данных могли появиться новые явные дубликаты, проверим это."
   ]
  },
  {
   "cell_type": "code",
   "execution_count": 33,
   "metadata": {},
   "outputs": [
    {
     "name": "stdout",
     "output_type": "stream",
     "text": [
      "Количество явных дубликатов: 39083\n"
     ]
    }
   ],
   "source": [
    "print('Количество явных дубликатов:', data.duplicated().sum())"
   ]
  },
  {
   "cell_type": "markdown",
   "metadata": {},
   "source": [
    "Действительно, появилось очень много явных дубликатов, чтобы они не мешали, удалим их."
   ]
  },
  {
   "cell_type": "code",
   "execution_count": 34,
   "metadata": {},
   "outputs": [],
   "source": [
    "data = data.drop_duplicates().reset_index(drop=True)"
   ]
  },
  {
   "cell_type": "code",
   "execution_count": 35,
   "metadata": {},
   "outputs": [
    {
     "name": "stdout",
     "output_type": "stream",
     "text": [
      "Количество явных дубликатов после удаления: 0\n"
     ]
    }
   ],
   "source": [
    "print('Количество явных дубликатов после удаления:', data.duplicated().sum())"
   ]
  },
  {
   "cell_type": "markdown",
   "metadata": {},
   "source": [
    "Итак, все явные дубликаты, возникшие в данных в результате удаления лишних признаков, удалены."
   ]
  },
  {
   "cell_type": "markdown",
   "metadata": {},
   "source": [
    "Теперь обработаем пропуски."
   ]
  },
  {
   "cell_type": "code",
   "execution_count": 36,
   "metadata": {},
   "outputs": [
    {
     "data": {
      "text/plain": [
       "price                    0\n",
       "vehicle_type         10535\n",
       "registration_year        0\n",
       "gearbox               5166\n",
       "power                    0\n",
       "model                10659\n",
       "kilometer                0\n",
       "fuel_type            15055\n",
       "brand                    0\n",
       "repaired             39644\n",
       "dtype: int64"
      ]
     },
     "execution_count": 36,
     "metadata": {},
     "output_type": "execute_result"
    }
   ],
   "source": [
    "# узнаем количество пропусков\n",
    "data.isnull().sum()"
   ]
  },
  {
   "cell_type": "markdown",
   "metadata": {},
   "source": [
    "Поскольку нам неизвестна причина наличия пропусков в столбцах типа автомобильного кузова (`vehicle_type`) и модели автомобиля (`model`), используем категорию `n/a` (не доступно)."
   ]
  },
  {
   "cell_type": "code",
   "execution_count": 37,
   "metadata": {},
   "outputs": [],
   "source": [
    "data['vehicle_type'] = data['vehicle_type'].fillna(value='n/a')"
   ]
  },
  {
   "cell_type": "code",
   "execution_count": 38,
   "metadata": {},
   "outputs": [],
   "source": [
    "data['model'] = data['model'].fillna(value='n/a')"
   ]
  },
  {
   "cell_type": "markdown",
   "metadata": {},
   "source": [
    "В столбце с информацией о том, была машина в ремонте или нет (`repaired`), заменим пустые значения значением `no` (нет), поскольку логично предположить, что данное поле не заполнялось по причине отсутствия случаев ремонта автомобиля. Изменим также тип данных этого столбца на логический: заменим `yes` (был ремонт) на `1` и `no` (не было ремонта) на `0`."
   ]
  },
  {
   "cell_type": "code",
   "execution_count": 39,
   "metadata": {},
   "outputs": [],
   "source": [
    "data['repaired'] = data['repaired'].fillna(value='no')"
   ]
  },
  {
   "cell_type": "code",
   "execution_count": 40,
   "metadata": {},
   "outputs": [],
   "source": [
    "data['repaired'] = data['repaired'].map({'yes': 1, 'no': 0}).astype(int)"
   ]
  },
  {
   "cell_type": "markdown",
   "metadata": {},
   "source": [
    "Пропущенные значения в стобцах с типом топлива (`fuel_type`) и типом коробки передач (`gearbox`) заменим модой, сгруппировав автомобили по марке и модели. Изменим также тип данных столбца с типом коробки передач на логический: заменим `manual` (механика) на `0` и `auto` (автомат) на `1`."
   ]
  },
  {
   "cell_type": "code",
   "execution_count": 41,
   "metadata": {},
   "outputs": [],
   "source": [
    "data['fuel_type']= data.groupby(['brand', 'model'])['fuel_type'].transform(lambda x: x.fillna((x.mode()[0])))"
   ]
  },
  {
   "cell_type": "code",
   "execution_count": 42,
   "metadata": {},
   "outputs": [],
   "source": [
    "data['gearbox']= data.groupby(['brand', 'model'])['gearbox'].transform(lambda x: x.fillna((x.mode()[0])))"
   ]
  },
  {
   "cell_type": "code",
   "execution_count": 43,
   "metadata": {},
   "outputs": [],
   "source": [
    "data['gearbox'] = data['gearbox'].map({'manual': 0, 'auto': 1}).astype(int)"
   ]
  },
  {
   "cell_type": "markdown",
   "metadata": {},
   "source": [
    "Теперь проверим, все ли пропуски обработаны."
   ]
  },
  {
   "cell_type": "code",
   "execution_count": 44,
   "metadata": {},
   "outputs": [
    {
     "name": "stdout",
     "output_type": "stream",
     "text": [
      "<class 'pandas.core.frame.DataFrame'>\n",
      "RangeIndex: 257235 entries, 0 to 257234\n",
      "Data columns (total 10 columns):\n",
      " #   Column             Non-Null Count   Dtype \n",
      "---  ------             --------------   ----- \n",
      " 0   price              257235 non-null  int64 \n",
      " 1   vehicle_type       257235 non-null  object\n",
      " 2   registration_year  257235 non-null  int64 \n",
      " 3   gearbox            257235 non-null  int64 \n",
      " 4   power              257235 non-null  int64 \n",
      " 5   model              257235 non-null  object\n",
      " 6   kilometer          257235 non-null  int64 \n",
      " 7   fuel_type          257235 non-null  object\n",
      " 8   brand              257235 non-null  object\n",
      " 9   repaired           257235 non-null  int64 \n",
      "dtypes: int64(6), object(4)\n",
      "memory usage: 19.6+ MB\n"
     ]
    }
   ],
   "source": [
    "data.info()"
   ]
  },
  {
   "cell_type": "markdown",
   "metadata": {},
   "source": [
    "Итак, в датайрейме осталось `257235` объектов, пропусков в данных нет."
   ]
  },
  {
   "cell_type": "markdown",
   "metadata": {},
   "source": [
    "**Вывод:**\n",
    "\n",
    "В результате изучения предоставленного датафрейма были удалены явные дубликаты, обработаны аномальные и пропущенные значения."
   ]
  },
  {
   "cell_type": "markdown",
   "metadata": {},
   "source": [
    "## Подготовка выборки для обучения моделей"
   ]
  },
  {
   "cell_type": "markdown",
   "metadata": {},
   "source": [
    "Подготовим данные для обучения моделей. Обучать будем четыре модели: `LinearRegression`, `DecisionTreeRegressor`, `CatBoostRegressor` и `LGBMRegressor`.\n",
    "\n",
    "Модели `CatBoostRegressor` и `LGBMRegressor` работают с категориальными данными, но при использовании `LGBMRegressor` необходимо преобразовать категориальные признаки в специальный формат данных \"category\", который позволяет ускорить обработку таких признаков внутри алгоритма обучения. Преобразование категориальных признаков в формат \"category\" может улучшить производительность модели и скорость обучения.\n",
    "\n",
    "Для других моделей преобразуем признаки с помощью `Ordinal Encoding` и выполним стандартизацию."
   ]
  },
  {
   "cell_type": "markdown",
   "metadata": {},
   "source": [
    "Определим категориальные и количественные признаки."
   ]
  },
  {
   "cell_type": "code",
   "execution_count": 55,
   "metadata": {},
   "outputs": [],
   "source": [
    "num_features = ['power']\n",
    "cat_features = ['vehicle_type', 'model', 'brand', 'fuel_type', 'registration_year', 'kilometer']"
   ]
  },
  {
   "cell_type": "markdown",
   "metadata": {},
   "source": [
    "Выделим целевую переменную."
   ]
  },
  {
   "cell_type": "code",
   "execution_count": 56,
   "metadata": {},
   "outputs": [],
   "source": [
    "features = data.drop('price', axis=1)\n",
    "target = data['price']"
   ]
  },
  {
   "cell_type": "markdown",
   "metadata": {},
   "source": [
    "Разделим данные на обучающую, валидационную и тестовую выборки (60% - 20% - 20%)."
   ]
  },
  {
   "cell_type": "code",
   "execution_count": 57,
   "metadata": {},
   "outputs": [],
   "source": [
    "features_train, features_valid, target_train, target_valid = train_test_split(features, target,\n",
    "                                                                              test_size=0.2, random_state=RANDOM_STATE)\n",
    "\n",
    "features_train, features_test, target_train, target_test = train_test_split(features_train, target_train, \n",
    "                                                                            test_size=0.25, random_state=RANDOM_STATE)"
   ]
  },
  {
   "cell_type": "markdown",
   "metadata": {},
   "source": [
    "Кодируем категориальные признаки."
   ]
  },
  {
   "cell_type": "code",
   "execution_count": 58,
   "metadata": {},
   "outputs": [],
   "source": [
    "# обработаем категориальные признаки с использованием OneHotEncoder для модели LinearRegression\n",
    "encoder_lr = OneHotEncoder(handle_unknown='ignore', drop='first')"
   ]
  },
  {
   "cell_type": "code",
   "execution_count": 59,
   "metadata": {},
   "outputs": [],
   "source": [
    "features_train_lr = features_train.copy()\n",
    "features_valid_lr = features_valid.copy()\n",
    "features_test_lr = features_test.copy()\n",
    "\n",
    "features_train_lr = encoder_lr.fit_transform(features_train_lr[cat_features])\n",
    "features_valid_lr = encoder_lr.transform(features_valid_lr[cat_features])\n",
    "features_test_lr = encoder_lr.transform(features_test_lr[cat_features])"
   ]
  },
  {
   "cell_type": "code",
   "execution_count": 60,
   "metadata": {},
   "outputs": [],
   "source": [
    "# обработаем категориальные признаки с использованием OrdinalEncoder для остальных моделей\n",
    "encoder = OrdinalEncoder(handle_unknown='use_encoded_value', unknown_value=-1)"
   ]
  },
  {
   "cell_type": "code",
   "execution_count": 61,
   "metadata": {},
   "outputs": [],
   "source": [
    "features_train = features_train.copy()\n",
    "features_valid = features_valid.copy()\n",
    "features_test = features_test.copy()\n",
    "\n",
    "features_train.loc[:, cat_features] = encoder.fit_transform(features_train[cat_features])\n",
    "features_valid.loc[:, cat_features] = encoder.transform(features_valid[cat_features])\n",
    "features_test.loc[:, cat_features] = encoder.transform(features_test[cat_features])"
   ]
  },
  {
   "cell_type": "markdown",
   "metadata": {},
   "source": [
    "Теперь выполним стандартизацию."
   ]
  },
  {
   "cell_type": "code",
   "execution_count": 62,
   "metadata": {},
   "outputs": [],
   "source": [
    "scaler = StandardScaler()"
   ]
  },
  {
   "cell_type": "code",
   "execution_count": 63,
   "metadata": {},
   "outputs": [],
   "source": [
    "# преобразуем разреженные матрицы в датафреймы\n",
    "features_train_lr = pd.DataFrame(features_train_lr.toarray(),\n",
    "                                 columns=encoder_lr.get_feature_names(cat_features),\n",
    "                                 index=features_train.index)\n",
    "features_valid_lr = pd.DataFrame(features_valid_lr.toarray(),\n",
    "                                 columns=encoder_lr.get_feature_names(cat_features),\n",
    "                                 index=features_valid.index)\n",
    "features_test_lr = pd.DataFrame(features_test_lr.toarray(),\n",
    "                                columns=encoder_lr.get_feature_names(cat_features),\n",
    "                                index=features_test.index)"
   ]
  },
  {
   "cell_type": "code",
   "execution_count": 64,
   "metadata": {},
   "outputs": [],
   "source": [
    "# для LinearRegression\n",
    "features_train_lr[num_features] = scaler.fit_transform(features_train[num_features])\n",
    "features_valid_lr[num_features] = scaler.transform(features_valid[num_features])\n",
    "features_test_lr[num_features] = scaler.transform(features_test[num_features])"
   ]
  },
  {
   "cell_type": "code",
   "execution_count": 65,
   "metadata": {},
   "outputs": [],
   "source": [
    "# для остальных моделей\n",
    "features_train[num_features] = scaler.fit_transform(features_train[num_features])\n",
    "features_valid[num_features] = scaler.transform(features_valid[num_features])\n",
    "features_test[num_features] = scaler.transform(features_test[num_features])"
   ]
  },
  {
   "cell_type": "markdown",
   "metadata": {},
   "source": [
    "## Обучение моделей"
   ]
  },
  {
   "cell_type": "markdown",
   "metadata": {},
   "source": [
    "### LinearRegression"
   ]
  },
  {
   "cell_type": "code",
   "execution_count": 66,
   "metadata": {},
   "outputs": [],
   "source": [
    "lr = LinearRegression()"
   ]
  },
  {
   "cell_type": "markdown",
   "metadata": {},
   "source": [
    "Измерим время обучения модели `LinearRegression` на обучающих данных."
   ]
  },
  {
   "cell_type": "code",
   "execution_count": 67,
   "metadata": {},
   "outputs": [
    {
     "name": "stdout",
     "output_type": "stream",
     "text": [
      "CPU times: user 2 µs, sys: 1 µs, total: 3 µs\n",
      "Wall time: 6.91 µs\n"
     ]
    },
    {
     "data": {
      "text/plain": [
       "LinearRegression()"
      ]
     },
     "execution_count": 67,
     "metadata": {},
     "output_type": "execute_result"
    }
   ],
   "source": [
    "%time\n",
    "lr.fit(features_train_lr, target_train)"
   ]
  },
  {
   "cell_type": "markdown",
   "metadata": {},
   "source": [
    "Измерим время, которое требуется для предсказания на валидационных данных с помощью обученной модели линейной регрессии. Вычислим среднеквадратичную ошибку (`RMSE`) между фактическими значениями целевой переменной и предсказаниями модели и выведем это значение."
   ]
  },
  {
   "cell_type": "code",
   "execution_count": 68,
   "metadata": {},
   "outputs": [
    {
     "name": "stdout",
     "output_type": "stream",
     "text": [
      "CPU times: user 2 µs, sys: 0 ns, total: 2 µs\n",
      "Wall time: 5.48 µs\n"
     ]
    }
   ],
   "source": [
    "%time\n",
    "predictions_valid = lr.predict(features_valid_lr)"
   ]
  },
  {
   "cell_type": "code",
   "execution_count": 69,
   "metadata": {},
   "outputs": [
    {
     "name": "stdout",
     "output_type": "stream",
     "text": [
      "RMSE модели LinearRegression: 2116.489969342617\n"
     ]
    }
   ],
   "source": [
    "print('RMSE модели LinearRegression:', mean_squared_error(target_valid, predictions_valid)**0.5)"
   ]
  },
  {
   "cell_type": "markdown",
   "metadata": {},
   "source": [
    "### DecisionTreeRegressor"
   ]
  },
  {
   "cell_type": "code",
   "execution_count": 70,
   "metadata": {},
   "outputs": [],
   "source": [
    "dtr = DecisionTreeRegressor(random_state=RANDOM_STATE)"
   ]
  },
  {
   "cell_type": "markdown",
   "metadata": {},
   "source": [
    "Подберем лучшие параметры для модели решающего дерева."
   ]
  },
  {
   "cell_type": "code",
   "execution_count": 71,
   "metadata": {},
   "outputs": [
    {
     "name": "stdout",
     "output_type": "stream",
     "text": [
      "Лучший параметр 'max_depth': 9\n"
     ]
    }
   ],
   "source": [
    "best_rmse = float('inf')\n",
    "best_depth = 0\n",
    "\n",
    "for depth in range(1, 10):\n",
    "    dtr = DecisionTreeRegressor(max_depth=depth, random_state=RANDOM_STATE)\n",
    "    dtr.fit(features_train, target_train)\n",
    "    predictions = dtr.predict(features_valid)\n",
    "    mse = mean_squared_error(target_valid, predictions)\n",
    "    rmse = np.sqrt(mse)\n",
    "    \n",
    "    if rmse < best_rmse:\n",
    "        best_rmse = rmse\n",
    "        best_depth = depth\n",
    "\n",
    "print(\"Лучший параметр 'max_depth':\", best_depth)"
   ]
  },
  {
   "cell_type": "markdown",
   "metadata": {},
   "source": [
    "Итак, мы получили оптимальное значение параметра `max_depth = 9`, создадим и обучим модель с использованием этого параметра."
   ]
  },
  {
   "cell_type": "code",
   "execution_count": 75,
   "metadata": {},
   "outputs": [
    {
     "name": "stdout",
     "output_type": "stream",
     "text": [
      "CPU times: user 3 µs, sys: 1 µs, total: 4 µs\n",
      "Wall time: 5.72 µs\n"
     ]
    },
    {
     "data": {
      "text/plain": [
       "DecisionTreeRegressor(max_depth=9, random_state=42)"
      ]
     },
     "execution_count": 75,
     "metadata": {},
     "output_type": "execute_result"
    }
   ],
   "source": [
    "%time\n",
    "final_dtr = DecisionTreeRegressor(max_depth=9, random_state=RANDOM_STATE)\n",
    "final_dtr.fit(features_train, target_train)"
   ]
  },
  {
   "cell_type": "markdown",
   "metadata": {},
   "source": [
    "Получим предсказания на данных `features_valid`, измерим время выполнения этой операции. Вычислим среднеквадратичную ошибку (RMSE) между фактическими значениями в target_valid и предсказанными значениями (predictions_valid), выведем значение."
   ]
  },
  {
   "cell_type": "code",
   "execution_count": 76,
   "metadata": {},
   "outputs": [
    {
     "name": "stdout",
     "output_type": "stream",
     "text": [
      "CPU times: user 2 µs, sys: 0 ns, total: 2 µs\n",
      "Wall time: 5.48 µs\n"
     ]
    }
   ],
   "source": [
    "%time\n",
    "predictions_valid = final_dtr.predict(features_valid)"
   ]
  },
  {
   "cell_type": "code",
   "execution_count": 77,
   "metadata": {},
   "outputs": [
    {
     "name": "stdout",
     "output_type": "stream",
     "text": [
      "RMSE модели DecisionTreeRegressor: 2064.450220227405\n"
     ]
    }
   ],
   "source": [
    "print('RMSE модели DecisionTreeRegressor:', mean_squared_error(target_valid, predictions_valid)**0.5)"
   ]
  },
  {
   "cell_type": "markdown",
   "metadata": {},
   "source": [
    "### CatBoostRegressor"
   ]
  },
  {
   "cell_type": "code",
   "execution_count": 78,
   "metadata": {},
   "outputs": [],
   "source": [
    "# преобразуем числовые значения в категориальных признаках в строки\n",
    "features_train[cat_features] = features_train[cat_features].astype(str)\n",
    "features_valid[cat_features] = features_valid[cat_features].astype(str)\n",
    "features_test[cat_features] = features_test[cat_features].astype(str)"
   ]
  },
  {
   "cell_type": "code",
   "execution_count": 79,
   "metadata": {},
   "outputs": [],
   "source": [
    "cbr = CatBoostRegressor(random_state=RANDOM_STATE)"
   ]
  },
  {
   "cell_type": "markdown",
   "metadata": {},
   "source": [
    "Измерим время обучения модели `CatBoostRegressor` на обучающих данных."
   ]
  },
  {
   "cell_type": "code",
   "execution_count": 80,
   "metadata": {},
   "outputs": [
    {
     "name": "stdout",
     "output_type": "stream",
     "text": [
      "CPU times: user 2 µs, sys: 1e+03 ns, total: 3 µs\n",
      "Wall time: 5.72 µs\n"
     ]
    },
    {
     "data": {
      "text/plain": [
       "<catboost.core.CatBoostRegressor at 0x7f10544fc8e0>"
      ]
     },
     "execution_count": 80,
     "metadata": {},
     "output_type": "execute_result"
    }
   ],
   "source": [
    "%time\n",
    "\n",
    "cbr.fit(features_train, target_train, cat_features=cat_features, verbose=False)"
   ]
  },
  {
   "cell_type": "markdown",
   "metadata": {},
   "source": [
    "Используем обученную модель `CatBoostRegressor` для предсказаний на валидационных данных `features_valid`. Затем вычислим среднеквадратичную ошибку (RMSE) между фактическими значениями в `target_valid` и предсказанными значениями (`predictions_valid`), выведем значение. Измерим время этой операции."
   ]
  },
  {
   "cell_type": "code",
   "execution_count": 81,
   "metadata": {},
   "outputs": [
    {
     "name": "stdout",
     "output_type": "stream",
     "text": [
      "CPU times: user 3 µs, sys: 0 ns, total: 3 µs\n",
      "Wall time: 5.01 µs\n"
     ]
    }
   ],
   "source": [
    "%time\n",
    "predictions_valid = cbr.predict(features_valid)"
   ]
  },
  {
   "cell_type": "code",
   "execution_count": 82,
   "metadata": {},
   "outputs": [
    {
     "name": "stdout",
     "output_type": "stream",
     "text": [
      "RMSE модели CatBoostRegressor: 1645.9025628633965\n"
     ]
    }
   ],
   "source": [
    "print('RMSE модели CatBoostRegressor:', mean_squared_error(target_valid, predictions_valid)**0.5)"
   ]
  },
  {
   "cell_type": "markdown",
   "metadata": {},
   "source": [
    "### LGBMRegressor"
   ]
  },
  {
   "cell_type": "code",
   "execution_count": 83,
   "metadata": {},
   "outputs": [],
   "source": [
    "lgbmr = LGBMRegressor(random_state=RANDOM_STATE)"
   ]
  },
  {
   "cell_type": "markdown",
   "metadata": {},
   "source": [
    "Преобразуем категориальные признаки в формат \"category\"."
   ]
  },
  {
   "cell_type": "code",
   "execution_count": 84,
   "metadata": {},
   "outputs": [],
   "source": [
    "features_train = features_train.copy()\n",
    "features_valid = features_valid.copy()\n",
    "features_test = features_test.copy()"
   ]
  },
  {
   "cell_type": "code",
   "execution_count": 85,
   "metadata": {},
   "outputs": [],
   "source": [
    "features_train[cat_features] = features_train[cat_features].astype('category')\n",
    "features_valid[cat_features] = features_valid[cat_features].astype('category')\n",
    "features_test[cat_features] = features_test[cat_features].astype('category')"
   ]
  },
  {
   "cell_type": "markdown",
   "metadata": {},
   "source": [
    "Измерим время обучения модели `LGBMRegressor` на обучающих данных."
   ]
  },
  {
   "cell_type": "code",
   "execution_count": 86,
   "metadata": {},
   "outputs": [
    {
     "name": "stdout",
     "output_type": "stream",
     "text": [
      "CPU times: user 3 µs, sys: 0 ns, total: 3 µs\n",
      "Wall time: 5.72 µs\n"
     ]
    },
    {
     "data": {
      "text/plain": [
       "LGBMRegressor(random_state=42)"
      ]
     },
     "execution_count": 86,
     "metadata": {},
     "output_type": "execute_result"
    }
   ],
   "source": [
    "%time\n",
    "\n",
    "lgbmr.fit(features_train, target_train)"
   ]
  },
  {
   "cell_type": "markdown",
   "metadata": {},
   "source": [
    "Используем обученную модель `LGBMRegressor` для предсказаний на валидационных данных `features_valid`. Затем вычислим среднеквадратичную ошибку (`RMSE`) между фактическими значениями в `target_valid` и предсказанными значениями (`predictions_valid`), выведем значение. Измерим время этой операции."
   ]
  },
  {
   "cell_type": "code",
   "execution_count": 87,
   "metadata": {},
   "outputs": [
    {
     "name": "stdout",
     "output_type": "stream",
     "text": [
      "CPU times: user 2 µs, sys: 0 ns, total: 2 µs\n",
      "Wall time: 5.96 µs\n"
     ]
    }
   ],
   "source": [
    "%time\n",
    "predictions_valid = lgbmr.predict(features_valid)"
   ]
  },
  {
   "cell_type": "code",
   "execution_count": 88,
   "metadata": {},
   "outputs": [
    {
     "name": "stdout",
     "output_type": "stream",
     "text": [
      "RMSE модели LGBMRegressor: 1657.702909563572\n"
     ]
    }
   ],
   "source": [
    "print('RMSE модели LGBMRegressor:', mean_squared_error(target_valid, predictions_valid)**0.5)"
   ]
  },
  {
   "cell_type": "markdown",
   "metadata": {},
   "source": [
    "**Вывод:**\n",
    "    \n",
    "    "
   ]
  },
  {
   "cell_type": "markdown",
   "metadata": {},
   "source": [
    "Были обучены и проверены на валидационной выборке четыре модели: `LinearRegression`, `DecisionTreeRegressor`, `CatBoostRegressor`, `LGBMRegressor`. В результате были получены следующие значения:\n",
    "\n",
    "* **`LinearRegression`**: *RMSE* — `2116`; время обучения — `6.91 мкс`; время предсказания — `5.48 мкс`\n",
    "* **`DecisionTreeRegressor`**: *RMSE* — `2064`; время обучения — `5.72 мкс`; время предсказания — `5.48 мкс`\n",
    "* **`CatBoostRegressor`**: *RMSE* — `1646`; время обучения — `5.72 мкс`; время предсказания — `5.01 мкс`\n",
    "* **`LGBMRegressor`**: *RMSE* — `1658`; время обучения — `5.72 мкс`; время предсказания — `5.96 мкс`"
   ]
  },
  {
   "cell_type": "markdown",
   "metadata": {},
   "source": [
    "Сравнивая результаты моделей по метрике *RMSE* и времени обучения и предсказания, можно сделать вывод, что лучшая модель в данном случае — `CatBoostRegressor` с *RMSE* равным `1646`. Эта модель показывает наилучшее качество предсказаний по сравнению с остальными моделями.\n",
    "\n",
    "Выполним проверку этой модели на тестовой выборке."
   ]
  },
  {
   "cell_type": "code",
   "execution_count": 89,
   "metadata": {},
   "outputs": [
    {
     "name": "stdout",
     "output_type": "stream",
     "text": [
      "CPU times: user 2 µs, sys: 0 ns, total: 2 µs\n",
      "Wall time: 5.72 µs\n"
     ]
    }
   ],
   "source": [
    "%time\n",
    "\n",
    "predictions_test = cbr.predict(features_test)"
   ]
  },
  {
   "cell_type": "code",
   "execution_count": null,
   "metadata": {},
   "outputs": [],
   "source": [
    "print('RMSE модели CatBoostRegressor:', mean_squared_error(target_test, predictions_test)**0.5)"
   ]
  },
  {
   "cell_type": "markdown",
   "metadata": {},
   "source": [
    "Итак, на тестовой выборке модель `CatBoostRegressor` имеет `RMSE` — `1633` (было `1646`), время предсказания на тестовой выборке — `5.72 мкс`."
   ]
  },
  {
   "cell_type": "markdown",
   "metadata": {},
   "source": [
    "## Анализ времени обучения, времени предсказания и качества модели"
   ]
  },
  {
   "cell_type": "markdown",
   "metadata": {},
   "source": [
    "Для проверки адекватности лучшей модели `CatBoostRegressor` следует сравнить качество ее предсказаний с качеством константной модели, которая предсказывает среднее значение тренировочной выборки. \n",
    "Для этого будем использовать `DummyRegressor`, который предназначен для генерации константных предсказаний."
   ]
  },
  {
   "cell_type": "markdown",
   "metadata": {},
   "source": [
    "Создадим и обучим модель `DummyRegressor`."
   ]
  },
  {
   "cell_type": "code",
   "execution_count": 100,
   "metadata": {},
   "outputs": [
    {
     "data": {
      "text/plain": [
       "DummyRegressor()"
      ]
     },
     "execution_count": 100,
     "metadata": {},
     "output_type": "execute_result"
    }
   ],
   "source": [
    "dummy_model = DummyRegressor(strategy='mean')\n",
    "dummy_model.fit(features_train, target_train)"
   ]
  },
  {
   "cell_type": "markdown",
   "metadata": {},
   "source": [
    "Теперь сравним качество предсказаний лучшей модели `CatBoostRegressor` с качеством предсказаний `DummyRegressor` на тестовой выборке. Если качество нашей модели `CatBoostRegressor` окажется лучше, значит, ее имеет смысл использовать."
   ]
  },
  {
   "cell_type": "code",
   "execution_count": 101,
   "metadata": {},
   "outputs": [
    {
     "name": "stdout",
     "output_type": "stream",
     "text": [
      "Лучшая модель CatBoostRegressor прошла тест на адекватность, ее качество лучше, чем у константной модели.\n"
     ]
    }
   ],
   "source": [
    "# получение предсказаний DummyRegressor на тестовой выборке\n",
    "dummy_predictions = dummy_model.predict(features_test)\n",
    "\n",
    "# получение предсказаний CatBoostRegressor на тестовой выборке\n",
    "cbr_predictions = cbr.predict(features_test)\n",
    "\n",
    "# вычисление RMSE для DummyRegressor\n",
    "dummy_rmse = mean_squared_error(target_test, dummy_predictions, squared=False)\n",
    "\n",
    "# вычисление RMSE для CatBoostRegressor\n",
    "model_rmse = mean_squared_error(target_test, cbr_predictions, squared=False)\n",
    "\n",
    "if model_rmse < dummy_rmse:\n",
    "    print(\"Лучшая модель CatBoostRegressor прошла тест на адекватность, ее качество лучше, чем у константной модели.\")\n",
    "else:\n",
    "    print(\"Лучшая модель CatBoostRegressor НЕ прошла тест на адекватность, рекомендуется пересмотреть выбор модели.\")"
   ]
  },
  {
   "cell_type": "markdown",
   "metadata": {},
   "source": [
    "**Вывод:**\n",
    "\n"
   ]
  },
  {
   "cell_type": "markdown",
   "metadata": {},
   "source": [
    "Полученную при выполнении данного проекта модель `CatBoostRegressor` можно считать пригодной для использования, поскольку качество ее работы, оцениваемое по *RMSE*, лучше качества константной модели `DummyRegressor` на тестовой выборке.\n",
    "\n",
    "**Лучшая модель** имеет следующие характеристики:\n",
    "\n",
    "<u>CatBoostRegressor</u>\n",
    "\n",
    "* *RMSE* на валидационных данных — `1646`\n",
    "* *RMSE* на тестовых данных — `1633`\n",
    "* Время обучения — `5.72 мкс`\n",
    "* Время предсказания на валидационных данных — `5.01 мкс`\n",
    "* Время предсказания на тестовых данных — `5.72 мкс`\n",
    "\n",
    "На основании этой информации о модели `CatBoostRegressor` можно сделать следующие выводы:\n",
    "\n",
    "**Качество модели:**\n",
    "\n",
    "*RMSE* на валидационных данных составляет `1646`, а на тестовых данных — `1633`. Это указывает на то, что модель хорошо обобщает данные и демонстрирует неплохую точность прогнозирования. Отсутствие существенного разрыва в значениях *RMSE* между валидационными и тестовыми данными говорит о том, что модель не переобучена.\n",
    "\n",
    "**Время обучения:**\n",
    "\n",
    "Время обучения модели составляет `5.72 мкс`. Это очень низкое время обучения, что свидетельствует о высокой эффективности и скорости работы алгоритма `CatBoostRegressor` при обучении.\n",
    "\n",
    "**Время предсказания:**\n",
    "\n",
    "Время предсказания на валидационных данных равно времени обучения — `5.01 мкс`, а на тестовых данных — `5.72 мкс`. Это также незначительное время, что говорит о быстрой скорости работы модели при предсказании на новых данных.\n",
    "\n",
    "В целом, модель `CatBoostRegressor` показывает хорошее качество предсказаний с низким временем обучения и предсказания, что делает ее привлекательным выбором для проекта, где важны как точность, так и эффективность работы модели."
   ]
  }
 ],
 "metadata": {
  "ExecuteTimeLog": [
   {
    "duration": 1759,
    "start_time": "2024-02-07T09:18:23.438Z"
   },
   {
    "duration": 2953,
    "start_time": "2024-02-07T09:19:52.325Z"
   },
   {
    "duration": 19,
    "start_time": "2024-02-07T09:20:28.768Z"
   },
   {
    "duration": 170,
    "start_time": "2024-02-07T09:30:57.724Z"
   },
   {
    "duration": 78,
    "start_time": "2024-02-07T09:37:40.782Z"
   },
   {
    "duration": 4,
    "start_time": "2024-02-07T09:40:46.966Z"
   },
   {
    "duration": 96,
    "start_time": "2024-02-07T09:42:13.015Z"
   },
   {
    "duration": 65,
    "start_time": "2024-02-07T09:42:22.049Z"
   },
   {
    "duration": 122,
    "start_time": "2024-02-07T09:42:53.494Z"
   },
   {
    "duration": 23,
    "start_time": "2024-02-07T09:43:11.346Z"
   },
   {
    "duration": 74,
    "start_time": "2024-02-07T09:43:35.318Z"
   },
   {
    "duration": 921,
    "start_time": "2024-02-07T09:44:47.809Z"
   },
   {
    "duration": 301,
    "start_time": "2024-02-07T09:45:44.779Z"
   },
   {
    "duration": 71,
    "start_time": "2024-02-07T09:46:02.017Z"
   },
   {
    "duration": 114,
    "start_time": "2024-02-07T09:46:12.681Z"
   },
   {
    "duration": 321,
    "start_time": "2024-02-07T09:48:49.469Z"
   },
   {
    "duration": 335,
    "start_time": "2024-02-07T09:49:00.651Z"
   },
   {
    "duration": 324,
    "start_time": "2024-02-07T09:49:10.009Z"
   },
   {
    "duration": 392,
    "start_time": "2024-02-07T09:49:24.964Z"
   },
   {
    "duration": 289,
    "start_time": "2024-02-07T09:49:51.496Z"
   },
   {
    "duration": 279,
    "start_time": "2024-02-07T09:49:55.726Z"
   },
   {
    "duration": 1543,
    "start_time": "2024-02-07T09:50:05.956Z"
   },
   {
    "duration": 908,
    "start_time": "2024-02-07T09:50:07.501Z"
   },
   {
    "duration": 169,
    "start_time": "2024-02-07T09:50:08.411Z"
   },
   {
    "duration": 17,
    "start_time": "2024-02-07T09:50:08.582Z"
   },
   {
    "duration": 4,
    "start_time": "2024-02-07T09:50:08.601Z"
   },
   {
    "duration": 74,
    "start_time": "2024-02-07T09:50:08.607Z"
   },
   {
    "duration": 20,
    "start_time": "2024-02-07T09:50:08.683Z"
   },
   {
    "duration": 338,
    "start_time": "2024-02-07T09:50:08.705Z"
   },
   {
    "duration": 108,
    "start_time": "2024-02-07T09:50:09.045Z"
   },
   {
    "duration": 325,
    "start_time": "2024-02-07T09:50:09.156Z"
   },
   {
    "duration": 392,
    "start_time": "2024-02-07T09:50:09.482Z"
   },
   {
    "duration": 286,
    "start_time": "2024-02-07T09:50:09.875Z"
   },
   {
    "duration": 1725,
    "start_time": "2024-02-07T12:07:13.970Z"
   },
   {
    "duration": 1160,
    "start_time": "2024-02-07T12:07:15.697Z"
   },
   {
    "duration": 153,
    "start_time": "2024-02-07T12:07:16.859Z"
   },
   {
    "duration": 17,
    "start_time": "2024-02-07T12:07:17.014Z"
   },
   {
    "duration": 12,
    "start_time": "2024-02-07T12:07:17.032Z"
   },
   {
    "duration": 80,
    "start_time": "2024-02-07T12:07:17.046Z"
   },
   {
    "duration": 21,
    "start_time": "2024-02-07T12:07:17.129Z"
   },
   {
    "duration": 343,
    "start_time": "2024-02-07T12:07:17.152Z"
   },
   {
    "duration": 112,
    "start_time": "2024-02-07T12:07:17.497Z"
   },
   {
    "duration": 342,
    "start_time": "2024-02-07T12:07:17.611Z"
   },
   {
    "duration": 391,
    "start_time": "2024-02-07T12:07:17.954Z"
   },
   {
    "duration": 304,
    "start_time": "2024-02-07T12:07:18.347Z"
   },
   {
    "duration": 17,
    "start_time": "2024-02-07T12:13:28.448Z"
   },
   {
    "duration": 15,
    "start_time": "2024-02-07T12:18:29.034Z"
   },
   {
    "duration": 403,
    "start_time": "2024-02-07T12:20:31.225Z"
   },
   {
    "duration": 360,
    "start_time": "2024-02-07T12:20:42.542Z"
   },
   {
    "duration": 327,
    "start_time": "2024-02-07T12:20:52.815Z"
   },
   {
    "duration": 263,
    "start_time": "2024-02-07T12:20:59.682Z"
   },
   {
    "duration": 218,
    "start_time": "2024-02-07T12:21:17.696Z"
   },
   {
    "duration": 5,
    "start_time": "2024-02-07T12:22:19.654Z"
   },
   {
    "duration": 33,
    "start_time": "2024-02-07T12:25:01.064Z"
   },
   {
    "duration": 250,
    "start_time": "2024-02-07T12:25:04.664Z"
   },
   {
    "duration": 311,
    "start_time": "2024-02-07T12:25:52.983Z"
   },
   {
    "duration": 53,
    "start_time": "2024-02-07T12:29:02.211Z"
   },
   {
    "duration": 204,
    "start_time": "2024-02-07T12:29:03.439Z"
   },
   {
    "duration": 156,
    "start_time": "2024-02-07T12:29:09.024Z"
   },
   {
    "duration": 33,
    "start_time": "2024-02-07T12:29:18.697Z"
   },
   {
    "duration": 93,
    "start_time": "2024-02-07T12:30:06.331Z"
   },
   {
    "duration": 17,
    "start_time": "2024-02-07T12:35:54.574Z"
   },
   {
    "duration": 36,
    "start_time": "2024-02-07T12:40:40.635Z"
   },
   {
    "duration": 246,
    "start_time": "2024-02-07T12:41:22.864Z"
   },
   {
    "duration": 385,
    "start_time": "2024-02-07T12:41:37.733Z"
   },
   {
    "duration": 210,
    "start_time": "2024-02-07T12:41:57.839Z"
   },
   {
    "duration": 35,
    "start_time": "2024-02-07T12:49:14.797Z"
   },
   {
    "duration": 35,
    "start_time": "2024-02-07T12:51:43.877Z"
   },
   {
    "duration": 82,
    "start_time": "2024-02-07T13:32:06.814Z"
   },
   {
    "duration": 30,
    "start_time": "2024-02-07T13:34:27.143Z"
   },
   {
    "duration": 79,
    "start_time": "2024-02-07T13:34:29.306Z"
   },
   {
    "duration": 1504,
    "start_time": "2024-02-07T13:34:39.840Z"
   },
   {
    "duration": 966,
    "start_time": "2024-02-07T13:34:41.346Z"
   },
   {
    "duration": 168,
    "start_time": "2024-02-07T13:34:42.314Z"
   },
   {
    "duration": 17,
    "start_time": "2024-02-07T13:34:42.484Z"
   },
   {
    "duration": 3,
    "start_time": "2024-02-07T13:34:42.503Z"
   },
   {
    "duration": 77,
    "start_time": "2024-02-07T13:34:42.508Z"
   },
   {
    "duration": 23,
    "start_time": "2024-02-07T13:34:42.587Z"
   },
   {
    "duration": 340,
    "start_time": "2024-02-07T13:34:42.612Z"
   },
   {
    "duration": 111,
    "start_time": "2024-02-07T13:34:42.954Z"
   },
   {
    "duration": 348,
    "start_time": "2024-02-07T13:34:43.068Z"
   },
   {
    "duration": 392,
    "start_time": "2024-02-07T13:34:43.418Z"
   },
   {
    "duration": 309,
    "start_time": "2024-02-07T13:34:43.812Z"
   },
   {
    "duration": 17,
    "start_time": "2024-02-07T13:34:44.123Z"
   },
   {
    "duration": 5,
    "start_time": "2024-02-07T13:34:44.141Z"
   },
   {
    "duration": 54,
    "start_time": "2024-02-07T13:34:44.147Z"
   },
   {
    "duration": 237,
    "start_time": "2024-02-07T13:34:44.203Z"
   },
   {
    "duration": 50,
    "start_time": "2024-02-07T13:34:44.442Z"
   },
   {
    "duration": 98,
    "start_time": "2024-02-07T13:34:44.494Z"
   },
   {
    "duration": 17,
    "start_time": "2024-02-07T13:34:44.594Z"
   },
   {
    "duration": 28,
    "start_time": "2024-02-07T13:34:44.612Z"
   },
   {
    "duration": 229,
    "start_time": "2024-02-07T13:34:44.642Z"
   },
   {
    "duration": 31,
    "start_time": "2024-02-07T13:34:44.872Z"
   },
   {
    "duration": 99,
    "start_time": "2024-02-07T13:34:44.904Z"
   },
   {
    "duration": 16,
    "start_time": "2024-02-07T13:36:13.989Z"
   },
   {
    "duration": 33,
    "start_time": "2024-02-07T13:37:56.039Z"
   },
   {
    "duration": 292,
    "start_time": "2024-02-07T13:38:12.534Z"
   },
   {
    "duration": 1530,
    "start_time": "2024-02-07T13:38:25.943Z"
   },
   {
    "duration": 985,
    "start_time": "2024-02-07T13:38:27.475Z"
   },
   {
    "duration": 159,
    "start_time": "2024-02-07T13:38:28.462Z"
   },
   {
    "duration": 18,
    "start_time": "2024-02-07T13:38:28.624Z"
   },
   {
    "duration": 4,
    "start_time": "2024-02-07T13:38:28.644Z"
   },
   {
    "duration": 78,
    "start_time": "2024-02-07T13:38:28.649Z"
   },
   {
    "duration": 23,
    "start_time": "2024-02-07T13:38:28.729Z"
   },
   {
    "duration": 325,
    "start_time": "2024-02-07T13:38:28.753Z"
   },
   {
    "duration": 115,
    "start_time": "2024-02-07T13:38:29.083Z"
   },
   {
    "duration": 354,
    "start_time": "2024-02-07T13:38:29.201Z"
   },
   {
    "duration": 423,
    "start_time": "2024-02-07T13:38:29.557Z"
   },
   {
    "duration": 333,
    "start_time": "2024-02-07T13:38:29.983Z"
   },
   {
    "duration": 18,
    "start_time": "2024-02-07T13:38:30.318Z"
   },
   {
    "duration": 53,
    "start_time": "2024-02-07T13:38:30.339Z"
   },
   {
    "duration": 103,
    "start_time": "2024-02-07T13:38:30.394Z"
   },
   {
    "duration": 279,
    "start_time": "2024-02-07T13:38:30.499Z"
   },
   {
    "duration": 48,
    "start_time": "2024-02-07T13:38:30.782Z"
   },
   {
    "duration": 116,
    "start_time": "2024-02-07T13:38:30.832Z"
   },
   {
    "duration": 18,
    "start_time": "2024-02-07T13:38:30.949Z"
   },
   {
    "duration": 39,
    "start_time": "2024-02-07T13:38:30.982Z"
   },
   {
    "duration": 220,
    "start_time": "2024-02-07T13:38:31.024Z"
   },
   {
    "duration": 36,
    "start_time": "2024-02-07T13:38:31.246Z"
   },
   {
    "duration": 125,
    "start_time": "2024-02-07T13:38:31.284Z"
   },
   {
    "duration": 16,
    "start_time": "2024-02-07T13:38:31.411Z"
   },
   {
    "duration": 48,
    "start_time": "2024-02-07T13:38:31.429Z"
   },
   {
    "duration": 282,
    "start_time": "2024-02-07T13:38:31.478Z"
   },
   {
    "duration": 83,
    "start_time": "2024-02-07T13:39:00.631Z"
   },
   {
    "duration": 5,
    "start_time": "2024-02-07T13:43:34.272Z"
   },
   {
    "duration": 16,
    "start_time": "2024-02-07T13:44:43.022Z"
   },
   {
    "duration": 4,
    "start_time": "2024-02-07T13:44:43.628Z"
   },
   {
    "duration": 64,
    "start_time": "2024-02-07T13:45:03.584Z"
   },
   {
    "duration": 5,
    "start_time": "2024-02-07T13:45:16.477Z"
   },
   {
    "duration": 85,
    "start_time": "2024-02-07T13:52:10.898Z"
   },
   {
    "duration": 106,
    "start_time": "2024-02-07T13:52:49.281Z"
   },
   {
    "duration": 19,
    "start_time": "2024-02-07T13:56:40.230Z"
   },
   {
    "duration": 19,
    "start_time": "2024-02-07T13:56:54.395Z"
   },
   {
    "duration": 19,
    "start_time": "2024-02-07T13:56:54.816Z"
   },
   {
    "duration": 20,
    "start_time": "2024-02-07T14:03:14.069Z"
   },
   {
    "duration": 34,
    "start_time": "2024-02-07T14:04:02.141Z"
   },
   {
    "duration": 299,
    "start_time": "2024-02-07T14:09:15.549Z"
   },
   {
    "duration": 288,
    "start_time": "2024-02-07T14:09:40.146Z"
   },
   {
    "duration": 32,
    "start_time": "2024-02-07T14:10:07.552Z"
   },
   {
    "duration": 111,
    "start_time": "2024-02-07T14:10:25.849Z"
   },
   {
    "duration": 72,
    "start_time": "2024-02-07T14:10:50.885Z"
   },
   {
    "duration": 68,
    "start_time": "2024-02-07T14:11:02.328Z"
   },
   {
    "duration": 66,
    "start_time": "2024-02-07T14:11:24.816Z"
   },
   {
    "duration": 71,
    "start_time": "2024-02-07T14:16:53.993Z"
   },
   {
    "duration": 1445,
    "start_time": "2024-02-07T14:17:10.931Z"
   },
   {
    "duration": 969,
    "start_time": "2024-02-07T14:17:12.378Z"
   },
   {
    "duration": 156,
    "start_time": "2024-02-07T14:17:13.348Z"
   },
   {
    "duration": 17,
    "start_time": "2024-02-07T14:17:13.506Z"
   },
   {
    "duration": 3,
    "start_time": "2024-02-07T14:17:13.525Z"
   },
   {
    "duration": 80,
    "start_time": "2024-02-07T14:17:13.530Z"
   },
   {
    "duration": 21,
    "start_time": "2024-02-07T14:17:13.612Z"
   },
   {
    "duration": 327,
    "start_time": "2024-02-07T14:17:13.634Z"
   },
   {
    "duration": 120,
    "start_time": "2024-02-07T14:17:13.962Z"
   },
   {
    "duration": 330,
    "start_time": "2024-02-07T14:17:14.085Z"
   },
   {
    "duration": 389,
    "start_time": "2024-02-07T14:17:14.416Z"
   },
   {
    "duration": 283,
    "start_time": "2024-02-07T14:17:14.807Z"
   },
   {
    "duration": 17,
    "start_time": "2024-02-07T14:17:15.091Z"
   },
   {
    "duration": 10,
    "start_time": "2024-02-07T14:17:15.109Z"
   },
   {
    "duration": 57,
    "start_time": "2024-02-07T14:17:15.120Z"
   },
   {
    "duration": 258,
    "start_time": "2024-02-07T14:17:15.179Z"
   },
   {
    "duration": 44,
    "start_time": "2024-02-07T14:17:15.439Z"
   },
   {
    "duration": 90,
    "start_time": "2024-02-07T14:17:15.484Z"
   },
   {
    "duration": 18,
    "start_time": "2024-02-07T14:17:15.582Z"
   },
   {
    "duration": 32,
    "start_time": "2024-02-07T14:17:15.601Z"
   },
   {
    "duration": 237,
    "start_time": "2024-02-07T14:17:15.635Z"
   },
   {
    "duration": 34,
    "start_time": "2024-02-07T14:17:15.874Z"
   },
   {
    "duration": 101,
    "start_time": "2024-02-07T14:17:15.909Z"
   },
   {
    "duration": 17,
    "start_time": "2024-02-07T14:17:16.011Z"
   },
   {
    "duration": 27,
    "start_time": "2024-02-07T14:17:16.030Z"
   },
   {
    "duration": 303,
    "start_time": "2024-02-07T14:17:16.059Z"
   },
   {
    "duration": 89,
    "start_time": "2024-02-07T14:17:16.364Z"
   },
   {
    "duration": 30,
    "start_time": "2024-02-07T14:17:16.458Z"
   },
   {
    "duration": 15,
    "start_time": "2024-02-07T14:17:16.490Z"
   },
   {
    "duration": 96,
    "start_time": "2024-02-07T14:17:16.506Z"
   },
   {
    "duration": 32,
    "start_time": "2024-02-07T14:17:16.604Z"
   },
   {
    "duration": 30,
    "start_time": "2024-02-07T14:17:16.638Z"
   },
   {
    "duration": 49,
    "start_time": "2024-02-07T14:17:16.669Z"
   },
   {
    "duration": 60,
    "start_time": "2024-02-07T14:17:16.720Z"
   },
   {
    "duration": 343,
    "start_time": "2024-02-07T14:17:16.782Z"
   },
   {
    "duration": 294,
    "start_time": "2024-02-07T14:17:17.127Z"
   },
   {
    "duration": 31,
    "start_time": "2024-02-07T14:17:17.423Z"
   },
   {
    "duration": 80,
    "start_time": "2024-02-07T14:17:17.455Z"
   },
   {
    "duration": 124,
    "start_time": "2024-02-07T14:37:25.913Z"
   },
   {
    "duration": 4,
    "start_time": "2024-02-07T14:37:29.467Z"
   },
   {
    "duration": 4,
    "start_time": "2024-02-07T14:38:15.583Z"
   },
   {
    "duration": 18,
    "start_time": "2024-02-07T14:38:34.443Z"
   },
   {
    "duration": 97,
    "start_time": "2024-02-07T14:42:23.012Z"
   },
   {
    "duration": 528,
    "start_time": "2024-02-07T14:44:03.416Z"
   },
   {
    "duration": 1518,
    "start_time": "2024-02-07T14:47:06.668Z"
   },
   {
    "duration": 907,
    "start_time": "2024-02-07T14:47:08.188Z"
   },
   {
    "duration": 158,
    "start_time": "2024-02-07T14:47:09.097Z"
   },
   {
    "duration": 31,
    "start_time": "2024-02-07T14:47:09.257Z"
   },
   {
    "duration": 5,
    "start_time": "2024-02-07T14:47:09.290Z"
   },
   {
    "duration": 68,
    "start_time": "2024-02-07T14:47:09.296Z"
   },
   {
    "duration": 24,
    "start_time": "2024-02-07T14:47:09.366Z"
   },
   {
    "duration": 318,
    "start_time": "2024-02-07T14:47:09.392Z"
   },
   {
    "duration": 122,
    "start_time": "2024-02-07T14:47:09.712Z"
   },
   {
    "duration": 327,
    "start_time": "2024-02-07T14:47:09.837Z"
   },
   {
    "duration": 397,
    "start_time": "2024-02-07T14:47:10.165Z"
   },
   {
    "duration": 277,
    "start_time": "2024-02-07T14:47:10.563Z"
   },
   {
    "duration": 17,
    "start_time": "2024-02-07T14:47:10.842Z"
   },
   {
    "duration": 21,
    "start_time": "2024-02-07T14:47:10.861Z"
   },
   {
    "duration": 32,
    "start_time": "2024-02-07T14:47:10.883Z"
   },
   {
    "duration": 238,
    "start_time": "2024-02-07T14:47:10.917Z"
   },
   {
    "duration": 47,
    "start_time": "2024-02-07T14:47:11.156Z"
   },
   {
    "duration": 96,
    "start_time": "2024-02-07T14:47:11.205Z"
   },
   {
    "duration": 16,
    "start_time": "2024-02-07T14:47:11.302Z"
   },
   {
    "duration": 31,
    "start_time": "2024-02-07T14:47:11.319Z"
   },
   {
    "duration": 222,
    "start_time": "2024-02-07T14:47:11.351Z"
   },
   {
    "duration": 33,
    "start_time": "2024-02-07T14:47:11.574Z"
   },
   {
    "duration": 94,
    "start_time": "2024-02-07T14:47:11.609Z"
   },
   {
    "duration": 16,
    "start_time": "2024-02-07T14:47:11.704Z"
   },
   {
    "duration": 26,
    "start_time": "2024-02-07T14:47:11.722Z"
   },
   {
    "duration": 302,
    "start_time": "2024-02-07T14:47:11.750Z"
   },
   {
    "duration": 90,
    "start_time": "2024-02-07T14:47:12.054Z"
   },
   {
    "duration": 16,
    "start_time": "2024-02-07T14:47:12.148Z"
   },
   {
    "duration": 19,
    "start_time": "2024-02-07T14:47:12.166Z"
   },
   {
    "duration": 95,
    "start_time": "2024-02-07T14:47:12.187Z"
   },
   {
    "duration": 27,
    "start_time": "2024-02-07T14:47:12.284Z"
   },
   {
    "duration": 45,
    "start_time": "2024-02-07T14:47:12.313Z"
   },
   {
    "duration": 43,
    "start_time": "2024-02-07T14:47:12.360Z"
   },
   {
    "duration": 40,
    "start_time": "2024-02-07T14:47:12.405Z"
   },
   {
    "duration": 325,
    "start_time": "2024-02-07T14:47:12.446Z"
   },
   {
    "duration": 296,
    "start_time": "2024-02-07T14:47:12.772Z"
   },
   {
    "duration": 54,
    "start_time": "2024-02-07T14:47:13.070Z"
   },
   {
    "duration": 93,
    "start_time": "2024-02-07T14:47:13.126Z"
   },
   {
    "duration": 567,
    "start_time": "2024-02-07T14:47:13.220Z"
   },
   {
    "duration": 1444,
    "start_time": "2024-02-07T14:47:39.894Z"
   },
   {
    "duration": 954,
    "start_time": "2024-02-07T14:47:41.340Z"
   },
   {
    "duration": 158,
    "start_time": "2024-02-07T14:47:42.296Z"
   },
   {
    "duration": 32,
    "start_time": "2024-02-07T14:47:42.456Z"
   },
   {
    "duration": 3,
    "start_time": "2024-02-07T14:47:42.491Z"
   },
   {
    "duration": 65,
    "start_time": "2024-02-07T14:47:42.495Z"
   },
   {
    "duration": 33,
    "start_time": "2024-02-07T14:47:42.562Z"
   },
   {
    "duration": 326,
    "start_time": "2024-02-07T14:47:42.597Z"
   },
   {
    "duration": 126,
    "start_time": "2024-02-07T14:47:42.925Z"
   },
   {
    "duration": 359,
    "start_time": "2024-02-07T14:47:43.053Z"
   },
   {
    "duration": 402,
    "start_time": "2024-02-07T14:47:43.414Z"
   },
   {
    "duration": 326,
    "start_time": "2024-02-07T14:47:43.817Z"
   },
   {
    "duration": 24,
    "start_time": "2024-02-07T14:47:44.145Z"
   },
   {
    "duration": 7,
    "start_time": "2024-02-07T14:47:44.184Z"
   },
   {
    "duration": 37,
    "start_time": "2024-02-07T14:47:44.193Z"
   },
   {
    "duration": 252,
    "start_time": "2024-02-07T14:47:44.232Z"
   },
   {
    "duration": 43,
    "start_time": "2024-02-07T14:47:44.486Z"
   },
   {
    "duration": 107,
    "start_time": "2024-02-07T14:47:44.531Z"
   },
   {
    "duration": 17,
    "start_time": "2024-02-07T14:47:44.639Z"
   },
   {
    "duration": 48,
    "start_time": "2024-02-07T14:47:44.658Z"
   },
   {
    "duration": 211,
    "start_time": "2024-02-07T14:47:44.708Z"
   },
   {
    "duration": 28,
    "start_time": "2024-02-07T14:47:44.920Z"
   },
   {
    "duration": 95,
    "start_time": "2024-02-07T14:47:44.950Z"
   },
   {
    "duration": 15,
    "start_time": "2024-02-07T14:47:45.047Z"
   },
   {
    "duration": 50,
    "start_time": "2024-02-07T14:47:45.064Z"
   },
   {
    "duration": 308,
    "start_time": "2024-02-07T14:47:45.116Z"
   },
   {
    "duration": 104,
    "start_time": "2024-02-07T14:47:45.426Z"
   },
   {
    "duration": 20,
    "start_time": "2024-02-07T14:47:45.531Z"
   },
   {
    "duration": 4,
    "start_time": "2024-02-07T14:47:45.552Z"
   },
   {
    "duration": 118,
    "start_time": "2024-02-07T14:47:45.558Z"
   },
   {
    "duration": 27,
    "start_time": "2024-02-07T14:47:45.677Z"
   },
   {
    "duration": 21,
    "start_time": "2024-02-07T14:47:45.705Z"
   },
   {
    "duration": 39,
    "start_time": "2024-02-07T14:47:45.728Z"
   },
   {
    "duration": 51,
    "start_time": "2024-02-07T14:47:45.769Z"
   },
   {
    "duration": 287,
    "start_time": "2024-02-07T14:47:45.822Z"
   },
   {
    "duration": 287,
    "start_time": "2024-02-07T14:47:46.111Z"
   },
   {
    "duration": 31,
    "start_time": "2024-02-07T14:47:46.400Z"
   },
   {
    "duration": 77,
    "start_time": "2024-02-07T14:47:46.432Z"
   },
   {
    "duration": 622,
    "start_time": "2024-02-07T14:49:11.654Z"
   },
   {
    "duration": 1304,
    "start_time": "2024-02-07T14:49:19.957Z"
   },
   {
    "duration": 173,
    "start_time": "2024-02-07T14:49:27.257Z"
   },
   {
    "duration": 473,
    "start_time": "2024-02-07T14:50:27.294Z"
   },
   {
    "duration": 3,
    "start_time": "2024-02-07T14:52:07.077Z"
   },
   {
    "duration": 18,
    "start_time": "2024-02-07T14:52:31.548Z"
   },
   {
    "duration": 148,
    "start_time": "2024-02-07T14:53:18.202Z"
   },
   {
    "duration": 1489,
    "start_time": "2024-02-07T14:54:32.922Z"
   },
   {
    "duration": 938,
    "start_time": "2024-02-07T14:54:34.413Z"
   },
   {
    "duration": 157,
    "start_time": "2024-02-07T14:54:35.353Z"
   },
   {
    "duration": 17,
    "start_time": "2024-02-07T14:54:35.512Z"
   },
   {
    "duration": 4,
    "start_time": "2024-02-07T14:54:35.530Z"
   },
   {
    "duration": 77,
    "start_time": "2024-02-07T14:54:35.535Z"
   },
   {
    "duration": 21,
    "start_time": "2024-02-07T14:54:35.613Z"
   },
   {
    "duration": 325,
    "start_time": "2024-02-07T14:54:35.636Z"
   },
   {
    "duration": 119,
    "start_time": "2024-02-07T14:54:35.963Z"
   },
   {
    "duration": 338,
    "start_time": "2024-02-07T14:54:36.084Z"
   },
   {
    "duration": 496,
    "start_time": "2024-02-07T14:54:36.423Z"
   },
   {
    "duration": 287,
    "start_time": "2024-02-07T14:54:36.920Z"
   },
   {
    "duration": 17,
    "start_time": "2024-02-07T14:54:37.209Z"
   },
   {
    "duration": 5,
    "start_time": "2024-02-07T14:54:37.228Z"
   },
   {
    "duration": 59,
    "start_time": "2024-02-07T14:54:37.235Z"
   },
   {
    "duration": 228,
    "start_time": "2024-02-07T14:54:37.296Z"
   },
   {
    "duration": 42,
    "start_time": "2024-02-07T14:54:37.526Z"
   },
   {
    "duration": 101,
    "start_time": "2024-02-07T14:54:37.570Z"
   },
   {
    "duration": 17,
    "start_time": "2024-02-07T14:54:37.681Z"
   },
   {
    "duration": 30,
    "start_time": "2024-02-07T14:54:37.700Z"
   },
   {
    "duration": 253,
    "start_time": "2024-02-07T14:54:37.732Z"
   },
   {
    "duration": 28,
    "start_time": "2024-02-07T14:54:37.986Z"
   },
   {
    "duration": 122,
    "start_time": "2024-02-07T14:54:38.017Z"
   },
   {
    "duration": 17,
    "start_time": "2024-02-07T14:54:38.141Z"
   },
   {
    "duration": 42,
    "start_time": "2024-02-07T14:54:38.160Z"
   },
   {
    "duration": 283,
    "start_time": "2024-02-07T14:54:38.204Z"
   },
   {
    "duration": 106,
    "start_time": "2024-02-07T14:54:38.488Z"
   },
   {
    "duration": 16,
    "start_time": "2024-02-07T14:54:38.599Z"
   },
   {
    "duration": 4,
    "start_time": "2024-02-07T14:54:38.617Z"
   },
   {
    "duration": 106,
    "start_time": "2024-02-07T14:54:38.622Z"
   },
   {
    "duration": 19,
    "start_time": "2024-02-07T14:54:38.730Z"
   },
   {
    "duration": 39,
    "start_time": "2024-02-07T14:54:38.751Z"
   },
   {
    "duration": 22,
    "start_time": "2024-02-07T14:54:38.792Z"
   },
   {
    "duration": 36,
    "start_time": "2024-02-07T14:54:38.815Z"
   },
   {
    "duration": 327,
    "start_time": "2024-02-07T14:54:38.852Z"
   },
   {
    "duration": 312,
    "start_time": "2024-02-07T14:54:39.181Z"
   },
   {
    "duration": 35,
    "start_time": "2024-02-07T14:54:39.495Z"
   },
   {
    "duration": 79,
    "start_time": "2024-02-07T14:54:39.531Z"
   },
   {
    "duration": 570,
    "start_time": "2024-02-07T14:54:39.612Z"
   },
   {
    "duration": 184,
    "start_time": "2024-02-07T14:54:40.183Z"
   },
   {
    "duration": 493,
    "start_time": "2024-02-07T14:54:40.368Z"
   },
   {
    "duration": 2,
    "start_time": "2024-02-07T14:54:40.863Z"
   },
   {
    "duration": 137,
    "start_time": "2024-02-07T14:54:40.867Z"
   },
   {
    "duration": 0,
    "start_time": "2024-02-07T14:54:41.005Z"
   },
   {
    "duration": 15,
    "start_time": "2024-02-07T14:54:48.457Z"
   },
   {
    "duration": 167,
    "start_time": "2024-02-07T14:54:49.655Z"
   },
   {
    "duration": 150,
    "start_time": "2024-02-07T14:56:46.498Z"
   },
   {
    "duration": 40,
    "start_time": "2024-02-07T14:57:39.795Z"
   },
   {
    "duration": 146,
    "start_time": "2024-02-07T14:57:48.061Z"
   },
   {
    "duration": 1528,
    "start_time": "2024-02-07T14:58:34.170Z"
   },
   {
    "duration": 943,
    "start_time": "2024-02-07T14:58:35.700Z"
   },
   {
    "duration": 162,
    "start_time": "2024-02-07T14:58:36.645Z"
   },
   {
    "duration": 18,
    "start_time": "2024-02-07T14:58:36.809Z"
   },
   {
    "duration": 3,
    "start_time": "2024-02-07T14:58:36.828Z"
   },
   {
    "duration": 78,
    "start_time": "2024-02-07T14:58:36.833Z"
   },
   {
    "duration": 21,
    "start_time": "2024-02-07T14:58:36.912Z"
   },
   {
    "duration": 324,
    "start_time": "2024-02-07T14:58:36.935Z"
   },
   {
    "duration": 110,
    "start_time": "2024-02-07T14:58:37.260Z"
   },
   {
    "duration": 333,
    "start_time": "2024-02-07T14:58:37.381Z"
   },
   {
    "duration": 408,
    "start_time": "2024-02-07T14:58:37.716Z"
   },
   {
    "duration": 276,
    "start_time": "2024-02-07T14:58:38.126Z"
   },
   {
    "duration": 17,
    "start_time": "2024-02-07T14:58:38.404Z"
   },
   {
    "duration": 5,
    "start_time": "2024-02-07T14:58:38.422Z"
   },
   {
    "duration": 53,
    "start_time": "2024-02-07T14:58:38.429Z"
   },
   {
    "duration": 225,
    "start_time": "2024-02-07T14:58:38.484Z"
   },
   {
    "duration": 43,
    "start_time": "2024-02-07T14:58:38.710Z"
   },
   {
    "duration": 103,
    "start_time": "2024-02-07T14:58:38.754Z"
   },
   {
    "duration": 27,
    "start_time": "2024-02-07T14:58:38.859Z"
   },
   {
    "duration": 28,
    "start_time": "2024-02-07T14:58:38.888Z"
   },
   {
    "duration": 232,
    "start_time": "2024-02-07T14:58:38.917Z"
   },
   {
    "duration": 34,
    "start_time": "2024-02-07T14:58:39.151Z"
   },
   {
    "duration": 80,
    "start_time": "2024-02-07T14:58:39.186Z"
   },
   {
    "duration": 26,
    "start_time": "2024-02-07T14:58:39.267Z"
   },
   {
    "duration": 25,
    "start_time": "2024-02-07T14:58:39.295Z"
   },
   {
    "duration": 288,
    "start_time": "2024-02-07T14:58:39.321Z"
   },
   {
    "duration": 86,
    "start_time": "2024-02-07T14:58:39.611Z"
   },
   {
    "duration": 16,
    "start_time": "2024-02-07T14:58:39.701Z"
   },
   {
    "duration": 4,
    "start_time": "2024-02-07T14:58:39.718Z"
   },
   {
    "duration": 101,
    "start_time": "2024-02-07T14:58:39.724Z"
   },
   {
    "duration": 21,
    "start_time": "2024-02-07T14:58:39.827Z"
   },
   {
    "duration": 38,
    "start_time": "2024-02-07T14:58:39.849Z"
   },
   {
    "duration": 20,
    "start_time": "2024-02-07T14:58:39.888Z"
   },
   {
    "duration": 34,
    "start_time": "2024-02-07T14:58:39.910Z"
   },
   {
    "duration": 340,
    "start_time": "2024-02-07T14:58:39.945Z"
   },
   {
    "duration": 303,
    "start_time": "2024-02-07T14:58:40.287Z"
   },
   {
    "duration": 30,
    "start_time": "2024-02-07T14:58:40.592Z"
   },
   {
    "duration": 71,
    "start_time": "2024-02-07T14:58:40.623Z"
   },
   {
    "duration": 550,
    "start_time": "2024-02-07T14:58:40.696Z"
   },
   {
    "duration": 182,
    "start_time": "2024-02-07T14:58:41.247Z"
   },
   {
    "duration": 515,
    "start_time": "2024-02-07T14:58:41.431Z"
   },
   {
    "duration": 3,
    "start_time": "2024-02-07T14:58:41.948Z"
   },
   {
    "duration": 23,
    "start_time": "2024-02-07T14:58:41.952Z"
   },
   {
    "duration": 38,
    "start_time": "2024-02-07T14:58:41.982Z"
   },
   {
    "duration": 155,
    "start_time": "2024-02-07T14:58:42.023Z"
   },
   {
    "duration": 2,
    "start_time": "2024-02-07T15:00:44.545Z"
   },
   {
    "duration": 12,
    "start_time": "2024-02-07T15:01:02.679Z"
   },
   {
    "duration": 112,
    "start_time": "2024-02-07T15:01:43.012Z"
   },
   {
    "duration": 1592,
    "start_time": "2024-02-07T16:16:42.086Z"
   },
   {
    "duration": 933,
    "start_time": "2024-02-07T16:16:43.680Z"
   },
   {
    "duration": 173,
    "start_time": "2024-02-07T16:16:44.614Z"
   },
   {
    "duration": 22,
    "start_time": "2024-02-07T16:16:44.789Z"
   },
   {
    "duration": 4,
    "start_time": "2024-02-07T16:16:44.813Z"
   },
   {
    "duration": 73,
    "start_time": "2024-02-07T16:16:44.819Z"
   },
   {
    "duration": 22,
    "start_time": "2024-02-07T16:16:44.894Z"
   },
   {
    "duration": 327,
    "start_time": "2024-02-07T16:16:44.917Z"
   },
   {
    "duration": 110,
    "start_time": "2024-02-07T16:16:45.246Z"
   },
   {
    "duration": 323,
    "start_time": "2024-02-07T16:16:45.359Z"
   },
   {
    "duration": 421,
    "start_time": "2024-02-07T16:16:45.684Z"
   },
   {
    "duration": 281,
    "start_time": "2024-02-07T16:16:46.107Z"
   },
   {
    "duration": 18,
    "start_time": "2024-02-07T16:16:46.389Z"
   },
   {
    "duration": 6,
    "start_time": "2024-02-07T16:16:46.409Z"
   },
   {
    "duration": 44,
    "start_time": "2024-02-07T16:16:46.416Z"
   },
   {
    "duration": 242,
    "start_time": "2024-02-07T16:16:46.462Z"
   },
   {
    "duration": 42,
    "start_time": "2024-02-07T16:16:46.705Z"
   },
   {
    "duration": 103,
    "start_time": "2024-02-07T16:16:46.749Z"
   },
   {
    "duration": 29,
    "start_time": "2024-02-07T16:16:46.854Z"
   },
   {
    "duration": 29,
    "start_time": "2024-02-07T16:16:46.885Z"
   },
   {
    "duration": 219,
    "start_time": "2024-02-07T16:16:46.915Z"
   },
   {
    "duration": 46,
    "start_time": "2024-02-07T16:16:47.136Z"
   },
   {
    "duration": 85,
    "start_time": "2024-02-07T16:16:47.184Z"
   },
   {
    "duration": 24,
    "start_time": "2024-02-07T16:16:47.271Z"
   },
   {
    "duration": 43,
    "start_time": "2024-02-07T16:16:47.296Z"
   },
   {
    "duration": 281,
    "start_time": "2024-02-07T16:16:47.341Z"
   },
   {
    "duration": 93,
    "start_time": "2024-02-07T16:16:47.624Z"
   },
   {
    "duration": 16,
    "start_time": "2024-02-07T16:16:47.720Z"
   },
   {
    "duration": 25,
    "start_time": "2024-02-07T16:16:47.738Z"
   },
   {
    "duration": 104,
    "start_time": "2024-02-07T16:16:47.764Z"
   },
   {
    "duration": 27,
    "start_time": "2024-02-07T16:16:47.869Z"
   },
   {
    "duration": 30,
    "start_time": "2024-02-07T16:16:47.897Z"
   },
   {
    "duration": 22,
    "start_time": "2024-02-07T16:16:47.929Z"
   },
   {
    "duration": 37,
    "start_time": "2024-02-07T16:16:47.953Z"
   },
   {
    "duration": 308,
    "start_time": "2024-02-07T16:16:47.992Z"
   },
   {
    "duration": 301,
    "start_time": "2024-02-07T16:16:48.302Z"
   },
   {
    "duration": 30,
    "start_time": "2024-02-07T16:16:48.605Z"
   },
   {
    "duration": 78,
    "start_time": "2024-02-07T16:16:48.637Z"
   },
   {
    "duration": 529,
    "start_time": "2024-02-07T16:16:48.716Z"
   },
   {
    "duration": 180,
    "start_time": "2024-02-07T16:16:49.246Z"
   },
   {
    "duration": 515,
    "start_time": "2024-02-07T16:16:49.428Z"
   },
   {
    "duration": 3,
    "start_time": "2024-02-07T16:16:49.945Z"
   },
   {
    "duration": 26,
    "start_time": "2024-02-07T16:16:49.950Z"
   },
   {
    "duration": 40,
    "start_time": "2024-02-07T16:16:49.982Z"
   },
   {
    "duration": 165,
    "start_time": "2024-02-07T16:16:50.024Z"
   },
   {
    "duration": 3,
    "start_time": "2024-02-07T16:16:50.191Z"
   },
   {
    "duration": 18,
    "start_time": "2024-02-07T16:16:50.196Z"
   },
   {
    "duration": 113,
    "start_time": "2024-02-07T16:16:50.216Z"
   },
   {
    "duration": 3,
    "start_time": "2024-02-07T16:25:47.614Z"
   },
   {
    "duration": 4,
    "start_time": "2024-02-07T16:27:05.330Z"
   },
   {
    "duration": 23480,
    "start_time": "2024-02-07T16:28:41.709Z"
   },
   {
    "duration": 135,
    "start_time": "2024-02-07T16:30:43.507Z"
   },
   {
    "duration": 10,
    "start_time": "2024-02-07T16:30:53.972Z"
   },
   {
    "duration": 97,
    "start_time": "2024-02-07T16:31:01.409Z"
   },
   {
    "duration": 3,
    "start_time": "2024-02-07T16:33:58.272Z"
   },
   {
    "duration": 103,
    "start_time": "2024-02-07T16:36:45.264Z"
   },
   {
    "duration": 74386,
    "start_time": "2024-02-07T16:37:05.032Z"
   },
   {
    "duration": 111,
    "start_time": "2024-02-07T16:38:19.421Z"
   },
   {
    "duration": 1536,
    "start_time": "2024-02-07T16:41:38.948Z"
   },
   {
    "duration": 963,
    "start_time": "2024-02-07T16:41:40.486Z"
   },
   {
    "duration": 160,
    "start_time": "2024-02-07T16:41:41.451Z"
   },
   {
    "duration": 16,
    "start_time": "2024-02-07T16:41:41.613Z"
   },
   {
    "duration": 3,
    "start_time": "2024-02-07T16:41:41.631Z"
   },
   {
    "duration": 75,
    "start_time": "2024-02-07T16:41:41.636Z"
   },
   {
    "duration": 21,
    "start_time": "2024-02-07T16:41:41.712Z"
   },
   {
    "duration": 324,
    "start_time": "2024-02-07T16:41:41.734Z"
   },
   {
    "duration": 112,
    "start_time": "2024-02-07T16:41:42.059Z"
   },
   {
    "duration": 361,
    "start_time": "2024-02-07T16:41:42.173Z"
   },
   {
    "duration": 412,
    "start_time": "2024-02-07T16:41:42.536Z"
   },
   {
    "duration": 292,
    "start_time": "2024-02-07T16:41:42.950Z"
   },
   {
    "duration": 17,
    "start_time": "2024-02-07T16:41:43.244Z"
   },
   {
    "duration": 5,
    "start_time": "2024-02-07T16:41:43.263Z"
   },
   {
    "duration": 34,
    "start_time": "2024-02-07T16:41:43.282Z"
   },
   {
    "duration": 242,
    "start_time": "2024-02-07T16:41:43.317Z"
   },
   {
    "duration": 48,
    "start_time": "2024-02-07T16:41:43.561Z"
   },
   {
    "duration": 107,
    "start_time": "2024-02-07T16:41:43.611Z"
   },
   {
    "duration": 17,
    "start_time": "2024-02-07T16:41:43.720Z"
   },
   {
    "duration": 46,
    "start_time": "2024-02-07T16:41:43.739Z"
   },
   {
    "duration": 233,
    "start_time": "2024-02-07T16:41:43.786Z"
   },
   {
    "duration": 29,
    "start_time": "2024-02-07T16:41:44.021Z"
   },
   {
    "duration": 97,
    "start_time": "2024-02-07T16:41:44.052Z"
   },
   {
    "duration": 31,
    "start_time": "2024-02-07T16:41:44.152Z"
   },
   {
    "duration": 26,
    "start_time": "2024-02-07T16:41:44.185Z"
   },
   {
    "duration": 292,
    "start_time": "2024-02-07T16:41:44.213Z"
   },
   {
    "duration": 88,
    "start_time": "2024-02-07T16:41:44.508Z"
   },
   {
    "duration": 16,
    "start_time": "2024-02-07T16:41:44.600Z"
   },
   {
    "duration": 12,
    "start_time": "2024-02-07T16:41:44.618Z"
   },
   {
    "duration": 115,
    "start_time": "2024-02-07T16:41:44.632Z"
   },
   {
    "duration": 19,
    "start_time": "2024-02-07T16:41:44.749Z"
   },
   {
    "duration": 28,
    "start_time": "2024-02-07T16:41:44.769Z"
   },
   {
    "duration": 19,
    "start_time": "2024-02-07T16:41:44.799Z"
   },
   {
    "duration": 39,
    "start_time": "2024-02-07T16:41:44.820Z"
   },
   {
    "duration": 346,
    "start_time": "2024-02-07T16:41:44.860Z"
   },
   {
    "duration": 299,
    "start_time": "2024-02-07T16:41:45.208Z"
   },
   {
    "duration": 31,
    "start_time": "2024-02-07T16:41:45.508Z"
   },
   {
    "duration": 74,
    "start_time": "2024-02-07T16:41:45.541Z"
   },
   {
    "duration": 553,
    "start_time": "2024-02-07T16:41:45.617Z"
   },
   {
    "duration": 185,
    "start_time": "2024-02-07T16:41:46.172Z"
   },
   {
    "duration": 485,
    "start_time": "2024-02-07T16:41:46.359Z"
   },
   {
    "duration": 3,
    "start_time": "2024-02-07T16:41:46.845Z"
   },
   {
    "duration": 16,
    "start_time": "2024-02-07T16:41:46.849Z"
   },
   {
    "duration": 51,
    "start_time": "2024-02-07T16:41:46.867Z"
   },
   {
    "duration": 154,
    "start_time": "2024-02-07T16:41:46.919Z"
   },
   {
    "duration": 7,
    "start_time": "2024-02-07T16:41:47.075Z"
   },
   {
    "duration": 20,
    "start_time": "2024-02-07T16:41:47.084Z"
   },
   {
    "duration": 102,
    "start_time": "2024-02-07T16:41:47.105Z"
   },
   {
    "duration": 3,
    "start_time": "2024-02-07T16:41:47.208Z"
   },
   {
    "duration": 20481,
    "start_time": "2024-02-07T16:41:47.212Z"
   },
   {
    "duration": 124,
    "start_time": "2024-02-07T16:42:07.783Z"
   },
   {
    "duration": 75,
    "start_time": "2024-02-07T16:42:07.909Z"
   },
   {
    "duration": 36159,
    "start_time": "2024-02-07T16:42:07.986Z"
   },
   {
    "duration": 1519,
    "start_time": "2024-02-07T16:43:49.656Z"
   },
   {
    "duration": 999,
    "start_time": "2024-02-07T16:43:51.178Z"
   },
   {
    "duration": 170,
    "start_time": "2024-02-07T16:43:52.178Z"
   },
   {
    "duration": 33,
    "start_time": "2024-02-07T16:43:52.350Z"
   },
   {
    "duration": 16,
    "start_time": "2024-02-07T16:43:52.385Z"
   },
   {
    "duration": 87,
    "start_time": "2024-02-07T16:43:52.403Z"
   },
   {
    "duration": 24,
    "start_time": "2024-02-07T16:43:52.491Z"
   },
   {
    "duration": 356,
    "start_time": "2024-02-07T16:43:52.517Z"
   },
   {
    "duration": 121,
    "start_time": "2024-02-07T16:43:52.875Z"
   },
   {
    "duration": 391,
    "start_time": "2024-02-07T16:43:53.000Z"
   },
   {
    "duration": 431,
    "start_time": "2024-02-07T16:43:53.393Z"
   },
   {
    "duration": 298,
    "start_time": "2024-02-07T16:43:53.826Z"
   },
   {
    "duration": 17,
    "start_time": "2024-02-07T16:43:54.126Z"
   },
   {
    "duration": 5,
    "start_time": "2024-02-07T16:43:54.145Z"
   },
   {
    "duration": 52,
    "start_time": "2024-02-07T16:43:54.151Z"
   },
   {
    "duration": 234,
    "start_time": "2024-02-07T16:43:54.205Z"
   },
   {
    "duration": 48,
    "start_time": "2024-02-07T16:43:54.441Z"
   },
   {
    "duration": 101,
    "start_time": "2024-02-07T16:43:54.491Z"
   },
   {
    "duration": 17,
    "start_time": "2024-02-07T16:43:54.594Z"
   },
   {
    "duration": 29,
    "start_time": "2024-02-07T16:43:54.613Z"
   },
   {
    "duration": 254,
    "start_time": "2024-02-07T16:43:54.644Z"
   },
   {
    "duration": 35,
    "start_time": "2024-02-07T16:43:54.900Z"
   },
   {
    "duration": 113,
    "start_time": "2024-02-07T16:43:54.937Z"
   },
   {
    "duration": 15,
    "start_time": "2024-02-07T16:43:55.052Z"
   },
   {
    "duration": 37,
    "start_time": "2024-02-07T16:43:55.068Z"
   },
   {
    "duration": 288,
    "start_time": "2024-02-07T16:43:55.106Z"
   },
   {
    "duration": 89,
    "start_time": "2024-02-07T16:43:55.396Z"
   },
   {
    "duration": 17,
    "start_time": "2024-02-07T16:43:55.488Z"
   },
   {
    "duration": 5,
    "start_time": "2024-02-07T16:43:55.506Z"
   },
   {
    "duration": 108,
    "start_time": "2024-02-07T16:43:55.512Z"
   },
   {
    "duration": 20,
    "start_time": "2024-02-07T16:43:55.621Z"
   },
   {
    "duration": 21,
    "start_time": "2024-02-07T16:43:55.642Z"
   },
   {
    "duration": 49,
    "start_time": "2024-02-07T16:43:55.664Z"
   },
   {
    "duration": 44,
    "start_time": "2024-02-07T16:43:55.715Z"
   },
   {
    "duration": 332,
    "start_time": "2024-02-07T16:43:55.761Z"
   },
   {
    "duration": 296,
    "start_time": "2024-02-07T16:43:56.094Z"
   },
   {
    "duration": 32,
    "start_time": "2024-02-07T16:43:56.392Z"
   },
   {
    "duration": 77,
    "start_time": "2024-02-07T16:43:56.426Z"
   },
   {
    "duration": 569,
    "start_time": "2024-02-07T16:43:56.504Z"
   },
   {
    "duration": 184,
    "start_time": "2024-02-07T16:43:57.074Z"
   },
   {
    "duration": 500,
    "start_time": "2024-02-07T16:43:57.259Z"
   },
   {
    "duration": 3,
    "start_time": "2024-02-07T16:43:57.761Z"
   },
   {
    "duration": 23,
    "start_time": "2024-02-07T16:43:57.766Z"
   },
   {
    "duration": 40,
    "start_time": "2024-02-07T16:43:57.791Z"
   },
   {
    "duration": 168,
    "start_time": "2024-02-07T16:43:57.833Z"
   },
   {
    "duration": 3,
    "start_time": "2024-02-07T16:43:58.003Z"
   },
   {
    "duration": 31,
    "start_time": "2024-02-07T16:43:58.008Z"
   },
   {
    "duration": 108,
    "start_time": "2024-02-07T16:43:58.040Z"
   },
   {
    "duration": 3,
    "start_time": "2024-02-07T16:43:58.149Z"
   },
   {
    "duration": 23736,
    "start_time": "2024-02-07T16:43:58.153Z"
   },
   {
    "duration": 296,
    "start_time": "2024-02-07T16:44:21.891Z"
   },
   {
    "duration": 3,
    "start_time": "2024-02-07T16:44:22.189Z"
   },
   {
    "duration": 73874,
    "start_time": "2024-02-07T16:44:22.194Z"
   },
   {
    "duration": 114,
    "start_time": "2024-02-07T16:49:41.196Z"
   },
   {
    "duration": 3,
    "start_time": "2024-02-07T16:51:37.579Z"
   },
   {
    "duration": 135088,
    "start_time": "2024-02-07T16:53:11.131Z"
   },
   {
    "duration": 1445,
    "start_time": "2024-02-07T16:55:30.920Z"
   },
   {
    "duration": 976,
    "start_time": "2024-02-07T16:55:32.366Z"
   },
   {
    "duration": 157,
    "start_time": "2024-02-07T16:55:33.344Z"
   },
   {
    "duration": 40,
    "start_time": "2024-02-07T16:55:33.503Z"
   },
   {
    "duration": 14,
    "start_time": "2024-02-07T16:55:33.544Z"
   },
   {
    "duration": 57,
    "start_time": "2024-02-07T16:55:33.560Z"
   },
   {
    "duration": 21,
    "start_time": "2024-02-07T16:55:33.618Z"
   },
   {
    "duration": 330,
    "start_time": "2024-02-07T16:55:33.641Z"
   },
   {
    "duration": 116,
    "start_time": "2024-02-07T16:55:33.972Z"
   },
   {
    "duration": 326,
    "start_time": "2024-02-07T16:55:34.092Z"
   },
   {
    "duration": 406,
    "start_time": "2024-02-07T16:55:34.420Z"
   },
   {
    "duration": 287,
    "start_time": "2024-02-07T16:55:34.828Z"
   },
   {
    "duration": 16,
    "start_time": "2024-02-07T16:55:35.116Z"
   },
   {
    "duration": 5,
    "start_time": "2024-02-07T16:55:35.134Z"
   },
   {
    "duration": 51,
    "start_time": "2024-02-07T16:55:35.140Z"
   },
   {
    "duration": 230,
    "start_time": "2024-02-07T16:55:35.192Z"
   },
   {
    "duration": 40,
    "start_time": "2024-02-07T16:55:35.423Z"
   },
   {
    "duration": 97,
    "start_time": "2024-02-07T16:55:35.465Z"
   },
   {
    "duration": 22,
    "start_time": "2024-02-07T16:55:35.564Z"
   },
   {
    "duration": 29,
    "start_time": "2024-02-07T16:55:35.588Z"
   },
   {
    "duration": 225,
    "start_time": "2024-02-07T16:55:35.619Z"
   },
   {
    "duration": 39,
    "start_time": "2024-02-07T16:55:35.846Z"
   },
   {
    "duration": 101,
    "start_time": "2024-02-07T16:55:35.887Z"
   },
   {
    "duration": 16,
    "start_time": "2024-02-07T16:55:35.990Z"
   },
   {
    "duration": 25,
    "start_time": "2024-02-07T16:55:36.007Z"
   },
   {
    "duration": 290,
    "start_time": "2024-02-07T16:55:36.033Z"
   },
   {
    "duration": 87,
    "start_time": "2024-02-07T16:55:36.324Z"
   },
   {
    "duration": 17,
    "start_time": "2024-02-07T16:55:36.414Z"
   },
   {
    "duration": 4,
    "start_time": "2024-02-07T16:55:36.432Z"
   },
   {
    "duration": 103,
    "start_time": "2024-02-07T16:55:36.437Z"
   },
   {
    "duration": 19,
    "start_time": "2024-02-07T16:55:36.542Z"
   },
   {
    "duration": 34,
    "start_time": "2024-02-07T16:55:36.563Z"
   },
   {
    "duration": 48,
    "start_time": "2024-02-07T16:55:36.599Z"
   },
   {
    "duration": 38,
    "start_time": "2024-02-07T16:55:36.649Z"
   },
   {
    "duration": 304,
    "start_time": "2024-02-07T16:55:36.689Z"
   },
   {
    "duration": 294,
    "start_time": "2024-02-07T16:55:36.994Z"
   },
   {
    "duration": 35,
    "start_time": "2024-02-07T16:55:37.290Z"
   },
   {
    "duration": 74,
    "start_time": "2024-02-07T16:55:37.326Z"
   },
   {
    "duration": 575,
    "start_time": "2024-02-07T16:55:37.402Z"
   },
   {
    "duration": 189,
    "start_time": "2024-02-07T16:55:37.978Z"
   },
   {
    "duration": 495,
    "start_time": "2024-02-07T16:55:38.168Z"
   },
   {
    "duration": 3,
    "start_time": "2024-02-07T16:55:38.664Z"
   },
   {
    "duration": 23,
    "start_time": "2024-02-07T16:55:38.669Z"
   },
   {
    "duration": 42,
    "start_time": "2024-02-07T16:55:38.693Z"
   },
   {
    "duration": 171,
    "start_time": "2024-02-07T16:55:38.736Z"
   },
   {
    "duration": 3,
    "start_time": "2024-02-07T16:55:38.908Z"
   },
   {
    "duration": 13,
    "start_time": "2024-02-07T16:55:38.913Z"
   },
   {
    "duration": 128,
    "start_time": "2024-02-07T16:55:38.928Z"
   },
   {
    "duration": 3,
    "start_time": "2024-02-07T16:55:39.058Z"
   },
   {
    "duration": 20529,
    "start_time": "2024-02-07T16:55:39.062Z"
   },
   {
    "duration": 201,
    "start_time": "2024-02-07T16:55:59.593Z"
   },
   {
    "duration": 87,
    "start_time": "2024-02-07T16:55:59.796Z"
   },
   {
    "duration": 11,
    "start_time": "2024-02-07T16:55:59.885Z"
   },
   {
    "duration": 72293,
    "start_time": "2024-02-07T16:55:59.983Z"
   },
   {
    "duration": 113,
    "start_time": "2024-02-07T16:57:12.277Z"
   },
   {
    "duration": 2,
    "start_time": "2024-02-07T16:57:12.392Z"
   },
   {
    "duration": 5,
    "start_time": "2024-02-07T16:57:12.395Z"
   },
   {
    "duration": 136547,
    "start_time": "2024-02-07T16:57:12.401Z"
   },
   {
    "duration": 406,
    "start_time": "2024-02-07T17:14:39.187Z"
   },
   {
    "duration": 3,
    "start_time": "2024-02-07T17:15:49.968Z"
   },
   {
    "duration": 124,
    "start_time": "2024-02-07T17:17:04.591Z"
   },
   {
    "duration": 6,
    "start_time": "2024-02-07T17:18:03.862Z"
   },
   {
    "duration": 12,
    "start_time": "2024-02-07T17:18:04.559Z"
   },
   {
    "duration": 76,
    "start_time": "2024-02-07T17:19:09.025Z"
   },
   {
    "duration": 120,
    "start_time": "2024-02-07T17:19:48.957Z"
   },
   {
    "duration": 102837,
    "start_time": "2024-02-07T17:19:55.658Z"
   },
   {
    "duration": 697,
    "start_time": "2024-02-07T17:21:38.497Z"
   },
   {
    "duration": 1579,
    "start_time": "2024-02-07T17:25:09.077Z"
   },
   {
    "duration": 935,
    "start_time": "2024-02-07T17:25:10.658Z"
   },
   {
    "duration": 156,
    "start_time": "2024-02-07T17:25:11.595Z"
   },
   {
    "duration": 29,
    "start_time": "2024-02-07T17:25:11.753Z"
   },
   {
    "duration": 4,
    "start_time": "2024-02-07T17:25:11.784Z"
   },
   {
    "duration": 57,
    "start_time": "2024-02-07T17:25:11.789Z"
   },
   {
    "duration": 55,
    "start_time": "2024-02-07T17:25:11.848Z"
   },
   {
    "duration": 315,
    "start_time": "2024-02-07T17:25:11.905Z"
   },
   {
    "duration": 115,
    "start_time": "2024-02-07T17:25:12.221Z"
   },
   {
    "duration": 393,
    "start_time": "2024-02-07T17:25:12.339Z"
   },
   {
    "duration": 415,
    "start_time": "2024-02-07T17:25:12.734Z"
   },
   {
    "duration": 314,
    "start_time": "2024-02-07T17:25:13.151Z"
   },
   {
    "duration": 28,
    "start_time": "2024-02-07T17:25:13.467Z"
   },
   {
    "duration": 5,
    "start_time": "2024-02-07T17:25:13.498Z"
   },
   {
    "duration": 35,
    "start_time": "2024-02-07T17:25:13.505Z"
   },
   {
    "duration": 247,
    "start_time": "2024-02-07T17:25:13.542Z"
   },
   {
    "duration": 45,
    "start_time": "2024-02-07T17:25:13.790Z"
   },
   {
    "duration": 104,
    "start_time": "2024-02-07T17:25:13.837Z"
   },
   {
    "duration": 17,
    "start_time": "2024-02-07T17:25:13.942Z"
   },
   {
    "duration": 43,
    "start_time": "2024-02-07T17:25:13.960Z"
   },
   {
    "duration": 227,
    "start_time": "2024-02-07T17:25:14.005Z"
   },
   {
    "duration": 28,
    "start_time": "2024-02-07T17:25:14.234Z"
   },
   {
    "duration": 104,
    "start_time": "2024-02-07T17:25:14.264Z"
   },
   {
    "duration": 27,
    "start_time": "2024-02-07T17:25:14.370Z"
   },
   {
    "duration": 29,
    "start_time": "2024-02-07T17:25:14.399Z"
   },
   {
    "duration": 341,
    "start_time": "2024-02-07T17:25:14.430Z"
   },
   {
    "duration": 88,
    "start_time": "2024-02-07T17:25:14.772Z"
   },
   {
    "duration": 26,
    "start_time": "2024-02-07T17:25:14.861Z"
   },
   {
    "duration": 4,
    "start_time": "2024-02-07T17:25:14.889Z"
   },
   {
    "duration": 109,
    "start_time": "2024-02-07T17:25:14.895Z"
   },
   {
    "duration": 20,
    "start_time": "2024-02-07T17:25:15.006Z"
   },
   {
    "duration": 50,
    "start_time": "2024-02-07T17:25:15.028Z"
   },
   {
    "duration": 27,
    "start_time": "2024-02-07T17:25:15.080Z"
   },
   {
    "duration": 53,
    "start_time": "2024-02-07T17:25:15.109Z"
   },
   {
    "duration": 307,
    "start_time": "2024-02-07T17:25:15.164Z"
   },
   {
    "duration": 285,
    "start_time": "2024-02-07T17:25:15.473Z"
   },
   {
    "duration": 33,
    "start_time": "2024-02-07T17:25:15.760Z"
   },
   {
    "duration": 66,
    "start_time": "2024-02-07T17:25:15.795Z"
   },
   {
    "duration": 575,
    "start_time": "2024-02-07T17:25:15.862Z"
   },
   {
    "duration": 183,
    "start_time": "2024-02-07T17:25:16.439Z"
   },
   {
    "duration": 478,
    "start_time": "2024-02-07T17:25:16.626Z"
   },
   {
    "duration": 3,
    "start_time": "2024-02-07T17:25:17.105Z"
   },
   {
    "duration": 14,
    "start_time": "2024-02-07T17:25:17.110Z"
   },
   {
    "duration": 37,
    "start_time": "2024-02-07T17:25:17.126Z"
   },
   {
    "duration": 152,
    "start_time": "2024-02-07T17:25:17.182Z"
   },
   {
    "duration": 2,
    "start_time": "2024-02-07T17:25:17.336Z"
   },
   {
    "duration": 20,
    "start_time": "2024-02-07T17:25:17.339Z"
   },
   {
    "duration": 123,
    "start_time": "2024-02-07T17:25:17.361Z"
   },
   {
    "duration": 3,
    "start_time": "2024-02-07T17:25:17.485Z"
   },
   {
    "duration": 21101,
    "start_time": "2024-02-07T17:25:17.489Z"
   },
   {
    "duration": 207,
    "start_time": "2024-02-07T17:25:38.592Z"
   },
   {
    "duration": 82,
    "start_time": "2024-02-07T17:25:38.801Z"
   },
   {
    "duration": 71968,
    "start_time": "2024-02-07T17:25:38.885Z"
   },
   {
    "duration": 128,
    "start_time": "2024-02-07T17:26:50.854Z"
   },
   {
    "duration": 3,
    "start_time": "2024-02-07T17:26:50.984Z"
   },
   {
    "duration": 134835,
    "start_time": "2024-02-07T17:26:50.989Z"
   },
   {
    "duration": 437,
    "start_time": "2024-02-07T17:29:05.826Z"
   },
   {
    "duration": 2,
    "start_time": "2024-02-07T17:29:06.265Z"
   },
   {
    "duration": 22,
    "start_time": "2024-02-07T17:29:06.269Z"
   },
   {
    "duration": 126,
    "start_time": "2024-02-07T17:29:06.293Z"
   },
   {
    "duration": 200080,
    "start_time": "2024-02-07T17:29:06.420Z"
   },
   {
    "duration": 715,
    "start_time": "2024-02-07T17:32:26.502Z"
   },
   {
    "duration": 77,
    "start_time": "2024-02-07T17:51:35.379Z"
   },
   {
    "duration": 94,
    "start_time": "2024-02-07T17:52:00.093Z"
   },
   {
    "duration": 110,
    "start_time": "2024-02-07T17:52:49.256Z"
   },
   {
    "duration": 129,
    "start_time": "2024-02-07T17:53:33.021Z"
   },
   {
    "duration": 432,
    "start_time": "2024-02-07T17:53:43.881Z"
   },
   {
    "duration": 701,
    "start_time": "2024-02-07T17:54:29.781Z"
   },
   {
    "duration": 1551,
    "start_time": "2024-02-07T18:18:42.100Z"
   },
   {
    "duration": 924,
    "start_time": "2024-02-07T18:18:43.653Z"
   },
   {
    "duration": 156,
    "start_time": "2024-02-07T18:18:44.578Z"
   },
   {
    "duration": 17,
    "start_time": "2024-02-07T18:18:44.736Z"
   },
   {
    "duration": 4,
    "start_time": "2024-02-07T18:18:44.755Z"
   },
   {
    "duration": 54,
    "start_time": "2024-02-07T18:18:44.782Z"
   },
   {
    "duration": 20,
    "start_time": "2024-02-07T18:18:44.838Z"
   },
   {
    "duration": 339,
    "start_time": "2024-02-07T18:18:44.860Z"
   },
   {
    "duration": 119,
    "start_time": "2024-02-07T18:18:45.200Z"
   },
   {
    "duration": 329,
    "start_time": "2024-02-07T18:18:45.322Z"
   },
   {
    "duration": 387,
    "start_time": "2024-02-07T18:18:45.653Z"
   },
   {
    "duration": 301,
    "start_time": "2024-02-07T18:18:46.042Z"
   },
   {
    "duration": 17,
    "start_time": "2024-02-07T18:18:46.345Z"
   },
   {
    "duration": 5,
    "start_time": "2024-02-07T18:18:46.364Z"
   },
   {
    "duration": 34,
    "start_time": "2024-02-07T18:18:46.383Z"
   },
   {
    "duration": 241,
    "start_time": "2024-02-07T18:18:46.419Z"
   },
   {
    "duration": 48,
    "start_time": "2024-02-07T18:18:46.661Z"
   },
   {
    "duration": 94,
    "start_time": "2024-02-07T18:18:46.711Z"
   },
   {
    "duration": 16,
    "start_time": "2024-02-07T18:18:46.807Z"
   },
   {
    "duration": 27,
    "start_time": "2024-02-07T18:18:46.825Z"
   },
   {
    "duration": 242,
    "start_time": "2024-02-07T18:18:46.854Z"
   },
   {
    "duration": 27,
    "start_time": "2024-02-07T18:18:47.098Z"
   },
   {
    "duration": 94,
    "start_time": "2024-02-07T18:18:47.127Z"
   },
   {
    "duration": 15,
    "start_time": "2024-02-07T18:18:47.223Z"
   },
   {
    "duration": 24,
    "start_time": "2024-02-07T18:18:47.240Z"
   },
   {
    "duration": 338,
    "start_time": "2024-02-07T18:18:47.266Z"
   },
   {
    "duration": 83,
    "start_time": "2024-02-07T18:18:47.606Z"
   },
   {
    "duration": 15,
    "start_time": "2024-02-07T18:18:47.693Z"
   },
   {
    "duration": 5,
    "start_time": "2024-02-07T18:18:47.710Z"
   },
   {
    "duration": 115,
    "start_time": "2024-02-07T18:18:47.717Z"
   },
   {
    "duration": 29,
    "start_time": "2024-02-07T18:18:47.834Z"
   },
   {
    "duration": 32,
    "start_time": "2024-02-07T18:18:47.865Z"
   },
   {
    "duration": 22,
    "start_time": "2024-02-07T18:18:47.899Z"
   },
   {
    "duration": 35,
    "start_time": "2024-02-07T18:18:47.923Z"
   },
   {
    "duration": 329,
    "start_time": "2024-02-07T18:18:47.960Z"
   },
   {
    "duration": 299,
    "start_time": "2024-02-07T18:18:48.291Z"
   },
   {
    "duration": 34,
    "start_time": "2024-02-07T18:18:48.592Z"
   },
   {
    "duration": 75,
    "start_time": "2024-02-07T18:18:48.628Z"
   },
   {
    "duration": 555,
    "start_time": "2024-02-07T18:18:48.704Z"
   },
   {
    "duration": 185,
    "start_time": "2024-02-07T18:18:49.260Z"
   },
   {
    "duration": 506,
    "start_time": "2024-02-07T18:18:49.447Z"
   },
   {
    "duration": 2,
    "start_time": "2024-02-07T18:18:49.955Z"
   },
   {
    "duration": 29,
    "start_time": "2024-02-07T18:18:49.959Z"
   },
   {
    "duration": 40,
    "start_time": "2024-02-07T18:18:49.990Z"
   },
   {
    "duration": 171,
    "start_time": "2024-02-07T18:18:50.032Z"
   },
   {
    "duration": 3,
    "start_time": "2024-02-07T18:18:50.205Z"
   },
   {
    "duration": 13,
    "start_time": "2024-02-07T18:18:50.209Z"
   },
   {
    "duration": 117,
    "start_time": "2024-02-07T18:18:50.224Z"
   },
   {
    "duration": 2,
    "start_time": "2024-02-07T18:18:50.343Z"
   },
   {
    "duration": 20845,
    "start_time": "2024-02-07T18:18:50.347Z"
   },
   {
    "duration": 116,
    "start_time": "2024-02-07T18:19:11.282Z"
   },
   {
    "duration": 86,
    "start_time": "2024-02-07T18:19:11.400Z"
   },
   {
    "duration": 71895,
    "start_time": "2024-02-07T18:19:11.489Z"
   },
   {
    "duration": 114,
    "start_time": "2024-02-07T18:20:23.386Z"
   },
   {
    "duration": 2,
    "start_time": "2024-02-07T18:20:23.502Z"
   },
   {
    "duration": 134373,
    "start_time": "2024-02-07T18:20:23.506Z"
   },
   {
    "duration": 403,
    "start_time": "2024-02-07T18:22:37.880Z"
   },
   {
    "duration": 3,
    "start_time": "2024-02-07T18:22:38.285Z"
   },
   {
    "duration": 27,
    "start_time": "2024-02-07T18:22:38.289Z"
   },
   {
    "duration": 113,
    "start_time": "2024-02-07T18:22:38.317Z"
   },
   {
    "duration": 111559,
    "start_time": "2024-02-07T18:22:38.431Z"
   },
   {
    "duration": 704,
    "start_time": "2024-02-07T18:24:29.991Z"
   },
   {
    "duration": 110,
    "start_time": "2024-02-07T18:24:30.696Z"
   },
   {
    "duration": 207,
    "start_time": "2024-02-07T18:24:30.883Z"
   },
   {
    "duration": 384,
    "start_time": "2024-02-07T18:24:31.092Z"
   },
   {
    "duration": 640,
    "start_time": "2024-02-07T18:24:31.477Z"
   },
   {
    "duration": 127,
    "start_time": "2024-02-08T12:26:34.176Z"
   },
   {
    "duration": 1610,
    "start_time": "2024-02-08T13:18:17.759Z"
   },
   {
    "duration": 136,
    "start_time": "2024-02-08T13:19:53.613Z"
   },
   {
    "duration": 5,
    "start_time": "2024-02-08T13:20:00.996Z"
   },
   {
    "duration": 6,
    "start_time": "2024-02-08T13:20:06.070Z"
   },
   {
    "duration": 2,
    "start_time": "2024-02-08T13:21:20.600Z"
   },
   {
    "duration": 6,
    "start_time": "2024-02-08T13:22:33.117Z"
   },
   {
    "duration": 1114,
    "start_time": "2024-02-08T13:22:35.951Z"
   },
   {
    "duration": 137,
    "start_time": "2024-02-08T13:22:37.317Z"
   },
   {
    "duration": 22,
    "start_time": "2024-02-08T13:22:38.249Z"
   },
   {
    "duration": 3,
    "start_time": "2024-02-08T13:22:41.664Z"
   },
   {
    "duration": 49,
    "start_time": "2024-02-08T13:22:42.808Z"
   },
   {
    "duration": 20,
    "start_time": "2024-02-08T13:22:44.395Z"
   },
   {
    "duration": 313,
    "start_time": "2024-02-08T13:22:46.142Z"
   },
   {
    "duration": 96,
    "start_time": "2024-02-08T13:22:47.761Z"
   },
   {
    "duration": 297,
    "start_time": "2024-02-08T13:22:50.687Z"
   },
   {
    "duration": 371,
    "start_time": "2024-02-08T13:22:51.260Z"
   },
   {
    "duration": 244,
    "start_time": "2024-02-08T13:22:52.009Z"
   },
   {
    "duration": 17,
    "start_time": "2024-02-08T13:22:54.593Z"
   },
   {
    "duration": 5,
    "start_time": "2024-02-08T13:22:56.079Z"
   },
   {
    "duration": 33,
    "start_time": "2024-02-08T13:22:57.332Z"
   },
   {
    "duration": 3,
    "start_time": "2024-02-08T13:22:59.069Z"
   },
   {
    "duration": 260,
    "start_time": "2024-02-08T13:23:00.270Z"
   },
   {
    "duration": 183,
    "start_time": "2024-02-08T13:24:06.700Z"
   },
   {
    "duration": 215,
    "start_time": "2024-02-08T13:25:09.356Z"
   },
   {
    "duration": 189,
    "start_time": "2024-02-08T13:25:29.331Z"
   },
   {
    "duration": 2,
    "start_time": "2024-02-08T13:26:37.585Z"
   },
   {
    "duration": 222,
    "start_time": "2024-02-08T13:28:02.295Z"
   },
   {
    "duration": 5,
    "start_time": "2024-02-08T13:29:45.627Z"
   },
   {
    "duration": 199,
    "start_time": "2024-02-08T13:29:54.880Z"
   },
   {
    "duration": 192,
    "start_time": "2024-02-08T13:31:00.877Z"
   },
   {
    "duration": 205,
    "start_time": "2024-02-08T13:31:23.366Z"
   },
   {
    "duration": 211,
    "start_time": "2024-02-08T13:31:52.732Z"
   },
   {
    "duration": 275,
    "start_time": "2024-02-08T13:31:58.938Z"
   },
   {
    "duration": 176,
    "start_time": "2024-02-08T13:32:05.712Z"
   },
   {
    "duration": 162,
    "start_time": "2024-02-08T13:32:18.102Z"
   },
   {
    "duration": 194,
    "start_time": "2024-02-08T13:32:33.069Z"
   },
   {
    "duration": 5,
    "start_time": "2024-02-08T13:32:57.126Z"
   },
   {
    "duration": 846,
    "start_time": "2024-02-08T13:32:59.290Z"
   },
   {
    "duration": 157,
    "start_time": "2024-02-08T13:33:00.833Z"
   },
   {
    "duration": 14,
    "start_time": "2024-02-08T13:33:01.394Z"
   },
   {
    "duration": 3,
    "start_time": "2024-02-08T13:33:02.901Z"
   },
   {
    "duration": 20,
    "start_time": "2024-02-08T13:33:03.859Z"
   },
   {
    "duration": 19,
    "start_time": "2024-02-08T13:33:05.327Z"
   },
   {
    "duration": 214,
    "start_time": "2024-02-08T13:33:06.915Z"
   },
   {
    "duration": 104,
    "start_time": "2024-02-08T13:33:08.649Z"
   },
   {
    "duration": 263,
    "start_time": "2024-02-08T13:33:11.272Z"
   },
   {
    "duration": 306,
    "start_time": "2024-02-08T13:33:11.761Z"
   },
   {
    "duration": 264,
    "start_time": "2024-02-08T13:33:12.290Z"
   },
   {
    "duration": 16,
    "start_time": "2024-02-08T13:33:14.168Z"
   },
   {
    "duration": 5,
    "start_time": "2024-02-08T13:33:15.290Z"
   },
   {
    "duration": 29,
    "start_time": "2024-02-08T13:33:16.384Z"
   },
   {
    "duration": 3,
    "start_time": "2024-02-08T13:33:18.187Z"
   },
   {
    "duration": 184,
    "start_time": "2024-02-08T13:33:19.029Z"
   },
   {
    "duration": 29,
    "start_time": "2024-02-08T13:33:22.481Z"
   },
   {
    "duration": 86,
    "start_time": "2024-02-08T13:33:24.763Z"
   },
   {
    "duration": 15,
    "start_time": "2024-02-08T13:33:26.920Z"
   },
   {
    "duration": 27,
    "start_time": "2024-02-08T13:33:28.958Z"
   },
   {
    "duration": 3,
    "start_time": "2024-02-08T13:33:31.079Z"
   },
   {
    "duration": 181,
    "start_time": "2024-02-08T13:33:31.916Z"
   },
   {
    "duration": 172,
    "start_time": "2024-02-08T13:33:51.916Z"
   },
   {
    "duration": 5,
    "start_time": "2024-02-08T13:34:20.406Z"
   },
   {
    "duration": 5,
    "start_time": "2024-02-08T13:34:31.036Z"
   },
   {
    "duration": 782,
    "start_time": "2024-02-08T13:34:33.749Z"
   },
   {
    "duration": 141,
    "start_time": "2024-02-08T13:34:34.982Z"
   },
   {
    "duration": 12,
    "start_time": "2024-02-08T13:34:35.734Z"
   },
   {
    "duration": 4,
    "start_time": "2024-02-08T13:34:36.326Z"
   },
   {
    "duration": 23,
    "start_time": "2024-02-08T13:34:37.028Z"
   },
   {
    "duration": 20,
    "start_time": "2024-02-08T13:34:38.134Z"
   },
   {
    "duration": 224,
    "start_time": "2024-02-08T13:34:39.356Z"
   },
   {
    "duration": 95,
    "start_time": "2024-02-08T13:34:40.431Z"
   },
   {
    "duration": 259,
    "start_time": "2024-02-08T13:34:42.426Z"
   },
   {
    "duration": 316,
    "start_time": "2024-02-08T13:34:42.878Z"
   },
   {
    "duration": 258,
    "start_time": "2024-02-08T13:34:43.397Z"
   },
   {
    "duration": 17,
    "start_time": "2024-02-08T13:34:45.258Z"
   },
   {
    "duration": 6,
    "start_time": "2024-02-08T13:34:46.329Z"
   },
   {
    "duration": 30,
    "start_time": "2024-02-08T13:34:47.830Z"
   },
   {
    "duration": 2,
    "start_time": "2024-02-08T13:34:53.745Z"
   },
   {
    "duration": 197,
    "start_time": "2024-02-08T13:34:58.409Z"
   },
   {
    "duration": 31,
    "start_time": "2024-02-08T13:36:02.698Z"
   },
   {
    "duration": 98,
    "start_time": "2024-02-08T13:36:04.692Z"
   },
   {
    "duration": 17,
    "start_time": "2024-02-08T13:36:12.516Z"
   },
   {
    "duration": 28,
    "start_time": "2024-02-08T13:36:15.710Z"
   },
   {
    "duration": 3,
    "start_time": "2024-02-08T13:36:21.558Z"
   },
   {
    "duration": 263,
    "start_time": "2024-02-08T13:36:29.072Z"
   },
   {
    "duration": 174,
    "start_time": "2024-02-08T13:36:45.122Z"
   },
   {
    "duration": 198,
    "start_time": "2024-02-08T13:37:01.757Z"
   },
   {
    "duration": 1424,
    "start_time": "2024-02-08T13:37:30.871Z"
   },
   {
    "duration": 901,
    "start_time": "2024-02-08T13:37:34.526Z"
   },
   {
    "duration": 152,
    "start_time": "2024-02-08T13:37:36.671Z"
   },
   {
    "duration": 15,
    "start_time": "2024-02-08T13:37:37.270Z"
   },
   {
    "duration": 3,
    "start_time": "2024-02-08T13:37:39.409Z"
   },
   {
    "duration": 57,
    "start_time": "2024-02-08T13:37:40.727Z"
   },
   {
    "duration": 26,
    "start_time": "2024-02-08T13:37:42.683Z"
   },
   {
    "duration": 284,
    "start_time": "2024-02-08T13:37:47.427Z"
   },
   {
    "duration": 99,
    "start_time": "2024-02-08T13:37:50.744Z"
   },
   {
    "duration": 324,
    "start_time": "2024-02-08T13:37:54.655Z"
   },
   {
    "duration": 409,
    "start_time": "2024-02-08T13:37:55.895Z"
   },
   {
    "duration": 293,
    "start_time": "2024-02-08T13:37:56.585Z"
   },
   {
    "duration": 17,
    "start_time": "2024-02-08T13:37:59.032Z"
   },
   {
    "duration": 6,
    "start_time": "2024-02-08T13:38:00.495Z"
   },
   {
    "duration": 32,
    "start_time": "2024-02-08T13:38:01.882Z"
   },
   {
    "duration": 3,
    "start_time": "2024-02-08T13:38:03.887Z"
   },
   {
    "duration": 203,
    "start_time": "2024-02-08T13:38:04.790Z"
   },
   {
    "duration": 42,
    "start_time": "2024-02-08T13:38:09.219Z"
   },
   {
    "duration": 82,
    "start_time": "2024-02-08T13:38:11.226Z"
   },
   {
    "duration": 1351,
    "start_time": "2024-02-08T13:39:03.604Z"
   },
   {
    "duration": 881,
    "start_time": "2024-02-08T13:39:08.809Z"
   },
   {
    "duration": 152,
    "start_time": "2024-02-08T13:39:10.531Z"
   },
   {
    "duration": 17,
    "start_time": "2024-02-08T13:39:11.030Z"
   },
   {
    "duration": 3,
    "start_time": "2024-02-08T13:39:12.160Z"
   },
   {
    "duration": 57,
    "start_time": "2024-02-08T13:39:12.926Z"
   },
   {
    "duration": 22,
    "start_time": "2024-02-08T13:39:14.002Z"
   },
   {
    "duration": 306,
    "start_time": "2024-02-08T13:39:15.126Z"
   },
   {
    "duration": 97,
    "start_time": "2024-02-08T13:39:16.454Z"
   },
   {
    "duration": 297,
    "start_time": "2024-02-08T13:39:18.182Z"
   },
   {
    "duration": 376,
    "start_time": "2024-02-08T13:39:18.515Z"
   },
   {
    "duration": 281,
    "start_time": "2024-02-08T13:39:18.893Z"
   },
   {
    "duration": 16,
    "start_time": "2024-02-08T13:39:20.118Z"
   },
   {
    "duration": 5,
    "start_time": "2024-02-08T13:39:20.850Z"
   },
   {
    "duration": 35,
    "start_time": "2024-02-08T13:39:21.902Z"
   },
   {
    "duration": 3,
    "start_time": "2024-02-08T13:39:23.550Z"
   },
   {
    "duration": 199,
    "start_time": "2024-02-08T13:39:24.131Z"
   },
   {
    "duration": 43,
    "start_time": "2024-02-08T13:39:28.376Z"
   },
   {
    "duration": 85,
    "start_time": "2024-02-08T13:39:29.986Z"
   },
   {
    "duration": 16,
    "start_time": "2024-02-08T13:39:31.940Z"
   },
   {
    "duration": 30,
    "start_time": "2024-02-08T13:39:33.721Z"
   },
   {
    "duration": 3,
    "start_time": "2024-02-08T13:39:35.540Z"
   },
   {
    "duration": 219,
    "start_time": "2024-02-08T13:39:36.284Z"
   },
   {
    "duration": 32,
    "start_time": "2024-02-08T13:39:44.719Z"
   },
   {
    "duration": 1597,
    "start_time": "2024-02-08T15:53:56.569Z"
   },
   {
    "duration": 893,
    "start_time": "2024-02-08T15:54:02.679Z"
   },
   {
    "duration": 141,
    "start_time": "2024-02-08T15:56:51.938Z"
   },
   {
    "duration": 16,
    "start_time": "2024-02-08T15:56:53.152Z"
   },
   {
    "duration": 3,
    "start_time": "2024-02-08T15:56:58.587Z"
   },
   {
    "duration": 55,
    "start_time": "2024-02-08T15:57:01.315Z"
   },
   {
    "duration": 21,
    "start_time": "2024-02-08T15:57:17.867Z"
   },
   {
    "duration": 278,
    "start_time": "2024-02-08T15:57:20.371Z"
   },
   {
    "duration": 98,
    "start_time": "2024-02-08T15:57:24.306Z"
   },
   {
    "duration": 285,
    "start_time": "2024-02-08T15:57:31.001Z"
   },
   {
    "duration": 356,
    "start_time": "2024-02-08T15:57:33.255Z"
   },
   {
    "duration": 250,
    "start_time": "2024-02-08T15:57:34.330Z"
   },
   {
    "duration": 16,
    "start_time": "2024-02-08T15:57:37.414Z"
   },
   {
    "duration": 5,
    "start_time": "2024-02-08T15:57:40.725Z"
   },
   {
    "duration": 31,
    "start_time": "2024-02-08T15:57:42.589Z"
   },
   {
    "duration": 3,
    "start_time": "2024-02-08T15:57:44.788Z"
   },
   {
    "duration": 209,
    "start_time": "2024-02-08T15:57:45.636Z"
   },
   {
    "duration": 47,
    "start_time": "2024-02-08T15:58:04.493Z"
   },
   {
    "duration": 81,
    "start_time": "2024-02-08T15:58:07.752Z"
   },
   {
    "duration": 17,
    "start_time": "2024-02-08T15:58:12.361Z"
   },
   {
    "duration": 27,
    "start_time": "2024-02-08T15:58:19.475Z"
   },
   {
    "duration": 4,
    "start_time": "2024-02-08T15:58:26.192Z"
   },
   {
    "duration": 178,
    "start_time": "2024-02-08T15:58:27.093Z"
   },
   {
    "duration": 27,
    "start_time": "2024-02-08T16:02:53.234Z"
   },
   {
    "duration": 74,
    "start_time": "2024-02-08T16:03:59.326Z"
   },
   {
    "duration": 14,
    "start_time": "2024-02-08T16:04:34.962Z"
   },
   {
    "duration": 25,
    "start_time": "2024-02-08T16:04:52.484Z"
   },
   {
    "duration": 2,
    "start_time": "2024-02-08T16:08:22.025Z"
   },
   {
    "duration": 168,
    "start_time": "2024-02-08T16:09:11.942Z"
   },
   {
    "duration": 70,
    "start_time": "2024-02-08T16:09:29.649Z"
   },
   {
    "duration": 16,
    "start_time": "2024-02-08T16:09:56.997Z"
   },
   {
    "duration": 4,
    "start_time": "2024-02-08T16:09:58.182Z"
   },
   {
    "duration": 139,
    "start_time": "2024-02-08T16:17:03.488Z"
   },
   {
    "duration": 172,
    "start_time": "2024-02-08T16:18:48.074Z"
   },
   {
    "duration": 146,
    "start_time": "2024-02-08T16:19:13.376Z"
   },
   {
    "duration": 66,
    "start_time": "2024-02-08T16:20:06.154Z"
   },
   {
    "duration": 17,
    "start_time": "2024-02-08T16:20:28.711Z"
   },
   {
    "duration": 16,
    "start_time": "2024-02-08T16:20:30.145Z"
   },
   {
    "duration": 16,
    "start_time": "2024-02-08T16:20:42.383Z"
   },
   {
    "duration": 30,
    "start_time": "2024-02-08T16:20:47.676Z"
   },
   {
    "duration": 326,
    "start_time": "2024-02-08T16:20:51.147Z"
   },
   {
    "duration": 244,
    "start_time": "2024-02-08T16:20:51.943Z"
   },
   {
    "duration": 26,
    "start_time": "2024-02-08T16:20:52.898Z"
   },
   {
    "duration": 51,
    "start_time": "2024-02-08T16:20:56.291Z"
   },
   {
    "duration": 1404,
    "start_time": "2024-02-08T17:31:07.362Z"
   },
   {
    "duration": 858,
    "start_time": "2024-02-08T17:31:10.353Z"
   },
   {
    "duration": 147,
    "start_time": "2024-02-08T17:31:11.429Z"
   },
   {
    "duration": 16,
    "start_time": "2024-02-08T17:31:12.014Z"
   },
   {
    "duration": 4,
    "start_time": "2024-02-08T17:31:12.851Z"
   },
   {
    "duration": 50,
    "start_time": "2024-02-08T17:31:13.719Z"
   },
   {
    "duration": 20,
    "start_time": "2024-02-08T17:31:14.849Z"
   },
   {
    "duration": 286,
    "start_time": "2024-02-08T17:31:16.369Z"
   },
   {
    "duration": 101,
    "start_time": "2024-02-08T17:31:17.114Z"
   },
   {
    "duration": 299,
    "start_time": "2024-02-08T17:31:18.443Z"
   },
   {
    "duration": 359,
    "start_time": "2024-02-08T17:31:18.979Z"
   },
   {
    "duration": 257,
    "start_time": "2024-02-08T17:31:19.340Z"
   },
   {
    "duration": 16,
    "start_time": "2024-02-08T17:31:20.141Z"
   },
   {
    "duration": 5,
    "start_time": "2024-02-08T17:31:20.699Z"
   },
   {
    "duration": 32,
    "start_time": "2024-02-08T17:31:21.393Z"
   },
   {
    "duration": 2,
    "start_time": "2024-02-08T17:31:22.382Z"
   },
   {
    "duration": 189,
    "start_time": "2024-02-08T17:31:23.089Z"
   },
   {
    "duration": 37,
    "start_time": "2024-02-08T17:31:24.795Z"
   },
   {
    "duration": 81,
    "start_time": "2024-02-08T17:31:25.967Z"
   },
   {
    "duration": 17,
    "start_time": "2024-02-08T17:31:27.157Z"
   },
   {
    "duration": 26,
    "start_time": "2024-02-08T17:31:28.432Z"
   },
   {
    "duration": 3,
    "start_time": "2024-02-08T17:31:29.684Z"
   },
   {
    "duration": 195,
    "start_time": "2024-02-08T17:31:30.246Z"
   },
   {
    "duration": 26,
    "start_time": "2024-02-08T17:31:31.324Z"
   },
   {
    "duration": 75,
    "start_time": "2024-02-08T17:31:34.006Z"
   },
   {
    "duration": 17,
    "start_time": "2024-02-08T17:31:35.590Z"
   },
   {
    "duration": 24,
    "start_time": "2024-02-08T17:31:37.183Z"
   },
   {
    "duration": 3,
    "start_time": "2024-02-08T17:31:40.123Z"
   },
   {
    "duration": 182,
    "start_time": "2024-02-08T17:31:40.527Z"
   },
   {
    "duration": 73,
    "start_time": "2024-02-08T17:31:42.462Z"
   },
   {
    "duration": 16,
    "start_time": "2024-02-08T17:31:45.070Z"
   },
   {
    "duration": 4,
    "start_time": "2024-02-08T17:31:46.071Z"
   },
   {
    "duration": 143,
    "start_time": "2024-02-08T17:31:49.028Z"
   },
   {
    "duration": 158,
    "start_time": "2024-02-08T17:31:51.782Z"
   },
   {
    "duration": 143,
    "start_time": "2024-02-08T17:31:52.541Z"
   },
   {
    "duration": 71,
    "start_time": "2024-02-08T17:31:54.718Z"
   },
   {
    "duration": 16,
    "start_time": "2024-02-08T17:31:55.936Z"
   },
   {
    "duration": 16,
    "start_time": "2024-02-08T17:31:56.518Z"
   },
   {
    "duration": 18,
    "start_time": "2024-02-08T17:32:00.215Z"
   },
   {
    "duration": 29,
    "start_time": "2024-02-08T17:32:01.646Z"
   },
   {
    "duration": 321,
    "start_time": "2024-02-08T17:32:08.205Z"
   },
   {
    "duration": 246,
    "start_time": "2024-02-08T17:32:08.865Z"
   },
   {
    "duration": 25,
    "start_time": "2024-02-08T17:32:11.206Z"
   },
   {
    "duration": 61,
    "start_time": "2024-02-08T17:32:12.775Z"
   },
   {
    "duration": 1636,
    "start_time": "2024-02-09T10:37:09.366Z"
   },
   {
    "duration": 5,
    "start_time": "2024-02-09T10:37:22.795Z"
   },
   {
    "duration": 2907,
    "start_time": "2024-02-09T10:37:26.659Z"
   },
   {
    "duration": 152,
    "start_time": "2024-02-09T10:37:29.568Z"
   },
   {
    "duration": 17,
    "start_time": "2024-02-09T10:37:30.349Z"
   },
   {
    "duration": 3,
    "start_time": "2024-02-09T10:37:32.447Z"
   },
   {
    "duration": 58,
    "start_time": "2024-02-09T10:37:34.318Z"
   },
   {
    "duration": 22,
    "start_time": "2024-02-09T10:37:36.265Z"
   },
   {
    "duration": 293,
    "start_time": "2024-02-09T10:37:38.173Z"
   },
   {
    "duration": 101,
    "start_time": "2024-02-09T10:37:39.776Z"
   },
   {
    "duration": 295,
    "start_time": "2024-02-09T10:37:42.422Z"
   },
   {
    "duration": 354,
    "start_time": "2024-02-09T10:37:42.917Z"
   },
   {
    "duration": 245,
    "start_time": "2024-02-09T10:37:43.527Z"
   },
   {
    "duration": 16,
    "start_time": "2024-02-09T10:37:45.528Z"
   },
   {
    "duration": 6,
    "start_time": "2024-02-09T10:37:46.562Z"
   },
   {
    "duration": 31,
    "start_time": "2024-02-09T10:37:47.515Z"
   },
   {
    "duration": 2,
    "start_time": "2024-02-09T10:37:48.940Z"
   },
   {
    "duration": 195,
    "start_time": "2024-02-09T10:37:49.518Z"
   },
   {
    "duration": 38,
    "start_time": "2024-02-09T10:37:52.077Z"
   },
   {
    "duration": 81,
    "start_time": "2024-02-09T10:37:53.491Z"
   },
   {
    "duration": 16,
    "start_time": "2024-02-09T10:37:54.942Z"
   },
   {
    "duration": 27,
    "start_time": "2024-02-09T10:37:56.375Z"
   },
   {
    "duration": 2,
    "start_time": "2024-02-09T10:37:57.848Z"
   },
   {
    "duration": 172,
    "start_time": "2024-02-09T10:37:58.661Z"
   },
   {
    "duration": 27,
    "start_time": "2024-02-09T10:37:59.671Z"
   },
   {
    "duration": 73,
    "start_time": "2024-02-09T10:38:02.090Z"
   },
   {
    "duration": 19,
    "start_time": "2024-02-09T10:38:03.594Z"
   },
   {
    "duration": 25,
    "start_time": "2024-02-09T10:38:04.729Z"
   },
   {
    "duration": 2,
    "start_time": "2024-02-09T10:38:06.793Z"
   },
   {
    "duration": 232,
    "start_time": "2024-02-09T10:38:07.418Z"
   },
   {
    "duration": 74,
    "start_time": "2024-02-09T10:38:09.259Z"
   },
   {
    "duration": 19,
    "start_time": "2024-02-09T10:38:12.530Z"
   },
   {
    "duration": 4,
    "start_time": "2024-02-09T10:38:14.082Z"
   },
   {
    "duration": 140,
    "start_time": "2024-02-09T10:38:17.178Z"
   },
   {
    "duration": 171,
    "start_time": "2024-02-09T10:38:18.442Z"
   },
   {
    "duration": 126,
    "start_time": "2024-02-09T10:38:29.884Z"
   },
   {
    "duration": 64,
    "start_time": "2024-02-09T10:38:36.134Z"
   },
   {
    "duration": 17,
    "start_time": "2024-02-09T10:38:37.987Z"
   },
   {
    "duration": 16,
    "start_time": "2024-02-09T10:38:38.629Z"
   },
   {
    "duration": 1585,
    "start_time": "2024-02-09T16:03:48.008Z"
   },
   {
    "duration": 2816,
    "start_time": "2024-02-09T16:03:51.796Z"
   },
   {
    "duration": 145,
    "start_time": "2024-02-09T16:03:54.614Z"
   },
   {
    "duration": 15,
    "start_time": "2024-02-09T16:03:55.394Z"
   },
   {
    "duration": 3,
    "start_time": "2024-02-09T16:03:58.079Z"
   },
   {
    "duration": 56,
    "start_time": "2024-02-09T16:03:59.529Z"
   },
   {
    "duration": 19,
    "start_time": "2024-02-09T16:04:01.707Z"
   },
   {
    "duration": 285,
    "start_time": "2024-02-09T16:04:03.668Z"
   },
   {
    "duration": 98,
    "start_time": "2024-02-09T16:04:05.961Z"
   },
   {
    "duration": 290,
    "start_time": "2024-02-09T16:04:09.164Z"
   },
   {
    "duration": 342,
    "start_time": "2024-02-09T16:04:10.032Z"
   },
   {
    "duration": 244,
    "start_time": "2024-02-09T16:04:10.578Z"
   },
   {
    "duration": 15,
    "start_time": "2024-02-09T16:04:12.902Z"
   },
   {
    "duration": 5,
    "start_time": "2024-02-09T16:04:14.115Z"
   },
   {
    "duration": 30,
    "start_time": "2024-02-09T16:04:15.340Z"
   },
   {
    "duration": 2,
    "start_time": "2024-02-09T16:04:16.998Z"
   },
   {
    "duration": 191,
    "start_time": "2024-02-09T16:04:17.637Z"
   },
   {
    "duration": 40,
    "start_time": "2024-02-09T16:04:20.126Z"
   },
   {
    "duration": 79,
    "start_time": "2024-02-09T16:04:21.889Z"
   },
   {
    "duration": 16,
    "start_time": "2024-02-09T16:04:23.624Z"
   },
   {
    "duration": 26,
    "start_time": "2024-02-09T16:04:26.403Z"
   },
   {
    "duration": 2,
    "start_time": "2024-02-09T16:04:28.098Z"
   },
   {
    "duration": 170,
    "start_time": "2024-02-09T16:04:28.701Z"
   },
   {
    "duration": 26,
    "start_time": "2024-02-09T16:04:29.832Z"
   },
   {
    "duration": 70,
    "start_time": "2024-02-09T16:04:32.646Z"
   },
   {
    "duration": 14,
    "start_time": "2024-02-09T16:04:34.318Z"
   },
   {
    "duration": 23,
    "start_time": "2024-02-09T16:04:35.438Z"
   },
   {
    "duration": 2,
    "start_time": "2024-02-09T16:04:37.611Z"
   },
   {
    "duration": 165,
    "start_time": "2024-02-09T16:04:38.135Z"
   },
   {
    "duration": 72,
    "start_time": "2024-02-09T16:04:40.267Z"
   },
   {
    "duration": 15,
    "start_time": "2024-02-09T16:04:42.134Z"
   },
   {
    "duration": 4,
    "start_time": "2024-02-09T16:04:43.279Z"
   },
   {
    "duration": 143,
    "start_time": "2024-02-09T16:04:47.462Z"
   },
   {
    "duration": 160,
    "start_time": "2024-02-09T16:04:49.410Z"
   },
   {
    "duration": 127,
    "start_time": "2024-02-09T16:04:50.255Z"
   },
   {
    "duration": 71,
    "start_time": "2024-02-09T16:04:52.639Z"
   },
   {
    "duration": 16,
    "start_time": "2024-02-09T16:04:54.083Z"
   },
   {
    "duration": 16,
    "start_time": "2024-02-09T16:04:54.645Z"
   },
   {
    "duration": 17,
    "start_time": "2024-02-09T16:04:56.413Z"
   },
   {
    "duration": 27,
    "start_time": "2024-02-09T16:04:57.455Z"
   },
   {
    "duration": 316,
    "start_time": "2024-02-09T16:04:58.640Z"
   },
   {
    "duration": 251,
    "start_time": "2024-02-09T16:04:59.262Z"
   },
   {
    "duration": 27,
    "start_time": "2024-02-09T16:04:59.879Z"
   },
   {
    "duration": 53,
    "start_time": "2024-02-09T16:05:01.154Z"
   },
   {
    "duration": 3,
    "start_time": "2024-02-09T16:05:36.493Z"
   },
   {
    "duration": 4,
    "start_time": "2024-02-09T16:12:07.434Z"
   },
   {
    "duration": 10,
    "start_time": "2024-02-09T16:31:14.995Z"
   },
   {
    "duration": 45,
    "start_time": "2024-02-09T16:33:56.301Z"
   },
   {
    "duration": 1457,
    "start_time": "2024-02-09T16:34:14.140Z"
   },
   {
    "duration": 886,
    "start_time": "2024-02-09T16:34:16.589Z"
   },
   {
    "duration": 148,
    "start_time": "2024-02-09T16:34:22.282Z"
   },
   {
    "duration": 16,
    "start_time": "2024-02-09T16:34:23.190Z"
   },
   {
    "duration": 3,
    "start_time": "2024-02-09T16:34:25.180Z"
   },
   {
    "duration": 57,
    "start_time": "2024-02-09T16:34:26.073Z"
   },
   {
    "duration": 23,
    "start_time": "2024-02-09T16:34:27.113Z"
   },
   {
    "duration": 296,
    "start_time": "2024-02-09T16:34:28.169Z"
   },
   {
    "duration": 116,
    "start_time": "2024-02-09T16:34:29.184Z"
   },
   {
    "duration": 296,
    "start_time": "2024-02-09T16:34:30.726Z"
   },
   {
    "duration": 373,
    "start_time": "2024-02-09T16:34:31.051Z"
   },
   {
    "duration": 257,
    "start_time": "2024-02-09T16:34:31.426Z"
   },
   {
    "duration": 16,
    "start_time": "2024-02-09T16:34:32.509Z"
   },
   {
    "duration": 5,
    "start_time": "2024-02-09T16:34:33.037Z"
   },
   {
    "duration": 31,
    "start_time": "2024-02-09T16:34:33.552Z"
   },
   {
    "duration": 3,
    "start_time": "2024-02-09T16:34:34.356Z"
   },
   {
    "duration": 191,
    "start_time": "2024-02-09T16:34:34.630Z"
   },
   {
    "duration": 41,
    "start_time": "2024-02-09T16:34:35.687Z"
   },
   {
    "duration": 79,
    "start_time": "2024-02-09T16:34:36.477Z"
   },
   {
    "duration": 15,
    "start_time": "2024-02-09T16:34:37.254Z"
   },
   {
    "duration": 27,
    "start_time": "2024-02-09T16:34:38.049Z"
   },
   {
    "duration": 2,
    "start_time": "2024-02-09T16:34:38.845Z"
   },
   {
    "duration": 176,
    "start_time": "2024-02-09T16:34:39.123Z"
   },
   {
    "duration": 25,
    "start_time": "2024-02-09T16:34:39.651Z"
   },
   {
    "duration": 76,
    "start_time": "2024-02-09T16:34:41.209Z"
   },
   {
    "duration": 14,
    "start_time": "2024-02-09T16:34:42.356Z"
   },
   {
    "duration": 26,
    "start_time": "2024-02-09T16:34:43.161Z"
   },
   {
    "duration": 3,
    "start_time": "2024-02-09T16:34:44.866Z"
   },
   {
    "duration": 174,
    "start_time": "2024-02-09T16:34:45.233Z"
   },
   {
    "duration": 78,
    "start_time": "2024-02-09T16:34:46.201Z"
   },
   {
    "duration": 17,
    "start_time": "2024-02-09T16:34:47.279Z"
   },
   {
    "duration": 5,
    "start_time": "2024-02-09T16:34:48.125Z"
   },
   {
    "duration": 139,
    "start_time": "2024-02-09T16:34:50.648Z"
   },
   {
    "duration": 170,
    "start_time": "2024-02-09T16:35:10.672Z"
   },
   {
    "duration": 132,
    "start_time": "2024-02-09T16:35:11.322Z"
   },
   {
    "duration": 66,
    "start_time": "2024-02-09T16:35:12.709Z"
   },
   {
    "duration": 16,
    "start_time": "2024-02-09T16:35:13.659Z"
   },
   {
    "duration": 15,
    "start_time": "2024-02-09T16:35:14.028Z"
   },
   {
    "duration": 19,
    "start_time": "2024-02-09T16:35:15.006Z"
   },
   {
    "duration": 25,
    "start_time": "2024-02-09T16:35:15.689Z"
   },
   {
    "duration": 302,
    "start_time": "2024-02-09T16:35:16.326Z"
   },
   {
    "duration": 230,
    "start_time": "2024-02-09T16:35:16.656Z"
   },
   {
    "duration": 25,
    "start_time": "2024-02-09T16:35:16.962Z"
   },
   {
    "duration": 52,
    "start_time": "2024-02-09T16:35:17.709Z"
   },
   {
    "duration": 2,
    "start_time": "2024-02-09T16:35:20.778Z"
   },
   {
    "duration": 2,
    "start_time": "2024-02-09T16:35:31.216Z"
   },
   {
    "duration": 2,
    "start_time": "2024-02-09T16:35:31.811Z"
   },
   {
    "duration": 2,
    "start_time": "2024-02-09T16:35:34.747Z"
   },
   {
    "duration": 2,
    "start_time": "2024-02-09T16:35:35.838Z"
   },
   {
    "duration": 2,
    "start_time": "2024-02-09T16:35:36.436Z"
   },
   {
    "duration": 2,
    "start_time": "2024-02-09T16:35:37.002Z"
   },
   {
    "duration": 3,
    "start_time": "2024-02-09T16:35:37.455Z"
   },
   {
    "duration": 2,
    "start_time": "2024-02-09T16:35:37.923Z"
   },
   {
    "duration": 3,
    "start_time": "2024-02-09T16:35:38.467Z"
   },
   {
    "duration": 2,
    "start_time": "2024-02-09T16:36:59.352Z"
   },
   {
    "duration": 16,
    "start_time": "2024-02-09T16:38:03.230Z"
   },
   {
    "duration": 97,
    "start_time": "2024-02-09T16:38:20.097Z"
   },
   {
    "duration": 164,
    "start_time": "2024-02-09T16:40:52.871Z"
   },
   {
    "duration": 85,
    "start_time": "2024-02-09T16:41:19.324Z"
   },
   {
    "duration": 69,
    "start_time": "2024-02-09T16:42:03.109Z"
   },
   {
    "duration": 76,
    "start_time": "2024-02-09T16:42:50.148Z"
   },
   {
    "duration": 609,
    "start_time": "2024-02-09T16:43:38.922Z"
   },
   {
    "duration": 425,
    "start_time": "2024-02-09T16:45:13.276Z"
   },
   {
    "duration": 466,
    "start_time": "2024-02-09T16:47:25.839Z"
   },
   {
    "duration": 429,
    "start_time": "2024-02-09T16:47:33.433Z"
   },
   {
    "duration": 48,
    "start_time": "2024-02-09T16:48:39.853Z"
   },
   {
    "duration": 1422,
    "start_time": "2024-02-09T16:49:29.567Z"
   },
   {
    "duration": 815,
    "start_time": "2024-02-09T16:49:32.791Z"
   },
   {
    "duration": 156,
    "start_time": "2024-02-09T16:49:34.474Z"
   },
   {
    "duration": 15,
    "start_time": "2024-02-09T16:49:34.899Z"
   },
   {
    "duration": 3,
    "start_time": "2024-02-09T16:49:35.994Z"
   },
   {
    "duration": 55,
    "start_time": "2024-02-09T16:49:36.681Z"
   },
   {
    "duration": 20,
    "start_time": "2024-02-09T16:49:37.587Z"
   },
   {
    "duration": 280,
    "start_time": "2024-02-09T16:49:38.529Z"
   },
   {
    "duration": 98,
    "start_time": "2024-02-09T16:49:39.384Z"
   },
   {
    "duration": 287,
    "start_time": "2024-02-09T16:49:40.797Z"
   },
   {
    "duration": 357,
    "start_time": "2024-02-09T16:49:41.100Z"
   },
   {
    "duration": 246,
    "start_time": "2024-02-09T16:49:41.459Z"
   },
   {
    "duration": 15,
    "start_time": "2024-02-09T16:49:42.491Z"
   },
   {
    "duration": 5,
    "start_time": "2024-02-09T16:49:43.035Z"
   },
   {
    "duration": 29,
    "start_time": "2024-02-09T16:49:43.559Z"
   },
   {
    "duration": 2,
    "start_time": "2024-02-09T16:49:44.349Z"
   },
   {
    "duration": 195,
    "start_time": "2024-02-09T16:49:44.582Z"
   },
   {
    "duration": 42,
    "start_time": "2024-02-09T16:49:45.551Z"
   },
   {
    "duration": 78,
    "start_time": "2024-02-09T16:49:46.284Z"
   },
   {
    "duration": 15,
    "start_time": "2024-02-09T16:49:47.024Z"
   },
   {
    "duration": 26,
    "start_time": "2024-02-09T16:49:47.762Z"
   },
   {
    "duration": 2,
    "start_time": "2024-02-09T16:49:48.579Z"
   },
   {
    "duration": 171,
    "start_time": "2024-02-09T16:49:48.768Z"
   },
   {
    "duration": 26,
    "start_time": "2024-02-09T16:49:49.259Z"
   },
   {
    "duration": 70,
    "start_time": "2024-02-09T16:49:50.485Z"
   },
   {
    "duration": 15,
    "start_time": "2024-02-09T16:49:51.236Z"
   },
   {
    "duration": 26,
    "start_time": "2024-02-09T16:49:51.715Z"
   },
   {
    "duration": 2,
    "start_time": "2024-02-09T16:49:52.704Z"
   },
   {
    "duration": 183,
    "start_time": "2024-02-09T16:49:52.934Z"
   },
   {
    "duration": 78,
    "start_time": "2024-02-09T16:49:53.446Z"
   },
   {
    "duration": 17,
    "start_time": "2024-02-09T16:49:54.181Z"
   },
   {
    "duration": 4,
    "start_time": "2024-02-09T16:49:54.680Z"
   },
   {
    "duration": 140,
    "start_time": "2024-02-09T16:49:56.596Z"
   },
   {
    "duration": 168,
    "start_time": "2024-02-09T16:49:57.133Z"
   },
   {
    "duration": 125,
    "start_time": "2024-02-09T16:49:57.400Z"
   },
   {
    "duration": 67,
    "start_time": "2024-02-09T16:49:58.134Z"
   },
   {
    "duration": 16,
    "start_time": "2024-02-09T16:49:58.628Z"
   },
   {
    "duration": 16,
    "start_time": "2024-02-09T16:49:58.897Z"
   },
   {
    "duration": 18,
    "start_time": "2024-02-09T16:49:59.704Z"
   },
   {
    "duration": 27,
    "start_time": "2024-02-09T16:50:00.384Z"
   },
   {
    "duration": 326,
    "start_time": "2024-02-09T16:50:00.976Z"
   },
   {
    "duration": 251,
    "start_time": "2024-02-09T16:50:01.305Z"
   },
   {
    "duration": 35,
    "start_time": "2024-02-09T16:50:01.557Z"
   },
   {
    "duration": 51,
    "start_time": "2024-02-09T16:50:02.101Z"
   },
   {
    "duration": 3,
    "start_time": "2024-02-09T16:50:04.835Z"
   },
   {
    "duration": 2,
    "start_time": "2024-02-09T16:50:06.743Z"
   },
   {
    "duration": 2,
    "start_time": "2024-02-09T16:50:07.448Z"
   },
   {
    "duration": 2,
    "start_time": "2024-02-09T16:50:08.923Z"
   },
   {
    "duration": 2,
    "start_time": "2024-02-09T16:50:09.880Z"
   },
   {
    "duration": 2,
    "start_time": "2024-02-09T16:50:10.301Z"
   },
   {
    "duration": 2,
    "start_time": "2024-02-09T16:50:10.864Z"
   },
   {
    "duration": 2,
    "start_time": "2024-02-09T16:50:11.263Z"
   },
   {
    "duration": 3,
    "start_time": "2024-02-09T16:50:13.886Z"
   },
   {
    "duration": 2,
    "start_time": "2024-02-09T16:50:14.380Z"
   },
   {
    "duration": 3,
    "start_time": "2024-02-09T16:50:16.567Z"
   },
   {
    "duration": 14,
    "start_time": "2024-02-09T16:50:18.180Z"
   },
   {
    "duration": 74,
    "start_time": "2024-02-09T16:50:19.580Z"
   },
   {
    "duration": 618,
    "start_time": "2024-02-09T16:50:20.728Z"
   },
   {
    "duration": 50,
    "start_time": "2024-02-09T16:50:23.263Z"
   },
   {
    "duration": 3,
    "start_time": "2024-02-09T16:50:32.469Z"
   },
   {
    "duration": 106,
    "start_time": "2024-02-09T16:50:34.624Z"
   },
   {
    "duration": 41,
    "start_time": "2024-02-09T16:50:45.835Z"
   },
   {
    "duration": 10,
    "start_time": "2024-02-09T16:50:52.243Z"
   },
   {
    "duration": 16,
    "start_time": "2024-02-09T16:50:58.119Z"
   },
   {
    "duration": 9,
    "start_time": "2024-02-09T16:51:00.054Z"
   },
   {
    "duration": 4,
    "start_time": "2024-02-09T16:51:06.152Z"
   },
   {
    "duration": 2,
    "start_time": "2024-02-09T16:52:50.136Z"
   },
   {
    "duration": 11,
    "start_time": "2024-02-09T17:19:13.314Z"
   },
   {
    "duration": 5597,
    "start_time": "2024-02-09T17:19:24.746Z"
   },
   {
    "duration": 10,
    "start_time": "2024-02-09T17:19:52.543Z"
   },
   {
    "duration": 4,
    "start_time": "2024-02-09T17:19:59.739Z"
   },
   {
    "duration": 3,
    "start_time": "2024-02-09T17:20:14.023Z"
   },
   {
    "duration": 2131,
    "start_time": "2024-02-09T17:20:35.018Z"
   },
   {
    "duration": 339,
    "start_time": "2024-02-09T17:23:21.497Z"
   },
   {
    "duration": 126632,
    "start_time": "2024-02-09T17:23:25.810Z"
   },
   {
    "duration": 2743,
    "start_time": "2024-02-09T17:25:38.910Z"
   },
   {
    "duration": 1366,
    "start_time": "2024-02-09T17:26:21.389Z"
   },
   {
    "duration": 836,
    "start_time": "2024-02-09T17:26:22.757Z"
   },
   {
    "duration": 177,
    "start_time": "2024-02-09T17:26:23.594Z"
   },
   {
    "duration": 20,
    "start_time": "2024-02-09T17:26:23.773Z"
   },
   {
    "duration": 3,
    "start_time": "2024-02-09T17:26:23.794Z"
   },
   {
    "duration": 89,
    "start_time": "2024-02-09T17:26:23.799Z"
   },
   {
    "duration": 23,
    "start_time": "2024-02-09T17:26:23.890Z"
   },
   {
    "duration": 286,
    "start_time": "2024-02-09T17:26:23.915Z"
   },
   {
    "duration": 98,
    "start_time": "2024-02-09T17:26:24.203Z"
   },
   {
    "duration": 310,
    "start_time": "2024-02-09T17:26:24.304Z"
   },
   {
    "duration": 344,
    "start_time": "2024-02-09T17:26:24.615Z"
   },
   {
    "duration": 250,
    "start_time": "2024-02-09T17:26:24.960Z"
   },
   {
    "duration": 16,
    "start_time": "2024-02-09T17:26:25.212Z"
   },
   {
    "duration": 6,
    "start_time": "2024-02-09T17:26:25.229Z"
   },
   {
    "duration": 51,
    "start_time": "2024-02-09T17:26:25.236Z"
   },
   {
    "duration": 2,
    "start_time": "2024-02-09T17:26:25.289Z"
   },
   {
    "duration": 189,
    "start_time": "2024-02-09T17:26:25.292Z"
   },
   {
    "duration": 41,
    "start_time": "2024-02-09T17:26:25.482Z"
   },
   {
    "duration": 88,
    "start_time": "2024-02-09T17:26:25.524Z"
   },
   {
    "duration": 15,
    "start_time": "2024-02-09T17:26:25.613Z"
   },
   {
    "duration": 25,
    "start_time": "2024-02-09T17:26:25.629Z"
   },
   {
    "duration": 2,
    "start_time": "2024-02-09T17:26:25.655Z"
   },
   {
    "duration": 191,
    "start_time": "2024-02-09T17:26:25.659Z"
   },
   {
    "duration": 25,
    "start_time": "2024-02-09T17:26:25.851Z"
   },
   {
    "duration": 76,
    "start_time": "2024-02-09T17:26:25.877Z"
   },
   {
    "duration": 12,
    "start_time": "2024-02-09T17:26:25.955Z"
   },
   {
    "duration": 36,
    "start_time": "2024-02-09T17:26:25.968Z"
   },
   {
    "duration": 2,
    "start_time": "2024-02-09T17:26:26.008Z"
   },
   {
    "duration": 177,
    "start_time": "2024-02-09T17:26:26.012Z"
   },
   {
    "duration": 74,
    "start_time": "2024-02-09T17:26:26.191Z"
   },
   {
    "duration": 24,
    "start_time": "2024-02-09T17:26:26.267Z"
   },
   {
    "duration": 4,
    "start_time": "2024-02-09T17:26:26.292Z"
   },
   {
    "duration": 153,
    "start_time": "2024-02-09T17:26:26.297Z"
   },
   {
    "duration": 169,
    "start_time": "2024-02-09T17:26:26.451Z"
   },
   {
    "duration": 133,
    "start_time": "2024-02-09T17:26:26.622Z"
   },
   {
    "duration": 65,
    "start_time": "2024-02-09T17:26:26.757Z"
   },
   {
    "duration": 16,
    "start_time": "2024-02-09T17:26:26.823Z"
   },
   {
    "duration": 15,
    "start_time": "2024-02-09T17:26:26.841Z"
   },
   {
    "duration": 39,
    "start_time": "2024-02-09T17:26:26.858Z"
   },
   {
    "duration": 38,
    "start_time": "2024-02-09T17:26:26.899Z"
   },
   {
    "duration": 307,
    "start_time": "2024-02-09T17:26:26.939Z"
   },
   {
    "duration": 242,
    "start_time": "2024-02-09T17:26:27.247Z"
   },
   {
    "duration": 25,
    "start_time": "2024-02-09T17:26:27.490Z"
   },
   {
    "duration": 53,
    "start_time": "2024-02-09T17:26:27.516Z"
   },
   {
    "duration": 2,
    "start_time": "2024-02-09T17:26:27.571Z"
   },
   {
    "duration": 2,
    "start_time": "2024-02-09T17:26:27.587Z"
   },
   {
    "duration": 5,
    "start_time": "2024-02-09T17:26:27.590Z"
   },
   {
    "duration": 3,
    "start_time": "2024-02-09T17:26:27.596Z"
   },
   {
    "duration": 5,
    "start_time": "2024-02-09T17:26:27.600Z"
   },
   {
    "duration": 3,
    "start_time": "2024-02-09T17:26:27.607Z"
   },
   {
    "duration": 3,
    "start_time": "2024-02-09T17:26:27.611Z"
   },
   {
    "duration": 3,
    "start_time": "2024-02-09T17:26:27.616Z"
   },
   {
    "duration": 5,
    "start_time": "2024-02-09T17:26:27.620Z"
   },
   {
    "duration": 8,
    "start_time": "2024-02-09T17:26:27.627Z"
   },
   {
    "duration": 20,
    "start_time": "2024-02-09T17:26:27.636Z"
   },
   {
    "duration": 16,
    "start_time": "2024-02-09T17:26:27.657Z"
   },
   {
    "duration": 73,
    "start_time": "2024-02-09T17:26:27.674Z"
   },
   {
    "duration": 578,
    "start_time": "2024-02-09T17:26:27.749Z"
   },
   {
    "duration": 47,
    "start_time": "2024-02-09T17:26:28.328Z"
   },
   {
    "duration": 11,
    "start_time": "2024-02-09T17:26:28.377Z"
   },
   {
    "duration": 44,
    "start_time": "2024-02-09T17:26:28.389Z"
   },
   {
    "duration": 57,
    "start_time": "2024-02-09T17:26:28.435Z"
   },
   {
    "duration": 93,
    "start_time": "2024-02-09T17:26:28.494Z"
   },
   {
    "duration": 3,
    "start_time": "2024-02-09T17:26:28.589Z"
   },
   {
    "duration": 5589,
    "start_time": "2024-02-09T17:26:28.594Z"
   },
   {
    "duration": 11,
    "start_time": "2024-02-09T17:26:34.184Z"
   },
   {
    "duration": 32,
    "start_time": "2024-02-09T17:26:34.196Z"
   },
   {
    "duration": 402,
    "start_time": "2024-02-09T17:26:34.230Z"
   },
   {
    "duration": 126275,
    "start_time": "2024-02-09T17:26:34.633Z"
   },
   {
    "duration": 2124,
    "start_time": "2024-02-09T17:28:40.910Z"
   },
   {
    "duration": 0,
    "start_time": "2024-02-09T17:28:43.036Z"
   },
   {
    "duration": 0,
    "start_time": "2024-02-09T17:28:43.037Z"
   },
   {
    "duration": 0,
    "start_time": "2024-02-09T17:28:43.038Z"
   },
   {
    "duration": 0,
    "start_time": "2024-02-09T17:28:43.039Z"
   },
   {
    "duration": 1,
    "start_time": "2024-02-09T17:28:43.040Z"
   },
   {
    "duration": 0,
    "start_time": "2024-02-09T17:28:43.041Z"
   },
   {
    "duration": 0,
    "start_time": "2024-02-09T17:28:43.043Z"
   },
   {
    "duration": 0,
    "start_time": "2024-02-09T17:28:43.045Z"
   },
   {
    "duration": 0,
    "start_time": "2024-02-09T17:28:43.046Z"
   },
   {
    "duration": 0,
    "start_time": "2024-02-09T17:28:43.047Z"
   },
   {
    "duration": 0,
    "start_time": "2024-02-09T17:28:43.048Z"
   },
   {
    "duration": 84,
    "start_time": "2024-02-09T17:39:14.466Z"
   },
   {
    "duration": 28,
    "start_time": "2024-02-09T17:39:15.835Z"
   },
   {
    "duration": 58,
    "start_time": "2024-02-09T17:43:16.607Z"
   },
   {
    "duration": 111620,
    "start_time": "2024-02-09T17:43:18.059Z"
   },
   {
    "duration": 1361,
    "start_time": "2024-02-09T17:45:39.086Z"
   },
   {
    "duration": 785,
    "start_time": "2024-02-09T17:45:40.449Z"
   },
   {
    "duration": 149,
    "start_time": "2024-02-09T17:45:41.236Z"
   },
   {
    "duration": 16,
    "start_time": "2024-02-09T17:45:41.387Z"
   },
   {
    "duration": 3,
    "start_time": "2024-02-09T17:45:41.405Z"
   },
   {
    "duration": 61,
    "start_time": "2024-02-09T17:45:41.409Z"
   },
   {
    "duration": 33,
    "start_time": "2024-02-09T17:45:41.471Z"
   },
   {
    "duration": 275,
    "start_time": "2024-02-09T17:45:41.506Z"
   },
   {
    "duration": 94,
    "start_time": "2024-02-09T17:45:41.783Z"
   },
   {
    "duration": 280,
    "start_time": "2024-02-09T17:45:41.887Z"
   },
   {
    "duration": 343,
    "start_time": "2024-02-09T17:45:42.169Z"
   },
   {
    "duration": 242,
    "start_time": "2024-02-09T17:45:42.514Z"
   },
   {
    "duration": 16,
    "start_time": "2024-02-09T17:45:42.757Z"
   },
   {
    "duration": 16,
    "start_time": "2024-02-09T17:45:42.774Z"
   },
   {
    "duration": 33,
    "start_time": "2024-02-09T17:45:42.791Z"
   },
   {
    "duration": 2,
    "start_time": "2024-02-09T17:45:42.825Z"
   },
   {
    "duration": 203,
    "start_time": "2024-02-09T17:45:42.829Z"
   },
   {
    "duration": 40,
    "start_time": "2024-02-09T17:45:43.033Z"
   },
   {
    "duration": 84,
    "start_time": "2024-02-09T17:45:43.075Z"
   },
   {
    "duration": 14,
    "start_time": "2024-02-09T17:45:43.161Z"
   },
   {
    "duration": 26,
    "start_time": "2024-02-09T17:45:43.187Z"
   },
   {
    "duration": 3,
    "start_time": "2024-02-09T17:45:43.214Z"
   },
   {
    "duration": 186,
    "start_time": "2024-02-09T17:45:43.218Z"
   },
   {
    "duration": 25,
    "start_time": "2024-02-09T17:45:43.405Z"
   },
   {
    "duration": 83,
    "start_time": "2024-02-09T17:45:43.432Z"
   },
   {
    "duration": 14,
    "start_time": "2024-02-09T17:45:43.517Z"
   },
   {
    "duration": 25,
    "start_time": "2024-02-09T17:45:43.532Z"
   },
   {
    "duration": 2,
    "start_time": "2024-02-09T17:45:43.561Z"
   },
   {
    "duration": 181,
    "start_time": "2024-02-09T17:45:43.565Z"
   },
   {
    "duration": 81,
    "start_time": "2024-02-09T17:45:43.747Z"
   },
   {
    "duration": 17,
    "start_time": "2024-02-09T17:45:43.830Z"
   },
   {
    "duration": 4,
    "start_time": "2024-02-09T17:45:43.848Z"
   },
   {
    "duration": 155,
    "start_time": "2024-02-09T17:45:43.853Z"
   },
   {
    "duration": 166,
    "start_time": "2024-02-09T17:45:44.010Z"
   },
   {
    "duration": 134,
    "start_time": "2024-02-09T17:45:44.178Z"
   },
   {
    "duration": 75,
    "start_time": "2024-02-09T17:45:44.313Z"
   },
   {
    "duration": 24,
    "start_time": "2024-02-09T17:45:44.390Z"
   },
   {
    "duration": 17,
    "start_time": "2024-02-09T17:45:44.416Z"
   },
   {
    "duration": 18,
    "start_time": "2024-02-09T17:45:44.435Z"
   },
   {
    "duration": 47,
    "start_time": "2024-02-09T17:45:44.455Z"
   },
   {
    "duration": 309,
    "start_time": "2024-02-09T17:45:44.503Z"
   },
   {
    "duration": 228,
    "start_time": "2024-02-09T17:45:44.814Z"
   },
   {
    "duration": 25,
    "start_time": "2024-02-09T17:45:45.043Z"
   },
   {
    "duration": 67,
    "start_time": "2024-02-09T17:45:45.069Z"
   },
   {
    "duration": 62,
    "start_time": "2024-02-09T17:45:45.137Z"
   },
   {
    "duration": 42,
    "start_time": "2024-02-09T17:45:45.201Z"
   },
   {
    "duration": 10,
    "start_time": "2024-02-09T17:45:45.244Z"
   },
   {
    "duration": 7,
    "start_time": "2024-02-09T17:45:45.255Z"
   },
   {
    "duration": 5,
    "start_time": "2024-02-09T17:45:45.264Z"
   },
   {
    "duration": 10,
    "start_time": "2024-02-09T17:45:45.270Z"
   },
   {
    "duration": 9,
    "start_time": "2024-02-09T17:45:45.281Z"
   },
   {
    "duration": 10,
    "start_time": "2024-02-09T17:45:45.291Z"
   },
   {
    "duration": 5,
    "start_time": "2024-02-09T17:45:45.302Z"
   },
   {
    "duration": 4,
    "start_time": "2024-02-09T17:45:45.308Z"
   },
   {
    "duration": 3,
    "start_time": "2024-02-09T17:45:45.314Z"
   },
   {
    "duration": 36,
    "start_time": "2024-02-09T17:45:45.318Z"
   },
   {
    "duration": 71,
    "start_time": "2024-02-09T17:45:45.355Z"
   },
   {
    "duration": 406,
    "start_time": "2024-02-09T17:45:45.428Z"
   },
   {
    "duration": 125,
    "start_time": "2024-02-09T17:45:45.835Z"
   },
   {
    "duration": 3,
    "start_time": "2024-02-09T17:45:45.961Z"
   },
   {
    "duration": 44,
    "start_time": "2024-02-09T17:45:45.965Z"
   },
   {
    "duration": 79,
    "start_time": "2024-02-09T17:45:46.011Z"
   },
   {
    "duration": 4,
    "start_time": "2024-02-09T17:45:46.092Z"
   },
   {
    "duration": 89,
    "start_time": "2024-02-09T17:45:46.098Z"
   },
   {
    "duration": 5467,
    "start_time": "2024-02-09T17:45:46.189Z"
   },
   {
    "duration": 9,
    "start_time": "2024-02-09T17:45:51.658Z"
   },
   {
    "duration": 6,
    "start_time": "2024-02-09T17:45:51.669Z"
   },
   {
    "duration": 242,
    "start_time": "2024-02-09T17:45:51.676Z"
   },
   {
    "duration": 101592,
    "start_time": "2024-02-09T17:45:51.920Z"
   },
   {
    "duration": 1976,
    "start_time": "2024-02-09T17:47:33.513Z"
   },
   {
    "duration": 0,
    "start_time": "2024-02-09T17:47:35.491Z"
   },
   {
    "duration": 0,
    "start_time": "2024-02-09T17:47:35.492Z"
   },
   {
    "duration": 0,
    "start_time": "2024-02-09T17:47:35.493Z"
   },
   {
    "duration": 0,
    "start_time": "2024-02-09T17:47:35.494Z"
   },
   {
    "duration": 0,
    "start_time": "2024-02-09T17:47:35.495Z"
   },
   {
    "duration": 0,
    "start_time": "2024-02-09T17:47:35.496Z"
   },
   {
    "duration": 0,
    "start_time": "2024-02-09T17:47:35.497Z"
   },
   {
    "duration": 0,
    "start_time": "2024-02-09T17:47:35.498Z"
   },
   {
    "duration": 0,
    "start_time": "2024-02-09T17:47:35.499Z"
   },
   {
    "duration": 0,
    "start_time": "2024-02-09T17:47:35.500Z"
   },
   {
    "duration": 0,
    "start_time": "2024-02-09T17:47:35.501Z"
   },
   {
    "duration": 3,
    "start_time": "2024-02-09T17:48:20.329Z"
   },
   {
    "duration": 101874,
    "start_time": "2024-02-09T17:48:21.834Z"
   },
   {
    "duration": 1994,
    "start_time": "2024-02-09T17:50:10.110Z"
   },
   {
    "duration": 4,
    "start_time": "2024-02-09T17:50:51.716Z"
   },
   {
    "duration": 3,
    "start_time": "2024-02-09T17:51:13.735Z"
   },
   {
    "duration": 16,
    "start_time": "2024-02-09T17:51:15.460Z"
   },
   {
    "duration": 106,
    "start_time": "2024-02-09T17:51:16.744Z"
   },
   {
    "duration": 256369,
    "start_time": "2024-02-09T17:51:19.119Z"
   },
   {
    "duration": 341,
    "start_time": "2024-02-09T17:58:28.781Z"
   },
   {
    "duration": 5,
    "start_time": "2024-02-09T17:58:30.102Z"
   },
   {
    "duration": 60,
    "start_time": "2024-02-09T17:58:52.827Z"
   },
   {
    "duration": 13,
    "start_time": "2024-02-09T17:59:08.795Z"
   },
   {
    "duration": 1980,
    "start_time": "2024-02-09T17:59:19.075Z"
   },
   {
    "duration": 382,
    "start_time": "2024-02-09T17:59:30.606Z"
   },
   {
    "duration": 1418,
    "start_time": "2024-02-09T18:03:11.579Z"
   },
   {
    "duration": 6,
    "start_time": "2024-02-09T18:03:16.100Z"
   },
   {
    "duration": 826,
    "start_time": "2024-02-09T18:03:18.624Z"
   },
   {
    "duration": 139,
    "start_time": "2024-02-09T18:03:20.568Z"
   },
   {
    "duration": 16,
    "start_time": "2024-02-09T18:03:21.270Z"
   },
   {
    "duration": 3,
    "start_time": "2024-02-09T18:03:22.789Z"
   },
   {
    "duration": 55,
    "start_time": "2024-02-09T18:03:23.720Z"
   },
   {
    "duration": 28,
    "start_time": "2024-02-09T18:03:25.001Z"
   },
   {
    "duration": 281,
    "start_time": "2024-02-09T18:03:26.211Z"
   },
   {
    "duration": 101,
    "start_time": "2024-02-09T18:03:27.223Z"
   },
   {
    "duration": 284,
    "start_time": "2024-02-09T18:03:28.670Z"
   },
   {
    "duration": 384,
    "start_time": "2024-02-09T18:03:28.960Z"
   },
   {
    "duration": 248,
    "start_time": "2024-02-09T18:03:29.649Z"
   },
   {
    "duration": 15,
    "start_time": "2024-02-09T18:03:30.288Z"
   },
   {
    "duration": 6,
    "start_time": "2024-02-09T18:03:30.790Z"
   },
   {
    "duration": 39,
    "start_time": "2024-02-09T18:03:31.282Z"
   },
   {
    "duration": 2,
    "start_time": "2024-02-09T18:03:31.993Z"
   },
   {
    "duration": 195,
    "start_time": "2024-02-09T18:03:32.238Z"
   },
   {
    "duration": 40,
    "start_time": "2024-02-09T18:03:33.182Z"
   },
   {
    "duration": 83,
    "start_time": "2024-02-09T18:03:33.870Z"
   },
   {
    "duration": 15,
    "start_time": "2024-02-09T18:03:34.576Z"
   },
   {
    "duration": 27,
    "start_time": "2024-02-09T18:03:35.263Z"
   },
   {
    "duration": 3,
    "start_time": "2024-02-09T18:03:35.952Z"
   },
   {
    "duration": 183,
    "start_time": "2024-02-09T18:03:36.177Z"
   },
   {
    "duration": 26,
    "start_time": "2024-02-09T18:03:36.598Z"
   },
   {
    "duration": 82,
    "start_time": "2024-02-09T18:03:37.696Z"
   },
   {
    "duration": 14,
    "start_time": "2024-02-09T18:03:38.402Z"
   },
   {
    "duration": 24,
    "start_time": "2024-02-09T18:03:38.852Z"
   },
   {
    "duration": 2,
    "start_time": "2024-02-09T18:03:39.764Z"
   },
   {
    "duration": 237,
    "start_time": "2024-02-09T18:03:40.007Z"
   },
   {
    "duration": 70,
    "start_time": "2024-02-09T18:03:40.480Z"
   },
   {
    "duration": 15,
    "start_time": "2024-02-09T18:03:41.368Z"
   },
   {
    "duration": 4,
    "start_time": "2024-02-09T18:03:42.669Z"
   },
   {
    "duration": 147,
    "start_time": "2024-02-09T18:03:45.054Z"
   },
   {
    "duration": 157,
    "start_time": "2024-02-09T18:03:46.010Z"
   },
   {
    "duration": 127,
    "start_time": "2024-02-09T18:03:46.384Z"
   },
   {
    "duration": 67,
    "start_time": "2024-02-09T18:03:47.394Z"
   },
   {
    "duration": 15,
    "start_time": "2024-02-09T18:03:48.067Z"
   },
   {
    "duration": 28,
    "start_time": "2024-02-09T18:03:48.386Z"
   },
   {
    "duration": 17,
    "start_time": "2024-02-09T18:03:49.356Z"
   },
   {
    "duration": 25,
    "start_time": "2024-02-09T18:03:49.997Z"
   },
   {
    "duration": 235,
    "start_time": "2024-02-09T18:03:50.609Z"
   },
   {
    "duration": 249,
    "start_time": "2024-02-09T18:03:50.927Z"
   },
   {
    "duration": 35,
    "start_time": "2024-02-09T18:03:51.216Z"
   },
   {
    "duration": 52,
    "start_time": "2024-02-09T18:03:51.796Z"
   },
   {
    "duration": 2,
    "start_time": "2024-02-09T18:03:53.835Z"
   },
   {
    "duration": 2,
    "start_time": "2024-02-09T18:03:55.002Z"
   },
   {
    "duration": 2,
    "start_time": "2024-02-09T18:03:55.274Z"
   },
   {
    "duration": 2,
    "start_time": "2024-02-09T18:03:56.125Z"
   },
   {
    "duration": 2,
    "start_time": "2024-02-09T18:03:56.692Z"
   },
   {
    "duration": 2,
    "start_time": "2024-02-09T18:03:56.976Z"
   },
   {
    "duration": 3,
    "start_time": "2024-02-09T18:03:57.259Z"
   },
   {
    "duration": 2,
    "start_time": "2024-02-09T18:03:57.535Z"
   },
   {
    "duration": 2,
    "start_time": "2024-02-09T18:03:57.829Z"
   },
   {
    "duration": 2,
    "start_time": "2024-02-09T18:03:58.059Z"
   },
   {
    "duration": 2,
    "start_time": "2024-02-09T18:03:58.625Z"
   },
   {
    "duration": 15,
    "start_time": "2024-02-09T18:03:59.200Z"
   },
   {
    "duration": 75,
    "start_time": "2024-02-09T18:04:00.026Z"
   },
   {
    "duration": 614,
    "start_time": "2024-02-09T18:04:00.886Z"
   },
   {
    "duration": 51,
    "start_time": "2024-02-09T18:04:02.871Z"
   },
   {
    "duration": 3,
    "start_time": "2024-02-09T18:04:04.545Z"
   },
   {
    "duration": 42,
    "start_time": "2024-02-09T18:04:05.504Z"
   },
   {
    "duration": 14,
    "start_time": "2024-02-09T18:04:06.460Z"
   },
   {
    "duration": 5,
    "start_time": "2024-02-09T18:04:06.916Z"
   },
   {
    "duration": 3,
    "start_time": "2024-02-09T18:04:09.085Z"
   },
   {
    "duration": 5617,
    "start_time": "2024-02-09T18:04:09.888Z"
   },
   {
    "duration": 10,
    "start_time": "2024-02-09T18:04:15.507Z"
   },
   {
    "duration": 29,
    "start_time": "2024-02-09T18:04:15.519Z"
   },
   {
    "duration": 586,
    "start_time": "2024-02-09T18:04:17.059Z"
   },
   {
    "duration": 2,
    "start_time": "2024-02-09T18:04:17.647Z"
   },
   {
    "duration": 128594,
    "start_time": "2024-02-09T18:04:18.282Z"
   },
   {
    "duration": 380,
    "start_time": "2024-02-09T18:06:26.878Z"
   },
   {
    "duration": 5,
    "start_time": "2024-02-09T18:06:27.259Z"
   },
   {
    "duration": 3,
    "start_time": "2024-02-09T18:06:27.266Z"
   },
   {
    "duration": 45,
    "start_time": "2024-02-09T18:06:27.270Z"
   },
   {
    "duration": 227,
    "start_time": "2024-02-09T18:06:27.317Z"
   },
   {
    "duration": 169014,
    "start_time": "2024-02-09T18:07:04.574Z"
   },
   {
    "duration": 508,
    "start_time": "2024-02-09T18:09:53.590Z"
   },
   {
    "duration": 6,
    "start_time": "2024-02-09T18:11:24.421Z"
   },
   {
    "duration": 2,
    "start_time": "2024-02-09T18:13:29.897Z"
   },
   {
    "duration": 1375,
    "start_time": "2024-02-09T18:15:23.408Z"
   },
   {
    "duration": 865,
    "start_time": "2024-02-09T18:15:26.101Z"
   },
   {
    "duration": 171,
    "start_time": "2024-02-09T18:15:28.200Z"
   },
   {
    "duration": 15,
    "start_time": "2024-02-09T18:15:29.025Z"
   },
   {
    "duration": 4,
    "start_time": "2024-02-09T18:15:30.672Z"
   },
   {
    "duration": 62,
    "start_time": "2024-02-09T18:15:31.783Z"
   },
   {
    "duration": 31,
    "start_time": "2024-02-09T18:15:33.442Z"
   },
   {
    "duration": 307,
    "start_time": "2024-02-09T18:15:35.099Z"
   },
   {
    "duration": 96,
    "start_time": "2024-02-09T18:15:36.735Z"
   },
   {
    "duration": 284,
    "start_time": "2024-02-09T18:15:39.475Z"
   },
   {
    "duration": 350,
    "start_time": "2024-02-09T18:15:40.043Z"
   },
   {
    "duration": 258,
    "start_time": "2024-02-09T18:15:40.638Z"
   },
   {
    "duration": 16,
    "start_time": "2024-02-09T18:15:42.914Z"
   },
   {
    "duration": 5,
    "start_time": "2024-02-09T18:15:44.071Z"
   },
   {
    "duration": 30,
    "start_time": "2024-02-09T18:15:45.214Z"
   },
   {
    "duration": 3,
    "start_time": "2024-02-09T18:15:46.896Z"
   },
   {
    "duration": 199,
    "start_time": "2024-02-09T18:15:47.501Z"
   },
   {
    "duration": 39,
    "start_time": "2024-02-09T18:15:49.863Z"
   },
   {
    "duration": 77,
    "start_time": "2024-02-09T18:15:51.615Z"
   },
   {
    "duration": 15,
    "start_time": "2024-02-09T18:15:53.296Z"
   },
   {
    "duration": 26,
    "start_time": "2024-02-09T18:15:54.946Z"
   },
   {
    "duration": 2,
    "start_time": "2024-02-09T18:15:56.669Z"
   },
   {
    "duration": 171,
    "start_time": "2024-02-09T18:15:57.211Z"
   },
   {
    "duration": 25,
    "start_time": "2024-02-09T18:15:58.366Z"
   },
   {
    "duration": 79,
    "start_time": "2024-02-09T18:16:01.182Z"
   },
   {
    "duration": 17,
    "start_time": "2024-02-09T18:16:02.866Z"
   },
   {
    "duration": 25,
    "start_time": "2024-02-09T18:16:03.965Z"
   },
   {
    "duration": 2,
    "start_time": "2024-02-09T18:16:06.211Z"
   },
   {
    "duration": 165,
    "start_time": "2024-02-09T18:16:06.796Z"
   },
   {
    "duration": 74,
    "start_time": "2024-02-09T18:16:07.951Z"
   },
   {
    "duration": 16,
    "start_time": "2024-02-09T18:16:09.546Z"
   },
   {
    "duration": 4,
    "start_time": "2024-02-09T18:16:10.624Z"
   },
   {
    "duration": 137,
    "start_time": "2024-02-09T18:16:16.724Z"
   },
   {
    "duration": 161,
    "start_time": "2024-02-09T18:16:17.795Z"
   },
   {
    "duration": 122,
    "start_time": "2024-02-09T18:16:18.321Z"
   },
   {
    "duration": 64,
    "start_time": "2024-02-09T18:16:19.949Z"
   },
   {
    "duration": 16,
    "start_time": "2024-02-09T18:16:21.344Z"
   },
   {
    "duration": 16,
    "start_time": "2024-02-09T18:16:21.969Z"
   },
   {
    "duration": 18,
    "start_time": "2024-02-09T18:16:23.887Z"
   },
   {
    "duration": 43,
    "start_time": "2024-02-09T18:16:24.957Z"
   },
   {
    "duration": 314,
    "start_time": "2024-02-09T18:16:25.957Z"
   },
   {
    "duration": 233,
    "start_time": "2024-02-09T18:16:26.440Z"
   },
   {
    "duration": 24,
    "start_time": "2024-02-09T18:16:26.937Z"
   },
   {
    "duration": 50,
    "start_time": "2024-02-09T18:16:27.908Z"
   },
   {
    "duration": 2,
    "start_time": "2024-02-09T18:16:31.390Z"
   },
   {
    "duration": 3,
    "start_time": "2024-02-09T18:16:33.357Z"
   },
   {
    "duration": 2,
    "start_time": "2024-02-09T18:16:33.849Z"
   },
   {
    "duration": 2,
    "start_time": "2024-02-09T18:16:35.385Z"
   },
   {
    "duration": 2,
    "start_time": "2024-02-09T18:17:40.926Z"
   },
   {
    "duration": 2,
    "start_time": "2024-02-09T18:17:41.553Z"
   },
   {
    "duration": 3,
    "start_time": "2024-02-09T18:17:42.164Z"
   },
   {
    "duration": 3,
    "start_time": "2024-02-09T18:17:42.765Z"
   },
   {
    "duration": 2,
    "start_time": "2024-02-09T18:17:43.309Z"
   },
   {
    "duration": 3,
    "start_time": "2024-02-09T18:17:43.833Z"
   },
   {
    "duration": 2,
    "start_time": "2024-02-09T18:17:44.909Z"
   },
   {
    "duration": 14,
    "start_time": "2024-02-09T18:17:46.118Z"
   },
   {
    "duration": 69,
    "start_time": "2024-02-09T18:17:47.726Z"
   },
   {
    "duration": 602,
    "start_time": "2024-02-09T18:17:48.840Z"
   },
   {
    "duration": 57,
    "start_time": "2024-02-09T18:17:50.090Z"
   },
   {
    "duration": 2,
    "start_time": "2024-02-09T18:17:51.830Z"
   },
   {
    "duration": 43,
    "start_time": "2024-02-09T18:17:52.951Z"
   },
   {
    "duration": 8,
    "start_time": "2024-02-09T18:17:54.479Z"
   },
   {
    "duration": 4,
    "start_time": "2024-02-09T18:17:55.119Z"
   },
   {
    "duration": 3,
    "start_time": "2024-02-09T18:17:59.129Z"
   },
   {
    "duration": 1324,
    "start_time": "2024-02-09T18:18:06.173Z"
   },
   {
    "duration": 1369,
    "start_time": "2024-02-09T18:18:24.503Z"
   },
   {
    "duration": 1356,
    "start_time": "2024-02-09T18:18:52.929Z"
   },
   {
    "duration": 1274,
    "start_time": "2024-02-09T18:21:41.656Z"
   },
   {
    "duration": 235,
    "start_time": "2024-02-09T18:22:48.669Z"
   },
   {
    "duration": 10,
    "start_time": "2024-02-09T18:23:04.519Z"
   },
   {
    "duration": 4,
    "start_time": "2024-02-09T18:23:14.495Z"
   },
   {
    "duration": 2,
    "start_time": "2024-02-09T18:24:52.218Z"
   },
   {
    "duration": 1446,
    "start_time": "2024-02-09T18:25:29.963Z"
   },
   {
    "duration": 846,
    "start_time": "2024-02-09T18:25:31.411Z"
   },
   {
    "duration": 145,
    "start_time": "2024-02-09T18:25:32.258Z"
   },
   {
    "duration": 53,
    "start_time": "2024-02-09T18:25:32.405Z"
   },
   {
    "duration": 54,
    "start_time": "2024-02-09T18:25:32.459Z"
   },
   {
    "duration": 59,
    "start_time": "2024-02-09T18:25:32.515Z"
   },
   {
    "duration": 20,
    "start_time": "2024-02-09T18:25:32.575Z"
   },
   {
    "duration": 299,
    "start_time": "2024-02-09T18:25:32.597Z"
   },
   {
    "duration": 98,
    "start_time": "2024-02-09T18:25:32.898Z"
   },
   {
    "duration": 291,
    "start_time": "2024-02-09T18:25:32.998Z"
   },
   {
    "duration": 348,
    "start_time": "2024-02-09T18:25:33.290Z"
   },
   {
    "duration": 247,
    "start_time": "2024-02-09T18:25:33.640Z"
   },
   {
    "duration": 16,
    "start_time": "2024-02-09T18:25:33.889Z"
   },
   {
    "duration": 5,
    "start_time": "2024-02-09T18:25:33.906Z"
   },
   {
    "duration": 34,
    "start_time": "2024-02-09T18:25:33.913Z"
   },
   {
    "duration": 2,
    "start_time": "2024-02-09T18:25:33.949Z"
   },
   {
    "duration": 209,
    "start_time": "2024-02-09T18:25:33.952Z"
   },
   {
    "duration": 51,
    "start_time": "2024-02-09T18:25:34.163Z"
   },
   {
    "duration": 89,
    "start_time": "2024-02-09T18:25:34.216Z"
   },
   {
    "duration": 15,
    "start_time": "2024-02-09T18:25:34.307Z"
   },
   {
    "duration": 30,
    "start_time": "2024-02-09T18:25:34.323Z"
   },
   {
    "duration": 2,
    "start_time": "2024-02-09T18:25:34.356Z"
   },
   {
    "duration": 224,
    "start_time": "2024-02-09T18:25:34.360Z"
   },
   {
    "duration": 25,
    "start_time": "2024-02-09T18:25:34.586Z"
   },
   {
    "duration": 83,
    "start_time": "2024-02-09T18:25:34.613Z"
   },
   {
    "duration": 15,
    "start_time": "2024-02-09T18:25:34.697Z"
   },
   {
    "duration": 32,
    "start_time": "2024-02-09T18:25:34.713Z"
   },
   {
    "duration": 3,
    "start_time": "2024-02-09T18:25:34.749Z"
   },
   {
    "duration": 190,
    "start_time": "2024-02-09T18:25:34.753Z"
   },
   {
    "duration": 88,
    "start_time": "2024-02-09T18:25:34.944Z"
   },
   {
    "duration": 21,
    "start_time": "2024-02-09T18:25:35.033Z"
   },
   {
    "duration": 6,
    "start_time": "2024-02-09T18:25:35.056Z"
   },
   {
    "duration": 173,
    "start_time": "2024-02-09T18:25:35.064Z"
   },
   {
    "duration": 178,
    "start_time": "2024-02-09T18:25:35.239Z"
   },
   {
    "duration": 133,
    "start_time": "2024-02-09T18:25:35.418Z"
   },
   {
    "duration": 70,
    "start_time": "2024-02-09T18:25:35.553Z"
   },
   {
    "duration": 16,
    "start_time": "2024-02-09T18:25:35.625Z"
   },
   {
    "duration": 17,
    "start_time": "2024-02-09T18:25:35.642Z"
   },
   {
    "duration": 35,
    "start_time": "2024-02-09T18:25:35.660Z"
   },
   {
    "duration": 28,
    "start_time": "2024-02-09T18:25:35.696Z"
   },
   {
    "duration": 313,
    "start_time": "2024-02-09T18:25:35.725Z"
   },
   {
    "duration": 233,
    "start_time": "2024-02-09T18:25:36.040Z"
   },
   {
    "duration": 30,
    "start_time": "2024-02-09T18:25:36.275Z"
   },
   {
    "duration": 63,
    "start_time": "2024-02-09T18:25:36.306Z"
   },
   {
    "duration": 2,
    "start_time": "2024-02-09T18:25:36.371Z"
   },
   {
    "duration": 2,
    "start_time": "2024-02-09T18:25:36.387Z"
   },
   {
    "duration": 5,
    "start_time": "2024-02-09T18:25:36.390Z"
   },
   {
    "duration": 5,
    "start_time": "2024-02-09T18:25:36.397Z"
   },
   {
    "duration": 5,
    "start_time": "2024-02-09T18:25:36.403Z"
   },
   {
    "duration": 4,
    "start_time": "2024-02-09T18:25:36.410Z"
   },
   {
    "duration": 4,
    "start_time": "2024-02-09T18:25:36.415Z"
   },
   {
    "duration": 11,
    "start_time": "2024-02-09T18:25:36.421Z"
   },
   {
    "duration": 15,
    "start_time": "2024-02-09T18:25:36.433Z"
   },
   {
    "duration": 6,
    "start_time": "2024-02-09T18:25:36.450Z"
   },
   {
    "duration": 5,
    "start_time": "2024-02-09T18:25:36.458Z"
   },
   {
    "duration": 18,
    "start_time": "2024-02-09T18:25:36.464Z"
   },
   {
    "duration": 68,
    "start_time": "2024-02-09T18:25:36.484Z"
   },
   {
    "duration": 586,
    "start_time": "2024-02-09T18:25:36.554Z"
   },
   {
    "duration": 54,
    "start_time": "2024-02-09T18:25:37.142Z"
   },
   {
    "duration": 2,
    "start_time": "2024-02-09T18:25:37.198Z"
   },
   {
    "duration": 54,
    "start_time": "2024-02-09T18:25:37.201Z"
   },
   {
    "duration": 42,
    "start_time": "2024-02-09T18:25:37.257Z"
   },
   {
    "duration": 99,
    "start_time": "2024-02-09T18:25:37.388Z"
   },
   {
    "duration": 2,
    "start_time": "2024-02-09T18:25:37.489Z"
   },
   {
    "duration": 1324,
    "start_time": "2024-02-09T18:25:37.493Z"
   },
   {
    "duration": 2,
    "start_time": "2024-02-09T18:25:38.819Z"
   },
   {
    "duration": 20,
    "start_time": "2024-02-09T18:25:38.823Z"
   },
   {
    "duration": 8,
    "start_time": "2024-02-09T18:25:38.844Z"
   },
   {
    "duration": 244,
    "start_time": "2024-02-09T18:25:38.853Z"
   },
   {
    "duration": 9,
    "start_time": "2024-02-09T18:25:39.098Z"
   },
   {
    "duration": 4,
    "start_time": "2024-02-09T18:25:39.109Z"
   },
   {
    "duration": 624,
    "start_time": "2024-02-09T18:25:39.114Z"
   },
   {
    "duration": 3,
    "start_time": "2024-02-09T18:25:39.740Z"
   },
   {
    "duration": 130168,
    "start_time": "2024-02-09T18:25:39.744Z"
   },
   {
    "duration": 390,
    "start_time": "2024-02-09T18:27:49.914Z"
   },
   {
    "duration": 5,
    "start_time": "2024-02-09T18:27:50.306Z"
   },
   {
    "duration": 8,
    "start_time": "2024-02-09T18:27:50.312Z"
   },
   {
    "duration": 28,
    "start_time": "2024-02-09T18:27:50.322Z"
   },
   {
    "duration": 253,
    "start_time": "2024-02-09T18:27:50.352Z"
   },
   {
    "duration": 4900,
    "start_time": "2024-02-09T18:27:50.606Z"
   },
   {
    "duration": 585,
    "start_time": "2024-02-09T18:27:55.508Z"
   },
   {
    "duration": 4,
    "start_time": "2024-02-09T18:27:56.098Z"
   },
   {
    "duration": 46,
    "start_time": "2024-02-09T18:27:56.103Z"
   },
   {
    "duration": 239,
    "start_time": "2024-02-09T18:27:56.150Z"
   },
   {
    "duration": 0,
    "start_time": "2024-02-09T18:27:56.391Z"
   },
   {
    "duration": 0,
    "start_time": "2024-02-09T18:27:56.392Z"
   },
   {
    "duration": 1449,
    "start_time": "2024-02-09T18:49:19.933Z"
   },
   {
    "duration": 821,
    "start_time": "2024-02-09T18:49:21.724Z"
   },
   {
    "duration": 136,
    "start_time": "2024-02-09T18:49:23.450Z"
   },
   {
    "duration": 15,
    "start_time": "2024-02-09T18:49:24.109Z"
   },
   {
    "duration": 3,
    "start_time": "2024-02-09T18:49:25.608Z"
   },
   {
    "duration": 53,
    "start_time": "2024-02-09T18:49:26.531Z"
   },
   {
    "duration": 18,
    "start_time": "2024-02-09T18:49:27.861Z"
   },
   {
    "duration": 274,
    "start_time": "2024-02-09T18:49:29.770Z"
   },
   {
    "duration": 97,
    "start_time": "2024-02-09T18:49:30.553Z"
   },
   {
    "duration": 286,
    "start_time": "2024-02-09T18:49:32.708Z"
   },
   {
    "duration": 357,
    "start_time": "2024-02-09T18:49:32.995Z"
   },
   {
    "duration": 257,
    "start_time": "2024-02-09T18:49:33.354Z"
   },
   {
    "duration": 16,
    "start_time": "2024-02-09T18:49:34.227Z"
   },
   {
    "duration": 4,
    "start_time": "2024-02-09T18:49:34.709Z"
   },
   {
    "duration": 31,
    "start_time": "2024-02-09T18:49:35.173Z"
   },
   {
    "duration": 3,
    "start_time": "2024-02-09T18:49:35.849Z"
   },
   {
    "duration": 200,
    "start_time": "2024-02-09T18:49:36.081Z"
   },
   {
    "duration": 38,
    "start_time": "2024-02-09T18:49:36.933Z"
   },
   {
    "duration": 77,
    "start_time": "2024-02-09T18:49:37.536Z"
   },
   {
    "duration": 15,
    "start_time": "2024-02-09T18:49:38.191Z"
   },
   {
    "duration": 27,
    "start_time": "2024-02-09T18:49:38.777Z"
   },
   {
    "duration": 2,
    "start_time": "2024-02-09T18:49:39.350Z"
   },
   {
    "duration": 175,
    "start_time": "2024-02-09T18:49:39.550Z"
   },
   {
    "duration": 27,
    "start_time": "2024-02-09T18:49:39.939Z"
   },
   {
    "duration": 73,
    "start_time": "2024-02-09T18:49:40.928Z"
   },
   {
    "duration": 14,
    "start_time": "2024-02-09T18:49:41.460Z"
   },
   {
    "duration": 25,
    "start_time": "2024-02-09T18:49:41.843Z"
   },
   {
    "duration": 2,
    "start_time": "2024-02-09T18:49:42.593Z"
   },
   {
    "duration": 163,
    "start_time": "2024-02-09T18:49:42.789Z"
   },
   {
    "duration": 71,
    "start_time": "2024-02-09T18:49:43.171Z"
   },
   {
    "duration": 15,
    "start_time": "2024-02-09T18:49:43.754Z"
   },
   {
    "duration": 4,
    "start_time": "2024-02-09T18:49:44.142Z"
   },
   {
    "duration": 147,
    "start_time": "2024-02-09T18:49:45.124Z"
   },
   {
    "duration": 153,
    "start_time": "2024-02-09T18:49:45.507Z"
   },
   {
    "duration": 125,
    "start_time": "2024-02-09T18:49:45.691Z"
   },
   {
    "duration": 66,
    "start_time": "2024-02-09T18:49:46.292Z"
   },
   {
    "duration": 17,
    "start_time": "2024-02-09T18:49:46.661Z"
   },
   {
    "duration": 16,
    "start_time": "2024-02-09T18:49:56.765Z"
   },
   {
    "duration": 17,
    "start_time": "2024-02-09T18:49:57.284Z"
   },
   {
    "duration": 25,
    "start_time": "2024-02-09T18:49:57.624Z"
   },
   {
    "duration": 317,
    "start_time": "2024-02-09T18:49:57.993Z"
   },
   {
    "duration": 237,
    "start_time": "2024-02-09T18:49:58.312Z"
   },
   {
    "duration": 36,
    "start_time": "2024-02-09T18:49:58.551Z"
   },
   {
    "duration": 52,
    "start_time": "2024-02-09T18:49:58.683Z"
   },
   {
    "duration": 2,
    "start_time": "2024-02-09T18:49:59.848Z"
   },
   {
    "duration": 3,
    "start_time": "2024-02-09T18:50:00.600Z"
   },
   {
    "duration": 2,
    "start_time": "2024-02-09T18:50:00.855Z"
   },
   {
    "duration": 2,
    "start_time": "2024-02-09T18:50:01.413Z"
   },
   {
    "duration": 2,
    "start_time": "2024-02-09T18:50:01.784Z"
   },
   {
    "duration": 3,
    "start_time": "2024-02-09T18:50:01.980Z"
   },
   {
    "duration": 2,
    "start_time": "2024-02-09T18:50:02.358Z"
   },
   {
    "duration": 3,
    "start_time": "2024-02-09T18:50:02.596Z"
   },
   {
    "duration": 2,
    "start_time": "2024-02-09T18:50:02.787Z"
   },
   {
    "duration": 2,
    "start_time": "2024-02-09T18:50:02.978Z"
   },
   {
    "duration": 3,
    "start_time": "2024-02-09T18:50:03.413Z"
   },
   {
    "duration": 14,
    "start_time": "2024-02-09T18:50:03.981Z"
   },
   {
    "duration": 69,
    "start_time": "2024-02-09T18:50:04.781Z"
   },
   {
    "duration": 600,
    "start_time": "2024-02-09T18:50:05.439Z"
   },
   {
    "duration": 50,
    "start_time": "2024-02-09T18:50:06.157Z"
   },
   {
    "duration": 2,
    "start_time": "2024-02-09T18:50:07.361Z"
   },
   {
    "duration": 40,
    "start_time": "2024-02-09T18:50:08.079Z"
   },
   {
    "duration": 8,
    "start_time": "2024-02-09T18:50:08.786Z"
   },
   {
    "duration": 5,
    "start_time": "2024-02-09T18:50:56.164Z"
   },
   {
    "duration": 3,
    "start_time": "2024-02-09T18:51:10.590Z"
   },
   {
    "duration": 1329,
    "start_time": "2024-02-09T18:51:12.271Z"
   },
   {
    "duration": 3,
    "start_time": "2024-02-09T18:51:15.199Z"
   },
   {
    "duration": 2,
    "start_time": "2024-02-09T18:51:15.700Z"
   },
   {
    "duration": 2,
    "start_time": "2024-02-09T18:51:16.221Z"
   },
   {
    "duration": 252,
    "start_time": "2024-02-09T18:51:17.257Z"
   },
   {
    "duration": 10,
    "start_time": "2024-02-09T18:51:31.106Z"
   },
   {
    "duration": 4,
    "start_time": "2024-02-09T18:51:45.707Z"
   },
   {
    "duration": 591,
    "start_time": "2024-02-09T18:51:50.927Z"
   },
   {
    "duration": 3,
    "start_time": "2024-02-09T18:51:51.519Z"
   },
   {
    "duration": 128448,
    "start_time": "2024-02-09T18:51:52.879Z"
   },
   {
    "duration": 387,
    "start_time": "2024-02-09T18:54:01.328Z"
   },
   {
    "duration": 403,
    "start_time": "2024-02-09T18:54:13.607Z"
   },
   {
    "duration": 4,
    "start_time": "2024-02-09T18:54:14.905Z"
   },
   {
    "duration": 3,
    "start_time": "2024-02-09T18:54:33.947Z"
   },
   {
    "duration": 26,
    "start_time": "2024-02-09T18:54:35.216Z"
   },
   {
    "duration": 235,
    "start_time": "2024-02-09T18:54:35.737Z"
   },
   {
    "duration": 373759,
    "start_time": "2024-02-09T18:54:37.242Z"
   },
   {
    "duration": 519,
    "start_time": "2024-02-09T19:01:23.188Z"
   },
   {
    "duration": 3,
    "start_time": "2024-02-09T19:01:32.974Z"
   },
   {
    "duration": 364,
    "start_time": "2024-02-09T19:07:12.792Z"
   },
   {
    "duration": 3,
    "start_time": "2024-02-09T19:07:30.684Z"
   },
   {
    "duration": 2,
    "start_time": "2024-02-09T19:07:40.813Z"
   },
   {
    "duration": 2,
    "start_time": "2024-02-09T19:07:47.678Z"
   },
   {
    "duration": 3,
    "start_time": "2024-02-09T19:07:56.784Z"
   },
   {
    "duration": 2,
    "start_time": "2024-02-09T19:08:02.714Z"
   },
   {
    "duration": 2,
    "start_time": "2024-02-09T19:08:08.405Z"
   },
   {
    "duration": 3,
    "start_time": "2024-02-09T19:08:13.162Z"
   },
   {
    "duration": 3,
    "start_time": "2024-02-09T19:08:23.332Z"
   },
   {
    "duration": 2,
    "start_time": "2024-02-09T19:08:27.847Z"
   },
   {
    "duration": 2,
    "start_time": "2024-02-09T19:10:48.058Z"
   },
   {
    "duration": 2,
    "start_time": "2024-02-09T19:17:22.408Z"
   },
   {
    "duration": 2,
    "start_time": "2024-02-09T19:17:26.091Z"
   },
   {
    "duration": 2,
    "start_time": "2024-02-09T19:17:48.901Z"
   },
   {
    "duration": 3,
    "start_time": "2024-02-09T19:18:03.434Z"
   },
   {
    "duration": 9,
    "start_time": "2024-02-09T19:24:34.398Z"
   },
   {
    "duration": 76,
    "start_time": "2024-02-09T19:25:24.487Z"
   },
   {
    "duration": 4,
    "start_time": "2024-02-09T19:25:34.243Z"
   },
   {
    "duration": 375,
    "start_time": "2024-02-09T19:30:00.974Z"
   },
   {
    "duration": 74,
    "start_time": "2024-02-09T19:30:57.914Z"
   },
   {
    "duration": 1445,
    "start_time": "2024-02-09T19:31:29.082Z"
   },
   {
    "duration": 827,
    "start_time": "2024-02-09T19:31:30.529Z"
   },
   {
    "duration": 148,
    "start_time": "2024-02-09T19:31:31.357Z"
   },
   {
    "duration": 14,
    "start_time": "2024-02-09T19:31:31.507Z"
   },
   {
    "duration": 89,
    "start_time": "2024-02-09T19:31:31.522Z"
   },
   {
    "duration": 84,
    "start_time": "2024-02-09T19:31:31.612Z"
   },
   {
    "duration": 29,
    "start_time": "2024-02-09T19:31:31.698Z"
   },
   {
    "duration": 287,
    "start_time": "2024-02-09T19:31:31.728Z"
   },
   {
    "duration": 93,
    "start_time": "2024-02-09T19:31:32.017Z"
   },
   {
    "duration": 320,
    "start_time": "2024-02-09T19:31:32.113Z"
   },
   {
    "duration": 345,
    "start_time": "2024-02-09T19:31:32.435Z"
   },
   {
    "duration": 233,
    "start_time": "2024-02-09T19:31:32.781Z"
   },
   {
    "duration": 14,
    "start_time": "2024-02-09T19:31:33.016Z"
   },
   {
    "duration": 10,
    "start_time": "2024-02-09T19:31:33.031Z"
   },
   {
    "duration": 45,
    "start_time": "2024-02-09T19:31:33.042Z"
   },
   {
    "duration": 2,
    "start_time": "2024-02-09T19:31:33.089Z"
   },
   {
    "duration": 220,
    "start_time": "2024-02-09T19:31:33.092Z"
   },
   {
    "duration": 40,
    "start_time": "2024-02-09T19:31:33.314Z"
   },
   {
    "duration": 88,
    "start_time": "2024-02-09T19:31:33.355Z"
   },
   {
    "duration": 15,
    "start_time": "2024-02-09T19:31:33.445Z"
   },
   {
    "duration": 39,
    "start_time": "2024-02-09T19:31:33.461Z"
   },
   {
    "duration": 3,
    "start_time": "2024-02-09T19:31:33.501Z"
   },
   {
    "duration": 197,
    "start_time": "2024-02-09T19:31:33.505Z"
   },
   {
    "duration": 26,
    "start_time": "2024-02-09T19:31:33.703Z"
   },
   {
    "duration": 87,
    "start_time": "2024-02-09T19:31:33.731Z"
   },
   {
    "duration": 13,
    "start_time": "2024-02-09T19:31:33.820Z"
   },
   {
    "duration": 25,
    "start_time": "2024-02-09T19:31:33.835Z"
   },
   {
    "duration": 11,
    "start_time": "2024-02-09T19:31:33.863Z"
   },
   {
    "duration": 201,
    "start_time": "2024-02-09T19:31:33.876Z"
   },
   {
    "duration": 75,
    "start_time": "2024-02-09T19:31:34.078Z"
   },
   {
    "duration": 16,
    "start_time": "2024-02-09T19:31:34.155Z"
   },
   {
    "duration": 17,
    "start_time": "2024-02-09T19:31:34.172Z"
   },
   {
    "duration": 154,
    "start_time": "2024-02-09T19:31:34.190Z"
   },
   {
    "duration": 186,
    "start_time": "2024-02-09T19:31:34.345Z"
   },
   {
    "duration": 132,
    "start_time": "2024-02-09T19:31:34.532Z"
   },
   {
    "duration": 64,
    "start_time": "2024-02-09T19:31:34.665Z"
   },
   {
    "duration": 15,
    "start_time": "2024-02-09T19:31:34.731Z"
   },
   {
    "duration": 23,
    "start_time": "2024-02-09T19:31:34.747Z"
   },
   {
    "duration": 33,
    "start_time": "2024-02-09T19:31:34.771Z"
   },
   {
    "duration": 42,
    "start_time": "2024-02-09T19:31:34.805Z"
   },
   {
    "duration": 316,
    "start_time": "2024-02-09T19:31:34.849Z"
   },
   {
    "duration": 241,
    "start_time": "2024-02-09T19:31:35.166Z"
   },
   {
    "duration": 25,
    "start_time": "2024-02-09T19:31:35.409Z"
   },
   {
    "duration": 61,
    "start_time": "2024-02-09T19:31:35.436Z"
   },
   {
    "duration": 12,
    "start_time": "2024-02-09T19:31:35.499Z"
   },
   {
    "duration": 22,
    "start_time": "2024-02-09T19:31:35.512Z"
   },
   {
    "duration": 15,
    "start_time": "2024-02-09T19:31:35.535Z"
   },
   {
    "duration": 13,
    "start_time": "2024-02-09T19:31:35.551Z"
   },
   {
    "duration": 18,
    "start_time": "2024-02-09T19:31:35.565Z"
   },
   {
    "duration": 52,
    "start_time": "2024-02-09T19:31:35.584Z"
   },
   {
    "duration": 32,
    "start_time": "2024-02-09T19:31:35.638Z"
   },
   {
    "duration": 19,
    "start_time": "2024-02-09T19:31:35.672Z"
   },
   {
    "duration": 26,
    "start_time": "2024-02-09T19:31:35.693Z"
   },
   {
    "duration": 18,
    "start_time": "2024-02-09T19:31:35.721Z"
   },
   {
    "duration": 33,
    "start_time": "2024-02-09T19:31:35.741Z"
   },
   {
    "duration": 31,
    "start_time": "2024-02-09T19:31:35.775Z"
   },
   {
    "duration": 103,
    "start_time": "2024-02-09T19:31:35.807Z"
   },
   {
    "duration": 637,
    "start_time": "2024-02-09T19:31:35.912Z"
   },
   {
    "duration": 58,
    "start_time": "2024-02-09T19:31:36.550Z"
   },
   {
    "duration": 3,
    "start_time": "2024-02-09T19:31:36.609Z"
   },
   {
    "duration": 87,
    "start_time": "2024-02-09T19:31:36.613Z"
   },
   {
    "duration": 91,
    "start_time": "2024-02-09T19:31:36.701Z"
   },
   {
    "duration": 99,
    "start_time": "2024-02-09T19:31:36.794Z"
   },
   {
    "duration": 9,
    "start_time": "2024-02-09T19:31:36.895Z"
   },
   {
    "duration": 1312,
    "start_time": "2024-02-09T19:31:36.906Z"
   },
   {
    "duration": 2,
    "start_time": "2024-02-09T19:31:38.220Z"
   },
   {
    "duration": 32,
    "start_time": "2024-02-09T19:31:38.223Z"
   },
   {
    "duration": 17,
    "start_time": "2024-02-09T19:31:38.257Z"
   },
   {
    "duration": 251,
    "start_time": "2024-02-09T19:31:38.275Z"
   },
   {
    "duration": 9,
    "start_time": "2024-02-09T19:31:38.527Z"
   },
   {
    "duration": 25,
    "start_time": "2024-02-09T19:31:38.538Z"
   },
   {
    "duration": 583,
    "start_time": "2024-02-09T19:31:38.564Z"
   },
   {
    "duration": 2,
    "start_time": "2024-02-09T19:31:39.149Z"
   },
   {
    "duration": 127558,
    "start_time": "2024-02-09T19:31:39.153Z"
   },
   {
    "duration": 384,
    "start_time": "2024-02-09T19:33:46.712Z"
   },
   {
    "duration": 5,
    "start_time": "2024-02-09T19:33:47.097Z"
   },
   {
    "duration": 13,
    "start_time": "2024-02-09T19:33:47.103Z"
   },
   {
    "duration": 41,
    "start_time": "2024-02-09T19:33:47.118Z"
   },
   {
    "duration": 261,
    "start_time": "2024-02-09T19:33:47.161Z"
   },
   {
    "duration": 328473,
    "start_time": "2024-02-09T19:33:47.424Z"
   },
   {
    "duration": 596,
    "start_time": "2024-02-09T19:39:15.899Z"
   },
   {
    "duration": 5,
    "start_time": "2024-02-09T19:39:16.500Z"
   },
   {
    "duration": 387,
    "start_time": "2024-02-09T19:39:16.506Z"
   },
   {
    "duration": 3,
    "start_time": "2024-02-09T19:39:16.894Z"
   },
   {
    "duration": 3,
    "start_time": "2024-02-09T19:39:16.898Z"
   },
   {
    "duration": 4,
    "start_time": "2024-02-09T19:39:16.902Z"
   },
   {
    "duration": 6,
    "start_time": "2024-02-09T19:39:16.907Z"
   },
   {
    "duration": 7,
    "start_time": "2024-02-09T19:39:16.914Z"
   },
   {
    "duration": 5,
    "start_time": "2024-02-09T19:39:16.923Z"
   },
   {
    "duration": 3,
    "start_time": "2024-02-09T19:39:16.930Z"
   },
   {
    "duration": 4,
    "start_time": "2024-02-09T19:39:16.935Z"
   },
   {
    "duration": 3,
    "start_time": "2024-02-09T19:39:16.940Z"
   },
   {
    "duration": 8,
    "start_time": "2024-02-09T19:39:16.944Z"
   },
   {
    "duration": 34,
    "start_time": "2024-02-09T19:39:16.953Z"
   },
   {
    "duration": 369,
    "start_time": "2024-02-09T19:39:16.989Z"
   },
   {
    "duration": 2,
    "start_time": "2024-02-09T19:39:17.359Z"
   },
   {
    "duration": 8,
    "start_time": "2024-02-09T19:39:17.363Z"
   },
   {
    "duration": 9,
    "start_time": "2024-02-09T19:39:17.372Z"
   },
   {
    "duration": 1463,
    "start_time": "2024-02-09T19:51:05.553Z"
   },
   {
    "duration": 837,
    "start_time": "2024-02-09T19:51:07.018Z"
   },
   {
    "duration": 150,
    "start_time": "2024-02-09T19:51:07.857Z"
   },
   {
    "duration": 14,
    "start_time": "2024-02-09T19:51:08.009Z"
   },
   {
    "duration": 3,
    "start_time": "2024-02-09T19:51:08.024Z"
   },
   {
    "duration": 75,
    "start_time": "2024-02-09T19:51:08.028Z"
   },
   {
    "duration": 20,
    "start_time": "2024-02-09T19:51:08.105Z"
   },
   {
    "duration": 296,
    "start_time": "2024-02-09T19:51:08.126Z"
   },
   {
    "duration": 100,
    "start_time": "2024-02-09T19:51:08.424Z"
   },
   {
    "duration": 309,
    "start_time": "2024-02-09T19:51:08.526Z"
   },
   {
    "duration": 383,
    "start_time": "2024-02-09T19:51:08.836Z"
   },
   {
    "duration": 267,
    "start_time": "2024-02-09T19:51:09.220Z"
   },
   {
    "duration": 15,
    "start_time": "2024-02-09T19:51:09.489Z"
   },
   {
    "duration": 4,
    "start_time": "2024-02-09T19:51:09.506Z"
   },
   {
    "duration": 31,
    "start_time": "2024-02-09T19:51:09.512Z"
   },
   {
    "duration": 2,
    "start_time": "2024-02-09T19:51:09.545Z"
   },
   {
    "duration": 224,
    "start_time": "2024-02-09T19:51:09.548Z"
   },
   {
    "duration": 50,
    "start_time": "2024-02-09T19:51:09.774Z"
   },
   {
    "duration": 88,
    "start_time": "2024-02-09T19:51:09.825Z"
   },
   {
    "duration": 15,
    "start_time": "2024-02-09T19:51:09.914Z"
   },
   {
    "duration": 25,
    "start_time": "2024-02-09T19:51:09.931Z"
   },
   {
    "duration": 3,
    "start_time": "2024-02-09T19:51:09.958Z"
   },
   {
    "duration": 221,
    "start_time": "2024-02-09T19:51:09.962Z"
   },
   {
    "duration": 27,
    "start_time": "2024-02-09T19:51:10.184Z"
   },
   {
    "duration": 90,
    "start_time": "2024-02-09T19:51:10.212Z"
   },
   {
    "duration": 15,
    "start_time": "2024-02-09T19:51:10.303Z"
   },
   {
    "duration": 33,
    "start_time": "2024-02-09T19:51:10.320Z"
   },
   {
    "duration": 3,
    "start_time": "2024-02-09T19:51:10.357Z"
   },
   {
    "duration": 186,
    "start_time": "2024-02-09T19:51:10.361Z"
   },
   {
    "duration": 77,
    "start_time": "2024-02-09T19:51:10.548Z"
   },
   {
    "duration": 14,
    "start_time": "2024-02-09T19:51:10.627Z"
   },
   {
    "duration": 6,
    "start_time": "2024-02-09T19:51:10.642Z"
   },
   {
    "duration": 159,
    "start_time": "2024-02-09T19:51:10.649Z"
   },
   {
    "duration": 166,
    "start_time": "2024-02-09T19:51:10.809Z"
   },
   {
    "duration": 136,
    "start_time": "2024-02-09T19:51:10.977Z"
   },
   {
    "duration": 95,
    "start_time": "2024-02-09T19:51:11.114Z"
   },
   {
    "duration": 19,
    "start_time": "2024-02-09T19:51:11.210Z"
   },
   {
    "duration": 21,
    "start_time": "2024-02-09T19:51:11.230Z"
   },
   {
    "duration": 35,
    "start_time": "2024-02-09T19:51:11.253Z"
   },
   {
    "duration": 27,
    "start_time": "2024-02-09T19:51:11.290Z"
   },
   {
    "duration": 322,
    "start_time": "2024-02-09T19:51:11.319Z"
   },
   {
    "duration": 238,
    "start_time": "2024-02-09T19:51:11.643Z"
   },
   {
    "duration": 24,
    "start_time": "2024-02-09T19:51:11.883Z"
   },
   {
    "duration": 50,
    "start_time": "2024-02-09T19:51:11.909Z"
   },
   {
    "duration": 2,
    "start_time": "2024-02-09T19:51:11.961Z"
   },
   {
    "duration": 2,
    "start_time": "2024-02-09T19:51:11.988Z"
   },
   {
    "duration": 4,
    "start_time": "2024-02-09T19:51:11.991Z"
   },
   {
    "duration": 4,
    "start_time": "2024-02-09T19:51:11.996Z"
   },
   {
    "duration": 5,
    "start_time": "2024-02-09T19:51:12.001Z"
   },
   {
    "duration": 3,
    "start_time": "2024-02-09T19:51:12.007Z"
   },
   {
    "duration": 3,
    "start_time": "2024-02-09T19:51:12.012Z"
   },
   {
    "duration": 3,
    "start_time": "2024-02-09T19:51:12.017Z"
   },
   {
    "duration": 3,
    "start_time": "2024-02-09T19:51:12.022Z"
   },
   {
    "duration": 5,
    "start_time": "2024-02-09T19:51:12.026Z"
   },
   {
    "duration": 3,
    "start_time": "2024-02-09T19:51:12.033Z"
   },
   {
    "duration": 51,
    "start_time": "2024-02-09T19:51:12.038Z"
   },
   {
    "duration": 77,
    "start_time": "2024-02-09T19:51:12.091Z"
   },
   {
    "duration": 609,
    "start_time": "2024-02-09T19:51:12.169Z"
   },
   {
    "duration": 53,
    "start_time": "2024-02-09T19:51:12.780Z"
   },
   {
    "duration": 2,
    "start_time": "2024-02-09T19:51:12.835Z"
   },
   {
    "duration": 56,
    "start_time": "2024-02-09T19:51:12.839Z"
   },
   {
    "duration": 7,
    "start_time": "2024-02-09T19:51:12.897Z"
   },
   {
    "duration": 86,
    "start_time": "2024-02-09T19:51:12.906Z"
   },
   {
    "duration": 3,
    "start_time": "2024-02-09T19:51:12.994Z"
   },
   {
    "duration": 1442,
    "start_time": "2024-02-09T19:51:13.000Z"
   },
   {
    "duration": 3,
    "start_time": "2024-02-09T19:51:14.444Z"
   },
   {
    "duration": 7,
    "start_time": "2024-02-09T19:51:14.449Z"
   },
   {
    "duration": 6,
    "start_time": "2024-02-09T19:51:14.458Z"
   },
   {
    "duration": 256,
    "start_time": "2024-02-09T19:51:14.466Z"
   },
   {
    "duration": 10,
    "start_time": "2024-02-09T19:51:14.723Z"
   },
   {
    "duration": 4,
    "start_time": "2024-02-09T19:51:14.735Z"
   },
   {
    "duration": 611,
    "start_time": "2024-02-09T19:51:14.740Z"
   },
   {
    "duration": 2,
    "start_time": "2024-02-09T19:51:15.353Z"
   },
   {
    "duration": 128576,
    "start_time": "2024-02-09T19:51:15.357Z"
   },
   {
    "duration": 386,
    "start_time": "2024-02-09T19:53:23.935Z"
   },
   {
    "duration": 4,
    "start_time": "2024-02-09T19:53:24.323Z"
   },
   {
    "duration": 4,
    "start_time": "2024-02-09T19:53:24.329Z"
   },
   {
    "duration": 31,
    "start_time": "2024-02-09T19:53:24.334Z"
   },
   {
    "duration": 263,
    "start_time": "2024-02-09T19:53:24.367Z"
   },
   {
    "duration": 148556,
    "start_time": "2024-02-09T19:53:24.632Z"
   },
   {
    "duration": 505,
    "start_time": "2024-02-09T19:55:53.190Z"
   },
   {
    "duration": 4,
    "start_time": "2024-02-09T19:55:53.700Z"
   },
   {
    "duration": 411,
    "start_time": "2024-02-09T19:55:53.705Z"
   },
   {
    "duration": 5,
    "start_time": "2024-02-09T19:55:54.117Z"
   },
   {
    "duration": 6,
    "start_time": "2024-02-09T19:55:54.123Z"
   },
   {
    "duration": 3,
    "start_time": "2024-02-09T19:55:54.130Z"
   },
   {
    "duration": 4,
    "start_time": "2024-02-09T19:55:54.134Z"
   },
   {
    "duration": 3,
    "start_time": "2024-02-09T19:55:54.140Z"
   },
   {
    "duration": 3,
    "start_time": "2024-02-09T19:55:54.145Z"
   },
   {
    "duration": 5,
    "start_time": "2024-02-09T19:55:54.149Z"
   },
   {
    "duration": 6,
    "start_time": "2024-02-09T19:55:54.155Z"
   },
   {
    "duration": 24,
    "start_time": "2024-02-09T19:55:54.163Z"
   },
   {
    "duration": 2,
    "start_time": "2024-02-09T19:55:54.189Z"
   },
   {
    "duration": 8,
    "start_time": "2024-02-09T19:55:54.193Z"
   },
   {
    "duration": 5,
    "start_time": "2024-02-09T19:55:54.202Z"
   },
   {
    "duration": 395,
    "start_time": "2024-02-09T19:55:54.209Z"
   },
   {
    "duration": 3,
    "start_time": "2024-02-09T19:55:54.605Z"
   },
   {
    "duration": 37,
    "start_time": "2024-02-09T19:55:54.610Z"
   },
   {
    "duration": 10,
    "start_time": "2024-02-09T19:55:54.648Z"
   },
   {
    "duration": 74,
    "start_time": "2024-02-09T20:08:50.169Z"
   },
   {
    "duration": 349,
    "start_time": "2024-02-09T20:09:12.648Z"
   },
   {
    "duration": 1434,
    "start_time": "2024-02-09T20:09:44.021Z"
   },
   {
    "duration": 805,
    "start_time": "2024-02-09T20:09:45.457Z"
   },
   {
    "duration": 142,
    "start_time": "2024-02-09T20:09:46.264Z"
   },
   {
    "duration": 14,
    "start_time": "2024-02-09T20:09:46.408Z"
   },
   {
    "duration": 7,
    "start_time": "2024-02-09T20:09:46.424Z"
   },
   {
    "duration": 67,
    "start_time": "2024-02-09T20:09:46.433Z"
   },
   {
    "duration": 20,
    "start_time": "2024-02-09T20:09:46.501Z"
   },
   {
    "duration": 276,
    "start_time": "2024-02-09T20:09:46.522Z"
   },
   {
    "duration": 101,
    "start_time": "2024-02-09T20:09:46.799Z"
   },
   {
    "duration": 277,
    "start_time": "2024-02-09T20:09:46.902Z"
   },
   {
    "duration": 352,
    "start_time": "2024-02-09T20:09:47.180Z"
   },
   {
    "duration": 250,
    "start_time": "2024-02-09T20:09:47.534Z"
   },
   {
    "duration": 16,
    "start_time": "2024-02-09T20:09:47.785Z"
   },
   {
    "duration": 4,
    "start_time": "2024-02-09T20:09:47.803Z"
   },
   {
    "duration": 30,
    "start_time": "2024-02-09T20:09:47.808Z"
   },
   {
    "duration": 2,
    "start_time": "2024-02-09T20:09:47.839Z"
   },
   {
    "duration": 211,
    "start_time": "2024-02-09T20:09:47.843Z"
   },
   {
    "duration": 44,
    "start_time": "2024-02-09T20:09:48.056Z"
   },
   {
    "duration": 73,
    "start_time": "2024-02-09T20:09:48.101Z"
   },
   {
    "duration": 25,
    "start_time": "2024-02-09T20:09:48.175Z"
   },
   {
    "duration": 25,
    "start_time": "2024-02-09T20:09:48.201Z"
   },
   {
    "duration": 2,
    "start_time": "2024-02-09T20:09:48.227Z"
   },
   {
    "duration": 181,
    "start_time": "2024-02-09T20:09:48.231Z"
   },
   {
    "duration": 25,
    "start_time": "2024-02-09T20:09:48.413Z"
   },
   {
    "duration": 77,
    "start_time": "2024-02-09T20:09:48.440Z"
   },
   {
    "duration": 14,
    "start_time": "2024-02-09T20:09:48.518Z"
   },
   {
    "duration": 25,
    "start_time": "2024-02-09T20:09:48.534Z"
   },
   {
    "duration": 2,
    "start_time": "2024-02-09T20:09:48.563Z"
   },
   {
    "duration": 183,
    "start_time": "2024-02-09T20:09:48.566Z"
   },
   {
    "duration": 80,
    "start_time": "2024-02-09T20:09:48.751Z"
   },
   {
    "duration": 15,
    "start_time": "2024-02-09T20:09:48.833Z"
   },
   {
    "duration": 3,
    "start_time": "2024-02-09T20:09:48.850Z"
   },
   {
    "duration": 155,
    "start_time": "2024-02-09T20:09:48.855Z"
   },
   {
    "duration": 169,
    "start_time": "2024-02-09T20:09:49.011Z"
   },
   {
    "duration": 126,
    "start_time": "2024-02-09T20:09:49.181Z"
   },
   {
    "duration": 65,
    "start_time": "2024-02-09T20:09:49.308Z"
   },
   {
    "duration": 25,
    "start_time": "2024-02-09T20:09:49.374Z"
   },
   {
    "duration": 16,
    "start_time": "2024-02-09T20:09:49.400Z"
   },
   {
    "duration": 16,
    "start_time": "2024-02-09T20:09:49.418Z"
   },
   {
    "duration": 52,
    "start_time": "2024-02-09T20:09:49.435Z"
   },
   {
    "duration": 304,
    "start_time": "2024-02-09T20:09:49.489Z"
   },
   {
    "duration": 233,
    "start_time": "2024-02-09T20:09:49.795Z"
   },
   {
    "duration": 24,
    "start_time": "2024-02-09T20:09:50.030Z"
   },
   {
    "duration": 82,
    "start_time": "2024-02-09T20:09:50.056Z"
   },
   {
    "duration": 2,
    "start_time": "2024-02-09T20:09:50.139Z"
   },
   {
    "duration": 12,
    "start_time": "2024-02-09T20:09:50.142Z"
   },
   {
    "duration": 5,
    "start_time": "2024-02-09T20:09:50.155Z"
   },
   {
    "duration": 4,
    "start_time": "2024-02-09T20:09:50.161Z"
   },
   {
    "duration": 4,
    "start_time": "2024-02-09T20:09:50.166Z"
   },
   {
    "duration": 2,
    "start_time": "2024-02-09T20:09:50.171Z"
   },
   {
    "duration": 4,
    "start_time": "2024-02-09T20:09:50.174Z"
   },
   {
    "duration": 8,
    "start_time": "2024-02-09T20:09:50.179Z"
   },
   {
    "duration": 2,
    "start_time": "2024-02-09T20:09:50.188Z"
   },
   {
    "duration": 4,
    "start_time": "2024-02-09T20:09:50.191Z"
   },
   {
    "duration": 8,
    "start_time": "2024-02-09T20:09:50.196Z"
   },
   {
    "duration": 29,
    "start_time": "2024-02-09T20:09:50.205Z"
   },
   {
    "duration": 70,
    "start_time": "2024-02-09T20:09:50.236Z"
   },
   {
    "duration": 576,
    "start_time": "2024-02-09T20:09:50.307Z"
   },
   {
    "duration": 48,
    "start_time": "2024-02-09T20:09:50.885Z"
   },
   {
    "duration": 2,
    "start_time": "2024-02-09T20:09:50.935Z"
   },
   {
    "duration": 63,
    "start_time": "2024-02-09T20:09:50.938Z"
   },
   {
    "duration": 12,
    "start_time": "2024-02-09T20:09:51.003Z"
   },
   {
    "duration": 75,
    "start_time": "2024-02-09T20:09:51.017Z"
   },
   {
    "duration": 102,
    "start_time": "2024-02-09T20:09:51.094Z"
   },
   {
    "duration": 1318,
    "start_time": "2024-02-09T20:09:51.198Z"
   },
   {
    "duration": 2,
    "start_time": "2024-02-09T20:09:52.518Z"
   },
   {
    "duration": 35,
    "start_time": "2024-02-09T20:09:52.521Z"
   },
   {
    "duration": 7,
    "start_time": "2024-02-09T20:09:52.557Z"
   },
   {
    "duration": 265,
    "start_time": "2024-02-09T20:09:52.565Z"
   },
   {
    "duration": 11,
    "start_time": "2024-02-09T20:09:52.831Z"
   },
   {
    "duration": 15,
    "start_time": "2024-02-09T20:09:52.844Z"
   },
   {
    "duration": 635,
    "start_time": "2024-02-09T20:09:52.860Z"
   },
   {
    "duration": 4,
    "start_time": "2024-02-09T20:09:53.497Z"
   },
   {
    "duration": 130141,
    "start_time": "2024-02-09T20:09:53.503Z"
   },
   {
    "duration": 403,
    "start_time": "2024-02-09T20:12:03.645Z"
   },
   {
    "duration": 4,
    "start_time": "2024-02-09T20:12:04.049Z"
   },
   {
    "duration": 4,
    "start_time": "2024-02-09T20:12:04.054Z"
   },
   {
    "duration": 46,
    "start_time": "2024-02-09T20:12:04.059Z"
   },
   {
    "duration": 244,
    "start_time": "2024-02-09T20:12:04.107Z"
   },
   {
    "duration": 32340,
    "start_time": "2024-02-09T20:12:04.353Z"
   },
   {
    "duration": 508,
    "start_time": "2024-02-09T20:12:36.698Z"
   },
   {
    "duration": 4,
    "start_time": "2024-02-09T20:12:37.211Z"
   },
   {
    "duration": 405,
    "start_time": "2024-02-09T20:12:37.216Z"
   },
   {
    "duration": 3,
    "start_time": "2024-02-09T20:12:37.623Z"
   },
   {
    "duration": 5,
    "start_time": "2024-02-09T20:12:37.628Z"
   },
   {
    "duration": 6,
    "start_time": "2024-02-09T20:12:37.635Z"
   },
   {
    "duration": 3,
    "start_time": "2024-02-09T20:12:37.643Z"
   },
   {
    "duration": 3,
    "start_time": "2024-02-09T20:12:37.648Z"
   },
   {
    "duration": 5,
    "start_time": "2024-02-09T20:12:37.653Z"
   },
   {
    "duration": 8,
    "start_time": "2024-02-09T20:12:37.659Z"
   },
   {
    "duration": 5,
    "start_time": "2024-02-09T20:12:37.668Z"
   },
   {
    "duration": 18,
    "start_time": "2024-02-09T20:12:37.674Z"
   },
   {
    "duration": 2,
    "start_time": "2024-02-09T20:12:37.699Z"
   },
   {
    "duration": 12,
    "start_time": "2024-02-09T20:12:37.703Z"
   },
   {
    "duration": 6,
    "start_time": "2024-02-09T20:12:37.716Z"
   },
   {
    "duration": 376,
    "start_time": "2024-02-09T20:12:37.723Z"
   },
   {
    "duration": 2,
    "start_time": "2024-02-09T20:12:38.101Z"
   },
   {
    "duration": 14,
    "start_time": "2024-02-09T20:12:38.104Z"
   },
   {
    "duration": 5,
    "start_time": "2024-02-09T20:12:38.119Z"
   },
   {
    "duration": 44,
    "start_time": "2024-02-10T17:36:46.397Z"
   },
   {
    "duration": 89,
    "start_time": "2024-02-10T17:46:12.514Z"
   },
   {
    "duration": 0,
    "start_time": "2024-02-10T17:46:12.605Z"
   },
   {
    "duration": 0,
    "start_time": "2024-02-10T17:46:12.606Z"
   },
   {
    "duration": 0,
    "start_time": "2024-02-10T17:46:12.608Z"
   },
   {
    "duration": 0,
    "start_time": "2024-02-10T17:46:12.609Z"
   },
   {
    "duration": 1,
    "start_time": "2024-02-10T17:46:12.610Z"
   },
   {
    "duration": 0,
    "start_time": "2024-02-10T17:46:12.612Z"
   },
   {
    "duration": 0,
    "start_time": "2024-02-10T17:46:12.614Z"
   },
   {
    "duration": 0,
    "start_time": "2024-02-10T17:46:12.615Z"
   },
   {
    "duration": 0,
    "start_time": "2024-02-10T17:46:12.616Z"
   },
   {
    "duration": 0,
    "start_time": "2024-02-10T17:46:12.617Z"
   },
   {
    "duration": 0,
    "start_time": "2024-02-10T17:46:12.618Z"
   },
   {
    "duration": 0,
    "start_time": "2024-02-10T17:46:12.619Z"
   },
   {
    "duration": 0,
    "start_time": "2024-02-10T17:46:12.620Z"
   },
   {
    "duration": 0,
    "start_time": "2024-02-10T17:46:12.621Z"
   },
   {
    "duration": 0,
    "start_time": "2024-02-10T17:46:12.622Z"
   },
   {
    "duration": 0,
    "start_time": "2024-02-10T17:46:12.623Z"
   },
   {
    "duration": 0,
    "start_time": "2024-02-10T17:46:12.625Z"
   },
   {
    "duration": 0,
    "start_time": "2024-02-10T17:46:12.626Z"
   },
   {
    "duration": 0,
    "start_time": "2024-02-10T17:46:12.627Z"
   },
   {
    "duration": 0,
    "start_time": "2024-02-10T17:46:12.628Z"
   },
   {
    "duration": 1,
    "start_time": "2024-02-10T17:46:12.629Z"
   },
   {
    "duration": 125,
    "start_time": "2024-02-10T17:46:12.634Z"
   },
   {
    "duration": 0,
    "start_time": "2024-02-10T17:46:12.762Z"
   },
   {
    "duration": 0,
    "start_time": "2024-02-10T17:46:12.763Z"
   },
   {
    "duration": 0,
    "start_time": "2024-02-10T17:46:12.765Z"
   },
   {
    "duration": 0,
    "start_time": "2024-02-10T17:46:12.766Z"
   },
   {
    "duration": 0,
    "start_time": "2024-02-10T17:46:12.767Z"
   },
   {
    "duration": 0,
    "start_time": "2024-02-10T17:46:12.769Z"
   },
   {
    "duration": 0,
    "start_time": "2024-02-10T17:46:12.770Z"
   },
   {
    "duration": 1,
    "start_time": "2024-02-10T17:46:12.771Z"
   },
   {
    "duration": 0,
    "start_time": "2024-02-10T17:46:12.773Z"
   },
   {
    "duration": 0,
    "start_time": "2024-02-10T17:46:12.774Z"
   },
   {
    "duration": 0,
    "start_time": "2024-02-10T17:46:12.776Z"
   },
   {
    "duration": 0,
    "start_time": "2024-02-10T17:46:12.777Z"
   },
   {
    "duration": 0,
    "start_time": "2024-02-10T17:46:12.778Z"
   },
   {
    "duration": 0,
    "start_time": "2024-02-10T17:46:12.779Z"
   },
   {
    "duration": 0,
    "start_time": "2024-02-10T17:46:12.780Z"
   },
   {
    "duration": 0,
    "start_time": "2024-02-10T17:46:12.818Z"
   },
   {
    "duration": 0,
    "start_time": "2024-02-10T17:46:12.819Z"
   },
   {
    "duration": 0,
    "start_time": "2024-02-10T17:46:12.820Z"
   },
   {
    "duration": 0,
    "start_time": "2024-02-10T17:46:12.821Z"
   },
   {
    "duration": 0,
    "start_time": "2024-02-10T17:46:12.822Z"
   },
   {
    "duration": 0,
    "start_time": "2024-02-10T17:46:12.823Z"
   },
   {
    "duration": 0,
    "start_time": "2024-02-10T17:46:12.823Z"
   },
   {
    "duration": 0,
    "start_time": "2024-02-10T17:46:12.825Z"
   },
   {
    "duration": 0,
    "start_time": "2024-02-10T17:46:12.826Z"
   },
   {
    "duration": 0,
    "start_time": "2024-02-10T17:46:12.827Z"
   },
   {
    "duration": 0,
    "start_time": "2024-02-10T17:46:12.828Z"
   },
   {
    "duration": 0,
    "start_time": "2024-02-10T17:46:12.830Z"
   },
   {
    "duration": 0,
    "start_time": "2024-02-10T17:46:12.831Z"
   },
   {
    "duration": 0,
    "start_time": "2024-02-10T17:46:12.832Z"
   },
   {
    "duration": 0,
    "start_time": "2024-02-10T17:46:12.834Z"
   },
   {
    "duration": 0,
    "start_time": "2024-02-10T17:46:12.835Z"
   },
   {
    "duration": 0,
    "start_time": "2024-02-10T17:46:12.836Z"
   },
   {
    "duration": 0,
    "start_time": "2024-02-10T17:46:12.837Z"
   },
   {
    "duration": 0,
    "start_time": "2024-02-10T17:46:12.838Z"
   },
   {
    "duration": 0,
    "start_time": "2024-02-10T17:46:12.839Z"
   },
   {
    "duration": 1,
    "start_time": "2024-02-10T17:46:12.839Z"
   },
   {
    "duration": 0,
    "start_time": "2024-02-10T17:46:12.840Z"
   },
   {
    "duration": 0,
    "start_time": "2024-02-10T17:46:12.842Z"
   },
   {
    "duration": 0,
    "start_time": "2024-02-10T17:46:12.843Z"
   },
   {
    "duration": 0,
    "start_time": "2024-02-10T17:46:12.844Z"
   },
   {
    "duration": 0,
    "start_time": "2024-02-10T17:46:12.845Z"
   },
   {
    "duration": 0,
    "start_time": "2024-02-10T17:46:12.847Z"
   },
   {
    "duration": 0,
    "start_time": "2024-02-10T17:46:12.848Z"
   },
   {
    "duration": 0,
    "start_time": "2024-02-10T17:46:12.850Z"
   },
   {
    "duration": 0,
    "start_time": "2024-02-10T17:46:12.851Z"
   },
   {
    "duration": 0,
    "start_time": "2024-02-10T17:46:12.853Z"
   },
   {
    "duration": 0,
    "start_time": "2024-02-10T17:46:12.854Z"
   },
   {
    "duration": 0,
    "start_time": "2024-02-10T17:46:12.855Z"
   },
   {
    "duration": 0,
    "start_time": "2024-02-10T17:46:12.918Z"
   },
   {
    "duration": 0,
    "start_time": "2024-02-10T17:46:12.919Z"
   },
   {
    "duration": 8,
    "start_time": "2024-02-10T17:46:12.928Z"
   },
   {
    "duration": 0,
    "start_time": "2024-02-10T17:46:12.938Z"
   },
   {
    "duration": 0,
    "start_time": "2024-02-10T17:46:12.939Z"
   },
   {
    "duration": 0,
    "start_time": "2024-02-10T17:46:12.941Z"
   },
   {
    "duration": 0,
    "start_time": "2024-02-10T17:46:12.942Z"
   },
   {
    "duration": 0,
    "start_time": "2024-02-10T17:46:12.943Z"
   },
   {
    "duration": 0,
    "start_time": "2024-02-10T17:46:12.944Z"
   },
   {
    "duration": 0,
    "start_time": "2024-02-10T17:46:12.945Z"
   },
   {
    "duration": 0,
    "start_time": "2024-02-10T17:46:12.946Z"
   },
   {
    "duration": 0,
    "start_time": "2024-02-10T17:46:12.947Z"
   },
   {
    "duration": 0,
    "start_time": "2024-02-10T17:46:12.948Z"
   },
   {
    "duration": 0,
    "start_time": "2024-02-10T17:46:12.949Z"
   },
   {
    "duration": 0,
    "start_time": "2024-02-10T17:46:12.950Z"
   },
   {
    "duration": 0,
    "start_time": "2024-02-10T17:46:12.951Z"
   },
   {
    "duration": 0,
    "start_time": "2024-02-10T17:46:12.952Z"
   },
   {
    "duration": 0,
    "start_time": "2024-02-10T17:46:12.953Z"
   },
   {
    "duration": 0,
    "start_time": "2024-02-10T17:46:12.954Z"
   },
   {
    "duration": 0,
    "start_time": "2024-02-10T17:46:12.955Z"
   },
   {
    "duration": 0,
    "start_time": "2024-02-10T17:46:13.019Z"
   },
   {
    "duration": 0,
    "start_time": "2024-02-10T17:46:13.021Z"
   },
   {
    "duration": 0,
    "start_time": "2024-02-10T17:46:13.023Z"
   },
   {
    "duration": 0,
    "start_time": "2024-02-10T17:46:13.024Z"
   },
   {
    "duration": 0,
    "start_time": "2024-02-10T17:46:13.025Z"
   },
   {
    "duration": 0,
    "start_time": "2024-02-10T17:46:13.027Z"
   },
   {
    "duration": 0,
    "start_time": "2024-02-10T17:46:13.029Z"
   },
   {
    "duration": 0,
    "start_time": "2024-02-10T17:46:13.030Z"
   },
   {
    "duration": 0,
    "start_time": "2024-02-10T17:46:13.031Z"
   },
   {
    "duration": 0,
    "start_time": "2024-02-10T17:46:13.033Z"
   },
   {
    "duration": 0,
    "start_time": "2024-02-10T17:46:13.034Z"
   },
   {
    "duration": 0,
    "start_time": "2024-02-10T17:46:13.034Z"
   },
   {
    "duration": 0,
    "start_time": "2024-02-10T17:46:13.035Z"
   },
   {
    "duration": 1599,
    "start_time": "2024-02-10T17:49:07.810Z"
   },
   {
    "duration": 1083,
    "start_time": "2024-02-10T17:49:11.661Z"
   },
   {
    "duration": 170,
    "start_time": "2024-02-10T17:49:14.400Z"
   },
   {
    "duration": 15,
    "start_time": "2024-02-10T17:49:15.271Z"
   },
   {
    "duration": 4,
    "start_time": "2024-02-10T17:49:17.411Z"
   },
   {
    "duration": 60,
    "start_time": "2024-02-10T17:49:19.477Z"
   },
   {
    "duration": 21,
    "start_time": "2024-02-10T17:49:21.474Z"
   },
   {
    "duration": 295,
    "start_time": "2024-02-10T17:49:23.515Z"
   },
   {
    "duration": 97,
    "start_time": "2024-02-10T17:49:25.928Z"
   },
   {
    "duration": 317,
    "start_time": "2024-02-10T17:49:28.515Z"
   },
   {
    "duration": 357,
    "start_time": "2024-02-10T17:49:29.160Z"
   },
   {
    "duration": 254,
    "start_time": "2024-02-10T17:49:29.604Z"
   },
   {
    "duration": 16,
    "start_time": "2024-02-10T17:49:31.604Z"
   },
   {
    "duration": 5,
    "start_time": "2024-02-10T17:49:32.524Z"
   },
   {
    "duration": 30,
    "start_time": "2024-02-10T17:49:33.420Z"
   },
   {
    "duration": 2,
    "start_time": "2024-02-10T17:49:34.807Z"
   },
   {
    "duration": 190,
    "start_time": "2024-02-10T17:49:35.946Z"
   },
   {
    "duration": 40,
    "start_time": "2024-02-10T17:49:39.708Z"
   },
   {
    "duration": 78,
    "start_time": "2024-02-10T17:49:41.337Z"
   },
   {
    "duration": 16,
    "start_time": "2024-02-10T17:49:43.255Z"
   },
   {
    "duration": 27,
    "start_time": "2024-02-10T17:49:44.780Z"
   },
   {
    "duration": 2,
    "start_time": "2024-02-10T17:49:46.119Z"
   },
   {
    "duration": 172,
    "start_time": "2024-02-10T17:49:46.595Z"
   },
   {
    "duration": 26,
    "start_time": "2024-02-10T17:49:47.463Z"
   },
   {
    "duration": 72,
    "start_time": "2024-02-10T17:49:50.113Z"
   },
   {
    "duration": 15,
    "start_time": "2024-02-10T17:49:51.525Z"
   },
   {
    "duration": 26,
    "start_time": "2024-02-10T17:49:52.493Z"
   },
   {
    "duration": 2,
    "start_time": "2024-02-10T17:49:54.663Z"
   },
   {
    "duration": 220,
    "start_time": "2024-02-10T17:49:55.124Z"
   },
   {
    "duration": 74,
    "start_time": "2024-02-10T17:49:56.036Z"
   },
   {
    "duration": 17,
    "start_time": "2024-02-10T17:49:57.331Z"
   },
   {
    "duration": 4,
    "start_time": "2024-02-10T17:49:58.227Z"
   },
   {
    "duration": 140,
    "start_time": "2024-02-10T17:50:00.873Z"
   },
   {
    "duration": 194,
    "start_time": "2024-02-10T17:50:01.899Z"
   },
   {
    "duration": 132,
    "start_time": "2024-02-10T17:50:02.315Z"
   },
   {
    "duration": 65,
    "start_time": "2024-02-10T17:50:03.639Z"
   },
   {
    "duration": 17,
    "start_time": "2024-02-10T17:50:04.555Z"
   },
   {
    "duration": 16,
    "start_time": "2024-02-10T17:50:05.004Z"
   },
   {
    "duration": 16,
    "start_time": "2024-02-10T17:50:06.286Z"
   },
   {
    "duration": 38,
    "start_time": "2024-02-10T17:50:07.198Z"
   },
   {
    "duration": 275,
    "start_time": "2024-02-10T17:50:08.126Z"
   },
   {
    "duration": 235,
    "start_time": "2024-02-10T17:50:08.583Z"
   },
   {
    "duration": 24,
    "start_time": "2024-02-10T17:50:09.032Z"
   },
   {
    "duration": 51,
    "start_time": "2024-02-10T17:50:09.928Z"
   },
   {
    "duration": 2,
    "start_time": "2024-02-10T17:50:13.497Z"
   },
   {
    "duration": 2,
    "start_time": "2024-02-10T17:50:17.055Z"
   },
   {
    "duration": 2,
    "start_time": "2024-02-10T17:50:17.532Z"
   },
   {
    "duration": 2,
    "start_time": "2024-02-10T17:50:19.451Z"
   },
   {
    "duration": 2,
    "start_time": "2024-02-10T17:50:20.811Z"
   },
   {
    "duration": 2,
    "start_time": "2024-02-10T17:50:21.296Z"
   },
   {
    "duration": 3,
    "start_time": "2024-02-10T17:50:21.747Z"
   },
   {
    "duration": 2,
    "start_time": "2024-02-10T17:50:22.179Z"
   },
   {
    "duration": 2,
    "start_time": "2024-02-10T17:50:22.643Z"
   },
   {
    "duration": 2,
    "start_time": "2024-02-10T17:50:23.071Z"
   },
   {
    "duration": 3,
    "start_time": "2024-02-10T17:50:23.983Z"
   },
   {
    "duration": 15,
    "start_time": "2024-02-10T17:50:24.883Z"
   },
   {
    "duration": 76,
    "start_time": "2024-02-10T17:50:25.926Z"
   },
   {
    "duration": 3,
    "start_time": "2024-02-10T17:50:27.392Z"
   },
   {
    "duration": 336,
    "start_time": "2024-02-10T17:50:28.443Z"
   },
   {
    "duration": 2,
    "start_time": "2024-02-10T17:50:30.599Z"
   },
   {
    "duration": 627,
    "start_time": "2024-02-10T17:50:32.419Z"
   },
   {
    "duration": 3,
    "start_time": "2024-02-10T17:50:34.687Z"
   },
   {
    "duration": 119,
    "start_time": "2024-02-10T17:50:35.642Z"
   },
   {
    "duration": 13,
    "start_time": "2024-02-10T17:52:39.105Z"
   },
   {
    "duration": 11,
    "start_time": "2024-02-10T17:53:46.658Z"
   },
   {
    "duration": 15,
    "start_time": "2024-02-10T17:54:28.484Z"
   },
   {
    "duration": 12,
    "start_time": "2024-02-10T17:58:15.989Z"
   },
   {
    "duration": 12,
    "start_time": "2024-02-10T17:58:17.116Z"
   },
   {
    "duration": 13,
    "start_time": "2024-02-10T17:58:36.462Z"
   },
   {
    "duration": 12,
    "start_time": "2024-02-10T18:09:43.948Z"
   },
   {
    "duration": 11,
    "start_time": "2024-02-10T18:10:45.324Z"
   },
   {
    "duration": 10,
    "start_time": "2024-02-10T18:11:36.944Z"
   },
   {
    "duration": 14,
    "start_time": "2024-02-10T18:12:39.616Z"
   },
   {
    "duration": 1423,
    "start_time": "2024-02-10T18:13:10.800Z"
   },
   {
    "duration": 819,
    "start_time": "2024-02-10T18:13:12.535Z"
   },
   {
    "duration": 142,
    "start_time": "2024-02-10T18:13:13.881Z"
   },
   {
    "duration": 15,
    "start_time": "2024-02-10T18:13:14.594Z"
   },
   {
    "duration": 3,
    "start_time": "2024-02-10T18:13:15.534Z"
   },
   {
    "duration": 56,
    "start_time": "2024-02-10T18:13:16.183Z"
   },
   {
    "duration": 27,
    "start_time": "2024-02-10T18:13:17.005Z"
   },
   {
    "duration": 266,
    "start_time": "2024-02-10T18:13:17.740Z"
   },
   {
    "duration": 120,
    "start_time": "2024-02-10T18:13:18.498Z"
   },
   {
    "duration": 285,
    "start_time": "2024-02-10T18:13:19.756Z"
   },
   {
    "duration": 348,
    "start_time": "2024-02-10T18:13:20.042Z"
   },
   {
    "duration": 253,
    "start_time": "2024-02-10T18:13:20.391Z"
   },
   {
    "duration": 16,
    "start_time": "2024-02-10T18:13:21.228Z"
   },
   {
    "duration": 5,
    "start_time": "2024-02-10T18:13:21.753Z"
   },
   {
    "duration": 30,
    "start_time": "2024-02-10T18:13:22.231Z"
   },
   {
    "duration": 3,
    "start_time": "2024-02-10T18:13:22.962Z"
   },
   {
    "duration": 188,
    "start_time": "2024-02-10T18:13:23.182Z"
   },
   {
    "duration": 42,
    "start_time": "2024-02-10T18:13:24.407Z"
   },
   {
    "duration": 74,
    "start_time": "2024-02-10T18:13:25.105Z"
   },
   {
    "duration": 15,
    "start_time": "2024-02-10T18:13:25.827Z"
   },
   {
    "duration": 26,
    "start_time": "2024-02-10T18:13:26.581Z"
   },
   {
    "duration": 2,
    "start_time": "2024-02-10T18:13:27.321Z"
   },
   {
    "duration": 177,
    "start_time": "2024-02-10T18:13:27.560Z"
   },
   {
    "duration": 26,
    "start_time": "2024-02-10T18:13:28.030Z"
   },
   {
    "duration": 70,
    "start_time": "2024-02-10T18:13:29.485Z"
   },
   {
    "duration": 15,
    "start_time": "2024-02-10T18:13:30.234Z"
   },
   {
    "duration": 26,
    "start_time": "2024-02-10T18:13:30.714Z"
   },
   {
    "duration": 3,
    "start_time": "2024-02-10T18:13:31.914Z"
   },
   {
    "duration": 164,
    "start_time": "2024-02-10T18:13:32.165Z"
   },
   {
    "duration": 76,
    "start_time": "2024-02-10T18:13:32.662Z"
   },
   {
    "duration": 17,
    "start_time": "2024-02-10T18:13:33.393Z"
   },
   {
    "duration": 3,
    "start_time": "2024-02-10T18:13:33.880Z"
   },
   {
    "duration": 138,
    "start_time": "2024-02-10T18:13:35.388Z"
   },
   {
    "duration": 164,
    "start_time": "2024-02-10T18:13:35.873Z"
   },
   {
    "duration": 135,
    "start_time": "2024-02-10T18:13:36.091Z"
   },
   {
    "duration": 65,
    "start_time": "2024-02-10T18:13:36.870Z"
   },
   {
    "duration": 16,
    "start_time": "2024-02-10T18:13:37.356Z"
   },
   {
    "duration": 24,
    "start_time": "2024-02-10T18:13:37.606Z"
   },
   {
    "duration": 17,
    "start_time": "2024-02-10T18:13:38.329Z"
   },
   {
    "duration": 41,
    "start_time": "2024-02-10T18:13:38.789Z"
   },
   {
    "duration": 298,
    "start_time": "2024-02-10T18:13:39.268Z"
   },
   {
    "duration": 252,
    "start_time": "2024-02-10T18:13:39.568Z"
   },
   {
    "duration": 23,
    "start_time": "2024-02-10T18:13:39.822Z"
   },
   {
    "duration": 60,
    "start_time": "2024-02-10T18:13:40.261Z"
   },
   {
    "duration": 2,
    "start_time": "2024-02-10T18:13:42.183Z"
   },
   {
    "duration": 2,
    "start_time": "2024-02-10T18:13:43.919Z"
   },
   {
    "duration": 2,
    "start_time": "2024-02-10T18:13:44.144Z"
   },
   {
    "duration": 2,
    "start_time": "2024-02-10T18:13:45.238Z"
   },
   {
    "duration": 2,
    "start_time": "2024-02-10T18:13:46.162Z"
   },
   {
    "duration": 2,
    "start_time": "2024-02-10T18:13:46.688Z"
   },
   {
    "duration": 2,
    "start_time": "2024-02-10T18:13:46.930Z"
   },
   {
    "duration": 2,
    "start_time": "2024-02-10T18:13:47.152Z"
   },
   {
    "duration": 2,
    "start_time": "2024-02-10T18:13:47.753Z"
   },
   {
    "duration": 3,
    "start_time": "2024-02-10T18:13:48.151Z"
   },
   {
    "duration": 2,
    "start_time": "2024-02-10T18:13:48.912Z"
   },
   {
    "duration": 14,
    "start_time": "2024-02-10T18:13:49.803Z"
   },
   {
    "duration": 71,
    "start_time": "2024-02-10T18:13:50.799Z"
   },
   {
    "duration": 3,
    "start_time": "2024-02-10T18:13:51.808Z"
   },
   {
    "duration": 281,
    "start_time": "2024-02-10T18:13:52.382Z"
   },
   {
    "duration": 3,
    "start_time": "2024-02-10T18:13:53.154Z"
   },
   {
    "duration": 589,
    "start_time": "2024-02-10T18:13:54.229Z"
   },
   {
    "duration": 2,
    "start_time": "2024-02-10T18:13:55.856Z"
   },
   {
    "duration": 101,
    "start_time": "2024-02-10T18:13:57.186Z"
   },
   {
    "duration": 12,
    "start_time": "2024-02-10T18:14:14.126Z"
   },
   {
    "duration": 52,
    "start_time": "2024-02-10T18:14:20.409Z"
   },
   {
    "duration": 12,
    "start_time": "2024-02-10T18:16:22.700Z"
   },
   {
    "duration": 933,
    "start_time": "2024-02-10T18:19:41.754Z"
   },
   {
    "duration": 24,
    "start_time": "2024-02-10T18:20:38.563Z"
   },
   {
    "duration": 15,
    "start_time": "2024-02-10T18:21:20.468Z"
   },
   {
    "duration": 14,
    "start_time": "2024-02-10T18:21:51.787Z"
   },
   {
    "duration": 1328,
    "start_time": "2024-02-10T18:22:38.537Z"
   },
   {
    "duration": 846,
    "start_time": "2024-02-10T18:22:41.293Z"
   },
   {
    "duration": 139,
    "start_time": "2024-02-10T18:22:42.141Z"
   },
   {
    "duration": 15,
    "start_time": "2024-02-10T18:22:42.368Z"
   },
   {
    "duration": 3,
    "start_time": "2024-02-10T18:22:43.146Z"
   },
   {
    "duration": 51,
    "start_time": "2024-02-10T18:22:43.697Z"
   },
   {
    "duration": 20,
    "start_time": "2024-02-10T18:22:44.367Z"
   },
   {
    "duration": 292,
    "start_time": "2024-02-10T18:22:45.082Z"
   },
   {
    "duration": 94,
    "start_time": "2024-02-10T18:22:45.740Z"
   },
   {
    "duration": 270,
    "start_time": "2024-02-10T18:22:46.836Z"
   },
   {
    "duration": 341,
    "start_time": "2024-02-10T18:22:47.108Z"
   },
   {
    "duration": 249,
    "start_time": "2024-02-10T18:22:47.450Z"
   },
   {
    "duration": 16,
    "start_time": "2024-02-10T18:22:48.154Z"
   },
   {
    "duration": 6,
    "start_time": "2024-02-10T18:22:48.608Z"
   },
   {
    "duration": 32,
    "start_time": "2024-02-10T18:22:49.031Z"
   },
   {
    "duration": 2,
    "start_time": "2024-02-10T18:22:49.678Z"
   },
   {
    "duration": 182,
    "start_time": "2024-02-10T18:22:49.895Z"
   },
   {
    "duration": 38,
    "start_time": "2024-02-10T18:22:50.957Z"
   },
   {
    "duration": 78,
    "start_time": "2024-02-10T18:22:51.662Z"
   },
   {
    "duration": 15,
    "start_time": "2024-02-10T18:22:52.337Z"
   },
   {
    "duration": 27,
    "start_time": "2024-02-10T18:22:52.970Z"
   },
   {
    "duration": 2,
    "start_time": "2024-02-10T18:22:53.657Z"
   },
   {
    "duration": 164,
    "start_time": "2024-02-10T18:22:53.890Z"
   },
   {
    "duration": 33,
    "start_time": "2024-02-10T18:22:54.354Z"
   },
   {
    "duration": 75,
    "start_time": "2024-02-10T18:22:55.731Z"
   },
   {
    "duration": 14,
    "start_time": "2024-02-10T18:22:56.429Z"
   },
   {
    "duration": 23,
    "start_time": "2024-02-10T18:22:56.857Z"
   },
   {
    "duration": 2,
    "start_time": "2024-02-10T18:22:58.021Z"
   },
   {
    "duration": 159,
    "start_time": "2024-02-10T18:22:58.678Z"
   },
   {
    "duration": 80,
    "start_time": "2024-02-10T18:22:58.839Z"
   },
   {
    "duration": 15,
    "start_time": "2024-02-10T18:22:59.330Z"
   },
   {
    "duration": 4,
    "start_time": "2024-02-10T18:22:59.821Z"
   },
   {
    "duration": 160,
    "start_time": "2024-02-10T18:23:01.308Z"
   },
   {
    "duration": 164,
    "start_time": "2024-02-10T18:23:01.740Z"
   },
   {
    "duration": 144,
    "start_time": "2024-02-10T18:23:01.991Z"
   },
   {
    "duration": 65,
    "start_time": "2024-02-10T18:23:02.837Z"
   },
   {
    "duration": 16,
    "start_time": "2024-02-10T18:23:03.416Z"
   },
   {
    "duration": 16,
    "start_time": "2024-02-10T18:23:03.682Z"
   },
   {
    "duration": 18,
    "start_time": "2024-02-10T18:23:04.417Z"
   },
   {
    "duration": 35,
    "start_time": "2024-02-10T18:23:04.877Z"
   },
   {
    "duration": 311,
    "start_time": "2024-02-10T18:23:05.377Z"
   },
   {
    "duration": 241,
    "start_time": "2024-02-10T18:23:05.690Z"
   },
   {
    "duration": 27,
    "start_time": "2024-02-10T18:23:05.932Z"
   },
   {
    "duration": 52,
    "start_time": "2024-02-10T18:23:06.251Z"
   },
   {
    "duration": 2,
    "start_time": "2024-02-10T18:23:08.147Z"
   },
   {
    "duration": 3,
    "start_time": "2024-02-10T18:23:09.779Z"
   },
   {
    "duration": 2,
    "start_time": "2024-02-10T18:23:10.013Z"
   },
   {
    "duration": 2,
    "start_time": "2024-02-10T18:23:10.959Z"
   },
   {
    "duration": 3,
    "start_time": "2024-02-10T18:23:11.634Z"
   },
   {
    "duration": 2,
    "start_time": "2024-02-10T18:23:11.855Z"
   },
   {
    "duration": 3,
    "start_time": "2024-02-10T18:23:12.107Z"
   },
   {
    "duration": 2,
    "start_time": "2024-02-10T18:23:12.338Z"
   },
   {
    "duration": 2,
    "start_time": "2024-02-10T18:23:12.559Z"
   },
   {
    "duration": 2,
    "start_time": "2024-02-10T18:23:12.832Z"
   },
   {
    "duration": 2,
    "start_time": "2024-02-10T18:23:13.288Z"
   },
   {
    "duration": 16,
    "start_time": "2024-02-10T18:23:13.843Z"
   },
   {
    "duration": 83,
    "start_time": "2024-02-10T18:23:14.454Z"
   },
   {
    "duration": 3,
    "start_time": "2024-02-10T18:23:14.918Z"
   },
   {
    "duration": 287,
    "start_time": "2024-02-10T18:23:15.197Z"
   },
   {
    "duration": 2,
    "start_time": "2024-02-10T18:23:15.486Z"
   },
   {
    "duration": 570,
    "start_time": "2024-02-10T18:23:15.829Z"
   },
   {
    "duration": 3,
    "start_time": "2024-02-10T18:23:16.401Z"
   },
   {
    "duration": 906,
    "start_time": "2024-02-10T18:23:16.523Z"
   },
   {
    "duration": 19,
    "start_time": "2024-02-10T18:23:17.431Z"
   },
   {
    "duration": 45,
    "start_time": "2024-02-10T18:23:17.755Z"
   },
   {
    "duration": 3,
    "start_time": "2024-02-10T18:23:20.072Z"
   },
   {
    "duration": 108,
    "start_time": "2024-02-10T18:23:21.524Z"
   },
   {
    "duration": 16749,
    "start_time": "2024-02-10T18:29:19.377Z"
   },
   {
    "duration": 210,
    "start_time": "2024-02-10T18:29:41.315Z"
   },
   {
    "duration": 7,
    "start_time": "2024-02-10T18:29:46.677Z"
   },
   {
    "duration": 4,
    "start_time": "2024-02-10T18:29:55.051Z"
   },
   {
    "duration": 1397,
    "start_time": "2024-02-10T18:31:39.079Z"
   },
   {
    "duration": 809,
    "start_time": "2024-02-10T18:31:42.218Z"
   },
   {
    "duration": 132,
    "start_time": "2024-02-10T18:31:43.249Z"
   },
   {
    "duration": 14,
    "start_time": "2024-02-10T18:31:43.570Z"
   },
   {
    "duration": 3,
    "start_time": "2024-02-10T18:31:44.305Z"
   },
   {
    "duration": 48,
    "start_time": "2024-02-10T18:31:44.773Z"
   },
   {
    "duration": 20,
    "start_time": "2024-02-10T18:31:45.430Z"
   },
   {
    "duration": 290,
    "start_time": "2024-02-10T18:31:46.105Z"
   },
   {
    "duration": 98,
    "start_time": "2024-02-10T18:31:46.724Z"
   },
   {
    "duration": 292,
    "start_time": "2024-02-10T18:31:47.804Z"
   },
   {
    "duration": 356,
    "start_time": "2024-02-10T18:31:48.099Z"
   },
   {
    "duration": 250,
    "start_time": "2024-02-10T18:31:48.457Z"
   },
   {
    "duration": 16,
    "start_time": "2024-02-10T18:31:49.113Z"
   },
   {
    "duration": 5,
    "start_time": "2024-02-10T18:31:49.530Z"
   },
   {
    "duration": 31,
    "start_time": "2024-02-10T18:31:49.998Z"
   },
   {
    "duration": 2,
    "start_time": "2024-02-10T18:31:50.708Z"
   },
   {
    "duration": 182,
    "start_time": "2024-02-10T18:31:50.911Z"
   },
   {
    "duration": 39,
    "start_time": "2024-02-10T18:31:52.164Z"
   },
   {
    "duration": 76,
    "start_time": "2024-02-10T18:31:53.020Z"
   },
   {
    "duration": 15,
    "start_time": "2024-02-10T18:31:53.667Z"
   },
   {
    "duration": 27,
    "start_time": "2024-02-10T18:31:54.346Z"
   },
   {
    "duration": 2,
    "start_time": "2024-02-10T18:31:55.127Z"
   },
   {
    "duration": 170,
    "start_time": "2024-02-10T18:31:55.383Z"
   },
   {
    "duration": 26,
    "start_time": "2024-02-10T18:31:55.827Z"
   },
   {
    "duration": 68,
    "start_time": "2024-02-10T18:31:57.012Z"
   },
   {
    "duration": 14,
    "start_time": "2024-02-10T18:31:57.729Z"
   },
   {
    "duration": 23,
    "start_time": "2024-02-10T18:31:58.248Z"
   },
   {
    "duration": 2,
    "start_time": "2024-02-10T18:31:59.373Z"
   },
   {
    "duration": 175,
    "start_time": "2024-02-10T18:31:59.599Z"
   },
   {
    "duration": 74,
    "start_time": "2024-02-10T18:32:00.020Z"
   },
   {
    "duration": 16,
    "start_time": "2024-02-10T18:32:00.698Z"
   },
   {
    "duration": 4,
    "start_time": "2024-02-10T18:32:01.142Z"
   },
   {
    "duration": 136,
    "start_time": "2024-02-10T18:32:02.584Z"
   },
   {
    "duration": 158,
    "start_time": "2024-02-10T18:32:03.042Z"
   },
   {
    "duration": 121,
    "start_time": "2024-02-10T18:32:03.297Z"
   },
   {
    "duration": 68,
    "start_time": "2024-02-10T18:32:04.029Z"
   },
   {
    "duration": 17,
    "start_time": "2024-02-10T18:32:04.500Z"
   },
   {
    "duration": 15,
    "start_time": "2024-02-10T18:32:04.721Z"
   },
   {
    "duration": 16,
    "start_time": "2024-02-10T18:32:05.442Z"
   },
   {
    "duration": 26,
    "start_time": "2024-02-10T18:32:06.019Z"
   },
   {
    "duration": 306,
    "start_time": "2024-02-10T18:32:06.647Z"
   },
   {
    "duration": 251,
    "start_time": "2024-02-10T18:32:06.955Z"
   },
   {
    "duration": 29,
    "start_time": "2024-02-10T18:32:07.207Z"
   },
   {
    "duration": 57,
    "start_time": "2024-02-10T18:32:07.598Z"
   },
   {
    "duration": 2,
    "start_time": "2024-02-10T18:32:09.507Z"
   },
   {
    "duration": 2,
    "start_time": "2024-02-10T18:32:11.247Z"
   },
   {
    "duration": 2,
    "start_time": "2024-02-10T18:32:11.467Z"
   },
   {
    "duration": 3,
    "start_time": "2024-02-10T18:32:12.421Z"
   },
   {
    "duration": 2,
    "start_time": "2024-02-10T18:32:13.054Z"
   },
   {
    "duration": 2,
    "start_time": "2024-02-10T18:32:13.301Z"
   },
   {
    "duration": 2,
    "start_time": "2024-02-10T18:32:13.537Z"
   },
   {
    "duration": 2,
    "start_time": "2024-02-10T18:32:13.771Z"
   },
   {
    "duration": 2,
    "start_time": "2024-02-10T18:32:14.016Z"
   },
   {
    "duration": 2,
    "start_time": "2024-02-10T18:32:14.226Z"
   },
   {
    "duration": 2,
    "start_time": "2024-02-10T18:32:14.738Z"
   },
   {
    "duration": 15,
    "start_time": "2024-02-10T18:32:15.214Z"
   },
   {
    "duration": 73,
    "start_time": "2024-02-10T18:32:15.773Z"
   },
   {
    "duration": 2,
    "start_time": "2024-02-10T18:32:16.279Z"
   },
   {
    "duration": 280,
    "start_time": "2024-02-10T18:32:16.502Z"
   },
   {
    "duration": 3,
    "start_time": "2024-02-10T18:32:16.790Z"
   },
   {
    "duration": 567,
    "start_time": "2024-02-10T18:32:17.450Z"
   },
   {
    "duration": 3,
    "start_time": "2024-02-10T18:32:18.225Z"
   },
   {
    "duration": 968,
    "start_time": "2024-02-10T18:32:18.643Z"
   },
   {
    "duration": 81,
    "start_time": "2024-02-10T18:32:19.613Z"
   },
   {
    "duration": 75,
    "start_time": "2024-02-10T18:32:19.696Z"
   },
   {
    "duration": 2,
    "start_time": "2024-02-10T18:32:20.863Z"
   },
   {
    "duration": 16632,
    "start_time": "2024-02-10T18:32:21.787Z"
   },
   {
    "duration": 244,
    "start_time": "2024-02-10T18:32:41.278Z"
   },
   {
    "duration": 4,
    "start_time": "2024-02-10T18:32:42.654Z"
   },
   {
    "duration": 6,
    "start_time": "2024-02-10T18:32:48.580Z"
   },
   {
    "duration": 1288,
    "start_time": "2024-02-10T18:32:49.339Z"
   },
   {
    "duration": 3,
    "start_time": "2024-02-10T18:32:50.628Z"
   },
   {
    "duration": 3,
    "start_time": "2024-02-10T18:32:51.463Z"
   },
   {
    "duration": 3,
    "start_time": "2024-02-10T18:32:51.945Z"
   },
   {
    "duration": 245,
    "start_time": "2024-02-10T18:32:53.279Z"
   },
   {
    "duration": 11,
    "start_time": "2024-02-10T18:32:57.455Z"
   },
   {
    "duration": 4,
    "start_time": "2024-02-10T18:32:58.651Z"
   },
   {
    "duration": 628,
    "start_time": "2024-02-10T18:33:04.097Z"
   },
   {
    "duration": 2,
    "start_time": "2024-02-10T18:33:05.391Z"
   },
   {
    "duration": 128084,
    "start_time": "2024-02-10T18:33:07.039Z"
   },
   {
    "duration": 384,
    "start_time": "2024-02-10T18:35:57.451Z"
   },
   {
    "duration": 4,
    "start_time": "2024-02-10T18:35:58.620Z"
   },
   {
    "duration": 3,
    "start_time": "2024-02-10T18:36:00.393Z"
   },
   {
    "duration": 27,
    "start_time": "2024-02-10T18:36:01.648Z"
   },
   {
    "duration": 235,
    "start_time": "2024-02-10T18:36:02.284Z"
   },
   {
    "duration": 5007,
    "start_time": "2024-02-10T18:36:03.512Z"
   },
   {
    "duration": 436,
    "start_time": "2024-02-10T18:36:54.291Z"
   },
   {
    "duration": 4,
    "start_time": "2024-02-10T18:36:55.672Z"
   },
   {
    "duration": 381,
    "start_time": "2024-02-10T18:41:11.975Z"
   },
   {
    "duration": 2,
    "start_time": "2024-02-10T18:41:53.164Z"
   },
   {
    "duration": 2,
    "start_time": "2024-02-10T18:41:53.626Z"
   },
   {
    "duration": 2,
    "start_time": "2024-02-10T18:41:54.092Z"
   },
   {
    "duration": 2,
    "start_time": "2024-02-10T18:41:54.513Z"
   },
   {
    "duration": 3,
    "start_time": "2024-02-10T18:41:54.907Z"
   },
   {
    "duration": 2,
    "start_time": "2024-02-10T18:41:55.323Z"
   },
   {
    "duration": 2,
    "start_time": "2024-02-10T18:41:55.746Z"
   },
   {
    "duration": 2,
    "start_time": "2024-02-10T18:41:56.111Z"
   },
   {
    "duration": 2,
    "start_time": "2024-02-10T18:41:56.484Z"
   },
   {
    "duration": 3,
    "start_time": "2024-02-10T18:41:56.836Z"
   },
   {
    "duration": 4,
    "start_time": "2024-02-10T18:42:02.183Z"
   },
   {
    "duration": 368,
    "start_time": "2024-02-10T18:42:03.541Z"
   },
   {
    "duration": 3,
    "start_time": "2024-02-10T18:43:20.270Z"
   },
   {
    "duration": 3,
    "start_time": "2024-02-10T18:43:20.618Z"
   },
   {
    "duration": 3,
    "start_time": "2024-02-10T18:43:20.958Z"
   }
  ],
  "kernelspec": {
   "display_name": "Python 3 (ipykernel)",
   "language": "python",
   "name": "python3"
  },
  "language_info": {
   "codemirror_mode": {
    "name": "ipython",
    "version": 3
   },
   "file_extension": ".py",
   "mimetype": "text/x-python",
   "name": "python",
   "nbconvert_exporter": "python",
   "pygments_lexer": "ipython3",
   "version": "3.10.9"
  },
  "toc": {
   "base_numbering": 1,
   "nav_menu": {},
   "number_sections": true,
   "sideBar": true,
   "skip_h1_title": true,
   "title_cell": "Table of Contents",
   "title_sidebar": "Contents",
   "toc_cell": false,
   "toc_position": {},
   "toc_section_display": true,
   "toc_window_display": false
  }
 },
 "nbformat": 4,
 "nbformat_minor": 2
}
