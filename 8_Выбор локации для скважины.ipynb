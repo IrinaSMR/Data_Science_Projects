{
 "cells": [
  {
   "cell_type": "markdown",
   "metadata": {},
   "source": [
    "# Выбор локации для скважины"
   ]
  },
  {
   "cell_type": "markdown",
   "metadata": {},
   "source": [
    "Добывающей компании «ГлавРосГосНефть» нужно решить, где бурить новую скважину.\n",
    "\n",
    "Для исследования предоставлены пробы нефти в трех регионах: в каждом 10000 месторождений, где измерили качество нефти и объем ее запасов. Требуется построить модель машинного обучения, которая поможет определить регион, где добыча принесет наибольшую прибыль. Проанализировать возможную прибыль и риски нужно, используя технику *Bootstrap*.\n",
    "\n",
    "Шаги для выбора локации:\n",
    "\n",
    "- В избранном регионе ищут месторождения, для каждого определяют значения признаков.\n",
    "- Строят модель и оценивают объем запасов.\n",
    "- Выбирают месторождения с самым высокими оценками значений. Количество месторождений зависит от бюджета компании и стоимости разработки одной скважины.\n",
    "- Прибыль равна суммарной прибыли отобранных месторождений."
   ]
  },
  {
   "cell_type": "markdown",
   "metadata": {},
   "source": [
    "**<u>Описание данных</u>**\n",
    "\n",
    "Данные геологоразведки трех регионов находятся в файлах:\n",
    "\n",
    "- `/datasets/geo_data_0.csv`\n",
    "- `/datasets/geo_data_1.csv`\n",
    "- `/datasets/geo_data_2.csv`\n",
    "\n",
    "\n",
    " - `id` — уникальный идентификатор скважины\n",
    " - `f0`, `f1`, `f2` — три признака точек (неважно, что они означают, но сами признаки значимы)\n",
    " - `product` — объем запасов в скважине (тыс. баррелей)\n",
    "\n",
    "\n",
    "**<u>Условия задачи</u>**\n",
    "\n",
    "\n",
    "- Для обучения модели подходит только линейная регрессия (остальные — недостаточно предсказуемые).\n",
    "- При разведке региона исследуют `500 точек`, из которых с помощью машинного обучения выбирают `200 лучших` для разработки.\n",
    "- Бюджет на разработку скважин в регионе — `10 млрд рублей`.\n",
    "- При нынешних ценах один баррель сырья приносит `450 рублей` дохода. Доход с каждой единицы продукта составляет `450 тыс. рублей`, поскольку объем указан в тысячах баррелей.\n",
    "- После оценки рисков нужно оставить лишь те регионы, в которых вероятность убытков меньше `2.5%`. Среди них выбирают регион с наибольшей средней прибылью."
   ]
  },
  {
   "cell_type": "markdown",
   "metadata": {},
   "source": [
    "**<u>План работы</u>**\n",
    "\n",
    "**1.** Загрузка и подготовка данных с поясненем порядка действий.\n",
    "\n",
    "\n",
    "**2.** Обучение и проверка модели для каждого региона:\n",
    "* Разбивка данных на обучающую и валидационную выборки в соотношении `75:25`.\n",
    "* Обучение модели и предсказание на валидационной выборке.\n",
    "* Сохранение предсказаний и правильных ответов на валидационной выборке.\n",
    "* Вывод на экран среднего запаса предсказанного сырья и *RMSE* модели.\n",
    "* Анализ результатов.\n",
    " \n",
    " \n",
    "**3.** Подготовка к расчету прибыли:\n",
    "* Сохранение всех ключевых значений для расчетов в отдельных переменных.\n",
    "* Расчет достаточного объема сырья для безубыточной разработки новой скважины. Сравнение полученного объема сырья со средним запасом в каждом регионе. \n",
    "* Выводы по этапу подготовки расчёета прибыли.\n",
    " \n",
    " \n",
    "**4.** Создание функции для расчета прибыли по выбранным скважинам и предсказаниям модели:\n",
    "* Выбрать скважины с максимальными значениями предсказаний. \n",
    "* Суммировние целевого значения объема сырья, соответствующего этим предсказаниям.\n",
    "* Расчет прибыли для полученного объема сырья.\n",
    " \n",
    " \n",
    "**5.** Расчет рисков и прибыли для каждого региона:\n",
    "* Применение техники *Bootstrap* с `1000` выборок, чтобы найти распределение прибыли.\n",
    "* Определение средней прибыль, `95%`-й доверительного интервала и риска убытков. Убыток — это отрицательная прибыль.\n",
    "* Выводы: выбор региона для разработки скважин и обоснование выбора."
   ]
  },
  {
   "cell_type": "markdown",
   "metadata": {},
   "source": [
    "## Загрузка и подготовка данных"
   ]
  },
  {
   "cell_type": "code",
   "execution_count": 1,
   "metadata": {},
   "outputs": [],
   "source": [
    "!pip install phik -q"
   ]
  },
  {
   "cell_type": "code",
   "execution_count": 2,
   "metadata": {},
   "outputs": [],
   "source": [
    "# импортируем необходимые библиотеки\n",
    "import pandas as pd\n",
    "import matplotlib.pyplot as plt\n",
    "import seaborn as sns\n",
    "import numpy as np\n",
    "import phik\n",
    "from sklearn.linear_model import LinearRegression\n",
    "from sklearn.metrics import mean_squared_error\n",
    "from sklearn.model_selection import train_test_split\n",
    "from scipy import stats\n",
    "from numpy.random import RandomState\n",
    "\n",
    "pd.set_option('display.max_columns', None)\n",
    "\n",
    "%matplotlib inline\n",
    "\n",
    "RANDOM_STATE = 42"
   ]
  },
  {
   "cell_type": "code",
   "execution_count": 3,
   "metadata": {},
   "outputs": [],
   "source": [
    "# сохраним датафреймы в переменные\n",
    "# поскольку далее мы будем оперировать понятиями \"первый регион\", \"второй регион\", \"третий регион\", назовем их соответственно\n",
    "region_1 = pd.read_csv('datasets/geo_data_0.csv')\n",
    "region_2 = pd.read_csv('datasets/geo_data_1.csv')\n",
    "region_3 = pd.read_csv('datasets/geo_data_2.csv')"
   ]
  },
  {
   "cell_type": "code",
   "execution_count": 4,
   "metadata": {},
   "outputs": [
    {
     "data": {
      "text/html": [
       "<div>\n",
       "<style scoped>\n",
       "    .dataframe tbody tr th:only-of-type {\n",
       "        vertical-align: middle;\n",
       "    }\n",
       "\n",
       "    .dataframe tbody tr th {\n",
       "        vertical-align: top;\n",
       "    }\n",
       "\n",
       "    .dataframe thead th {\n",
       "        text-align: right;\n",
       "    }\n",
       "</style>\n",
       "<table border=\"1\" class=\"dataframe\">\n",
       "  <thead>\n",
       "    <tr style=\"text-align: right;\">\n",
       "      <th></th>\n",
       "      <th>id</th>\n",
       "      <th>f0</th>\n",
       "      <th>f1</th>\n",
       "      <th>f2</th>\n",
       "      <th>product</th>\n",
       "    </tr>\n",
       "  </thead>\n",
       "  <tbody>\n",
       "    <tr>\n",
       "      <th>0</th>\n",
       "      <td>txEyH</td>\n",
       "      <td>0.705745</td>\n",
       "      <td>-0.497823</td>\n",
       "      <td>1.221170</td>\n",
       "      <td>105.280062</td>\n",
       "    </tr>\n",
       "    <tr>\n",
       "      <th>1</th>\n",
       "      <td>2acmU</td>\n",
       "      <td>1.334711</td>\n",
       "      <td>-0.340164</td>\n",
       "      <td>4.365080</td>\n",
       "      <td>73.037750</td>\n",
       "    </tr>\n",
       "    <tr>\n",
       "      <th>2</th>\n",
       "      <td>409Wp</td>\n",
       "      <td>1.022732</td>\n",
       "      <td>0.151990</td>\n",
       "      <td>1.419926</td>\n",
       "      <td>85.265647</td>\n",
       "    </tr>\n",
       "    <tr>\n",
       "      <th>3</th>\n",
       "      <td>iJLyR</td>\n",
       "      <td>-0.032172</td>\n",
       "      <td>0.139033</td>\n",
       "      <td>2.978566</td>\n",
       "      <td>168.620776</td>\n",
       "    </tr>\n",
       "    <tr>\n",
       "      <th>4</th>\n",
       "      <td>Xdl7t</td>\n",
       "      <td>1.988431</td>\n",
       "      <td>0.155413</td>\n",
       "      <td>4.751769</td>\n",
       "      <td>154.036647</td>\n",
       "    </tr>\n",
       "  </tbody>\n",
       "</table>\n",
       "</div>"
      ],
      "text/plain": [
       "      id        f0        f1        f2     product\n",
       "0  txEyH  0.705745 -0.497823  1.221170  105.280062\n",
       "1  2acmU  1.334711 -0.340164  4.365080   73.037750\n",
       "2  409Wp  1.022732  0.151990  1.419926   85.265647\n",
       "3  iJLyR -0.032172  0.139033  2.978566  168.620776\n",
       "4  Xdl7t  1.988431  0.155413  4.751769  154.036647"
      ]
     },
     "execution_count": 4,
     "metadata": {},
     "output_type": "execute_result"
    }
   ],
   "source": [
    "# просмотрим первые строки первого датафрейма\n",
    "region_1.head()"
   ]
  },
  {
   "cell_type": "code",
   "execution_count": 5,
   "metadata": {},
   "outputs": [
    {
     "name": "stdout",
     "output_type": "stream",
     "text": [
      "<class 'pandas.core.frame.DataFrame'>\n",
      "RangeIndex: 100000 entries, 0 to 99999\n",
      "Data columns (total 5 columns):\n",
      " #   Column   Non-Null Count   Dtype  \n",
      "---  ------   --------------   -----  \n",
      " 0   id       100000 non-null  object \n",
      " 1   f0       100000 non-null  float64\n",
      " 2   f1       100000 non-null  float64\n",
      " 3   f2       100000 non-null  float64\n",
      " 4   product  100000 non-null  float64\n",
      "dtypes: float64(4), object(1)\n",
      "memory usage: 3.8+ MB\n"
     ]
    }
   ],
   "source": [
    "# просмотрим общую информацию о датафрейме\n",
    "region_1.info()"
   ]
  },
  {
   "cell_type": "code",
   "execution_count": 6,
   "metadata": {},
   "outputs": [
    {
     "data": {
      "text/html": [
       "<div>\n",
       "<style scoped>\n",
       "    .dataframe tbody tr th:only-of-type {\n",
       "        vertical-align: middle;\n",
       "    }\n",
       "\n",
       "    .dataframe tbody tr th {\n",
       "        vertical-align: top;\n",
       "    }\n",
       "\n",
       "    .dataframe thead th {\n",
       "        text-align: right;\n",
       "    }\n",
       "</style>\n",
       "<table border=\"1\" class=\"dataframe\">\n",
       "  <thead>\n",
       "    <tr style=\"text-align: right;\">\n",
       "      <th></th>\n",
       "      <th>id</th>\n",
       "      <th>f0</th>\n",
       "      <th>f1</th>\n",
       "      <th>f2</th>\n",
       "      <th>product</th>\n",
       "    </tr>\n",
       "  </thead>\n",
       "  <tbody>\n",
       "    <tr>\n",
       "      <th>0</th>\n",
       "      <td>kBEdx</td>\n",
       "      <td>-15.001348</td>\n",
       "      <td>-8.276000</td>\n",
       "      <td>-0.005876</td>\n",
       "      <td>3.179103</td>\n",
       "    </tr>\n",
       "    <tr>\n",
       "      <th>1</th>\n",
       "      <td>62mP7</td>\n",
       "      <td>14.272088</td>\n",
       "      <td>-3.475083</td>\n",
       "      <td>0.999183</td>\n",
       "      <td>26.953261</td>\n",
       "    </tr>\n",
       "    <tr>\n",
       "      <th>2</th>\n",
       "      <td>vyE1P</td>\n",
       "      <td>6.263187</td>\n",
       "      <td>-5.948386</td>\n",
       "      <td>5.001160</td>\n",
       "      <td>134.766305</td>\n",
       "    </tr>\n",
       "    <tr>\n",
       "      <th>3</th>\n",
       "      <td>KcrkZ</td>\n",
       "      <td>-13.081196</td>\n",
       "      <td>-11.506057</td>\n",
       "      <td>4.999415</td>\n",
       "      <td>137.945408</td>\n",
       "    </tr>\n",
       "    <tr>\n",
       "      <th>4</th>\n",
       "      <td>AHL4O</td>\n",
       "      <td>12.702195</td>\n",
       "      <td>-8.147433</td>\n",
       "      <td>5.004363</td>\n",
       "      <td>134.766305</td>\n",
       "    </tr>\n",
       "  </tbody>\n",
       "</table>\n",
       "</div>"
      ],
      "text/plain": [
       "      id         f0         f1        f2     product\n",
       "0  kBEdx -15.001348  -8.276000 -0.005876    3.179103\n",
       "1  62mP7  14.272088  -3.475083  0.999183   26.953261\n",
       "2  vyE1P   6.263187  -5.948386  5.001160  134.766305\n",
       "3  KcrkZ -13.081196 -11.506057  4.999415  137.945408\n",
       "4  AHL4O  12.702195  -8.147433  5.004363  134.766305"
      ]
     },
     "execution_count": 6,
     "metadata": {},
     "output_type": "execute_result"
    }
   ],
   "source": [
    "# просмотрим первые строки второго датафрейма\n",
    "region_2.head()"
   ]
  },
  {
   "cell_type": "code",
   "execution_count": 7,
   "metadata": {},
   "outputs": [
    {
     "name": "stdout",
     "output_type": "stream",
     "text": [
      "<class 'pandas.core.frame.DataFrame'>\n",
      "RangeIndex: 100000 entries, 0 to 99999\n",
      "Data columns (total 5 columns):\n",
      " #   Column   Non-Null Count   Dtype  \n",
      "---  ------   --------------   -----  \n",
      " 0   id       100000 non-null  object \n",
      " 1   f0       100000 non-null  float64\n",
      " 2   f1       100000 non-null  float64\n",
      " 3   f2       100000 non-null  float64\n",
      " 4   product  100000 non-null  float64\n",
      "dtypes: float64(4), object(1)\n",
      "memory usage: 3.8+ MB\n"
     ]
    }
   ],
   "source": [
    "# просмотрим общую информацию о датафрейме\n",
    "region_2.info()"
   ]
  },
  {
   "cell_type": "code",
   "execution_count": 8,
   "metadata": {},
   "outputs": [
    {
     "data": {
      "text/html": [
       "<div>\n",
       "<style scoped>\n",
       "    .dataframe tbody tr th:only-of-type {\n",
       "        vertical-align: middle;\n",
       "    }\n",
       "\n",
       "    .dataframe tbody tr th {\n",
       "        vertical-align: top;\n",
       "    }\n",
       "\n",
       "    .dataframe thead th {\n",
       "        text-align: right;\n",
       "    }\n",
       "</style>\n",
       "<table border=\"1\" class=\"dataframe\">\n",
       "  <thead>\n",
       "    <tr style=\"text-align: right;\">\n",
       "      <th></th>\n",
       "      <th>id</th>\n",
       "      <th>f0</th>\n",
       "      <th>f1</th>\n",
       "      <th>f2</th>\n",
       "      <th>product</th>\n",
       "    </tr>\n",
       "  </thead>\n",
       "  <tbody>\n",
       "    <tr>\n",
       "      <th>0</th>\n",
       "      <td>fwXo0</td>\n",
       "      <td>-1.146987</td>\n",
       "      <td>0.963328</td>\n",
       "      <td>-0.828965</td>\n",
       "      <td>27.758673</td>\n",
       "    </tr>\n",
       "    <tr>\n",
       "      <th>1</th>\n",
       "      <td>WJtFt</td>\n",
       "      <td>0.262778</td>\n",
       "      <td>0.269839</td>\n",
       "      <td>-2.530187</td>\n",
       "      <td>56.069697</td>\n",
       "    </tr>\n",
       "    <tr>\n",
       "      <th>2</th>\n",
       "      <td>ovLUW</td>\n",
       "      <td>0.194587</td>\n",
       "      <td>0.289035</td>\n",
       "      <td>-5.586433</td>\n",
       "      <td>62.871910</td>\n",
       "    </tr>\n",
       "    <tr>\n",
       "      <th>3</th>\n",
       "      <td>q6cA6</td>\n",
       "      <td>2.236060</td>\n",
       "      <td>-0.553760</td>\n",
       "      <td>0.930038</td>\n",
       "      <td>114.572842</td>\n",
       "    </tr>\n",
       "    <tr>\n",
       "      <th>4</th>\n",
       "      <td>WPMUX</td>\n",
       "      <td>-0.515993</td>\n",
       "      <td>1.716266</td>\n",
       "      <td>5.899011</td>\n",
       "      <td>149.600746</td>\n",
       "    </tr>\n",
       "  </tbody>\n",
       "</table>\n",
       "</div>"
      ],
      "text/plain": [
       "      id        f0        f1        f2     product\n",
       "0  fwXo0 -1.146987  0.963328 -0.828965   27.758673\n",
       "1  WJtFt  0.262778  0.269839 -2.530187   56.069697\n",
       "2  ovLUW  0.194587  0.289035 -5.586433   62.871910\n",
       "3  q6cA6  2.236060 -0.553760  0.930038  114.572842\n",
       "4  WPMUX -0.515993  1.716266  5.899011  149.600746"
      ]
     },
     "execution_count": 8,
     "metadata": {},
     "output_type": "execute_result"
    }
   ],
   "source": [
    "# просмотрим первые строки третьего датафрейма\n",
    "region_3.head()"
   ]
  },
  {
   "cell_type": "code",
   "execution_count": 9,
   "metadata": {},
   "outputs": [
    {
     "name": "stdout",
     "output_type": "stream",
     "text": [
      "<class 'pandas.core.frame.DataFrame'>\n",
      "RangeIndex: 100000 entries, 0 to 99999\n",
      "Data columns (total 5 columns):\n",
      " #   Column   Non-Null Count   Dtype  \n",
      "---  ------   --------------   -----  \n",
      " 0   id       100000 non-null  object \n",
      " 1   f0       100000 non-null  float64\n",
      " 2   f1       100000 non-null  float64\n",
      " 3   f2       100000 non-null  float64\n",
      " 4   product  100000 non-null  float64\n",
      "dtypes: float64(4), object(1)\n",
      "memory usage: 3.8+ MB\n"
     ]
    }
   ],
   "source": [
    "# просмотрим общую информацию о датафрейме\n",
    "region_3.info()"
   ]
  },
  {
   "cell_type": "markdown",
   "metadata": {},
   "source": [
    "Все три датафрейма имеют одинаковую размерность: `100000` строк и `5` столбцов. Данные представлены вещественными и строковыми значениями. Пропусков нет."
   ]
  },
  {
   "cell_type": "markdown",
   "metadata": {},
   "source": [
    "**Вывод:**\n",
    "\n",
    "* Типы данных соответствуют описанию.\n",
    "* Названия колонок соответствуют общепринятым стандартам.\n",
    "* В данных нет пропусков.    "
   ]
  },
  {
   "cell_type": "markdown",
   "metadata": {},
   "source": [
    "----------"
   ]
  },
  {
   "cell_type": "markdown",
   "metadata": {},
   "source": [
    "Выполним подготовку данных для дальнейшей работы. \n",
    "\n",
    "Признак `id` не является информативным для обучения модели, поэтому удалим соответствующий столбец из всех датафреймов."
   ]
  },
  {
   "cell_type": "code",
   "execution_count": 10,
   "metadata": {},
   "outputs": [],
   "source": [
    "region_1 = region_1.drop('id', axis=1)\n",
    "region_2 = region_2.drop('id', axis=1)\n",
    "region_3 = region_3.drop('id', axis=1)"
   ]
  },
  {
   "cell_type": "markdown",
   "metadata": {},
   "source": [
    "Проверим, выполнилось ли удаление."
   ]
  },
  {
   "cell_type": "code",
   "execution_count": 11,
   "metadata": {},
   "outputs": [
    {
     "name": "stdout",
     "output_type": "stream",
     "text": [
      "Размерность датафрейма region_1 после удаления столбца id: (100000, 4)\n",
      "Размерность датафрейма region_2 после удаления столбца id: (100000, 4)\n",
      "Размерность датафрейма region_3 после удаления столбца id: (100000, 4)\n"
     ]
    }
   ],
   "source": [
    "print('Размерность датафрейма region_1 после удаления столбца id:', region_1.shape)\n",
    "print('Размерность датафрейма region_2 после удаления столбца id:', region_2.shape)\n",
    "print('Размерность датафрейма region_3 после удаления столбца id:', region_3.shape)"
   ]
  },
  {
   "cell_type": "markdown",
   "metadata": {},
   "source": [
    "Итак, мы видим, что осталось 4 столбца. Удаление выполнено успешно."
   ]
  },
  {
   "cell_type": "markdown",
   "metadata": {},
   "source": [
    "Теперь проверим наличие **явных дубликатов** в данных."
   ]
  },
  {
   "cell_type": "code",
   "execution_count": 12,
   "metadata": {},
   "outputs": [
    {
     "name": "stdout",
     "output_type": "stream",
     "text": [
      "Количество явных дубликатов в датафрейме первого региона: 0\n",
      "Количество явных дубликатов в датафрейме второго региона: 0\n",
      "Количество явных дубликатов в датафрейме третьего региона: 0\n"
     ]
    }
   ],
   "source": [
    "print('Количество явных дубликатов в датафрейме первого региона:', region_1.duplicated().sum())\n",
    "print('Количество явных дубликатов в датафрейме второго региона:', region_2.duplicated().sum())\n",
    "print('Количество явных дубликатов в датафрейме третьего региона:', region_3.duplicated().sum())"
   ]
  },
  {
   "cell_type": "markdown",
   "metadata": {},
   "source": [
    "**Неявные дубликаты** в данном случае искать нецелесообразно, поскольку показатели разных скважин могут быть одинаковыми."
   ]
  },
  {
   "cell_type": "markdown",
   "metadata": {},
   "source": [
    "---------"
   ]
  },
  {
   "cell_type": "markdown",
   "metadata": {},
   "source": [
    "Посмотрим распределение вещественных значений во всех датафреймах. Для начала изучим статистику по каждому датафрейму."
   ]
  },
  {
   "cell_type": "code",
   "execution_count": 13,
   "metadata": {},
   "outputs": [
    {
     "data": {
      "text/html": [
       "<div>\n",
       "<style scoped>\n",
       "    .dataframe tbody tr th:only-of-type {\n",
       "        vertical-align: middle;\n",
       "    }\n",
       "\n",
       "    .dataframe tbody tr th {\n",
       "        vertical-align: top;\n",
       "    }\n",
       "\n",
       "    .dataframe thead th {\n",
       "        text-align: right;\n",
       "    }\n",
       "</style>\n",
       "<table border=\"1\" class=\"dataframe\">\n",
       "  <thead>\n",
       "    <tr style=\"text-align: right;\">\n",
       "      <th></th>\n",
       "      <th>f0</th>\n",
       "      <th>f1</th>\n",
       "      <th>f2</th>\n",
       "      <th>product</th>\n",
       "    </tr>\n",
       "  </thead>\n",
       "  <tbody>\n",
       "    <tr>\n",
       "      <th>count</th>\n",
       "      <td>100000.000000</td>\n",
       "      <td>100000.000000</td>\n",
       "      <td>100000.000000</td>\n",
       "      <td>100000.000000</td>\n",
       "    </tr>\n",
       "    <tr>\n",
       "      <th>mean</th>\n",
       "      <td>0.500419</td>\n",
       "      <td>0.250143</td>\n",
       "      <td>2.502647</td>\n",
       "      <td>92.500000</td>\n",
       "    </tr>\n",
       "    <tr>\n",
       "      <th>std</th>\n",
       "      <td>0.871832</td>\n",
       "      <td>0.504433</td>\n",
       "      <td>3.248248</td>\n",
       "      <td>44.288691</td>\n",
       "    </tr>\n",
       "    <tr>\n",
       "      <th>min</th>\n",
       "      <td>-1.408605</td>\n",
       "      <td>-0.848218</td>\n",
       "      <td>-12.088328</td>\n",
       "      <td>0.000000</td>\n",
       "    </tr>\n",
       "    <tr>\n",
       "      <th>25%</th>\n",
       "      <td>-0.072580</td>\n",
       "      <td>-0.200881</td>\n",
       "      <td>0.287748</td>\n",
       "      <td>56.497507</td>\n",
       "    </tr>\n",
       "    <tr>\n",
       "      <th>50%</th>\n",
       "      <td>0.502360</td>\n",
       "      <td>0.250252</td>\n",
       "      <td>2.515969</td>\n",
       "      <td>91.849972</td>\n",
       "    </tr>\n",
       "    <tr>\n",
       "      <th>75%</th>\n",
       "      <td>1.073581</td>\n",
       "      <td>0.700646</td>\n",
       "      <td>4.715088</td>\n",
       "      <td>128.564089</td>\n",
       "    </tr>\n",
       "    <tr>\n",
       "      <th>max</th>\n",
       "      <td>2.362331</td>\n",
       "      <td>1.343769</td>\n",
       "      <td>16.003790</td>\n",
       "      <td>185.364347</td>\n",
       "    </tr>\n",
       "  </tbody>\n",
       "</table>\n",
       "</div>"
      ],
      "text/plain": [
       "                  f0             f1             f2        product\n",
       "count  100000.000000  100000.000000  100000.000000  100000.000000\n",
       "mean        0.500419       0.250143       2.502647      92.500000\n",
       "std         0.871832       0.504433       3.248248      44.288691\n",
       "min        -1.408605      -0.848218     -12.088328       0.000000\n",
       "25%        -0.072580      -0.200881       0.287748      56.497507\n",
       "50%         0.502360       0.250252       2.515969      91.849972\n",
       "75%         1.073581       0.700646       4.715088     128.564089\n",
       "max         2.362331       1.343769      16.003790     185.364347"
      ]
     },
     "execution_count": 13,
     "metadata": {},
     "output_type": "execute_result"
    }
   ],
   "source": [
    "region_1.describe()"
   ]
  },
  {
   "cell_type": "code",
   "execution_count": 14,
   "metadata": {},
   "outputs": [
    {
     "data": {
      "text/html": [
       "<div>\n",
       "<style scoped>\n",
       "    .dataframe tbody tr th:only-of-type {\n",
       "        vertical-align: middle;\n",
       "    }\n",
       "\n",
       "    .dataframe tbody tr th {\n",
       "        vertical-align: top;\n",
       "    }\n",
       "\n",
       "    .dataframe thead th {\n",
       "        text-align: right;\n",
       "    }\n",
       "</style>\n",
       "<table border=\"1\" class=\"dataframe\">\n",
       "  <thead>\n",
       "    <tr style=\"text-align: right;\">\n",
       "      <th></th>\n",
       "      <th>f0</th>\n",
       "      <th>f1</th>\n",
       "      <th>f2</th>\n",
       "      <th>product</th>\n",
       "    </tr>\n",
       "  </thead>\n",
       "  <tbody>\n",
       "    <tr>\n",
       "      <th>count</th>\n",
       "      <td>100000.000000</td>\n",
       "      <td>100000.000000</td>\n",
       "      <td>100000.000000</td>\n",
       "      <td>100000.000000</td>\n",
       "    </tr>\n",
       "    <tr>\n",
       "      <th>mean</th>\n",
       "      <td>1.141296</td>\n",
       "      <td>-4.796579</td>\n",
       "      <td>2.494541</td>\n",
       "      <td>68.825000</td>\n",
       "    </tr>\n",
       "    <tr>\n",
       "      <th>std</th>\n",
       "      <td>8.965932</td>\n",
       "      <td>5.119872</td>\n",
       "      <td>1.703572</td>\n",
       "      <td>45.944423</td>\n",
       "    </tr>\n",
       "    <tr>\n",
       "      <th>min</th>\n",
       "      <td>-31.609576</td>\n",
       "      <td>-26.358598</td>\n",
       "      <td>-0.018144</td>\n",
       "      <td>0.000000</td>\n",
       "    </tr>\n",
       "    <tr>\n",
       "      <th>25%</th>\n",
       "      <td>-6.298551</td>\n",
       "      <td>-8.267985</td>\n",
       "      <td>1.000021</td>\n",
       "      <td>26.953261</td>\n",
       "    </tr>\n",
       "    <tr>\n",
       "      <th>50%</th>\n",
       "      <td>1.153055</td>\n",
       "      <td>-4.813172</td>\n",
       "      <td>2.011479</td>\n",
       "      <td>57.085625</td>\n",
       "    </tr>\n",
       "    <tr>\n",
       "      <th>75%</th>\n",
       "      <td>8.621015</td>\n",
       "      <td>-1.332816</td>\n",
       "      <td>3.999904</td>\n",
       "      <td>107.813044</td>\n",
       "    </tr>\n",
       "    <tr>\n",
       "      <th>max</th>\n",
       "      <td>29.421755</td>\n",
       "      <td>18.734063</td>\n",
       "      <td>5.019721</td>\n",
       "      <td>137.945408</td>\n",
       "    </tr>\n",
       "  </tbody>\n",
       "</table>\n",
       "</div>"
      ],
      "text/plain": [
       "                  f0             f1             f2        product\n",
       "count  100000.000000  100000.000000  100000.000000  100000.000000\n",
       "mean        1.141296      -4.796579       2.494541      68.825000\n",
       "std         8.965932       5.119872       1.703572      45.944423\n",
       "min       -31.609576     -26.358598      -0.018144       0.000000\n",
       "25%        -6.298551      -8.267985       1.000021      26.953261\n",
       "50%         1.153055      -4.813172       2.011479      57.085625\n",
       "75%         8.621015      -1.332816       3.999904     107.813044\n",
       "max        29.421755      18.734063       5.019721     137.945408"
      ]
     },
     "execution_count": 14,
     "metadata": {},
     "output_type": "execute_result"
    }
   ],
   "source": [
    "region_2.describe()"
   ]
  },
  {
   "cell_type": "code",
   "execution_count": 15,
   "metadata": {},
   "outputs": [
    {
     "data": {
      "text/html": [
       "<div>\n",
       "<style scoped>\n",
       "    .dataframe tbody tr th:only-of-type {\n",
       "        vertical-align: middle;\n",
       "    }\n",
       "\n",
       "    .dataframe tbody tr th {\n",
       "        vertical-align: top;\n",
       "    }\n",
       "\n",
       "    .dataframe thead th {\n",
       "        text-align: right;\n",
       "    }\n",
       "</style>\n",
       "<table border=\"1\" class=\"dataframe\">\n",
       "  <thead>\n",
       "    <tr style=\"text-align: right;\">\n",
       "      <th></th>\n",
       "      <th>f0</th>\n",
       "      <th>f1</th>\n",
       "      <th>f2</th>\n",
       "      <th>product</th>\n",
       "    </tr>\n",
       "  </thead>\n",
       "  <tbody>\n",
       "    <tr>\n",
       "      <th>count</th>\n",
       "      <td>100000.000000</td>\n",
       "      <td>100000.000000</td>\n",
       "      <td>100000.000000</td>\n",
       "      <td>100000.000000</td>\n",
       "    </tr>\n",
       "    <tr>\n",
       "      <th>mean</th>\n",
       "      <td>0.002023</td>\n",
       "      <td>-0.002081</td>\n",
       "      <td>2.495128</td>\n",
       "      <td>95.000000</td>\n",
       "    </tr>\n",
       "    <tr>\n",
       "      <th>std</th>\n",
       "      <td>1.732045</td>\n",
       "      <td>1.730417</td>\n",
       "      <td>3.473445</td>\n",
       "      <td>44.749921</td>\n",
       "    </tr>\n",
       "    <tr>\n",
       "      <th>min</th>\n",
       "      <td>-8.760004</td>\n",
       "      <td>-7.084020</td>\n",
       "      <td>-11.970335</td>\n",
       "      <td>0.000000</td>\n",
       "    </tr>\n",
       "    <tr>\n",
       "      <th>25%</th>\n",
       "      <td>-1.162288</td>\n",
       "      <td>-1.174820</td>\n",
       "      <td>0.130359</td>\n",
       "      <td>59.450441</td>\n",
       "    </tr>\n",
       "    <tr>\n",
       "      <th>50%</th>\n",
       "      <td>0.009424</td>\n",
       "      <td>-0.009482</td>\n",
       "      <td>2.484236</td>\n",
       "      <td>94.925613</td>\n",
       "    </tr>\n",
       "    <tr>\n",
       "      <th>75%</th>\n",
       "      <td>1.158535</td>\n",
       "      <td>1.163678</td>\n",
       "      <td>4.858794</td>\n",
       "      <td>130.595027</td>\n",
       "    </tr>\n",
       "    <tr>\n",
       "      <th>max</th>\n",
       "      <td>7.238262</td>\n",
       "      <td>7.844801</td>\n",
       "      <td>16.739402</td>\n",
       "      <td>190.029838</td>\n",
       "    </tr>\n",
       "  </tbody>\n",
       "</table>\n",
       "</div>"
      ],
      "text/plain": [
       "                  f0             f1             f2        product\n",
       "count  100000.000000  100000.000000  100000.000000  100000.000000\n",
       "mean        0.002023      -0.002081       2.495128      95.000000\n",
       "std         1.732045       1.730417       3.473445      44.749921\n",
       "min        -8.760004      -7.084020     -11.970335       0.000000\n",
       "25%        -1.162288      -1.174820       0.130359      59.450441\n",
       "50%         0.009424      -0.009482       2.484236      94.925613\n",
       "75%         1.158535       1.163678       4.858794     130.595027\n",
       "max         7.238262       7.844801      16.739402     190.029838"
      ]
     },
     "execution_count": 15,
     "metadata": {},
     "output_type": "execute_result"
    }
   ],
   "source": [
    "region_3.describe()"
   ]
  },
  {
   "cell_type": "markdown",
   "metadata": {},
   "source": [
    "Теперь построим графики, чтобы наглядно оценить распределение признаков. Напишем функции для построения гистограмм и ящиков с усами."
   ]
  },
  {
   "cell_type": "code",
   "execution_count": 16,
   "metadata": {},
   "outputs": [],
   "source": [
    "# функция для построения гистограмм\n",
    "def create_histograms(df, df_name):\n",
    "    position = 0\n",
    "\n",
    "    plt.figure(figsize=[15, 20])\n",
    "    plt.subplots_adjust(top=0.95, wspace=0.2, hspace=0.5)\n",
    "    plt.suptitle('Гистограммы для вещественных значений', fontsize=15)\n",
    "\n",
    "    for column_name in df.columns:\n",
    "        position += 1\n",
    "        plt.subplot(3, 4, position)\n",
    "        sns.set_style('whitegrid')\n",
    "\n",
    "        plt.title(f'Гистограмма для {column_name.upper()} региона {df_name[-1]}', fontsize=10)\n",
    "        sns.histplot(data=df[column_name], kde=False)\n",
    "        plt.ylabel('Количество')\n",
    "\n",
    "    plt.show();    \n",
    "    \n",
    "\n",
    "# функция для построения ящиков с усами\n",
    "def create_boxplots(df, df_name):\n",
    "    position = 0\n",
    "\n",
    "    plt.figure(figsize=[15, 20])\n",
    "    plt.subplots_adjust(top=0.95, wspace=0.2, hspace=0.5)\n",
    "    plt.suptitle('Ящики с усами для вещественных значений', fontsize=15)\n",
    "\n",
    "    for column_name in df.columns:\n",
    "        position += 1\n",
    "        plt.subplot(3, 4, position)\n",
    "        sns.set_style('whitegrid')\n",
    "\n",
    "        plt.title(f'Ящик с усами для {column_name.upper()} региона {df_name[-1]}', fontsize=10)\n",
    "        sns.set_style('whitegrid')\n",
    "\n",
    "        sns.boxplot(data=df[column_name], orient='h')\n",
    "\n",
    "        plt.axvline(np.mean(df[column_name]),\n",
    "                    color='r',\n",
    "                    linestyle='-',\n",
    "                    label='Среднее')\n",
    "\n",
    "        plt.legend(title=f'Среднее: {np.mean(df[column_name]):.2f}. Медиана: {np.median(df[column_name]):.2f}', \n",
    "                   loc='center', \n",
    "                   edgecolor='r',\n",
    "                   facecolor='lightblue',\n",
    "                   bbox_to_anchor=(0.5, -0.15))\n",
    "\n",
    "    plt.show();"
   ]
  },
  {
   "cell_type": "markdown",
   "metadata": {},
   "source": [
    "Построим **графики для первого региона**."
   ]
  },
  {
   "cell_type": "code",
   "execution_count": 17,
   "metadata": {},
   "outputs": [
    {
     "data": {
      "image/png": "[encoded data removed]",
      "text/plain": [
       "<Figure size 1500x2000 with 4 Axes>"
      ]
     },
     "metadata": {},
     "output_type": "display_data"
    }
   ],
   "source": [
    "create_histograms(region_1, 'region_1')"
   ]
  },
  {
   "cell_type": "code",
   "execution_count": 18,
   "metadata": {},
   "outputs": [
    {
     "data": {
      "image/png": "[encoded data removed]",
      "text/plain": [
       "<Figure size 1500x2000 with 4 Axes>"
      ]
     },
     "metadata": {},
     "output_type": "display_data"
    }
   ],
   "source": [
    "create_boxplots(region_1, 'region_1')"
   ]
  },
  {
   "cell_type": "markdown",
   "metadata": {},
   "source": [
    "Как можно видеть, признак `f2` первого региона имеет нормальное распределение, есть выбросы, их удалять не будем, поскольку доподлинно неизвестно, что означают эти признаки, вероятно, это реальные замеры. Остальные признаки не имеют выбросов.\n",
    "\n",
    "Средний запас сырья в скважинах первого региона: `92.5` тыс. баррелей."
   ]
  },
  {
   "cell_type": "markdown",
   "metadata": {},
   "source": [
    "Построим **графики для второго региона**."
   ]
  },
  {
   "cell_type": "code",
   "execution_count": 19,
   "metadata": {},
   "outputs": [
    {
     "data": {
      "image/png": "[encoded data removed]",
      "text/plain": [
       "<Figure size 1500x2000 with 4 Axes>"
      ]
     },
     "metadata": {},
     "output_type": "display_data"
    }
   ],
   "source": [
    "create_histograms(region_2, 'region_2')"
   ]
  },
  {
   "cell_type": "code",
   "execution_count": 20,
   "metadata": {},
   "outputs": [
    {
     "data": {
      "image/png": "[encoded data removed]",
      "text/plain": [
       "<Figure size 1500x2000 with 4 Axes>"
      ]
     },
     "metadata": {},
     "output_type": "display_data"
    }
   ],
   "source": [
    "create_boxplots(region_2, 'region_2')"
   ]
  },
  {
   "cell_type": "markdown",
   "metadata": {},
   "source": [
    "Из полученных графиков видно, что нормальное распределение имеет признак `f1` второго региона, также имеются выбросы, которые мы не будем удалять по причинам, обозначенным мною выше для первого региона.\n",
    "\n",
    "Средний запас сырья в скважинах первого региона: `68.83` тыс. баррелей."
   ]
  },
  {
   "cell_type": "markdown",
   "metadata": {},
   "source": [
    "Построим **графики для третьего региона**."
   ]
  },
  {
   "cell_type": "code",
   "execution_count": 21,
   "metadata": {},
   "outputs": [
    {
     "data": {
      "image/png": "[encoded data removed]",
      "text/plain": [
       "<Figure size 1500x2000 with 4 Axes>"
      ]
     },
     "metadata": {},
     "output_type": "display_data"
    }
   ],
   "source": [
    "create_histograms(region_3, 'region_3')"
   ]
  },
  {
   "cell_type": "code",
   "execution_count": 22,
   "metadata": {},
   "outputs": [
    {
     "data": {
      "image/png": "[encoded data removed]",
      "text/plain": [
       "<Figure size 1500x2000 with 4 Axes>"
      ]
     },
     "metadata": {},
     "output_type": "display_data"
    }
   ],
   "source": [
    "create_boxplots(region_3, 'region_3')"
   ]
  },
  {
   "cell_type": "markdown",
   "metadata": {},
   "source": [
    "На полученных графиках видно нормальное распределение признаков `f0`, `f1`, `f2` третьего региона, также все три признака имеют выбросы. Удалять выбросы не будем по тем же причинам, что и для первых двух регионов.\n",
    "\n",
    "Средний запас сырья в скважинах первого региона: `95` тыс. баррелей."
   ]
  },
  {
   "cell_type": "markdown",
   "metadata": {},
   "source": [
    "----------"
   ]
  },
  {
   "cell_type": "markdown",
   "metadata": {},
   "source": [
    "Тепепь стоит посмотреть **корреляцию признаков** в представленных датафреймах. Построим матрицу *Phik*, которая широко используется для анализа корреляции между переменными в наборах данных."
   ]
  },
  {
   "cell_type": "code",
   "execution_count": 23,
   "metadata": {},
   "outputs": [],
   "source": [
    "# функция построения матрицы корреляции\n",
    "def plot_correlation_heatmaps(dataframes):\n",
    "    # определим столбцы, которые имеют интервальные значения\n",
    "    interval_cols = ['f0', 'f1', 'f2', 'product']\n",
    "    for region, df in dataframes.items():\n",
    "       # расчет коэффициентов корреляции Phik\n",
    "        correlation_matrix = phik.phik_matrix(df, interval_cols=interval_cols)\n",
    "        \n",
    "        # построение графика корреляции\n",
    "        plt.figure(figsize=(10, 5))\n",
    "        sns.heatmap(correlation_matrix, annot=True, cmap=\"coolwarm\")\n",
    "        \n",
    "        plt.title(f\"Матрица корреляции (Phik) - {region}\")\n",
    "        plt.show();"
   ]
  },
  {
   "cell_type": "code",
   "execution_count": 24,
   "metadata": {},
   "outputs": [],
   "source": [
    "dataframes = {'Регион 1': region_1, 'Регион 2': region_2, 'Регион 3': region_3}"
   ]
  },
  {
   "cell_type": "code",
   "execution_count": 25,
   "metadata": {},
   "outputs": [
    {
     "data": {
      "image/png": "[encoded data removed]",
      "text/plain": [
       "<Figure size 1000x500 with 2 Axes>"
      ]
     },
     "metadata": {},
     "output_type": "display_data"
    },
    {
     "data": {
      "image/png": "[encoded data removed]",
      "text/plain": [
       "<Figure size 1000x500 with 2 Axes>"
      ]
     },
     "metadata": {},
     "output_type": "display_data"
    },
    {
     "data": {
      "image/png": "[encoded data removed]",
      "text/plain": [
       "<Figure size 1000x500 with 2 Axes>"
      ]
     },
     "metadata": {},
     "output_type": "display_data"
    }
   ],
   "source": [
    "plot_correlation_heatmaps(dataframes)"
   ]
  },
  {
   "cell_type": "markdown",
   "metadata": {},
   "source": [
    "**Выводы по матрице кореляции:**\n",
    "\n",
    "<u>Первый регион</u>: видим высокую корреляцию (`0.76`) между признаками `f0` и `f1`, умеренную корреляцию (`0.48`) между признаком `f2` и целевой переменной `product`, остальные признаки либо коррелируют между собой слабо, либо вообще не коррелируют.\n",
    "\n",
    "<u>Второй регион</u>: видим весьма высокую корреляцию (`0.98`) между признаком `f2` и целевой переменной `product`, заметную корреляцию (`0.63`) между признаком `f0` и целевой переменной `product`, остальные признаки либо коррелируют между собой слабо, либо вообще не коррелируют. Сильная корреляция в этом регионе возникает в связи с небольшим количеством уникальных значений целевого признака.\n",
    "\n",
    "<u>Третий регион</u>: видим умеренную корреляцию (`0.44`) между признаком `f2` и целевой переменной `product`, остальные признаки либо коррелируют между собой слабо, либо вообще не коррелируют."
   ]
  },
  {
   "cell_type": "markdown",
   "metadata": {},
   "source": [
    "<u>**Выводы по загрузке и подготовке данных**:</u>\n",
    "    \n",
    "Типы данных во всех датафреймах соответствуют описанию, названия колонок соответствуют общепринятым стандартам, в данных нет пропусков.\n",
    "\n",
    "Признак `id` не является информативным для обучения модели, поэтому был удален из всех датафреймов.\n",
    "\n",
    "При построении графиков были обнаружены выбросы в некоторых признаках, удалять их не стали, поскольку мы не знаем, что именно представляют собой эти данные, поэтому есть вероятность, что показатели достоверны и имеют место быть.\n",
    "\n",
    "Средний запас сырья в скважине в регионах:\n",
    "\n",
    "* первый регион: `92.5` тыс. баррелей,\n",
    "* второй регион: `68.83` тыс. баррелей,\n",
    "* третий регион: `95` тыс. баррелей.\n",
    "\n",
    "При изучении корреляции признаков выявлена весьма высокая положительная корреляция между признаком `f2` и целевым признаком `product`. Остальные признаки во всех датафреймах имеют разную степень корреляции, сключая слабую или вообще ее отсутствие."
   ]
  },
  {
   "cell_type": "markdown",
   "metadata": {},
   "source": [
    "## Обучение и проверка модели"
   ]
  },
  {
   "cell_type": "markdown",
   "metadata": {},
   "source": [
    "Разобьем данные на обучающую и валидационную выборки в соотношении 75:25. Для этого напишем функцию."
   ]
  },
  {
   "cell_type": "code",
   "execution_count": 26,
   "metadata": {},
   "outputs": [],
   "source": [
    "# функция для разбивки данных\n",
    "def split_data(df, target_column):\n",
    "    features = df.drop(columns=target_column, axis=1)\n",
    "    target = df[target_column]\n",
    "    features_train, features_valid, target_train, target_valid = train_test_split(\n",
    "        features,\n",
    "        target,\n",
    "        test_size=0.25,\n",
    "        random_state=RANDOM_STATE\n",
    "    )\n",
    "    return features_train, features_valid, target_train, target_valid"
   ]
  },
  {
   "cell_type": "markdown",
   "metadata": {},
   "source": [
    "Выполним разбиение."
   ]
  },
  {
   "cell_type": "code",
   "execution_count": 27,
   "metadata": {},
   "outputs": [],
   "source": [
    "features_train_r1, target_train_r1, features_valid_r1, target_valid_r1 = split_data(region_1, 'product')\n",
    "features_train_r2, target_train_r2, features_valid_r2, target_valid_r2 = split_data(region_2, 'product')\n",
    "features_train_r3, target_train_r3, features_valid_r3, target_valid_r3 = split_data(region_3, 'product')"
   ]
  },
  {
   "cell_type": "markdown",
   "metadata": {},
   "source": [
    "Напишем функцию обучения модели линейной регрессии (`LinearRegression()`) для получения предсказанных значений объема запасов в скважинах, среднего запаса предсказанного сырья и *RMSE* модели."
   ]
  },
  {
   "cell_type": "code",
   "execution_count": 28,
   "metadata": {},
   "outputs": [],
   "source": [
    "def lr_model(X_train, y_train, X_valid, y_valid):\n",
    "    model = LinearRegression()\n",
    "    model.fit(X_train, y_train)\n",
    "    predictions = model.predict(X_valid)\n",
    "\n",
    "    mean = predictions.mean()\n",
    "    mse = mean_squared_error(y_valid, predictions)\n",
    "    rmse = np.sqrt(mse) \n",
    "    return predictions, mean, rmse"
   ]
  },
  {
   "cell_type": "markdown",
   "metadata": {},
   "source": [
    "Вызовем функцию, чтобы получить нужные данные."
   ]
  },
  {
   "cell_type": "code",
   "execution_count": 29,
   "metadata": {},
   "outputs": [],
   "source": [
    "predictions_r1, mean_r1, rmse_r1 = lr_model(features_train_r1, features_valid_r1, target_train_r1, target_valid_r1)\n",
    "predictions_r2, mean_r2, rmse_r2 = lr_model(features_train_r2, features_valid_r2, target_train_r2, target_valid_r2)\n",
    "predictions_r3, mean_r3, rmse_r3 = lr_model(features_train_r3, features_valid_r3, target_train_r3, target_valid_r3)"
   ]
  },
  {
   "cell_type": "markdown",
   "metadata": {},
   "source": [
    "Создадим датафрейм для предсказаний запасов сырья."
   ]
  },
  {
   "cell_type": "code",
   "execution_count": 30,
   "metadata": {},
   "outputs": [
    {
     "data": {
      "text/html": [
       "<div>\n",
       "<style scoped>\n",
       "    .dataframe tbody tr th:only-of-type {\n",
       "        vertical-align: middle;\n",
       "    }\n",
       "\n",
       "    .dataframe tbody tr th {\n",
       "        vertical-align: top;\n",
       "    }\n",
       "\n",
       "    .dataframe thead th {\n",
       "        text-align: right;\n",
       "    }\n",
       "</style>\n",
       "<table border=\"1\" class=\"dataframe\">\n",
       "  <thead>\n",
       "    <tr style=\"text-align: right;\">\n",
       "      <th></th>\n",
       "      <th>pred_product_r1</th>\n",
       "      <th>pred_product_r2</th>\n",
       "      <th>pred_product_r3</th>\n",
       "    </tr>\n",
       "  </thead>\n",
       "  <tbody>\n",
       "    <tr>\n",
       "      <th>20604</th>\n",
       "      <td>109.260761</td>\n",
       "      <td>83.469617</td>\n",
       "      <td>85.713803</td>\n",
       "    </tr>\n",
       "    <tr>\n",
       "      <th>10531</th>\n",
       "      <td>72.275993</td>\n",
       "      <td>57.017846</td>\n",
       "      <td>89.561822</td>\n",
       "    </tr>\n",
       "    <tr>\n",
       "      <th>23524</th>\n",
       "      <td>99.188086</td>\n",
       "      <td>135.660915</td>\n",
       "      <td>121.936174</td>\n",
       "    </tr>\n",
       "    <tr>\n",
       "      <th>13300</th>\n",
       "      <td>64.192032</td>\n",
       "      <td>110.743512</td>\n",
       "      <td>69.806416</td>\n",
       "    </tr>\n",
       "    <tr>\n",
       "      <th>16465</th>\n",
       "      <td>78.598974</td>\n",
       "      <td>57.561227</td>\n",
       "      <td>99.354197</td>\n",
       "    </tr>\n",
       "  </tbody>\n",
       "</table>\n",
       "</div>"
      ],
      "text/plain": [
       "       pred_product_r1  pred_product_r2  pred_product_r3\n",
       "20604       109.260761        83.469617        85.713803\n",
       "10531        72.275993        57.017846        89.561822\n",
       "23524        99.188086       135.660915       121.936174\n",
       "13300        64.192032       110.743512        69.806416\n",
       "16465        78.598974        57.561227        99.354197"
      ]
     },
     "execution_count": 30,
     "metadata": {},
     "output_type": "execute_result"
    }
   ],
   "source": [
    "predictions = {\n",
    "    'pred_product_r1': predictions_r1,\n",
    "    'pred_product_r2': predictions_r2,\n",
    "    'pred_product_r3': predictions_r3\n",
    "}\n",
    "\n",
    "df_predictions = pd.DataFrame(predictions)\n",
    "df_predictions.sample(5)"
   ]
  },
  {
   "cell_type": "markdown",
   "metadata": {},
   "source": [
    "Теперь создадим датафрейм со средними значениями запасов сырья и метрикой *RMSE* модели для каждого региона."
   ]
  },
  {
   "cell_type": "code",
   "execution_count": 31,
   "metadata": {},
   "outputs": [
    {
     "data": {
      "text/html": [
       "<div>\n",
       "<style scoped>\n",
       "    .dataframe tbody tr th:only-of-type {\n",
       "        vertical-align: middle;\n",
       "    }\n",
       "\n",
       "    .dataframe tbody tr th {\n",
       "        vertical-align: top;\n",
       "    }\n",
       "\n",
       "    .dataframe thead th {\n",
       "        text-align: right;\n",
       "    }\n",
       "</style>\n",
       "<table border=\"1\" class=\"dataframe\">\n",
       "  <thead>\n",
       "    <tr style=\"text-align: right;\">\n",
       "      <th></th>\n",
       "      <th>Регион</th>\n",
       "      <th>Средний запас</th>\n",
       "      <th>RMSE</th>\n",
       "    </tr>\n",
       "  </thead>\n",
       "  <tbody>\n",
       "    <tr>\n",
       "      <th>0</th>\n",
       "      <td>1</td>\n",
       "      <td>92.398800</td>\n",
       "      <td>37.756600</td>\n",
       "    </tr>\n",
       "    <tr>\n",
       "      <th>1</th>\n",
       "      <td>2</td>\n",
       "      <td>68.712878</td>\n",
       "      <td>0.890280</td>\n",
       "    </tr>\n",
       "    <tr>\n",
       "      <th>2</th>\n",
       "      <td>3</td>\n",
       "      <td>94.771024</td>\n",
       "      <td>40.145872</td>\n",
       "    </tr>\n",
       "  </tbody>\n",
       "</table>\n",
       "</div>"
      ],
      "text/plain": [
       "   Регион  Средний запас       RMSE\n",
       "0       1      92.398800  37.756600\n",
       "1       2      68.712878   0.890280\n",
       "2       3      94.771024  40.145872"
      ]
     },
     "execution_count": 31,
     "metadata": {},
     "output_type": "execute_result"
    }
   ],
   "source": [
    "regions = [\n",
    "    {'Регион': 1, 'Средний запас': mean_r1, 'RMSE': rmse_r1},\n",
    "    {'Регион': 2, 'Средний запас': mean_r2, 'RMSE': rmse_r2},\n",
    "    {'Регион': 3, 'Средний запас': mean_r3, 'RMSE': rmse_r3}\n",
    "]\n",
    "\n",
    "results_df = pd.DataFrame(regions)\n",
    "results_df"
   ]
  },
  {
   "cell_type": "markdown",
   "metadata": {},
   "source": [
    "<u>**Выводы**:</u>\n",
    "\n",
    "Итак, самый высокий показатель **среднего запаса сырья** получен для третьего региона — `94.77` тыс. баррелей, при этом метрика *RMSE* (корень из среднеквадратической ошибки; чем меньше, тем лучше) имеет самое высокое значение среди всех полученных результатов - `40.15`. Наименьшее значение *RMSE* получено приработе с датафреймом второго региона - `0.89`, при этом **средний запас предсказанного сырья** самый низкий — `68.71` тыс. баррелей.\n",
    "\n",
    "Самое лучшее качество модель показала при работе со вторым регионом, а невысокий средний запас сырья по сравнению с другими двумя регионами обусловлен тем, что большое количество скважин изначально имеют низкий запас сырья."
   ]
  },
  {
   "cell_type": "markdown",
   "metadata": {},
   "source": [
    "## Подготовка к расчету прибыли"
   ]
  },
  {
   "cell_type": "markdown",
   "metadata": {},
   "source": [
    "Сохраним все ключевые значения для расчетов в отдельных переменных."
   ]
  },
  {
   "cell_type": "code",
   "execution_count": 32,
   "metadata": {},
   "outputs": [],
   "source": [
    "NUMBER_OF_POINTS = 500\n",
    "NUMBER_OF_BEST_POINTS = 200\n",
    "BUDGET = 10000000000\n",
    "INCOME_PER_UNIT = 450000\n",
    "LOSS_TRESHOLD = 2.5\n",
    "\n",
    "R_STATE = np.random.RandomState(12345)"
   ]
  },
  {
   "cell_type": "markdown",
   "metadata": {},
   "source": [
    "Рассчитаем достаточный объем сырья для безубыточной разработки новой скважины."
   ]
  },
  {
   "cell_type": "code",
   "execution_count": 33,
   "metadata": {},
   "outputs": [],
   "source": [
    "sufficient_volume = BUDGET/(INCOME_PER_UNIT * NUMBER_OF_BEST_POINTS)"
   ]
  },
  {
   "cell_type": "code",
   "execution_count": 34,
   "metadata": {},
   "outputs": [
    {
     "name": "stdout",
     "output_type": "stream",
     "text": [
      "\n",
      "Достаточный объем сырья для безубыточной разработки новой скважины: 111.11\n"
     ]
    }
   ],
   "source": [
    "print(f'\\nДостаточный объем сырья для безубыточной разработки новой скважины: {sufficient_volume:.2f}')"
   ]
  },
  {
   "cell_type": "markdown",
   "metadata": {},
   "source": [
    "Итак, мы получили достаточный объем сырья для безубыточной разработки — `111.11` тыс. баррелей. Если сравнить это значение со средним запасом в каждом регионе (первый регион — `92.4`, второй регион — `68.7`, третий регион — `94.8`), то увидим, что во всех регионах запас сырья ниже."
   ]
  },
  {
   "cell_type": "markdown",
   "metadata": {},
   "source": [
    "<u>**Вывод**:</u>\n",
    "\n",
    "Третий регион имеет самый высокий средний показатель запасов сырья по сравнению с другими регионами и это значение наиболее близко к вычисленому выше достаточному объему сырья для безубыточной разработки.    "
   ]
  },
  {
   "cell_type": "markdown",
   "metadata": {},
   "source": [
    "## Создание функции для расчета прибыли"
   ]
  },
  {
   "cell_type": "markdown",
   "metadata": {},
   "source": [
    "Напишем функцию для расчета прибыли по выбранным скважинам и предсказаниям модели:\n",
    "* выберем скважины с максимальными значениями предсказаний,\n",
    "* суммируем целевое значение объема сырья, соответствующее этим предсказаниям,\n",
    "* рассчитаем прибыль для полученного объема сырья."
   ]
  },
  {
   "cell_type": "code",
   "execution_count": 35,
   "metadata": {},
   "outputs": [],
   "source": [
    "# подготовим данные\n",
    "target_valid_r1 = target_valid_r1.reset_index(drop=True)\n",
    "target_valid_r2 = target_valid_r2.reset_index(drop=True)\n",
    "target_valid_r3 = target_valid_r3.reset_index(drop=True)\n",
    "predictions_r1 = pd.Series(predictions_r1)\n",
    "predictions_r2 = pd.Series(predictions_r2)\n",
    "predictions_r3 = pd.Series(predictions_r3)"
   ]
  },
  {
   "cell_type": "code",
   "execution_count": 36,
   "metadata": {},
   "outputs": [],
   "source": [
    "# функция для расчета прибыли\n",
    "def income_calculate(predictions, target):\n",
    "    max_value_of_predicitions_sorted = pd.Series(predictions).sort_values(ascending=False)[:NUMBER_OF_BEST_POINTS]\n",
    "    product = target.reset_index(drop=True)[max_value_of_predicitions_sorted.index].sum()\n",
    "    profit = product * INCOME_PER_UNIT\n",
    "    return (profit - BUDGET)"
   ]
  },
  {
   "cell_type": "markdown",
   "metadata": {},
   "source": [
    "Итак, можно посчитать прибыль."
   ]
  },
  {
   "cell_type": "code",
   "execution_count": 37,
   "metadata": {},
   "outputs": [
    {
     "data": {
      "text/html": [
       "<div>\n",
       "<style scoped>\n",
       "    .dataframe tbody tr th:only-of-type {\n",
       "        vertical-align: middle;\n",
       "    }\n",
       "\n",
       "    .dataframe tbody tr th {\n",
       "        vertical-align: top;\n",
       "    }\n",
       "\n",
       "    .dataframe thead th {\n",
       "        text-align: right;\n",
       "    }\n",
       "</style>\n",
       "<table border=\"1\" class=\"dataframe\">\n",
       "  <thead>\n",
       "    <tr style=\"text-align: right;\">\n",
       "      <th></th>\n",
       "      <th>Первый регион</th>\n",
       "      <th>Второй регион</th>\n",
       "      <th>Третий регион</th>\n",
       "    </tr>\n",
       "  </thead>\n",
       "  <tbody>\n",
       "    <tr>\n",
       "      <th>0</th>\n",
       "      <td>3.359141e+09</td>\n",
       "      <td>2.415087e+09</td>\n",
       "      <td>2.598572e+09</td>\n",
       "    </tr>\n",
       "  </tbody>\n",
       "</table>\n",
       "</div>"
      ],
      "text/plain": [
       "   Первый регион  Второй регион  Третий регион\n",
       "0   3.359141e+09   2.415087e+09   2.598572e+09"
      ]
     },
     "execution_count": 37,
     "metadata": {},
     "output_type": "execute_result"
    }
   ],
   "source": [
    "estimated_income_r1 = income_calculate(predictions_r1, target_valid_r1)\n",
    "estimated_income_r2 = income_calculate(predictions_r2, target_valid_r2)\n",
    "estimated_income_r3 = income_calculate(predictions_r3, target_valid_r3)\n",
    "\n",
    "income_data = {\n",
    "    'Первый регион': pd.Series(estimated_income_r1),\n",
    "    'Второй регион': pd.Series(estimated_income_r2),\n",
    "    'Третий регион': pd.Series(estimated_income_r3)\n",
    "}\n",
    "\n",
    "income_df = pd.DataFrame(income_data)\n",
    "income_df"
   ]
  },
  {
   "cell_type": "markdown",
   "metadata": {},
   "source": [
    "Наибольшую предполагаемую прибыль имеет первый регион. Данное значение может быть неправильным, поскольку, как мы видели ранее, модель для этого региона имеет высокое значение метрики *RMSE*."
   ]
  },
  {
   "cell_type": "markdown",
   "metadata": {},
   "source": [
    "## Расчет рисков и прибыли для каждого региона"
   ]
  },
  {
   "cell_type": "markdown",
   "metadata": {},
   "source": [
    "Теперь посчитаем риски и прибыль для каждого региона. Применим технику *Bootstrap* с 1000 выборок, чтобы найти распределение прибыли. Найдем среднюю прибыль, 95%-й доверительный интервал и риск убытков (убыток — это отрицательная прибыль)."
   ]
  },
  {
   "cell_type": "code",
   "execution_count": 38,
   "metadata": {},
   "outputs": [],
   "source": [
    "# функция для определения доверительного интервала и риска убытков\n",
    "def get_risk_confidence_interval_profit(predictions, target):\n",
    "    income = []\n",
    "    target = target.reset_index(drop=True)\n",
    "    for i in range(1000):\n",
    "        predictions_sample = pd.Series(predictions).sample(n=NUMBER_OF_POINTS, replace=True, random_state=R_STATE)\n",
    "        income.append(income_calculate(predictions_sample, target))\n",
    "\n",
    "    income = pd.Series(income)\n",
    "\n",
    "    profit = income.mean()\n",
    "    risk = stats.percentileofscore(income, 0)\n",
    "    lower = income.quantile(0.025)\n",
    "    upper = income.quantile(0.975)\n",
    "\n",
    "    return profit, income, risk, lower, upper"
   ]
  },
  {
   "cell_type": "code",
   "execution_count": 39,
   "metadata": {},
   "outputs": [],
   "source": [
    "profit_r1, income_r1, risk_r1, lower_r1, upper_r1 = get_risk_confidence_interval_profit(predictions_r1, target_valid_r1)\n",
    "profit_r2, income_r2, risk_r2, lower_r2, upper_r2 = get_risk_confidence_interval_profit(predictions_r2, target_valid_r2)\n",
    "profit_r3, income_r3, risk_r3, lower_r3, upper_r3 = get_risk_confidence_interval_profit(predictions_r3, target_valid_r3)"
   ]
  },
  {
   "cell_type": "markdown",
   "metadata": {},
   "source": [
    "Для удобства просмотра создадим результирующий датафрейм."
   ]
  },
  {
   "cell_type": "code",
   "execution_count": 40,
   "metadata": {},
   "outputs": [
    {
     "data": {
      "text/html": [
       "<div>\n",
       "<style scoped>\n",
       "    .dataframe tbody tr th:only-of-type {\n",
       "        vertical-align: middle;\n",
       "    }\n",
       "\n",
       "    .dataframe tbody tr th {\n",
       "        vertical-align: top;\n",
       "    }\n",
       "\n",
       "    .dataframe thead th {\n",
       "        text-align: right;\n",
       "    }\n",
       "</style>\n",
       "<table border=\"1\" class=\"dataframe\">\n",
       "  <thead>\n",
       "    <tr style=\"text-align: right;\">\n",
       "      <th></th>\n",
       "      <th>Регион</th>\n",
       "      <th>Средняя прибыль</th>\n",
       "      <th>Доверительный интервал</th>\n",
       "      <th>Риски</th>\n",
       "      <th>Средний запас сырья</th>\n",
       "      <th>RMSE</th>\n",
       "    </tr>\n",
       "  </thead>\n",
       "  <tbody>\n",
       "    <tr>\n",
       "      <th>0</th>\n",
       "      <td>Первый регион</td>\n",
       "      <td>406278783.0</td>\n",
       "      <td>(-117742136.49486831, 911737050.7514055)</td>\n",
       "      <td>6.7</td>\n",
       "      <td>92.398800</td>\n",
       "      <td>37.756600</td>\n",
       "    </tr>\n",
       "    <tr>\n",
       "      <th>1</th>\n",
       "      <td>Второй регион</td>\n",
       "      <td>441504278.0</td>\n",
       "      <td>(35728489.280851334, 828006639.0043902)</td>\n",
       "      <td>1.6</td>\n",
       "      <td>68.712878</td>\n",
       "      <td>0.890280</td>\n",
       "    </tr>\n",
       "    <tr>\n",
       "      <th>2</th>\n",
       "      <td>Третий регион</td>\n",
       "      <td>385213196.0</td>\n",
       "      <td>(-164785166.1090443, 888206234.1976783)</td>\n",
       "      <td>7.8</td>\n",
       "      <td>94.771024</td>\n",
       "      <td>40.145872</td>\n",
       "    </tr>\n",
       "  </tbody>\n",
       "</table>\n",
       "</div>"
      ],
      "text/plain": [
       "          Регион  Средняя прибыль                    Доверительный интервал  \\\n",
       "0  Первый регион      406278783.0  (-117742136.49486831, 911737050.7514055)   \n",
       "1  Второй регион      441504278.0   (35728489.280851334, 828006639.0043902)   \n",
       "2  Третий регион      385213196.0   (-164785166.1090443, 888206234.1976783)   \n",
       "\n",
       "   Риски  Средний запас сырья       RMSE  \n",
       "0    6.7            92.398800  37.756600  \n",
       "1    1.6            68.712878   0.890280  \n",
       "2    7.8            94.771024  40.145872  "
      ]
     },
     "execution_count": 40,
     "metadata": {},
     "output_type": "execute_result"
    }
   ],
   "source": [
    "results = {\n",
    "    'Регион': ['Первый регион', 'Второй регион', 'Третий регион'],\n",
    "    'Средняя прибыль' : [profit_r1.mean().round(0), profit_r2.mean().round(0), profit_r3.mean().round(0)],\n",
    "    'Доверительный интервал': [f'({lower_r1}, {upper_r1})', f'({lower_r2}, {upper_r2})', f'({lower_r3}, {upper_r3})'],\n",
    "    'Риски': [risk_r1, risk_r2, risk_r3]\n",
    "}\n",
    "\n",
    "result_df = pd.DataFrame(results)\n",
    "result_df['Средний запас сырья'] = results_df['Средний запас']\n",
    "result_df['RMSE'] = results_df['RMSE']\n",
    "result_df"
   ]
  },
  {
   "cell_type": "markdown",
   "metadata": {},
   "source": [
    "Для наглядности построим гистограммы распределения прибыли с отметкой границ доверительного интервала и средней прибыли для каждого региона. Для этого напишем функцию."
   ]
  },
  {
   "cell_type": "code",
   "execution_count": 41,
   "metadata": {},
   "outputs": [],
   "source": [
    "# функция для построения гистограммы\n",
    "def plot_histogram(income, profit, lower, upper):\n",
    "    plt.figure(figsize=(8, 5))\n",
    "    plt.hist(income, bins=30, color='skyblue', edgecolor='black')\n",
    "    plt.title('Распределение прибыли')\n",
    "    plt.xlabel('Прибыль, руб.')\n",
    "    plt.ylabel('Частота')\n",
    "    plt.grid(True)    \n",
    "    plt.axvline(x=lower, color='orange', linestyle='--', linewidth=2, label='Нижняя граница ДИ')\n",
    "    plt.axvline(x=upper, color='g', linestyle='--', linewidth=2, label='Верхняя граница ДИ')\n",
    "    plt.axvline(x=profit, color='r', linestyle='-', linewidth=2, label='Средняя прибыль')\n",
    "    plt.legend()\n",
    "    plt.show(); "
   ]
  },
  {
   "cell_type": "markdown",
   "metadata": {},
   "source": [
    "**Распределение прибыли для <u>первого региона</u>**"
   ]
  },
  {
   "cell_type": "markdown",
   "metadata": {},
   "source": [
    "Построим гистограмму для первого региона."
   ]
  },
  {
   "cell_type": "code",
   "execution_count": 42,
   "metadata": {},
   "outputs": [
    {
     "data": {
      "image/png": "[encoded data removed]",
      "text/plain": [
       "<Figure size 800x500 with 1 Axes>"
      ]
     },
     "metadata": {},
     "output_type": "display_data"
    },
    {
     "name": "stdout",
     "output_type": "stream",
     "text": [
      "\"1e9\" равно \"1\", умноженной на \"10 в степени 9\", что дает результат \"1 000 000 000\"\n"
     ]
    }
   ],
   "source": [
    "plot_histogram(income_r1, profit_r1, lower_r1, upper_r1)\n",
    "print('\"1e9\" равно \"1\", умноженной на \"10 в степени 9\", что дает результат \"1 000 000 000\"')"
   ]
  },
  {
   "cell_type": "markdown",
   "metadata": {},
   "source": [
    "**Распределение прибыли для <u>второго региона</u>**"
   ]
  },
  {
   "cell_type": "markdown",
   "metadata": {},
   "source": [
    "Построим гистограмму для второго региона."
   ]
  },
  {
   "cell_type": "code",
   "execution_count": 43,
   "metadata": {},
   "outputs": [
    {
     "data": {
      "image/png": "[encoded data removed]",
      "text/plain": [
       "<Figure size 800x500 with 1 Axes>"
      ]
     },
     "metadata": {},
     "output_type": "display_data"
    },
    {
     "name": "stdout",
     "output_type": "stream",
     "text": [
      "\"1e9\" равно \"1\", умноженной на \"10 в степени 9\", что дает результат \"1 000 000 000\"\n"
     ]
    }
   ],
   "source": [
    "plot_histogram(income_r2, profit_r2, lower_r2, upper_r2)\n",
    "print('\"1e9\" равно \"1\", умноженной на \"10 в степени 9\", что дает результат \"1 000 000 000\"')"
   ]
  },
  {
   "cell_type": "markdown",
   "metadata": {},
   "source": [
    "**Распределение прибыли для <u>третьего региона</u>**"
   ]
  },
  {
   "cell_type": "markdown",
   "metadata": {},
   "source": [
    "Построим гистограмму для третьего региона."
   ]
  },
  {
   "cell_type": "code",
   "execution_count": 44,
   "metadata": {},
   "outputs": [
    {
     "data": {
      "image/png": "[encoded data removed]",
      "text/plain": [
       "<Figure size 800x500 with 1 Axes>"
      ]
     },
     "metadata": {},
     "output_type": "display_data"
    },
    {
     "name": "stdout",
     "output_type": "stream",
     "text": [
      "\"1e9\" равно \"1\", умноженной на \"10 в степени 9\", что дает результат \"1 000 000 000\"\n"
     ]
    }
   ],
   "source": [
    "plot_histogram(income_r3, profit_r3, lower_r3, upper_r3)\n",
    "print('\"1e9\" равно \"1\", умноженной на \"10 в степени 9\", что дает результат \"1 000 000 000\"')"
   ]
  },
  {
   "cell_type": "markdown",
   "metadata": {},
   "source": [
    "В получившемся датафреймеможно увидеть, что наибольшую прибыль (`441 504 278.0 руб.`) и минимальный риск (`1.6%`) мы получили для второго региона, кроме того метрика *RMSE* модели линейной регрессии для второго региона самая низкая из полученных (`0.89`). Таким образом, несмотря на меньшие запасы сырья по сравнению с другими двумя регионами, средняя прибыль для второго региона прогнозируется выше, чем для остальных регионов."
   ]
  },
  {
   "cell_type": "markdown",
   "metadata": {},
   "source": [
    "<u>**Общий вывод**</u>\n",
    "\n",
    "Целью данного проекта является выбор лучшего региона для бурения новой скважины. Были исследованы данные по запасам в скважинах трех регионах: в датасетах для каждого региона содержались данные о запасах сырья для `10 тыс.` скважин. Данные не содержали пропусков или дубликатов, поэтому особой обработки не потребовалось. Во всех датафреймах был удален столбец `id` как неинформативный.\n",
    "\n",
    "После изучения и подготовки данных мы обучили модель линейной регрессии, а так же применили технологию *Bootstrap* с 1000 выборок, чтобы найти распределение прибыли. Применив модель ко всем трем регионам, получили средний запас сырья для каждого региона (первый регион — `92.4`, второй регион — `68.7`, третий регион — `94.8`), а также оценили качество модели для каждого региона, используя метрику *RMSE* (первый регион — `37.8`, второй регион — `0.89`, третий регион — `40.1`).\n",
    "\n",
    "В ходе работы мы выяснили, что для безубыточного бурения новой скважины необходимо, чтобы объем нефти был больше `111.11 тыс.` баррелей, при этом имеющийся средний запас сырья в представленных регионах (см.выше) получился значительно ниже данного значения.\n",
    "\n",
    "По результатам был определен `95%`-й доверительный интревал получения прибыли (первый регион — `(-117742136.49486831, 911737050.7514055`, второй регион — `35728489.280851334, 828006639.0043902`, третий регион — `-164785166.1090443, 888206234.1976783`), вероятность убытка была ограничена величиной не более `2.5%`. На основе этих данных был выбран наиболее перспективный регион для разработки `200` скважин.\n",
    "\n",
    "Несмотря на сравнительно невысокие предсказанные запасы сырья в `68.7 млн.` баррелей, делаем выбор в пользу разработки `200` скважин во **втором регионе** (датасет `geo_data_1.csv`), поскольку модель линейной регресиии имеет самое низкое значение метрики *RMSE* (`0.89`), средняя прибыль для данного региона составляет `441 504 278.0 руб.` и риск возникновения убытков — `1.6%.`"
   ]
  }
 ],
 "metadata": {
  "ExecuteTimeLog": [
   {
    "duration": 3,
    "start_time": "2024-01-06T16:51:24.417Z"
   },
   {
    "duration": 1668,
    "start_time": "2024-01-06T16:55:19.242Z"
   },
   {
    "duration": 802,
    "start_time": "2024-01-06T16:56:33.044Z"
   },
   {
    "duration": 14,
    "start_time": "2024-01-06T16:56:47.511Z"
   },
   {
    "duration": 17,
    "start_time": "2024-01-06T16:57:05.380Z"
   },
   {
    "duration": 9,
    "start_time": "2024-01-06T16:58:41.297Z"
   },
   {
    "duration": 18,
    "start_time": "2024-01-06T16:59:23.572Z"
   },
   {
    "duration": 8,
    "start_time": "2024-01-06T17:19:56.986Z"
   },
   {
    "duration": 13,
    "start_time": "2024-01-06T17:20:21.138Z"
   },
   {
    "duration": 1298,
    "start_time": "2024-01-06T17:26:57.053Z"
   },
   {
    "duration": 384,
    "start_time": "2024-01-06T17:26:58.352Z"
   },
   {
    "duration": 10,
    "start_time": "2024-01-06T17:26:58.738Z"
   },
   {
    "duration": 36,
    "start_time": "2024-01-06T17:26:58.750Z"
   },
   {
    "duration": 9,
    "start_time": "2024-01-06T17:26:58.787Z"
   },
   {
    "duration": 28,
    "start_time": "2024-01-06T17:26:58.797Z"
   },
   {
    "duration": 11,
    "start_time": "2024-01-06T17:26:58.826Z"
   },
   {
    "duration": 13,
    "start_time": "2024-01-06T17:26:58.838Z"
   },
   {
    "duration": 1505,
    "start_time": "2024-01-07T14:38:11.562Z"
   },
   {
    "duration": 773,
    "start_time": "2024-01-07T14:38:13.069Z"
   },
   {
    "duration": 13,
    "start_time": "2024-01-07T14:38:13.843Z"
   },
   {
    "duration": 14,
    "start_time": "2024-01-07T14:38:13.857Z"
   },
   {
    "duration": 8,
    "start_time": "2024-01-07T14:38:13.872Z"
   },
   {
    "duration": 13,
    "start_time": "2024-01-07T14:38:13.882Z"
   },
   {
    "duration": 20,
    "start_time": "2024-01-07T14:38:13.896Z"
   },
   {
    "duration": 17,
    "start_time": "2024-01-07T14:38:13.917Z"
   },
   {
    "duration": 1352,
    "start_time": "2024-01-07T14:39:36.364Z"
   },
   {
    "duration": 390,
    "start_time": "2024-01-07T14:39:37.718Z"
   },
   {
    "duration": 16,
    "start_time": "2024-01-07T14:39:38.110Z"
   },
   {
    "duration": 15,
    "start_time": "2024-01-07T14:39:38.128Z"
   },
   {
    "duration": 9,
    "start_time": "2024-01-07T14:39:38.144Z"
   },
   {
    "duration": 16,
    "start_time": "2024-01-07T14:39:38.154Z"
   },
   {
    "duration": 9,
    "start_time": "2024-01-07T14:39:38.172Z"
   },
   {
    "duration": 44,
    "start_time": "2024-01-07T14:39:38.183Z"
   },
   {
    "duration": 114,
    "start_time": "2024-01-07T14:44:59.245Z"
   },
   {
    "duration": 58,
    "start_time": "2024-01-07T14:48:59.513Z"
   },
   {
    "duration": 1385,
    "start_time": "2024-01-07T15:27:16.876Z"
   },
   {
    "duration": 386,
    "start_time": "2024-01-07T15:27:18.262Z"
   },
   {
    "duration": 12,
    "start_time": "2024-01-07T15:27:18.649Z"
   },
   {
    "duration": 26,
    "start_time": "2024-01-07T15:27:18.662Z"
   },
   {
    "duration": 15,
    "start_time": "2024-01-07T15:27:18.689Z"
   },
   {
    "duration": 33,
    "start_time": "2024-01-07T15:27:18.705Z"
   },
   {
    "duration": 18,
    "start_time": "2024-01-07T15:27:18.740Z"
   },
   {
    "duration": 23,
    "start_time": "2024-01-07T15:27:18.760Z"
   },
   {
    "duration": 12,
    "start_time": "2024-01-07T15:27:18.785Z"
   },
   {
    "duration": 88,
    "start_time": "2024-01-07T15:27:18.799Z"
   },
   {
    "duration": 4,
    "start_time": "2024-01-07T15:29:26.555Z"
   },
   {
    "duration": 4,
    "start_time": "2024-01-07T15:29:39.202Z"
   },
   {
    "duration": 73,
    "start_time": "2024-01-07T15:29:56.339Z"
   },
   {
    "duration": 71,
    "start_time": "2024-01-07T15:30:33.167Z"
   },
   {
    "duration": 86,
    "start_time": "2024-01-07T15:32:42.666Z"
   },
   {
    "duration": 75,
    "start_time": "2024-01-07T15:42:42.545Z"
   },
   {
    "duration": 6,
    "start_time": "2024-01-07T15:51:16.193Z"
   },
   {
    "duration": 6,
    "start_time": "2024-01-07T15:51:39.132Z"
   },
   {
    "duration": 709,
    "start_time": "2024-01-07T15:51:57.805Z"
   },
   {
    "duration": 6,
    "start_time": "2024-01-07T15:53:52.506Z"
   },
   {
    "duration": 988,
    "start_time": "2024-01-07T15:53:53.167Z"
   },
   {
    "duration": 76,
    "start_time": "2024-01-07T15:54:07.520Z"
   },
   {
    "duration": 729,
    "start_time": "2024-01-07T15:54:09.588Z"
   },
   {
    "duration": 7,
    "start_time": "2024-01-07T15:54:39.217Z"
   },
   {
    "duration": 715,
    "start_time": "2024-01-07T15:54:39.815Z"
   },
   {
    "duration": 6,
    "start_time": "2024-01-07T15:55:00.083Z"
   },
   {
    "duration": 727,
    "start_time": "2024-01-07T15:55:01.805Z"
   },
   {
    "duration": 6,
    "start_time": "2024-01-07T15:56:54.215Z"
   },
   {
    "duration": 889,
    "start_time": "2024-01-07T15:56:54.731Z"
   },
   {
    "duration": 7,
    "start_time": "2024-01-07T15:57:30.053Z"
   },
   {
    "duration": 722,
    "start_time": "2024-01-07T15:57:30.539Z"
   },
   {
    "duration": 6,
    "start_time": "2024-01-07T15:57:50.171Z"
   },
   {
    "duration": 806,
    "start_time": "2024-01-07T15:57:50.646Z"
   },
   {
    "duration": 6,
    "start_time": "2024-01-07T15:59:01.360Z"
   },
   {
    "duration": 697,
    "start_time": "2024-01-07T15:59:01.757Z"
   },
   {
    "duration": 80,
    "start_time": "2024-01-07T16:00:12.156Z"
   },
   {
    "duration": 737,
    "start_time": "2024-01-07T16:00:32.899Z"
   },
   {
    "duration": 1551,
    "start_time": "2024-01-07T19:23:50.068Z"
   },
   {
    "duration": 750,
    "start_time": "2024-01-07T19:23:51.621Z"
   },
   {
    "duration": 13,
    "start_time": "2024-01-07T19:23:52.373Z"
   },
   {
    "duration": 15,
    "start_time": "2024-01-07T19:23:52.388Z"
   },
   {
    "duration": 9,
    "start_time": "2024-01-07T19:23:52.404Z"
   },
   {
    "duration": 23,
    "start_time": "2024-01-07T19:23:52.414Z"
   },
   {
    "duration": 9,
    "start_time": "2024-01-07T19:23:52.439Z"
   },
   {
    "duration": 16,
    "start_time": "2024-01-07T19:23:52.450Z"
   },
   {
    "duration": 13,
    "start_time": "2024-01-07T19:23:52.467Z"
   },
   {
    "duration": 7,
    "start_time": "2024-01-07T19:23:52.482Z"
   },
   {
    "duration": 109,
    "start_time": "2024-01-07T19:23:52.490Z"
   },
   {
    "duration": 6,
    "start_time": "2024-01-07T19:23:52.600Z"
   },
   {
    "duration": 984,
    "start_time": "2024-01-07T19:23:52.608Z"
   },
   {
    "duration": 6,
    "start_time": "2024-01-07T19:25:27.689Z"
   },
   {
    "duration": 731,
    "start_time": "2024-01-07T19:25:29.019Z"
   },
   {
    "duration": 75,
    "start_time": "2024-01-07T19:26:59.560Z"
   },
   {
    "duration": 794,
    "start_time": "2024-01-07T19:27:01.169Z"
   },
   {
    "duration": 6,
    "start_time": "2024-01-07T19:27:16.635Z"
   },
   {
    "duration": 680,
    "start_time": "2024-01-07T19:27:17.683Z"
   },
   {
    "duration": 669,
    "start_time": "2024-01-07T19:27:42.099Z"
   },
   {
    "duration": 5,
    "start_time": "2024-01-07T19:34:31.404Z"
   },
   {
    "duration": 759,
    "start_time": "2024-01-07T19:34:41.110Z"
   },
   {
    "duration": 5,
    "start_time": "2024-01-07T19:35:07.848Z"
   },
   {
    "duration": 796,
    "start_time": "2024-01-07T19:35:09.139Z"
   },
   {
    "duration": 858,
    "start_time": "2024-01-07T19:35:26.400Z"
   },
   {
    "duration": 778,
    "start_time": "2024-01-07T19:35:52.635Z"
   },
   {
    "duration": 6,
    "start_time": "2024-01-07T19:37:20.784Z"
   },
   {
    "duration": 699,
    "start_time": "2024-01-07T19:37:21.280Z"
   },
   {
    "duration": 716,
    "start_time": "2024-01-07T19:37:25.967Z"
   },
   {
    "duration": 765,
    "start_time": "2024-01-07T19:37:26.767Z"
   },
   {
    "duration": 5,
    "start_time": "2024-01-07T19:38:23.215Z"
   },
   {
    "duration": 985,
    "start_time": "2024-01-07T19:38:23.897Z"
   },
   {
    "duration": 101,
    "start_time": "2024-01-07T19:40:18.159Z"
   },
   {
    "duration": 242,
    "start_time": "2024-01-07T19:40:18.850Z"
   },
   {
    "duration": 7,
    "start_time": "2024-01-07T19:40:44.740Z"
   },
   {
    "duration": 13,
    "start_time": "2024-01-07T19:40:45.312Z"
   },
   {
    "duration": 1390,
    "start_time": "2024-01-07T19:44:17.400Z"
   },
   {
    "duration": 410,
    "start_time": "2024-01-07T19:44:18.792Z"
   },
   {
    "duration": 12,
    "start_time": "2024-01-07T19:44:19.203Z"
   },
   {
    "duration": 39,
    "start_time": "2024-01-07T19:44:19.217Z"
   },
   {
    "duration": 8,
    "start_time": "2024-01-07T19:44:19.258Z"
   },
   {
    "duration": 40,
    "start_time": "2024-01-07T19:44:19.267Z"
   },
   {
    "duration": 13,
    "start_time": "2024-01-07T19:44:19.309Z"
   },
   {
    "duration": 29,
    "start_time": "2024-01-07T19:44:19.323Z"
   },
   {
    "duration": 12,
    "start_time": "2024-01-07T19:44:19.354Z"
   },
   {
    "duration": 28,
    "start_time": "2024-01-07T19:44:19.368Z"
   },
   {
    "duration": 108,
    "start_time": "2024-01-07T19:44:19.398Z"
   },
   {
    "duration": 5,
    "start_time": "2024-01-07T19:44:19.508Z"
   },
   {
    "duration": 136,
    "start_time": "2024-01-07T19:44:19.515Z"
   },
   {
    "duration": 0,
    "start_time": "2024-01-07T19:44:19.652Z"
   },
   {
    "duration": 0,
    "start_time": "2024-01-07T19:44:19.654Z"
   },
   {
    "duration": 5,
    "start_time": "2024-01-07T19:46:18.003Z"
   },
   {
    "duration": 137,
    "start_time": "2024-01-07T19:46:18.462Z"
   },
   {
    "duration": 6,
    "start_time": "2024-01-07T19:47:39.777Z"
   },
   {
    "duration": 844,
    "start_time": "2024-01-07T19:47:51.689Z"
   },
   {
    "duration": 5,
    "start_time": "2024-01-07T19:49:59.964Z"
   },
   {
    "duration": 867,
    "start_time": "2024-01-07T19:50:00.506Z"
   },
   {
    "duration": 10,
    "start_time": "2024-01-07T19:50:26.103Z"
   },
   {
    "duration": 901,
    "start_time": "2024-01-07T19:50:39.182Z"
   },
   {
    "duration": 689,
    "start_time": "2024-01-07T19:50:56.569Z"
   },
   {
    "duration": 5,
    "start_time": "2024-01-07T19:57:12.778Z"
   },
   {
    "duration": 1675,
    "start_time": "2024-01-07T19:57:33.427Z"
   },
   {
    "duration": 6,
    "start_time": "2024-01-07T19:57:46.635Z"
   },
   {
    "duration": 1764,
    "start_time": "2024-01-07T19:57:48.261Z"
   },
   {
    "duration": 4,
    "start_time": "2024-01-07T20:05:32.687Z"
   },
   {
    "duration": 1082,
    "start_time": "2024-01-07T20:05:33.188Z"
   },
   {
    "duration": 34,
    "start_time": "2024-01-07T20:08:17.034Z"
   },
   {
    "duration": 34,
    "start_time": "2024-01-07T20:08:31.776Z"
   },
   {
    "duration": 33,
    "start_time": "2024-01-07T20:08:37.846Z"
   },
   {
    "duration": 117,
    "start_time": "2024-01-07T20:10:57.498Z"
   },
   {
    "duration": 1433,
    "start_time": "2024-01-07T20:14:55.936Z"
   },
   {
    "duration": 413,
    "start_time": "2024-01-07T20:14:57.370Z"
   },
   {
    "duration": 13,
    "start_time": "2024-01-07T20:14:57.785Z"
   },
   {
    "duration": 15,
    "start_time": "2024-01-07T20:14:57.800Z"
   },
   {
    "duration": 13,
    "start_time": "2024-01-07T20:14:57.816Z"
   },
   {
    "duration": 29,
    "start_time": "2024-01-07T20:14:57.841Z"
   },
   {
    "duration": 8,
    "start_time": "2024-01-07T20:14:57.872Z"
   },
   {
    "duration": 22,
    "start_time": "2024-01-07T20:14:57.881Z"
   },
   {
    "duration": 11,
    "start_time": "2024-01-07T20:14:57.904Z"
   },
   {
    "duration": 7,
    "start_time": "2024-01-07T20:14:57.917Z"
   },
   {
    "duration": 83,
    "start_time": "2024-01-07T20:14:57.925Z"
   },
   {
    "duration": 44,
    "start_time": "2024-01-07T20:14:58.010Z"
   },
   {
    "duration": 35,
    "start_time": "2024-01-07T20:14:58.055Z"
   },
   {
    "duration": 32,
    "start_time": "2024-01-07T20:14:58.091Z"
   },
   {
    "duration": 20,
    "start_time": "2024-01-07T20:14:58.124Z"
   },
   {
    "duration": 1214,
    "start_time": "2024-01-07T20:14:58.146Z"
   },
   {
    "duration": 796,
    "start_time": "2024-01-07T20:14:59.362Z"
   },
   {
    "duration": 1120,
    "start_time": "2024-01-07T20:15:00.160Z"
   },
   {
    "duration": 793,
    "start_time": "2024-01-07T20:15:01.282Z"
   },
   {
    "duration": 1388,
    "start_time": "2024-01-07T20:15:02.077Z"
   },
   {
    "duration": 783,
    "start_time": "2024-01-07T20:15:03.466Z"
   },
   {
    "duration": 1378,
    "start_time": "2024-01-07T20:16:19.767Z"
   },
   {
    "duration": 413,
    "start_time": "2024-01-07T20:16:21.146Z"
   },
   {
    "duration": 15,
    "start_time": "2024-01-07T20:16:21.561Z"
   },
   {
    "duration": 17,
    "start_time": "2024-01-07T20:16:21.578Z"
   },
   {
    "duration": 9,
    "start_time": "2024-01-07T20:16:21.597Z"
   },
   {
    "duration": 45,
    "start_time": "2024-01-07T20:16:21.608Z"
   },
   {
    "duration": 8,
    "start_time": "2024-01-07T20:16:21.655Z"
   },
   {
    "duration": 15,
    "start_time": "2024-01-07T20:16:21.665Z"
   },
   {
    "duration": 13,
    "start_time": "2024-01-07T20:16:21.682Z"
   },
   {
    "duration": 4,
    "start_time": "2024-01-07T20:16:21.698Z"
   },
   {
    "duration": 112,
    "start_time": "2024-01-07T20:16:21.703Z"
   },
   {
    "duration": 46,
    "start_time": "2024-01-07T20:16:21.817Z"
   },
   {
    "duration": 35,
    "start_time": "2024-01-07T20:16:21.864Z"
   },
   {
    "duration": 53,
    "start_time": "2024-01-07T20:16:21.900Z"
   },
   {
    "duration": 8,
    "start_time": "2024-01-07T20:16:21.955Z"
   },
   {
    "duration": 1156,
    "start_time": "2024-01-07T20:16:21.964Z"
   },
   {
    "duration": 771,
    "start_time": "2024-01-07T20:16:23.122Z"
   },
   {
    "duration": 1107,
    "start_time": "2024-01-07T20:16:23.895Z"
   },
   {
    "duration": 782,
    "start_time": "2024-01-07T20:16:25.004Z"
   },
   {
    "duration": 1402,
    "start_time": "2024-01-07T20:16:25.787Z"
   },
   {
    "duration": 755,
    "start_time": "2024-01-07T20:16:27.190Z"
   },
   {
    "duration": 7,
    "start_time": "2024-01-07T20:17:57.149Z"
   },
   {
    "duration": 1167,
    "start_time": "2024-01-07T20:17:58.167Z"
   },
   {
    "duration": 679,
    "start_time": "2024-01-07T20:18:03.874Z"
   },
   {
    "duration": 1066,
    "start_time": "2024-01-07T20:18:06.695Z"
   },
   {
    "duration": 1400,
    "start_time": "2024-01-07T20:18:15.998Z"
   },
   {
    "duration": 435,
    "start_time": "2024-01-07T20:18:17.400Z"
   },
   {
    "duration": 13,
    "start_time": "2024-01-07T20:18:17.836Z"
   },
   {
    "duration": 16,
    "start_time": "2024-01-07T20:18:17.851Z"
   },
   {
    "duration": 9,
    "start_time": "2024-01-07T20:18:17.869Z"
   },
   {
    "duration": 15,
    "start_time": "2024-01-07T20:18:17.879Z"
   },
   {
    "duration": 9,
    "start_time": "2024-01-07T20:18:17.896Z"
   },
   {
    "duration": 40,
    "start_time": "2024-01-07T20:18:17.906Z"
   },
   {
    "duration": 12,
    "start_time": "2024-01-07T20:18:17.948Z"
   },
   {
    "duration": 6,
    "start_time": "2024-01-07T20:18:17.962Z"
   },
   {
    "duration": 95,
    "start_time": "2024-01-07T20:18:17.969Z"
   },
   {
    "duration": 39,
    "start_time": "2024-01-07T20:18:18.065Z"
   },
   {
    "duration": 52,
    "start_time": "2024-01-07T20:18:18.106Z"
   },
   {
    "duration": 32,
    "start_time": "2024-01-07T20:18:18.160Z"
   },
   {
    "duration": 7,
    "start_time": "2024-01-07T20:18:18.194Z"
   },
   {
    "duration": 1206,
    "start_time": "2024-01-07T20:18:18.202Z"
   },
   {
    "duration": 767,
    "start_time": "2024-01-07T20:18:19.410Z"
   },
   {
    "duration": 1210,
    "start_time": "2024-01-07T20:18:20.179Z"
   },
   {
    "duration": 812,
    "start_time": "2024-01-07T20:18:21.391Z"
   },
   {
    "duration": 1435,
    "start_time": "2024-01-07T20:18:22.204Z"
   },
   {
    "duration": 728,
    "start_time": "2024-01-07T20:18:23.642Z"
   },
   {
    "duration": 8,
    "start_time": "2024-01-07T20:28:07.001Z"
   },
   {
    "duration": 1201,
    "start_time": "2024-01-07T20:28:08.255Z"
   },
   {
    "duration": 825,
    "start_time": "2024-01-07T20:28:15.435Z"
   },
   {
    "duration": 1064,
    "start_time": "2024-01-07T20:28:17.563Z"
   },
   {
    "duration": 841,
    "start_time": "2024-01-07T20:28:19.023Z"
   },
   {
    "duration": 1259,
    "start_time": "2024-01-07T20:28:21.869Z"
   },
   {
    "duration": 738,
    "start_time": "2024-01-07T20:28:23.837Z"
   },
   {
    "duration": 1602,
    "start_time": "2024-01-08T09:59:12.178Z"
   },
   {
    "duration": 790,
    "start_time": "2024-01-08T09:59:13.782Z"
   },
   {
    "duration": 13,
    "start_time": "2024-01-08T09:59:14.574Z"
   },
   {
    "duration": 14,
    "start_time": "2024-01-08T09:59:14.589Z"
   },
   {
    "duration": 12,
    "start_time": "2024-01-08T09:59:14.605Z"
   },
   {
    "duration": 14,
    "start_time": "2024-01-08T09:59:14.618Z"
   },
   {
    "duration": 8,
    "start_time": "2024-01-08T09:59:14.634Z"
   },
   {
    "duration": 16,
    "start_time": "2024-01-08T09:59:14.643Z"
   },
   {
    "duration": 11,
    "start_time": "2024-01-08T09:59:14.661Z"
   },
   {
    "duration": 4,
    "start_time": "2024-01-08T09:59:14.674Z"
   },
   {
    "duration": 72,
    "start_time": "2024-01-08T09:59:14.711Z"
   },
   {
    "duration": 45,
    "start_time": "2024-01-08T09:59:14.785Z"
   },
   {
    "duration": 35,
    "start_time": "2024-01-08T09:59:14.831Z"
   },
   {
    "duration": 46,
    "start_time": "2024-01-08T09:59:14.868Z"
   },
   {
    "duration": 8,
    "start_time": "2024-01-08T09:59:14.916Z"
   },
   {
    "duration": 1223,
    "start_time": "2024-01-08T09:59:14.925Z"
   },
   {
    "duration": 817,
    "start_time": "2024-01-08T09:59:16.149Z"
   },
   {
    "duration": 1077,
    "start_time": "2024-01-08T09:59:16.968Z"
   },
   {
    "duration": 792,
    "start_time": "2024-01-08T09:59:18.047Z"
   },
   {
    "duration": 1404,
    "start_time": "2024-01-08T09:59:18.840Z"
   },
   {
    "duration": 771,
    "start_time": "2024-01-08T09:59:20.246Z"
   },
   {
    "duration": 1312,
    "start_time": "2024-01-08T12:39:13.836Z"
   },
   {
    "duration": 413,
    "start_time": "2024-01-08T12:39:15.150Z"
   },
   {
    "duration": 13,
    "start_time": "2024-01-08T12:39:15.564Z"
   },
   {
    "duration": 35,
    "start_time": "2024-01-08T12:39:15.579Z"
   },
   {
    "duration": 11,
    "start_time": "2024-01-08T12:39:15.625Z"
   },
   {
    "duration": 27,
    "start_time": "2024-01-08T12:39:15.638Z"
   },
   {
    "duration": 16,
    "start_time": "2024-01-08T12:39:15.667Z"
   },
   {
    "duration": 34,
    "start_time": "2024-01-08T12:39:15.685Z"
   },
   {
    "duration": 13,
    "start_time": "2024-01-08T12:39:15.720Z"
   },
   {
    "duration": 7,
    "start_time": "2024-01-08T12:39:15.734Z"
   },
   {
    "duration": 113,
    "start_time": "2024-01-08T12:39:15.742Z"
   },
   {
    "duration": 35,
    "start_time": "2024-01-08T12:39:15.857Z"
   },
   {
    "duration": 48,
    "start_time": "2024-01-08T12:39:15.894Z"
   },
   {
    "duration": 33,
    "start_time": "2024-01-08T12:39:15.944Z"
   },
   {
    "duration": 17,
    "start_time": "2024-01-08T12:39:15.978Z"
   },
   {
    "duration": 1216,
    "start_time": "2024-01-08T12:39:15.996Z"
   },
   {
    "duration": 781,
    "start_time": "2024-01-08T12:39:17.224Z"
   },
   {
    "duration": 1149,
    "start_time": "2024-01-08T12:39:18.006Z"
   },
   {
    "duration": 791,
    "start_time": "2024-01-08T12:39:19.157Z"
   },
   {
    "duration": 1384,
    "start_time": "2024-01-08T12:39:19.950Z"
   },
   {
    "duration": 793,
    "start_time": "2024-01-08T12:39:21.335Z"
   },
   {
    "duration": 1291,
    "start_time": "2024-01-08T12:45:26.349Z"
   },
   {
    "duration": 410,
    "start_time": "2024-01-08T12:45:27.642Z"
   },
   {
    "duration": 12,
    "start_time": "2024-01-08T12:45:28.053Z"
   },
   {
    "duration": 22,
    "start_time": "2024-01-08T12:45:28.067Z"
   },
   {
    "duration": 8,
    "start_time": "2024-01-08T12:45:28.091Z"
   },
   {
    "duration": 27,
    "start_time": "2024-01-08T12:45:28.100Z"
   },
   {
    "duration": 8,
    "start_time": "2024-01-08T12:45:28.129Z"
   },
   {
    "duration": 16,
    "start_time": "2024-01-08T12:45:28.138Z"
   },
   {
    "duration": 12,
    "start_time": "2024-01-08T12:45:28.155Z"
   },
   {
    "duration": 3,
    "start_time": "2024-01-08T12:45:28.170Z"
   },
   {
    "duration": 104,
    "start_time": "2024-01-08T12:45:28.175Z"
   },
   {
    "duration": 46,
    "start_time": "2024-01-08T12:45:28.281Z"
   },
   {
    "duration": 33,
    "start_time": "2024-01-08T12:45:28.329Z"
   },
   {
    "duration": 31,
    "start_time": "2024-01-08T12:45:28.364Z"
   },
   {
    "duration": 17,
    "start_time": "2024-01-08T12:45:28.411Z"
   },
   {
    "duration": 1218,
    "start_time": "2024-01-08T12:45:28.430Z"
   },
   {
    "duration": 821,
    "start_time": "2024-01-08T12:45:29.650Z"
   },
   {
    "duration": 1205,
    "start_time": "2024-01-08T12:45:30.473Z"
   },
   {
    "duration": 771,
    "start_time": "2024-01-08T12:45:31.680Z"
   },
   {
    "duration": 1410,
    "start_time": "2024-01-08T12:45:32.452Z"
   },
   {
    "duration": 768,
    "start_time": "2024-01-08T12:45:33.864Z"
   },
   {
    "duration": 11,
    "start_time": "2024-01-08T13:45:48.789Z"
   },
   {
    "duration": 15,
    "start_time": "2024-01-08T13:47:02.186Z"
   },
   {
    "duration": 6,
    "start_time": "2024-01-08T13:47:46.077Z"
   },
   {
    "duration": 127,
    "start_time": "2024-01-08T13:59:06.420Z"
   },
   {
    "duration": 3611,
    "start_time": "2024-01-08T13:59:27.625Z"
   },
   {
    "duration": 29,
    "start_time": "2024-01-08T13:59:34.408Z"
   },
   {
    "duration": 2600,
    "start_time": "2024-01-08T14:00:14.341Z"
   },
   {
    "duration": 5,
    "start_time": "2024-01-08T14:02:27.996Z"
   },
   {
    "duration": 85,
    "start_time": "2024-01-08T14:03:32.087Z"
   },
   {
    "duration": 3,
    "start_time": "2024-01-08T14:03:46.850Z"
   },
   {
    "duration": 2233,
    "start_time": "2024-01-08T14:03:59.518Z"
   },
   {
    "duration": 3,
    "start_time": "2024-01-08T14:05:13.684Z"
   },
   {
    "duration": 2,
    "start_time": "2024-01-08T14:05:14.331Z"
   },
   {
    "duration": 1850,
    "start_time": "2024-01-08T14:05:15.012Z"
   },
   {
    "duration": 2,
    "start_time": "2024-01-08T14:31:18.485Z"
   },
   {
    "duration": 3,
    "start_time": "2024-01-08T14:32:18.127Z"
   },
   {
    "duration": 7,
    "start_time": "2024-01-08T14:34:46.732Z"
   },
   {
    "duration": 2597,
    "start_time": "2024-01-08T14:34:57.023Z"
   },
   {
    "duration": 1479,
    "start_time": "2024-01-08T14:34:59.625Z"
   },
   {
    "duration": 465,
    "start_time": "2024-01-08T14:35:01.105Z"
   },
   {
    "duration": 12,
    "start_time": "2024-01-08T14:35:01.572Z"
   },
   {
    "duration": 34,
    "start_time": "2024-01-08T14:35:01.585Z"
   },
   {
    "duration": 20,
    "start_time": "2024-01-08T14:35:01.627Z"
   },
   {
    "duration": 20,
    "start_time": "2024-01-08T14:35:01.649Z"
   },
   {
    "duration": 10,
    "start_time": "2024-01-08T14:35:01.671Z"
   },
   {
    "duration": 22,
    "start_time": "2024-01-08T14:35:01.683Z"
   },
   {
    "duration": 31,
    "start_time": "2024-01-08T14:35:01.707Z"
   },
   {
    "duration": 15,
    "start_time": "2024-01-08T14:35:01.739Z"
   },
   {
    "duration": 118,
    "start_time": "2024-01-08T14:35:01.756Z"
   },
   {
    "duration": 61,
    "start_time": "2024-01-08T14:35:01.875Z"
   },
   {
    "duration": 39,
    "start_time": "2024-01-08T14:35:01.938Z"
   },
   {
    "duration": 60,
    "start_time": "2024-01-08T14:35:01.979Z"
   },
   {
    "duration": 8,
    "start_time": "2024-01-08T14:35:02.041Z"
   },
   {
    "duration": 1301,
    "start_time": "2024-01-08T14:35:02.050Z"
   },
   {
    "duration": 912,
    "start_time": "2024-01-08T14:35:03.353Z"
   },
   {
    "duration": 1178,
    "start_time": "2024-01-08T14:35:04.266Z"
   },
   {
    "duration": 832,
    "start_time": "2024-01-08T14:35:05.445Z"
   },
   {
    "duration": 1621,
    "start_time": "2024-01-08T14:35:06.278Z"
   },
   {
    "duration": 877,
    "start_time": "2024-01-08T14:35:07.902Z"
   },
   {
    "duration": 4,
    "start_time": "2024-01-08T14:35:08.781Z"
   },
   {
    "duration": 38,
    "start_time": "2024-01-08T14:35:08.787Z"
   },
   {
    "duration": 2023,
    "start_time": "2024-01-08T14:35:08.835Z"
   },
   {
    "duration": 5,
    "start_time": "2024-01-08T14:55:43.832Z"
   },
   {
    "duration": 3,
    "start_time": "2024-01-08T15:02:26.553Z"
   },
   {
    "duration": 31,
    "start_time": "2024-01-08T15:07:11.067Z"
   },
   {
    "duration": 99,
    "start_time": "2024-01-08T15:10:22.868Z"
   },
   {
    "duration": 4,
    "start_time": "2024-01-08T15:31:28.551Z"
   },
   {
    "duration": 2448,
    "start_time": "2024-01-08T15:34:16.392Z"
   },
   {
    "duration": 1440,
    "start_time": "2024-01-08T15:34:18.842Z"
   },
   {
    "duration": 416,
    "start_time": "2024-01-08T15:34:20.284Z"
   },
   {
    "duration": 25,
    "start_time": "2024-01-08T15:34:20.702Z"
   },
   {
    "duration": 14,
    "start_time": "2024-01-08T15:34:20.729Z"
   },
   {
    "duration": 8,
    "start_time": "2024-01-08T15:34:20.745Z"
   },
   {
    "duration": 20,
    "start_time": "2024-01-08T15:34:20.754Z"
   },
   {
    "duration": 9,
    "start_time": "2024-01-08T15:34:20.775Z"
   },
   {
    "duration": 39,
    "start_time": "2024-01-08T15:34:20.785Z"
   },
   {
    "duration": 10,
    "start_time": "2024-01-08T15:34:20.827Z"
   },
   {
    "duration": 5,
    "start_time": "2024-01-08T15:34:20.839Z"
   },
   {
    "duration": 113,
    "start_time": "2024-01-08T15:34:20.845Z"
   },
   {
    "duration": 38,
    "start_time": "2024-01-08T15:34:20.960Z"
   },
   {
    "duration": 41,
    "start_time": "2024-01-08T15:34:21.010Z"
   },
   {
    "duration": 32,
    "start_time": "2024-01-08T15:34:21.053Z"
   },
   {
    "duration": 7,
    "start_time": "2024-01-08T15:34:21.087Z"
   },
   {
    "duration": 1284,
    "start_time": "2024-01-08T15:34:21.111Z"
   },
   {
    "duration": 843,
    "start_time": "2024-01-08T15:34:22.397Z"
   },
   {
    "duration": 1146,
    "start_time": "2024-01-08T15:34:23.242Z"
   },
   {
    "duration": 842,
    "start_time": "2024-01-08T15:34:24.390Z"
   },
   {
    "duration": 1442,
    "start_time": "2024-01-08T15:34:25.233Z"
   },
   {
    "duration": 765,
    "start_time": "2024-01-08T15:34:26.676Z"
   },
   {
    "duration": 4,
    "start_time": "2024-01-08T15:34:27.442Z"
   },
   {
    "duration": 14,
    "start_time": "2024-01-08T15:34:27.448Z"
   },
   {
    "duration": 1979,
    "start_time": "2024-01-08T15:34:27.463Z"
   },
   {
    "duration": 5,
    "start_time": "2024-01-08T15:34:29.444Z"
   },
   {
    "duration": 30,
    "start_time": "2024-01-08T15:34:29.450Z"
   },
   {
    "duration": 3,
    "start_time": "2024-01-08T15:34:29.483Z"
   },
   {
    "duration": 140,
    "start_time": "2024-01-08T15:34:29.488Z"
   },
   {
    "duration": 3,
    "start_time": "2024-01-08T15:42:32.048Z"
   },
   {
    "duration": 19,
    "start_time": "2024-01-08T15:44:44.787Z"
   },
   {
    "duration": 36,
    "start_time": "2024-01-08T15:47:14.994Z"
   },
   {
    "duration": 3,
    "start_time": "2024-01-08T15:47:16.243Z"
   },
   {
    "duration": 48,
    "start_time": "2024-01-08T15:47:17.970Z"
   },
   {
    "duration": 25,
    "start_time": "2024-01-08T15:49:27.556Z"
   },
   {
    "duration": 9,
    "start_time": "2024-01-08T15:49:28.908Z"
   },
   {
    "duration": 13,
    "start_time": "2024-01-08T15:49:30.342Z"
   },
   {
    "duration": 4,
    "start_time": "2024-01-08T15:49:44.078Z"
   },
   {
    "duration": 134,
    "start_time": "2024-01-08T15:52:40.001Z"
   },
   {
    "duration": 12,
    "start_time": "2024-01-08T15:53:59.365Z"
   },
   {
    "duration": 9,
    "start_time": "2024-01-08T15:54:12.449Z"
   },
   {
    "duration": 10,
    "start_time": "2024-01-08T15:54:15.740Z"
   },
   {
    "duration": 16,
    "start_time": "2024-01-08T16:04:19.713Z"
   },
   {
    "duration": 2549,
    "start_time": "2024-01-08T16:04:51.259Z"
   },
   {
    "duration": 1448,
    "start_time": "2024-01-08T16:04:53.810Z"
   },
   {
    "duration": 428,
    "start_time": "2024-01-08T16:04:55.259Z"
   },
   {
    "duration": 12,
    "start_time": "2024-01-08T16:04:55.689Z"
   },
   {
    "duration": 29,
    "start_time": "2024-01-08T16:04:55.711Z"
   },
   {
    "duration": 9,
    "start_time": "2024-01-08T16:04:55.741Z"
   },
   {
    "duration": 14,
    "start_time": "2024-01-08T16:04:55.751Z"
   },
   {
    "duration": 8,
    "start_time": "2024-01-08T16:04:55.767Z"
   },
   {
    "duration": 17,
    "start_time": "2024-01-08T16:04:55.776Z"
   },
   {
    "duration": 19,
    "start_time": "2024-01-08T16:04:55.818Z"
   },
   {
    "duration": 4,
    "start_time": "2024-01-08T16:04:55.838Z"
   },
   {
    "duration": 83,
    "start_time": "2024-01-08T16:04:55.843Z"
   },
   {
    "duration": 39,
    "start_time": "2024-01-08T16:04:55.936Z"
   },
   {
    "duration": 43,
    "start_time": "2024-01-08T16:04:55.976Z"
   },
   {
    "duration": 38,
    "start_time": "2024-01-08T16:04:56.025Z"
   },
   {
    "duration": 8,
    "start_time": "2024-01-08T16:04:56.065Z"
   },
   {
    "duration": 1266,
    "start_time": "2024-01-08T16:04:56.075Z"
   },
   {
    "duration": 946,
    "start_time": "2024-01-08T16:04:57.343Z"
   },
   {
    "duration": 1422,
    "start_time": "2024-01-08T16:04:58.291Z"
   },
   {
    "duration": 871,
    "start_time": "2024-01-08T16:04:59.715Z"
   },
   {
    "duration": 1649,
    "start_time": "2024-01-08T16:05:00.588Z"
   },
   {
    "duration": 820,
    "start_time": "2024-01-08T16:05:02.243Z"
   },
   {
    "duration": 4,
    "start_time": "2024-01-08T16:05:03.064Z"
   },
   {
    "duration": 9,
    "start_time": "2024-01-08T16:05:03.069Z"
   },
   {
    "duration": 2003,
    "start_time": "2024-01-08T16:05:03.079Z"
   },
   {
    "duration": 3,
    "start_time": "2024-01-08T16:05:05.083Z"
   },
   {
    "duration": 48,
    "start_time": "2024-01-08T16:05:05.088Z"
   },
   {
    "duration": 3,
    "start_time": "2024-01-08T16:05:05.140Z"
   },
   {
    "duration": 90,
    "start_time": "2024-01-08T16:05:05.144Z"
   },
   {
    "duration": 183,
    "start_time": "2024-01-08T16:05:05.235Z"
   },
   {
    "duration": 125,
    "start_time": "2024-01-08T16:05:05.422Z"
   },
   {
    "duration": 18,
    "start_time": "2024-01-08T16:05:16.907Z"
   },
   {
    "duration": 10,
    "start_time": "2024-01-08T16:05:25.903Z"
   },
   {
    "duration": 9,
    "start_time": "2024-01-08T16:05:53.458Z"
   },
   {
    "duration": 16,
    "start_time": "2024-01-08T16:18:39.230Z"
   },
   {
    "duration": 11,
    "start_time": "2024-01-08T16:19:46.597Z"
   },
   {
    "duration": 9,
    "start_time": "2024-01-08T16:20:49.661Z"
   },
   {
    "duration": 14,
    "start_time": "2024-01-08T16:22:26.325Z"
   },
   {
    "duration": 2512,
    "start_time": "2024-01-08T16:26:19.380Z"
   },
   {
    "duration": 1445,
    "start_time": "2024-01-08T16:26:21.894Z"
   },
   {
    "duration": 443,
    "start_time": "2024-01-08T16:26:23.341Z"
   },
   {
    "duration": 15,
    "start_time": "2024-01-08T16:26:23.786Z"
   },
   {
    "duration": 34,
    "start_time": "2024-01-08T16:26:23.803Z"
   },
   {
    "duration": 9,
    "start_time": "2024-01-08T16:26:23.839Z"
   },
   {
    "duration": 22,
    "start_time": "2024-01-08T16:26:23.850Z"
   },
   {
    "duration": 10,
    "start_time": "2024-01-08T16:26:23.874Z"
   },
   {
    "duration": 47,
    "start_time": "2024-01-08T16:26:23.886Z"
   },
   {
    "duration": 12,
    "start_time": "2024-01-08T16:26:23.937Z"
   },
   {
    "duration": 8,
    "start_time": "2024-01-08T16:26:23.951Z"
   },
   {
    "duration": 102,
    "start_time": "2024-01-08T16:26:23.960Z"
   },
   {
    "duration": 51,
    "start_time": "2024-01-08T16:26:24.064Z"
   },
   {
    "duration": 47,
    "start_time": "2024-01-08T16:26:24.116Z"
   },
   {
    "duration": 33,
    "start_time": "2024-01-08T16:26:24.165Z"
   },
   {
    "duration": 25,
    "start_time": "2024-01-08T16:26:24.199Z"
   },
   {
    "duration": 1318,
    "start_time": "2024-01-08T16:26:24.225Z"
   },
   {
    "duration": 838,
    "start_time": "2024-01-08T16:26:25.544Z"
   },
   {
    "duration": 1217,
    "start_time": "2024-01-08T16:26:26.384Z"
   },
   {
    "duration": 939,
    "start_time": "2024-01-08T16:26:27.602Z"
   },
   {
    "duration": 1544,
    "start_time": "2024-01-08T16:26:28.543Z"
   },
   {
    "duration": 884,
    "start_time": "2024-01-08T16:26:30.088Z"
   },
   {
    "duration": 4,
    "start_time": "2024-01-08T16:26:30.974Z"
   },
   {
    "duration": 65,
    "start_time": "2024-01-08T16:26:30.980Z"
   },
   {
    "duration": 2098,
    "start_time": "2024-01-08T16:26:31.047Z"
   },
   {
    "duration": 4,
    "start_time": "2024-01-08T16:26:33.147Z"
   },
   {
    "duration": 31,
    "start_time": "2024-01-08T16:26:33.153Z"
   },
   {
    "duration": 3,
    "start_time": "2024-01-08T16:26:33.187Z"
   },
   {
    "duration": 141,
    "start_time": "2024-01-08T16:26:33.191Z"
   },
   {
    "duration": 99,
    "start_time": "2024-01-08T16:26:33.334Z"
   },
   {
    "duration": 93,
    "start_time": "2024-01-08T16:26:33.436Z"
   },
   {
    "duration": 3,
    "start_time": "2024-01-08T16:38:59.843Z"
   },
   {
    "duration": 109,
    "start_time": "2024-01-08T16:42:20.629Z"
   },
   {
    "duration": 3,
    "start_time": "2024-01-08T16:42:25.007Z"
   },
   {
    "duration": 3,
    "start_time": "2024-01-08T16:42:25.770Z"
   },
   {
    "duration": 3,
    "start_time": "2024-01-08T16:42:26.264Z"
   },
   {
    "duration": 3,
    "start_time": "2024-01-08T17:35:58.471Z"
   },
   {
    "duration": 5,
    "start_time": "2024-01-08T17:36:25.281Z"
   },
   {
    "duration": 3,
    "start_time": "2024-01-08T17:36:28.878Z"
   },
   {
    "duration": 3,
    "start_time": "2024-01-08T17:36:31.597Z"
   },
   {
    "duration": 4,
    "start_time": "2024-01-08T17:37:06.124Z"
   },
   {
    "duration": 2406,
    "start_time": "2024-01-08T17:37:44.950Z"
   },
   {
    "duration": 1378,
    "start_time": "2024-01-08T17:37:47.359Z"
   },
   {
    "duration": 421,
    "start_time": "2024-01-08T17:37:48.739Z"
   },
   {
    "duration": 12,
    "start_time": "2024-01-08T17:37:49.162Z"
   },
   {
    "duration": 15,
    "start_time": "2024-01-08T17:37:49.175Z"
   },
   {
    "duration": 27,
    "start_time": "2024-01-08T17:37:49.192Z"
   },
   {
    "duration": 18,
    "start_time": "2024-01-08T17:37:49.220Z"
   },
   {
    "duration": 8,
    "start_time": "2024-01-08T17:37:49.240Z"
   },
   {
    "duration": 18,
    "start_time": "2024-01-08T17:37:49.249Z"
   },
   {
    "duration": 12,
    "start_time": "2024-01-08T17:37:49.269Z"
   },
   {
    "duration": 7,
    "start_time": "2024-01-08T17:37:49.282Z"
   },
   {
    "duration": 97,
    "start_time": "2024-01-08T17:37:49.290Z"
   },
   {
    "duration": 57,
    "start_time": "2024-01-08T17:37:49.389Z"
   },
   {
    "duration": 35,
    "start_time": "2024-01-08T17:37:49.448Z"
   },
   {
    "duration": 56,
    "start_time": "2024-01-08T17:37:49.485Z"
   },
   {
    "duration": 7,
    "start_time": "2024-01-08T17:37:49.543Z"
   },
   {
    "duration": 1216,
    "start_time": "2024-01-08T17:37:49.551Z"
   },
   {
    "duration": 773,
    "start_time": "2024-01-08T17:37:50.768Z"
   },
   {
    "duration": 1152,
    "start_time": "2024-01-08T17:37:51.543Z"
   },
   {
    "duration": 840,
    "start_time": "2024-01-08T17:37:52.697Z"
   },
   {
    "duration": 1356,
    "start_time": "2024-01-08T17:37:53.538Z"
   },
   {
    "duration": 737,
    "start_time": "2024-01-08T17:37:54.895Z"
   },
   {
    "duration": 4,
    "start_time": "2024-01-08T17:37:55.633Z"
   },
   {
    "duration": 18,
    "start_time": "2024-01-08T17:37:55.638Z"
   },
   {
    "duration": 1881,
    "start_time": "2024-01-08T17:37:55.657Z"
   },
   {
    "duration": 4,
    "start_time": "2024-01-08T17:37:57.540Z"
   },
   {
    "duration": 24,
    "start_time": "2024-01-08T17:37:57.546Z"
   },
   {
    "duration": 4,
    "start_time": "2024-01-08T17:37:57.573Z"
   },
   {
    "duration": 234,
    "start_time": "2024-01-08T17:37:57.578Z"
   },
   {
    "duration": 105,
    "start_time": "2024-01-08T17:37:57.814Z"
   },
   {
    "duration": 9,
    "start_time": "2024-01-08T17:37:57.921Z"
   },
   {
    "duration": 3,
    "start_time": "2024-01-08T17:37:57.932Z"
   },
   {
    "duration": 4,
    "start_time": "2024-01-08T17:37:57.936Z"
   },
   {
    "duration": 3,
    "start_time": "2024-01-08T17:37:57.941Z"
   },
   {
    "duration": 4,
    "start_time": "2024-01-08T17:37:57.945Z"
   },
   {
    "duration": 11,
    "start_time": "2024-01-08T17:42:10.575Z"
   },
   {
    "duration": 13,
    "start_time": "2024-01-08T17:42:57.488Z"
   },
   {
    "duration": 22,
    "start_time": "2024-01-08T17:44:46.301Z"
   },
   {
    "duration": 68,
    "start_time": "2024-01-08T17:45:33.964Z"
   },
   {
    "duration": 69,
    "start_time": "2024-01-08T17:45:39.835Z"
   },
   {
    "duration": 13,
    "start_time": "2024-01-08T17:46:25.993Z"
   },
   {
    "duration": 14,
    "start_time": "2024-01-08T17:46:37.920Z"
   },
   {
    "duration": 13,
    "start_time": "2024-01-08T17:48:54.606Z"
   },
   {
    "duration": 6,
    "start_time": "2024-01-08T18:06:47.348Z"
   },
   {
    "duration": 250,
    "start_time": "2024-01-08T18:08:23.475Z"
   },
   {
    "duration": 4,
    "start_time": "2024-01-08T18:08:30.727Z"
   },
   {
    "duration": 5,
    "start_time": "2024-01-08T18:10:12.832Z"
   },
   {
    "duration": 119,
    "start_time": "2024-01-08T18:12:30.021Z"
   },
   {
    "duration": 4,
    "start_time": "2024-01-08T18:15:39.838Z"
   },
   {
    "duration": 24,
    "start_time": "2024-01-08T18:15:40.420Z"
   },
   {
    "duration": 2458,
    "start_time": "2024-01-08T18:16:13.205Z"
   },
   {
    "duration": 1389,
    "start_time": "2024-01-08T18:16:15.666Z"
   },
   {
    "duration": 430,
    "start_time": "2024-01-08T18:16:17.056Z"
   },
   {
    "duration": 13,
    "start_time": "2024-01-08T18:16:17.488Z"
   },
   {
    "duration": 31,
    "start_time": "2024-01-08T18:16:17.503Z"
   },
   {
    "duration": 9,
    "start_time": "2024-01-08T18:16:17.536Z"
   },
   {
    "duration": 15,
    "start_time": "2024-01-08T18:16:17.547Z"
   },
   {
    "duration": 11,
    "start_time": "2024-01-08T18:16:17.563Z"
   },
   {
    "duration": 37,
    "start_time": "2024-01-08T18:16:17.576Z"
   },
   {
    "duration": 18,
    "start_time": "2024-01-08T18:16:17.616Z"
   },
   {
    "duration": 6,
    "start_time": "2024-01-08T18:16:17.635Z"
   },
   {
    "duration": 94,
    "start_time": "2024-01-08T18:16:17.642Z"
   },
   {
    "duration": 36,
    "start_time": "2024-01-08T18:16:17.738Z"
   },
   {
    "duration": 63,
    "start_time": "2024-01-08T18:16:17.775Z"
   },
   {
    "duration": 32,
    "start_time": "2024-01-08T18:16:17.839Z"
   },
   {
    "duration": 8,
    "start_time": "2024-01-08T18:16:17.872Z"
   },
   {
    "duration": 1270,
    "start_time": "2024-01-08T18:16:17.881Z"
   },
   {
    "duration": 815,
    "start_time": "2024-01-08T18:16:19.153Z"
   },
   {
    "duration": 1163,
    "start_time": "2024-01-08T18:16:19.970Z"
   },
   {
    "duration": 837,
    "start_time": "2024-01-08T18:16:21.134Z"
   },
   {
    "duration": 1448,
    "start_time": "2024-01-08T18:16:21.973Z"
   },
   {
    "duration": 820,
    "start_time": "2024-01-08T18:16:23.423Z"
   },
   {
    "duration": 3,
    "start_time": "2024-01-08T18:16:24.245Z"
   },
   {
    "duration": 4,
    "start_time": "2024-01-08T18:16:24.250Z"
   },
   {
    "duration": 1995,
    "start_time": "2024-01-08T18:16:24.255Z"
   },
   {
    "duration": 3,
    "start_time": "2024-01-08T18:16:26.252Z"
   },
   {
    "duration": 31,
    "start_time": "2024-01-08T18:16:26.256Z"
   },
   {
    "duration": 3,
    "start_time": "2024-01-08T18:16:26.290Z"
   },
   {
    "duration": 220,
    "start_time": "2024-01-08T18:16:26.294Z"
   },
   {
    "duration": 99,
    "start_time": "2024-01-08T18:16:26.516Z"
   },
   {
    "duration": 15,
    "start_time": "2024-01-08T18:16:26.616Z"
   },
   {
    "duration": 78,
    "start_time": "2024-01-08T18:16:26.634Z"
   },
   {
    "duration": 6,
    "start_time": "2024-01-08T18:16:26.720Z"
   },
   {
    "duration": 3,
    "start_time": "2024-01-08T18:16:26.728Z"
   },
   {
    "duration": 5,
    "start_time": "2024-01-08T18:16:26.732Z"
   },
   {
    "duration": 12,
    "start_time": "2024-01-08T18:16:26.739Z"
   },
   {
    "duration": 2,
    "start_time": "2024-01-08T18:16:26.753Z"
   },
   {
    "duration": 8,
    "start_time": "2024-01-08T18:19:23.509Z"
   },
   {
    "duration": 110,
    "start_time": "2024-01-08T18:20:55.726Z"
   },
   {
    "duration": 5,
    "start_time": "2024-01-08T18:21:35.280Z"
   },
   {
    "duration": 12,
    "start_time": "2024-01-08T18:21:35.924Z"
   },
   {
    "duration": 5,
    "start_time": "2024-01-08T18:21:49.462Z"
   },
   {
    "duration": 15,
    "start_time": "2024-01-08T18:21:50.392Z"
   },
   {
    "duration": 8,
    "start_time": "2024-01-08T18:24:19.217Z"
   },
   {
    "duration": 13,
    "start_time": "2024-01-08T18:24:20.582Z"
   },
   {
    "duration": 4,
    "start_time": "2024-01-08T18:24:23.801Z"
   },
   {
    "duration": 19,
    "start_time": "2024-01-08T18:24:24.371Z"
   },
   {
    "duration": 4,
    "start_time": "2024-01-08T18:26:29.221Z"
   },
   {
    "duration": 14,
    "start_time": "2024-01-08T18:26:30.248Z"
   },
   {
    "duration": 5,
    "start_time": "2024-01-08T18:26:33.590Z"
   },
   {
    "duration": 15,
    "start_time": "2024-01-08T18:26:34.188Z"
   },
   {
    "duration": 2450,
    "start_time": "2024-01-08T18:32:59.529Z"
   },
   {
    "duration": 1375,
    "start_time": "2024-01-08T18:33:01.982Z"
   },
   {
    "duration": 409,
    "start_time": "2024-01-08T18:33:03.358Z"
   },
   {
    "duration": 14,
    "start_time": "2024-01-08T18:33:03.769Z"
   },
   {
    "duration": 40,
    "start_time": "2024-01-08T18:33:03.785Z"
   },
   {
    "duration": 8,
    "start_time": "2024-01-08T18:33:03.826Z"
   },
   {
    "duration": 14,
    "start_time": "2024-01-08T18:33:03.836Z"
   },
   {
    "duration": 8,
    "start_time": "2024-01-08T18:33:03.852Z"
   },
   {
    "duration": 15,
    "start_time": "2024-01-08T18:33:03.862Z"
   },
   {
    "duration": 12,
    "start_time": "2024-01-08T18:33:03.879Z"
   },
   {
    "duration": 29,
    "start_time": "2024-01-08T18:33:03.892Z"
   },
   {
    "duration": 75,
    "start_time": "2024-01-08T18:33:03.924Z"
   },
   {
    "duration": 43,
    "start_time": "2024-01-08T18:33:04.000Z"
   },
   {
    "duration": 36,
    "start_time": "2024-01-08T18:33:04.045Z"
   },
   {
    "duration": 57,
    "start_time": "2024-01-08T18:33:04.083Z"
   },
   {
    "duration": 8,
    "start_time": "2024-01-08T18:33:04.141Z"
   },
   {
    "duration": 1163,
    "start_time": "2024-01-08T18:33:04.151Z"
   },
   {
    "duration": 789,
    "start_time": "2024-01-08T18:33:05.319Z"
   },
   {
    "duration": 1098,
    "start_time": "2024-01-08T18:33:06.111Z"
   },
   {
    "duration": 811,
    "start_time": "2024-01-08T18:33:07.213Z"
   },
   {
    "duration": 1432,
    "start_time": "2024-01-08T18:33:08.025Z"
   },
   {
    "duration": 791,
    "start_time": "2024-01-08T18:33:09.459Z"
   },
   {
    "duration": 4,
    "start_time": "2024-01-08T18:33:10.251Z"
   },
   {
    "duration": 8,
    "start_time": "2024-01-08T18:33:10.256Z"
   },
   {
    "duration": 1891,
    "start_time": "2024-01-08T18:33:10.266Z"
   },
   {
    "duration": 3,
    "start_time": "2024-01-08T18:33:12.159Z"
   },
   {
    "duration": 35,
    "start_time": "2024-01-08T18:33:12.163Z"
   },
   {
    "duration": 4,
    "start_time": "2024-01-08T18:33:12.201Z"
   },
   {
    "duration": 111,
    "start_time": "2024-01-08T18:33:12.211Z"
   },
   {
    "duration": 89,
    "start_time": "2024-01-08T18:33:12.324Z"
   },
   {
    "duration": 95,
    "start_time": "2024-01-08T18:33:12.415Z"
   },
   {
    "duration": 2,
    "start_time": "2024-01-08T18:33:12.512Z"
   },
   {
    "duration": 9,
    "start_time": "2024-01-08T18:33:12.516Z"
   },
   {
    "duration": 5,
    "start_time": "2024-01-08T18:33:12.526Z"
   },
   {
    "duration": 3,
    "start_time": "2024-01-08T18:33:12.533Z"
   },
   {
    "duration": 1333,
    "start_time": "2024-01-08T18:33:12.538Z"
   },
   {
    "duration": 0,
    "start_time": "2024-01-08T18:33:13.873Z"
   },
   {
    "duration": 0,
    "start_time": "2024-01-08T18:33:13.874Z"
   },
   {
    "duration": 15,
    "start_time": "2024-01-08T18:33:33.519Z"
   },
   {
    "duration": 4,
    "start_time": "2024-01-08T18:34:20.520Z"
   },
   {
    "duration": 1164,
    "start_time": "2024-01-08T18:34:21.536Z"
   },
   {
    "duration": 15,
    "start_time": "2024-01-08T18:34:37.568Z"
   },
   {
    "duration": 6,
    "start_time": "2024-01-08T18:37:05.310Z"
   },
   {
    "duration": 12,
    "start_time": "2024-01-08T18:37:06.085Z"
   },
   {
    "duration": 4,
    "start_time": "2024-01-08T18:38:32.469Z"
   },
   {
    "duration": 16,
    "start_time": "2024-01-08T18:38:53.408Z"
   },
   {
    "duration": 4,
    "start_time": "2024-01-08T18:42:40.572Z"
   },
   {
    "duration": 1116,
    "start_time": "2024-01-08T18:42:44.617Z"
   },
   {
    "duration": 5,
    "start_time": "2024-01-08T18:43:11.424Z"
   },
   {
    "duration": 2462,
    "start_time": "2024-01-08T18:43:18.022Z"
   },
   {
    "duration": 1361,
    "start_time": "2024-01-08T18:43:20.487Z"
   },
   {
    "duration": 438,
    "start_time": "2024-01-08T18:43:21.849Z"
   },
   {
    "duration": 12,
    "start_time": "2024-01-08T18:43:22.288Z"
   },
   {
    "duration": 23,
    "start_time": "2024-01-08T18:43:22.310Z"
   },
   {
    "duration": 28,
    "start_time": "2024-01-08T18:43:22.335Z"
   },
   {
    "duration": 16,
    "start_time": "2024-01-08T18:43:22.364Z"
   },
   {
    "duration": 8,
    "start_time": "2024-01-08T18:43:22.381Z"
   },
   {
    "duration": 25,
    "start_time": "2024-01-08T18:43:22.391Z"
   },
   {
    "duration": 24,
    "start_time": "2024-01-08T18:43:22.424Z"
   },
   {
    "duration": 8,
    "start_time": "2024-01-08T18:43:22.449Z"
   },
   {
    "duration": 81,
    "start_time": "2024-01-08T18:43:22.458Z"
   },
   {
    "duration": 37,
    "start_time": "2024-01-08T18:43:22.541Z"
   },
   {
    "duration": 56,
    "start_time": "2024-01-08T18:43:22.580Z"
   },
   {
    "duration": 32,
    "start_time": "2024-01-08T18:43:22.637Z"
   },
   {
    "duration": 7,
    "start_time": "2024-01-08T18:43:22.670Z"
   },
   {
    "duration": 1196,
    "start_time": "2024-01-08T18:43:22.678Z"
   },
   {
    "duration": 783,
    "start_time": "2024-01-08T18:43:23.875Z"
   },
   {
    "duration": 1143,
    "start_time": "2024-01-08T18:43:24.659Z"
   },
   {
    "duration": 809,
    "start_time": "2024-01-08T18:43:25.810Z"
   },
   {
    "duration": 1424,
    "start_time": "2024-01-08T18:43:26.621Z"
   },
   {
    "duration": 782,
    "start_time": "2024-01-08T18:43:28.047Z"
   },
   {
    "duration": 5,
    "start_time": "2024-01-08T18:43:28.831Z"
   },
   {
    "duration": 12,
    "start_time": "2024-01-08T18:43:28.838Z"
   },
   {
    "duration": 1904,
    "start_time": "2024-01-08T18:43:28.852Z"
   },
   {
    "duration": 4,
    "start_time": "2024-01-08T18:43:30.758Z"
   },
   {
    "duration": 67,
    "start_time": "2024-01-08T18:43:30.763Z"
   },
   {
    "duration": 4,
    "start_time": "2024-01-08T18:43:30.832Z"
   },
   {
    "duration": 184,
    "start_time": "2024-01-08T18:43:30.837Z"
   },
   {
    "duration": 100,
    "start_time": "2024-01-08T18:43:31.025Z"
   },
   {
    "duration": 35,
    "start_time": "2024-01-08T18:43:31.127Z"
   },
   {
    "duration": 62,
    "start_time": "2024-01-08T18:43:31.163Z"
   },
   {
    "duration": 15,
    "start_time": "2024-01-08T18:43:31.226Z"
   },
   {
    "duration": 39,
    "start_time": "2024-01-08T18:43:31.242Z"
   },
   {
    "duration": 25,
    "start_time": "2024-01-08T18:43:31.283Z"
   },
   {
    "duration": 38,
    "start_time": "2024-01-08T18:43:31.309Z"
   },
   {
    "duration": 27,
    "start_time": "2024-01-08T18:43:31.348Z"
   },
   {
    "duration": 28,
    "start_time": "2024-01-08T18:43:31.376Z"
   },
   {
    "duration": 1246,
    "start_time": "2024-01-08T18:43:31.406Z"
   },
   {
    "duration": 1113,
    "start_time": "2024-01-08T18:45:06.655Z"
   },
   {
    "duration": 4,
    "start_time": "2024-01-08T18:46:22.760Z"
   },
   {
    "duration": 1092,
    "start_time": "2024-01-08T18:46:23.360Z"
   },
   {
    "duration": 2448,
    "start_time": "2024-01-08T18:46:57.529Z"
   },
   {
    "duration": 1405,
    "start_time": "2024-01-08T18:46:59.980Z"
   },
   {
    "duration": 437,
    "start_time": "2024-01-08T18:47:01.387Z"
   },
   {
    "duration": 14,
    "start_time": "2024-01-08T18:47:01.826Z"
   },
   {
    "duration": 44,
    "start_time": "2024-01-08T18:47:01.841Z"
   },
   {
    "duration": 22,
    "start_time": "2024-01-08T18:47:01.887Z"
   },
   {
    "duration": 33,
    "start_time": "2024-01-08T18:47:01.910Z"
   },
   {
    "duration": 9,
    "start_time": "2024-01-08T18:47:01.945Z"
   },
   {
    "duration": 32,
    "start_time": "2024-01-08T18:47:01.955Z"
   },
   {
    "duration": 14,
    "start_time": "2024-01-08T18:47:01.991Z"
   },
   {
    "duration": 22,
    "start_time": "2024-01-08T18:47:02.007Z"
   },
   {
    "duration": 92,
    "start_time": "2024-01-08T18:47:02.031Z"
   },
   {
    "duration": 36,
    "start_time": "2024-01-08T18:47:02.126Z"
   },
   {
    "duration": 35,
    "start_time": "2024-01-08T18:47:02.165Z"
   },
   {
    "duration": 48,
    "start_time": "2024-01-08T18:47:02.202Z"
   },
   {
    "duration": 8,
    "start_time": "2024-01-08T18:47:02.251Z"
   },
   {
    "duration": 1218,
    "start_time": "2024-01-08T18:47:02.261Z"
   },
   {
    "duration": 869,
    "start_time": "2024-01-08T18:47:03.480Z"
   },
   {
    "duration": 1104,
    "start_time": "2024-01-08T18:47:04.350Z"
   },
   {
    "duration": 903,
    "start_time": "2024-01-08T18:47:05.455Z"
   },
   {
    "duration": 1407,
    "start_time": "2024-01-08T18:47:06.359Z"
   },
   {
    "duration": 774,
    "start_time": "2024-01-08T18:47:07.767Z"
   },
   {
    "duration": 6,
    "start_time": "2024-01-08T18:47:08.543Z"
   },
   {
    "duration": 4,
    "start_time": "2024-01-08T18:47:08.550Z"
   },
   {
    "duration": 1989,
    "start_time": "2024-01-08T18:47:08.556Z"
   },
   {
    "duration": 4,
    "start_time": "2024-01-08T18:47:10.546Z"
   },
   {
    "duration": 28,
    "start_time": "2024-01-08T18:47:10.551Z"
   },
   {
    "duration": 4,
    "start_time": "2024-01-08T18:47:10.582Z"
   },
   {
    "duration": 227,
    "start_time": "2024-01-08T18:47:10.587Z"
   },
   {
    "duration": 16,
    "start_time": "2024-01-08T18:47:10.818Z"
   },
   {
    "duration": 14,
    "start_time": "2024-01-08T18:47:10.914Z"
   },
   {
    "duration": 3,
    "start_time": "2024-01-08T18:47:10.930Z"
   },
   {
    "duration": 6,
    "start_time": "2024-01-08T18:47:11.010Z"
   },
   {
    "duration": 9,
    "start_time": "2024-01-08T18:47:11.020Z"
   },
   {
    "duration": 19,
    "start_time": "2024-01-08T18:47:11.031Z"
   },
   {
    "duration": 24,
    "start_time": "2024-01-08T18:47:11.052Z"
   },
   {
    "duration": 5,
    "start_time": "2024-01-08T18:47:11.077Z"
   },
   {
    "duration": 5,
    "start_time": "2024-01-08T18:47:11.083Z"
   },
   {
    "duration": 1248,
    "start_time": "2024-01-08T18:47:11.089Z"
   },
   {
    "duration": 4,
    "start_time": "2024-01-08T18:47:30.642Z"
   },
   {
    "duration": 1162,
    "start_time": "2024-01-08T18:47:31.332Z"
   },
   {
    "duration": 2395,
    "start_time": "2024-01-08T18:47:40.748Z"
   },
   {
    "duration": 1342,
    "start_time": "2024-01-08T18:47:43.146Z"
   },
   {
    "duration": 433,
    "start_time": "2024-01-08T18:47:44.489Z"
   },
   {
    "duration": 12,
    "start_time": "2024-01-08T18:47:44.925Z"
   },
   {
    "duration": 14,
    "start_time": "2024-01-08T18:47:44.939Z"
   },
   {
    "duration": 8,
    "start_time": "2024-01-08T18:47:44.955Z"
   },
   {
    "duration": 29,
    "start_time": "2024-01-08T18:47:44.965Z"
   },
   {
    "duration": 26,
    "start_time": "2024-01-08T18:47:44.996Z"
   },
   {
    "duration": 28,
    "start_time": "2024-01-08T18:47:45.026Z"
   },
   {
    "duration": 18,
    "start_time": "2024-01-08T18:47:45.057Z"
   },
   {
    "duration": 17,
    "start_time": "2024-01-08T18:47:45.076Z"
   },
   {
    "duration": 88,
    "start_time": "2024-01-08T18:47:45.094Z"
   },
   {
    "duration": 51,
    "start_time": "2024-01-08T18:47:45.183Z"
   },
   {
    "duration": 38,
    "start_time": "2024-01-08T18:47:45.236Z"
   },
   {
    "duration": 50,
    "start_time": "2024-01-08T18:47:45.275Z"
   },
   {
    "duration": 9,
    "start_time": "2024-01-08T18:47:45.327Z"
   },
   {
    "duration": 1185,
    "start_time": "2024-01-08T18:47:45.338Z"
   },
   {
    "duration": 816,
    "start_time": "2024-01-08T18:47:46.525Z"
   },
   {
    "duration": 1102,
    "start_time": "2024-01-08T18:47:47.343Z"
   },
   {
    "duration": 811,
    "start_time": "2024-01-08T18:47:48.446Z"
   },
   {
    "duration": 1423,
    "start_time": "2024-01-08T18:47:49.258Z"
   },
   {
    "duration": 849,
    "start_time": "2024-01-08T18:47:50.682Z"
   },
   {
    "duration": 4,
    "start_time": "2024-01-08T18:47:51.532Z"
   },
   {
    "duration": 4,
    "start_time": "2024-01-08T18:47:51.537Z"
   },
   {
    "duration": 1906,
    "start_time": "2024-01-08T18:47:51.542Z"
   },
   {
    "duration": 4,
    "start_time": "2024-01-08T18:47:53.450Z"
   },
   {
    "duration": 31,
    "start_time": "2024-01-08T18:47:53.455Z"
   },
   {
    "duration": 3,
    "start_time": "2024-01-08T18:47:53.489Z"
   },
   {
    "duration": 220,
    "start_time": "2024-01-08T18:47:53.493Z"
   },
   {
    "duration": 99,
    "start_time": "2024-01-08T18:47:53.715Z"
   },
   {
    "duration": 15,
    "start_time": "2024-01-08T18:47:53.816Z"
   },
   {
    "duration": 7,
    "start_time": "2024-01-08T18:47:53.832Z"
   },
   {
    "duration": 4,
    "start_time": "2024-01-08T18:47:53.840Z"
   },
   {
    "duration": 7,
    "start_time": "2024-01-08T18:47:53.845Z"
   },
   {
    "duration": 3,
    "start_time": "2024-01-08T18:47:53.853Z"
   },
   {
    "duration": 15,
    "start_time": "2024-01-08T18:47:53.858Z"
   },
   {
    "duration": 4,
    "start_time": "2024-01-08T18:47:53.874Z"
   },
   {
    "duration": 1199,
    "start_time": "2024-01-08T18:47:53.880Z"
   },
   {
    "duration": 5,
    "start_time": "2024-01-08T18:49:40.660Z"
   },
   {
    "duration": 1176,
    "start_time": "2024-01-08T18:49:41.200Z"
   },
   {
    "duration": 4,
    "start_time": "2024-01-08T18:52:02.486Z"
   },
   {
    "duration": 1114,
    "start_time": "2024-01-08T18:52:03.054Z"
   },
   {
    "duration": 4,
    "start_time": "2024-01-08T18:52:15.630Z"
   },
   {
    "duration": 1098,
    "start_time": "2024-01-08T18:52:16.046Z"
   },
   {
    "duration": 4,
    "start_time": "2024-01-08T18:52:29.984Z"
   },
   {
    "duration": 3,
    "start_time": "2024-01-08T18:52:35.026Z"
   },
   {
    "duration": 5,
    "start_time": "2024-01-08T18:53:41.321Z"
   },
   {
    "duration": 1086,
    "start_time": "2024-01-08T18:53:41.804Z"
   },
   {
    "duration": 4,
    "start_time": "2024-01-08T18:53:42.892Z"
   },
   {
    "duration": 4,
    "start_time": "2024-01-08T18:53:43.647Z"
   },
   {
    "duration": 3324,
    "start_time": "2024-01-08T18:54:45.582Z"
   },
   {
    "duration": 9,
    "start_time": "2024-01-08T18:57:53.145Z"
   },
   {
    "duration": 16,
    "start_time": "2024-01-08T19:05:01.385Z"
   },
   {
    "duration": 2315,
    "start_time": "2024-01-08T19:05:40.644Z"
   },
   {
    "duration": 1284,
    "start_time": "2024-01-08T19:05:42.961Z"
   },
   {
    "duration": 396,
    "start_time": "2024-01-08T19:05:44.246Z"
   },
   {
    "duration": 11,
    "start_time": "2024-01-08T19:05:44.644Z"
   },
   {
    "duration": 15,
    "start_time": "2024-01-08T19:05:44.658Z"
   },
   {
    "duration": 9,
    "start_time": "2024-01-08T19:05:44.674Z"
   },
   {
    "duration": 36,
    "start_time": "2024-01-08T19:05:44.685Z"
   },
   {
    "duration": 9,
    "start_time": "2024-01-08T19:05:44.723Z"
   },
   {
    "duration": 15,
    "start_time": "2024-01-08T19:05:44.733Z"
   },
   {
    "duration": 12,
    "start_time": "2024-01-08T19:05:44.750Z"
   },
   {
    "duration": 8,
    "start_time": "2024-01-08T19:05:44.763Z"
   },
   {
    "duration": 97,
    "start_time": "2024-01-08T19:05:44.773Z"
   },
   {
    "duration": 47,
    "start_time": "2024-01-08T19:05:44.872Z"
   },
   {
    "duration": 34,
    "start_time": "2024-01-08T19:05:44.922Z"
   },
   {
    "duration": 34,
    "start_time": "2024-01-08T19:05:44.958Z"
   },
   {
    "duration": 9,
    "start_time": "2024-01-08T19:05:45.013Z"
   },
   {
    "duration": 1155,
    "start_time": "2024-01-08T19:05:45.024Z"
   },
   {
    "duration": 751,
    "start_time": "2024-01-08T19:05:46.180Z"
   },
   {
    "duration": 1060,
    "start_time": "2024-01-08T19:05:46.932Z"
   },
   {
    "duration": 756,
    "start_time": "2024-01-08T19:05:47.994Z"
   },
   {
    "duration": 1310,
    "start_time": "2024-01-08T19:05:48.751Z"
   },
   {
    "duration": 757,
    "start_time": "2024-01-08T19:05:50.063Z"
   },
   {
    "duration": 4,
    "start_time": "2024-01-08T19:05:50.821Z"
   },
   {
    "duration": 6,
    "start_time": "2024-01-08T19:05:50.827Z"
   },
   {
    "duration": 1876,
    "start_time": "2024-01-08T19:05:50.835Z"
   },
   {
    "duration": 4,
    "start_time": "2024-01-08T19:05:52.712Z"
   },
   {
    "duration": 28,
    "start_time": "2024-01-08T19:05:52.717Z"
   },
   {
    "duration": 3,
    "start_time": "2024-01-08T19:05:52.747Z"
   },
   {
    "duration": 162,
    "start_time": "2024-01-08T19:05:52.751Z"
   },
   {
    "duration": 101,
    "start_time": "2024-01-08T19:05:52.915Z"
   },
   {
    "duration": 93,
    "start_time": "2024-01-08T19:05:53.020Z"
   },
   {
    "duration": 6,
    "start_time": "2024-01-08T19:05:53.114Z"
   },
   {
    "duration": 7,
    "start_time": "2024-01-08T19:05:53.121Z"
   },
   {
    "duration": 6,
    "start_time": "2024-01-08T19:05:53.130Z"
   },
   {
    "duration": 5,
    "start_time": "2024-01-08T19:05:53.137Z"
   },
   {
    "duration": 14,
    "start_time": "2024-01-08T19:05:53.144Z"
   },
   {
    "duration": 8,
    "start_time": "2024-01-08T19:05:53.160Z"
   },
   {
    "duration": 4,
    "start_time": "2024-01-08T19:05:53.170Z"
   },
   {
    "duration": 3200,
    "start_time": "2024-01-08T19:05:53.175Z"
   },
   {
    "duration": 13,
    "start_time": "2024-01-08T19:05:56.377Z"
   },
   {
    "duration": 13,
    "start_time": "2024-01-08T19:07:01.914Z"
   },
   {
    "duration": 6,
    "start_time": "2024-01-08T19:08:36.463Z"
   },
   {
    "duration": 1159,
    "start_time": "2024-01-08T19:08:37.229Z"
   },
   {
    "duration": 6,
    "start_time": "2024-01-08T19:08:48.843Z"
   },
   {
    "duration": 3185,
    "start_time": "2024-01-08T19:08:49.474Z"
   },
   {
    "duration": 14,
    "start_time": "2024-01-08T19:08:55.371Z"
   },
   {
    "duration": 2345,
    "start_time": "2024-01-08T19:09:07.677Z"
   },
   {
    "duration": 1362,
    "start_time": "2024-01-08T19:09:10.025Z"
   },
   {
    "duration": 402,
    "start_time": "2024-01-08T19:09:11.391Z"
   },
   {
    "duration": 17,
    "start_time": "2024-01-08T19:09:11.795Z"
   },
   {
    "duration": 17,
    "start_time": "2024-01-08T19:09:11.814Z"
   },
   {
    "duration": 11,
    "start_time": "2024-01-08T19:09:11.832Z"
   },
   {
    "duration": 19,
    "start_time": "2024-01-08T19:09:11.844Z"
   },
   {
    "duration": 8,
    "start_time": "2024-01-08T19:09:11.865Z"
   },
   {
    "duration": 15,
    "start_time": "2024-01-08T19:09:11.910Z"
   },
   {
    "duration": 13,
    "start_time": "2024-01-08T19:09:11.927Z"
   },
   {
    "duration": 6,
    "start_time": "2024-01-08T19:09:11.942Z"
   },
   {
    "duration": 117,
    "start_time": "2024-01-08T19:09:11.949Z"
   },
   {
    "duration": 49,
    "start_time": "2024-01-08T19:09:12.068Z"
   },
   {
    "duration": 35,
    "start_time": "2024-01-08T19:09:12.119Z"
   },
   {
    "duration": 33,
    "start_time": "2024-01-08T19:09:12.156Z"
   },
   {
    "duration": 23,
    "start_time": "2024-01-08T19:09:12.191Z"
   },
   {
    "duration": 1173,
    "start_time": "2024-01-08T19:09:12.215Z"
   },
   {
    "duration": 726,
    "start_time": "2024-01-08T19:09:13.390Z"
   },
   {
    "duration": 1058,
    "start_time": "2024-01-08T19:09:14.117Z"
   },
   {
    "duration": 793,
    "start_time": "2024-01-08T19:09:15.176Z"
   },
   {
    "duration": 1389,
    "start_time": "2024-01-08T19:09:15.971Z"
   },
   {
    "duration": 735,
    "start_time": "2024-01-08T19:09:17.361Z"
   },
   {
    "duration": 4,
    "start_time": "2024-01-08T19:09:18.098Z"
   },
   {
    "duration": 2,
    "start_time": "2024-01-08T19:09:18.111Z"
   },
   {
    "duration": 1915,
    "start_time": "2024-01-08T19:09:18.114Z"
   },
   {
    "duration": 4,
    "start_time": "2024-01-08T19:09:20.031Z"
   },
   {
    "duration": 38,
    "start_time": "2024-01-08T19:09:20.038Z"
   },
   {
    "duration": 4,
    "start_time": "2024-01-08T19:09:20.077Z"
   },
   {
    "duration": 131,
    "start_time": "2024-01-08T19:09:20.082Z"
   },
   {
    "duration": 98,
    "start_time": "2024-01-08T19:09:20.215Z"
   },
   {
    "duration": 96,
    "start_time": "2024-01-08T19:09:20.316Z"
   },
   {
    "duration": 4,
    "start_time": "2024-01-08T19:09:20.414Z"
   },
   {
    "duration": 4,
    "start_time": "2024-01-08T19:09:20.419Z"
   },
   {
    "duration": 4,
    "start_time": "2024-01-08T19:09:20.424Z"
   },
   {
    "duration": 4,
    "start_time": "2024-01-08T19:09:20.430Z"
   },
   {
    "duration": 16,
    "start_time": "2024-01-08T19:09:20.435Z"
   },
   {
    "duration": 8,
    "start_time": "2024-01-08T19:09:20.452Z"
   },
   {
    "duration": 3,
    "start_time": "2024-01-08T19:09:20.462Z"
   },
   {
    "duration": 3290,
    "start_time": "2024-01-08T19:09:20.467Z"
   },
   {
    "duration": 13,
    "start_time": "2024-01-08T19:09:23.758Z"
   },
   {
    "duration": 15,
    "start_time": "2024-01-08T19:09:33.529Z"
   },
   {
    "duration": 13,
    "start_time": "2024-01-08T19:09:54.302Z"
   },
   {
    "duration": 15,
    "start_time": "2024-01-08T19:10:08.466Z"
   },
   {
    "duration": 2304,
    "start_time": "2024-01-08T19:11:44.025Z"
   },
   {
    "duration": 1297,
    "start_time": "2024-01-08T19:11:46.331Z"
   },
   {
    "duration": 385,
    "start_time": "2024-01-08T19:11:47.631Z"
   },
   {
    "duration": 13,
    "start_time": "2024-01-08T19:11:48.017Z"
   },
   {
    "duration": 14,
    "start_time": "2024-01-08T19:11:48.031Z"
   },
   {
    "duration": 9,
    "start_time": "2024-01-08T19:11:48.046Z"
   },
   {
    "duration": 17,
    "start_time": "2024-01-08T19:11:48.056Z"
   },
   {
    "duration": 38,
    "start_time": "2024-01-08T19:11:48.075Z"
   },
   {
    "duration": 20,
    "start_time": "2024-01-08T19:11:48.117Z"
   },
   {
    "duration": 12,
    "start_time": "2024-01-08T19:11:48.138Z"
   },
   {
    "duration": 4,
    "start_time": "2024-01-08T19:11:48.152Z"
   },
   {
    "duration": 108,
    "start_time": "2024-01-08T19:11:48.158Z"
   },
   {
    "duration": 50,
    "start_time": "2024-01-08T19:11:48.268Z"
   },
   {
    "duration": 35,
    "start_time": "2024-01-08T19:11:48.320Z"
   },
   {
    "duration": 34,
    "start_time": "2024-01-08T19:11:48.356Z"
   },
   {
    "duration": 8,
    "start_time": "2024-01-08T19:11:48.411Z"
   },
   {
    "duration": 1161,
    "start_time": "2024-01-08T19:11:48.421Z"
   },
   {
    "duration": 848,
    "start_time": "2024-01-08T19:11:49.583Z"
   },
   {
    "duration": 1075,
    "start_time": "2024-01-08T19:11:50.433Z"
   },
   {
    "duration": 734,
    "start_time": "2024-01-08T19:11:51.509Z"
   },
   {
    "duration": 1327,
    "start_time": "2024-01-08T19:11:52.244Z"
   },
   {
    "duration": 811,
    "start_time": "2024-01-08T19:11:53.572Z"
   },
   {
    "duration": 5,
    "start_time": "2024-01-08T19:11:54.385Z"
   },
   {
    "duration": 8,
    "start_time": "2024-01-08T19:11:54.391Z"
   },
   {
    "duration": 1811,
    "start_time": "2024-01-08T19:11:54.400Z"
   },
   {
    "duration": 5,
    "start_time": "2024-01-08T19:11:56.213Z"
   },
   {
    "duration": 26,
    "start_time": "2024-01-08T19:11:56.222Z"
   },
   {
    "duration": 4,
    "start_time": "2024-01-08T19:11:56.250Z"
   },
   {
    "duration": 258,
    "start_time": "2024-01-08T19:11:56.255Z"
   },
   {
    "duration": 101,
    "start_time": "2024-01-08T19:11:56.515Z"
   },
   {
    "duration": 9,
    "start_time": "2024-01-08T19:11:56.618Z"
   },
   {
    "duration": 3,
    "start_time": "2024-01-08T19:11:56.712Z"
   },
   {
    "duration": 4,
    "start_time": "2024-01-08T19:11:56.716Z"
   },
   {
    "duration": 4,
    "start_time": "2024-01-08T19:11:56.721Z"
   },
   {
    "duration": 4,
    "start_time": "2024-01-08T19:11:56.726Z"
   },
   {
    "duration": 14,
    "start_time": "2024-01-08T19:11:56.731Z"
   },
   {
    "duration": 9,
    "start_time": "2024-01-08T19:11:56.747Z"
   },
   {
    "duration": 6,
    "start_time": "2024-01-08T19:11:56.758Z"
   },
   {
    "duration": 3323,
    "start_time": "2024-01-08T19:11:56.766Z"
   },
   {
    "duration": 22,
    "start_time": "2024-01-08T19:12:00.090Z"
   },
   {
    "duration": 4,
    "start_time": "2024-01-08T19:15:42.071Z"
   },
   {
    "duration": 1180,
    "start_time": "2024-01-08T19:15:42.638Z"
   },
   {
    "duration": 4,
    "start_time": "2024-01-08T19:16:06.025Z"
   },
   {
    "duration": 3233,
    "start_time": "2024-01-08T19:16:07.384Z"
   },
   {
    "duration": 5,
    "start_time": "2024-01-08T19:17:29.961Z"
   },
   {
    "duration": 3242,
    "start_time": "2024-01-08T19:17:30.548Z"
   },
   {
    "duration": 14,
    "start_time": "2024-01-08T19:17:36.219Z"
   },
   {
    "duration": 2289,
    "start_time": "2024-01-08T19:18:41.586Z"
   },
   {
    "duration": 1368,
    "start_time": "2024-01-08T19:18:43.877Z"
   },
   {
    "duration": 400,
    "start_time": "2024-01-08T19:18:45.247Z"
   },
   {
    "duration": 14,
    "start_time": "2024-01-08T19:18:45.649Z"
   },
   {
    "duration": 16,
    "start_time": "2024-01-08T19:18:45.665Z"
   },
   {
    "duration": 8,
    "start_time": "2024-01-08T19:18:45.683Z"
   },
   {
    "duration": 13,
    "start_time": "2024-01-08T19:18:45.711Z"
   },
   {
    "duration": 8,
    "start_time": "2024-01-08T19:18:45.725Z"
   },
   {
    "duration": 12,
    "start_time": "2024-01-08T19:18:45.735Z"
   },
   {
    "duration": 12,
    "start_time": "2024-01-08T19:18:45.749Z"
   },
   {
    "duration": 6,
    "start_time": "2024-01-08T19:18:45.763Z"
   },
   {
    "duration": 98,
    "start_time": "2024-01-08T19:18:45.770Z"
   },
   {
    "duration": 44,
    "start_time": "2024-01-08T19:18:45.869Z"
   },
   {
    "duration": 33,
    "start_time": "2024-01-08T19:18:45.915Z"
   },
   {
    "duration": 32,
    "start_time": "2024-01-08T19:18:45.950Z"
   },
   {
    "duration": 27,
    "start_time": "2024-01-08T19:18:45.984Z"
   },
   {
    "duration": 1127,
    "start_time": "2024-01-08T19:18:46.013Z"
   },
   {
    "duration": 694,
    "start_time": "2024-01-08T19:18:47.141Z"
   },
   {
    "duration": 1097,
    "start_time": "2024-01-08T19:18:47.836Z"
   },
   {
    "duration": 697,
    "start_time": "2024-01-08T19:18:48.935Z"
   },
   {
    "duration": 1415,
    "start_time": "2024-01-08T19:18:49.634Z"
   },
   {
    "duration": 811,
    "start_time": "2024-01-08T19:18:51.052Z"
   },
   {
    "duration": 3,
    "start_time": "2024-01-08T19:18:51.866Z"
   },
   {
    "duration": 8,
    "start_time": "2024-01-08T19:18:51.871Z"
   },
   {
    "duration": 1835,
    "start_time": "2024-01-08T19:18:51.880Z"
   },
   {
    "duration": 3,
    "start_time": "2024-01-08T19:18:53.716Z"
   },
   {
    "duration": 33,
    "start_time": "2024-01-08T19:18:53.721Z"
   },
   {
    "duration": 3,
    "start_time": "2024-01-08T19:18:53.757Z"
   },
   {
    "duration": 151,
    "start_time": "2024-01-08T19:18:53.762Z"
   },
   {
    "duration": 105,
    "start_time": "2024-01-08T19:18:53.915Z"
   },
   {
    "duration": 12,
    "start_time": "2024-01-08T19:18:54.021Z"
   },
   {
    "duration": 76,
    "start_time": "2024-01-08T19:18:54.035Z"
   },
   {
    "duration": 12,
    "start_time": "2024-01-08T19:18:54.112Z"
   },
   {
    "duration": 4,
    "start_time": "2024-01-08T19:18:54.125Z"
   },
   {
    "duration": 4,
    "start_time": "2024-01-08T19:18:54.130Z"
   },
   {
    "duration": 22,
    "start_time": "2024-01-08T19:18:54.135Z"
   },
   {
    "duration": 12,
    "start_time": "2024-01-08T19:18:54.159Z"
   },
   {
    "duration": 5,
    "start_time": "2024-01-08T19:18:54.172Z"
   },
   {
    "duration": 3216,
    "start_time": "2024-01-08T19:18:54.178Z"
   },
   {
    "duration": 16,
    "start_time": "2024-01-08T19:18:57.395Z"
   },
   {
    "duration": 2357,
    "start_time": "2024-01-08T19:22:30.994Z"
   },
   {
    "duration": 1285,
    "start_time": "2024-01-08T19:22:33.354Z"
   },
   {
    "duration": 395,
    "start_time": "2024-01-08T19:22:34.643Z"
   },
   {
    "duration": 12,
    "start_time": "2024-01-08T19:22:35.039Z"
   },
   {
    "duration": 17,
    "start_time": "2024-01-08T19:22:35.052Z"
   },
   {
    "duration": 9,
    "start_time": "2024-01-08T19:22:35.071Z"
   },
   {
    "duration": 39,
    "start_time": "2024-01-08T19:22:35.081Z"
   },
   {
    "duration": 9,
    "start_time": "2024-01-08T19:22:35.121Z"
   },
   {
    "duration": 14,
    "start_time": "2024-01-08T19:22:35.133Z"
   },
   {
    "duration": 12,
    "start_time": "2024-01-08T19:22:35.148Z"
   },
   {
    "duration": 8,
    "start_time": "2024-01-08T19:22:35.162Z"
   },
   {
    "duration": 108,
    "start_time": "2024-01-08T19:22:35.172Z"
   },
   {
    "duration": 49,
    "start_time": "2024-01-08T19:22:35.282Z"
   },
   {
    "duration": 33,
    "start_time": "2024-01-08T19:22:35.332Z"
   },
   {
    "duration": 48,
    "start_time": "2024-01-08T19:22:35.367Z"
   },
   {
    "duration": 7,
    "start_time": "2024-01-08T19:22:35.416Z"
   },
   {
    "duration": 1149,
    "start_time": "2024-01-08T19:22:35.424Z"
   },
   {
    "duration": 742,
    "start_time": "2024-01-08T19:22:36.575Z"
   },
   {
    "duration": 1062,
    "start_time": "2024-01-08T19:22:37.319Z"
   },
   {
    "duration": 761,
    "start_time": "2024-01-08T19:22:38.383Z"
   },
   {
    "duration": 1337,
    "start_time": "2024-01-08T19:22:39.146Z"
   },
   {
    "duration": 726,
    "start_time": "2024-01-08T19:22:40.485Z"
   },
   {
    "duration": 4,
    "start_time": "2024-01-08T19:22:41.213Z"
   },
   {
    "duration": 8,
    "start_time": "2024-01-08T19:22:41.218Z"
   },
   {
    "duration": 1866,
    "start_time": "2024-01-08T19:22:41.228Z"
   },
   {
    "duration": 3,
    "start_time": "2024-01-08T19:22:43.096Z"
   },
   {
    "duration": 30,
    "start_time": "2024-01-08T19:22:43.102Z"
   },
   {
    "duration": 4,
    "start_time": "2024-01-08T19:22:43.133Z"
   },
   {
    "duration": 374,
    "start_time": "2024-01-08T19:22:43.138Z"
   },
   {
    "duration": 99,
    "start_time": "2024-01-08T19:22:43.515Z"
   },
   {
    "duration": 11,
    "start_time": "2024-01-08T19:22:43.616Z"
   },
   {
    "duration": 7,
    "start_time": "2024-01-08T19:22:43.629Z"
   },
   {
    "duration": 14,
    "start_time": "2024-01-08T19:22:43.637Z"
   },
   {
    "duration": 4,
    "start_time": "2024-01-08T19:22:43.653Z"
   },
   {
    "duration": 4,
    "start_time": "2024-01-08T19:22:43.659Z"
   },
   {
    "duration": 134,
    "start_time": "2024-01-08T19:22:43.665Z"
   },
   {
    "duration": 0,
    "start_time": "2024-01-08T19:22:43.801Z"
   },
   {
    "duration": 0,
    "start_time": "2024-01-08T19:22:43.802Z"
   },
   {
    "duration": 0,
    "start_time": "2024-01-08T19:22:43.811Z"
   },
   {
    "duration": 0,
    "start_time": "2024-01-08T19:22:43.812Z"
   },
   {
    "duration": 3,
    "start_time": "2024-01-08T19:23:00.154Z"
   },
   {
    "duration": 13,
    "start_time": "2024-01-08T19:23:01.554Z"
   },
   {
    "duration": 9,
    "start_time": "2024-01-08T19:23:05.560Z"
   },
   {
    "duration": 6,
    "start_time": "2024-01-08T19:23:09.395Z"
   },
   {
    "duration": 2355,
    "start_time": "2024-01-08T19:23:10.499Z"
   },
   {
    "duration": 21,
    "start_time": "2024-01-08T19:23:15.439Z"
   },
   {
    "duration": 2291,
    "start_time": "2024-01-08T19:24:42.069Z"
   },
   {
    "duration": 1286,
    "start_time": "2024-01-08T19:24:44.362Z"
   },
   {
    "duration": 389,
    "start_time": "2024-01-08T19:24:45.649Z"
   },
   {
    "duration": 14,
    "start_time": "2024-01-08T19:24:46.040Z"
   },
   {
    "duration": 16,
    "start_time": "2024-01-08T19:24:46.055Z"
   },
   {
    "duration": 8,
    "start_time": "2024-01-08T19:24:46.073Z"
   },
   {
    "duration": 37,
    "start_time": "2024-01-08T19:24:46.083Z"
   },
   {
    "duration": 9,
    "start_time": "2024-01-08T19:24:46.121Z"
   },
   {
    "duration": 16,
    "start_time": "2024-01-08T19:24:46.132Z"
   },
   {
    "duration": 10,
    "start_time": "2024-01-08T19:24:46.151Z"
   },
   {
    "duration": 4,
    "start_time": "2024-01-08T19:24:46.163Z"
   },
   {
    "duration": 106,
    "start_time": "2024-01-08T19:24:46.169Z"
   },
   {
    "duration": 49,
    "start_time": "2024-01-08T19:24:46.277Z"
   },
   {
    "duration": 33,
    "start_time": "2024-01-08T19:24:46.328Z"
   },
   {
    "duration": 53,
    "start_time": "2024-01-08T19:24:46.363Z"
   },
   {
    "duration": 8,
    "start_time": "2024-01-08T19:24:46.418Z"
   },
   {
    "duration": 1144,
    "start_time": "2024-01-08T19:24:46.428Z"
   },
   {
    "duration": 816,
    "start_time": "2024-01-08T19:24:47.573Z"
   },
   {
    "duration": 1098,
    "start_time": "2024-01-08T19:24:48.391Z"
   },
   {
    "duration": 742,
    "start_time": "2024-01-08T19:24:49.491Z"
   },
   {
    "duration": 1351,
    "start_time": "2024-01-08T19:24:50.234Z"
   },
   {
    "duration": 734,
    "start_time": "2024-01-08T19:24:51.587Z"
   },
   {
    "duration": 4,
    "start_time": "2024-01-08T19:24:52.323Z"
   },
   {
    "duration": 4,
    "start_time": "2024-01-08T19:24:52.329Z"
   },
   {
    "duration": 1839,
    "start_time": "2024-01-08T19:24:52.334Z"
   },
   {
    "duration": 4,
    "start_time": "2024-01-08T19:24:54.175Z"
   },
   {
    "duration": 39,
    "start_time": "2024-01-08T19:24:54.180Z"
   },
   {
    "duration": 3,
    "start_time": "2024-01-08T19:24:54.223Z"
   },
   {
    "duration": 185,
    "start_time": "2024-01-08T19:24:54.228Z"
   },
   {
    "duration": 101,
    "start_time": "2024-01-08T19:24:54.415Z"
   },
   {
    "duration": 93,
    "start_time": "2024-01-08T19:24:54.519Z"
   },
   {
    "duration": 3,
    "start_time": "2024-01-08T19:24:54.613Z"
   },
   {
    "duration": 4,
    "start_time": "2024-01-08T19:24:54.618Z"
   },
   {
    "duration": 5,
    "start_time": "2024-01-08T19:24:54.623Z"
   },
   {
    "duration": 5,
    "start_time": "2024-01-08T19:24:54.629Z"
   },
   {
    "duration": 14,
    "start_time": "2024-01-08T19:24:54.635Z"
   },
   {
    "duration": 8,
    "start_time": "2024-01-08T19:24:54.650Z"
   },
   {
    "duration": 8,
    "start_time": "2024-01-08T19:24:54.659Z"
   },
   {
    "duration": 3259,
    "start_time": "2024-01-08T19:24:54.669Z"
   },
   {
    "duration": 13,
    "start_time": "2024-01-08T19:24:57.930Z"
   },
   {
    "duration": 2389,
    "start_time": "2024-01-08T19:33:34.729Z"
   },
   {
    "duration": 1365,
    "start_time": "2024-01-08T19:33:37.120Z"
   },
   {
    "duration": 426,
    "start_time": "2024-01-08T19:33:38.486Z"
   },
   {
    "duration": 13,
    "start_time": "2024-01-08T19:33:38.914Z"
   },
   {
    "duration": 15,
    "start_time": "2024-01-08T19:33:38.928Z"
   },
   {
    "duration": 9,
    "start_time": "2024-01-08T19:33:38.944Z"
   },
   {
    "duration": 14,
    "start_time": "2024-01-08T19:33:38.954Z"
   },
   {
    "duration": 8,
    "start_time": "2024-01-08T19:33:38.970Z"
   },
   {
    "duration": 16,
    "start_time": "2024-01-08T19:33:39.011Z"
   },
   {
    "duration": 12,
    "start_time": "2024-01-08T19:33:39.030Z"
   },
   {
    "duration": 4,
    "start_time": "2024-01-08T19:33:39.044Z"
   },
   {
    "duration": 102,
    "start_time": "2024-01-08T19:33:39.050Z"
   },
   {
    "duration": 41,
    "start_time": "2024-01-08T19:33:39.154Z"
   },
   {
    "duration": 36,
    "start_time": "2024-01-08T19:33:39.212Z"
   },
   {
    "duration": 34,
    "start_time": "2024-01-08T19:33:39.249Z"
   },
   {
    "duration": 29,
    "start_time": "2024-01-08T19:33:39.285Z"
   },
   {
    "duration": 1166,
    "start_time": "2024-01-08T19:33:39.316Z"
   },
   {
    "duration": 746,
    "start_time": "2024-01-08T19:33:40.483Z"
   },
   {
    "duration": 1063,
    "start_time": "2024-01-08T19:33:41.231Z"
   },
   {
    "duration": 732,
    "start_time": "2024-01-08T19:33:42.296Z"
   },
   {
    "duration": 1384,
    "start_time": "2024-01-08T19:33:43.029Z"
   },
   {
    "duration": 696,
    "start_time": "2024-01-08T19:33:44.415Z"
   },
   {
    "duration": 5,
    "start_time": "2024-01-08T19:33:45.113Z"
   },
   {
    "duration": 26,
    "start_time": "2024-01-08T19:33:45.119Z"
   },
   {
    "duration": 1793,
    "start_time": "2024-01-08T19:33:45.147Z"
   },
   {
    "duration": 3,
    "start_time": "2024-01-08T19:33:46.942Z"
   },
   {
    "duration": 29,
    "start_time": "2024-01-08T19:33:46.946Z"
   },
   {
    "duration": 3,
    "start_time": "2024-01-08T19:33:46.978Z"
   },
   {
    "duration": 135,
    "start_time": "2024-01-08T19:33:46.982Z"
   },
   {
    "duration": 101,
    "start_time": "2024-01-08T19:33:47.211Z"
   },
   {
    "duration": 11,
    "start_time": "2024-01-08T19:33:47.313Z"
   },
   {
    "duration": 13,
    "start_time": "2024-01-08T19:33:47.326Z"
   },
   {
    "duration": 3,
    "start_time": "2024-01-08T19:33:47.341Z"
   },
   {
    "duration": 4,
    "start_time": "2024-01-08T19:33:47.345Z"
   },
   {
    "duration": 3,
    "start_time": "2024-01-08T19:33:47.350Z"
   },
   {
    "duration": 4,
    "start_time": "2024-01-08T19:33:47.354Z"
   },
   {
    "duration": 14,
    "start_time": "2024-01-08T19:33:47.359Z"
   },
   {
    "duration": 41,
    "start_time": "2024-01-08T19:33:47.375Z"
   },
   {
    "duration": 4,
    "start_time": "2024-01-08T19:33:47.418Z"
   },
   {
    "duration": 2292,
    "start_time": "2024-01-08T19:33:47.423Z"
   },
   {
    "duration": 13,
    "start_time": "2024-01-08T19:33:49.716Z"
   },
   {
    "duration": 2370,
    "start_time": "2024-01-08T19:35:35.144Z"
   },
   {
    "duration": 1367,
    "start_time": "2024-01-08T19:35:37.517Z"
   },
   {
    "duration": 387,
    "start_time": "2024-01-08T19:35:38.886Z"
   },
   {
    "duration": 12,
    "start_time": "2024-01-08T19:35:39.275Z"
   },
   {
    "duration": 27,
    "start_time": "2024-01-08T19:35:39.288Z"
   },
   {
    "duration": 8,
    "start_time": "2024-01-08T19:35:39.317Z"
   },
   {
    "duration": 14,
    "start_time": "2024-01-08T19:35:39.327Z"
   },
   {
    "duration": 9,
    "start_time": "2024-01-08T19:35:39.343Z"
   },
   {
    "duration": 16,
    "start_time": "2024-01-08T19:35:39.353Z"
   },
   {
    "duration": 41,
    "start_time": "2024-01-08T19:35:39.371Z"
   },
   {
    "duration": 5,
    "start_time": "2024-01-08T19:35:39.414Z"
   },
   {
    "duration": 104,
    "start_time": "2024-01-08T19:35:39.420Z"
   },
   {
    "duration": 38,
    "start_time": "2024-01-08T19:35:39.526Z"
   },
   {
    "duration": 56,
    "start_time": "2024-01-08T19:35:39.566Z"
   },
   {
    "duration": 33,
    "start_time": "2024-01-08T19:35:39.624Z"
   },
   {
    "duration": 7,
    "start_time": "2024-01-08T19:35:39.659Z"
   },
   {
    "duration": 1166,
    "start_time": "2024-01-08T19:35:39.668Z"
   },
   {
    "duration": 756,
    "start_time": "2024-01-08T19:35:40.836Z"
   },
   {
    "duration": 1065,
    "start_time": "2024-01-08T19:35:41.593Z"
   },
   {
    "duration": 772,
    "start_time": "2024-01-08T19:35:42.660Z"
   },
   {
    "duration": 1377,
    "start_time": "2024-01-08T19:35:43.434Z"
   },
   {
    "duration": 712,
    "start_time": "2024-01-08T19:35:44.813Z"
   },
   {
    "duration": 5,
    "start_time": "2024-01-08T19:35:45.527Z"
   },
   {
    "duration": 9,
    "start_time": "2024-01-08T19:35:45.534Z"
   },
   {
    "duration": 1874,
    "start_time": "2024-01-08T19:35:45.545Z"
   },
   {
    "duration": 3,
    "start_time": "2024-01-08T19:35:47.420Z"
   },
   {
    "duration": 32,
    "start_time": "2024-01-08T19:35:47.424Z"
   },
   {
    "duration": 3,
    "start_time": "2024-01-08T19:35:47.459Z"
   },
   {
    "duration": 250,
    "start_time": "2024-01-08T19:35:47.463Z"
   },
   {
    "duration": 101,
    "start_time": "2024-01-08T19:35:47.715Z"
   },
   {
    "duration": 10,
    "start_time": "2024-01-08T19:35:47.818Z"
   },
   {
    "duration": 7,
    "start_time": "2024-01-08T19:35:47.829Z"
   },
   {
    "duration": 9,
    "start_time": "2024-01-08T19:35:47.838Z"
   },
   {
    "duration": 4,
    "start_time": "2024-01-08T19:35:47.849Z"
   },
   {
    "duration": 3,
    "start_time": "2024-01-08T19:35:47.855Z"
   },
   {
    "duration": 20,
    "start_time": "2024-01-08T19:35:47.859Z"
   },
   {
    "duration": 9,
    "start_time": "2024-01-08T19:35:47.881Z"
   },
   {
    "duration": 4,
    "start_time": "2024-01-08T19:35:47.912Z"
   },
   {
    "duration": 3283,
    "start_time": "2024-01-08T19:35:47.918Z"
   },
   {
    "duration": 18,
    "start_time": "2024-01-08T19:35:51.203Z"
   },
   {
    "duration": 4,
    "start_time": "2024-01-08T19:46:09.998Z"
   },
   {
    "duration": 3237,
    "start_time": "2024-01-08T19:46:10.500Z"
   },
   {
    "duration": 13,
    "start_time": "2024-01-08T19:46:13.739Z"
   },
   {
    "duration": 2354,
    "start_time": "2024-01-08T19:46:28.546Z"
   },
   {
    "duration": 1396,
    "start_time": "2024-01-08T19:46:30.902Z"
   },
   {
    "duration": 385,
    "start_time": "2024-01-08T19:46:32.299Z"
   },
   {
    "duration": 11,
    "start_time": "2024-01-08T19:46:32.686Z"
   },
   {
    "duration": 18,
    "start_time": "2024-01-08T19:46:32.699Z"
   },
   {
    "duration": 9,
    "start_time": "2024-01-08T19:46:32.719Z"
   },
   {
    "duration": 29,
    "start_time": "2024-01-08T19:46:32.729Z"
   },
   {
    "duration": 8,
    "start_time": "2024-01-08T19:46:32.760Z"
   },
   {
    "duration": 17,
    "start_time": "2024-01-08T19:46:32.770Z"
   },
   {
    "duration": 27,
    "start_time": "2024-01-08T19:46:32.789Z"
   },
   {
    "duration": 5,
    "start_time": "2024-01-08T19:46:32.818Z"
   },
   {
    "duration": 95,
    "start_time": "2024-01-08T19:46:32.824Z"
   },
   {
    "duration": 36,
    "start_time": "2024-01-08T19:46:32.921Z"
   },
   {
    "duration": 34,
    "start_time": "2024-01-08T19:46:32.958Z"
   },
   {
    "duration": 49,
    "start_time": "2024-01-08T19:46:32.993Z"
   },
   {
    "duration": 7,
    "start_time": "2024-01-08T19:46:33.043Z"
   },
   {
    "duration": 1143,
    "start_time": "2024-01-08T19:46:33.052Z"
   },
   {
    "duration": 824,
    "start_time": "2024-01-08T19:46:34.196Z"
   },
   {
    "duration": 1062,
    "start_time": "2024-01-08T19:46:35.022Z"
   },
   {
    "duration": 822,
    "start_time": "2024-01-08T19:46:36.086Z"
   },
   {
    "duration": 1338,
    "start_time": "2024-01-08T19:46:36.911Z"
   },
   {
    "duration": 750,
    "start_time": "2024-01-08T19:46:38.251Z"
   },
   {
    "duration": 4,
    "start_time": "2024-01-08T19:46:39.002Z"
   },
   {
    "duration": 7,
    "start_time": "2024-01-08T19:46:39.007Z"
   },
   {
    "duration": 1810,
    "start_time": "2024-01-08T19:46:39.016Z"
   },
   {
    "duration": 3,
    "start_time": "2024-01-08T19:46:40.827Z"
   },
   {
    "duration": 27,
    "start_time": "2024-01-08T19:46:40.832Z"
   },
   {
    "duration": 3,
    "start_time": "2024-01-08T19:46:40.862Z"
   },
   {
    "duration": 146,
    "start_time": "2024-01-08T19:46:40.867Z"
   },
   {
    "duration": 102,
    "start_time": "2024-01-08T19:46:41.016Z"
   },
   {
    "duration": 95,
    "start_time": "2024-01-08T19:46:41.121Z"
   },
   {
    "duration": 3,
    "start_time": "2024-01-08T19:46:41.217Z"
   },
   {
    "duration": 7,
    "start_time": "2024-01-08T19:46:41.221Z"
   },
   {
    "duration": 8,
    "start_time": "2024-01-08T19:46:41.229Z"
   },
   {
    "duration": 18,
    "start_time": "2024-01-08T19:46:41.239Z"
   },
   {
    "duration": 17,
    "start_time": "2024-01-08T19:46:41.258Z"
   },
   {
    "duration": 10,
    "start_time": "2024-01-08T19:46:41.276Z"
   },
   {
    "duration": 26,
    "start_time": "2024-01-08T19:46:41.287Z"
   },
   {
    "duration": 3160,
    "start_time": "2024-01-08T19:46:41.314Z"
   },
   {
    "duration": 13,
    "start_time": "2024-01-08T19:46:44.476Z"
   },
   {
    "duration": 3442,
    "start_time": "2024-01-09T12:33:09.715Z"
   },
   {
    "duration": 1706,
    "start_time": "2024-01-09T12:33:13.160Z"
   },
   {
    "duration": 1638,
    "start_time": "2024-01-09T12:33:14.868Z"
   },
   {
    "duration": 13,
    "start_time": "2024-01-09T12:33:16.508Z"
   },
   {
    "duration": 16,
    "start_time": "2024-01-09T12:33:16.522Z"
   },
   {
    "duration": 9,
    "start_time": "2024-01-09T12:33:16.539Z"
   },
   {
    "duration": 24,
    "start_time": "2024-01-09T12:33:16.549Z"
   },
   {
    "duration": 9,
    "start_time": "2024-01-09T12:33:16.574Z"
   },
   {
    "duration": 18,
    "start_time": "2024-01-09T12:33:16.584Z"
   },
   {
    "duration": 12,
    "start_time": "2024-01-09T12:33:16.604Z"
   },
   {
    "duration": 18,
    "start_time": "2024-01-09T12:33:16.618Z"
   },
   {
    "duration": 88,
    "start_time": "2024-01-09T12:33:16.638Z"
   },
   {
    "duration": 38,
    "start_time": "2024-01-09T12:33:16.727Z"
   },
   {
    "duration": 36,
    "start_time": "2024-01-09T12:33:16.773Z"
   },
   {
    "duration": 35,
    "start_time": "2024-01-09T12:33:16.810Z"
   },
   {
    "duration": 7,
    "start_time": "2024-01-09T12:33:16.846Z"
   },
   {
    "duration": 1240,
    "start_time": "2024-01-09T12:33:16.873Z"
   },
   {
    "duration": 890,
    "start_time": "2024-01-09T12:33:18.114Z"
   },
   {
    "duration": 1173,
    "start_time": "2024-01-09T12:33:19.005Z"
   },
   {
    "duration": 837,
    "start_time": "2024-01-09T12:33:20.180Z"
   },
   {
    "duration": 1429,
    "start_time": "2024-01-09T12:33:21.018Z"
   },
   {
    "duration": 759,
    "start_time": "2024-01-09T12:33:22.449Z"
   },
   {
    "duration": 3,
    "start_time": "2024-01-09T12:33:23.210Z"
   },
   {
    "duration": 19,
    "start_time": "2024-01-09T12:33:23.215Z"
   },
   {
    "duration": 1957,
    "start_time": "2024-01-09T12:33:23.235Z"
   },
   {
    "duration": 4,
    "start_time": "2024-01-09T12:33:25.193Z"
   },
   {
    "duration": 28,
    "start_time": "2024-01-09T12:33:25.198Z"
   },
   {
    "duration": 4,
    "start_time": "2024-01-09T12:33:25.229Z"
   },
   {
    "duration": 141,
    "start_time": "2024-01-09T12:33:25.234Z"
   },
   {
    "duration": 100,
    "start_time": "2024-01-09T12:33:25.378Z"
   },
   {
    "duration": 97,
    "start_time": "2024-01-09T12:33:25.480Z"
   },
   {
    "duration": 9,
    "start_time": "2024-01-09T12:33:25.579Z"
   },
   {
    "duration": 10,
    "start_time": "2024-01-09T12:33:25.589Z"
   },
   {
    "duration": 7,
    "start_time": "2024-01-09T12:33:25.601Z"
   },
   {
    "duration": 6,
    "start_time": "2024-01-09T12:33:25.609Z"
   },
   {
    "duration": 20,
    "start_time": "2024-01-09T12:33:25.616Z"
   },
   {
    "duration": 10,
    "start_time": "2024-01-09T12:33:25.637Z"
   },
   {
    "duration": 28,
    "start_time": "2024-01-09T12:33:25.648Z"
   },
   {
    "duration": 3453,
    "start_time": "2024-01-09T12:33:25.677Z"
   },
   {
    "duration": 16,
    "start_time": "2024-01-09T12:33:29.132Z"
   },
   {
    "duration": 4,
    "start_time": "2024-01-09T12:38:20.103Z"
   },
   {
    "duration": 120,
    "start_time": "2024-01-09T12:38:22.100Z"
   },
   {
    "duration": 4,
    "start_time": "2024-01-09T12:38:36.245Z"
   },
   {
    "duration": 14,
    "start_time": "2024-01-09T12:38:37.706Z"
   },
   {
    "duration": 5,
    "start_time": "2024-01-09T12:38:54.646Z"
   },
   {
    "duration": 14,
    "start_time": "2024-01-09T12:38:55.775Z"
   },
   {
    "duration": 5,
    "start_time": "2024-01-09T12:39:35.702Z"
   },
   {
    "duration": 1278,
    "start_time": "2024-01-09T12:39:36.907Z"
   },
   {
    "duration": 5,
    "start_time": "2024-01-09T12:40:10.682Z"
   },
   {
    "duration": 3789,
    "start_time": "2024-01-09T12:40:11.415Z"
   },
   {
    "duration": 15,
    "start_time": "2024-01-09T12:41:02.051Z"
   },
   {
    "duration": 3,
    "start_time": "2024-01-09T12:42:44.704Z"
   },
   {
    "duration": 14,
    "start_time": "2024-01-09T12:42:45.218Z"
   },
   {
    "duration": 16,
    "start_time": "2024-01-09T12:43:44.462Z"
   },
   {
    "duration": 6,
    "start_time": "2024-01-09T12:56:44.530Z"
   },
   {
    "duration": 417,
    "start_time": "2024-01-09T12:56:45.310Z"
   },
   {
    "duration": 9,
    "start_time": "2024-01-09T12:56:45.946Z"
   },
   {
    "duration": 15,
    "start_time": "2024-01-09T12:56:46.754Z"
   },
   {
    "duration": 9,
    "start_time": "2024-01-09T12:56:47.750Z"
   },
   {
    "duration": 17,
    "start_time": "2024-01-09T12:56:48.088Z"
   },
   {
    "duration": 9,
    "start_time": "2024-01-09T12:56:48.571Z"
   },
   {
    "duration": 15,
    "start_time": "2024-01-09T12:56:48.885Z"
   },
   {
    "duration": 10,
    "start_time": "2024-01-09T12:56:50.601Z"
   },
   {
    "duration": 5,
    "start_time": "2024-01-09T12:56:51.389Z"
   },
   {
    "duration": 73,
    "start_time": "2024-01-09T12:56:52.437Z"
   },
   {
    "duration": 35,
    "start_time": "2024-01-09T12:56:53.905Z"
   },
   {
    "duration": 36,
    "start_time": "2024-01-09T12:56:54.283Z"
   },
   {
    "duration": 36,
    "start_time": "2024-01-09T12:56:54.662Z"
   },
   {
    "duration": 8,
    "start_time": "2024-01-09T12:56:55.434Z"
   },
   {
    "duration": 1182,
    "start_time": "2024-01-09T12:56:56.213Z"
   },
   {
    "duration": 799,
    "start_time": "2024-01-09T12:56:57.397Z"
   },
   {
    "duration": 1281,
    "start_time": "2024-01-09T12:56:58.198Z"
   },
   {
    "duration": 859,
    "start_time": "2024-01-09T12:56:59.480Z"
   },
   {
    "duration": 1470,
    "start_time": "2024-01-09T12:57:00.341Z"
   },
   {
    "duration": 784,
    "start_time": "2024-01-09T12:57:01.812Z"
   },
   {
    "duration": 4,
    "start_time": "2024-01-09T12:57:02.598Z"
   },
   {
    "duration": 22,
    "start_time": "2024-01-09T12:57:02.604Z"
   },
   {
    "duration": 1870,
    "start_time": "2024-01-09T12:57:02.628Z"
   },
   {
    "duration": 4,
    "start_time": "2024-01-09T12:57:04.499Z"
   },
   {
    "duration": 27,
    "start_time": "2024-01-09T12:57:05.429Z"
   },
   {
    "duration": 4,
    "start_time": "2024-01-09T12:57:06.813Z"
   },
   {
    "duration": 185,
    "start_time": "2024-01-09T12:57:08.290Z"
   },
   {
    "duration": 10,
    "start_time": "2024-01-09T12:57:09.370Z"
   },
   {
    "duration": 10,
    "start_time": "2024-01-09T12:57:10.700Z"
   },
   {
    "duration": 3,
    "start_time": "2024-01-09T12:57:19.906Z"
   },
   {
    "duration": 2,
    "start_time": "2024-01-09T12:57:21.262Z"
   },
   {
    "duration": 3,
    "start_time": "2024-01-09T12:57:22.088Z"
   },
   {
    "duration": 5,
    "start_time": "2024-01-09T12:57:26.143Z"
   },
   {
    "duration": 3,
    "start_time": "2024-01-09T12:57:27.278Z"
   },
   {
    "duration": 5,
    "start_time": "2024-01-09T12:57:28.372Z"
   },
   {
    "duration": 9,
    "start_time": "2024-01-09T12:57:29.327Z"
   },
   {
    "duration": 1432,
    "start_time": "2024-01-09T12:57:51.251Z"
   },
   {
    "duration": 1403,
    "start_time": "2024-01-09T12:58:32.852Z"
   },
   {
    "duration": 1377,
    "start_time": "2024-01-09T12:59:04.822Z"
   },
   {
    "duration": 5,
    "start_time": "2024-01-09T13:00:38.773Z"
   },
   {
    "duration": 3,
    "start_time": "2024-01-09T13:00:40.025Z"
   },
   {
    "duration": 5,
    "start_time": "2024-01-09T13:00:51.273Z"
   },
   {
    "duration": 1608,
    "start_time": "2024-01-09T13:00:52.184Z"
   },
   {
    "duration": 1608,
    "start_time": "2024-01-09T13:00:54.980Z"
   },
   {
    "duration": 1587,
    "start_time": "2024-01-09T13:00:57.374Z"
   },
   {
    "duration": 2610,
    "start_time": "2024-01-09T13:12:01.894Z"
   },
   {
    "duration": 1464,
    "start_time": "2024-01-09T13:12:04.507Z"
   },
   {
    "duration": 434,
    "start_time": "2024-01-09T13:12:05.973Z"
   },
   {
    "duration": 13,
    "start_time": "2024-01-09T13:12:06.409Z"
   },
   {
    "duration": 22,
    "start_time": "2024-01-09T13:12:06.424Z"
   },
   {
    "duration": 8,
    "start_time": "2024-01-09T13:12:06.448Z"
   },
   {
    "duration": 25,
    "start_time": "2024-01-09T13:12:06.458Z"
   },
   {
    "duration": 9,
    "start_time": "2024-01-09T13:12:06.485Z"
   },
   {
    "duration": 17,
    "start_time": "2024-01-09T13:12:06.495Z"
   },
   {
    "duration": 22,
    "start_time": "2024-01-09T13:12:06.514Z"
   },
   {
    "duration": 13,
    "start_time": "2024-01-09T13:12:06.538Z"
   },
   {
    "duration": 92,
    "start_time": "2024-01-09T13:12:06.552Z"
   },
   {
    "duration": 53,
    "start_time": "2024-01-09T13:12:06.645Z"
   },
   {
    "duration": 37,
    "start_time": "2024-01-09T13:12:06.700Z"
   },
   {
    "duration": 48,
    "start_time": "2024-01-09T13:12:06.739Z"
   },
   {
    "duration": 8,
    "start_time": "2024-01-09T13:12:06.788Z"
   },
   {
    "duration": 1276,
    "start_time": "2024-01-09T13:12:06.797Z"
   },
   {
    "duration": 845,
    "start_time": "2024-01-09T13:12:08.075Z"
   },
   {
    "duration": 1185,
    "start_time": "2024-01-09T13:12:08.921Z"
   },
   {
    "duration": 803,
    "start_time": "2024-01-09T13:12:10.108Z"
   },
   {
    "duration": 1489,
    "start_time": "2024-01-09T13:12:10.913Z"
   },
   {
    "duration": 797,
    "start_time": "2024-01-09T13:12:12.404Z"
   },
   {
    "duration": 4,
    "start_time": "2024-01-09T13:12:13.203Z"
   },
   {
    "duration": 22,
    "start_time": "2024-01-09T13:12:13.209Z"
   },
   {
    "duration": 1974,
    "start_time": "2024-01-09T13:12:13.233Z"
   },
   {
    "duration": 4,
    "start_time": "2024-01-09T13:12:15.209Z"
   },
   {
    "duration": 46,
    "start_time": "2024-01-09T13:12:15.215Z"
   },
   {
    "duration": 6,
    "start_time": "2024-01-09T13:12:15.265Z"
   },
   {
    "duration": 202,
    "start_time": "2024-01-09T13:12:15.272Z"
   },
   {
    "duration": 101,
    "start_time": "2024-01-09T13:12:15.477Z"
   },
   {
    "duration": 96,
    "start_time": "2024-01-09T13:12:15.581Z"
   },
   {
    "duration": 22,
    "start_time": "2024-01-09T13:12:15.678Z"
   },
   {
    "duration": 10,
    "start_time": "2024-01-09T13:12:15.702Z"
   },
   {
    "duration": 6,
    "start_time": "2024-01-09T13:12:15.713Z"
   },
   {
    "duration": 4,
    "start_time": "2024-01-09T13:12:15.721Z"
   },
   {
    "duration": 10,
    "start_time": "2024-01-09T13:12:15.727Z"
   },
   {
    "duration": 8,
    "start_time": "2024-01-09T13:12:15.738Z"
   },
   {
    "duration": 1397,
    "start_time": "2024-01-09T13:12:15.748Z"
   },
   {
    "duration": 1388,
    "start_time": "2024-01-09T13:12:17.147Z"
   },
   {
    "duration": 1377,
    "start_time": "2024-01-09T13:12:18.537Z"
   },
   {
    "duration": 121,
    "start_time": "2024-01-09T13:12:19.916Z"
   },
   {
    "duration": 0,
    "start_time": "2024-01-09T13:12:20.039Z"
   },
   {
    "duration": 0,
    "start_time": "2024-01-09T13:12:20.040Z"
   },
   {
    "duration": 0,
    "start_time": "2024-01-09T13:12:20.041Z"
   },
   {
    "duration": 0,
    "start_time": "2024-01-09T13:12:20.043Z"
   },
   {
    "duration": 0,
    "start_time": "2024-01-09T13:12:20.043Z"
   },
   {
    "duration": 0,
    "start_time": "2024-01-09T13:12:20.045Z"
   },
   {
    "duration": 9,
    "start_time": "2024-01-09T13:16:48.776Z"
   },
   {
    "duration": 3,
    "start_time": "2024-01-09T13:16:55.732Z"
   },
   {
    "duration": 18,
    "start_time": "2024-01-09T13:16:57.239Z"
   },
   {
    "duration": 11,
    "start_time": "2024-01-09T13:28:47.459Z"
   },
   {
    "duration": 23,
    "start_time": "2024-01-09T13:29:13.653Z"
   },
   {
    "duration": 2557,
    "start_time": "2024-01-09T14:12:08.560Z"
   },
   {
    "duration": 5962,
    "start_time": "2024-01-09T14:12:30.086Z"
   },
   {
    "duration": 410,
    "start_time": "2024-01-09T14:12:36.049Z"
   },
   {
    "duration": 13,
    "start_time": "2024-01-09T14:12:37.489Z"
   },
   {
    "duration": 19,
    "start_time": "2024-01-09T14:12:38.085Z"
   },
   {
    "duration": 9,
    "start_time": "2024-01-09T14:12:38.633Z"
   },
   {
    "duration": 15,
    "start_time": "2024-01-09T14:12:39.114Z"
   },
   {
    "duration": 9,
    "start_time": "2024-01-09T14:12:39.823Z"
   },
   {
    "duration": 15,
    "start_time": "2024-01-09T14:12:40.011Z"
   },
   {
    "duration": 13,
    "start_time": "2024-01-09T14:12:42.164Z"
   },
   {
    "duration": 4,
    "start_time": "2024-01-09T14:12:42.979Z"
   },
   {
    "duration": 77,
    "start_time": "2024-01-09T14:12:44.229Z"
   },
   {
    "duration": 38,
    "start_time": "2024-01-09T14:12:45.873Z"
   },
   {
    "duration": 37,
    "start_time": "2024-01-09T14:12:46.308Z"
   },
   {
    "duration": 35,
    "start_time": "2024-01-09T14:12:46.707Z"
   },
   {
    "duration": 9,
    "start_time": "2024-01-09T14:12:47.470Z"
   },
   {
    "duration": 1236,
    "start_time": "2024-01-09T14:12:48.738Z"
   },
   {
    "duration": 834,
    "start_time": "2024-01-09T14:12:49.977Z"
   },
   {
    "duration": 1154,
    "start_time": "2024-01-09T14:12:54.625Z"
   },
   {
    "duration": 813,
    "start_time": "2024-01-09T14:12:55.782Z"
   },
   {
    "duration": 1434,
    "start_time": "2024-01-09T14:12:57.260Z"
   },
   {
    "duration": 792,
    "start_time": "2024-01-09T14:12:58.695Z"
   },
   {
    "duration": 4,
    "start_time": "2024-01-09T14:12:59.489Z"
   },
   {
    "duration": 3,
    "start_time": "2024-01-09T14:12:59.848Z"
   },
   {
    "duration": 1905,
    "start_time": "2024-01-09T14:13:00.396Z"
   },
   {
    "duration": 3,
    "start_time": "2024-01-09T14:13:05.981Z"
   },
   {
    "duration": 24,
    "start_time": "2024-01-09T14:13:06.916Z"
   },
   {
    "duration": 3,
    "start_time": "2024-01-09T14:13:07.936Z"
   },
   {
    "duration": 132,
    "start_time": "2024-01-09T14:13:08.943Z"
   },
   {
    "duration": 10,
    "start_time": "2024-01-09T14:13:10.489Z"
   },
   {
    "duration": 9,
    "start_time": "2024-01-09T14:13:11.070Z"
   },
   {
    "duration": 2,
    "start_time": "2024-01-09T14:13:13.299Z"
   },
   {
    "duration": 3,
    "start_time": "2024-01-09T14:13:15.223Z"
   },
   {
    "duration": 3,
    "start_time": "2024-01-09T14:13:16.715Z"
   },
   {
    "duration": 5,
    "start_time": "2024-01-09T14:13:22.258Z"
   },
   {
    "duration": 3,
    "start_time": "2024-01-09T14:13:22.916Z"
   },
   {
    "duration": 23,
    "start_time": "2024-01-09T14:13:26.923Z"
   },
   {
    "duration": 2566,
    "start_time": "2024-01-09T14:35:08.292Z"
   },
   {
    "duration": 1494,
    "start_time": "2024-01-09T14:35:10.860Z"
   },
   {
    "duration": 405,
    "start_time": "2024-01-09T14:35:12.356Z"
   },
   {
    "duration": 12,
    "start_time": "2024-01-09T14:35:42.020Z"
   },
   {
    "duration": 16,
    "start_time": "2024-01-09T14:35:42.290Z"
   },
   {
    "duration": 10,
    "start_time": "2024-01-09T14:35:42.518Z"
   },
   {
    "duration": 15,
    "start_time": "2024-01-09T14:35:42.771Z"
   },
   {
    "duration": 10,
    "start_time": "2024-01-09T14:35:43.004Z"
   },
   {
    "duration": 15,
    "start_time": "2024-01-09T14:35:43.234Z"
   },
   {
    "duration": 11,
    "start_time": "2024-01-09T14:35:44.427Z"
   },
   {
    "duration": 4,
    "start_time": "2024-01-09T14:35:44.871Z"
   },
   {
    "duration": 97,
    "start_time": "2024-01-09T14:35:45.522Z"
   },
   {
    "duration": 41,
    "start_time": "2024-01-09T14:35:46.432Z"
   },
   {
    "duration": 38,
    "start_time": "2024-01-09T14:35:46.643Z"
   },
   {
    "duration": 37,
    "start_time": "2024-01-09T14:35:46.851Z"
   },
   {
    "duration": 8,
    "start_time": "2024-01-09T14:35:47.296Z"
   },
   {
    "duration": 1262,
    "start_time": "2024-01-09T14:35:47.858Z"
   },
   {
    "duration": 848,
    "start_time": "2024-01-09T14:35:49.122Z"
   },
   {
    "duration": 1193,
    "start_time": "2024-01-09T14:35:49.972Z"
   },
   {
    "duration": 767,
    "start_time": "2024-01-09T14:35:51.167Z"
   },
   {
    "duration": 1496,
    "start_time": "2024-01-09T14:35:51.935Z"
   },
   {
    "duration": 814,
    "start_time": "2024-01-09T14:35:53.432Z"
   },
   {
    "duration": 5,
    "start_time": "2024-01-09T14:35:54.248Z"
   },
   {
    "duration": 8,
    "start_time": "2024-01-09T14:35:54.255Z"
   },
   {
    "duration": 1935,
    "start_time": "2024-01-09T14:35:54.264Z"
   },
   {
    "duration": 3,
    "start_time": "2024-01-09T14:35:56.201Z"
   },
   {
    "duration": 48,
    "start_time": "2024-01-09T14:35:56.206Z"
   },
   {
    "duration": 3,
    "start_time": "2024-01-09T14:35:56.318Z"
   },
   {
    "duration": 202,
    "start_time": "2024-01-09T14:35:57.473Z"
   },
   {
    "duration": 10,
    "start_time": "2024-01-09T14:35:58.111Z"
   },
   {
    "duration": 9,
    "start_time": "2024-01-09T14:36:01.100Z"
   },
   {
    "duration": 4,
    "start_time": "2024-01-09T14:36:03.208Z"
   },
   {
    "duration": 3,
    "start_time": "2024-01-09T14:36:04.019Z"
   },
   {
    "duration": 4,
    "start_time": "2024-01-09T14:36:04.425Z"
   },
   {
    "duration": 6,
    "start_time": "2024-01-09T14:36:07.065Z"
   },
   {
    "duration": 3,
    "start_time": "2024-01-09T14:36:07.613Z"
   },
   {
    "duration": 23,
    "start_time": "2024-01-09T14:36:10.609Z"
   },
   {
    "duration": 4,
    "start_time": "2024-01-09T14:36:14.303Z"
   },
   {
    "duration": 115,
    "start_time": "2024-01-09T14:36:15.003Z"
   },
   {
    "duration": 4,
    "start_time": "2024-01-09T14:36:39.747Z"
   },
   {
    "duration": 1405,
    "start_time": "2024-01-09T14:36:40.450Z"
   },
   {
    "duration": 4,
    "start_time": "2024-01-09T14:37:06.755Z"
   },
   {
    "duration": 4110,
    "start_time": "2024-01-09T14:37:07.182Z"
   },
   {
    "duration": 13,
    "start_time": "2024-01-09T14:37:13.437Z"
   },
   {
    "duration": 2582,
    "start_time": "2024-01-09T14:41:59.024Z"
   },
   {
    "duration": 1433,
    "start_time": "2024-01-09T14:42:01.609Z"
   },
   {
    "duration": 437,
    "start_time": "2024-01-09T14:42:03.043Z"
   },
   {
    "duration": 18,
    "start_time": "2024-01-09T14:42:03.483Z"
   },
   {
    "duration": 22,
    "start_time": "2024-01-09T14:42:03.503Z"
   },
   {
    "duration": 10,
    "start_time": "2024-01-09T14:42:03.526Z"
   },
   {
    "duration": 37,
    "start_time": "2024-01-09T14:42:03.537Z"
   },
   {
    "duration": 9,
    "start_time": "2024-01-09T14:42:03.576Z"
   },
   {
    "duration": 35,
    "start_time": "2024-01-09T14:42:03.586Z"
   },
   {
    "duration": 25,
    "start_time": "2024-01-09T14:42:03.624Z"
   },
   {
    "duration": 13,
    "start_time": "2024-01-09T14:42:03.651Z"
   },
   {
    "duration": 102,
    "start_time": "2024-01-09T14:42:03.666Z"
   },
   {
    "duration": 39,
    "start_time": "2024-01-09T14:42:03.770Z"
   },
   {
    "duration": 38,
    "start_time": "2024-01-09T14:42:03.811Z"
   },
   {
    "duration": 45,
    "start_time": "2024-01-09T14:42:03.851Z"
   },
   {
    "duration": 8,
    "start_time": "2024-01-09T14:42:03.898Z"
   },
   {
    "duration": 1293,
    "start_time": "2024-01-09T14:42:03.908Z"
   },
   {
    "duration": 819,
    "start_time": "2024-01-09T14:42:05.203Z"
   },
   {
    "duration": 1218,
    "start_time": "2024-01-09T14:42:06.024Z"
   },
   {
    "duration": 859,
    "start_time": "2024-01-09T14:42:07.244Z"
   },
   {
    "duration": 1485,
    "start_time": "2024-01-09T14:42:08.105Z"
   },
   {
    "duration": 811,
    "start_time": "2024-01-09T14:42:09.591Z"
   },
   {
    "duration": 5,
    "start_time": "2024-01-09T14:42:10.403Z"
   },
   {
    "duration": 17,
    "start_time": "2024-01-09T14:42:10.410Z"
   },
   {
    "duration": 1973,
    "start_time": "2024-01-09T14:42:10.429Z"
   },
   {
    "duration": 4,
    "start_time": "2024-01-09T14:42:12.404Z"
   },
   {
    "duration": 30,
    "start_time": "2024-01-09T14:42:12.409Z"
   },
   {
    "duration": 3,
    "start_time": "2024-01-09T14:42:12.442Z"
   },
   {
    "duration": 229,
    "start_time": "2024-01-09T14:42:12.446Z"
   },
   {
    "duration": 103,
    "start_time": "2024-01-09T14:42:12.678Z"
   },
   {
    "duration": 94,
    "start_time": "2024-01-09T14:42:12.783Z"
   },
   {
    "duration": 13,
    "start_time": "2024-01-09T14:42:12.879Z"
   },
   {
    "duration": 5,
    "start_time": "2024-01-09T14:42:12.893Z"
   },
   {
    "duration": 4,
    "start_time": "2024-01-09T14:42:12.899Z"
   },
   {
    "duration": 4,
    "start_time": "2024-01-09T14:42:12.905Z"
   },
   {
    "duration": 4,
    "start_time": "2024-01-09T14:42:12.911Z"
   },
   {
    "duration": 23,
    "start_time": "2024-01-09T14:42:12.916Z"
   },
   {
    "duration": 4,
    "start_time": "2024-01-09T14:42:12.941Z"
   },
   {
    "duration": 4176,
    "start_time": "2024-01-09T14:42:12.972Z"
   },
   {
    "duration": 12,
    "start_time": "2024-01-09T14:42:17.149Z"
   },
   {
    "duration": 14,
    "start_time": "2024-01-09T14:45:07.271Z"
   },
   {
    "duration": 12,
    "start_time": "2024-01-09T14:49:30.574Z"
   },
   {
    "duration": 13,
    "start_time": "2024-01-09T14:50:31.441Z"
   },
   {
    "duration": 16,
    "start_time": "2024-01-09T14:50:41.330Z"
   },
   {
    "duration": 13,
    "start_time": "2024-01-09T14:50:51.372Z"
   },
   {
    "duration": 17,
    "start_time": "2024-01-09T14:50:58.651Z"
   },
   {
    "duration": 18,
    "start_time": "2024-01-09T14:51:05.558Z"
   },
   {
    "duration": 13,
    "start_time": "2024-01-09T14:51:28.902Z"
   },
   {
    "duration": 11,
    "start_time": "2024-01-09T14:53:33.911Z"
   },
   {
    "duration": 12,
    "start_time": "2024-01-09T14:54:08.413Z"
   },
   {
    "duration": 11,
    "start_time": "2024-01-09T14:54:16.942Z"
   },
   {
    "duration": 2564,
    "start_time": "2024-01-09T14:54:35.203Z"
   },
   {
    "duration": 1666,
    "start_time": "2024-01-09T14:54:37.770Z"
   },
   {
    "duration": 477,
    "start_time": "2024-01-09T14:54:39.437Z"
   },
   {
    "duration": 12,
    "start_time": "2024-01-09T14:54:39.917Z"
   },
   {
    "duration": 18,
    "start_time": "2024-01-09T14:54:39.931Z"
   },
   {
    "duration": 9,
    "start_time": "2024-01-09T14:54:39.951Z"
   },
   {
    "duration": 15,
    "start_time": "2024-01-09T14:54:39.973Z"
   },
   {
    "duration": 19,
    "start_time": "2024-01-09T14:54:39.990Z"
   },
   {
    "duration": 40,
    "start_time": "2024-01-09T14:54:40.010Z"
   },
   {
    "duration": 10,
    "start_time": "2024-01-09T14:54:40.053Z"
   },
   {
    "duration": 10,
    "start_time": "2024-01-09T14:54:40.064Z"
   },
   {
    "duration": 98,
    "start_time": "2024-01-09T14:54:40.076Z"
   },
   {
    "duration": 39,
    "start_time": "2024-01-09T14:54:40.176Z"
   },
   {
    "duration": 58,
    "start_time": "2024-01-09T14:54:40.217Z"
   },
   {
    "duration": 35,
    "start_time": "2024-01-09T14:54:40.277Z"
   },
   {
    "duration": 9,
    "start_time": "2024-01-09T14:54:40.314Z"
   },
   {
    "duration": 1248,
    "start_time": "2024-01-09T14:54:40.325Z"
   },
   {
    "duration": 846,
    "start_time": "2024-01-09T14:54:41.574Z"
   },
   {
    "duration": 1174,
    "start_time": "2024-01-09T14:54:42.422Z"
   },
   {
    "duration": 829,
    "start_time": "2024-01-09T14:54:43.598Z"
   },
   {
    "duration": 1486,
    "start_time": "2024-01-09T14:54:44.429Z"
   },
   {
    "duration": 790,
    "start_time": "2024-01-09T14:54:45.916Z"
   },
   {
    "duration": 4,
    "start_time": "2024-01-09T14:54:46.708Z"
   },
   {
    "duration": 4,
    "start_time": "2024-01-09T14:54:46.714Z"
   },
   {
    "duration": 2044,
    "start_time": "2024-01-09T14:54:46.719Z"
   },
   {
    "duration": 5,
    "start_time": "2024-01-09T14:54:48.773Z"
   },
   {
    "duration": 44,
    "start_time": "2024-01-09T14:54:48.780Z"
   },
   {
    "duration": 3,
    "start_time": "2024-01-09T14:54:48.829Z"
   },
   {
    "duration": 145,
    "start_time": "2024-01-09T14:54:48.834Z"
   },
   {
    "duration": 97,
    "start_time": "2024-01-09T14:54:48.982Z"
   },
   {
    "duration": 101,
    "start_time": "2024-01-09T14:54:49.081Z"
   },
   {
    "duration": 8,
    "start_time": "2024-01-09T14:54:49.184Z"
   },
   {
    "duration": 13,
    "start_time": "2024-01-09T14:54:49.194Z"
   },
   {
    "duration": 6,
    "start_time": "2024-01-09T14:54:49.209Z"
   },
   {
    "duration": 15,
    "start_time": "2024-01-09T14:54:49.216Z"
   },
   {
    "duration": 6,
    "start_time": "2024-01-09T14:54:49.233Z"
   },
   {
    "duration": 44,
    "start_time": "2024-01-09T14:54:49.241Z"
   },
   {
    "duration": 5,
    "start_time": "2024-01-09T14:54:49.287Z"
   },
   {
    "duration": 4275,
    "start_time": "2024-01-09T14:54:49.293Z"
   },
   {
    "duration": 10,
    "start_time": "2024-01-09T14:54:53.572Z"
   },
   {
    "duration": 2605,
    "start_time": "2024-01-09T17:29:24.652Z"
   },
   {
    "duration": 1608,
    "start_time": "2024-01-09T17:29:27.259Z"
   },
   {
    "duration": 427,
    "start_time": "2024-01-09T17:29:28.870Z"
   },
   {
    "duration": 13,
    "start_time": "2024-01-09T17:29:29.299Z"
   },
   {
    "duration": 26,
    "start_time": "2024-01-09T17:29:29.314Z"
   },
   {
    "duration": 9,
    "start_time": "2024-01-09T17:29:29.342Z"
   },
   {
    "duration": 24,
    "start_time": "2024-01-09T17:29:29.352Z"
   },
   {
    "duration": 8,
    "start_time": "2024-01-09T17:29:29.378Z"
   },
   {
    "duration": 18,
    "start_time": "2024-01-09T17:29:29.387Z"
   },
   {
    "duration": 11,
    "start_time": "2024-01-09T17:29:29.407Z"
   },
   {
    "duration": 5,
    "start_time": "2024-01-09T17:29:29.419Z"
   },
   {
    "duration": 109,
    "start_time": "2024-01-09T17:29:29.425Z"
   },
   {
    "duration": 47,
    "start_time": "2024-01-09T17:29:29.535Z"
   },
   {
    "duration": 37,
    "start_time": "2024-01-09T17:29:29.584Z"
   },
   {
    "duration": 52,
    "start_time": "2024-01-09T17:29:29.622Z"
   },
   {
    "duration": 9,
    "start_time": "2024-01-09T17:29:29.676Z"
   },
   {
    "duration": 1310,
    "start_time": "2024-01-09T17:29:29.687Z"
   },
   {
    "duration": 834,
    "start_time": "2024-01-09T17:29:30.999Z"
   },
   {
    "duration": 1254,
    "start_time": "2024-01-09T17:29:31.835Z"
   },
   {
    "duration": 835,
    "start_time": "2024-01-09T17:29:33.091Z"
   },
   {
    "duration": 1628,
    "start_time": "2024-01-09T17:29:33.928Z"
   },
   {
    "duration": 985,
    "start_time": "2024-01-09T17:29:35.559Z"
   },
   {
    "duration": 5,
    "start_time": "2024-01-09T17:29:36.546Z"
   },
   {
    "duration": 8,
    "start_time": "2024-01-09T17:29:36.552Z"
   },
   {
    "duration": 2066,
    "start_time": "2024-01-09T17:29:36.572Z"
   },
   {
    "duration": 4,
    "start_time": "2024-01-09T17:29:38.640Z"
   },
   {
    "duration": 58,
    "start_time": "2024-01-09T17:29:38.645Z"
   },
   {
    "duration": 3,
    "start_time": "2024-01-09T17:29:38.708Z"
   },
   {
    "duration": 262,
    "start_time": "2024-01-09T17:29:38.713Z"
   },
   {
    "duration": 97,
    "start_time": "2024-01-09T17:29:38.977Z"
   },
   {
    "duration": 16,
    "start_time": "2024-01-09T17:29:39.076Z"
   },
   {
    "duration": 5,
    "start_time": "2024-01-09T17:29:39.095Z"
   },
   {
    "duration": 15,
    "start_time": "2024-01-09T17:29:39.102Z"
   },
   {
    "duration": 19,
    "start_time": "2024-01-09T17:29:39.119Z"
   },
   {
    "duration": 36,
    "start_time": "2024-01-09T17:29:39.140Z"
   },
   {
    "duration": 5,
    "start_time": "2024-01-09T17:29:39.179Z"
   },
   {
    "duration": 34,
    "start_time": "2024-01-09T17:29:39.186Z"
   },
   {
    "duration": 6,
    "start_time": "2024-01-09T17:29:39.222Z"
   },
   {
    "duration": 4450,
    "start_time": "2024-01-09T17:29:39.231Z"
   },
   {
    "duration": 12,
    "start_time": "2024-01-09T17:29:43.683Z"
   },
   {
    "duration": 2610,
    "start_time": "2024-01-09T17:38:52.712Z"
   },
   {
    "duration": 1423,
    "start_time": "2024-01-09T17:38:55.324Z"
   },
   {
    "duration": 446,
    "start_time": "2024-01-09T17:38:56.749Z"
   },
   {
    "duration": 14,
    "start_time": "2024-01-09T17:38:57.197Z"
   },
   {
    "duration": 16,
    "start_time": "2024-01-09T17:38:57.212Z"
   },
   {
    "duration": 9,
    "start_time": "2024-01-09T17:38:57.229Z"
   },
   {
    "duration": 36,
    "start_time": "2024-01-09T17:38:57.240Z"
   },
   {
    "duration": 9,
    "start_time": "2024-01-09T17:38:57.277Z"
   },
   {
    "duration": 14,
    "start_time": "2024-01-09T17:38:57.288Z"
   },
   {
    "duration": 10,
    "start_time": "2024-01-09T17:38:57.306Z"
   },
   {
    "duration": 10,
    "start_time": "2024-01-09T17:38:57.318Z"
   },
   {
    "duration": 115,
    "start_time": "2024-01-09T17:38:57.330Z"
   },
   {
    "duration": 53,
    "start_time": "2024-01-09T17:38:57.447Z"
   },
   {
    "duration": 37,
    "start_time": "2024-01-09T17:38:57.502Z"
   },
   {
    "duration": 49,
    "start_time": "2024-01-09T17:38:57.541Z"
   },
   {
    "duration": 8,
    "start_time": "2024-01-09T17:38:57.591Z"
   },
   {
    "duration": 1260,
    "start_time": "2024-01-09T17:38:57.601Z"
   },
   {
    "duration": 831,
    "start_time": "2024-01-09T17:38:58.863Z"
   },
   {
    "duration": 1206,
    "start_time": "2024-01-09T17:38:59.697Z"
   },
   {
    "duration": 857,
    "start_time": "2024-01-09T17:39:00.905Z"
   },
   {
    "duration": 1455,
    "start_time": "2024-01-09T17:39:01.764Z"
   },
   {
    "duration": 889,
    "start_time": "2024-01-09T17:39:03.222Z"
   },
   {
    "duration": 4,
    "start_time": "2024-01-09T17:39:04.113Z"
   },
   {
    "duration": 6,
    "start_time": "2024-01-09T17:39:04.118Z"
   },
   {
    "duration": 1911,
    "start_time": "2024-01-09T17:39:04.125Z"
   },
   {
    "duration": 3,
    "start_time": "2024-01-09T17:39:06.038Z"
   },
   {
    "duration": 39,
    "start_time": "2024-01-09T17:39:06.043Z"
   },
   {
    "duration": 4,
    "start_time": "2024-01-09T17:39:06.085Z"
   },
   {
    "duration": 190,
    "start_time": "2024-01-09T17:39:06.091Z"
   },
   {
    "duration": 102,
    "start_time": "2024-01-09T17:39:06.372Z"
   },
   {
    "duration": 17,
    "start_time": "2024-01-09T17:39:06.476Z"
   },
   {
    "duration": 4,
    "start_time": "2024-01-09T17:39:06.495Z"
   },
   {
    "duration": 6,
    "start_time": "2024-01-09T17:39:06.501Z"
   },
   {
    "duration": 5,
    "start_time": "2024-01-09T17:39:06.509Z"
   },
   {
    "duration": 5,
    "start_time": "2024-01-09T17:39:06.515Z"
   },
   {
    "duration": 4,
    "start_time": "2024-01-09T17:39:06.521Z"
   },
   {
    "duration": 58,
    "start_time": "2024-01-09T17:39:06.526Z"
   },
   {
    "duration": 5,
    "start_time": "2024-01-09T17:39:06.585Z"
   },
   {
    "duration": 4112,
    "start_time": "2024-01-09T17:39:06.591Z"
   },
   {
    "duration": 11,
    "start_time": "2024-01-09T17:39:10.705Z"
   },
   {
    "duration": 13,
    "start_time": "2024-01-09T17:39:43.417Z"
   },
   {
    "duration": 1045,
    "start_time": "2024-01-09T17:43:10.453Z"
   },
   {
    "duration": 15,
    "start_time": "2024-01-09T17:43:21.634Z"
   },
   {
    "duration": 2857,
    "start_time": "2024-01-09T18:18:04.385Z"
   },
   {
    "duration": 1459,
    "start_time": "2024-01-09T18:18:07.244Z"
   },
   {
    "duration": 435,
    "start_time": "2024-01-09T18:18:08.706Z"
   },
   {
    "duration": 13,
    "start_time": "2024-01-09T18:18:09.143Z"
   },
   {
    "duration": 36,
    "start_time": "2024-01-09T18:18:09.158Z"
   },
   {
    "duration": 9,
    "start_time": "2024-01-09T18:18:09.195Z"
   },
   {
    "duration": 44,
    "start_time": "2024-01-09T18:18:09.206Z"
   },
   {
    "duration": 9,
    "start_time": "2024-01-09T18:18:09.252Z"
   },
   {
    "duration": 22,
    "start_time": "2024-01-09T18:18:09.263Z"
   },
   {
    "duration": 12,
    "start_time": "2024-01-09T18:18:09.287Z"
   },
   {
    "duration": 12,
    "start_time": "2024-01-09T18:18:09.301Z"
   },
   {
    "duration": 98,
    "start_time": "2024-01-09T18:18:09.314Z"
   },
   {
    "duration": 39,
    "start_time": "2024-01-09T18:18:09.415Z"
   },
   {
    "duration": 61,
    "start_time": "2024-01-09T18:18:09.455Z"
   },
   {
    "duration": 36,
    "start_time": "2024-01-09T18:18:09.518Z"
   },
   {
    "duration": 21,
    "start_time": "2024-01-09T18:18:09.555Z"
   },
   {
    "duration": 1284,
    "start_time": "2024-01-09T18:18:09.579Z"
   },
   {
    "duration": 956,
    "start_time": "2024-01-09T18:18:10.872Z"
   },
   {
    "duration": 1248,
    "start_time": "2024-01-09T18:18:11.829Z"
   },
   {
    "duration": 873,
    "start_time": "2024-01-09T18:18:13.079Z"
   },
   {
    "duration": 1555,
    "start_time": "2024-01-09T18:18:13.953Z"
   },
   {
    "duration": 835,
    "start_time": "2024-01-09T18:18:15.510Z"
   },
   {
    "duration": 4,
    "start_time": "2024-01-09T18:18:16.347Z"
   },
   {
    "duration": 5,
    "start_time": "2024-01-09T18:18:16.352Z"
   },
   {
    "duration": 2054,
    "start_time": "2024-01-09T18:18:16.358Z"
   },
   {
    "duration": 3,
    "start_time": "2024-01-09T18:18:18.414Z"
   },
   {
    "duration": 26,
    "start_time": "2024-01-09T18:18:18.419Z"
   },
   {
    "duration": 7,
    "start_time": "2024-01-09T18:18:18.447Z"
   },
   {
    "duration": 124,
    "start_time": "2024-01-09T18:18:18.457Z"
   },
   {
    "duration": 97,
    "start_time": "2024-01-09T18:18:18.583Z"
   },
   {
    "duration": 95,
    "start_time": "2024-01-09T18:18:18.682Z"
   },
   {
    "duration": 9,
    "start_time": "2024-01-09T18:18:18.779Z"
   },
   {
    "duration": 3,
    "start_time": "2024-01-09T18:18:18.789Z"
   },
   {
    "duration": 6,
    "start_time": "2024-01-09T18:18:18.794Z"
   },
   {
    "duration": 12,
    "start_time": "2024-01-09T18:18:18.801Z"
   },
   {
    "duration": 16,
    "start_time": "2024-01-09T18:18:18.814Z"
   },
   {
    "duration": 27,
    "start_time": "2024-01-09T18:18:18.832Z"
   },
   {
    "duration": 4,
    "start_time": "2024-01-09T18:18:18.860Z"
   },
   {
    "duration": 4266,
    "start_time": "2024-01-09T18:18:18.873Z"
   },
   {
    "duration": 13,
    "start_time": "2024-01-09T18:18:23.143Z"
   },
   {
    "duration": 6,
    "start_time": "2024-01-09T18:20:12.597Z"
   },
   {
    "duration": 2680,
    "start_time": "2024-01-09T18:26:33.883Z"
   },
   {
    "duration": 1534,
    "start_time": "2024-01-09T18:26:36.566Z"
   },
   {
    "duration": 445,
    "start_time": "2024-01-09T18:26:38.102Z"
   },
   {
    "duration": 14,
    "start_time": "2024-01-09T18:26:38.549Z"
   },
   {
    "duration": 32,
    "start_time": "2024-01-09T18:26:38.564Z"
   },
   {
    "duration": 13,
    "start_time": "2024-01-09T18:26:38.598Z"
   },
   {
    "duration": 42,
    "start_time": "2024-01-09T18:26:38.613Z"
   },
   {
    "duration": 9,
    "start_time": "2024-01-09T18:26:38.657Z"
   },
   {
    "duration": 31,
    "start_time": "2024-01-09T18:26:38.667Z"
   },
   {
    "duration": 25,
    "start_time": "2024-01-09T18:26:38.701Z"
   },
   {
    "duration": 17,
    "start_time": "2024-01-09T18:26:38.728Z"
   },
   {
    "duration": 107,
    "start_time": "2024-01-09T18:26:38.746Z"
   },
   {
    "duration": 45,
    "start_time": "2024-01-09T18:26:38.855Z"
   },
   {
    "duration": 45,
    "start_time": "2024-01-09T18:26:38.902Z"
   },
   {
    "duration": 46,
    "start_time": "2024-01-09T18:26:38.948Z"
   },
   {
    "duration": 8,
    "start_time": "2024-01-09T18:26:38.996Z"
   },
   {
    "duration": 1339,
    "start_time": "2024-01-09T18:26:39.006Z"
   },
   {
    "duration": 907,
    "start_time": "2024-01-09T18:26:40.347Z"
   },
   {
    "duration": 1257,
    "start_time": "2024-01-09T18:26:41.256Z"
   },
   {
    "duration": 948,
    "start_time": "2024-01-09T18:26:42.515Z"
   },
   {
    "duration": 1559,
    "start_time": "2024-01-09T18:26:43.474Z"
   },
   {
    "duration": 886,
    "start_time": "2024-01-09T18:26:45.035Z"
   },
   {
    "duration": 4,
    "start_time": "2024-01-09T18:26:45.923Z"
   },
   {
    "duration": 6,
    "start_time": "2024-01-09T18:26:45.928Z"
   },
   {
    "duration": 2086,
    "start_time": "2024-01-09T18:26:45.935Z"
   },
   {
    "duration": 4,
    "start_time": "2024-01-09T18:26:48.022Z"
   },
   {
    "duration": 37,
    "start_time": "2024-01-09T18:26:48.027Z"
   },
   {
    "duration": 4,
    "start_time": "2024-01-09T18:26:48.072Z"
   },
   {
    "duration": 210,
    "start_time": "2024-01-09T18:26:48.078Z"
   },
   {
    "duration": 17,
    "start_time": "2024-01-09T18:26:48.374Z"
   },
   {
    "duration": 16,
    "start_time": "2024-01-09T18:26:48.472Z"
   },
   {
    "duration": 14,
    "start_time": "2024-01-09T18:26:48.489Z"
   },
   {
    "duration": 8,
    "start_time": "2024-01-09T18:26:48.505Z"
   },
   {
    "duration": 6,
    "start_time": "2024-01-09T18:26:48.515Z"
   },
   {
    "duration": 11,
    "start_time": "2024-01-09T18:26:48.522Z"
   },
   {
    "duration": 11,
    "start_time": "2024-01-09T18:26:48.535Z"
   },
   {
    "duration": 51,
    "start_time": "2024-01-09T18:26:48.547Z"
   },
   {
    "duration": 5,
    "start_time": "2024-01-09T18:26:48.599Z"
   },
   {
    "duration": 4378,
    "start_time": "2024-01-09T18:26:48.605Z"
   },
   {
    "duration": 15,
    "start_time": "2024-01-09T18:26:52.985Z"
   },
   {
    "duration": 2681,
    "start_time": "2024-01-09T18:29:41.878Z"
   },
   {
    "duration": 1693,
    "start_time": "2024-01-09T18:29:44.561Z"
   },
   {
    "duration": 446,
    "start_time": "2024-01-09T18:29:46.255Z"
   },
   {
    "duration": 14,
    "start_time": "2024-01-09T18:29:46.703Z"
   },
   {
    "duration": 15,
    "start_time": "2024-01-09T18:29:46.719Z"
   },
   {
    "duration": 9,
    "start_time": "2024-01-09T18:29:46.736Z"
   },
   {
    "duration": 43,
    "start_time": "2024-01-09T18:29:46.746Z"
   },
   {
    "duration": 9,
    "start_time": "2024-01-09T18:29:46.791Z"
   },
   {
    "duration": 34,
    "start_time": "2024-01-09T18:29:46.802Z"
   },
   {
    "duration": 13,
    "start_time": "2024-01-09T18:29:46.839Z"
   },
   {
    "duration": 15,
    "start_time": "2024-01-09T18:29:46.853Z"
   },
   {
    "duration": 99,
    "start_time": "2024-01-09T18:29:46.870Z"
   },
   {
    "duration": 47,
    "start_time": "2024-01-09T18:29:46.972Z"
   },
   {
    "duration": 64,
    "start_time": "2024-01-09T18:29:47.020Z"
   },
   {
    "duration": 40,
    "start_time": "2024-01-09T18:29:47.086Z"
   },
   {
    "duration": 8,
    "start_time": "2024-01-09T18:29:47.128Z"
   },
   {
    "duration": 1301,
    "start_time": "2024-01-09T18:29:47.138Z"
   },
   {
    "duration": 891,
    "start_time": "2024-01-09T18:29:48.441Z"
   },
   {
    "duration": 1221,
    "start_time": "2024-01-09T18:29:49.334Z"
   },
   {
    "duration": 878,
    "start_time": "2024-01-09T18:29:50.557Z"
   },
   {
    "duration": 1523,
    "start_time": "2024-01-09T18:29:51.437Z"
   },
   {
    "duration": 859,
    "start_time": "2024-01-09T18:29:52.961Z"
   },
   {
    "duration": 4,
    "start_time": "2024-01-09T18:29:53.822Z"
   },
   {
    "duration": 5,
    "start_time": "2024-01-09T18:29:53.827Z"
   },
   {
    "duration": 2050,
    "start_time": "2024-01-09T18:29:53.833Z"
   },
   {
    "duration": 4,
    "start_time": "2024-01-09T18:29:55.889Z"
   },
   {
    "duration": 35,
    "start_time": "2024-01-09T18:29:55.894Z"
   },
   {
    "duration": 3,
    "start_time": "2024-01-09T18:29:55.932Z"
   },
   {
    "duration": 148,
    "start_time": "2024-01-09T18:29:55.936Z"
   },
   {
    "duration": 95,
    "start_time": "2024-01-09T18:29:56.087Z"
   },
   {
    "duration": 12,
    "start_time": "2024-01-09T18:29:56.184Z"
   },
   {
    "duration": 11,
    "start_time": "2024-01-09T18:29:56.198Z"
   },
   {
    "duration": 4,
    "start_time": "2024-01-09T18:29:56.211Z"
   },
   {
    "duration": 4,
    "start_time": "2024-01-09T18:29:56.217Z"
   },
   {
    "duration": 5,
    "start_time": "2024-01-09T18:29:56.222Z"
   },
   {
    "duration": 3,
    "start_time": "2024-01-09T18:29:56.229Z"
   },
   {
    "duration": 51,
    "start_time": "2024-01-09T18:29:56.233Z"
   },
   {
    "duration": 6,
    "start_time": "2024-01-09T18:29:56.287Z"
   },
   {
    "duration": 4252,
    "start_time": "2024-01-09T18:29:56.294Z"
   },
   {
    "duration": 20,
    "start_time": "2024-01-09T18:30:00.548Z"
   },
   {
    "duration": 4136,
    "start_time": "2024-01-09T20:12:00.594Z"
   },
   {
    "duration": 1748,
    "start_time": "2024-01-09T20:12:04.733Z"
   },
   {
    "duration": 721,
    "start_time": "2024-01-09T20:12:06.483Z"
   },
   {
    "duration": 13,
    "start_time": "2024-01-09T20:12:07.206Z"
   },
   {
    "duration": 14,
    "start_time": "2024-01-09T20:12:07.220Z"
   },
   {
    "duration": 11,
    "start_time": "2024-01-09T20:12:07.235Z"
   },
   {
    "duration": 13,
    "start_time": "2024-01-09T20:12:07.248Z"
   },
   {
    "duration": 7,
    "start_time": "2024-01-09T20:12:07.263Z"
   },
   {
    "duration": 19,
    "start_time": "2024-01-09T20:12:07.272Z"
   },
   {
    "duration": 42,
    "start_time": "2024-01-09T20:12:07.294Z"
   },
   {
    "duration": 14,
    "start_time": "2024-01-09T20:12:07.337Z"
   },
   {
    "duration": 78,
    "start_time": "2024-01-09T20:12:07.352Z"
   },
   {
    "duration": 39,
    "start_time": "2024-01-09T20:12:07.432Z"
   },
   {
    "duration": 33,
    "start_time": "2024-01-09T20:12:07.473Z"
   },
   {
    "duration": 40,
    "start_time": "2024-01-09T20:12:07.508Z"
   },
   {
    "duration": 6,
    "start_time": "2024-01-09T20:12:07.550Z"
   },
   {
    "duration": 1089,
    "start_time": "2024-01-09T20:12:07.557Z"
   },
   {
    "duration": 798,
    "start_time": "2024-01-09T20:12:08.647Z"
   },
   {
    "duration": 1006,
    "start_time": "2024-01-09T20:12:09.446Z"
   },
   {
    "duration": 760,
    "start_time": "2024-01-09T20:12:10.453Z"
   },
   {
    "duration": 1254,
    "start_time": "2024-01-09T20:12:11.214Z"
   },
   {
    "duration": 651,
    "start_time": "2024-01-09T20:12:12.470Z"
   },
   {
    "duration": 3,
    "start_time": "2024-01-09T20:12:13.123Z"
   },
   {
    "duration": 5,
    "start_time": "2024-01-09T20:12:13.127Z"
   },
   {
    "duration": 1699,
    "start_time": "2024-01-09T20:12:13.133Z"
   },
   {
    "duration": 3,
    "start_time": "2024-01-09T20:12:14.834Z"
   },
   {
    "duration": 22,
    "start_time": "2024-01-09T20:12:14.845Z"
   },
   {
    "duration": 3,
    "start_time": "2024-01-09T20:12:14.870Z"
   },
   {
    "duration": 174,
    "start_time": "2024-01-09T20:12:14.874Z"
   },
   {
    "duration": 102,
    "start_time": "2024-01-09T20:12:15.050Z"
   },
   {
    "duration": 93,
    "start_time": "2024-01-09T20:12:15.154Z"
   },
   {
    "duration": 11,
    "start_time": "2024-01-09T20:12:15.248Z"
   },
   {
    "duration": 3,
    "start_time": "2024-01-09T20:12:15.260Z"
   },
   {
    "duration": 17,
    "start_time": "2024-01-09T20:12:15.265Z"
   },
   {
    "duration": 5,
    "start_time": "2024-01-09T20:12:15.283Z"
   },
   {
    "duration": 3,
    "start_time": "2024-01-09T20:12:15.290Z"
   },
   {
    "duration": 28,
    "start_time": "2024-01-09T20:12:15.294Z"
   },
   {
    "duration": 3,
    "start_time": "2024-01-09T20:12:15.324Z"
   },
   {
    "duration": 6388,
    "start_time": "2024-01-09T20:12:15.329Z"
   },
   {
    "duration": 12,
    "start_time": "2024-01-09T20:12:21.719Z"
   },
   {
    "duration": 2186,
    "start_time": "2024-01-09T20:13:09.347Z"
   },
   {
    "duration": 1542,
    "start_time": "2024-01-09T20:13:11.536Z"
   },
   {
    "duration": 373,
    "start_time": "2024-01-09T20:13:13.079Z"
   },
   {
    "duration": 16,
    "start_time": "2024-01-09T20:13:13.454Z"
   },
   {
    "duration": 15,
    "start_time": "2024-01-09T20:13:13.472Z"
   },
   {
    "duration": 7,
    "start_time": "2024-01-09T20:13:13.489Z"
   },
   {
    "duration": 13,
    "start_time": "2024-01-09T20:13:13.497Z"
   },
   {
    "duration": 8,
    "start_time": "2024-01-09T20:13:13.511Z"
   },
   {
    "duration": 28,
    "start_time": "2024-01-09T20:13:13.545Z"
   },
   {
    "duration": 11,
    "start_time": "2024-01-09T20:13:13.576Z"
   },
   {
    "duration": 5,
    "start_time": "2024-01-09T20:13:13.589Z"
   },
   {
    "duration": 83,
    "start_time": "2024-01-09T20:13:13.595Z"
   },
   {
    "duration": 36,
    "start_time": "2024-01-09T20:13:13.679Z"
   },
   {
    "duration": 51,
    "start_time": "2024-01-09T20:13:13.717Z"
   },
   {
    "duration": 30,
    "start_time": "2024-01-09T20:13:13.770Z"
   },
   {
    "duration": 7,
    "start_time": "2024-01-09T20:13:13.802Z"
   },
   {
    "duration": 1083,
    "start_time": "2024-01-09T20:13:13.811Z"
   },
   {
    "duration": 719,
    "start_time": "2024-01-09T20:13:14.896Z"
   },
   {
    "duration": 1001,
    "start_time": "2024-01-09T20:13:15.617Z"
   },
   {
    "duration": 716,
    "start_time": "2024-01-09T20:13:16.620Z"
   },
   {
    "duration": 1333,
    "start_time": "2024-01-09T20:13:17.338Z"
   },
   {
    "duration": 665,
    "start_time": "2024-01-09T20:13:18.673Z"
   },
   {
    "duration": 7,
    "start_time": "2024-01-09T20:13:19.340Z"
   },
   {
    "duration": 5,
    "start_time": "2024-01-09T20:13:19.349Z"
   },
   {
    "duration": 1684,
    "start_time": "2024-01-09T20:13:19.355Z"
   },
   {
    "duration": 4,
    "start_time": "2024-01-09T20:13:21.045Z"
   },
   {
    "duration": 51,
    "start_time": "2024-01-09T20:13:21.050Z"
   },
   {
    "duration": 3,
    "start_time": "2024-01-09T20:13:21.104Z"
   },
   {
    "duration": 145,
    "start_time": "2024-01-09T20:13:21.108Z"
   },
   {
    "duration": 192,
    "start_time": "2024-01-09T20:13:21.254Z"
   },
   {
    "duration": 8,
    "start_time": "2024-01-09T20:13:21.448Z"
   },
   {
    "duration": 20,
    "start_time": "2024-01-09T20:13:21.458Z"
   },
   {
    "duration": 20,
    "start_time": "2024-01-09T20:13:21.479Z"
   },
   {
    "duration": 14,
    "start_time": "2024-01-09T20:13:21.501Z"
   },
   {
    "duration": 18,
    "start_time": "2024-01-09T20:13:21.517Z"
   },
   {
    "duration": 18,
    "start_time": "2024-01-09T20:13:21.536Z"
   },
   {
    "duration": 43,
    "start_time": "2024-01-09T20:13:21.555Z"
   },
   {
    "duration": 4,
    "start_time": "2024-01-09T20:13:21.599Z"
   },
   {
    "duration": 8175,
    "start_time": "2024-01-09T20:13:21.604Z"
   },
   {
    "duration": 12,
    "start_time": "2024-01-09T20:13:29.780Z"
   },
   {
    "duration": 7,
    "start_time": "2024-01-09T20:14:08.264Z"
   },
   {
    "duration": 7,
    "start_time": "2024-01-09T20:15:56.325Z"
   },
   {
    "duration": 6,
    "start_time": "2024-01-09T20:16:01.274Z"
   },
   {
    "duration": 87,
    "start_time": "2024-01-10T10:12:46.751Z"
   },
   {
    "duration": 136,
    "start_time": "2024-01-10T10:15:29.205Z"
   },
   {
    "duration": 3083,
    "start_time": "2024-01-10T10:49:08.812Z"
   },
   {
    "duration": 2101,
    "start_time": "2024-01-10T10:49:11.897Z"
   },
   {
    "duration": 747,
    "start_time": "2024-01-10T10:49:14.000Z"
   },
   {
    "duration": 12,
    "start_time": "2024-01-10T10:49:14.749Z"
   },
   {
    "duration": 24,
    "start_time": "2024-01-10T10:49:14.763Z"
   },
   {
    "duration": 21,
    "start_time": "2024-01-10T10:49:14.789Z"
   },
   {
    "duration": 31,
    "start_time": "2024-01-10T10:49:14.812Z"
   },
   {
    "duration": 8,
    "start_time": "2024-01-10T10:49:14.845Z"
   },
   {
    "duration": 17,
    "start_time": "2024-01-10T10:49:14.855Z"
   },
   {
    "duration": 14,
    "start_time": "2024-01-10T10:49:14.874Z"
   },
   {
    "duration": 12,
    "start_time": "2024-01-10T10:49:14.890Z"
   },
   {
    "duration": 82,
    "start_time": "2024-01-10T10:49:14.904Z"
   },
   {
    "duration": 38,
    "start_time": "2024-01-10T10:49:14.988Z"
   },
   {
    "duration": 32,
    "start_time": "2024-01-10T10:49:15.027Z"
   },
   {
    "duration": 31,
    "start_time": "2024-01-10T10:49:15.061Z"
   },
   {
    "duration": 23,
    "start_time": "2024-01-10T10:49:15.093Z"
   },
   {
    "duration": 1124,
    "start_time": "2024-01-10T10:49:15.117Z"
   },
   {
    "duration": 776,
    "start_time": "2024-01-10T10:49:16.243Z"
   },
   {
    "duration": 1091,
    "start_time": "2024-01-10T10:49:17.020Z"
   },
   {
    "duration": 936,
    "start_time": "2024-01-10T10:49:18.112Z"
   },
   {
    "duration": 1250,
    "start_time": "2024-01-10T10:49:19.049Z"
   },
   {
    "duration": 706,
    "start_time": "2024-01-10T10:49:20.301Z"
   },
   {
    "duration": 4,
    "start_time": "2024-01-10T10:49:21.011Z"
   },
   {
    "duration": 6,
    "start_time": "2024-01-10T10:49:21.016Z"
   },
   {
    "duration": 1782,
    "start_time": "2024-01-10T10:49:21.023Z"
   },
   {
    "duration": 4,
    "start_time": "2024-01-10T10:49:22.810Z"
   },
   {
    "duration": 34,
    "start_time": "2024-01-10T10:49:22.815Z"
   },
   {
    "duration": 4,
    "start_time": "2024-01-10T10:49:22.852Z"
   },
   {
    "duration": 156,
    "start_time": "2024-01-10T10:49:22.857Z"
   },
   {
    "duration": 101,
    "start_time": "2024-01-10T10:49:23.015Z"
   },
   {
    "duration": 94,
    "start_time": "2024-01-10T10:49:23.118Z"
   },
   {
    "duration": 8,
    "start_time": "2024-01-10T10:49:23.214Z"
   },
   {
    "duration": 3,
    "start_time": "2024-01-10T10:49:23.224Z"
   },
   {
    "duration": 8,
    "start_time": "2024-01-10T10:49:23.229Z"
   },
   {
    "duration": 3,
    "start_time": "2024-01-10T10:49:23.239Z"
   },
   {
    "duration": 4,
    "start_time": "2024-01-10T10:49:23.243Z"
   },
   {
    "duration": 6,
    "start_time": "2024-01-10T10:49:23.248Z"
   },
   {
    "duration": 4,
    "start_time": "2024-01-10T10:49:23.256Z"
   },
   {
    "duration": 9,
    "start_time": "2024-01-10T10:49:23.261Z"
   },
   {
    "duration": 10,
    "start_time": "2024-01-10T10:49:23.272Z"
   },
   {
    "duration": 40,
    "start_time": "2024-01-10T10:49:23.283Z"
   },
   {
    "duration": 4,
    "start_time": "2024-01-10T10:49:23.325Z"
   },
   {
    "duration": 143,
    "start_time": "2024-01-10T10:49:23.330Z"
   },
   {
    "duration": 0,
    "start_time": "2024-01-10T10:49:23.475Z"
   },
   {
    "duration": 2271,
    "start_time": "2024-01-10T10:54:24.537Z"
   },
   {
    "duration": 1352,
    "start_time": "2024-01-10T10:54:26.810Z"
   },
   {
    "duration": 383,
    "start_time": "2024-01-10T10:54:28.163Z"
   },
   {
    "duration": 12,
    "start_time": "2024-01-10T10:54:28.550Z"
   },
   {
    "duration": 19,
    "start_time": "2024-01-10T10:54:28.563Z"
   },
   {
    "duration": 8,
    "start_time": "2024-01-10T10:54:28.583Z"
   },
   {
    "duration": 27,
    "start_time": "2024-01-10T10:54:28.593Z"
   },
   {
    "duration": 8,
    "start_time": "2024-01-10T10:54:28.622Z"
   },
   {
    "duration": 16,
    "start_time": "2024-01-10T10:54:28.631Z"
   },
   {
    "duration": 11,
    "start_time": "2024-01-10T10:54:28.649Z"
   },
   {
    "duration": 6,
    "start_time": "2024-01-10T10:54:28.661Z"
   },
   {
    "duration": 121,
    "start_time": "2024-01-10T10:54:28.668Z"
   },
   {
    "duration": 43,
    "start_time": "2024-01-10T10:54:28.791Z"
   },
   {
    "duration": 31,
    "start_time": "2024-01-10T10:54:28.836Z"
   },
   {
    "duration": 46,
    "start_time": "2024-01-10T10:54:28.868Z"
   },
   {
    "duration": 7,
    "start_time": "2024-01-10T10:54:28.915Z"
   },
   {
    "duration": 1160,
    "start_time": "2024-01-10T10:54:28.923Z"
   },
   {
    "duration": 728,
    "start_time": "2024-01-10T10:54:30.085Z"
   },
   {
    "duration": 1055,
    "start_time": "2024-01-10T10:54:30.815Z"
   },
   {
    "duration": 743,
    "start_time": "2024-01-10T10:54:31.872Z"
   },
   {
    "duration": 1341,
    "start_time": "2024-01-10T10:54:32.617Z"
   },
   {
    "duration": 735,
    "start_time": "2024-01-10T10:54:33.960Z"
   },
   {
    "duration": 4,
    "start_time": "2024-01-10T10:54:34.697Z"
   },
   {
    "duration": 9,
    "start_time": "2024-01-10T10:54:34.703Z"
   },
   {
    "duration": 1801,
    "start_time": "2024-01-10T10:54:34.713Z"
   },
   {
    "duration": 3,
    "start_time": "2024-01-10T10:54:36.515Z"
   },
   {
    "duration": 27,
    "start_time": "2024-01-10T10:54:36.519Z"
   },
   {
    "duration": 3,
    "start_time": "2024-01-10T10:54:36.549Z"
   },
   {
    "duration": 161,
    "start_time": "2024-01-10T10:54:36.553Z"
   },
   {
    "duration": 103,
    "start_time": "2024-01-10T10:54:36.717Z"
   },
   {
    "duration": 8,
    "start_time": "2024-01-10T10:54:36.912Z"
   },
   {
    "duration": 12,
    "start_time": "2024-01-10T10:54:36.921Z"
   },
   {
    "duration": 12,
    "start_time": "2024-01-10T10:54:36.934Z"
   },
   {
    "duration": 7,
    "start_time": "2024-01-10T10:54:36.948Z"
   },
   {
    "duration": 11,
    "start_time": "2024-01-10T10:54:36.956Z"
   },
   {
    "duration": 10,
    "start_time": "2024-01-10T10:54:36.969Z"
   },
   {
    "duration": 5,
    "start_time": "2024-01-10T10:54:36.981Z"
   },
   {
    "duration": 4,
    "start_time": "2024-01-10T10:54:36.988Z"
   },
   {
    "duration": 4,
    "start_time": "2024-01-10T10:54:36.993Z"
   },
   {
    "duration": 3,
    "start_time": "2024-01-10T10:54:36.999Z"
   },
   {
    "duration": 25,
    "start_time": "2024-01-10T10:54:37.003Z"
   },
   {
    "duration": 4,
    "start_time": "2024-01-10T10:54:37.029Z"
   },
   {
    "duration": 121,
    "start_time": "2024-01-10T10:54:37.035Z"
   },
   {
    "duration": 0,
    "start_time": "2024-01-10T10:54:37.157Z"
   },
   {
    "duration": 2381,
    "start_time": "2024-01-10T10:56:36.186Z"
   },
   {
    "duration": 1398,
    "start_time": "2024-01-10T10:56:38.570Z"
   },
   {
    "duration": 395,
    "start_time": "2024-01-10T10:56:39.970Z"
   },
   {
    "duration": 14,
    "start_time": "2024-01-10T10:56:40.367Z"
   },
   {
    "duration": 16,
    "start_time": "2024-01-10T10:56:40.383Z"
   },
   {
    "duration": 17,
    "start_time": "2024-01-10T10:56:40.400Z"
   },
   {
    "duration": 20,
    "start_time": "2024-01-10T10:56:40.419Z"
   },
   {
    "duration": 9,
    "start_time": "2024-01-10T10:56:40.440Z"
   },
   {
    "duration": 15,
    "start_time": "2024-01-10T10:56:40.450Z"
   },
   {
    "duration": 11,
    "start_time": "2024-01-10T10:56:40.468Z"
   },
   {
    "duration": 32,
    "start_time": "2024-01-10T10:56:40.481Z"
   },
   {
    "duration": 93,
    "start_time": "2024-01-10T10:56:40.514Z"
   },
   {
    "duration": 35,
    "start_time": "2024-01-10T10:56:40.609Z"
   },
   {
    "duration": 34,
    "start_time": "2024-01-10T10:56:40.645Z"
   },
   {
    "duration": 48,
    "start_time": "2024-01-10T10:56:40.680Z"
   },
   {
    "duration": 7,
    "start_time": "2024-01-10T10:56:40.730Z"
   },
   {
    "duration": 1162,
    "start_time": "2024-01-10T10:56:40.738Z"
   },
   {
    "duration": 726,
    "start_time": "2024-01-10T10:56:41.901Z"
   },
   {
    "duration": 1073,
    "start_time": "2024-01-10T10:56:42.629Z"
   },
   {
    "duration": 822,
    "start_time": "2024-01-10T10:56:43.704Z"
   },
   {
    "duration": 1334,
    "start_time": "2024-01-10T10:56:44.527Z"
   },
   {
    "duration": 739,
    "start_time": "2024-01-10T10:56:45.863Z"
   },
   {
    "duration": 6,
    "start_time": "2024-01-10T10:56:46.611Z"
   },
   {
    "duration": 4,
    "start_time": "2024-01-10T10:56:46.619Z"
   },
   {
    "duration": 1822,
    "start_time": "2024-01-10T10:56:46.625Z"
   },
   {
    "duration": 3,
    "start_time": "2024-01-10T10:56:48.448Z"
   },
   {
    "duration": 28,
    "start_time": "2024-01-10T10:56:48.453Z"
   },
   {
    "duration": 3,
    "start_time": "2024-01-10T10:56:48.485Z"
   },
   {
    "duration": 323,
    "start_time": "2024-01-10T10:56:48.490Z"
   },
   {
    "duration": 97,
    "start_time": "2024-01-10T10:56:48.815Z"
   },
   {
    "duration": 98,
    "start_time": "2024-01-10T10:56:48.914Z"
   },
   {
    "duration": 4,
    "start_time": "2024-01-10T10:56:49.014Z"
   },
   {
    "duration": 6,
    "start_time": "2024-01-10T10:56:49.020Z"
   },
   {
    "duration": 22,
    "start_time": "2024-01-10T10:56:49.028Z"
   },
   {
    "duration": 6,
    "start_time": "2024-01-10T10:56:49.052Z"
   },
   {
    "duration": 7,
    "start_time": "2024-01-10T10:56:49.060Z"
   },
   {
    "duration": 6,
    "start_time": "2024-01-10T10:56:49.070Z"
   },
   {
    "duration": 10,
    "start_time": "2024-01-10T10:56:49.078Z"
   },
   {
    "duration": 12,
    "start_time": "2024-01-10T10:56:49.090Z"
   },
   {
    "duration": 20,
    "start_time": "2024-01-10T10:56:49.112Z"
   },
   {
    "duration": 11,
    "start_time": "2024-01-10T10:56:49.134Z"
   },
   {
    "duration": 146,
    "start_time": "2024-01-10T10:56:49.147Z"
   },
   {
    "duration": 0,
    "start_time": "2024-01-10T10:56:49.294Z"
   },
   {
    "duration": 0,
    "start_time": "2024-01-10T10:56:49.295Z"
   },
   {
    "duration": 0,
    "start_time": "2024-01-10T10:56:49.296Z"
   },
   {
    "duration": 0,
    "start_time": "2024-01-10T10:56:49.297Z"
   },
   {
    "duration": 2280,
    "start_time": "2024-01-10T10:58:54.450Z"
   },
   {
    "duration": 1303,
    "start_time": "2024-01-10T10:58:56.733Z"
   },
   {
    "duration": 376,
    "start_time": "2024-01-10T10:58:58.038Z"
   },
   {
    "duration": 12,
    "start_time": "2024-01-10T10:58:58.416Z"
   },
   {
    "duration": 20,
    "start_time": "2024-01-10T10:58:58.429Z"
   },
   {
    "duration": 9,
    "start_time": "2024-01-10T10:58:58.450Z"
   },
   {
    "duration": 18,
    "start_time": "2024-01-10T10:58:58.460Z"
   },
   {
    "duration": 10,
    "start_time": "2024-01-10T10:58:58.480Z"
   },
   {
    "duration": 15,
    "start_time": "2024-01-10T10:58:58.511Z"
   },
   {
    "duration": 12,
    "start_time": "2024-01-10T10:58:58.529Z"
   },
   {
    "duration": 7,
    "start_time": "2024-01-10T10:58:58.542Z"
   },
   {
    "duration": 98,
    "start_time": "2024-01-10T10:58:58.551Z"
   },
   {
    "duration": 35,
    "start_time": "2024-01-10T10:58:58.651Z"
   },
   {
    "duration": 57,
    "start_time": "2024-01-10T10:58:58.688Z"
   },
   {
    "duration": 34,
    "start_time": "2024-01-10T10:58:58.747Z"
   },
   {
    "duration": 7,
    "start_time": "2024-01-10T10:58:58.782Z"
   },
   {
    "duration": 1149,
    "start_time": "2024-01-10T10:58:58.790Z"
   },
   {
    "duration": 770,
    "start_time": "2024-01-10T10:58:59.941Z"
   },
   {
    "duration": 1086,
    "start_time": "2024-01-10T10:59:00.713Z"
   },
   {
    "duration": 727,
    "start_time": "2024-01-10T10:59:01.800Z"
   },
   {
    "duration": 1353,
    "start_time": "2024-01-10T10:59:02.529Z"
   },
   {
    "duration": 711,
    "start_time": "2024-01-10T10:59:03.884Z"
   },
   {
    "duration": 4,
    "start_time": "2024-01-10T10:59:04.596Z"
   },
   {
    "duration": 10,
    "start_time": "2024-01-10T10:59:04.601Z"
   },
   {
    "duration": 1789,
    "start_time": "2024-01-10T10:59:04.612Z"
   },
   {
    "duration": 4,
    "start_time": "2024-01-10T10:59:06.402Z"
   },
   {
    "duration": 23,
    "start_time": "2024-01-10T10:59:06.410Z"
   },
   {
    "duration": 3,
    "start_time": "2024-01-10T10:59:06.436Z"
   },
   {
    "duration": 173,
    "start_time": "2024-01-10T10:59:06.440Z"
   },
   {
    "duration": 102,
    "start_time": "2024-01-10T10:59:06.616Z"
   },
   {
    "duration": 97,
    "start_time": "2024-01-10T10:59:06.720Z"
   },
   {
    "duration": 44,
    "start_time": "2024-01-10T10:59:06.819Z"
   },
   {
    "duration": 20,
    "start_time": "2024-01-10T10:59:06.864Z"
   },
   {
    "duration": 30,
    "start_time": "2024-01-10T10:59:06.885Z"
   },
   {
    "duration": 20,
    "start_time": "2024-01-10T10:59:06.916Z"
   },
   {
    "duration": 21,
    "start_time": "2024-01-10T10:59:06.937Z"
   },
   {
    "duration": 27,
    "start_time": "2024-01-10T10:59:06.960Z"
   },
   {
    "duration": 7,
    "start_time": "2024-01-10T10:59:06.989Z"
   },
   {
    "duration": 11,
    "start_time": "2024-01-10T10:59:06.998Z"
   },
   {
    "duration": 25,
    "start_time": "2024-01-10T10:59:07.010Z"
   },
   {
    "duration": 2,
    "start_time": "2024-01-10T10:59:07.037Z"
   },
   {
    "duration": 27,
    "start_time": "2024-01-10T10:59:07.040Z"
   },
   {
    "duration": 120,
    "start_time": "2024-01-10T10:59:07.068Z"
   },
   {
    "duration": 0,
    "start_time": "2024-01-10T10:59:07.190Z"
   },
   {
    "duration": 2542,
    "start_time": "2024-01-10T11:01:08.042Z"
   },
   {
    "duration": 1472,
    "start_time": "2024-01-10T11:01:10.586Z"
   },
   {
    "duration": 378,
    "start_time": "2024-01-10T11:01:12.059Z"
   },
   {
    "duration": 12,
    "start_time": "2024-01-10T11:01:12.439Z"
   },
   {
    "duration": 23,
    "start_time": "2024-01-10T11:01:12.452Z"
   },
   {
    "duration": 8,
    "start_time": "2024-01-10T11:01:12.477Z"
   },
   {
    "duration": 25,
    "start_time": "2024-01-10T11:01:12.487Z"
   },
   {
    "duration": 9,
    "start_time": "2024-01-10T11:01:12.513Z"
   },
   {
    "duration": 15,
    "start_time": "2024-01-10T11:01:12.523Z"
   },
   {
    "duration": 12,
    "start_time": "2024-01-10T11:01:12.541Z"
   },
   {
    "duration": 20,
    "start_time": "2024-01-10T11:01:12.554Z"
   },
   {
    "duration": 86,
    "start_time": "2024-01-10T11:01:12.576Z"
   },
   {
    "duration": 35,
    "start_time": "2024-01-10T11:01:12.663Z"
   },
   {
    "duration": 35,
    "start_time": "2024-01-10T11:01:12.710Z"
   },
   {
    "duration": 34,
    "start_time": "2024-01-10T11:01:12.746Z"
   },
   {
    "duration": 7,
    "start_time": "2024-01-10T11:01:12.781Z"
   },
   {
    "duration": 1146,
    "start_time": "2024-01-10T11:01:12.811Z"
   },
   {
    "duration": 760,
    "start_time": "2024-01-10T11:01:13.958Z"
   },
   {
    "duration": 1055,
    "start_time": "2024-01-10T11:01:14.720Z"
   },
   {
    "duration": 753,
    "start_time": "2024-01-10T11:01:15.777Z"
   },
   {
    "duration": 1362,
    "start_time": "2024-01-10T11:01:16.531Z"
   },
   {
    "duration": 716,
    "start_time": "2024-01-10T11:01:17.895Z"
   },
   {
    "duration": 4,
    "start_time": "2024-01-10T11:01:18.612Z"
   },
   {
    "duration": 5,
    "start_time": "2024-01-10T11:01:18.617Z"
   },
   {
    "duration": 1799,
    "start_time": "2024-01-10T11:01:18.623Z"
   },
   {
    "duration": 4,
    "start_time": "2024-01-10T11:01:20.423Z"
   },
   {
    "duration": 28,
    "start_time": "2024-01-10T11:01:20.428Z"
   },
   {
    "duration": 3,
    "start_time": "2024-01-10T11:01:20.459Z"
   },
   {
    "duration": 249,
    "start_time": "2024-01-10T11:01:20.464Z"
   },
   {
    "duration": 100,
    "start_time": "2024-01-10T11:01:20.715Z"
   },
   {
    "duration": 95,
    "start_time": "2024-01-10T11:01:20.817Z"
   },
   {
    "duration": 15,
    "start_time": "2024-01-10T11:01:20.914Z"
   },
   {
    "duration": 13,
    "start_time": "2024-01-10T11:01:20.931Z"
   },
   {
    "duration": 14,
    "start_time": "2024-01-10T11:01:20.946Z"
   },
   {
    "duration": 10,
    "start_time": "2024-01-10T11:01:20.961Z"
   },
   {
    "duration": 13,
    "start_time": "2024-01-10T11:01:20.972Z"
   },
   {
    "duration": 10,
    "start_time": "2024-01-10T11:01:20.986Z"
   },
   {
    "duration": 12,
    "start_time": "2024-01-10T11:01:20.997Z"
   },
   {
    "duration": 27,
    "start_time": "2024-01-10T11:01:21.010Z"
   },
   {
    "duration": 4,
    "start_time": "2024-01-10T11:01:21.039Z"
   },
   {
    "duration": 8576,
    "start_time": "2024-01-10T11:01:21.045Z"
   },
   {
    "duration": 13,
    "start_time": "2024-01-10T11:01:29.623Z"
   },
   {
    "duration": 2322,
    "start_time": "2024-01-10T11:14:12.472Z"
   },
   {
    "duration": 1462,
    "start_time": "2024-01-10T11:14:14.797Z"
   },
   {
    "duration": 382,
    "start_time": "2024-01-10T11:14:16.260Z"
   },
   {
    "duration": 12,
    "start_time": "2024-01-10T11:14:16.644Z"
   },
   {
    "duration": 17,
    "start_time": "2024-01-10T11:14:16.657Z"
   },
   {
    "duration": 8,
    "start_time": "2024-01-10T11:14:16.675Z"
   },
   {
    "duration": 29,
    "start_time": "2024-01-10T11:14:16.684Z"
   },
   {
    "duration": 8,
    "start_time": "2024-01-10T11:14:16.714Z"
   },
   {
    "duration": 14,
    "start_time": "2024-01-10T11:14:16.723Z"
   },
   {
    "duration": 11,
    "start_time": "2024-01-10T11:14:16.739Z"
   },
   {
    "duration": 10,
    "start_time": "2024-01-10T11:14:16.752Z"
   },
   {
    "duration": 89,
    "start_time": "2024-01-10T11:14:16.764Z"
   },
   {
    "duration": 34,
    "start_time": "2024-01-10T11:14:16.855Z"
   },
   {
    "duration": 42,
    "start_time": "2024-01-10T11:14:16.890Z"
   },
   {
    "duration": 31,
    "start_time": "2024-01-10T11:14:16.933Z"
   },
   {
    "duration": 7,
    "start_time": "2024-01-10T11:14:16.965Z"
   },
   {
    "duration": 1147,
    "start_time": "2024-01-10T11:14:16.973Z"
   },
   {
    "duration": 699,
    "start_time": "2024-01-10T11:14:18.122Z"
   },
   {
    "duration": 1072,
    "start_time": "2024-01-10T11:14:18.822Z"
   },
   {
    "duration": 743,
    "start_time": "2024-01-10T11:14:19.895Z"
   },
   {
    "duration": 1309,
    "start_time": "2024-01-10T11:14:20.639Z"
   },
   {
    "duration": 766,
    "start_time": "2024-01-10T11:14:21.949Z"
   },
   {
    "duration": 3,
    "start_time": "2024-01-10T11:14:22.717Z"
   },
   {
    "duration": 5,
    "start_time": "2024-01-10T11:14:22.722Z"
   },
   {
    "duration": 1799,
    "start_time": "2024-01-10T11:14:22.728Z"
   },
   {
    "duration": 4,
    "start_time": "2024-01-10T11:14:24.528Z"
   },
   {
    "duration": 28,
    "start_time": "2024-01-10T11:14:24.533Z"
   },
   {
    "duration": 3,
    "start_time": "2024-01-10T11:14:24.564Z"
   },
   {
    "duration": 145,
    "start_time": "2024-01-10T11:14:24.568Z"
   },
   {
    "duration": 100,
    "start_time": "2024-01-10T11:14:24.715Z"
   },
   {
    "duration": 99,
    "start_time": "2024-01-10T11:14:24.817Z"
   },
   {
    "duration": 17,
    "start_time": "2024-01-10T11:14:24.917Z"
   },
   {
    "duration": 9,
    "start_time": "2024-01-10T11:14:24.936Z"
   },
   {
    "duration": 11,
    "start_time": "2024-01-10T11:14:24.947Z"
   },
   {
    "duration": 10,
    "start_time": "2024-01-10T11:14:24.960Z"
   },
   {
    "duration": 5,
    "start_time": "2024-01-10T11:14:24.972Z"
   },
   {
    "duration": 5,
    "start_time": "2024-01-10T11:14:24.979Z"
   },
   {
    "duration": 8,
    "start_time": "2024-01-10T11:14:24.986Z"
   },
   {
    "duration": 6,
    "start_time": "2024-01-10T11:14:24.995Z"
   },
   {
    "duration": 129,
    "start_time": "2024-01-10T11:14:25.002Z"
   },
   {
    "duration": 0,
    "start_time": "2024-01-10T11:14:25.132Z"
   },
   {
    "duration": 0,
    "start_time": "2024-01-10T11:14:25.134Z"
   },
   {
    "duration": 0,
    "start_time": "2024-01-10T11:14:25.135Z"
   },
   {
    "duration": 3,
    "start_time": "2024-01-10T11:14:53.800Z"
   },
   {
    "duration": 7,
    "start_time": "2024-01-10T11:14:56.059Z"
   },
   {
    "duration": 6,
    "start_time": "2024-01-10T11:14:56.736Z"
   },
   {
    "duration": 20,
    "start_time": "2024-01-10T11:14:58.763Z"
   },
   {
    "duration": 2326,
    "start_time": "2024-01-10T11:16:15.695Z"
   },
   {
    "duration": 1354,
    "start_time": "2024-01-10T11:16:18.024Z"
   },
   {
    "duration": 396,
    "start_time": "2024-01-10T11:16:19.379Z"
   },
   {
    "duration": 12,
    "start_time": "2024-01-10T11:16:19.777Z"
   },
   {
    "duration": 23,
    "start_time": "2024-01-10T11:16:19.791Z"
   },
   {
    "duration": 8,
    "start_time": "2024-01-10T11:16:19.816Z"
   },
   {
    "duration": 29,
    "start_time": "2024-01-10T11:16:19.825Z"
   },
   {
    "duration": 9,
    "start_time": "2024-01-10T11:16:19.856Z"
   },
   {
    "duration": 15,
    "start_time": "2024-01-10T11:16:19.867Z"
   },
   {
    "duration": 32,
    "start_time": "2024-01-10T11:16:19.885Z"
   },
   {
    "duration": 6,
    "start_time": "2024-01-10T11:16:19.919Z"
   },
   {
    "duration": 87,
    "start_time": "2024-01-10T11:16:19.927Z"
   },
   {
    "duration": 36,
    "start_time": "2024-01-10T11:16:20.016Z"
   },
   {
    "duration": 34,
    "start_time": "2024-01-10T11:16:20.054Z"
   },
   {
    "duration": 53,
    "start_time": "2024-01-10T11:16:20.090Z"
   },
   {
    "duration": 14,
    "start_time": "2024-01-10T11:16:20.145Z"
   },
   {
    "duration": 1213,
    "start_time": "2024-01-10T11:16:20.161Z"
   },
   {
    "duration": 780,
    "start_time": "2024-01-10T11:16:21.376Z"
   },
   {
    "duration": 1055,
    "start_time": "2024-01-10T11:16:22.158Z"
   },
   {
    "duration": 720,
    "start_time": "2024-01-10T11:16:23.215Z"
   },
   {
    "duration": 1314,
    "start_time": "2024-01-10T11:16:23.937Z"
   },
   {
    "duration": 745,
    "start_time": "2024-01-10T11:16:25.253Z"
   },
   {
    "duration": 12,
    "start_time": "2024-01-10T11:16:26.000Z"
   },
   {
    "duration": 15,
    "start_time": "2024-01-10T11:16:26.014Z"
   },
   {
    "duration": 1742,
    "start_time": "2024-01-10T11:16:26.030Z"
   },
   {
    "duration": 4,
    "start_time": "2024-01-10T11:16:27.774Z"
   },
   {
    "duration": 39,
    "start_time": "2024-01-10T11:16:27.779Z"
   },
   {
    "duration": 3,
    "start_time": "2024-01-10T11:16:27.821Z"
   },
   {
    "duration": 192,
    "start_time": "2024-01-10T11:16:27.826Z"
   },
   {
    "duration": 191,
    "start_time": "2024-01-10T11:16:28.020Z"
   },
   {
    "duration": 9,
    "start_time": "2024-01-10T11:16:28.213Z"
   },
   {
    "duration": 3,
    "start_time": "2024-01-10T11:16:28.224Z"
   },
   {
    "duration": 8,
    "start_time": "2024-01-10T11:16:28.228Z"
   },
   {
    "duration": 4,
    "start_time": "2024-01-10T11:16:28.237Z"
   },
   {
    "duration": 4,
    "start_time": "2024-01-10T11:16:28.243Z"
   },
   {
    "duration": 3,
    "start_time": "2024-01-10T11:16:28.248Z"
   },
   {
    "duration": 5,
    "start_time": "2024-01-10T11:16:28.252Z"
   },
   {
    "duration": 10,
    "start_time": "2024-01-10T11:16:28.258Z"
   },
   {
    "duration": 41,
    "start_time": "2024-01-10T11:16:28.270Z"
   },
   {
    "duration": 19,
    "start_time": "2024-01-10T11:16:28.312Z"
   },
   {
    "duration": 4,
    "start_time": "2024-01-10T11:16:28.332Z"
   },
   {
    "duration": 131,
    "start_time": "2024-01-10T11:16:28.337Z"
   },
   {
    "duration": 0,
    "start_time": "2024-01-10T11:16:28.470Z"
   },
   {
    "duration": 4003,
    "start_time": "2024-01-10T11:25:34.914Z"
   },
   {
    "duration": 1432,
    "start_time": "2024-01-10T11:25:38.919Z"
   },
   {
    "duration": 404,
    "start_time": "2024-01-10T11:25:40.353Z"
   },
   {
    "duration": 13,
    "start_time": "2024-01-10T11:25:40.759Z"
   },
   {
    "duration": 15,
    "start_time": "2024-01-10T11:25:40.774Z"
   },
   {
    "duration": 21,
    "start_time": "2024-01-10T11:25:40.791Z"
   },
   {
    "duration": 30,
    "start_time": "2024-01-10T11:25:40.813Z"
   },
   {
    "duration": 8,
    "start_time": "2024-01-10T11:25:40.845Z"
   },
   {
    "duration": 15,
    "start_time": "2024-01-10T11:25:40.854Z"
   },
   {
    "duration": 12,
    "start_time": "2024-01-10T11:25:40.871Z"
   },
   {
    "duration": 8,
    "start_time": "2024-01-10T11:25:40.885Z"
   },
   {
    "duration": 101,
    "start_time": "2024-01-10T11:25:40.895Z"
   },
   {
    "duration": 37,
    "start_time": "2024-01-10T11:25:40.997Z"
   },
   {
    "duration": 33,
    "start_time": "2024-01-10T11:25:41.035Z"
   },
   {
    "duration": 44,
    "start_time": "2024-01-10T11:25:41.069Z"
   },
   {
    "duration": 8,
    "start_time": "2024-01-10T11:25:41.114Z"
   },
   {
    "duration": 1354,
    "start_time": "2024-01-10T11:25:41.123Z"
   },
   {
    "duration": 758,
    "start_time": "2024-01-10T11:25:42.479Z"
   },
   {
    "duration": 1057,
    "start_time": "2024-01-10T11:25:43.239Z"
   },
   {
    "duration": 731,
    "start_time": "2024-01-10T11:25:44.298Z"
   },
   {
    "duration": 1323,
    "start_time": "2024-01-10T11:25:45.031Z"
   },
   {
    "duration": 750,
    "start_time": "2024-01-10T11:25:46.356Z"
   },
   {
    "duration": 5,
    "start_time": "2024-01-10T11:25:47.108Z"
   },
   {
    "duration": 4,
    "start_time": "2024-01-10T11:25:47.115Z"
   },
   {
    "duration": 1810,
    "start_time": "2024-01-10T11:25:47.120Z"
   },
   {
    "duration": 3,
    "start_time": "2024-01-10T11:25:48.932Z"
   },
   {
    "duration": 29,
    "start_time": "2024-01-10T11:25:48.936Z"
   },
   {
    "duration": 3,
    "start_time": "2024-01-10T11:25:48.968Z"
   },
   {
    "duration": 245,
    "start_time": "2024-01-10T11:25:48.973Z"
   },
   {
    "duration": 192,
    "start_time": "2024-01-10T11:25:49.220Z"
   },
   {
    "duration": 8,
    "start_time": "2024-01-10T11:25:49.414Z"
   },
   {
    "duration": 8,
    "start_time": "2024-01-10T11:25:49.424Z"
   },
   {
    "duration": 16,
    "start_time": "2024-01-10T11:25:49.433Z"
   },
   {
    "duration": 4,
    "start_time": "2024-01-10T11:25:49.450Z"
   },
   {
    "duration": 7,
    "start_time": "2024-01-10T11:25:49.455Z"
   },
   {
    "duration": 4,
    "start_time": "2024-01-10T11:25:49.464Z"
   },
   {
    "duration": 11,
    "start_time": "2024-01-10T11:25:49.469Z"
   },
   {
    "duration": 7,
    "start_time": "2024-01-10T11:25:49.482Z"
   },
   {
    "duration": 6,
    "start_time": "2024-01-10T11:25:49.490Z"
   },
   {
    "duration": 31,
    "start_time": "2024-01-10T11:25:49.498Z"
   },
   {
    "duration": 2,
    "start_time": "2024-01-10T11:25:49.530Z"
   },
   {
    "duration": 71,
    "start_time": "2024-01-10T11:25:49.534Z"
   },
   {
    "duration": 0,
    "start_time": "2024-01-10T11:25:49.607Z"
   },
   {
    "duration": 0,
    "start_time": "2024-01-10T11:25:49.609Z"
   },
   {
    "duration": 5,
    "start_time": "2024-01-10T11:25:57.467Z"
   },
   {
    "duration": 128,
    "start_time": "2024-01-10T11:26:00.088Z"
   },
   {
    "duration": 2331,
    "start_time": "2024-01-10T11:32:52.812Z"
   },
   {
    "duration": 1324,
    "start_time": "2024-01-10T11:32:55.146Z"
   },
   {
    "duration": 392,
    "start_time": "2024-01-10T11:32:56.472Z"
   },
   {
    "duration": 11,
    "start_time": "2024-01-10T11:32:56.868Z"
   },
   {
    "duration": 14,
    "start_time": "2024-01-10T11:32:56.880Z"
   },
   {
    "duration": 16,
    "start_time": "2024-01-10T11:32:56.896Z"
   },
   {
    "duration": 14,
    "start_time": "2024-01-10T11:32:56.913Z"
   },
   {
    "duration": 8,
    "start_time": "2024-01-10T11:32:56.928Z"
   },
   {
    "duration": 17,
    "start_time": "2024-01-10T11:32:56.937Z"
   },
   {
    "duration": 11,
    "start_time": "2024-01-10T11:32:56.957Z"
   },
   {
    "duration": 9,
    "start_time": "2024-01-10T11:32:56.970Z"
   },
   {
    "duration": 95,
    "start_time": "2024-01-10T11:32:56.980Z"
   },
   {
    "duration": 43,
    "start_time": "2024-01-10T11:32:57.077Z"
   },
   {
    "duration": 34,
    "start_time": "2024-01-10T11:32:57.121Z"
   },
   {
    "duration": 35,
    "start_time": "2024-01-10T11:32:57.157Z"
   },
   {
    "duration": 24,
    "start_time": "2024-01-10T11:32:57.194Z"
   },
   {
    "duration": 1144,
    "start_time": "2024-01-10T11:32:57.219Z"
   },
   {
    "duration": 746,
    "start_time": "2024-01-10T11:32:58.365Z"
   },
   {
    "duration": 1088,
    "start_time": "2024-01-10T11:32:59.112Z"
   },
   {
    "duration": 807,
    "start_time": "2024-01-10T11:33:00.202Z"
   },
   {
    "duration": 1390,
    "start_time": "2024-01-10T11:33:01.011Z"
   },
   {
    "duration": 712,
    "start_time": "2024-01-10T11:33:02.403Z"
   },
   {
    "duration": 3,
    "start_time": "2024-01-10T11:33:03.117Z"
   },
   {
    "duration": 5,
    "start_time": "2024-01-10T11:33:03.122Z"
   },
   {
    "duration": 1834,
    "start_time": "2024-01-10T11:33:03.128Z"
   },
   {
    "duration": 3,
    "start_time": "2024-01-10T11:33:04.964Z"
   },
   {
    "duration": 24,
    "start_time": "2024-01-10T11:33:04.969Z"
   },
   {
    "duration": 14,
    "start_time": "2024-01-10T11:33:04.997Z"
   },
   {
    "duration": 211,
    "start_time": "2024-01-10T11:33:05.012Z"
   },
   {
    "duration": 18,
    "start_time": "2024-01-10T11:33:05.312Z"
   },
   {
    "duration": 9,
    "start_time": "2024-01-10T11:33:05.333Z"
   },
   {
    "duration": 68,
    "start_time": "2024-01-10T11:33:05.343Z"
   },
   {
    "duration": 15,
    "start_time": "2024-01-10T11:33:05.413Z"
   },
   {
    "duration": 5,
    "start_time": "2024-01-10T11:33:05.429Z"
   },
   {
    "duration": 18,
    "start_time": "2024-01-10T11:33:05.435Z"
   },
   {
    "duration": 15,
    "start_time": "2024-01-10T11:33:05.455Z"
   },
   {
    "duration": 17,
    "start_time": "2024-01-10T11:33:05.471Z"
   },
   {
    "duration": 16,
    "start_time": "2024-01-10T11:33:05.489Z"
   },
   {
    "duration": 9,
    "start_time": "2024-01-10T11:33:05.506Z"
   },
   {
    "duration": 19,
    "start_time": "2024-01-10T11:33:05.516Z"
   },
   {
    "duration": 2,
    "start_time": "2024-01-10T11:33:05.537Z"
   },
   {
    "duration": 11,
    "start_time": "2024-01-10T11:33:05.541Z"
   },
   {
    "duration": 12,
    "start_time": "2024-01-10T11:33:05.553Z"
   },
   {
    "duration": 934,
    "start_time": "2024-01-10T11:33:05.566Z"
   },
   {
    "duration": 0,
    "start_time": "2024-01-10T11:33:06.502Z"
   },
   {
    "duration": 4,
    "start_time": "2024-01-10T11:33:23.596Z"
   },
   {
    "duration": 2379,
    "start_time": "2024-01-10T11:33:25.352Z"
   },
   {
    "duration": 14,
    "start_time": "2024-01-10T11:33:31.266Z"
   },
   {
    "duration": 144,
    "start_time": "2024-01-10T11:52:56.459Z"
   },
   {
    "duration": 321,
    "start_time": "2024-01-10T11:54:48.006Z"
   },
   {
    "duration": 7,
    "start_time": "2024-01-10T11:55:49.277Z"
   },
   {
    "duration": 1609,
    "start_time": "2024-01-10T11:57:59.470Z"
   },
   {
    "duration": 81,
    "start_time": "2024-01-10T12:01:09.132Z"
   },
   {
    "duration": 1009,
    "start_time": "2024-01-10T12:03:00.490Z"
   },
   {
    "duration": 595,
    "start_time": "2024-01-10T12:05:06.158Z"
   },
   {
    "duration": 1239,
    "start_time": "2024-01-10T12:07:19.778Z"
   },
   {
    "duration": 1180,
    "start_time": "2024-01-10T12:08:47.419Z"
   },
   {
    "duration": 325,
    "start_time": "2024-01-10T12:58:34.611Z"
   },
   {
    "duration": 327,
    "start_time": "2024-01-10T13:01:01.282Z"
   },
   {
    "duration": 1031,
    "start_time": "2024-01-10T13:01:17.056Z"
   },
   {
    "duration": 328,
    "start_time": "2024-01-10T13:02:45.600Z"
   },
   {
    "duration": 3,
    "start_time": "2024-01-10T13:03:12.769Z"
   },
   {
    "duration": 2266,
    "start_time": "2024-01-10T13:05:12.273Z"
   },
   {
    "duration": 1318,
    "start_time": "2024-01-10T13:05:14.542Z"
   },
   {
    "duration": 389,
    "start_time": "2024-01-10T13:05:15.861Z"
   },
   {
    "duration": 12,
    "start_time": "2024-01-10T13:05:16.252Z"
   },
   {
    "duration": 28,
    "start_time": "2024-01-10T13:05:16.266Z"
   },
   {
    "duration": 8,
    "start_time": "2024-01-10T13:05:16.296Z"
   },
   {
    "duration": 16,
    "start_time": "2024-01-10T13:05:16.306Z"
   },
   {
    "duration": 8,
    "start_time": "2024-01-10T13:05:16.324Z"
   },
   {
    "duration": 21,
    "start_time": "2024-01-10T13:05:16.333Z"
   },
   {
    "duration": 12,
    "start_time": "2024-01-10T13:05:16.356Z"
   },
   {
    "duration": 14,
    "start_time": "2024-01-10T13:05:16.370Z"
   },
   {
    "duration": 87,
    "start_time": "2024-01-10T13:05:16.386Z"
   },
   {
    "duration": 39,
    "start_time": "2024-01-10T13:05:16.475Z"
   },
   {
    "duration": 33,
    "start_time": "2024-01-10T13:05:16.515Z"
   },
   {
    "duration": 31,
    "start_time": "2024-01-10T13:05:16.549Z"
   },
   {
    "duration": 7,
    "start_time": "2024-01-10T13:05:16.582Z"
   },
   {
    "duration": 1150,
    "start_time": "2024-01-10T13:05:16.610Z"
   },
   {
    "duration": 794,
    "start_time": "2024-01-10T13:05:17.762Z"
   },
   {
    "duration": 1192,
    "start_time": "2024-01-10T13:05:18.558Z"
   },
   {
    "duration": 766,
    "start_time": "2024-01-10T13:05:19.752Z"
   },
   {
    "duration": 1386,
    "start_time": "2024-01-10T13:05:20.519Z"
   },
   {
    "duration": 898,
    "start_time": "2024-01-10T13:05:21.906Z"
   },
   {
    "duration": 8,
    "start_time": "2024-01-10T13:05:22.805Z"
   },
   {
    "duration": 4,
    "start_time": "2024-01-10T13:05:22.814Z"
   },
   {
    "duration": 1801,
    "start_time": "2024-01-10T13:05:22.819Z"
   },
   {
    "duration": 4,
    "start_time": "2024-01-10T13:05:24.622Z"
   },
   {
    "duration": 33,
    "start_time": "2024-01-10T13:05:24.628Z"
   },
   {
    "duration": 3,
    "start_time": "2024-01-10T13:05:24.664Z"
   },
   {
    "duration": 149,
    "start_time": "2024-01-10T13:05:24.668Z"
   },
   {
    "duration": 192,
    "start_time": "2024-01-10T13:05:24.819Z"
   },
   {
    "duration": 8,
    "start_time": "2024-01-10T13:05:25.013Z"
   },
   {
    "duration": 4,
    "start_time": "2024-01-10T13:05:25.022Z"
   },
   {
    "duration": 4,
    "start_time": "2024-01-10T13:05:25.027Z"
   },
   {
    "duration": 4,
    "start_time": "2024-01-10T13:05:25.032Z"
   },
   {
    "duration": 6,
    "start_time": "2024-01-10T13:05:25.037Z"
   },
   {
    "duration": 14,
    "start_time": "2024-01-10T13:05:25.045Z"
   },
   {
    "duration": 6,
    "start_time": "2024-01-10T13:05:25.060Z"
   },
   {
    "duration": 15,
    "start_time": "2024-01-10T13:05:25.067Z"
   },
   {
    "duration": 5,
    "start_time": "2024-01-10T13:05:25.083Z"
   },
   {
    "duration": 33,
    "start_time": "2024-01-10T13:05:25.090Z"
   },
   {
    "duration": 13,
    "start_time": "2024-01-10T13:05:25.124Z"
   },
   {
    "duration": 5,
    "start_time": "2024-01-10T13:05:25.138Z"
   },
   {
    "duration": 2375,
    "start_time": "2024-01-10T13:05:25.144Z"
   },
   {
    "duration": 13,
    "start_time": "2024-01-10T13:05:27.520Z"
   },
   {
    "duration": 5,
    "start_time": "2024-01-10T13:05:27.534Z"
   },
   {
    "duration": 208,
    "start_time": "2024-01-10T13:05:27.540Z"
   },
   {
    "duration": 5,
    "start_time": "2024-01-10T13:06:43.685Z"
   },
   {
    "duration": 289,
    "start_time": "2024-01-10T13:06:45.666Z"
   },
   {
    "duration": 4,
    "start_time": "2024-01-10T13:09:47.647Z"
   },
   {
    "duration": 9,
    "start_time": "2024-01-10T13:09:48.237Z"
   },
   {
    "duration": 4,
    "start_time": "2024-01-10T13:10:03.092Z"
   },
   {
    "duration": 14,
    "start_time": "2024-01-10T13:10:03.918Z"
   },
   {
    "duration": 3,
    "start_time": "2024-01-10T13:10:18.625Z"
   },
   {
    "duration": 343,
    "start_time": "2024-01-10T13:10:19.137Z"
   },
   {
    "duration": 101,
    "start_time": "2024-01-10T13:11:38.364Z"
   },
   {
    "duration": 90,
    "start_time": "2024-01-10T13:12:11.964Z"
   },
   {
    "duration": 352,
    "start_time": "2024-01-10T13:12:17.374Z"
   },
   {
    "duration": 395,
    "start_time": "2024-01-10T13:12:58.204Z"
   },
   {
    "duration": 5,
    "start_time": "2024-01-10T13:13:23.680Z"
   },
   {
    "duration": 368,
    "start_time": "2024-01-10T13:13:37.615Z"
   },
   {
    "duration": 6341,
    "start_time": "2024-01-10T13:17:17.429Z"
   },
   {
    "duration": 1405,
    "start_time": "2024-01-10T13:17:23.772Z"
   },
   {
    "duration": 406,
    "start_time": "2024-01-10T13:17:25.179Z"
   },
   {
    "duration": 14,
    "start_time": "2024-01-10T13:17:25.587Z"
   },
   {
    "duration": 24,
    "start_time": "2024-01-10T13:17:25.602Z"
   },
   {
    "duration": 9,
    "start_time": "2024-01-10T13:17:25.627Z"
   },
   {
    "duration": 25,
    "start_time": "2024-01-10T13:17:25.637Z"
   },
   {
    "duration": 8,
    "start_time": "2024-01-10T13:17:25.664Z"
   },
   {
    "duration": 45,
    "start_time": "2024-01-10T13:17:25.674Z"
   },
   {
    "duration": 18,
    "start_time": "2024-01-10T13:17:25.722Z"
   },
   {
    "duration": 13,
    "start_time": "2024-01-10T13:17:25.742Z"
   },
   {
    "duration": 92,
    "start_time": "2024-01-10T13:17:25.757Z"
   },
   {
    "duration": 39,
    "start_time": "2024-01-10T13:17:25.851Z"
   },
   {
    "duration": 53,
    "start_time": "2024-01-10T13:17:25.892Z"
   },
   {
    "duration": 35,
    "start_time": "2024-01-10T13:17:25.947Z"
   },
   {
    "duration": 9,
    "start_time": "2024-01-10T13:17:25.983Z"
   },
   {
    "duration": 1185,
    "start_time": "2024-01-10T13:17:26.011Z"
   },
   {
    "duration": 747,
    "start_time": "2024-01-10T13:17:27.197Z"
   },
   {
    "duration": 1148,
    "start_time": "2024-01-10T13:17:27.946Z"
   },
   {
    "duration": 772,
    "start_time": "2024-01-10T13:17:29.095Z"
   },
   {
    "duration": 1501,
    "start_time": "2024-01-10T13:17:29.869Z"
   },
   {
    "duration": 754,
    "start_time": "2024-01-10T13:17:31.372Z"
   },
   {
    "duration": 4,
    "start_time": "2024-01-10T13:17:32.128Z"
   },
   {
    "duration": 4,
    "start_time": "2024-01-10T13:17:32.134Z"
   },
   {
    "duration": 1810,
    "start_time": "2024-01-10T13:17:32.140Z"
   },
   {
    "duration": 4,
    "start_time": "2024-01-10T13:17:33.951Z"
   },
   {
    "duration": 36,
    "start_time": "2024-01-10T13:17:33.957Z"
   },
   {
    "duration": 8,
    "start_time": "2024-01-10T13:17:33.998Z"
   },
   {
    "duration": 206,
    "start_time": "2024-01-10T13:17:34.011Z"
   },
   {
    "duration": 193,
    "start_time": "2024-01-10T13:17:34.219Z"
   },
   {
    "duration": 24,
    "start_time": "2024-01-10T13:17:34.414Z"
   },
   {
    "duration": 19,
    "start_time": "2024-01-10T13:17:34.439Z"
   },
   {
    "duration": 11,
    "start_time": "2024-01-10T13:17:34.459Z"
   },
   {
    "duration": 8,
    "start_time": "2024-01-10T13:17:34.472Z"
   },
   {
    "duration": 5,
    "start_time": "2024-01-10T13:17:34.482Z"
   },
   {
    "duration": 7,
    "start_time": "2024-01-10T13:17:34.488Z"
   },
   {
    "duration": 7,
    "start_time": "2024-01-10T13:17:34.496Z"
   },
   {
    "duration": 8,
    "start_time": "2024-01-10T13:17:34.504Z"
   },
   {
    "duration": 15,
    "start_time": "2024-01-10T13:17:34.513Z"
   },
   {
    "duration": 20,
    "start_time": "2024-01-10T13:17:34.529Z"
   },
   {
    "duration": 2,
    "start_time": "2024-01-10T13:17:34.550Z"
   },
   {
    "duration": 5,
    "start_time": "2024-01-10T13:17:34.554Z"
   },
   {
    "duration": 2451,
    "start_time": "2024-01-10T13:17:34.560Z"
   },
   {
    "duration": 12,
    "start_time": "2024-01-10T13:17:37.012Z"
   },
   {
    "duration": 5,
    "start_time": "2024-01-10T13:17:37.025Z"
   },
   {
    "duration": 374,
    "start_time": "2024-01-10T13:17:37.031Z"
   },
   {
    "duration": 350,
    "start_time": "2024-01-10T13:17:37.406Z"
   },
   {
    "duration": 353,
    "start_time": "2024-01-10T13:17:37.758Z"
   },
   {
    "duration": 2614,
    "start_time": "2024-01-10T13:24:11.819Z"
   },
   {
    "duration": 1578,
    "start_time": "2024-01-10T13:24:14.435Z"
   },
   {
    "duration": 404,
    "start_time": "2024-01-10T13:24:16.015Z"
   },
   {
    "duration": 13,
    "start_time": "2024-01-10T13:24:16.421Z"
   },
   {
    "duration": 18,
    "start_time": "2024-01-10T13:24:16.435Z"
   },
   {
    "duration": 8,
    "start_time": "2024-01-10T13:24:16.455Z"
   },
   {
    "duration": 16,
    "start_time": "2024-01-10T13:24:16.464Z"
   },
   {
    "duration": 36,
    "start_time": "2024-01-10T13:24:16.482Z"
   },
   {
    "duration": 15,
    "start_time": "2024-01-10T13:24:16.519Z"
   },
   {
    "duration": 12,
    "start_time": "2024-01-10T13:24:16.537Z"
   },
   {
    "duration": 6,
    "start_time": "2024-01-10T13:24:16.551Z"
   },
   {
    "duration": 115,
    "start_time": "2024-01-10T13:24:16.558Z"
   },
   {
    "duration": 48,
    "start_time": "2024-01-10T13:24:16.675Z"
   },
   {
    "duration": 34,
    "start_time": "2024-01-10T13:24:16.724Z"
   },
   {
    "duration": 35,
    "start_time": "2024-01-10T13:24:16.759Z"
   },
   {
    "duration": 8,
    "start_time": "2024-01-10T13:24:16.811Z"
   },
   {
    "duration": 1193,
    "start_time": "2024-01-10T13:24:16.821Z"
   },
   {
    "duration": 825,
    "start_time": "2024-01-10T13:24:18.016Z"
   },
   {
    "duration": 1136,
    "start_time": "2024-01-10T13:24:18.843Z"
   },
   {
    "duration": 842,
    "start_time": "2024-01-10T13:24:19.981Z"
   },
   {
    "duration": 1409,
    "start_time": "2024-01-10T13:24:20.825Z"
   },
   {
    "duration": 759,
    "start_time": "2024-01-10T13:24:22.236Z"
   },
   {
    "duration": 4,
    "start_time": "2024-01-10T13:24:22.997Z"
   },
   {
    "duration": 10,
    "start_time": "2024-01-10T13:24:23.002Z"
   },
   {
    "duration": 1891,
    "start_time": "2024-01-10T13:24:23.013Z"
   },
   {
    "duration": 7,
    "start_time": "2024-01-10T13:24:24.905Z"
   },
   {
    "duration": 38,
    "start_time": "2024-01-10T13:24:24.914Z"
   },
   {
    "duration": 4,
    "start_time": "2024-01-10T13:24:24.957Z"
   },
   {
    "duration": 354,
    "start_time": "2024-01-10T13:24:24.963Z"
   },
   {
    "duration": 94,
    "start_time": "2024-01-10T13:24:25.319Z"
   },
   {
    "duration": 97,
    "start_time": "2024-01-10T13:24:25.415Z"
   },
   {
    "duration": 16,
    "start_time": "2024-01-10T13:24:25.514Z"
   },
   {
    "duration": 9,
    "start_time": "2024-01-10T13:24:25.532Z"
   },
   {
    "duration": 26,
    "start_time": "2024-01-10T13:24:25.543Z"
   },
   {
    "duration": 7,
    "start_time": "2024-01-10T13:24:25.571Z"
   },
   {
    "duration": 7,
    "start_time": "2024-01-10T13:24:25.579Z"
   },
   {
    "duration": 6,
    "start_time": "2024-01-10T13:24:25.587Z"
   },
   {
    "duration": 11,
    "start_time": "2024-01-10T13:24:25.605Z"
   },
   {
    "duration": 6,
    "start_time": "2024-01-10T13:24:25.618Z"
   },
   {
    "duration": 22,
    "start_time": "2024-01-10T13:24:25.625Z"
   },
   {
    "duration": 3,
    "start_time": "2024-01-10T13:24:25.649Z"
   },
   {
    "duration": 36,
    "start_time": "2024-01-10T13:24:25.653Z"
   },
   {
    "duration": 932,
    "start_time": "2024-01-10T13:24:25.691Z"
   },
   {
    "duration": 0,
    "start_time": "2024-01-10T13:24:26.625Z"
   },
   {
    "duration": 0,
    "start_time": "2024-01-10T13:24:26.627Z"
   },
   {
    "duration": 0,
    "start_time": "2024-01-10T13:24:26.628Z"
   },
   {
    "duration": 0,
    "start_time": "2024-01-10T13:24:26.629Z"
   },
   {
    "duration": 0,
    "start_time": "2024-01-10T13:24:26.630Z"
   },
   {
    "duration": 5,
    "start_time": "2024-01-10T13:25:36.104Z"
   },
   {
    "duration": 2433,
    "start_time": "2024-01-10T13:25:36.768Z"
   },
   {
    "duration": 14,
    "start_time": "2024-01-10T13:25:42.411Z"
   },
   {
    "duration": 4,
    "start_time": "2024-01-10T13:26:17.676Z"
   },
   {
    "duration": 323,
    "start_time": "2024-01-10T13:26:19.663Z"
   },
   {
    "duration": 4,
    "start_time": "2024-01-10T13:26:52.044Z"
   },
   {
    "duration": 341,
    "start_time": "2024-01-10T13:26:53.762Z"
   },
   {
    "duration": 5,
    "start_time": "2024-01-10T13:27:37.716Z"
   },
   {
    "duration": 363,
    "start_time": "2024-01-10T13:27:40.130Z"
   },
   {
    "duration": 376,
    "start_time": "2024-01-10T13:27:46.384Z"
   },
   {
    "duration": 380,
    "start_time": "2024-01-10T13:28:06.291Z"
   },
   {
    "duration": 4,
    "start_time": "2024-01-10T13:33:30.152Z"
   },
   {
    "duration": 350,
    "start_time": "2024-01-10T13:33:32.097Z"
   },
   {
    "duration": 5,
    "start_time": "2024-01-10T13:33:50.155Z"
   },
   {
    "duration": 365,
    "start_time": "2024-01-10T13:33:51.633Z"
   },
   {
    "duration": 2418,
    "start_time": "2024-01-10T13:34:08.851Z"
   },
   {
    "duration": 1381,
    "start_time": "2024-01-10T13:34:11.272Z"
   },
   {
    "duration": 384,
    "start_time": "2024-01-10T13:34:12.655Z"
   },
   {
    "duration": 13,
    "start_time": "2024-01-10T13:34:13.041Z"
   },
   {
    "duration": 14,
    "start_time": "2024-01-10T13:34:13.056Z"
   },
   {
    "duration": 15,
    "start_time": "2024-01-10T13:34:13.072Z"
   },
   {
    "duration": 32,
    "start_time": "2024-01-10T13:34:13.089Z"
   },
   {
    "duration": 9,
    "start_time": "2024-01-10T13:34:13.122Z"
   },
   {
    "duration": 15,
    "start_time": "2024-01-10T13:34:13.133Z"
   },
   {
    "duration": 14,
    "start_time": "2024-01-10T13:34:13.149Z"
   },
   {
    "duration": 7,
    "start_time": "2024-01-10T13:34:13.164Z"
   },
   {
    "duration": 90,
    "start_time": "2024-01-10T13:34:13.172Z"
   },
   {
    "duration": 35,
    "start_time": "2024-01-10T13:34:13.264Z"
   },
   {
    "duration": 35,
    "start_time": "2024-01-10T13:34:13.312Z"
   },
   {
    "duration": 32,
    "start_time": "2024-01-10T13:34:13.348Z"
   },
   {
    "duration": 8,
    "start_time": "2024-01-10T13:34:13.381Z"
   },
   {
    "duration": 1114,
    "start_time": "2024-01-10T13:34:13.410Z"
   },
   {
    "duration": 837,
    "start_time": "2024-01-10T13:34:14.526Z"
   },
   {
    "duration": 1111,
    "start_time": "2024-01-10T13:34:15.364Z"
   },
   {
    "duration": 768,
    "start_time": "2024-01-10T13:34:16.477Z"
   },
   {
    "duration": 1469,
    "start_time": "2024-01-10T13:34:17.247Z"
   },
   {
    "duration": 914,
    "start_time": "2024-01-10T13:34:18.717Z"
   },
   {
    "duration": 5,
    "start_time": "2024-01-10T13:34:19.632Z"
   },
   {
    "duration": 20,
    "start_time": "2024-01-10T13:34:19.639Z"
   },
   {
    "duration": 1931,
    "start_time": "2024-01-10T13:34:19.661Z"
   },
   {
    "duration": 4,
    "start_time": "2024-01-10T13:34:21.593Z"
   },
   {
    "duration": 35,
    "start_time": "2024-01-10T13:34:21.598Z"
   },
   {
    "duration": 3,
    "start_time": "2024-01-10T13:34:21.635Z"
   },
   {
    "duration": 275,
    "start_time": "2024-01-10T13:34:21.640Z"
   },
   {
    "duration": 108,
    "start_time": "2024-01-10T13:34:21.918Z"
   },
   {
    "duration": 8,
    "start_time": "2024-01-10T13:34:22.112Z"
   },
   {
    "duration": 13,
    "start_time": "2024-01-10T13:34:22.121Z"
   },
   {
    "duration": 6,
    "start_time": "2024-01-10T13:34:22.136Z"
   },
   {
    "duration": 5,
    "start_time": "2024-01-10T13:34:22.143Z"
   },
   {
    "duration": 6,
    "start_time": "2024-01-10T13:34:22.150Z"
   },
   {
    "duration": 3,
    "start_time": "2024-01-10T13:34:22.157Z"
   },
   {
    "duration": 7,
    "start_time": "2024-01-10T13:34:22.162Z"
   },
   {
    "duration": 7,
    "start_time": "2024-01-10T13:34:22.171Z"
   },
   {
    "duration": 38,
    "start_time": "2024-01-10T13:34:22.180Z"
   },
   {
    "duration": 34,
    "start_time": "2024-01-10T13:34:22.219Z"
   },
   {
    "duration": 3,
    "start_time": "2024-01-10T13:34:22.257Z"
   },
   {
    "duration": 6,
    "start_time": "2024-01-10T13:34:22.261Z"
   },
   {
    "duration": 2458,
    "start_time": "2024-01-10T13:34:22.268Z"
   },
   {
    "duration": 14,
    "start_time": "2024-01-10T13:34:24.727Z"
   },
   {
    "duration": 6,
    "start_time": "2024-01-10T13:34:24.743Z"
   },
   {
    "duration": 462,
    "start_time": "2024-01-10T13:34:24.751Z"
   },
   {
    "duration": 355,
    "start_time": "2024-01-10T13:34:25.215Z"
   },
   {
    "duration": 395,
    "start_time": "2024-01-10T13:34:25.572Z"
   },
   {
    "duration": 7,
    "start_time": "2024-01-10T13:38:42.481Z"
   },
   {
    "duration": 383,
    "start_time": "2024-01-10T13:38:44.787Z"
   },
   {
    "duration": 6,
    "start_time": "2024-01-10T13:39:11.338Z"
   },
   {
    "duration": 434,
    "start_time": "2024-01-10T13:39:12.991Z"
   },
   {
    "duration": 5,
    "start_time": "2024-01-10T13:39:31.154Z"
   },
   {
    "duration": 400,
    "start_time": "2024-01-10T13:39:32.587Z"
   },
   {
    "duration": 2395,
    "start_time": "2024-01-10T13:39:49.244Z"
   },
   {
    "duration": 1447,
    "start_time": "2024-01-10T13:39:51.641Z"
   },
   {
    "duration": 411,
    "start_time": "2024-01-10T13:39:53.090Z"
   },
   {
    "duration": 13,
    "start_time": "2024-01-10T13:39:53.502Z"
   },
   {
    "duration": 16,
    "start_time": "2024-01-10T13:39:53.516Z"
   },
   {
    "duration": 9,
    "start_time": "2024-01-10T13:39:53.533Z"
   },
   {
    "duration": 30,
    "start_time": "2024-01-10T13:39:53.543Z"
   },
   {
    "duration": 8,
    "start_time": "2024-01-10T13:39:53.574Z"
   },
   {
    "duration": 27,
    "start_time": "2024-01-10T13:39:53.584Z"
   },
   {
    "duration": 12,
    "start_time": "2024-01-10T13:39:53.613Z"
   },
   {
    "duration": 20,
    "start_time": "2024-01-10T13:39:53.627Z"
   },
   {
    "duration": 79,
    "start_time": "2024-01-10T13:39:53.649Z"
   },
   {
    "duration": 37,
    "start_time": "2024-01-10T13:39:53.729Z"
   },
   {
    "duration": 50,
    "start_time": "2024-01-10T13:39:53.768Z"
   },
   {
    "duration": 33,
    "start_time": "2024-01-10T13:39:53.820Z"
   },
   {
    "duration": 7,
    "start_time": "2024-01-10T13:39:53.854Z"
   },
   {
    "duration": 1174,
    "start_time": "2024-01-10T13:39:53.862Z"
   },
   {
    "duration": 929,
    "start_time": "2024-01-10T13:39:55.038Z"
   },
   {
    "duration": 1131,
    "start_time": "2024-01-10T13:39:55.969Z"
   },
   {
    "duration": 829,
    "start_time": "2024-01-10T13:39:57.102Z"
   },
   {
    "duration": 1406,
    "start_time": "2024-01-10T13:39:57.933Z"
   },
   {
    "duration": 772,
    "start_time": "2024-01-10T13:39:59.341Z"
   },
   {
    "duration": 4,
    "start_time": "2024-01-10T13:40:00.115Z"
   },
   {
    "duration": 25,
    "start_time": "2024-01-10T13:40:00.120Z"
   },
   {
    "duration": 1984,
    "start_time": "2024-01-10T13:40:00.146Z"
   },
   {
    "duration": 4,
    "start_time": "2024-01-10T13:40:02.132Z"
   },
   {
    "duration": 43,
    "start_time": "2024-01-10T13:40:02.137Z"
   },
   {
    "duration": 3,
    "start_time": "2024-01-10T13:40:02.183Z"
   },
   {
    "duration": 225,
    "start_time": "2024-01-10T13:40:02.188Z"
   },
   {
    "duration": 103,
    "start_time": "2024-01-10T13:40:02.416Z"
   },
   {
    "duration": 96,
    "start_time": "2024-01-10T13:40:02.522Z"
   },
   {
    "duration": 29,
    "start_time": "2024-01-10T13:40:02.620Z"
   },
   {
    "duration": 28,
    "start_time": "2024-01-10T13:40:02.651Z"
   },
   {
    "duration": 7,
    "start_time": "2024-01-10T13:40:02.681Z"
   },
   {
    "duration": 6,
    "start_time": "2024-01-10T13:40:02.691Z"
   },
   {
    "duration": 6,
    "start_time": "2024-01-10T13:40:02.699Z"
   },
   {
    "duration": 10,
    "start_time": "2024-01-10T13:40:02.707Z"
   },
   {
    "duration": 28,
    "start_time": "2024-01-10T13:40:02.719Z"
   },
   {
    "duration": 14,
    "start_time": "2024-01-10T13:40:02.749Z"
   },
   {
    "duration": 25,
    "start_time": "2024-01-10T13:40:02.765Z"
   },
   {
    "duration": 3,
    "start_time": "2024-01-10T13:40:02.792Z"
   },
   {
    "duration": 8,
    "start_time": "2024-01-10T13:40:02.797Z"
   },
   {
    "duration": 2497,
    "start_time": "2024-01-10T13:40:02.810Z"
   },
   {
    "duration": 14,
    "start_time": "2024-01-10T13:40:05.310Z"
   },
   {
    "duration": 6,
    "start_time": "2024-01-10T13:40:05.326Z"
   },
   {
    "duration": 378,
    "start_time": "2024-01-10T13:40:05.333Z"
   },
   {
    "duration": 380,
    "start_time": "2024-01-10T13:40:05.712Z"
   },
   {
    "duration": 365,
    "start_time": "2024-01-10T13:40:06.094Z"
   },
   {
    "duration": 6,
    "start_time": "2024-01-10T13:43:03.608Z"
   },
   {
    "duration": 355,
    "start_time": "2024-01-10T13:43:11.157Z"
   },
   {
    "duration": 374,
    "start_time": "2024-01-10T13:43:24.111Z"
   },
   {
    "duration": 385,
    "start_time": "2024-01-10T13:43:35.317Z"
   },
   {
    "duration": 437,
    "start_time": "2024-01-10T13:43:39.556Z"
   },
   {
    "duration": 2458,
    "start_time": "2024-01-10T13:44:08.904Z"
   },
   {
    "duration": 1384,
    "start_time": "2024-01-10T13:44:11.365Z"
   },
   {
    "duration": 395,
    "start_time": "2024-01-10T13:44:12.751Z"
   },
   {
    "duration": 16,
    "start_time": "2024-01-10T13:44:13.149Z"
   },
   {
    "duration": 24,
    "start_time": "2024-01-10T13:44:13.167Z"
   },
   {
    "duration": 24,
    "start_time": "2024-01-10T13:44:13.194Z"
   },
   {
    "duration": 15,
    "start_time": "2024-01-10T13:44:13.220Z"
   },
   {
    "duration": 9,
    "start_time": "2024-01-10T13:44:13.237Z"
   },
   {
    "duration": 20,
    "start_time": "2024-01-10T13:44:13.248Z"
   },
   {
    "duration": 41,
    "start_time": "2024-01-10T13:44:13.270Z"
   },
   {
    "duration": 4,
    "start_time": "2024-01-10T13:44:13.313Z"
   },
   {
    "duration": 94,
    "start_time": "2024-01-10T13:44:13.318Z"
   },
   {
    "duration": 36,
    "start_time": "2024-01-10T13:44:13.413Z"
   },
   {
    "duration": 33,
    "start_time": "2024-01-10T13:44:13.451Z"
   },
   {
    "duration": 57,
    "start_time": "2024-01-10T13:44:13.486Z"
   },
   {
    "duration": 7,
    "start_time": "2024-01-10T13:44:13.544Z"
   },
   {
    "duration": 1198,
    "start_time": "2024-01-10T13:44:13.553Z"
   },
   {
    "duration": 768,
    "start_time": "2024-01-10T13:44:14.753Z"
   },
   {
    "duration": 1132,
    "start_time": "2024-01-10T13:44:15.522Z"
   },
   {
    "duration": 775,
    "start_time": "2024-01-10T13:44:16.656Z"
   },
   {
    "duration": 1437,
    "start_time": "2024-01-10T13:44:17.433Z"
   },
   {
    "duration": 767,
    "start_time": "2024-01-10T13:44:18.872Z"
   },
   {
    "duration": 4,
    "start_time": "2024-01-10T13:44:19.641Z"
   },
   {
    "duration": 4,
    "start_time": "2024-01-10T13:44:19.647Z"
   },
   {
    "duration": 1861,
    "start_time": "2024-01-10T13:44:19.652Z"
   },
   {
    "duration": 4,
    "start_time": "2024-01-10T13:44:21.514Z"
   },
   {
    "duration": 25,
    "start_time": "2024-01-10T13:44:21.519Z"
   },
   {
    "duration": 3,
    "start_time": "2024-01-10T13:44:21.548Z"
   },
   {
    "duration": 164,
    "start_time": "2024-01-10T13:44:21.552Z"
   },
   {
    "duration": 101,
    "start_time": "2024-01-10T13:44:21.718Z"
   },
   {
    "duration": 10,
    "start_time": "2024-01-10T13:44:21.911Z"
   },
   {
    "duration": 9,
    "start_time": "2024-01-10T13:44:21.922Z"
   },
   {
    "duration": 9,
    "start_time": "2024-01-10T13:44:21.932Z"
   },
   {
    "duration": 10,
    "start_time": "2024-01-10T13:44:21.944Z"
   },
   {
    "duration": 11,
    "start_time": "2024-01-10T13:44:21.956Z"
   },
   {
    "duration": 11,
    "start_time": "2024-01-10T13:44:21.969Z"
   },
   {
    "duration": 7,
    "start_time": "2024-01-10T13:44:21.981Z"
   },
   {
    "duration": 22,
    "start_time": "2024-01-10T13:44:21.990Z"
   },
   {
    "duration": 8,
    "start_time": "2024-01-10T13:44:22.014Z"
   },
   {
    "duration": 25,
    "start_time": "2024-01-10T13:44:22.024Z"
   },
   {
    "duration": 4,
    "start_time": "2024-01-10T13:44:22.051Z"
   },
   {
    "duration": 6,
    "start_time": "2024-01-10T13:44:22.057Z"
   },
   {
    "duration": 2416,
    "start_time": "2024-01-10T13:44:22.065Z"
   },
   {
    "duration": 12,
    "start_time": "2024-01-10T13:44:24.483Z"
   },
   {
    "duration": 15,
    "start_time": "2024-01-10T13:44:24.497Z"
   },
   {
    "duration": 377,
    "start_time": "2024-01-10T13:44:24.513Z"
   },
   {
    "duration": 368,
    "start_time": "2024-01-10T13:44:24.891Z"
   },
   {
    "duration": 341,
    "start_time": "2024-01-10T13:44:25.261Z"
   },
   {
    "duration": 2373,
    "start_time": "2024-01-10T13:45:08.594Z"
   },
   {
    "duration": 1398,
    "start_time": "2024-01-10T13:45:10.969Z"
   },
   {
    "duration": 409,
    "start_time": "2024-01-10T13:45:12.369Z"
   },
   {
    "duration": 16,
    "start_time": "2024-01-10T13:45:12.780Z"
   },
   {
    "duration": 34,
    "start_time": "2024-01-10T13:45:12.798Z"
   },
   {
    "duration": 12,
    "start_time": "2024-01-10T13:45:12.834Z"
   },
   {
    "duration": 17,
    "start_time": "2024-01-10T13:45:12.848Z"
   },
   {
    "duration": 12,
    "start_time": "2024-01-10T13:45:12.867Z"
   },
   {
    "duration": 49,
    "start_time": "2024-01-10T13:45:12.881Z"
   },
   {
    "duration": 15,
    "start_time": "2024-01-10T13:45:12.933Z"
   },
   {
    "duration": 13,
    "start_time": "2024-01-10T13:45:12.950Z"
   },
   {
    "duration": 91,
    "start_time": "2024-01-10T13:45:12.965Z"
   },
   {
    "duration": 39,
    "start_time": "2024-01-10T13:45:13.057Z"
   },
   {
    "duration": 49,
    "start_time": "2024-01-10T13:45:13.098Z"
   },
   {
    "duration": 34,
    "start_time": "2024-01-10T13:45:13.149Z"
   },
   {
    "duration": 27,
    "start_time": "2024-01-10T13:45:13.185Z"
   },
   {
    "duration": 1197,
    "start_time": "2024-01-10T13:45:13.214Z"
   },
   {
    "duration": 806,
    "start_time": "2024-01-10T13:45:14.412Z"
   },
   {
    "duration": 1125,
    "start_time": "2024-01-10T13:45:15.220Z"
   },
   {
    "duration": 787,
    "start_time": "2024-01-10T13:45:16.347Z"
   },
   {
    "duration": 1424,
    "start_time": "2024-01-10T13:45:17.136Z"
   },
   {
    "duration": 771,
    "start_time": "2024-01-10T13:45:18.562Z"
   },
   {
    "duration": 4,
    "start_time": "2024-01-10T13:45:19.335Z"
   },
   {
    "duration": 10,
    "start_time": "2024-01-10T13:45:19.341Z"
   },
   {
    "duration": 1881,
    "start_time": "2024-01-10T13:45:19.352Z"
   },
   {
    "duration": 4,
    "start_time": "2024-01-10T13:45:21.234Z"
   },
   {
    "duration": 24,
    "start_time": "2024-01-10T13:45:21.240Z"
   },
   {
    "duration": 3,
    "start_time": "2024-01-10T13:45:21.268Z"
   },
   {
    "duration": 243,
    "start_time": "2024-01-10T13:45:21.273Z"
   },
   {
    "duration": 191,
    "start_time": "2024-01-10T13:45:21.521Z"
   },
   {
    "duration": 15,
    "start_time": "2024-01-10T13:45:21.715Z"
   },
   {
    "duration": 6,
    "start_time": "2024-01-10T13:45:21.732Z"
   },
   {
    "duration": 4,
    "start_time": "2024-01-10T13:45:21.740Z"
   },
   {
    "duration": 4,
    "start_time": "2024-01-10T13:45:21.746Z"
   },
   {
    "duration": 7,
    "start_time": "2024-01-10T13:45:21.751Z"
   },
   {
    "duration": 3,
    "start_time": "2024-01-10T13:45:21.760Z"
   },
   {
    "duration": 11,
    "start_time": "2024-01-10T13:45:21.765Z"
   },
   {
    "duration": 37,
    "start_time": "2024-01-10T13:45:21.777Z"
   },
   {
    "duration": 78,
    "start_time": "2024-01-10T13:45:21.816Z"
   },
   {
    "duration": 22,
    "start_time": "2024-01-10T13:45:21.895Z"
   },
   {
    "duration": 2,
    "start_time": "2024-01-10T13:45:21.919Z"
   },
   {
    "duration": 6,
    "start_time": "2024-01-10T13:45:21.923Z"
   },
   {
    "duration": 2423,
    "start_time": "2024-01-10T13:45:21.930Z"
   },
   {
    "duration": 13,
    "start_time": "2024-01-10T13:45:24.354Z"
   },
   {
    "duration": 5,
    "start_time": "2024-01-10T13:45:24.369Z"
   },
   {
    "duration": 395,
    "start_time": "2024-01-10T13:45:24.375Z"
   },
   {
    "duration": 383,
    "start_time": "2024-01-10T13:45:24.772Z"
   },
   {
    "duration": 349,
    "start_time": "2024-01-10T13:45:25.156Z"
   },
   {
    "duration": 2489,
    "start_time": "2024-01-10T13:53:14.226Z"
   },
   {
    "duration": 1384,
    "start_time": "2024-01-10T13:53:16.717Z"
   },
   {
    "duration": 408,
    "start_time": "2024-01-10T13:53:18.103Z"
   },
   {
    "duration": 17,
    "start_time": "2024-01-10T13:53:18.513Z"
   },
   {
    "duration": 22,
    "start_time": "2024-01-10T13:53:18.532Z"
   },
   {
    "duration": 12,
    "start_time": "2024-01-10T13:53:18.556Z"
   },
   {
    "duration": 17,
    "start_time": "2024-01-10T13:53:18.570Z"
   },
   {
    "duration": 9,
    "start_time": "2024-01-10T13:53:18.611Z"
   },
   {
    "duration": 15,
    "start_time": "2024-01-10T13:53:18.621Z"
   },
   {
    "duration": 12,
    "start_time": "2024-01-10T13:53:18.639Z"
   },
   {
    "duration": 9,
    "start_time": "2024-01-10T13:53:18.652Z"
   },
   {
    "duration": 96,
    "start_time": "2024-01-10T13:53:18.662Z"
   },
   {
    "duration": 34,
    "start_time": "2024-01-10T13:53:18.760Z"
   },
   {
    "duration": 46,
    "start_time": "2024-01-10T13:53:18.796Z"
   },
   {
    "duration": 34,
    "start_time": "2024-01-10T13:53:18.843Z"
   },
   {
    "duration": 8,
    "start_time": "2024-01-10T13:53:18.878Z"
   },
   {
    "duration": 1220,
    "start_time": "2024-01-10T13:53:18.887Z"
   },
   {
    "duration": 733,
    "start_time": "2024-01-10T13:53:20.110Z"
   },
   {
    "duration": 1101,
    "start_time": "2024-01-10T13:53:20.844Z"
   },
   {
    "duration": 788,
    "start_time": "2024-01-10T13:53:21.948Z"
   },
   {
    "duration": 1404,
    "start_time": "2024-01-10T13:53:22.738Z"
   },
   {
    "duration": 751,
    "start_time": "2024-01-10T13:53:24.144Z"
   },
   {
    "duration": 5,
    "start_time": "2024-01-10T13:53:24.897Z"
   },
   {
    "duration": 2,
    "start_time": "2024-01-10T13:53:24.911Z"
   },
   {
    "duration": 1828,
    "start_time": "2024-01-10T13:53:24.915Z"
   },
   {
    "duration": 4,
    "start_time": "2024-01-10T13:53:26.744Z"
   },
   {
    "duration": 24,
    "start_time": "2024-01-10T13:53:26.749Z"
   },
   {
    "duration": 4,
    "start_time": "2024-01-10T13:53:26.777Z"
   },
   {
    "duration": 139,
    "start_time": "2024-01-10T13:53:26.782Z"
   },
   {
    "duration": 189,
    "start_time": "2024-01-10T13:53:26.923Z"
   },
   {
    "duration": 10,
    "start_time": "2024-01-10T13:53:27.113Z"
   },
   {
    "duration": 4,
    "start_time": "2024-01-10T13:53:27.124Z"
   },
   {
    "duration": 4,
    "start_time": "2024-01-10T13:53:27.129Z"
   },
   {
    "duration": 4,
    "start_time": "2024-01-10T13:53:27.134Z"
   },
   {
    "duration": 5,
    "start_time": "2024-01-10T13:53:27.139Z"
   },
   {
    "duration": 8,
    "start_time": "2024-01-10T13:53:27.145Z"
   },
   {
    "duration": 5,
    "start_time": "2024-01-10T13:53:27.154Z"
   },
   {
    "duration": 8,
    "start_time": "2024-01-10T13:53:27.160Z"
   },
   {
    "duration": 47,
    "start_time": "2024-01-10T13:53:27.169Z"
   },
   {
    "duration": 19,
    "start_time": "2024-01-10T13:53:27.217Z"
   },
   {
    "duration": 2,
    "start_time": "2024-01-10T13:53:27.238Z"
   },
   {
    "duration": 5,
    "start_time": "2024-01-10T13:53:27.241Z"
   },
   {
    "duration": 2483,
    "start_time": "2024-01-10T13:53:27.247Z"
   },
   {
    "duration": 13,
    "start_time": "2024-01-10T13:53:29.731Z"
   },
   {
    "duration": 4,
    "start_time": "2024-01-10T13:53:29.746Z"
   },
   {
    "duration": 347,
    "start_time": "2024-01-10T13:53:29.752Z"
   },
   {
    "duration": 385,
    "start_time": "2024-01-10T13:53:30.101Z"
   },
   {
    "duration": 410,
    "start_time": "2024-01-10T13:53:30.487Z"
   },
   {
    "duration": 3426,
    "start_time": "2024-01-10T17:47:38.938Z"
   },
   {
    "duration": 2210,
    "start_time": "2024-01-10T17:47:42.367Z"
   },
   {
    "duration": 1652,
    "start_time": "2024-01-10T17:47:44.579Z"
   },
   {
    "duration": 13,
    "start_time": "2024-01-10T17:47:46.233Z"
   },
   {
    "duration": 35,
    "start_time": "2024-01-10T17:47:46.248Z"
   },
   {
    "duration": 8,
    "start_time": "2024-01-10T17:47:46.285Z"
   },
   {
    "duration": 28,
    "start_time": "2024-01-10T17:47:46.295Z"
   },
   {
    "duration": 9,
    "start_time": "2024-01-10T17:47:46.325Z"
   },
   {
    "duration": 20,
    "start_time": "2024-01-10T17:47:46.335Z"
   },
   {
    "duration": 16,
    "start_time": "2024-01-10T17:47:46.357Z"
   },
   {
    "duration": 18,
    "start_time": "2024-01-10T17:47:46.375Z"
   },
   {
    "duration": 99,
    "start_time": "2024-01-10T17:47:46.395Z"
   },
   {
    "duration": 38,
    "start_time": "2024-01-10T17:47:46.496Z"
   },
   {
    "duration": 52,
    "start_time": "2024-01-10T17:47:46.535Z"
   },
   {
    "duration": 34,
    "start_time": "2024-01-10T17:47:46.589Z"
   },
   {
    "duration": 8,
    "start_time": "2024-01-10T17:47:46.624Z"
   },
   {
    "duration": 1296,
    "start_time": "2024-01-10T17:47:46.633Z"
   },
   {
    "duration": 900,
    "start_time": "2024-01-10T17:47:47.930Z"
   },
   {
    "duration": 1176,
    "start_time": "2024-01-10T17:47:48.831Z"
   },
   {
    "duration": 808,
    "start_time": "2024-01-10T17:47:50.008Z"
   },
   {
    "duration": 1472,
    "start_time": "2024-01-10T17:47:50.818Z"
   },
   {
    "duration": 789,
    "start_time": "2024-01-10T17:47:52.292Z"
   },
   {
    "duration": 5,
    "start_time": "2024-01-10T17:47:53.082Z"
   },
   {
    "duration": 5,
    "start_time": "2024-01-10T17:47:53.088Z"
   },
   {
    "duration": 1915,
    "start_time": "2024-01-10T17:47:53.094Z"
   },
   {
    "duration": 3,
    "start_time": "2024-01-10T17:47:55.011Z"
   },
   {
    "duration": 44,
    "start_time": "2024-01-10T17:47:55.016Z"
   },
   {
    "duration": 4,
    "start_time": "2024-01-10T17:47:55.064Z"
   },
   {
    "duration": 204,
    "start_time": "2024-01-10T17:47:55.073Z"
   },
   {
    "duration": 194,
    "start_time": "2024-01-10T17:47:55.279Z"
   },
   {
    "duration": 9,
    "start_time": "2024-01-10T17:47:55.475Z"
   },
   {
    "duration": 6,
    "start_time": "2024-01-10T17:47:55.486Z"
   },
   {
    "duration": 10,
    "start_time": "2024-01-10T17:47:55.494Z"
   },
   {
    "duration": 10,
    "start_time": "2024-01-10T17:47:55.505Z"
   },
   {
    "duration": 7,
    "start_time": "2024-01-10T17:47:55.517Z"
   },
   {
    "duration": 6,
    "start_time": "2024-01-10T17:47:55.526Z"
   },
   {
    "duration": 13,
    "start_time": "2024-01-10T17:47:55.533Z"
   },
   {
    "duration": 13,
    "start_time": "2024-01-10T17:47:55.547Z"
   },
   {
    "duration": 14,
    "start_time": "2024-01-10T17:47:55.562Z"
   },
   {
    "duration": 23,
    "start_time": "2024-01-10T17:47:55.578Z"
   },
   {
    "duration": 3,
    "start_time": "2024-01-10T17:47:55.602Z"
   },
   {
    "duration": 10,
    "start_time": "2024-01-10T17:47:55.606Z"
   },
   {
    "duration": 2564,
    "start_time": "2024-01-10T17:47:55.618Z"
   },
   {
    "duration": 14,
    "start_time": "2024-01-10T17:47:58.184Z"
   },
   {
    "duration": 25,
    "start_time": "2024-01-10T17:47:58.199Z"
   },
   {
    "duration": 393,
    "start_time": "2024-01-10T17:47:58.226Z"
   },
   {
    "duration": 418,
    "start_time": "2024-01-10T17:47:58.621Z"
   },
   {
    "duration": 403,
    "start_time": "2024-01-10T17:47:59.041Z"
   },
   {
    "duration": 2665,
    "start_time": "2024-01-10T17:55:08.994Z"
   },
   {
    "duration": 1739,
    "start_time": "2024-01-10T17:55:11.662Z"
   },
   {
    "duration": 448,
    "start_time": "2024-01-10T17:55:13.403Z"
   },
   {
    "duration": 14,
    "start_time": "2024-01-10T17:55:13.853Z"
   },
   {
    "duration": 19,
    "start_time": "2024-01-10T17:55:13.869Z"
   },
   {
    "duration": 10,
    "start_time": "2024-01-10T17:55:13.890Z"
   },
   {
    "duration": 15,
    "start_time": "2024-01-10T17:55:13.902Z"
   },
   {
    "duration": 10,
    "start_time": "2024-01-10T17:55:13.918Z"
   },
   {
    "duration": 51,
    "start_time": "2024-01-10T17:55:13.930Z"
   },
   {
    "duration": 13,
    "start_time": "2024-01-10T17:55:13.985Z"
   },
   {
    "duration": 17,
    "start_time": "2024-01-10T17:55:14.000Z"
   },
   {
    "duration": 101,
    "start_time": "2024-01-10T17:55:14.019Z"
   },
   {
    "duration": 52,
    "start_time": "2024-01-10T17:55:14.122Z"
   },
   {
    "duration": 38,
    "start_time": "2024-01-10T17:55:14.175Z"
   },
   {
    "duration": 36,
    "start_time": "2024-01-10T17:55:14.214Z"
   },
   {
    "duration": 8,
    "start_time": "2024-01-10T17:55:14.272Z"
   },
   {
    "duration": 1284,
    "start_time": "2024-01-10T17:55:14.282Z"
   },
   {
    "duration": 842,
    "start_time": "2024-01-10T17:55:15.567Z"
   },
   {
    "duration": 1233,
    "start_time": "2024-01-10T17:55:16.411Z"
   },
   {
    "duration": 889,
    "start_time": "2024-01-10T17:55:17.645Z"
   },
   {
    "duration": 1523,
    "start_time": "2024-01-10T17:55:18.535Z"
   },
   {
    "duration": 845,
    "start_time": "2024-01-10T17:55:20.072Z"
   },
   {
    "duration": 5,
    "start_time": "2024-01-10T17:55:20.918Z"
   },
   {
    "duration": 21,
    "start_time": "2024-01-10T17:55:20.925Z"
   },
   {
    "duration": 1994,
    "start_time": "2024-01-10T17:55:20.948Z"
   },
   {
    "duration": 5,
    "start_time": "2024-01-10T17:55:22.944Z"
   },
   {
    "duration": 48,
    "start_time": "2024-01-10T17:55:22.951Z"
   },
   {
    "duration": 4,
    "start_time": "2024-01-10T17:55:23.004Z"
   },
   {
    "duration": 166,
    "start_time": "2024-01-10T17:55:23.009Z"
   },
   {
    "duration": 97,
    "start_time": "2024-01-10T17:55:23.177Z"
   },
   {
    "duration": 10,
    "start_time": "2024-01-10T17:55:23.276Z"
   },
   {
    "duration": 11,
    "start_time": "2024-01-10T17:55:23.288Z"
   },
   {
    "duration": 15,
    "start_time": "2024-01-10T17:55:23.301Z"
   },
   {
    "duration": 16,
    "start_time": "2024-01-10T17:55:23.317Z"
   },
   {
    "duration": 39,
    "start_time": "2024-01-10T17:55:23.334Z"
   },
   {
    "duration": 3,
    "start_time": "2024-01-10T17:55:23.375Z"
   },
   {
    "duration": 6,
    "start_time": "2024-01-10T17:55:23.381Z"
   },
   {
    "duration": 9,
    "start_time": "2024-01-10T17:55:23.389Z"
   },
   {
    "duration": 8,
    "start_time": "2024-01-10T17:55:23.400Z"
   },
   {
    "duration": 30,
    "start_time": "2024-01-10T17:55:23.410Z"
   },
   {
    "duration": 32,
    "start_time": "2024-01-10T17:55:23.441Z"
   },
   {
    "duration": 5,
    "start_time": "2024-01-10T17:55:23.475Z"
   },
   {
    "duration": 5223,
    "start_time": "2024-01-10T17:55:23.482Z"
   },
   {
    "duration": 14,
    "start_time": "2024-01-10T17:55:28.707Z"
   },
   {
    "duration": 18,
    "start_time": "2024-01-10T17:55:28.722Z"
   },
   {
    "duration": 442,
    "start_time": "2024-01-10T17:55:28.741Z"
   },
   {
    "duration": 411,
    "start_time": "2024-01-10T17:55:29.184Z"
   },
   {
    "duration": 404,
    "start_time": "2024-01-10T17:55:29.597Z"
   },
   {
    "duration": 2610,
    "start_time": "2024-01-10T17:55:36.896Z"
   },
   {
    "duration": 1724,
    "start_time": "2024-01-10T17:55:39.509Z"
   },
   {
    "duration": 422,
    "start_time": "2024-01-10T17:55:41.235Z"
   },
   {
    "duration": 18,
    "start_time": "2024-01-10T17:55:41.658Z"
   },
   {
    "duration": 28,
    "start_time": "2024-01-10T17:55:41.678Z"
   },
   {
    "duration": 11,
    "start_time": "2024-01-10T17:55:41.707Z"
   },
   {
    "duration": 17,
    "start_time": "2024-01-10T17:55:41.719Z"
   },
   {
    "duration": 11,
    "start_time": "2024-01-10T17:55:41.737Z"
   },
   {
    "duration": 38,
    "start_time": "2024-01-10T17:55:41.749Z"
   },
   {
    "duration": 13,
    "start_time": "2024-01-10T17:55:41.789Z"
   },
   {
    "duration": 8,
    "start_time": "2024-01-10T17:55:41.803Z"
   },
   {
    "duration": 102,
    "start_time": "2024-01-10T17:55:41.813Z"
   },
   {
    "duration": 40,
    "start_time": "2024-01-10T17:55:41.917Z"
   },
   {
    "duration": 51,
    "start_time": "2024-01-10T17:55:41.958Z"
   },
   {
    "duration": 36,
    "start_time": "2024-01-10T17:55:42.010Z"
   },
   {
    "duration": 26,
    "start_time": "2024-01-10T17:55:42.048Z"
   },
   {
    "duration": 1299,
    "start_time": "2024-01-10T17:55:42.076Z"
   },
   {
    "duration": 850,
    "start_time": "2024-01-10T17:55:43.377Z"
   },
   {
    "duration": 1222,
    "start_time": "2024-01-10T17:55:44.228Z"
   },
   {
    "duration": 800,
    "start_time": "2024-01-10T17:55:45.451Z"
   },
   {
    "duration": 1521,
    "start_time": "2024-01-10T17:55:46.252Z"
   },
   {
    "duration": 827,
    "start_time": "2024-01-10T17:55:47.775Z"
   },
   {
    "duration": 4,
    "start_time": "2024-01-10T17:55:48.605Z"
   },
   {
    "duration": 6,
    "start_time": "2024-01-10T17:55:48.612Z"
   },
   {
    "duration": 1889,
    "start_time": "2024-01-10T17:55:48.620Z"
   },
   {
    "duration": 5,
    "start_time": "2024-01-10T17:55:50.511Z"
   },
   {
    "duration": 28,
    "start_time": "2024-01-10T17:55:50.518Z"
   },
   {
    "duration": 3,
    "start_time": "2024-01-10T17:55:50.551Z"
   },
   {
    "duration": 202,
    "start_time": "2024-01-10T17:55:50.573Z"
   },
   {
    "duration": 102,
    "start_time": "2024-01-10T17:55:50.777Z"
   },
   {
    "duration": 97,
    "start_time": "2024-01-10T17:55:50.881Z"
   },
   {
    "duration": 7,
    "start_time": "2024-01-10T17:55:50.980Z"
   },
   {
    "duration": 6,
    "start_time": "2024-01-10T17:55:50.989Z"
   },
   {
    "duration": 7,
    "start_time": "2024-01-10T17:55:50.997Z"
   },
   {
    "duration": 12,
    "start_time": "2024-01-10T17:55:51.005Z"
   },
   {
    "duration": 3,
    "start_time": "2024-01-10T17:55:51.019Z"
   },
   {
    "duration": 9,
    "start_time": "2024-01-10T17:55:51.023Z"
   },
   {
    "duration": 14,
    "start_time": "2024-01-10T17:55:51.034Z"
   },
   {
    "duration": 7,
    "start_time": "2024-01-10T17:55:51.049Z"
   },
   {
    "duration": 21,
    "start_time": "2024-01-10T17:55:51.073Z"
   },
   {
    "duration": 3,
    "start_time": "2024-01-10T17:55:51.095Z"
   },
   {
    "duration": 25,
    "start_time": "2024-01-10T17:55:51.099Z"
   },
   {
    "duration": 2647,
    "start_time": "2024-01-10T17:55:51.126Z"
   },
   {
    "duration": 14,
    "start_time": "2024-01-10T17:55:53.774Z"
   },
   {
    "duration": 5,
    "start_time": "2024-01-10T17:55:53.789Z"
   },
   {
    "duration": 375,
    "start_time": "2024-01-10T17:55:53.795Z"
   },
   {
    "duration": 384,
    "start_time": "2024-01-10T17:55:54.172Z"
   },
   {
    "duration": 407,
    "start_time": "2024-01-10T17:55:54.558Z"
   }
  ],
  "kernelspec": {
   "display_name": "Python 3 (ipykernel)",
   "language": "python",
   "name": "python3"
  },
  "language_info": {
   "codemirror_mode": {
    "name": "ipython",
    "version": 3
   },
   "file_extension": ".py",
   "mimetype": "text/x-python",
   "name": "python",
   "nbconvert_exporter": "python",
   "pygments_lexer": "ipython3",
   "version": "3.10.9"
  },
  "toc": {
   "base_numbering": 1,
   "nav_menu": {},
   "number_sections": true,
   "sideBar": true,
   "skip_h1_title": true,
   "title_cell": "Table of Contents",
   "title_sidebar": "Contents",
   "toc_cell": false,
   "toc_position": {},
   "toc_section_display": true,
   "toc_window_display": false
  }
 },
 "nbformat": 4,
 "nbformat_minor": 2
}
