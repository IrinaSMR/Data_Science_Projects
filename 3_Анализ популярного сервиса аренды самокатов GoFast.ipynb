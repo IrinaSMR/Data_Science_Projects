{
 "cells": [
  {
   "cell_type": "markdown",
   "id": "2a791221",
   "metadata": {},
   "source": [
    "# Анализ популярного сервиса аренды самокатов GoFast"
   ]
  },
  {
   "cell_type": "markdown",
   "id": "6add1e09",
   "metadata": {},
   "source": [
    "Для анализа переданы данные о некоторых пользователях популярного сервиса аренды самокатов GoFast из нескольких городов, а также об их поездках. Требуется проанализировать данные и проверить некоторые гипотезы, которые могут помочь бизнесу вырасти.\n",
    "Чтобы совершать поездки по городу, пользователи сервиса GoFast пользуются мобильным приложением. \n",
    "\n",
    "Сервисом можно пользоваться:\n",
    "* без подписки\n",
    "  * абонентская плата отсутствует;\n",
    "  * стоимость одной минуты поездки — 8 рублей;\n",
    "  * стоимость старта (начала поездки) — 50 рублей;\n",
    "* с подпиской Ultra\n",
    "  * абонентская плата — 199 рублей в месяц;\n",
    "  * стоимость одной минуты поездки — 6 рублей;\n",
    "  * стоимость старта — бесплатно."
   ]
  },
  {
   "cell_type": "markdown",
   "id": "b6b97807",
   "metadata": {},
   "source": [
    "## Описание данных"
   ]
  },
  {
   "cell_type": "markdown",
   "id": "02c05550",
   "metadata": {},
   "source": [
    "**Пользователи — `users_go.csv`**\n",
    "\n",
    "- `user_id`\t— уникальный идентификатор пользователя\n",
    "- `name` — имя пользователя\n",
    "- `age` —\tвозраст\n",
    "- `city` — город\n",
    "- `subscription_type` — тип подписки (free, ultra)\n",
    "\n",
    "**Поeздки — `rides_go.csv`**\n",
    "\n",
    "- `user_id`\t— уникальный идентификатор пользователя\n",
    "- `distance` — расстояние, которое пользователь проехал в текущей сессии (в метрах)\n",
    "- `duration` — продолжительность сессии (в минутах) — время с того момента, как пользователь нажал кнопку «Начать поездку» до момента, как он нажал кнопку «Завершить поездку»\n",
    "- `date` — дата совершения поездки\n",
    "\n",
    "**Подписки — `subscriptions_go.csv`**\n",
    "\n",
    "- `subscription_type` — тип подписки\n",
    "- `minute_price` — стоимость одной минуты поездки по данной подписке\n",
    "- `start_ride_price` — стоимость начала поездки\n",
    "- `subscription_fee` — стоимость ежемесячного платежа"
   ]
  },
  {
   "cell_type": "code",
   "execution_count": 1,
   "id": "72576667",
   "metadata": {},
   "outputs": [],
   "source": [
    "# импортируем необходимые для работы библиотеки \n",
    "\n",
    "import pandas as pd\n",
    "from scipy import stats as st\n",
    "import matplotlib.pyplot as plt\n",
    "import seaborn as sns\n",
    "import numpy as np\n",
    "\n",
    "pd.set_option('display.max_columns', None)\n",
    "\n",
    "%matplotlib inline"
   ]
  },
  {
   "cell_type": "markdown",
   "id": "c42cbe00",
   "metadata": {},
   "source": [
    "#### Шаг 1. Загрузка данных"
   ]
  },
  {
   "cell_type": "code",
   "execution_count": 2,
   "id": "eff9f206",
   "metadata": {},
   "outputs": [],
   "source": [
    "# cчитаtv CSV-файлы с данными с помощью библиотеки pandas и сохраним их в датафреймы\n",
    "users = pd.read_csv('datasets/users_go.csv')\n",
    "rides = pd.read_csv('datasets/rides_go.csv')\n",
    "subscriptions = pd.read_csv('datasets/subscriptions_go.csv')"
   ]
  },
  {
   "cell_type": "markdown",
   "id": "50652830",
   "metadata": {},
   "source": [
    "**Датафрейм \"Пользователи\" (`users`)**"
   ]
  },
  {
   "cell_type": "code",
   "execution_count": 3,
   "id": "5e10bb5c",
   "metadata": {},
   "outputs": [
    {
     "data": {
      "text/html": [
       "<div>\n",
       "<style scoped>\n",
       "    .dataframe tbody tr th:only-of-type {\n",
       "        vertical-align: middle;\n",
       "    }\n",
       "\n",
       "    .dataframe tbody tr th {\n",
       "        vertical-align: top;\n",
       "    }\n",
       "\n",
       "    .dataframe thead th {\n",
       "        text-align: right;\n",
       "    }\n",
       "</style>\n",
       "<table border=\"1\" class=\"dataframe\">\n",
       "  <thead>\n",
       "    <tr style=\"text-align: right;\">\n",
       "      <th></th>\n",
       "      <th>user_id</th>\n",
       "      <th>name</th>\n",
       "      <th>age</th>\n",
       "      <th>city</th>\n",
       "      <th>subscription_type</th>\n",
       "    </tr>\n",
       "  </thead>\n",
       "  <tbody>\n",
       "    <tr>\n",
       "      <th>0</th>\n",
       "      <td>1</td>\n",
       "      <td>Кира</td>\n",
       "      <td>22</td>\n",
       "      <td>Тюмень</td>\n",
       "      <td>ultra</td>\n",
       "    </tr>\n",
       "    <tr>\n",
       "      <th>1</th>\n",
       "      <td>2</td>\n",
       "      <td>Станислав</td>\n",
       "      <td>31</td>\n",
       "      <td>Омск</td>\n",
       "      <td>ultra</td>\n",
       "    </tr>\n",
       "    <tr>\n",
       "      <th>2</th>\n",
       "      <td>3</td>\n",
       "      <td>Алексей</td>\n",
       "      <td>20</td>\n",
       "      <td>Москва</td>\n",
       "      <td>ultra</td>\n",
       "    </tr>\n",
       "    <tr>\n",
       "      <th>3</th>\n",
       "      <td>4</td>\n",
       "      <td>Константин</td>\n",
       "      <td>26</td>\n",
       "      <td>Ростов-на-Дону</td>\n",
       "      <td>ultra</td>\n",
       "    </tr>\n",
       "    <tr>\n",
       "      <th>4</th>\n",
       "      <td>5</td>\n",
       "      <td>Адель</td>\n",
       "      <td>28</td>\n",
       "      <td>Омск</td>\n",
       "      <td>ultra</td>\n",
       "    </tr>\n",
       "    <tr>\n",
       "      <th>5</th>\n",
       "      <td>6</td>\n",
       "      <td>Регина</td>\n",
       "      <td>25</td>\n",
       "      <td>Краснодар</td>\n",
       "      <td>ultra</td>\n",
       "    </tr>\n",
       "    <tr>\n",
       "      <th>6</th>\n",
       "      <td>7</td>\n",
       "      <td>Игорь</td>\n",
       "      <td>23</td>\n",
       "      <td>Омск</td>\n",
       "      <td>ultra</td>\n",
       "    </tr>\n",
       "    <tr>\n",
       "      <th>7</th>\n",
       "      <td>8</td>\n",
       "      <td>Юрий</td>\n",
       "      <td>23</td>\n",
       "      <td>Краснодар</td>\n",
       "      <td>ultra</td>\n",
       "    </tr>\n",
       "    <tr>\n",
       "      <th>8</th>\n",
       "      <td>9</td>\n",
       "      <td>Ян</td>\n",
       "      <td>21</td>\n",
       "      <td>Пятигорск</td>\n",
       "      <td>ultra</td>\n",
       "    </tr>\n",
       "    <tr>\n",
       "      <th>9</th>\n",
       "      <td>10</td>\n",
       "      <td>Валерий</td>\n",
       "      <td>18</td>\n",
       "      <td>Екатеринбург</td>\n",
       "      <td>ultra</td>\n",
       "    </tr>\n",
       "  </tbody>\n",
       "</table>\n",
       "</div>"
      ],
      "text/plain": [
       "   user_id        name  age            city subscription_type\n",
       "0        1        Кира   22          Тюмень             ultra\n",
       "1        2   Станислав   31            Омск             ultra\n",
       "2        3     Алексей   20          Москва             ultra\n",
       "3        4  Константин   26  Ростов-на-Дону             ultra\n",
       "4        5       Адель   28            Омск             ultra\n",
       "5        6      Регина   25       Краснодар             ultra\n",
       "6        7       Игорь   23            Омск             ultra\n",
       "7        8        Юрий   23       Краснодар             ultra\n",
       "8        9          Ян   21       Пятигорск             ultra\n",
       "9       10     Валерий   18    Екатеринбург             ultra"
      ]
     },
     "execution_count": 3,
     "metadata": {},
     "output_type": "execute_result"
    }
   ],
   "source": [
    "# содержимое датафрейма\n",
    "users.head(10)"
   ]
  },
  {
   "cell_type": "code",
   "execution_count": 4,
   "id": "c09bb7af",
   "metadata": {},
   "outputs": [
    {
     "data": {
      "text/plain": [
       "(1565, 5)"
      ]
     },
     "execution_count": 4,
     "metadata": {},
     "output_type": "execute_result"
    }
   ],
   "source": [
    "# размерность датафрейма\n",
    "users.shape"
   ]
  },
  {
   "cell_type": "code",
   "execution_count": 5,
   "id": "94993aa2",
   "metadata": {},
   "outputs": [
    {
     "name": "stdout",
     "output_type": "stream",
     "text": [
      "<class 'pandas.core.frame.DataFrame'>\n",
      "RangeIndex: 1565 entries, 0 to 1564\n",
      "Data columns (total 5 columns):\n",
      " #   Column             Non-Null Count  Dtype \n",
      "---  ------             --------------  ----- \n",
      " 0   user_id            1565 non-null   int64 \n",
      " 1   name               1565 non-null   object\n",
      " 2   age                1565 non-null   int64 \n",
      " 3   city               1565 non-null   object\n",
      " 4   subscription_type  1565 non-null   object\n",
      "dtypes: int64(2), object(3)\n",
      "memory usage: 61.3+ KB\n"
     ]
    }
   ],
   "source": [
    "# посмотрим общую информацию о датафрейме\n",
    "users.info()"
   ]
  },
  {
   "cell_type": "code",
   "execution_count": 6,
   "id": "9ca5699d",
   "metadata": {},
   "outputs": [
    {
     "data": {
      "text/html": [
       "<div>\n",
       "<style scoped>\n",
       "    .dataframe tbody tr th:only-of-type {\n",
       "        vertical-align: middle;\n",
       "    }\n",
       "\n",
       "    .dataframe tbody tr th {\n",
       "        vertical-align: top;\n",
       "    }\n",
       "\n",
       "    .dataframe thead th {\n",
       "        text-align: right;\n",
       "    }\n",
       "</style>\n",
       "<table border=\"1\" class=\"dataframe\">\n",
       "  <thead>\n",
       "    <tr style=\"text-align: right;\">\n",
       "      <th></th>\n",
       "      <th>user_id</th>\n",
       "      <th>age</th>\n",
       "    </tr>\n",
       "  </thead>\n",
       "  <tbody>\n",
       "    <tr>\n",
       "      <th>count</th>\n",
       "      <td>1565.000000</td>\n",
       "      <td>1565.000000</td>\n",
       "    </tr>\n",
       "    <tr>\n",
       "      <th>mean</th>\n",
       "      <td>762.633866</td>\n",
       "      <td>24.922045</td>\n",
       "    </tr>\n",
       "    <tr>\n",
       "      <th>std</th>\n",
       "      <td>443.260155</td>\n",
       "      <td>4.553496</td>\n",
       "    </tr>\n",
       "    <tr>\n",
       "      <th>min</th>\n",
       "      <td>1.000000</td>\n",
       "      <td>12.000000</td>\n",
       "    </tr>\n",
       "    <tr>\n",
       "      <th>25%</th>\n",
       "      <td>378.000000</td>\n",
       "      <td>22.000000</td>\n",
       "    </tr>\n",
       "    <tr>\n",
       "      <th>50%</th>\n",
       "      <td>762.000000</td>\n",
       "      <td>25.000000</td>\n",
       "    </tr>\n",
       "    <tr>\n",
       "      <th>75%</th>\n",
       "      <td>1146.000000</td>\n",
       "      <td>28.000000</td>\n",
       "    </tr>\n",
       "    <tr>\n",
       "      <th>max</th>\n",
       "      <td>1534.000000</td>\n",
       "      <td>43.000000</td>\n",
       "    </tr>\n",
       "  </tbody>\n",
       "</table>\n",
       "</div>"
      ],
      "text/plain": [
       "           user_id          age\n",
       "count  1565.000000  1565.000000\n",
       "mean    762.633866    24.922045\n",
       "std     443.260155     4.553496\n",
       "min       1.000000    12.000000\n",
       "25%     378.000000    22.000000\n",
       "50%     762.000000    25.000000\n",
       "75%    1146.000000    28.000000\n",
       "max    1534.000000    43.000000"
      ]
     },
     "execution_count": 6,
     "metadata": {},
     "output_type": "execute_result"
    }
   ],
   "source": [
    "# посмотрим статистику датафрейма (только для числовых параметров)\n",
    "users.describe()"
   ]
  },
  {
   "cell_type": "markdown",
   "id": "bfabd978",
   "metadata": {},
   "source": [
    "**Вывод о данных по датафрейму \"Пользователи\" (`users`)**"
   ]
  },
  {
   "cell_type": "markdown",
   "id": "36ea64ab",
   "metadata": {},
   "source": [
    "Таблица `users` состоит из 1565 строк и 5 столбцов, в данных нет пропусков, данные представлены строковыми значениями (`name`, `city`, `subscription_type`) и целочисленными значениями (`user_id`, `age`).\n",
    "\n",
    "Средний возраст пользователей: от 20 до 30 лет."
   ]
  },
  {
   "cell_type": "markdown",
   "id": "780a574d",
   "metadata": {},
   "source": [
    "**Датафрейм \"Поездки\" (`rides`)**"
   ]
  },
  {
   "cell_type": "code",
   "execution_count": 7,
   "id": "12cdb835",
   "metadata": {},
   "outputs": [
    {
     "data": {
      "text/html": [
       "<div>\n",
       "<style scoped>\n",
       "    .dataframe tbody tr th:only-of-type {\n",
       "        vertical-align: middle;\n",
       "    }\n",
       "\n",
       "    .dataframe tbody tr th {\n",
       "        vertical-align: top;\n",
       "    }\n",
       "\n",
       "    .dataframe thead th {\n",
       "        text-align: right;\n",
       "    }\n",
       "</style>\n",
       "<table border=\"1\" class=\"dataframe\">\n",
       "  <thead>\n",
       "    <tr style=\"text-align: right;\">\n",
       "      <th></th>\n",
       "      <th>user_id</th>\n",
       "      <th>distance</th>\n",
       "      <th>duration</th>\n",
       "      <th>date</th>\n",
       "    </tr>\n",
       "  </thead>\n",
       "  <tbody>\n",
       "    <tr>\n",
       "      <th>0</th>\n",
       "      <td>1</td>\n",
       "      <td>4409.919140</td>\n",
       "      <td>25.599769</td>\n",
       "      <td>2021-01-01</td>\n",
       "    </tr>\n",
       "    <tr>\n",
       "      <th>1</th>\n",
       "      <td>1</td>\n",
       "      <td>2617.592153</td>\n",
       "      <td>15.816871</td>\n",
       "      <td>2021-01-18</td>\n",
       "    </tr>\n",
       "    <tr>\n",
       "      <th>2</th>\n",
       "      <td>1</td>\n",
       "      <td>754.159807</td>\n",
       "      <td>6.232113</td>\n",
       "      <td>2021-04-20</td>\n",
       "    </tr>\n",
       "    <tr>\n",
       "      <th>3</th>\n",
       "      <td>1</td>\n",
       "      <td>2694.783254</td>\n",
       "      <td>18.511000</td>\n",
       "      <td>2021-08-11</td>\n",
       "    </tr>\n",
       "    <tr>\n",
       "      <th>4</th>\n",
       "      <td>1</td>\n",
       "      <td>4028.687306</td>\n",
       "      <td>26.265803</td>\n",
       "      <td>2021-08-28</td>\n",
       "    </tr>\n",
       "    <tr>\n",
       "      <th>5</th>\n",
       "      <td>1</td>\n",
       "      <td>2770.890808</td>\n",
       "      <td>16.650138</td>\n",
       "      <td>2021-10-09</td>\n",
       "    </tr>\n",
       "    <tr>\n",
       "      <th>6</th>\n",
       "      <td>1</td>\n",
       "      <td>3039.020292</td>\n",
       "      <td>14.927879</td>\n",
       "      <td>2021-10-19</td>\n",
       "    </tr>\n",
       "    <tr>\n",
       "      <th>7</th>\n",
       "      <td>1</td>\n",
       "      <td>2842.118050</td>\n",
       "      <td>23.117468</td>\n",
       "      <td>2021-11-06</td>\n",
       "    </tr>\n",
       "    <tr>\n",
       "      <th>8</th>\n",
       "      <td>1</td>\n",
       "      <td>3412.690668</td>\n",
       "      <td>15.238072</td>\n",
       "      <td>2021-11-14</td>\n",
       "    </tr>\n",
       "    <tr>\n",
       "      <th>9</th>\n",
       "      <td>1</td>\n",
       "      <td>748.690645</td>\n",
       "      <td>15.041884</td>\n",
       "      <td>2021-11-22</td>\n",
       "    </tr>\n",
       "  </tbody>\n",
       "</table>\n",
       "</div>"
      ],
      "text/plain": [
       "   user_id     distance   duration        date\n",
       "0        1  4409.919140  25.599769  2021-01-01\n",
       "1        1  2617.592153  15.816871  2021-01-18\n",
       "2        1   754.159807   6.232113  2021-04-20\n",
       "3        1  2694.783254  18.511000  2021-08-11\n",
       "4        1  4028.687306  26.265803  2021-08-28\n",
       "5        1  2770.890808  16.650138  2021-10-09\n",
       "6        1  3039.020292  14.927879  2021-10-19\n",
       "7        1  2842.118050  23.117468  2021-11-06\n",
       "8        1  3412.690668  15.238072  2021-11-14\n",
       "9        1   748.690645  15.041884  2021-11-22"
      ]
     },
     "execution_count": 7,
     "metadata": {},
     "output_type": "execute_result"
    }
   ],
   "source": [
    "# содержимое датафрейма\n",
    "rides.head(10)"
   ]
  },
  {
   "cell_type": "code",
   "execution_count": 8,
   "id": "9437f65b",
   "metadata": {},
   "outputs": [
    {
     "data": {
      "text/plain": [
       "(18068, 4)"
      ]
     },
     "execution_count": 8,
     "metadata": {},
     "output_type": "execute_result"
    }
   ],
   "source": [
    "# размерность датафрейма\n",
    "rides.shape"
   ]
  },
  {
   "cell_type": "code",
   "execution_count": 9,
   "id": "d2f78bf0",
   "metadata": {},
   "outputs": [
    {
     "name": "stdout",
     "output_type": "stream",
     "text": [
      "<class 'pandas.core.frame.DataFrame'>\n",
      "RangeIndex: 18068 entries, 0 to 18067\n",
      "Data columns (total 4 columns):\n",
      " #   Column    Non-Null Count  Dtype  \n",
      "---  ------    --------------  -----  \n",
      " 0   user_id   18068 non-null  int64  \n",
      " 1   distance  18068 non-null  float64\n",
      " 2   duration  18068 non-null  float64\n",
      " 3   date      18068 non-null  object \n",
      "dtypes: float64(2), int64(1), object(1)\n",
      "memory usage: 564.8+ KB\n"
     ]
    }
   ],
   "source": [
    "# посмотрим общую информацию о датафрейме\n",
    "rides.info()"
   ]
  },
  {
   "cell_type": "code",
   "execution_count": 10,
   "id": "468bdf70",
   "metadata": {},
   "outputs": [
    {
     "data": {
      "text/html": [
       "<div>\n",
       "<style scoped>\n",
       "    .dataframe tbody tr th:only-of-type {\n",
       "        vertical-align: middle;\n",
       "    }\n",
       "\n",
       "    .dataframe tbody tr th {\n",
       "        vertical-align: top;\n",
       "    }\n",
       "\n",
       "    .dataframe thead th {\n",
       "        text-align: right;\n",
       "    }\n",
       "</style>\n",
       "<table border=\"1\" class=\"dataframe\">\n",
       "  <thead>\n",
       "    <tr style=\"text-align: right;\">\n",
       "      <th></th>\n",
       "      <th>user_id</th>\n",
       "      <th>distance</th>\n",
       "      <th>duration</th>\n",
       "    </tr>\n",
       "  </thead>\n",
       "  <tbody>\n",
       "    <tr>\n",
       "      <th>count</th>\n",
       "      <td>18068.000000</td>\n",
       "      <td>18068.000000</td>\n",
       "      <td>18068.000000</td>\n",
       "    </tr>\n",
       "    <tr>\n",
       "      <th>mean</th>\n",
       "      <td>842.869936</td>\n",
       "      <td>3070.659976</td>\n",
       "      <td>17.805011</td>\n",
       "    </tr>\n",
       "    <tr>\n",
       "      <th>std</th>\n",
       "      <td>434.734317</td>\n",
       "      <td>1116.831209</td>\n",
       "      <td>6.091051</td>\n",
       "    </tr>\n",
       "    <tr>\n",
       "      <th>min</th>\n",
       "      <td>1.000000</td>\n",
       "      <td>0.855683</td>\n",
       "      <td>0.500000</td>\n",
       "    </tr>\n",
       "    <tr>\n",
       "      <th>25%</th>\n",
       "      <td>487.000000</td>\n",
       "      <td>2543.226360</td>\n",
       "      <td>13.597563</td>\n",
       "    </tr>\n",
       "    <tr>\n",
       "      <th>50%</th>\n",
       "      <td>889.000000</td>\n",
       "      <td>3133.609994</td>\n",
       "      <td>17.678395</td>\n",
       "    </tr>\n",
       "    <tr>\n",
       "      <th>75%</th>\n",
       "      <td>1213.250000</td>\n",
       "      <td>3776.222735</td>\n",
       "      <td>21.724800</td>\n",
       "    </tr>\n",
       "    <tr>\n",
       "      <th>max</th>\n",
       "      <td>1534.000000</td>\n",
       "      <td>7211.007745</td>\n",
       "      <td>40.823963</td>\n",
       "    </tr>\n",
       "  </tbody>\n",
       "</table>\n",
       "</div>"
      ],
      "text/plain": [
       "            user_id      distance      duration\n",
       "count  18068.000000  18068.000000  18068.000000\n",
       "mean     842.869936   3070.659976     17.805011\n",
       "std      434.734317   1116.831209      6.091051\n",
       "min        1.000000      0.855683      0.500000\n",
       "25%      487.000000   2543.226360     13.597563\n",
       "50%      889.000000   3133.609994     17.678395\n",
       "75%     1213.250000   3776.222735     21.724800\n",
       "max     1534.000000   7211.007745     40.823963"
      ]
     },
     "execution_count": 10,
     "metadata": {},
     "output_type": "execute_result"
    }
   ],
   "source": [
    "# посмотрим статистику датафрейма (только для числовых параметров)\n",
    "rides.describe()"
   ]
  },
  {
   "cell_type": "markdown",
   "id": "5baafa92",
   "metadata": {},
   "source": [
    "**Вывод о данных по датафрейму \"Поездки\" (`rides`)**"
   ]
  },
  {
   "cell_type": "markdown",
   "id": "fd3183d8",
   "metadata": {},
   "source": [
    "Таблица `rides` состоит из 18068 строк и 4 столбцов, в данных нет пропусков, данные представлены строковыми значениями (`date`), целочисленными значениями (`user_id`) и вещественными значениями (`distance`, `duration`).\n",
    "\n",
    "Средняя длительность поездок составляет `17` минут, среднее расстояние поездок составляет `3` км."
   ]
  },
  {
   "cell_type": "markdown",
   "id": "19bf273c",
   "metadata": {},
   "source": [
    "**Датафрейм \"Подписки\" (`subscriptions`)**"
   ]
  },
  {
   "cell_type": "code",
   "execution_count": 11,
   "id": "280d8e9e",
   "metadata": {},
   "outputs": [
    {
     "data": {
      "text/html": [
       "<div>\n",
       "<style scoped>\n",
       "    .dataframe tbody tr th:only-of-type {\n",
       "        vertical-align: middle;\n",
       "    }\n",
       "\n",
       "    .dataframe tbody tr th {\n",
       "        vertical-align: top;\n",
       "    }\n",
       "\n",
       "    .dataframe thead th {\n",
       "        text-align: right;\n",
       "    }\n",
       "</style>\n",
       "<table border=\"1\" class=\"dataframe\">\n",
       "  <thead>\n",
       "    <tr style=\"text-align: right;\">\n",
       "      <th></th>\n",
       "      <th>subscription_type</th>\n",
       "      <th>minute_price</th>\n",
       "      <th>start_ride_price</th>\n",
       "      <th>subscription_fee</th>\n",
       "    </tr>\n",
       "  </thead>\n",
       "  <tbody>\n",
       "    <tr>\n",
       "      <th>0</th>\n",
       "      <td>free</td>\n",
       "      <td>8</td>\n",
       "      <td>50</td>\n",
       "      <td>0</td>\n",
       "    </tr>\n",
       "    <tr>\n",
       "      <th>1</th>\n",
       "      <td>ultra</td>\n",
       "      <td>6</td>\n",
       "      <td>0</td>\n",
       "      <td>199</td>\n",
       "    </tr>\n",
       "  </tbody>\n",
       "</table>\n",
       "</div>"
      ],
      "text/plain": [
       "  subscription_type  minute_price  start_ride_price  subscription_fee\n",
       "0              free             8                50                 0\n",
       "1             ultra             6                 0               199"
      ]
     },
     "execution_count": 11,
     "metadata": {},
     "output_type": "execute_result"
    }
   ],
   "source": [
    "# содержимое датафрейма\n",
    "subscriptions.head()"
   ]
  },
  {
   "cell_type": "code",
   "execution_count": 12,
   "id": "964eca21",
   "metadata": {},
   "outputs": [
    {
     "data": {
      "text/plain": [
       "(2, 4)"
      ]
     },
     "execution_count": 12,
     "metadata": {},
     "output_type": "execute_result"
    }
   ],
   "source": [
    "# размерность датафрейма\n",
    "subscriptions.shape"
   ]
  },
  {
   "cell_type": "code",
   "execution_count": 13,
   "id": "e5241cde",
   "metadata": {},
   "outputs": [
    {
     "name": "stdout",
     "output_type": "stream",
     "text": [
      "<class 'pandas.core.frame.DataFrame'>\n",
      "RangeIndex: 2 entries, 0 to 1\n",
      "Data columns (total 4 columns):\n",
      " #   Column             Non-Null Count  Dtype \n",
      "---  ------             --------------  ----- \n",
      " 0   subscription_type  2 non-null      object\n",
      " 1   minute_price       2 non-null      int64 \n",
      " 2   start_ride_price   2 non-null      int64 \n",
      " 3   subscription_fee   2 non-null      int64 \n",
      "dtypes: int64(3), object(1)\n",
      "memory usage: 192.0+ bytes\n"
     ]
    }
   ],
   "source": [
    "# посмотрим общую информацию о датафрейме\n",
    "subscriptions.info()"
   ]
  },
  {
   "cell_type": "markdown",
   "id": "620730ef",
   "metadata": {},
   "source": [
    "**Вывод о данных по датафрейму \"Подписки\" (`subscriptions`)**"
   ]
  },
  {
   "cell_type": "markdown",
   "id": "a9936bc6",
   "metadata": {},
   "source": [
    "Небольшой датафрейм, состоящий всего из 2 строк и 4 столбцов, пропусков в данных нет, данные представленны строковыми значениями (`subscription_type`) и целочисленными значениями (`minute_price`, `start_ride_price`, `subscription_fee`).\n",
    "\n",
    "Доступны 2 варианта подписки с разной оплатой по тарифу."
   ]
  },
  {
   "cell_type": "markdown",
   "id": "e95ebca7",
   "metadata": {},
   "source": [
    "#### Шаг 2. Предобработка данных"
   ]
  },
  {
   "cell_type": "markdown",
   "id": "d10742d0",
   "metadata": {},
   "source": [
    "В таблице \"Поездки\" есть данные, которые стоит изменить. Приведем столбец `date` в таблице `rides` к типу даты pandas."
   ]
  },
  {
   "cell_type": "code",
   "execution_count": 14,
   "id": "bc38a5fc",
   "metadata": {},
   "outputs": [
    {
     "data": {
      "text/plain": [
       "0   2021-01-01\n",
       "1   2021-01-18\n",
       "2   2021-04-20\n",
       "3   2021-08-11\n",
       "4   2021-08-28\n",
       "5   2021-10-09\n",
       "6   2021-10-19\n",
       "7   2021-11-06\n",
       "8   2021-11-14\n",
       "9   2021-11-22\n",
       "Name: date, dtype: datetime64[ns]"
      ]
     },
     "execution_count": 14,
     "metadata": {},
     "output_type": "execute_result"
    }
   ],
   "source": [
    "rides['date'] = pd.to_datetime(rides['date'], format='%Y-%m-%d')\n",
    "rides['date'].head(10)"
   ]
  },
  {
   "cell_type": "markdown",
   "id": "02e8b8b7",
   "metadata": {},
   "source": [
    "Теперь создадим новый столбец с номером месяца на основе полученного столбца `date`. Но сначала, стоит проверить, за какой период предоставлены данные, т. к., если данные представлены за несколько лет, данные по одинаковым месяцам разных лет могут попасть в один месяц."
   ]
  },
  {
   "cell_type": "code",
   "execution_count": 15,
   "id": "6c132f33",
   "metadata": {},
   "outputs": [
    {
     "data": {
      "text/plain": [
       "array([2021], dtype=int64)"
      ]
     },
     "execution_count": 15,
     "metadata": {},
     "output_type": "execute_result"
    }
   ],
   "source": [
    "rides['date'].dt.year.unique()"
   ]
  },
  {
   "cell_type": "markdown",
   "id": "f537b9bb",
   "metadata": {},
   "source": [
    "Данные представлены только за 2021 год, поэтому накладок не будет.\n",
    "\n",
    "Добавим в таблицу столбец с номером месяца."
   ]
  },
  {
   "cell_type": "code",
   "execution_count": 16,
   "id": "faa74bc2",
   "metadata": {},
   "outputs": [
    {
     "data": {
      "text/html": [
       "<div>\n",
       "<style scoped>\n",
       "    .dataframe tbody tr th:only-of-type {\n",
       "        vertical-align: middle;\n",
       "    }\n",
       "\n",
       "    .dataframe tbody tr th {\n",
       "        vertical-align: top;\n",
       "    }\n",
       "\n",
       "    .dataframe thead th {\n",
       "        text-align: right;\n",
       "    }\n",
       "</style>\n",
       "<table border=\"1\" class=\"dataframe\">\n",
       "  <thead>\n",
       "    <tr style=\"text-align: right;\">\n",
       "      <th></th>\n",
       "      <th>user_id</th>\n",
       "      <th>distance</th>\n",
       "      <th>duration</th>\n",
       "      <th>date</th>\n",
       "      <th>month</th>\n",
       "    </tr>\n",
       "  </thead>\n",
       "  <tbody>\n",
       "    <tr>\n",
       "      <th>0</th>\n",
       "      <td>1</td>\n",
       "      <td>4409.919140</td>\n",
       "      <td>25.599769</td>\n",
       "      <td>2021-01-01</td>\n",
       "      <td>1</td>\n",
       "    </tr>\n",
       "    <tr>\n",
       "      <th>1</th>\n",
       "      <td>1</td>\n",
       "      <td>2617.592153</td>\n",
       "      <td>15.816871</td>\n",
       "      <td>2021-01-18</td>\n",
       "      <td>1</td>\n",
       "    </tr>\n",
       "    <tr>\n",
       "      <th>2</th>\n",
       "      <td>1</td>\n",
       "      <td>754.159807</td>\n",
       "      <td>6.232113</td>\n",
       "      <td>2021-04-20</td>\n",
       "      <td>4</td>\n",
       "    </tr>\n",
       "    <tr>\n",
       "      <th>3</th>\n",
       "      <td>1</td>\n",
       "      <td>2694.783254</td>\n",
       "      <td>18.511000</td>\n",
       "      <td>2021-08-11</td>\n",
       "      <td>8</td>\n",
       "    </tr>\n",
       "    <tr>\n",
       "      <th>4</th>\n",
       "      <td>1</td>\n",
       "      <td>4028.687306</td>\n",
       "      <td>26.265803</td>\n",
       "      <td>2021-08-28</td>\n",
       "      <td>8</td>\n",
       "    </tr>\n",
       "  </tbody>\n",
       "</table>\n",
       "</div>"
      ],
      "text/plain": [
       "   user_id     distance   duration       date  month\n",
       "0        1  4409.919140  25.599769 2021-01-01      1\n",
       "1        1  2617.592153  15.816871 2021-01-18      1\n",
       "2        1   754.159807   6.232113 2021-04-20      4\n",
       "3        1  2694.783254  18.511000 2021-08-11      8\n",
       "4        1  4028.687306  26.265803 2021-08-28      8"
      ]
     },
     "execution_count": 16,
     "metadata": {},
     "output_type": "execute_result"
    }
   ],
   "source": [
    "rides['month'] = rides['date'].dt.month\n",
    "rides.head()"
   ]
  },
  {
   "cell_type": "markdown",
   "id": "8e3c7112",
   "metadata": {},
   "source": [
    "В данном случае нам повезло: полученные в таблицах данные (как было проверено выше) не содержат пропусков, значит, их не придется заполнять."
   ]
  },
  {
   "cell_type": "markdown",
   "id": "0a17bc0c",
   "metadata": {},
   "source": [
    "Проверим наличие дубликатов в датафреймах."
   ]
  },
  {
   "cell_type": "code",
   "execution_count": 17,
   "id": "1338d4c4",
   "metadata": {},
   "outputs": [
    {
     "data": {
      "text/plain": [
       "31"
      ]
     },
     "execution_count": 17,
     "metadata": {},
     "output_type": "execute_result"
    }
   ],
   "source": [
    "# таблица users\n",
    "users.duplicated().sum()"
   ]
  },
  {
   "cell_type": "code",
   "execution_count": 18,
   "id": "5320c9c7",
   "metadata": {},
   "outputs": [
    {
     "data": {
      "text/plain": [
       "0"
      ]
     },
     "execution_count": 18,
     "metadata": {},
     "output_type": "execute_result"
    }
   ],
   "source": [
    "# дубликаты присутствуют, избавимся от них и проверим результат\n",
    "users.drop_duplicates(inplace=True)\n",
    "users.duplicated().sum()"
   ]
  },
  {
   "cell_type": "code",
   "execution_count": 19,
   "id": "452b138a",
   "metadata": {},
   "outputs": [
    {
     "data": {
      "text/plain": [
       "0"
      ]
     },
     "execution_count": 19,
     "metadata": {},
     "output_type": "execute_result"
    }
   ],
   "source": [
    "# таблица rides, дубликатов нет\n",
    "rides.duplicated().sum()"
   ]
  },
  {
   "cell_type": "markdown",
   "id": "33551bec",
   "metadata": {},
   "source": [
    "**Вывод по предобработке**\n",
    "\n",
    "Пропусков в данных в предоставленных таблицах нет. Дубликаты были в таблице пользователей, они были успешно удалены. Для дальнейшей работы в таблицу `rides` был добавлен столбец `month` с номер месяца."
   ]
  },
  {
   "cell_type": "markdown",
   "id": "212593c7",
   "metadata": {},
   "source": [
    "#### Шаг 3. Исследовательский анализ данных"
   ]
  },
  {
   "cell_type": "markdown",
   "id": "b68b84b1",
   "metadata": {},
   "source": [
    "Опишем и визуализируем общую информацию о пользователях и поездках."
   ]
  },
  {
   "cell_type": "markdown",
   "id": "40cc0196",
   "metadata": {},
   "source": [
    "Посмотрим **частоту встречаемости городов**."
   ]
  },
  {
   "cell_type": "code",
   "execution_count": 20,
   "id": "21216b54",
   "metadata": {},
   "outputs": [
    {
     "data": {
      "text/plain": [
       "Пятигорск         219\n",
       "Екатеринбург      204\n",
       "Ростов-на-Дону    198\n",
       "Краснодар         193\n",
       "Сочи              189\n",
       "Омск              183\n",
       "Тюмень            180\n",
       "Москва            168\n",
       "Name: city, dtype: int64"
      ]
     },
     "execution_count": 20,
     "metadata": {},
     "output_type": "execute_result"
    }
   ],
   "source": [
    "cities_of_users = users['city'].value_counts()\n",
    "cities_of_users"
   ]
  },
  {
   "cell_type": "code",
   "execution_count": 21,
   "id": "cd80327b",
   "metadata": {},
   "outputs": [
    {
     "data": {
      "image/png": "[encoded data removed]",
      "text/plain": [
       "<Figure size 700x700 with 1 Axes>"
      ]
     },
     "metadata": {},
     "output_type": "display_data"
    }
   ],
   "source": [
    "# для наглядности посмотрим круговую диаграмму\n",
    "cities_of_users.plot(\n",
    "    kind='pie',\n",
    "    autopct='%1.0f%%',\n",
    "    figsize=(7, 7),\n",
    "    title='Частота встречаемости городов'\n",
    ")\n",
    "\n",
    "plt.ylabel('')\n",
    "plt.show()"
   ]
  },
  {
   "cell_type": "markdown",
   "id": "09a5beb8",
   "metadata": {},
   "source": [
    "**Вывод**: города в предоставленных данных представлено в примерно равном соотношении, однако Пятигорск можно вылелить как город, в котором проживает бОльшее количество пользователей сервиса, а Москву - как город с меньшим количеством пользователей данного сервиса."
   ]
  },
  {
   "cell_type": "markdown",
   "id": "9a26898a",
   "metadata": {},
   "source": [
    "Посмотрим **соотношение пользователей с подпиской и без подписки**."
   ]
  },
  {
   "cell_type": "code",
   "execution_count": 22,
   "id": "6b595f34",
   "metadata": {},
   "outputs": [
    {
     "data": {
      "text/plain": [
       "free     835\n",
       "ultra    699\n",
       "Name: subscription_type, dtype: int64"
      ]
     },
     "execution_count": 22,
     "metadata": {},
     "output_type": "execute_result"
    }
   ],
   "source": [
    "users_by_subscription = users['subscription_type'].value_counts()\n",
    "users_by_subscription"
   ]
  },
  {
   "cell_type": "code",
   "execution_count": 23,
   "id": "2e614f8b",
   "metadata": {},
   "outputs": [
    {
     "data": {
      "image/png": "[encoded data removed]",
      "text/plain": [
       "<Figure size 700x700 with 1 Axes>"
      ]
     },
     "metadata": {},
     "output_type": "display_data"
    }
   ],
   "source": [
    "# также построим круговую диаграмму\n",
    "users_by_subscription.plot(\n",
    "    kind='pie',\n",
    "    autopct='%1.0f%%',\n",
    "    figsize=(7, 7),\n",
    "    title='Соотношение пользователей по используемым тарифам'\n",
    ")\n",
    "\n",
    "plt.ylabel('')\n",
    "plt.show()"
   ]
  },
  {
   "cell_type": "markdown",
   "id": "016e851f",
   "metadata": {},
   "source": [
    "**Вывод**: преобладают пользователи с бесплатным тарифом, их 54 % или 835 человек."
   ]
  },
  {
   "cell_type": "markdown",
   "id": "26edd733",
   "metadata": {},
   "source": [
    "Посмотрим **возраст пользователей**."
   ]
  },
  {
   "cell_type": "code",
   "execution_count": 24,
   "id": "f7abf07c",
   "metadata": {},
   "outputs": [
    {
     "data": {
      "text/plain": [
       "count    1534.000000\n",
       "mean       24.903520\n",
       "std         4.572367\n",
       "min        12.000000\n",
       "25%        22.000000\n",
       "50%        25.000000\n",
       "75%        28.000000\n",
       "max        43.000000\n",
       "Name: age, dtype: float64"
      ]
     },
     "execution_count": 24,
     "metadata": {},
     "output_type": "execute_result"
    }
   ],
   "source": [
    "users['age'].describe()"
   ]
  },
  {
   "cell_type": "code",
   "execution_count": 25,
   "id": "1160a4c8",
   "metadata": {},
   "outputs": [
    {
     "data": {
      "image/png": "[encoded data removed]",
      "text/plain": [
       "<Figure size 640x480 with 1 Axes>"
      ]
     },
     "metadata": {},
     "output_type": "display_data"
    }
   ],
   "source": [
    "plt.hist(users['age'], bins=10)\n",
    "plt.title('Возраст пользователей сервиса')\n",
    "plt.xlabel('Возраст')\n",
    "plt.ylabel('Кол-во пользователей')\n",
    "plt.grid()\n",
    "plt.show()"
   ]
  },
  {
   "cell_type": "code",
   "execution_count": 26,
   "id": "21e1f101",
   "metadata": {},
   "outputs": [
    {
     "data": {
      "image/png": "[encoded data removed]",
      "text/plain": [
       "<Figure size 640x480 with 1 Axes>"
      ]
     },
     "metadata": {},
     "output_type": "display_data"
    }
   ],
   "source": [
    "sns.boxplot(x=users['age'], color='green')\n",
    "plt.title('Возраст пользователей')\n",
    "plt.xlabel('Возраст, годы')\n",
    "plt.xlim(0, 50);"
   ]
  },
  {
   "cell_type": "markdown",
   "id": "699a1dc4",
   "metadata": {},
   "source": [
    "**Вывод**: основная масса пользователей представлена людьми в возрасте между 20 и 30 годами. Самый младший пользователь - 12-летний ребенок, самому старшему пользователю 43 года."
   ]
  },
  {
   "cell_type": "markdown",
   "id": "3a2c59cd",
   "metadata": {},
   "source": [
    "Посмотрим **расстояние, которое пользователь преодолел за одну поездку**."
   ]
  },
  {
   "cell_type": "code",
   "execution_count": 27,
   "id": "6a37b1ee",
   "metadata": {},
   "outputs": [
    {
     "data": {
      "text/plain": [
       "count    18068.000000\n",
       "mean      3070.659976\n",
       "std       1116.831209\n",
       "min          0.855683\n",
       "25%       2543.226360\n",
       "50%       3133.609994\n",
       "75%       3776.222735\n",
       "max       7211.007745\n",
       "Name: distance, dtype: float64"
      ]
     },
     "execution_count": 27,
     "metadata": {},
     "output_type": "execute_result"
    }
   ],
   "source": [
    "rides['distance'].describe()"
   ]
  },
  {
   "cell_type": "code",
   "execution_count": 28,
   "id": "e2755818",
   "metadata": {},
   "outputs": [
    {
     "data": {
      "image/png": "[encoded data removed]",
      "text/plain": [
       "<Figure size 640x480 with 1 Axes>"
      ]
     },
     "metadata": {},
     "output_type": "display_data"
    }
   ],
   "source": [
    "sns.boxplot(x=rides['distance'], color='green')\n",
    "plt.title('Расстояние, которое пользователь преодолел за одну поездку')\n",
    "plt.xlabel('Расстояние, м')\n",
    "plt.xlim(0, 8000);"
   ]
  },
  {
   "cell_type": "markdown",
   "id": "ec101dcd",
   "metadata": {},
   "source": [
    "**Вывод**: в среднем за одну поездку пользователи проезжают чуть больше `3` км, `50 %` поездок характеризуются растоянием от `2.5` км до `3.8` км. Минимальное расстояние составляет всего несколько метров (менее `100` м), а максимальное расстояние, которое проезжают пользователи составляет `7.2` км."
   ]
  },
  {
   "cell_type": "markdown",
   "id": "b55b15ea",
   "metadata": {},
   "source": [
    "Посмотрим **продолжительность поездок**."
   ]
  },
  {
   "cell_type": "code",
   "execution_count": 29,
   "id": "f95e1e3a",
   "metadata": {},
   "outputs": [
    {
     "data": {
      "text/plain": [
       "count    18068.000000\n",
       "mean        17.805011\n",
       "std          6.091051\n",
       "min          0.500000\n",
       "25%         13.597563\n",
       "50%         17.678395\n",
       "75%         21.724800\n",
       "max         40.823963\n",
       "Name: duration, dtype: float64"
      ]
     },
     "execution_count": 29,
     "metadata": {},
     "output_type": "execute_result"
    }
   ],
   "source": [
    "rides['duration'].describe()"
   ]
  },
  {
   "cell_type": "code",
   "execution_count": 30,
   "id": "38fcd651",
   "metadata": {},
   "outputs": [
    {
     "data": {
      "image/png": "[encoded data removed]",
      "text/plain": [
       "<Figure size 640x480 with 1 Axes>"
      ]
     },
     "metadata": {},
     "output_type": "display_data"
    }
   ],
   "source": [
    "sns.boxplot(x=rides['duration'], color='green')\n",
    "plt.title('Время поездки')\n",
    "plt.xlabel('Время, мин')\n",
    "plt.xlim(0, 45);"
   ]
  },
  {
   "cell_type": "markdown",
   "id": "3add15b3",
   "metadata": {},
   "source": [
    "**Вывод**: в среднем поездки составляют около `17` мин, `50 %` поездок характеризуются длительностью от `14` мин до `22` мин. Минимальная длительность поездок составляет всего полминуты, а максимальная - чуть больше `40` мин."
   ]
  },
  {
   "cell_type": "markdown",
   "id": "4ef51331",
   "metadata": {},
   "source": [
    "#### Шаг 4. Объединение данных"
   ]
  },
  {
   "cell_type": "code",
   "execution_count": 31,
   "id": "40f3e8a2",
   "metadata": {},
   "outputs": [],
   "source": [
    "# объединяем датафреймы users и rides по столбцу 'user_id'\n",
    "data = users.merge(rides, on='user_id', how='inner')\n",
    "\n",
    "# объединяем полученный датафрейм с датафреймом subscriptions по столбцу 'subscription_type'\n",
    "data = data.merge(subscriptions, on='subscription_type', how='inner')"
   ]
  },
  {
   "cell_type": "code",
   "execution_count": 32,
   "id": "96e316a8",
   "metadata": {},
   "outputs": [
    {
     "data": {
      "text/html": [
       "<div>\n",
       "<style scoped>\n",
       "    .dataframe tbody tr th:only-of-type {\n",
       "        vertical-align: middle;\n",
       "    }\n",
       "\n",
       "    .dataframe tbody tr th {\n",
       "        vertical-align: top;\n",
       "    }\n",
       "\n",
       "    .dataframe thead th {\n",
       "        text-align: right;\n",
       "    }\n",
       "</style>\n",
       "<table border=\"1\" class=\"dataframe\">\n",
       "  <thead>\n",
       "    <tr style=\"text-align: right;\">\n",
       "      <th></th>\n",
       "      <th>user_id</th>\n",
       "      <th>name</th>\n",
       "      <th>age</th>\n",
       "      <th>city</th>\n",
       "      <th>subscription_type</th>\n",
       "      <th>distance</th>\n",
       "      <th>duration</th>\n",
       "      <th>date</th>\n",
       "      <th>month</th>\n",
       "      <th>minute_price</th>\n",
       "      <th>start_ride_price</th>\n",
       "      <th>subscription_fee</th>\n",
       "    </tr>\n",
       "  </thead>\n",
       "  <tbody>\n",
       "    <tr>\n",
       "      <th>0</th>\n",
       "      <td>1</td>\n",
       "      <td>Кира</td>\n",
       "      <td>22</td>\n",
       "      <td>Тюмень</td>\n",
       "      <td>ultra</td>\n",
       "      <td>4409.919140</td>\n",
       "      <td>25.599769</td>\n",
       "      <td>2021-01-01</td>\n",
       "      <td>1</td>\n",
       "      <td>6</td>\n",
       "      <td>0</td>\n",
       "      <td>199</td>\n",
       "    </tr>\n",
       "    <tr>\n",
       "      <th>1</th>\n",
       "      <td>1</td>\n",
       "      <td>Кира</td>\n",
       "      <td>22</td>\n",
       "      <td>Тюмень</td>\n",
       "      <td>ultra</td>\n",
       "      <td>2617.592153</td>\n",
       "      <td>15.816871</td>\n",
       "      <td>2021-01-18</td>\n",
       "      <td>1</td>\n",
       "      <td>6</td>\n",
       "      <td>0</td>\n",
       "      <td>199</td>\n",
       "    </tr>\n",
       "    <tr>\n",
       "      <th>2</th>\n",
       "      <td>1</td>\n",
       "      <td>Кира</td>\n",
       "      <td>22</td>\n",
       "      <td>Тюмень</td>\n",
       "      <td>ultra</td>\n",
       "      <td>754.159807</td>\n",
       "      <td>6.232113</td>\n",
       "      <td>2021-04-20</td>\n",
       "      <td>4</td>\n",
       "      <td>6</td>\n",
       "      <td>0</td>\n",
       "      <td>199</td>\n",
       "    </tr>\n",
       "    <tr>\n",
       "      <th>3</th>\n",
       "      <td>1</td>\n",
       "      <td>Кира</td>\n",
       "      <td>22</td>\n",
       "      <td>Тюмень</td>\n",
       "      <td>ultra</td>\n",
       "      <td>2694.783254</td>\n",
       "      <td>18.511000</td>\n",
       "      <td>2021-08-11</td>\n",
       "      <td>8</td>\n",
       "      <td>6</td>\n",
       "      <td>0</td>\n",
       "      <td>199</td>\n",
       "    </tr>\n",
       "    <tr>\n",
       "      <th>4</th>\n",
       "      <td>1</td>\n",
       "      <td>Кира</td>\n",
       "      <td>22</td>\n",
       "      <td>Тюмень</td>\n",
       "      <td>ultra</td>\n",
       "      <td>4028.687306</td>\n",
       "      <td>26.265803</td>\n",
       "      <td>2021-08-28</td>\n",
       "      <td>8</td>\n",
       "      <td>6</td>\n",
       "      <td>0</td>\n",
       "      <td>199</td>\n",
       "    </tr>\n",
       "    <tr>\n",
       "      <th>...</th>\n",
       "      <td>...</td>\n",
       "      <td>...</td>\n",
       "      <td>...</td>\n",
       "      <td>...</td>\n",
       "      <td>...</td>\n",
       "      <td>...</td>\n",
       "      <td>...</td>\n",
       "      <td>...</td>\n",
       "      <td>...</td>\n",
       "      <td>...</td>\n",
       "      <td>...</td>\n",
       "      <td>...</td>\n",
       "    </tr>\n",
       "    <tr>\n",
       "      <th>18063</th>\n",
       "      <td>1534</td>\n",
       "      <td>Альберт</td>\n",
       "      <td>25</td>\n",
       "      <td>Краснодар</td>\n",
       "      <td>free</td>\n",
       "      <td>3781.098080</td>\n",
       "      <td>19.822962</td>\n",
       "      <td>2021-11-04</td>\n",
       "      <td>11</td>\n",
       "      <td>8</td>\n",
       "      <td>50</td>\n",
       "      <td>0</td>\n",
       "    </tr>\n",
       "    <tr>\n",
       "      <th>18064</th>\n",
       "      <td>1534</td>\n",
       "      <td>Альберт</td>\n",
       "      <td>25</td>\n",
       "      <td>Краснодар</td>\n",
       "      <td>free</td>\n",
       "      <td>2840.423057</td>\n",
       "      <td>21.409799</td>\n",
       "      <td>2021-11-16</td>\n",
       "      <td>11</td>\n",
       "      <td>8</td>\n",
       "      <td>50</td>\n",
       "      <td>0</td>\n",
       "    </tr>\n",
       "    <tr>\n",
       "      <th>18065</th>\n",
       "      <td>1534</td>\n",
       "      <td>Альберт</td>\n",
       "      <td>25</td>\n",
       "      <td>Краснодар</td>\n",
       "      <td>free</td>\n",
       "      <td>3826.185507</td>\n",
       "      <td>18.435051</td>\n",
       "      <td>2021-11-18</td>\n",
       "      <td>11</td>\n",
       "      <td>8</td>\n",
       "      <td>50</td>\n",
       "      <td>0</td>\n",
       "    </tr>\n",
       "    <tr>\n",
       "      <th>18066</th>\n",
       "      <td>1534</td>\n",
       "      <td>Альберт</td>\n",
       "      <td>25</td>\n",
       "      <td>Краснодар</td>\n",
       "      <td>free</td>\n",
       "      <td>2902.308661</td>\n",
       "      <td>16.674362</td>\n",
       "      <td>2021-11-27</td>\n",
       "      <td>11</td>\n",
       "      <td>8</td>\n",
       "      <td>50</td>\n",
       "      <td>0</td>\n",
       "    </tr>\n",
       "    <tr>\n",
       "      <th>18067</th>\n",
       "      <td>1534</td>\n",
       "      <td>Альберт</td>\n",
       "      <td>25</td>\n",
       "      <td>Краснодар</td>\n",
       "      <td>free</td>\n",
       "      <td>2371.711192</td>\n",
       "      <td>15.893917</td>\n",
       "      <td>2021-12-29</td>\n",
       "      <td>12</td>\n",
       "      <td>8</td>\n",
       "      <td>50</td>\n",
       "      <td>0</td>\n",
       "    </tr>\n",
       "  </tbody>\n",
       "</table>\n",
       "<p>18068 rows × 12 columns</p>\n",
       "</div>"
      ],
      "text/plain": [
       "       user_id     name  age       city subscription_type     distance  \\\n",
       "0            1     Кира   22     Тюмень             ultra  4409.919140   \n",
       "1            1     Кира   22     Тюмень             ultra  2617.592153   \n",
       "2            1     Кира   22     Тюмень             ultra   754.159807   \n",
       "3            1     Кира   22     Тюмень             ultra  2694.783254   \n",
       "4            1     Кира   22     Тюмень             ultra  4028.687306   \n",
       "...        ...      ...  ...        ...               ...          ...   \n",
       "18063     1534  Альберт   25  Краснодар              free  3781.098080   \n",
       "18064     1534  Альберт   25  Краснодар              free  2840.423057   \n",
       "18065     1534  Альберт   25  Краснодар              free  3826.185507   \n",
       "18066     1534  Альберт   25  Краснодар              free  2902.308661   \n",
       "18067     1534  Альберт   25  Краснодар              free  2371.711192   \n",
       "\n",
       "        duration       date  month  minute_price  start_ride_price  \\\n",
       "0      25.599769 2021-01-01      1             6                 0   \n",
       "1      15.816871 2021-01-18      1             6                 0   \n",
       "2       6.232113 2021-04-20      4             6                 0   \n",
       "3      18.511000 2021-08-11      8             6                 0   \n",
       "4      26.265803 2021-08-28      8             6                 0   \n",
       "...          ...        ...    ...           ...               ...   \n",
       "18063  19.822962 2021-11-04     11             8                50   \n",
       "18064  21.409799 2021-11-16     11             8                50   \n",
       "18065  18.435051 2021-11-18     11             8                50   \n",
       "18066  16.674362 2021-11-27     11             8                50   \n",
       "18067  15.893917 2021-12-29     12             8                50   \n",
       "\n",
       "       subscription_fee  \n",
       "0                   199  \n",
       "1                   199  \n",
       "2                   199  \n",
       "3                   199  \n",
       "4                   199  \n",
       "...                 ...  \n",
       "18063                 0  \n",
       "18064                 0  \n",
       "18065                 0  \n",
       "18066                 0  \n",
       "18067                 0  \n",
       "\n",
       "[18068 rows x 12 columns]"
      ]
     },
     "execution_count": 32,
     "metadata": {},
     "output_type": "execute_result"
    }
   ],
   "source": [
    "data"
   ]
  },
  {
   "cell_type": "code",
   "execution_count": 33,
   "id": "0d73cd1b",
   "metadata": {},
   "outputs": [
    {
     "data": {
      "text/plain": [
       "user_id              0\n",
       "name                 0\n",
       "age                  0\n",
       "city                 0\n",
       "subscription_type    0\n",
       "distance             0\n",
       "duration             0\n",
       "date                 0\n",
       "month                0\n",
       "minute_price         0\n",
       "start_ride_price     0\n",
       "subscription_fee     0\n",
       "dtype: int64"
      ]
     },
     "execution_count": 33,
     "metadata": {},
     "output_type": "execute_result"
    }
   ],
   "source": [
    "# проверим количество пропусков\n",
    "data.isna().sum()"
   ]
  },
  {
   "cell_type": "markdown",
   "id": "ccb0b4b5",
   "metadata": {},
   "source": [
    "Создадим отдельный датафрейм с пользователями **без подписки**."
   ]
  },
  {
   "cell_type": "code",
   "execution_count": 34,
   "id": "167293eb",
   "metadata": {},
   "outputs": [],
   "source": [
    "free_subscription = data.query(\"subscription_type == 'free'\")"
   ]
  },
  {
   "cell_type": "code",
   "execution_count": 35,
   "id": "d432e8f3",
   "metadata": {},
   "outputs": [
    {
     "data": {
      "text/html": [
       "<div>\n",
       "<style scoped>\n",
       "    .dataframe tbody tr th:only-of-type {\n",
       "        vertical-align: middle;\n",
       "    }\n",
       "\n",
       "    .dataframe tbody tr th {\n",
       "        vertical-align: top;\n",
       "    }\n",
       "\n",
       "    .dataframe thead th {\n",
       "        text-align: right;\n",
       "    }\n",
       "</style>\n",
       "<table border=\"1\" class=\"dataframe\">\n",
       "  <thead>\n",
       "    <tr style=\"text-align: right;\">\n",
       "      <th></th>\n",
       "      <th>user_id</th>\n",
       "      <th>name</th>\n",
       "      <th>age</th>\n",
       "      <th>city</th>\n",
       "      <th>subscription_type</th>\n",
       "      <th>distance</th>\n",
       "      <th>duration</th>\n",
       "      <th>date</th>\n",
       "      <th>month</th>\n",
       "      <th>minute_price</th>\n",
       "      <th>start_ride_price</th>\n",
       "      <th>subscription_fee</th>\n",
       "    </tr>\n",
       "  </thead>\n",
       "  <tbody>\n",
       "    <tr>\n",
       "      <th>6500</th>\n",
       "      <td>700</td>\n",
       "      <td>Айдар</td>\n",
       "      <td>22</td>\n",
       "      <td>Омск</td>\n",
       "      <td>free</td>\n",
       "      <td>2515.690719</td>\n",
       "      <td>14.944286</td>\n",
       "      <td>2021-01-02</td>\n",
       "      <td>1</td>\n",
       "      <td>8</td>\n",
       "      <td>50</td>\n",
       "      <td>0</td>\n",
       "    </tr>\n",
       "    <tr>\n",
       "      <th>6501</th>\n",
       "      <td>700</td>\n",
       "      <td>Айдар</td>\n",
       "      <td>22</td>\n",
       "      <td>Омск</td>\n",
       "      <td>free</td>\n",
       "      <td>846.932642</td>\n",
       "      <td>16.234663</td>\n",
       "      <td>2021-02-01</td>\n",
       "      <td>2</td>\n",
       "      <td>8</td>\n",
       "      <td>50</td>\n",
       "      <td>0</td>\n",
       "    </tr>\n",
       "    <tr>\n",
       "      <th>6502</th>\n",
       "      <td>700</td>\n",
       "      <td>Айдар</td>\n",
       "      <td>22</td>\n",
       "      <td>Омск</td>\n",
       "      <td>free</td>\n",
       "      <td>4004.434142</td>\n",
       "      <td>20.016628</td>\n",
       "      <td>2021-02-04</td>\n",
       "      <td>2</td>\n",
       "      <td>8</td>\n",
       "      <td>50</td>\n",
       "      <td>0</td>\n",
       "    </tr>\n",
       "    <tr>\n",
       "      <th>6503</th>\n",
       "      <td>700</td>\n",
       "      <td>Айдар</td>\n",
       "      <td>22</td>\n",
       "      <td>Омск</td>\n",
       "      <td>free</td>\n",
       "      <td>1205.911290</td>\n",
       "      <td>9.782872</td>\n",
       "      <td>2021-02-10</td>\n",
       "      <td>2</td>\n",
       "      <td>8</td>\n",
       "      <td>50</td>\n",
       "      <td>0</td>\n",
       "    </tr>\n",
       "    <tr>\n",
       "      <th>6504</th>\n",
       "      <td>700</td>\n",
       "      <td>Айдар</td>\n",
       "      <td>22</td>\n",
       "      <td>Омск</td>\n",
       "      <td>free</td>\n",
       "      <td>3047.379435</td>\n",
       "      <td>17.427673</td>\n",
       "      <td>2021-02-14</td>\n",
       "      <td>2</td>\n",
       "      <td>8</td>\n",
       "      <td>50</td>\n",
       "      <td>0</td>\n",
       "    </tr>\n",
       "    <tr>\n",
       "      <th>...</th>\n",
       "      <td>...</td>\n",
       "      <td>...</td>\n",
       "      <td>...</td>\n",
       "      <td>...</td>\n",
       "      <td>...</td>\n",
       "      <td>...</td>\n",
       "      <td>...</td>\n",
       "      <td>...</td>\n",
       "      <td>...</td>\n",
       "      <td>...</td>\n",
       "      <td>...</td>\n",
       "      <td>...</td>\n",
       "    </tr>\n",
       "    <tr>\n",
       "      <th>18063</th>\n",
       "      <td>1534</td>\n",
       "      <td>Альберт</td>\n",
       "      <td>25</td>\n",
       "      <td>Краснодар</td>\n",
       "      <td>free</td>\n",
       "      <td>3781.098080</td>\n",
       "      <td>19.822962</td>\n",
       "      <td>2021-11-04</td>\n",
       "      <td>11</td>\n",
       "      <td>8</td>\n",
       "      <td>50</td>\n",
       "      <td>0</td>\n",
       "    </tr>\n",
       "    <tr>\n",
       "      <th>18064</th>\n",
       "      <td>1534</td>\n",
       "      <td>Альберт</td>\n",
       "      <td>25</td>\n",
       "      <td>Краснодар</td>\n",
       "      <td>free</td>\n",
       "      <td>2840.423057</td>\n",
       "      <td>21.409799</td>\n",
       "      <td>2021-11-16</td>\n",
       "      <td>11</td>\n",
       "      <td>8</td>\n",
       "      <td>50</td>\n",
       "      <td>0</td>\n",
       "    </tr>\n",
       "    <tr>\n",
       "      <th>18065</th>\n",
       "      <td>1534</td>\n",
       "      <td>Альберт</td>\n",
       "      <td>25</td>\n",
       "      <td>Краснодар</td>\n",
       "      <td>free</td>\n",
       "      <td>3826.185507</td>\n",
       "      <td>18.435051</td>\n",
       "      <td>2021-11-18</td>\n",
       "      <td>11</td>\n",
       "      <td>8</td>\n",
       "      <td>50</td>\n",
       "      <td>0</td>\n",
       "    </tr>\n",
       "    <tr>\n",
       "      <th>18066</th>\n",
       "      <td>1534</td>\n",
       "      <td>Альберт</td>\n",
       "      <td>25</td>\n",
       "      <td>Краснодар</td>\n",
       "      <td>free</td>\n",
       "      <td>2902.308661</td>\n",
       "      <td>16.674362</td>\n",
       "      <td>2021-11-27</td>\n",
       "      <td>11</td>\n",
       "      <td>8</td>\n",
       "      <td>50</td>\n",
       "      <td>0</td>\n",
       "    </tr>\n",
       "    <tr>\n",
       "      <th>18067</th>\n",
       "      <td>1534</td>\n",
       "      <td>Альберт</td>\n",
       "      <td>25</td>\n",
       "      <td>Краснодар</td>\n",
       "      <td>free</td>\n",
       "      <td>2371.711192</td>\n",
       "      <td>15.893917</td>\n",
       "      <td>2021-12-29</td>\n",
       "      <td>12</td>\n",
       "      <td>8</td>\n",
       "      <td>50</td>\n",
       "      <td>0</td>\n",
       "    </tr>\n",
       "  </tbody>\n",
       "</table>\n",
       "<p>11568 rows × 12 columns</p>\n",
       "</div>"
      ],
      "text/plain": [
       "       user_id     name  age       city subscription_type     distance  \\\n",
       "6500       700    Айдар   22       Омск              free  2515.690719   \n",
       "6501       700    Айдар   22       Омск              free   846.932642   \n",
       "6502       700    Айдар   22       Омск              free  4004.434142   \n",
       "6503       700    Айдар   22       Омск              free  1205.911290   \n",
       "6504       700    Айдар   22       Омск              free  3047.379435   \n",
       "...        ...      ...  ...        ...               ...          ...   \n",
       "18063     1534  Альберт   25  Краснодар              free  3781.098080   \n",
       "18064     1534  Альберт   25  Краснодар              free  2840.423057   \n",
       "18065     1534  Альберт   25  Краснодар              free  3826.185507   \n",
       "18066     1534  Альберт   25  Краснодар              free  2902.308661   \n",
       "18067     1534  Альберт   25  Краснодар              free  2371.711192   \n",
       "\n",
       "        duration       date  month  minute_price  start_ride_price  \\\n",
       "6500   14.944286 2021-01-02      1             8                50   \n",
       "6501   16.234663 2021-02-01      2             8                50   \n",
       "6502   20.016628 2021-02-04      2             8                50   \n",
       "6503    9.782872 2021-02-10      2             8                50   \n",
       "6504   17.427673 2021-02-14      2             8                50   \n",
       "...          ...        ...    ...           ...               ...   \n",
       "18063  19.822962 2021-11-04     11             8                50   \n",
       "18064  21.409799 2021-11-16     11             8                50   \n",
       "18065  18.435051 2021-11-18     11             8                50   \n",
       "18066  16.674362 2021-11-27     11             8                50   \n",
       "18067  15.893917 2021-12-29     12             8                50   \n",
       "\n",
       "       subscription_fee  \n",
       "6500                  0  \n",
       "6501                  0  \n",
       "6502                  0  \n",
       "6503                  0  \n",
       "6504                  0  \n",
       "...                 ...  \n",
       "18063                 0  \n",
       "18064                 0  \n",
       "18065                 0  \n",
       "18066                 0  \n",
       "18067                 0  \n",
       "\n",
       "[11568 rows x 12 columns]"
      ]
     },
     "execution_count": 35,
     "metadata": {},
     "output_type": "execute_result"
    }
   ],
   "source": [
    "free_subscription"
   ]
  },
  {
   "cell_type": "markdown",
   "id": "1f010e2b",
   "metadata": {},
   "source": [
    "Создадим отдельный датафрейм с пользователями **с подпиской**."
   ]
  },
  {
   "cell_type": "code",
   "execution_count": 36,
   "id": "c6834773",
   "metadata": {},
   "outputs": [],
   "source": [
    "ultra_subscription = data.query(\"subscription_type == 'ultra'\")"
   ]
  },
  {
   "cell_type": "code",
   "execution_count": 37,
   "id": "ba602941",
   "metadata": {},
   "outputs": [
    {
     "data": {
      "text/html": [
       "<div>\n",
       "<style scoped>\n",
       "    .dataframe tbody tr th:only-of-type {\n",
       "        vertical-align: middle;\n",
       "    }\n",
       "\n",
       "    .dataframe tbody tr th {\n",
       "        vertical-align: top;\n",
       "    }\n",
       "\n",
       "    .dataframe thead th {\n",
       "        text-align: right;\n",
       "    }\n",
       "</style>\n",
       "<table border=\"1\" class=\"dataframe\">\n",
       "  <thead>\n",
       "    <tr style=\"text-align: right;\">\n",
       "      <th></th>\n",
       "      <th>user_id</th>\n",
       "      <th>name</th>\n",
       "      <th>age</th>\n",
       "      <th>city</th>\n",
       "      <th>subscription_type</th>\n",
       "      <th>distance</th>\n",
       "      <th>duration</th>\n",
       "      <th>date</th>\n",
       "      <th>month</th>\n",
       "      <th>minute_price</th>\n",
       "      <th>start_ride_price</th>\n",
       "      <th>subscription_fee</th>\n",
       "    </tr>\n",
       "  </thead>\n",
       "  <tbody>\n",
       "    <tr>\n",
       "      <th>0</th>\n",
       "      <td>1</td>\n",
       "      <td>Кира</td>\n",
       "      <td>22</td>\n",
       "      <td>Тюмень</td>\n",
       "      <td>ultra</td>\n",
       "      <td>4409.919140</td>\n",
       "      <td>25.599769</td>\n",
       "      <td>2021-01-01</td>\n",
       "      <td>1</td>\n",
       "      <td>6</td>\n",
       "      <td>0</td>\n",
       "      <td>199</td>\n",
       "    </tr>\n",
       "    <tr>\n",
       "      <th>1</th>\n",
       "      <td>1</td>\n",
       "      <td>Кира</td>\n",
       "      <td>22</td>\n",
       "      <td>Тюмень</td>\n",
       "      <td>ultra</td>\n",
       "      <td>2617.592153</td>\n",
       "      <td>15.816871</td>\n",
       "      <td>2021-01-18</td>\n",
       "      <td>1</td>\n",
       "      <td>6</td>\n",
       "      <td>0</td>\n",
       "      <td>199</td>\n",
       "    </tr>\n",
       "    <tr>\n",
       "      <th>2</th>\n",
       "      <td>1</td>\n",
       "      <td>Кира</td>\n",
       "      <td>22</td>\n",
       "      <td>Тюмень</td>\n",
       "      <td>ultra</td>\n",
       "      <td>754.159807</td>\n",
       "      <td>6.232113</td>\n",
       "      <td>2021-04-20</td>\n",
       "      <td>4</td>\n",
       "      <td>6</td>\n",
       "      <td>0</td>\n",
       "      <td>199</td>\n",
       "    </tr>\n",
       "    <tr>\n",
       "      <th>3</th>\n",
       "      <td>1</td>\n",
       "      <td>Кира</td>\n",
       "      <td>22</td>\n",
       "      <td>Тюмень</td>\n",
       "      <td>ultra</td>\n",
       "      <td>2694.783254</td>\n",
       "      <td>18.511000</td>\n",
       "      <td>2021-08-11</td>\n",
       "      <td>8</td>\n",
       "      <td>6</td>\n",
       "      <td>0</td>\n",
       "      <td>199</td>\n",
       "    </tr>\n",
       "    <tr>\n",
       "      <th>4</th>\n",
       "      <td>1</td>\n",
       "      <td>Кира</td>\n",
       "      <td>22</td>\n",
       "      <td>Тюмень</td>\n",
       "      <td>ultra</td>\n",
       "      <td>4028.687306</td>\n",
       "      <td>26.265803</td>\n",
       "      <td>2021-08-28</td>\n",
       "      <td>8</td>\n",
       "      <td>6</td>\n",
       "      <td>0</td>\n",
       "      <td>199</td>\n",
       "    </tr>\n",
       "    <tr>\n",
       "      <th>...</th>\n",
       "      <td>...</td>\n",
       "      <td>...</td>\n",
       "      <td>...</td>\n",
       "      <td>...</td>\n",
       "      <td>...</td>\n",
       "      <td>...</td>\n",
       "      <td>...</td>\n",
       "      <td>...</td>\n",
       "      <td>...</td>\n",
       "      <td>...</td>\n",
       "      <td>...</td>\n",
       "      <td>...</td>\n",
       "    </tr>\n",
       "    <tr>\n",
       "      <th>6495</th>\n",
       "      <td>699</td>\n",
       "      <td>Оксана</td>\n",
       "      <td>22</td>\n",
       "      <td>Москва</td>\n",
       "      <td>ultra</td>\n",
       "      <td>3973.046497</td>\n",
       "      <td>24.671163</td>\n",
       "      <td>2021-08-29</td>\n",
       "      <td>8</td>\n",
       "      <td>6</td>\n",
       "      <td>0</td>\n",
       "      <td>199</td>\n",
       "    </tr>\n",
       "    <tr>\n",
       "      <th>6496</th>\n",
       "      <td>699</td>\n",
       "      <td>Оксана</td>\n",
       "      <td>22</td>\n",
       "      <td>Москва</td>\n",
       "      <td>ultra</td>\n",
       "      <td>3288.702563</td>\n",
       "      <td>15.892886</td>\n",
       "      <td>2021-09-12</td>\n",
       "      <td>9</td>\n",
       "      <td>6</td>\n",
       "      <td>0</td>\n",
       "      <td>199</td>\n",
       "    </tr>\n",
       "    <tr>\n",
       "      <th>6497</th>\n",
       "      <td>699</td>\n",
       "      <td>Оксана</td>\n",
       "      <td>22</td>\n",
       "      <td>Москва</td>\n",
       "      <td>ultra</td>\n",
       "      <td>3076.159348</td>\n",
       "      <td>14.389525</td>\n",
       "      <td>2021-09-26</td>\n",
       "      <td>9</td>\n",
       "      <td>6</td>\n",
       "      <td>0</td>\n",
       "      <td>199</td>\n",
       "    </tr>\n",
       "    <tr>\n",
       "      <th>6498</th>\n",
       "      <td>699</td>\n",
       "      <td>Оксана</td>\n",
       "      <td>22</td>\n",
       "      <td>Москва</td>\n",
       "      <td>ultra</td>\n",
       "      <td>4707.845501</td>\n",
       "      <td>15.839579</td>\n",
       "      <td>2021-10-17</td>\n",
       "      <td>10</td>\n",
       "      <td>6</td>\n",
       "      <td>0</td>\n",
       "      <td>199</td>\n",
       "    </tr>\n",
       "    <tr>\n",
       "      <th>6499</th>\n",
       "      <td>699</td>\n",
       "      <td>Оксана</td>\n",
       "      <td>22</td>\n",
       "      <td>Москва</td>\n",
       "      <td>ultra</td>\n",
       "      <td>3202.890770</td>\n",
       "      <td>25.217345</td>\n",
       "      <td>2021-12-03</td>\n",
       "      <td>12</td>\n",
       "      <td>6</td>\n",
       "      <td>0</td>\n",
       "      <td>199</td>\n",
       "    </tr>\n",
       "  </tbody>\n",
       "</table>\n",
       "<p>6500 rows × 12 columns</p>\n",
       "</div>"
      ],
      "text/plain": [
       "      user_id    name  age    city subscription_type     distance   duration  \\\n",
       "0           1    Кира   22  Тюмень             ultra  4409.919140  25.599769   \n",
       "1           1    Кира   22  Тюмень             ultra  2617.592153  15.816871   \n",
       "2           1    Кира   22  Тюмень             ultra   754.159807   6.232113   \n",
       "3           1    Кира   22  Тюмень             ultra  2694.783254  18.511000   \n",
       "4           1    Кира   22  Тюмень             ultra  4028.687306  26.265803   \n",
       "...       ...     ...  ...     ...               ...          ...        ...   \n",
       "6495      699  Оксана   22  Москва             ultra  3973.046497  24.671163   \n",
       "6496      699  Оксана   22  Москва             ultra  3288.702563  15.892886   \n",
       "6497      699  Оксана   22  Москва             ultra  3076.159348  14.389525   \n",
       "6498      699  Оксана   22  Москва             ultra  4707.845501  15.839579   \n",
       "6499      699  Оксана   22  Москва             ultra  3202.890770  25.217345   \n",
       "\n",
       "           date  month  minute_price  start_ride_price  subscription_fee  \n",
       "0    2021-01-01      1             6                 0               199  \n",
       "1    2021-01-18      1             6                 0               199  \n",
       "2    2021-04-20      4             6                 0               199  \n",
       "3    2021-08-11      8             6                 0               199  \n",
       "4    2021-08-28      8             6                 0               199  \n",
       "...         ...    ...           ...               ...               ...  \n",
       "6495 2021-08-29      8             6                 0               199  \n",
       "6496 2021-09-12      9             6                 0               199  \n",
       "6497 2021-09-26      9             6                 0               199  \n",
       "6498 2021-10-17     10             6                 0               199  \n",
       "6499 2021-12-03     12             6                 0               199  \n",
       "\n",
       "[6500 rows x 12 columns]"
      ]
     },
     "execution_count": 37,
     "metadata": {},
     "output_type": "execute_result"
    }
   ],
   "source": [
    "ultra_subscription"
   ]
  },
  {
   "cell_type": "markdown",
   "id": "2841165e",
   "metadata": {},
   "source": [
    "Визуализируем информацию о расстоянии и времени поездок для пользователей обеих категорий.\n",
    "\n",
    "Сначала сравним **время поездок** пользователей с подпиской и без нее."
   ]
  },
  {
   "cell_type": "code",
   "execution_count": 38,
   "id": "0c0e584a",
   "metadata": {},
   "outputs": [
    {
     "data": {
      "image/png": "[encoded data removed]",
      "text/plain": [
       "<Figure size 1500x500 with 2 Axes>"
      ]
     },
     "metadata": {},
     "output_type": "display_data"
    }
   ],
   "source": [
    "fig, (ax1, ax2) = plt.subplots(1, 2, figsize=(15, 5))\n",
    "\n",
    "# первый график для поездок без подписки\n",
    "ax1.hist(free_subscription['duration'], bins=70, range=(0, 50))\n",
    "ax1.set_title('Время, без подписки')\n",
    "ax1.set_xlabel('Время поездки, мин')\n",
    "ax1.set_ylabel('Кол-во поездок')\n",
    "\n",
    "# второй график для поездок с подпиской\n",
    "ax2.hist(ultra_subscription['duration'], bins=70, range=(0, 50))\n",
    "ax2.set_title('Время, с подпиской')\n",
    "ax2.set_xlabel('Время поездки, мин')\n",
    "ax2.set_ylabel('Кол-во поездок')\n",
    "\n",
    "# располагаем графики рядом для удобства\n",
    "plt.subplots_adjust(wspace=0.4)\n",
    "\n",
    "plt.show()"
   ]
  },
  {
   "cell_type": "markdown",
   "id": "4902278f",
   "metadata": {},
   "source": [
    "Теперь сравним **расстояния поездок** пользователей с подпиской и без нее."
   ]
  },
  {
   "cell_type": "code",
   "execution_count": 39,
   "id": "ae661e78",
   "metadata": {},
   "outputs": [
    {
     "data": {
      "image/png": "[encoded data removed]",
      "text/plain": [
       "<Figure size 1500x500 with 2 Axes>"
      ]
     },
     "metadata": {},
     "output_type": "display_data"
    }
   ],
   "source": [
    "fig, (ax1, ax2) = plt.subplots(1, 2, figsize=(15, 5))\n",
    "\n",
    "# первый график для поездок без подписки\n",
    "ax1.hist(free_subscription['distance'], bins=40, range=(0, 7000))\n",
    "ax1.set_title('Расстояние, без подписки')\n",
    "ax1.set_xlabel('Расстояние, м')\n",
    "ax1.set_ylabel('Кол-во поездок')\n",
    "\n",
    "# второй график для поездок с подпиской\n",
    "ax2.hist(ultra_subscription['distance'], bins=40, range=(0, 7000))\n",
    "ax2.set_title('Расстояние, с подпиской')\n",
    "ax2.set_xlabel('Расстояние, м')\n",
    "ax2.set_ylabel('Кол-во поездок')\n",
    "\n",
    "# располагаем графики рядом для удобства\n",
    "plt.subplots_adjust(wspace=0.4)\n",
    "\n",
    "plt.show()"
   ]
  },
  {
   "cell_type": "markdown",
   "id": "f2da8aee",
   "metadata": {},
   "source": [
    "**Вывод**:\n",
    "\n",
    "Для удобства работы мы объединили данные о пользователях, поездках и подписках в один датафрейм`data`.\n",
    "\n",
    "Используя полученный датафрейм, создали два отдельных датафрейма:\n",
    "- `free_subscription` - информация о пользователях без подписки\n",
    "- `ultra_subscription` - информация о пользователях с подпиской\n",
    "\n",
    "Пользователей **без подписки** оказалось чуть ли не в 2 раза больше (`11568` человек), чем пользователей **с подпиской** (`6500` человек).\n",
    "\n",
    "Информация о расстоянии и времени поездок пользователей без подписки и с подпиской была визуализирована, на основе чего можно сделать следующие выводы:\n",
    "\n",
    "Время поездки пользователей обеих категорий составляет в среднем от `10` до `25` минут, однако пользователи **без подписки** используют самокаты и для очень коротких поездок, буквально на минутку, чего не делают пользователи с подпиской, они совершают более длительные поездки.\n",
    "\n",
    "Расстояние пользователи **без подписки** покрывают намного больше, до `7` км, в то время как пользователи **с подпиской** проезжают чуть более `5` км.\n",
    "\n",
    "Таким образом, можно сделать вывод, что длительность поездок не особенно зависит от наличия подписки, а вот расстояние пользователи **без подписки** проезжают бОльшее."
   ]
  },
  {
   "cell_type": "markdown",
   "id": "402d620f",
   "metadata": {},
   "source": [
    "#### Шаг 5. Подсчёт выручки"
   ]
  },
  {
   "cell_type": "markdown",
   "id": "b400b378",
   "metadata": {},
   "source": [
    "Найдем суммарное расстояние, количество поeздок и суммарное время для каждого пользователя за каждый месяц."
   ]
  },
  {
   "cell_type": "code",
   "execution_count": 40,
   "id": "8717563d",
   "metadata": {},
   "outputs": [],
   "source": [
    "total_data = pd.pivot_table(\n",
    "    data,\n",
    "    index=['user_id', 'month'],\n",
    "    values=['distance', 'name', 'duration', 'subscription_type'],\n",
    "    aggfunc={'distance': 'sum', 'name': 'count', 'duration': 'sum', 'subscription_type': min}\n",
    ")"
   ]
  },
  {
   "cell_type": "code",
   "execution_count": 41,
   "id": "a1fbc80d",
   "metadata": {},
   "outputs": [],
   "source": [
    "total_data.rename(columns={'name': 'count'}, inplace=True)"
   ]
  },
  {
   "cell_type": "code",
   "execution_count": 42,
   "id": "bb8a471f",
   "metadata": {},
   "outputs": [
    {
     "data": {
      "text/html": [
       "<div>\n",
       "<style scoped>\n",
       "    .dataframe tbody tr th:only-of-type {\n",
       "        vertical-align: middle;\n",
       "    }\n",
       "\n",
       "    .dataframe tbody tr th {\n",
       "        vertical-align: top;\n",
       "    }\n",
       "\n",
       "    .dataframe thead th {\n",
       "        text-align: right;\n",
       "    }\n",
       "</style>\n",
       "<table border=\"1\" class=\"dataframe\">\n",
       "  <thead>\n",
       "    <tr style=\"text-align: right;\">\n",
       "      <th></th>\n",
       "      <th></th>\n",
       "      <th>distance</th>\n",
       "      <th>duration</th>\n",
       "      <th>count</th>\n",
       "      <th>subscription_type</th>\n",
       "    </tr>\n",
       "    <tr>\n",
       "      <th>user_id</th>\n",
       "      <th>month</th>\n",
       "      <th></th>\n",
       "      <th></th>\n",
       "      <th></th>\n",
       "      <th></th>\n",
       "    </tr>\n",
       "  </thead>\n",
       "  <tbody>\n",
       "    <tr>\n",
       "      <th rowspan=\"5\" valign=\"top\">1</th>\n",
       "      <th>1</th>\n",
       "      <td>7027.511294</td>\n",
       "      <td>41.416640</td>\n",
       "      <td>2</td>\n",
       "      <td>ultra</td>\n",
       "    </tr>\n",
       "    <tr>\n",
       "      <th>4</th>\n",
       "      <td>754.159807</td>\n",
       "      <td>6.232113</td>\n",
       "      <td>1</td>\n",
       "      <td>ultra</td>\n",
       "    </tr>\n",
       "    <tr>\n",
       "      <th>8</th>\n",
       "      <td>6723.470560</td>\n",
       "      <td>44.776802</td>\n",
       "      <td>2</td>\n",
       "      <td>ultra</td>\n",
       "    </tr>\n",
       "    <tr>\n",
       "      <th>10</th>\n",
       "      <td>5809.911100</td>\n",
       "      <td>31.578017</td>\n",
       "      <td>2</td>\n",
       "      <td>ultra</td>\n",
       "    </tr>\n",
       "    <tr>\n",
       "      <th>11</th>\n",
       "      <td>7003.499363</td>\n",
       "      <td>53.397424</td>\n",
       "      <td>3</td>\n",
       "      <td>ultra</td>\n",
       "    </tr>\n",
       "    <tr>\n",
       "      <th>...</th>\n",
       "      <th>...</th>\n",
       "      <td>...</td>\n",
       "      <td>...</td>\n",
       "      <td>...</td>\n",
       "      <td>...</td>\n",
       "    </tr>\n",
       "    <tr>\n",
       "      <th rowspan=\"5\" valign=\"top\">1534</th>\n",
       "      <th>6</th>\n",
       "      <td>3409.468534</td>\n",
       "      <td>24.812678</td>\n",
       "      <td>2</td>\n",
       "      <td>free</td>\n",
       "    </tr>\n",
       "    <tr>\n",
       "      <th>8</th>\n",
       "      <td>7622.453034</td>\n",
       "      <td>47.205960</td>\n",
       "      <td>2</td>\n",
       "      <td>free</td>\n",
       "    </tr>\n",
       "    <tr>\n",
       "      <th>9</th>\n",
       "      <td>4928.173852</td>\n",
       "      <td>22.560373</td>\n",
       "      <td>1</td>\n",
       "      <td>free</td>\n",
       "    </tr>\n",
       "    <tr>\n",
       "      <th>11</th>\n",
       "      <td>13350.015305</td>\n",
       "      <td>76.342174</td>\n",
       "      <td>4</td>\n",
       "      <td>free</td>\n",
       "    </tr>\n",
       "    <tr>\n",
       "      <th>12</th>\n",
       "      <td>2371.711192</td>\n",
       "      <td>15.893917</td>\n",
       "      <td>1</td>\n",
       "      <td>free</td>\n",
       "    </tr>\n",
       "  </tbody>\n",
       "</table>\n",
       "<p>11331 rows × 4 columns</p>\n",
       "</div>"
      ],
      "text/plain": [
       "                   distance   duration  count subscription_type\n",
       "user_id month                                                  \n",
       "1       1       7027.511294  41.416640      2             ultra\n",
       "        4        754.159807   6.232113      1             ultra\n",
       "        8       6723.470560  44.776802      2             ultra\n",
       "        10      5809.911100  31.578017      2             ultra\n",
       "        11      7003.499363  53.397424      3             ultra\n",
       "...                     ...        ...    ...               ...\n",
       "1534    6       3409.468534  24.812678      2              free\n",
       "        8       7622.453034  47.205960      2              free\n",
       "        9       4928.173852  22.560373      1              free\n",
       "        11     13350.015305  76.342174      4              free\n",
       "        12      2371.711192  15.893917      1              free\n",
       "\n",
       "[11331 rows x 4 columns]"
      ]
     },
     "execution_count": 42,
     "metadata": {},
     "output_type": "execute_result"
    }
   ],
   "source": [
    "total_data"
   ]
  },
  {
   "cell_type": "code",
   "execution_count": 43,
   "id": "946ccc87",
   "metadata": {},
   "outputs": [],
   "source": [
    "# округлим значения столбца 'duration' в таблице до ближайшего целого числа вверх\n",
    "total_data['duration'] = np.ceil(total_data['duration'])"
   ]
  },
  {
   "cell_type": "code",
   "execution_count": 44,
   "id": "3a026707",
   "metadata": {},
   "outputs": [
    {
     "data": {
      "text/html": [
       "<div>\n",
       "<style scoped>\n",
       "    .dataframe tbody tr th:only-of-type {\n",
       "        vertical-align: middle;\n",
       "    }\n",
       "\n",
       "    .dataframe tbody tr th {\n",
       "        vertical-align: top;\n",
       "    }\n",
       "\n",
       "    .dataframe thead th {\n",
       "        text-align: right;\n",
       "    }\n",
       "</style>\n",
       "<table border=\"1\" class=\"dataframe\">\n",
       "  <thead>\n",
       "    <tr style=\"text-align: right;\">\n",
       "      <th></th>\n",
       "      <th></th>\n",
       "      <th>distance</th>\n",
       "      <th>duration</th>\n",
       "      <th>count</th>\n",
       "      <th>subscription_type</th>\n",
       "    </tr>\n",
       "    <tr>\n",
       "      <th>user_id</th>\n",
       "      <th>month</th>\n",
       "      <th></th>\n",
       "      <th></th>\n",
       "      <th></th>\n",
       "      <th></th>\n",
       "    </tr>\n",
       "  </thead>\n",
       "  <tbody>\n",
       "    <tr>\n",
       "      <th rowspan=\"6\" valign=\"top\">1</th>\n",
       "      <th>1</th>\n",
       "      <td>7027.511294</td>\n",
       "      <td>42.0</td>\n",
       "      <td>2</td>\n",
       "      <td>ultra</td>\n",
       "    </tr>\n",
       "    <tr>\n",
       "      <th>4</th>\n",
       "      <td>754.159807</td>\n",
       "      <td>7.0</td>\n",
       "      <td>1</td>\n",
       "      <td>ultra</td>\n",
       "    </tr>\n",
       "    <tr>\n",
       "      <th>8</th>\n",
       "      <td>6723.470560</td>\n",
       "      <td>45.0</td>\n",
       "      <td>2</td>\n",
       "      <td>ultra</td>\n",
       "    </tr>\n",
       "    <tr>\n",
       "      <th>10</th>\n",
       "      <td>5809.911100</td>\n",
       "      <td>32.0</td>\n",
       "      <td>2</td>\n",
       "      <td>ultra</td>\n",
       "    </tr>\n",
       "    <tr>\n",
       "      <th>11</th>\n",
       "      <td>7003.499363</td>\n",
       "      <td>54.0</td>\n",
       "      <td>3</td>\n",
       "      <td>ultra</td>\n",
       "    </tr>\n",
       "    <tr>\n",
       "      <th>12</th>\n",
       "      <td>6751.629942</td>\n",
       "      <td>28.0</td>\n",
       "      <td>2</td>\n",
       "      <td>ultra</td>\n",
       "    </tr>\n",
       "  </tbody>\n",
       "</table>\n",
       "</div>"
      ],
      "text/plain": [
       "                  distance  duration  count subscription_type\n",
       "user_id month                                                \n",
       "1       1      7027.511294      42.0      2             ultra\n",
       "        4       754.159807       7.0      1             ultra\n",
       "        8      6723.470560      45.0      2             ultra\n",
       "        10     5809.911100      32.0      2             ultra\n",
       "        11     7003.499363      54.0      3             ultra\n",
       "        12     6751.629942      28.0      2             ultra"
      ]
     },
     "execution_count": 44,
     "metadata": {},
     "output_type": "execute_result"
    }
   ],
   "source": [
    "# проверим, что получилось\n",
    "total_data.query('user_id == 1')"
   ]
  },
  {
   "cell_type": "markdown",
   "id": "7bfdb318",
   "metadata": {},
   "source": [
    "Добавим **столбец с помесячной выручкой**, которую принёс каждый пользователь."
   ]
  },
  {
   "cell_type": "code",
   "execution_count": 45,
   "id": "9977431b",
   "metadata": {},
   "outputs": [],
   "source": [
    "# напишем функцию для подсчета помесячной выручки\n",
    "# цена старта * кол-во поездок + цена одной мин * общ. длит. всех поездок в мин + цена подписки\n",
    "\n",
    "one_min_ultra = 6\n",
    "one_min_free = 8\n",
    "\n",
    "start_ultra = 0\n",
    "start_free = 50\n",
    "\n",
    "abon_ultra = 199\n",
    "abon_free = 0\n",
    "\n",
    "def month_revenue(row):\n",
    "    if row['subscription_type'] == 'ultra':\n",
    "        return start_ultra * row['count'] + one_min_ultra * row['duration'] + abon_ultra\n",
    "    elif row['subscription_type'] == 'free':\n",
    "        return start_free * row['count'] + one_min_free * row['duration'] + abon_free\n",
    "    else:\n",
    "        return 'N/A'"
   ]
  },
  {
   "cell_type": "code",
   "execution_count": 46,
   "id": "f671aa5f",
   "metadata": {},
   "outputs": [],
   "source": [
    "# добавим столбец\n",
    "total_data['revenue_per_month'] = total_data.apply(month_revenue, axis=1)"
   ]
  },
  {
   "cell_type": "code",
   "execution_count": 47,
   "id": "2e442cf4",
   "metadata": {},
   "outputs": [
    {
     "data": {
      "text/html": [
       "<div>\n",
       "<style scoped>\n",
       "    .dataframe tbody tr th:only-of-type {\n",
       "        vertical-align: middle;\n",
       "    }\n",
       "\n",
       "    .dataframe tbody tr th {\n",
       "        vertical-align: top;\n",
       "    }\n",
       "\n",
       "    .dataframe thead th {\n",
       "        text-align: right;\n",
       "    }\n",
       "</style>\n",
       "<table border=\"1\" class=\"dataframe\">\n",
       "  <thead>\n",
       "    <tr style=\"text-align: right;\">\n",
       "      <th></th>\n",
       "      <th></th>\n",
       "      <th>distance</th>\n",
       "      <th>duration</th>\n",
       "      <th>count</th>\n",
       "      <th>subscription_type</th>\n",
       "      <th>revenue_per_month</th>\n",
       "    </tr>\n",
       "    <tr>\n",
       "      <th>user_id</th>\n",
       "      <th>month</th>\n",
       "      <th></th>\n",
       "      <th></th>\n",
       "      <th></th>\n",
       "      <th></th>\n",
       "      <th></th>\n",
       "    </tr>\n",
       "  </thead>\n",
       "  <tbody>\n",
       "    <tr>\n",
       "      <th rowspan=\"5\" valign=\"top\">1</th>\n",
       "      <th>1</th>\n",
       "      <td>7027.511294</td>\n",
       "      <td>42.0</td>\n",
       "      <td>2</td>\n",
       "      <td>ultra</td>\n",
       "      <td>451.0</td>\n",
       "    </tr>\n",
       "    <tr>\n",
       "      <th>4</th>\n",
       "      <td>754.159807</td>\n",
       "      <td>7.0</td>\n",
       "      <td>1</td>\n",
       "      <td>ultra</td>\n",
       "      <td>241.0</td>\n",
       "    </tr>\n",
       "    <tr>\n",
       "      <th>8</th>\n",
       "      <td>6723.470560</td>\n",
       "      <td>45.0</td>\n",
       "      <td>2</td>\n",
       "      <td>ultra</td>\n",
       "      <td>469.0</td>\n",
       "    </tr>\n",
       "    <tr>\n",
       "      <th>10</th>\n",
       "      <td>5809.911100</td>\n",
       "      <td>32.0</td>\n",
       "      <td>2</td>\n",
       "      <td>ultra</td>\n",
       "      <td>391.0</td>\n",
       "    </tr>\n",
       "    <tr>\n",
       "      <th>11</th>\n",
       "      <td>7003.499363</td>\n",
       "      <td>54.0</td>\n",
       "      <td>3</td>\n",
       "      <td>ultra</td>\n",
       "      <td>523.0</td>\n",
       "    </tr>\n",
       "  </tbody>\n",
       "</table>\n",
       "</div>"
      ],
      "text/plain": [
       "                  distance  duration  count subscription_type  \\\n",
       "user_id month                                                   \n",
       "1       1      7027.511294      42.0      2             ultra   \n",
       "        4       754.159807       7.0      1             ultra   \n",
       "        8      6723.470560      45.0      2             ultra   \n",
       "        10     5809.911100      32.0      2             ultra   \n",
       "        11     7003.499363      54.0      3             ultra   \n",
       "\n",
       "               revenue_per_month  \n",
       "user_id month                     \n",
       "1       1                  451.0  \n",
       "        4                  241.0  \n",
       "        8                  469.0  \n",
       "        10                 391.0  \n",
       "        11                 523.0  "
      ]
     },
     "execution_count": 47,
     "metadata": {},
     "output_type": "execute_result"
    }
   ],
   "source": [
    "# проверим результат\n",
    "total_data.head()"
   ]
  },
  {
   "cell_type": "code",
   "execution_count": 48,
   "id": "27416f54",
   "metadata": {},
   "outputs": [
    {
     "data": {
      "text/html": [
       "<div>\n",
       "<style scoped>\n",
       "    .dataframe tbody tr th:only-of-type {\n",
       "        vertical-align: middle;\n",
       "    }\n",
       "\n",
       "    .dataframe tbody tr th {\n",
       "        vertical-align: top;\n",
       "    }\n",
       "\n",
       "    .dataframe thead th {\n",
       "        text-align: right;\n",
       "    }\n",
       "</style>\n",
       "<table border=\"1\" class=\"dataframe\">\n",
       "  <thead>\n",
       "    <tr style=\"text-align: right;\">\n",
       "      <th></th>\n",
       "      <th></th>\n",
       "      <th>distance</th>\n",
       "      <th>duration</th>\n",
       "      <th>count</th>\n",
       "      <th>subscription_type</th>\n",
       "      <th>revenue_per_month</th>\n",
       "    </tr>\n",
       "    <tr>\n",
       "      <th>user_id</th>\n",
       "      <th>month</th>\n",
       "      <th></th>\n",
       "      <th></th>\n",
       "      <th></th>\n",
       "      <th></th>\n",
       "      <th></th>\n",
       "    </tr>\n",
       "  </thead>\n",
       "  <tbody>\n",
       "    <tr>\n",
       "      <th rowspan=\"6\" valign=\"top\">1</th>\n",
       "      <th>1</th>\n",
       "      <td>7027.511294</td>\n",
       "      <td>42.0</td>\n",
       "      <td>2</td>\n",
       "      <td>ultra</td>\n",
       "      <td>451.0</td>\n",
       "    </tr>\n",
       "    <tr>\n",
       "      <th>4</th>\n",
       "      <td>754.159807</td>\n",
       "      <td>7.0</td>\n",
       "      <td>1</td>\n",
       "      <td>ultra</td>\n",
       "      <td>241.0</td>\n",
       "    </tr>\n",
       "    <tr>\n",
       "      <th>8</th>\n",
       "      <td>6723.470560</td>\n",
       "      <td>45.0</td>\n",
       "      <td>2</td>\n",
       "      <td>ultra</td>\n",
       "      <td>469.0</td>\n",
       "    </tr>\n",
       "    <tr>\n",
       "      <th>10</th>\n",
       "      <td>5809.911100</td>\n",
       "      <td>32.0</td>\n",
       "      <td>2</td>\n",
       "      <td>ultra</td>\n",
       "      <td>391.0</td>\n",
       "    </tr>\n",
       "    <tr>\n",
       "      <th>11</th>\n",
       "      <td>7003.499363</td>\n",
       "      <td>54.0</td>\n",
       "      <td>3</td>\n",
       "      <td>ultra</td>\n",
       "      <td>523.0</td>\n",
       "    </tr>\n",
       "    <tr>\n",
       "      <th>12</th>\n",
       "      <td>6751.629942</td>\n",
       "      <td>28.0</td>\n",
       "      <td>2</td>\n",
       "      <td>ultra</td>\n",
       "      <td>367.0</td>\n",
       "    </tr>\n",
       "  </tbody>\n",
       "</table>\n",
       "</div>"
      ],
      "text/plain": [
       "                  distance  duration  count subscription_type  \\\n",
       "user_id month                                                   \n",
       "1       1      7027.511294      42.0      2             ultra   \n",
       "        4       754.159807       7.0      1             ultra   \n",
       "        8      6723.470560      45.0      2             ultra   \n",
       "        10     5809.911100      32.0      2             ultra   \n",
       "        11     7003.499363      54.0      3             ultra   \n",
       "        12     6751.629942      28.0      2             ultra   \n",
       "\n",
       "               revenue_per_month  \n",
       "user_id month                     \n",
       "1       1                  451.0  \n",
       "        4                  241.0  \n",
       "        8                  469.0  \n",
       "        10                 391.0  \n",
       "        11                 523.0  \n",
       "        12                 367.0  "
      ]
     },
     "execution_count": 48,
     "metadata": {},
     "output_type": "execute_result"
    }
   ],
   "source": [
    "total_data.query('user_id == 1')"
   ]
  },
  {
   "cell_type": "markdown",
   "id": "a2628af4",
   "metadata": {},
   "source": [
    "**Вывод:**\n",
    "\n",
    "Для удобства работы был создан новый датафрейм с агрегированными данными `total_data` на основе датафрейма с объединенными данными `data`.\n",
    "\n",
    "В результате была получена таблица, содержащая суммарное расстояние, количество поездок и суммарное время для каждого пользователя за каждый месяц, а также добавлен столбец с помесячной выручкой, которую принес каждый пользователь."
   ]
  },
  {
   "cell_type": "markdown",
   "id": "41545ac0",
   "metadata": {},
   "source": [
    "#### Шаг 6. Проверка гипотез"
   ]
  },
  {
   "cell_type": "markdown",
   "id": "0ca27308",
   "metadata": {},
   "source": [
    "**1.** Важно понять, тратят ли пользователи с подпиской больше времени на поездки? Если да, то пользователи с подпиской могут быть «выгоднее» для компании. Проверьте гипотезу. Используйте исходные данные о продолжительности каждой сессии — отдельно для подписчиков и тех, у кого нет подписки."
   ]
  },
  {
   "cell_type": "markdown",
   "id": "66f90083",
   "metadata": {},
   "source": [
    "Проверим гипотезу: **пользователи с подпиской тратят больше времени на поездки, чем пользователи без подписки.**"
   ]
  },
  {
   "cell_type": "markdown",
   "id": "6d96f01c",
   "metadata": {},
   "source": [
    "H_0: время поездок (`duration`) пользователей с подпиской `ultra` **равно** времени поездок (`duration`) пользователей без подписки (`free`)"
   ]
  },
  {
   "cell_type": "markdown",
   "id": "21103c28",
   "metadata": {},
   "source": [
    "H_1: время поездок (`duration`) пользователей с подпиской `ultra` **больше** времени поездок (`duration`) пользователей без подписки (`free`)"
   ]
  },
  {
   "cell_type": "markdown",
   "id": "f05ac532",
   "metadata": {},
   "source": [
    "Уровень статистической значимости установим 5 % (`alpha = 0.05`)."
   ]
  },
  {
   "cell_type": "code",
   "execution_count": 49,
   "id": "9a8b1273",
   "metadata": {},
   "outputs": [
    {
     "name": "stdout",
     "output_type": "stream",
     "text": [
      "P-value: 1.2804098316645618e-34\n",
      "Отвергаем нулевую гипотезу\n"
     ]
    }
   ],
   "source": [
    "ultra = ultra_subscription['duration'] \n",
    "\n",
    "free = free_subscription['duration']\n",
    "\n",
    "results = st.ttest_ind(\n",
    "    ultra,\n",
    "    free,\n",
    "    alternative='greater'\n",
    ")\n",
    "\n",
    "alpha = 0.05\n",
    "\n",
    "print('P-value:', results.pvalue)\n",
    "\n",
    "if results.pvalue < alpha:\n",
    "    print('Отвергаем нулевую гипотезу')\n",
    "else:\n",
    "    print('Не удалось отвергнуть нулевую гипотезу')"
   ]
  },
  {
   "cell_type": "markdown",
   "id": "181157cb",
   "metadata": {},
   "source": [
    "**Вывод:** проверили и отвергли гипотезу о том, что время поездки пользователей с подпиской `ultra` равно времени поездки пользователей без подписки (`free`)."
   ]
  },
  {
   "cell_type": "markdown",
   "id": "89f16a68",
   "metadata": {},
   "source": [
    "**2.** Расстояние одной поездки в `3130` метров — оптимальное с точки зрения износа самоката. Можно ли сказать, что среднее расстояние, которое проезжают пользователи с подпиской за одну поездку, не превышает `3130` метров? Проверим гипотезу и сделаем выводы."
   ]
  },
  {
   "cell_type": "markdown",
   "id": "bd81cef3",
   "metadata": {},
   "source": [
    "Проверим гипотезу: **пользователи с подпиской проезжают расстояние, не превышающее 3130 метров за одну поездку.**"
   ]
  },
  {
   "cell_type": "markdown",
   "id": "5a408eb1",
   "metadata": {},
   "source": [
    "H_0: расстояние поездок (`distance`) пользователей с подпиской `ultra` **равно** `3130` метров"
   ]
  },
  {
   "cell_type": "markdown",
   "id": "5fd2b0e9",
   "metadata": {},
   "source": [
    "H_1: расстояние поездок (`distance`) пользователей с подпиской `ultra` **меньше** (\"не превышает\") `3130` метров"
   ]
  },
  {
   "cell_type": "markdown",
   "id": "172a1f77",
   "metadata": {},
   "source": [
    "Уровень статистической значимости установим 5 % (`alpha = 0.05`)."
   ]
  },
  {
   "cell_type": "code",
   "execution_count": 50,
   "id": "d75e343a",
   "metadata": {},
   "outputs": [
    {
     "name": "stdout",
     "output_type": "stream",
     "text": [
      "P-value: 0.08046311521502146\n",
      "Не удалось отвергнуть нулевую гипотезу\n"
     ]
    }
   ],
   "source": [
    "ultra_dist = ultra_subscription['distance']\n",
    "\n",
    "interested_value = 3130.0\n",
    "\n",
    "alpha = 0.05\n",
    "\n",
    "results = st.ttest_1samp(\n",
    "    ultra_dist, \n",
    "    interested_value,\n",
    "    alternative='less')\n",
    "    \n",
    "print('P-value:', results.pvalue)\n",
    "\n",
    "if (results.pvalue < alpha):\n",
    "    print('Отвергаем нулевую гипотезу')\n",
    "else:\n",
    "    print('Не удалось отвергнуть нулевую гипотезу')"
   ]
  },
  {
   "cell_type": "markdown",
   "id": "008cb6da",
   "metadata": {},
   "source": [
    "**Вывод:** проверили гипотезу, и мы не можем утверждать, что расстояние, которое проехали пользователи с подпиской `ultra` не превышает `3130` метров."
   ]
  },
  {
   "cell_type": "markdown",
   "id": "4b9257b6",
   "metadata": {},
   "source": [
    "**3.** Проверим гипотезу о том, будет ли помесячная выручка от пользователей с подпиской по месяцам выше, чем выручка от пользователей без подписки."
   ]
  },
  {
   "cell_type": "markdown",
   "id": "699ffe55",
   "metadata": {},
   "source": [
    "Проверим гипотезу: **помесячная выручка от пользователей с подпиской выше, чем выручка от пользователей без подписки**"
   ]
  },
  {
   "cell_type": "markdown",
   "id": "df1f6c39",
   "metadata": {},
   "source": [
    "H_0: выручка (`revenue_per_month`) от пользователей с подпиской `ultra` **равна** выручке (`revenue_per_month`) от пользователей без подписки (`free`)"
   ]
  },
  {
   "cell_type": "markdown",
   "id": "79c5184d",
   "metadata": {},
   "source": [
    "H_1: выручка (`revenue_per_month`) от пользователей на подписке `ultra` **больше** (\"выше\"), чем выручка (`revenue_per_month`) от пользователей без подписки (`free`)"
   ]
  },
  {
   "cell_type": "markdown",
   "id": "7eb4b733",
   "metadata": {},
   "source": [
    "Уровень статистической значимости установим 5 % (`alpha = 0.05`)."
   ]
  },
  {
   "cell_type": "code",
   "execution_count": 51,
   "id": "c8a0c022",
   "metadata": {},
   "outputs": [
    {
     "name": "stdout",
     "output_type": "stream",
     "text": [
      "P-value: 2.8130926188487286e-35\n",
      "Отвергаем нулевую гипотезу\n"
     ]
    }
   ],
   "source": [
    "ultra_per_month = total_data.loc[total_data.subscription_type == 'ultra', 'revenue_per_month'] \n",
    "\n",
    "free_per_month = total_data.loc[total_data.subscription_type == 'free', 'revenue_per_month'] \n",
    "\n",
    "\n",
    "results = st.ttest_ind(\n",
    "    ultra_per_month,\n",
    "    free_per_month,\n",
    "    alternative='greater'\n",
    ")\n",
    "\n",
    "alpha = 0.05\n",
    "\n",
    "print('P-value:', results.pvalue)\n",
    "\n",
    "if results.pvalue < alpha:\n",
    "    print('Отвергаем нулевую гипотезу')\n",
    "else:\n",
    "    print('Не удалось отвергнуть нулевую гипотезу')"
   ]
  },
  {
   "cell_type": "markdown",
   "id": "a3a9f571",
   "metadata": {},
   "source": [
    "**Вывод:** проверили и отвергли гипотезу о том, что выручка от пользователей с подпиской `ultra` превышает выручку от пользователей без подписки (`free`)."
   ]
  },
  {
   "cell_type": "markdown",
   "id": "b2c295b8",
   "metadata": {},
   "source": [
    "**4.** Представим такую ситуацию: техническая команда сервиса обновила сервера, с которыми взаимодействует мобильное приложение. Она надеется, что из-за этого количество обращений в техподдержку значимо снизилось. Некоторый файл содержит для каждого пользователя данные о количестве обращений до обновления и после него. Какой тест понадобился бы для проверки этой гипотезы?"
   ]
  },
  {
   "cell_type": "markdown",
   "id": "323a1b26",
   "metadata": {},
   "source": [
    "**Ответ:**\n",
    "    \n",
    "В данном случае следует использовать гипотезу о равенстве средних для зависимых (парных) выборок.\n",
    "\n",
    "Гипотезы будут следующие:\n",
    "\n",
    "- H_0: μ1 = μ2\n",
    "- H_1: μ1 != μ2\n",
    "\n",
    "где μ1 и μ2 - это средние значения количества обращений в техподдержку до и после обновления серверов.\n",
    "\n",
    "Метод, который нужно использовать для сравнения: `scipy.stats.ttest_rel()`"
   ]
  },
  {
   "cell_type": "markdown",
   "id": "61213c5e",
   "metadata": {},
   "source": [
    "#### Шаг 7. Выводы"
   ]
  },
  {
   "cell_type": "markdown",
   "id": "afea24fd",
   "metadata": {},
   "source": [
    "Для работы нам были предоставлены данные о некоторых пользователях из нескольких городов, а также об их поездкахю Было загружено три датафрейма: с данными о пользователях, с информацией о поездках и с информацией о подписках. \n",
    "\n",
    "Данные были проверены на пропуски (пропусков не было ни в одной из предоставленных таблиц) и на наличие дубликатов (были удалены дубликаты строк из датафрейма с данными о пользователях). Также для удобства и дальнейшей работы тип данных столбца `date` в датафрейме `rides` был приведен к типу даты pandas. Далее в датафрейм был добавлен столбец `month` с номером месяца.\n",
    "\n",
    "Далее данные из трех датафреймов были объединены в один общий датафрейм (`data`).\n",
    "\n",
    "После завершения подготовки данных был проведен исследовательский анализ, по результатам которого были сделаны следующие выводы:\n",
    "\n",
    "- количество пользователей по городам распределено примерно одинаково, но лидером по количеству пользователей можно считать Пятигорск - в нем `219` пользователей, а меньше всего пользователей в Москве - всего `168` человек;\n",
    "- пользователей без подписки больше - `835` человек, что составляет `~54` % от общего количества пользователей, подпиской пользуются 699 пользователей, что соответственно составляет `~46` %;\n",
    "- возраст большинства пользователей составляет от `20` до `30` лет, но есть среди пользователей дети, и люди старше `40` лет;\n",
    "- пользователи без подписки проезжают более длинные расстояния, при этом чаще, чем пользователи с подпиской, берут самокаты на очень небольшой срок;\n",
    "- чаще всего длительность поездок всех пользователей состовляет от `10` до `25` минут.\n",
    "\n",
    "Далее мы объединили данные о пользователях, поездках и подписках в один датафрейм, на его основе создали еще два датафрейма:\n",
    "- для пользователей с подспиской `ultra`;\n",
    "- для пользователей без подписки (`free`).\n",
    "\n",
    "Далее мы нашли суммарное расстояние, количество поездок и суммарное время для каждого пользователя за каждый месяц и вывели все данные в отдельный датафрейм `total_data`.\n",
    "Добавили в датафрейм `total_data` столбец с помесячной выручкой `revenue_per_month`.\n",
    "\n",
    "Были проверены следующие гипотезы:\n",
    "\n",
    "- Пользователи с подпиской `ultra` тратят больше времени на поездки, чем пользователи без подписки\n",
    "    - Отвергли нулевую гипотезу\n",
    "- Пользователи с подпиской `ultra` проезжают расстояние, не превышающее `3130` метров за одну поездку\n",
    "    - Не удалось отвергнуть нулевую гипотезу\n",
    "- Помесячная выручка от пользователей с подпиской `ultra` выше, чем выручка от пользователей без подписки\n",
    "    - Отвергли нулевую гипотезу"
   ]
  }
 ],
 "metadata": {
  "ExecuteTimeLog": [
   {
    "duration": 1386,
    "start_time": "2023-10-15T15:01:53.242Z"
   },
   {
    "duration": 4,
    "start_time": "2023-10-15T15:02:28.640Z"
   },
   {
    "duration": 238,
    "start_time": "2023-10-15T15:04:43.234Z"
   },
   {
    "duration": 106,
    "start_time": "2023-10-15T15:05:48.301Z"
   },
   {
    "duration": 3,
    "start_time": "2023-10-15T15:06:28.799Z"
   },
   {
    "duration": 13,
    "start_time": "2023-10-15T15:08:00.886Z"
   },
   {
    "duration": 9,
    "start_time": "2023-10-15T15:08:35.682Z"
   },
   {
    "duration": 4,
    "start_time": "2023-10-15T15:08:59.946Z"
   },
   {
    "duration": 13,
    "start_time": "2023-10-15T15:09:27.348Z"
   },
   {
    "duration": 17,
    "start_time": "2023-10-15T15:13:27.759Z"
   },
   {
    "duration": 3,
    "start_time": "2023-10-15T15:17:26.339Z"
   },
   {
    "duration": 14,
    "start_time": "2023-10-15T15:18:22.172Z"
   },
   {
    "duration": 261,
    "start_time": "2023-10-15T15:19:28.075Z"
   },
   {
    "duration": 152,
    "start_time": "2023-10-15T15:19:39.526Z"
   },
   {
    "duration": 10,
    "start_time": "2023-10-15T15:34:33.781Z"
   },
   {
    "duration": 5,
    "start_time": "2023-10-15T15:34:44.536Z"
   },
   {
    "duration": 82,
    "start_time": "2023-10-15T15:37:06.777Z"
   },
   {
    "duration": 5,
    "start_time": "2023-10-15T15:37:30.163Z"
   },
   {
    "duration": 146,
    "start_time": "2023-10-15T15:40:39.376Z"
   },
   {
    "duration": 7,
    "start_time": "2023-10-15T15:43:07.938Z"
   },
   {
    "duration": 96,
    "start_time": "2023-10-15T15:45:02.899Z"
   },
   {
    "duration": 9,
    "start_time": "2023-10-15T15:52:18.131Z"
   },
   {
    "duration": 10,
    "start_time": "2023-10-15T15:54:01.439Z"
   },
   {
    "duration": 8,
    "start_time": "2023-10-15T15:55:37.329Z"
   },
   {
    "duration": 4,
    "start_time": "2023-10-15T15:56:12.468Z"
   },
   {
    "duration": 3,
    "start_time": "2023-10-15T15:56:41.793Z"
   },
   {
    "duration": 19,
    "start_time": "2023-10-15T15:57:04.040Z"
   },
   {
    "duration": 17,
    "start_time": "2023-10-15T15:57:31.469Z"
   },
   {
    "duration": 12,
    "start_time": "2023-10-15T15:59:47.582Z"
   },
   {
    "duration": 6,
    "start_time": "2023-10-15T16:00:10.075Z"
   },
   {
    "duration": 7,
    "start_time": "2023-10-15T16:02:26.871Z"
   },
   {
    "duration": 18,
    "start_time": "2023-10-15T16:02:54.214Z"
   },
   {
    "duration": 13,
    "start_time": "2023-10-15T16:12:14.359Z"
   },
   {
    "duration": 10,
    "start_time": "2023-10-15T16:12:19.798Z"
   },
   {
    "duration": 4,
    "start_time": "2023-10-15T16:12:59.775Z"
   },
   {
    "duration": 10,
    "start_time": "2023-10-15T16:13:31.505Z"
   },
   {
    "duration": 94,
    "start_time": "2023-10-15T16:14:28.492Z"
   },
   {
    "duration": 77,
    "start_time": "2023-10-15T16:22:16.728Z"
   },
   {
    "duration": 7,
    "start_time": "2023-10-15T16:25:35.862Z"
   },
   {
    "duration": 114,
    "start_time": "2023-10-15T16:26:03.060Z"
   },
   {
    "duration": 11,
    "start_time": "2023-10-15T16:27:42.503Z"
   },
   {
    "duration": 8,
    "start_time": "2023-10-15T16:30:45.758Z"
   },
   {
    "duration": 11,
    "start_time": "2023-10-15T16:31:26.767Z"
   },
   {
    "duration": 9,
    "start_time": "2023-10-15T16:31:30.233Z"
   },
   {
    "duration": 10,
    "start_time": "2023-10-15T16:33:24.907Z"
   },
   {
    "duration": 8,
    "start_time": "2023-10-15T16:33:36.405Z"
   },
   {
    "duration": 166,
    "start_time": "2023-10-15T16:53:28.049Z"
   },
   {
    "duration": 132,
    "start_time": "2023-10-15T16:54:29.262Z"
   },
   {
    "duration": 5,
    "start_time": "2023-10-15T16:58:07.577Z"
   },
   {
    "duration": 144,
    "start_time": "2023-10-15T17:23:18.215Z"
   },
   {
    "duration": 10,
    "start_time": "2023-10-15T17:28:36.652Z"
   },
   {
    "duration": 107,
    "start_time": "2023-10-15T17:28:43.825Z"
   },
   {
    "duration": 104,
    "start_time": "2023-10-15T17:28:54.482Z"
   },
   {
    "duration": 9,
    "start_time": "2023-10-15T17:32:18.013Z"
   },
   {
    "duration": 9,
    "start_time": "2023-10-15T17:35:41.706Z"
   },
   {
    "duration": 105,
    "start_time": "2023-10-15T17:36:27.234Z"
   },
   {
    "duration": 99,
    "start_time": "2023-10-15T17:40:51.161Z"
   },
   {
    "duration": 94,
    "start_time": "2023-10-15T17:41:55.187Z"
   },
   {
    "duration": 8,
    "start_time": "2023-10-15T17:42:25.686Z"
   },
   {
    "duration": 1199,
    "start_time": "2023-10-15T17:44:49.886Z"
   },
   {
    "duration": 73,
    "start_time": "2023-10-15T17:44:51.087Z"
   },
   {
    "duration": 13,
    "start_time": "2023-10-15T17:44:51.164Z"
   },
   {
    "duration": 22,
    "start_time": "2023-10-15T17:44:51.179Z"
   },
   {
    "duration": 66,
    "start_time": "2023-10-15T17:44:51.202Z"
   },
   {
    "duration": 236,
    "start_time": "2023-10-15T17:44:51.269Z"
   },
   {
    "duration": 157,
    "start_time": "2023-10-15T17:44:51.507Z"
   },
   {
    "duration": 19,
    "start_time": "2023-10-15T17:44:51.665Z"
   },
   {
    "duration": 70,
    "start_time": "2023-10-15T17:44:51.685Z"
   },
   {
    "duration": 29,
    "start_time": "2023-10-15T17:44:51.758Z"
   },
   {
    "duration": 6,
    "start_time": "2023-10-15T17:44:51.790Z"
   },
   {
    "duration": 16,
    "start_time": "2023-10-15T17:44:51.798Z"
   },
   {
    "duration": 13,
    "start_time": "2023-10-15T17:44:51.815Z"
   },
   {
    "duration": 42,
    "start_time": "2023-10-15T17:44:51.829Z"
   },
   {
    "duration": 22,
    "start_time": "2023-10-15T17:44:51.873Z"
   },
   {
    "duration": 23,
    "start_time": "2023-10-15T17:44:51.897Z"
   },
   {
    "duration": 13,
    "start_time": "2023-10-15T17:44:51.922Z"
   },
   {
    "duration": 29,
    "start_time": "2023-10-15T17:44:51.937Z"
   },
   {
    "duration": 33,
    "start_time": "2023-10-15T17:44:51.968Z"
   },
   {
    "duration": 54,
    "start_time": "2023-10-15T17:44:52.002Z"
   },
   {
    "duration": 164,
    "start_time": "2023-10-15T17:44:52.058Z"
   },
   {
    "duration": 6,
    "start_time": "2023-10-15T17:44:52.224Z"
   },
   {
    "duration": 91,
    "start_time": "2023-10-15T17:44:52.232Z"
   },
   {
    "duration": 8,
    "start_time": "2023-10-15T17:44:52.326Z"
   },
   {
    "duration": 149,
    "start_time": "2023-10-15T17:44:52.345Z"
   },
   {
    "duration": 103,
    "start_time": "2023-10-15T17:44:52.496Z"
   },
   {
    "duration": 9,
    "start_time": "2023-10-15T17:44:52.600Z"
   },
   {
    "duration": 154,
    "start_time": "2023-10-15T17:44:52.612Z"
   },
   {
    "duration": 7,
    "start_time": "2023-10-15T17:44:52.768Z"
   },
   {
    "duration": 114,
    "start_time": "2023-10-15T17:44:52.777Z"
   },
   {
    "duration": 11,
    "start_time": "2023-10-15T17:46:03.230Z"
   },
   {
    "duration": 14,
    "start_time": "2023-10-15T17:46:34.139Z"
   },
   {
    "duration": 20,
    "start_time": "2023-10-15T17:46:45.892Z"
   },
   {
    "duration": 20,
    "start_time": "2023-10-15T17:47:03.275Z"
   },
   {
    "duration": 30,
    "start_time": "2023-10-15T17:48:01.455Z"
   },
   {
    "duration": 13,
    "start_time": "2023-10-15T17:48:44.378Z"
   },
   {
    "duration": 20,
    "start_time": "2023-10-15T17:49:30.188Z"
   },
   {
    "duration": 116,
    "start_time": "2023-10-15T17:54:36.390Z"
   },
   {
    "duration": 16,
    "start_time": "2023-10-15T17:55:27.217Z"
   },
   {
    "duration": 15,
    "start_time": "2023-10-15T17:55:36.022Z"
   },
   {
    "duration": 24,
    "start_time": "2023-10-15T17:55:39.253Z"
   },
   {
    "duration": 35,
    "start_time": "2023-10-15T17:56:02.840Z"
   },
   {
    "duration": 17,
    "start_time": "2023-10-15T17:56:14.954Z"
   },
   {
    "duration": 32,
    "start_time": "2023-10-15T18:00:15.051Z"
   },
   {
    "duration": 9,
    "start_time": "2023-10-15T18:00:53.809Z"
   },
   {
    "duration": 18,
    "start_time": "2023-10-15T18:01:08.829Z"
   },
   {
    "duration": 258,
    "start_time": "2023-10-15T18:03:20.062Z"
   },
   {
    "duration": 277,
    "start_time": "2023-10-15T18:03:26.873Z"
   },
   {
    "duration": 183,
    "start_time": "2023-10-15T18:03:37.108Z"
   },
   {
    "duration": 201,
    "start_time": "2023-10-15T18:03:48.544Z"
   },
   {
    "duration": 194,
    "start_time": "2023-10-15T18:04:11.620Z"
   },
   {
    "duration": 177,
    "start_time": "2023-10-15T18:04:54.625Z"
   },
   {
    "duration": 10,
    "start_time": "2023-10-15T18:06:12.597Z"
   },
   {
    "duration": 170,
    "start_time": "2023-10-15T18:06:25.256Z"
   },
   {
    "duration": 239,
    "start_time": "2023-10-15T18:06:33.339Z"
   },
   {
    "duration": 183,
    "start_time": "2023-10-15T18:06:44.827Z"
   },
   {
    "duration": 200,
    "start_time": "2023-10-15T18:06:49.387Z"
   },
   {
    "duration": 9,
    "start_time": "2023-10-15T18:08:25.169Z"
   },
   {
    "duration": 20,
    "start_time": "2023-10-15T18:08:29.333Z"
   },
   {
    "duration": 176,
    "start_time": "2023-10-15T18:09:57.749Z"
   },
   {
    "duration": 241,
    "start_time": "2023-10-15T18:10:42.333Z"
   },
   {
    "duration": 615,
    "start_time": "2023-10-15T18:22:31.400Z"
   },
   {
    "duration": 368,
    "start_time": "2023-10-15T18:24:28.864Z"
   },
   {
    "duration": 364,
    "start_time": "2023-10-15T18:24:49.538Z"
   },
   {
    "duration": 464,
    "start_time": "2023-10-15T18:26:37.426Z"
   },
   {
    "duration": 134,
    "start_time": "2023-10-15T18:27:02.117Z"
   },
   {
    "duration": 353,
    "start_time": "2023-10-15T18:30:56.691Z"
   },
   {
    "duration": 1164,
    "start_time": "2023-10-15T18:39:59.580Z"
   },
   {
    "duration": 70,
    "start_time": "2023-10-15T18:40:00.746Z"
   },
   {
    "duration": 13,
    "start_time": "2023-10-15T18:40:00.818Z"
   },
   {
    "duration": 80,
    "start_time": "2023-10-15T18:40:00.832Z"
   },
   {
    "duration": 55,
    "start_time": "2023-10-15T18:40:00.915Z"
   },
   {
    "duration": 59,
    "start_time": "2023-10-15T18:40:00.971Z"
   },
   {
    "duration": 60,
    "start_time": "2023-10-15T18:40:01.031Z"
   },
   {
    "duration": 82,
    "start_time": "2023-10-15T18:40:01.093Z"
   },
   {
    "duration": 90,
    "start_time": "2023-10-15T18:40:01.176Z"
   },
   {
    "duration": 147,
    "start_time": "2023-10-15T18:40:01.267Z"
   },
   {
    "duration": 46,
    "start_time": "2023-10-15T18:40:01.416Z"
   },
   {
    "duration": 108,
    "start_time": "2023-10-15T18:40:01.464Z"
   },
   {
    "duration": 56,
    "start_time": "2023-10-15T18:40:01.574Z"
   },
   {
    "duration": 67,
    "start_time": "2023-10-15T18:40:01.633Z"
   },
   {
    "duration": 55,
    "start_time": "2023-10-15T18:40:01.702Z"
   },
   {
    "duration": 65,
    "start_time": "2023-10-15T18:40:01.759Z"
   },
   {
    "duration": 26,
    "start_time": "2023-10-15T18:40:01.826Z"
   },
   {
    "duration": 35,
    "start_time": "2023-10-15T18:40:01.855Z"
   },
   {
    "duration": 46,
    "start_time": "2023-10-15T18:40:01.891Z"
   },
   {
    "duration": 30,
    "start_time": "2023-10-15T18:40:01.939Z"
   },
   {
    "duration": 144,
    "start_time": "2023-10-15T18:40:01.971Z"
   },
   {
    "duration": 6,
    "start_time": "2023-10-15T18:40:02.116Z"
   },
   {
    "duration": 99,
    "start_time": "2023-10-15T18:40:02.124Z"
   },
   {
    "duration": 8,
    "start_time": "2023-10-15T18:40:02.225Z"
   },
   {
    "duration": 177,
    "start_time": "2023-10-15T18:40:02.235Z"
   },
   {
    "duration": 106,
    "start_time": "2023-10-15T18:40:02.414Z"
   },
   {
    "duration": 23,
    "start_time": "2023-10-15T18:40:02.522Z"
   },
   {
    "duration": 138,
    "start_time": "2023-10-15T18:40:02.547Z"
   },
   {
    "duration": 9,
    "start_time": "2023-10-15T18:40:02.687Z"
   },
   {
    "duration": 120,
    "start_time": "2023-10-15T18:40:02.699Z"
   },
   {
    "duration": 24,
    "start_time": "2023-10-15T18:40:02.820Z"
   },
   {
    "duration": 20,
    "start_time": "2023-10-15T18:40:02.846Z"
   },
   {
    "duration": 26,
    "start_time": "2023-10-15T18:40:02.867Z"
   },
   {
    "duration": 32,
    "start_time": "2023-10-15T18:40:02.895Z"
   },
   {
    "duration": 26,
    "start_time": "2023-10-15T18:40:02.929Z"
   },
   {
    "duration": 19,
    "start_time": "2023-10-15T18:40:02.957Z"
   },
   {
    "duration": 27,
    "start_time": "2023-10-15T18:40:02.978Z"
   },
   {
    "duration": 528,
    "start_time": "2023-10-15T18:40:03.006Z"
   },
   {
    "duration": 358,
    "start_time": "2023-10-15T18:40:03.536Z"
   },
   {
    "duration": 831,
    "start_time": "2023-10-15T18:55:30.559Z"
   },
   {
    "duration": 13,
    "start_time": "2023-10-15T19:01:12.744Z"
   },
   {
    "duration": 16,
    "start_time": "2023-10-15T19:02:34.580Z"
   },
   {
    "duration": 13,
    "start_time": "2023-10-15T19:02:41.157Z"
   },
   {
    "duration": 3,
    "start_time": "2023-10-15T19:03:21.295Z"
   },
   {
    "duration": 14,
    "start_time": "2023-10-15T19:03:21.968Z"
   },
   {
    "duration": 3,
    "start_time": "2023-10-15T19:06:48.302Z"
   },
   {
    "duration": 11,
    "start_time": "2023-10-15T19:07:12.290Z"
   },
   {
    "duration": 15,
    "start_time": "2023-10-15T19:07:22.429Z"
   },
   {
    "duration": 11,
    "start_time": "2023-10-15T19:07:30.875Z"
   },
   {
    "duration": 10,
    "start_time": "2023-10-15T19:10:31.737Z"
   },
   {
    "duration": 2,
    "start_time": "2023-10-15T19:16:32.810Z"
   },
   {
    "duration": 5,
    "start_time": "2023-10-15T19:25:35.961Z"
   },
   {
    "duration": 1792,
    "start_time": "2023-10-15T19:26:01.855Z"
   },
   {
    "duration": 5,
    "start_time": "2023-10-15T19:28:20.863Z"
   },
   {
    "duration": 1744,
    "start_time": "2023-10-15T19:28:22.098Z"
   },
   {
    "duration": 11,
    "start_time": "2023-10-15T19:29:34.290Z"
   },
   {
    "duration": 1180,
    "start_time": "2023-10-15T19:33:46.858Z"
   },
   {
    "duration": 68,
    "start_time": "2023-10-15T19:33:48.041Z"
   },
   {
    "duration": 13,
    "start_time": "2023-10-15T19:33:48.110Z"
   },
   {
    "duration": 32,
    "start_time": "2023-10-15T19:33:48.125Z"
   },
   {
    "duration": 38,
    "start_time": "2023-10-15T19:33:48.158Z"
   },
   {
    "duration": 15,
    "start_time": "2023-10-15T19:33:48.198Z"
   },
   {
    "duration": 17,
    "start_time": "2023-10-15T19:33:48.214Z"
   },
   {
    "duration": 11,
    "start_time": "2023-10-15T19:33:48.232Z"
   },
   {
    "duration": 33,
    "start_time": "2023-10-15T19:33:48.245Z"
   },
   {
    "duration": 18,
    "start_time": "2023-10-15T19:33:48.281Z"
   },
   {
    "duration": 7,
    "start_time": "2023-10-15T19:33:48.301Z"
   },
   {
    "duration": 16,
    "start_time": "2023-10-15T19:33:48.310Z"
   },
   {
    "duration": 71,
    "start_time": "2023-10-15T19:33:48.328Z"
   },
   {
    "duration": 39,
    "start_time": "2023-10-15T19:33:48.402Z"
   },
   {
    "duration": 12,
    "start_time": "2023-10-15T19:33:48.443Z"
   },
   {
    "duration": 58,
    "start_time": "2023-10-15T19:33:48.457Z"
   },
   {
    "duration": 15,
    "start_time": "2023-10-15T19:33:48.516Z"
   },
   {
    "duration": 19,
    "start_time": "2023-10-15T19:33:48.533Z"
   },
   {
    "duration": 25,
    "start_time": "2023-10-15T19:33:48.553Z"
   },
   {
    "duration": 13,
    "start_time": "2023-10-15T19:33:48.580Z"
   },
   {
    "duration": 161,
    "start_time": "2023-10-15T19:33:48.594Z"
   },
   {
    "duration": 6,
    "start_time": "2023-10-15T19:33:48.756Z"
   },
   {
    "duration": 107,
    "start_time": "2023-10-15T19:33:48.763Z"
   },
   {
    "duration": 7,
    "start_time": "2023-10-15T19:33:48.872Z"
   },
   {
    "duration": 216,
    "start_time": "2023-10-15T19:33:48.880Z"
   },
   {
    "duration": 108,
    "start_time": "2023-10-15T19:33:49.098Z"
   },
   {
    "duration": 8,
    "start_time": "2023-10-15T19:33:49.208Z"
   },
   {
    "duration": 115,
    "start_time": "2023-10-15T19:33:49.219Z"
   },
   {
    "duration": 15,
    "start_time": "2023-10-15T19:33:49.336Z"
   },
   {
    "duration": 204,
    "start_time": "2023-10-15T19:33:49.353Z"
   },
   {
    "duration": 85,
    "start_time": "2023-10-15T19:33:49.559Z"
   },
   {
    "duration": 19,
    "start_time": "2023-10-15T19:33:49.645Z"
   },
   {
    "duration": 140,
    "start_time": "2023-10-15T19:33:49.665Z"
   },
   {
    "duration": 17,
    "start_time": "2023-10-15T19:33:49.806Z"
   },
   {
    "duration": 51,
    "start_time": "2023-10-15T19:33:49.824Z"
   },
   {
    "duration": 6,
    "start_time": "2023-10-15T19:33:49.877Z"
   },
   {
    "duration": 19,
    "start_time": "2023-10-15T19:33:49.885Z"
   },
   {
    "duration": 542,
    "start_time": "2023-10-15T19:33:49.906Z"
   },
   {
    "duration": 369,
    "start_time": "2023-10-15T19:33:50.450Z"
   },
   {
    "duration": 113,
    "start_time": "2023-10-15T19:33:50.820Z"
   },
   {
    "duration": 0,
    "start_time": "2023-10-15T19:33:50.935Z"
   },
   {
    "duration": 0,
    "start_time": "2023-10-15T19:33:50.936Z"
   },
   {
    "duration": 0,
    "start_time": "2023-10-15T19:33:50.937Z"
   },
   {
    "duration": 0,
    "start_time": "2023-10-15T19:33:50.944Z"
   },
   {
    "duration": 1,
    "start_time": "2023-10-15T19:33:50.945Z"
   },
   {
    "duration": 0,
    "start_time": "2023-10-15T19:33:50.946Z"
   },
   {
    "duration": 843,
    "start_time": "2023-10-15T19:34:13.210Z"
   },
   {
    "duration": 3,
    "start_time": "2023-10-15T19:34:15.739Z"
   },
   {
    "duration": 16,
    "start_time": "2023-10-15T19:34:16.911Z"
   },
   {
    "duration": 3,
    "start_time": "2023-10-15T19:34:22.421Z"
   },
   {
    "duration": 12,
    "start_time": "2023-10-15T19:34:24.546Z"
   },
   {
    "duration": 4,
    "start_time": "2023-10-15T19:34:28.582Z"
   },
   {
    "duration": 144,
    "start_time": "2023-10-15T19:34:30.832Z"
   },
   {
    "duration": 11,
    "start_time": "2023-10-15T19:34:56.220Z"
   },
   {
    "duration": 159,
    "start_time": "2023-10-15T19:35:11.887Z"
   },
   {
    "duration": 13,
    "start_time": "2023-10-15T19:35:56.557Z"
   },
   {
    "duration": 99,
    "start_time": "2023-10-15T19:41:49.795Z"
   },
   {
    "duration": 98,
    "start_time": "2023-10-15T19:48:32.937Z"
   },
   {
    "duration": 120,
    "start_time": "2023-10-15T19:49:33.508Z"
   },
   {
    "duration": 3,
    "start_time": "2023-10-15T19:49:44.945Z"
   },
   {
    "duration": 5,
    "start_time": "2023-10-15T19:51:36.918Z"
   },
   {
    "duration": 6,
    "start_time": "2023-10-15T19:52:15.585Z"
   },
   {
    "duration": 83,
    "start_time": "2023-10-15T19:58:50.532Z"
   },
   {
    "duration": 89,
    "start_time": "2023-10-15T19:59:13.215Z"
   },
   {
    "duration": 5,
    "start_time": "2023-10-15T20:00:12.372Z"
   },
   {
    "duration": 103,
    "start_time": "2023-10-15T20:08:09.932Z"
   },
   {
    "duration": 11,
    "start_time": "2023-10-15T20:09:53.344Z"
   },
   {
    "duration": 1172,
    "start_time": "2023-10-15T20:35:00.130Z"
   },
   {
    "duration": 70,
    "start_time": "2023-10-15T20:35:01.304Z"
   },
   {
    "duration": 31,
    "start_time": "2023-10-15T20:35:01.375Z"
   },
   {
    "duration": 42,
    "start_time": "2023-10-15T20:35:01.408Z"
   },
   {
    "duration": 35,
    "start_time": "2023-10-15T20:35:01.451Z"
   },
   {
    "duration": 124,
    "start_time": "2023-10-15T20:35:01.488Z"
   },
   {
    "duration": 68,
    "start_time": "2023-10-15T20:35:01.614Z"
   },
   {
    "duration": 37,
    "start_time": "2023-10-15T20:35:01.683Z"
   },
   {
    "duration": 38,
    "start_time": "2023-10-15T20:35:01.722Z"
   },
   {
    "duration": 39,
    "start_time": "2023-10-15T20:35:01.762Z"
   },
   {
    "duration": 67,
    "start_time": "2023-10-15T20:35:01.802Z"
   },
   {
    "duration": 31,
    "start_time": "2023-10-15T20:35:01.870Z"
   },
   {
    "duration": 41,
    "start_time": "2023-10-15T20:35:01.902Z"
   },
   {
    "duration": 39,
    "start_time": "2023-10-15T20:35:01.945Z"
   },
   {
    "duration": 29,
    "start_time": "2023-10-15T20:35:01.986Z"
   },
   {
    "duration": 45,
    "start_time": "2023-10-15T20:35:02.017Z"
   },
   {
    "duration": 98,
    "start_time": "2023-10-15T20:35:02.063Z"
   },
   {
    "duration": 58,
    "start_time": "2023-10-15T20:35:02.162Z"
   },
   {
    "duration": 17,
    "start_time": "2023-10-15T20:35:02.222Z"
   },
   {
    "duration": 37,
    "start_time": "2023-10-15T20:35:02.240Z"
   },
   {
    "duration": 172,
    "start_time": "2023-10-15T20:35:02.279Z"
   },
   {
    "duration": 7,
    "start_time": "2023-10-15T20:35:02.452Z"
   },
   {
    "duration": 100,
    "start_time": "2023-10-15T20:35:02.461Z"
   },
   {
    "duration": 8,
    "start_time": "2023-10-15T20:35:02.563Z"
   },
   {
    "duration": 155,
    "start_time": "2023-10-15T20:35:02.572Z"
   },
   {
    "duration": 90,
    "start_time": "2023-10-15T20:35:02.728Z"
   },
   {
    "duration": 8,
    "start_time": "2023-10-15T20:35:02.820Z"
   },
   {
    "duration": 108,
    "start_time": "2023-10-15T20:35:02.844Z"
   },
   {
    "duration": 8,
    "start_time": "2023-10-15T20:35:02.954Z"
   },
   {
    "duration": 125,
    "start_time": "2023-10-15T20:35:02.963Z"
   },
   {
    "duration": 16,
    "start_time": "2023-10-15T20:35:03.089Z"
   },
   {
    "duration": 18,
    "start_time": "2023-10-15T20:35:03.106Z"
   },
   {
    "duration": 25,
    "start_time": "2023-10-15T20:35:03.126Z"
   },
   {
    "duration": 9,
    "start_time": "2023-10-15T20:35:03.152Z"
   },
   {
    "duration": 17,
    "start_time": "2023-10-15T20:35:03.163Z"
   },
   {
    "duration": 17,
    "start_time": "2023-10-15T20:35:03.181Z"
   },
   {
    "duration": 18,
    "start_time": "2023-10-15T20:35:03.199Z"
   },
   {
    "duration": 469,
    "start_time": "2023-10-15T20:35:03.218Z"
   },
   {
    "duration": 321,
    "start_time": "2023-10-15T20:35:03.688Z"
   },
   {
    "duration": 866,
    "start_time": "2023-10-15T20:35:04.010Z"
   },
   {
    "duration": 3,
    "start_time": "2023-10-15T20:35:04.877Z"
   },
   {
    "duration": 18,
    "start_time": "2023-10-15T20:35:04.881Z"
   },
   {
    "duration": 3,
    "start_time": "2023-10-15T20:35:04.901Z"
   },
   {
    "duration": 13,
    "start_time": "2023-10-15T20:35:04.905Z"
   },
   {
    "duration": 4,
    "start_time": "2023-10-15T20:35:04.920Z"
   },
   {
    "duration": 160,
    "start_time": "2023-10-15T20:35:04.925Z"
   },
   {
    "duration": 10,
    "start_time": "2023-10-15T20:35:05.087Z"
   },
   {
    "duration": 105,
    "start_time": "2023-10-15T20:35:05.098Z"
   },
   {
    "duration": 6,
    "start_time": "2023-10-15T20:35:05.205Z"
   },
   {
    "duration": 5,
    "start_time": "2023-10-15T20:35:05.212Z"
   },
   {
    "duration": 9,
    "start_time": "2023-10-15T20:35:05.218Z"
   },
   {
    "duration": 1243,
    "start_time": "2023-10-15T20:35:53.118Z"
   },
   {
    "duration": 68,
    "start_time": "2023-10-15T20:35:54.363Z"
   },
   {
    "duration": 11,
    "start_time": "2023-10-15T20:35:54.432Z"
   },
   {
    "duration": 3,
    "start_time": "2023-10-15T20:35:54.445Z"
   },
   {
    "duration": 14,
    "start_time": "2023-10-15T20:35:54.449Z"
   },
   {
    "duration": 15,
    "start_time": "2023-10-15T20:35:54.464Z"
   },
   {
    "duration": 8,
    "start_time": "2023-10-15T20:35:54.481Z"
   },
   {
    "duration": 8,
    "start_time": "2023-10-15T20:35:54.491Z"
   },
   {
    "duration": 12,
    "start_time": "2023-10-15T20:35:54.500Z"
   },
   {
    "duration": 40,
    "start_time": "2023-10-15T20:35:54.514Z"
   },
   {
    "duration": 6,
    "start_time": "2023-10-15T20:35:54.556Z"
   },
   {
    "duration": 11,
    "start_time": "2023-10-15T20:35:54.563Z"
   },
   {
    "duration": 12,
    "start_time": "2023-10-15T20:35:54.575Z"
   },
   {
    "duration": 16,
    "start_time": "2023-10-15T20:35:54.589Z"
   },
   {
    "duration": 5,
    "start_time": "2023-10-15T20:35:54.607Z"
   },
   {
    "duration": 15,
    "start_time": "2023-10-15T20:35:54.613Z"
   },
   {
    "duration": 17,
    "start_time": "2023-10-15T20:35:54.630Z"
   },
   {
    "duration": 7,
    "start_time": "2023-10-15T20:35:54.648Z"
   },
   {
    "duration": 7,
    "start_time": "2023-10-15T20:35:54.656Z"
   },
   {
    "duration": 7,
    "start_time": "2023-10-15T20:35:54.664Z"
   },
   {
    "duration": 166,
    "start_time": "2023-10-15T20:35:54.672Z"
   },
   {
    "duration": 6,
    "start_time": "2023-10-15T20:35:54.844Z"
   },
   {
    "duration": 85,
    "start_time": "2023-10-15T20:35:54.851Z"
   },
   {
    "duration": 7,
    "start_time": "2023-10-15T20:35:54.944Z"
   },
   {
    "duration": 150,
    "start_time": "2023-10-15T20:35:54.953Z"
   },
   {
    "duration": 98,
    "start_time": "2023-10-15T20:35:55.105Z"
   },
   {
    "duration": 8,
    "start_time": "2023-10-15T20:35:55.205Z"
   },
   {
    "duration": 114,
    "start_time": "2023-10-15T20:35:55.216Z"
   },
   {
    "duration": 16,
    "start_time": "2023-10-15T20:35:55.331Z"
   },
   {
    "duration": 103,
    "start_time": "2023-10-15T20:35:55.348Z"
   },
   {
    "duration": 15,
    "start_time": "2023-10-15T20:35:55.453Z"
   },
   {
    "duration": 17,
    "start_time": "2023-10-15T20:35:55.470Z"
   },
   {
    "duration": 8,
    "start_time": "2023-10-15T20:35:55.489Z"
   },
   {
    "duration": 27,
    "start_time": "2023-10-15T20:35:55.498Z"
   },
   {
    "duration": 29,
    "start_time": "2023-10-15T20:35:55.527Z"
   },
   {
    "duration": 6,
    "start_time": "2023-10-15T20:35:55.557Z"
   },
   {
    "duration": 18,
    "start_time": "2023-10-15T20:35:55.564Z"
   },
   {
    "duration": 457,
    "start_time": "2023-10-15T20:35:55.583Z"
   },
   {
    "duration": 347,
    "start_time": "2023-10-15T20:35:56.043Z"
   },
   {
    "duration": 743,
    "start_time": "2023-10-15T20:35:56.391Z"
   },
   {
    "duration": 3,
    "start_time": "2023-10-15T20:35:57.136Z"
   },
   {
    "duration": 15,
    "start_time": "2023-10-15T20:35:57.140Z"
   },
   {
    "duration": 6,
    "start_time": "2023-10-15T20:35:57.157Z"
   },
   {
    "duration": 12,
    "start_time": "2023-10-15T20:35:57.164Z"
   },
   {
    "duration": 14,
    "start_time": "2023-10-15T20:35:57.178Z"
   },
   {
    "duration": 173,
    "start_time": "2023-10-15T20:35:57.193Z"
   },
   {
    "duration": 11,
    "start_time": "2023-10-15T20:35:57.368Z"
   },
   {
    "duration": 18,
    "start_time": "2023-10-15T20:35:57.380Z"
   },
   {
    "duration": 7,
    "start_time": "2023-10-15T20:35:57.400Z"
   },
   {
    "duration": 12,
    "start_time": "2023-10-15T20:35:57.408Z"
   },
   {
    "duration": 23,
    "start_time": "2023-10-15T20:35:57.421Z"
   }
  ],
  "kernelspec": {
   "display_name": "Python 3 (ipykernel)",
   "language": "python",
   "name": "python3"
  },
  "language_info": {
   "codemirror_mode": {
    "name": "ipython",
    "version": 3
   },
   "file_extension": ".py",
   "mimetype": "text/x-python",
   "name": "python",
   "nbconvert_exporter": "python",
   "pygments_lexer": "ipython3",
   "version": "3.10.9"
  },
  "toc": {
   "base_numbering": 1,
   "nav_menu": {},
   "number_sections": true,
   "sideBar": true,
   "skip_h1_title": true,
   "title_cell": "Table of Contents",
   "title_sidebar": "Contents",
   "toc_cell": false,
   "toc_position": {},
   "toc_section_display": true,
   "toc_window_display": true
  }
 },
 "nbformat": 4,
 "nbformat_minor": 5
}
